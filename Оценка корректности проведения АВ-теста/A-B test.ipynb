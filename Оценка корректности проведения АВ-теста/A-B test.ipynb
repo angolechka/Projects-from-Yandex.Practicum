{
 "cells": [
  {
   "cell_type": "markdown",
   "metadata": {},
   "source": [
    "# A/B-тестирование"
   ]
  },
  {
   "cell_type": "markdown",
   "metadata": {},
   "source": [
    "## Постановка задачи\n",
    "\n",
    "Задача — провести оценку результатов A/B-теста. В распоряжении есть датасет с действиями пользователей, техническое задание и несколько вспомогательных датасетов.\n",
    "\n",
    "- Оценить корректность проведения теста\n",
    "- Проанализировать результаты теста\n",
    "\n",
    "Чтобы оценить корректность проведения теста, проверить:\n",
    "\n",
    "- пересечение тестовой аудитории с конкурирующим тестом,\n",
    "- совпадение теста и маркетинговых событий, другие проблемы временных границ теста."
   ]
  },
  {
   "cell_type": "markdown",
   "metadata": {},
   "source": [
    "## <a id='task'> Техническое задание </a>\n",
    "\n",
    "- Название теста: `recommender_system_test`;\n",
    "- группы: А — контрольная, B — новая платёжная воронка;\n",
    "- дата запуска: 2020-12-07;\n",
    "- дата остановки набора новых пользователей: 2020-12-21;\n",
    "- дата остановки: 2021-01-04;\n",
    "- аудитория: 15% новых пользователей из региона EU;\n",
    "- назначение теста: тестирование изменений, связанных с внедрением улучшенной рекомендательной системы;\n",
    "- ожидаемое количество участников теста: 6000.\n",
    "- ожидаемый эффект: за 14 дней с момента регистрации пользователи покажут улучшение каждой метрики не менее, чем на 10%:\n",
    "    - конверсии в просмотр карточек товаров — событие `product_page`,\n",
    "    - просмотры корзины — `product_cart`,\n",
    "    - покупки — `purchase`."
   ]
  },
  {
   "cell_type": "markdown",
   "metadata": {},
   "source": [
    "## Описание данных\n",
    "\n",
    "`ab_project_marketing_events.csv` — календарь маркетинговых событий на 2020 год.\n",
    "\n",
    "Структура файла:\n",
    "\n",
    "- `name` — название маркетингового события;\n",
    "- `regions` — регионы, в которых будет проводиться рекламная кампания;\n",
    "- `start_dt` — дата начала кампании;\n",
    "- `finish_dt` — дата завершения кампании.\n",
    "\n",
    "`final_ab_new_users.csv` — пользователи, зарегистрировавшиеся с 7 по 21 декабря 2020 года.\n",
    "\n",
    "Структура файла:\n",
    "\n",
    "- `user_id` — идентификатор пользователя;\n",
    "- `first_date` — дата регистрации;\n",
    "- `region` — регион пользователя;\n",
    "- `device` — устройство, с которого происходила регистрация.\n",
    "\n",
    "`final_ab_events.csv` — действия новых пользователей в период с 7 декабря 2020 по 4 января 2021 года.\n",
    "\n",
    "Структура файла:\n",
    "\n",
    "- `user_id` — идентификатор пользователя;\n",
    "- `event_dt` — дата и время покупки;\n",
    "- `event_name` — тип события;\n",
    "- `details` — дополнительные данные о событии. Например, для покупок, `purchase,` в этом поле хранится стоимость покупки в долларах.\n",
    "\n",
    "`final_ab_participants.csv` — таблица участников тестов.\n",
    "\n",
    "Структура файла:\n",
    "\n",
    "- `user_id` — идентификатор пользователя;\n",
    "- `ab_test` — название теста;\n",
    "- `group` — группа пользователя."
   ]
  },
  {
   "cell_type": "markdown",
   "metadata": {},
   "source": [
    "## План "
   ]
  },
  {
   "cell_type": "markdown",
   "metadata": {},
   "source": [
    "1. Описать цели исследования\n",
    "2. Исследовать данные:\n",
    "    * Требуется ли преобразование типов?\n",
    "    * Присутствуют ли пропущенные значения и дубликаты? Если да, то какова их природа?\n",
    "3. Оценить корректность проведения теста. Обратить внимание на:\n",
    "    * Соответствие данных требованиям технического задания. Проверить корректность всех пунктов технического задания\n",
    "    * Время проведения теста. Убедиться, что оно не совпадает с маркетинговыми и другими активностями\n",
    "    * Аудиторию теста. Удостовериться, что нет пересечений с конкурирующим тестом и нет пользователей, участвующих в двух группах теста одновременно. Проверить равномерность распределения пользователей по тестовым группам и правильность их формирования\n",
    "4. Провести исследовательский анализ данных:\n",
    "    * Количество событий на пользователя одинаково распределены в выборках?\n",
    "    * Как число событий в выборках распределено по дням?\n",
    "    * Как меняется конверсия в воронке в выборках на разных этапах?\n",
    "    * Какие особенности данных нужно учесть, прежде чем приступать к A/B-тестированию?\n",
    "5. Провести оценку результатов A/B-тестирования:\n",
    "    * Что можно сказать про результаты A/B-тестирования?\n",
    "    * Проверить статистическую разницу долей z-критерием\n",
    "6. Описать выводы по этапу исследовательского анализа данных и по проведённой оценке результатов A/B-тестирования. Сделать общее заключение о корректности проведения теста"
   ]
  },
  {
   "cell_type": "markdown",
   "metadata": {},
   "source": [
    "## Цели исследования"
   ]
  },
  {
   "cell_type": "markdown",
   "metadata": {},
   "source": [
    "1. Оценить корректность проведения теста\n",
    "2. Проанализировать результаты теста"
   ]
  },
  {
   "cell_type": "markdown",
   "metadata": {},
   "source": [
    "## Ход исследования"
   ]
  },
  {
   "cell_type": "markdown",
   "metadata": {},
   "source": [
    "1. [Загрузка данных](#start) \n",
    "2. [Изучение общей информации и предобработка данных](#preprocessing)\n",
    "3. [Оценка корректности проведения теста](#test)\n",
    "4. [Анализ данных](#analysis)\n",
    "5. [Оценка результатов A/B-тестирования](#A_B)\n",
    "6. [Выводы](#conclusion)"
   ]
  },
  {
   "cell_type": "markdown",
   "metadata": {},
   "source": [
    "### <a id='start'> Загрузка данных </a>  "
   ]
  },
  {
   "cell_type": "code",
   "execution_count": 1,
   "metadata": {},
   "outputs": [
    {
     "name": "stdout",
     "output_type": "stream",
     "text": [
      "Requirement already satisfied: cufflinks in /opt/conda/lib/python3.9/site-packages (0.17.3)\n",
      "Requirement already satisfied: setuptools>=34.4.1 in /opt/conda/lib/python3.9/site-packages (from cufflinks) (49.6.0.post20210108)\n",
      "Requirement already satisfied: pandas>=0.19.2 in /opt/conda/lib/python3.9/site-packages (from cufflinks) (1.2.4)\n",
      "Requirement already satisfied: six>=1.9.0 in /opt/conda/lib/python3.9/site-packages (from cufflinks) (1.16.0)\n",
      "Requirement already satisfied: ipython>=5.3.0 in /opt/conda/lib/python3.9/site-packages (from cufflinks) (7.25.0)\n",
      "Requirement already satisfied: colorlover>=0.2.1 in /opt/conda/lib/python3.9/site-packages (from cufflinks) (0.3.0)\n",
      "Requirement already satisfied: plotly>=4.1.1 in /opt/conda/lib/python3.9/site-packages (from cufflinks) (5.4.0)\n",
      "Requirement already satisfied: ipywidgets>=7.0.0 in /opt/conda/lib/python3.9/site-packages (from cufflinks) (7.6.3)\n",
      "Requirement already satisfied: numpy>=1.9.2 in /opt/conda/lib/python3.9/site-packages (from cufflinks) (1.21.1)\n",
      "Requirement already satisfied: pickleshare in /opt/conda/lib/python3.9/site-packages (from ipython>=5.3.0->cufflinks) (0.7.5)\n",
      "Requirement already satisfied: traitlets>=4.2 in /opt/conda/lib/python3.9/site-packages (from ipython>=5.3.0->cufflinks) (5.0.5)\n",
      "Requirement already satisfied: pygments in /opt/conda/lib/python3.9/site-packages (from ipython>=5.3.0->cufflinks) (2.9.0)\n",
      "Requirement already satisfied: prompt-toolkit!=3.0.0,!=3.0.1,<3.1.0,>=2.0.0 in /opt/conda/lib/python3.9/site-packages (from ipython>=5.3.0->cufflinks) (3.0.19)\n",
      "Requirement already satisfied: jedi>=0.16 in /opt/conda/lib/python3.9/site-packages (from ipython>=5.3.0->cufflinks) (0.18.0)\n",
      "Requirement already satisfied: pexpect>4.3 in /opt/conda/lib/python3.9/site-packages (from ipython>=5.3.0->cufflinks) (4.8.0)\n",
      "Requirement already satisfied: backcall in /opt/conda/lib/python3.9/site-packages (from ipython>=5.3.0->cufflinks) (0.2.0)\n",
      "Requirement already satisfied: matplotlib-inline in /opt/conda/lib/python3.9/site-packages (from ipython>=5.3.0->cufflinks) (0.1.2)\n",
      "Requirement already satisfied: decorator in /opt/conda/lib/python3.9/site-packages (from ipython>=5.3.0->cufflinks) (5.0.9)\n",
      "Requirement already satisfied: widgetsnbextension~=3.5.0 in /opt/conda/lib/python3.9/site-packages (from ipywidgets>=7.0.0->cufflinks) (3.5.2)\n",
      "Requirement already satisfied: jupyterlab-widgets>=1.0.0 in /opt/conda/lib/python3.9/site-packages (from ipywidgets>=7.0.0->cufflinks) (3.0.2)\n",
      "Requirement already satisfied: ipykernel>=4.5.1 in /opt/conda/lib/python3.9/site-packages (from ipywidgets>=7.0.0->cufflinks) (6.0.1)\n",
      "Requirement already satisfied: nbformat>=4.2.0 in /opt/conda/lib/python3.9/site-packages (from ipywidgets>=7.0.0->cufflinks) (5.1.3)\n",
      "Requirement already satisfied: jupyter-client in /opt/conda/lib/python3.9/site-packages (from ipykernel>=4.5.1->ipywidgets>=7.0.0->cufflinks) (6.1.12)\n",
      "Requirement already satisfied: debugpy>=1.0.0 in /opt/conda/lib/python3.9/site-packages (from ipykernel>=4.5.1->ipywidgets>=7.0.0->cufflinks) (1.3.0)\n",
      "Requirement already satisfied: tornado>=4.2 in /opt/conda/lib/python3.9/site-packages (from ipykernel>=4.5.1->ipywidgets>=7.0.0->cufflinks) (6.1)\n",
      "Requirement already satisfied: parso<0.9.0,>=0.8.0 in /opt/conda/lib/python3.9/site-packages (from jedi>=0.16->ipython>=5.3.0->cufflinks) (0.8.2)\n",
      "Requirement already satisfied: jsonschema!=2.5.0,>=2.4 in /opt/conda/lib/python3.9/site-packages (from nbformat>=4.2.0->ipywidgets>=7.0.0->cufflinks) (3.2.0)\n",
      "Requirement already satisfied: jupyter-core in /opt/conda/lib/python3.9/site-packages (from nbformat>=4.2.0->ipywidgets>=7.0.0->cufflinks) (4.7.1)\n",
      "Requirement already satisfied: ipython-genutils in /opt/conda/lib/python3.9/site-packages (from nbformat>=4.2.0->ipywidgets>=7.0.0->cufflinks) (0.2.0)\n",
      "Requirement already satisfied: pyrsistent>=0.14.0 in /opt/conda/lib/python3.9/site-packages (from jsonschema!=2.5.0,>=2.4->nbformat>=4.2.0->ipywidgets>=7.0.0->cufflinks) (0.17.3)\n",
      "Requirement already satisfied: attrs>=17.4.0 in /opt/conda/lib/python3.9/site-packages (from jsonschema!=2.5.0,>=2.4->nbformat>=4.2.0->ipywidgets>=7.0.0->cufflinks) (21.2.0)\n",
      "Requirement already satisfied: python-dateutil>=2.7.3 in /opt/conda/lib/python3.9/site-packages (from pandas>=0.19.2->cufflinks) (2.8.1)\n",
      "Requirement already satisfied: pytz>=2017.3 in /opt/conda/lib/python3.9/site-packages (from pandas>=0.19.2->cufflinks) (2021.1)\n",
      "Requirement already satisfied: ptyprocess>=0.5 in /opt/conda/lib/python3.9/site-packages (from pexpect>4.3->ipython>=5.3.0->cufflinks) (0.7.0)\n",
      "Requirement already satisfied: tenacity>=6.2.0 in /opt/conda/lib/python3.9/site-packages (from plotly>=4.1.1->cufflinks) (8.0.1)\n",
      "Requirement already satisfied: wcwidth in /opt/conda/lib/python3.9/site-packages (from prompt-toolkit!=3.0.0,!=3.0.1,<3.1.0,>=2.0.0->ipython>=5.3.0->cufflinks) (0.2.5)\n",
      "Requirement already satisfied: notebook>=4.4.1 in /opt/conda/lib/python3.9/site-packages (from widgetsnbextension~=3.5.0->ipywidgets>=7.0.0->cufflinks) (6.4.0)\n",
      "Requirement already satisfied: nbconvert in /opt/conda/lib/python3.9/site-packages (from notebook>=4.4.1->widgetsnbextension~=3.5.0->ipywidgets>=7.0.0->cufflinks) (6.1.0)\n",
      "Requirement already satisfied: terminado>=0.8.3 in /opt/conda/lib/python3.9/site-packages (from notebook>=4.4.1->widgetsnbextension~=3.5.0->ipywidgets>=7.0.0->cufflinks) (0.10.1)\n",
      "Requirement already satisfied: prometheus-client in /opt/conda/lib/python3.9/site-packages (from notebook>=4.4.1->widgetsnbextension~=3.5.0->ipywidgets>=7.0.0->cufflinks) (0.11.0)\n",
      "Requirement already satisfied: Send2Trash>=1.5.0 in /opt/conda/lib/python3.9/site-packages (from notebook>=4.4.1->widgetsnbextension~=3.5.0->ipywidgets>=7.0.0->cufflinks) (1.7.1)\n",
      "Requirement already satisfied: pyzmq>=17 in /opt/conda/lib/python3.9/site-packages (from notebook>=4.4.1->widgetsnbextension~=3.5.0->ipywidgets>=7.0.0->cufflinks) (22.1.0)\n",
      "Requirement already satisfied: argon2-cffi in /opt/conda/lib/python3.9/site-packages (from notebook>=4.4.1->widgetsnbextension~=3.5.0->ipywidgets>=7.0.0->cufflinks) (20.1.0)\n",
      "Requirement already satisfied: jinja2 in /opt/conda/lib/python3.9/site-packages (from notebook>=4.4.1->widgetsnbextension~=3.5.0->ipywidgets>=7.0.0->cufflinks) (3.0.1)\n",
      "Requirement already satisfied: cffi>=1.0.0 in /opt/conda/lib/python3.9/site-packages (from argon2-cffi->notebook>=4.4.1->widgetsnbextension~=3.5.0->ipywidgets>=7.0.0->cufflinks) (1.14.5)\n",
      "Requirement already satisfied: pycparser in /opt/conda/lib/python3.9/site-packages (from cffi>=1.0.0->argon2-cffi->notebook>=4.4.1->widgetsnbextension~=3.5.0->ipywidgets>=7.0.0->cufflinks) (2.20)\n",
      "Requirement already satisfied: MarkupSafe>=2.0 in /opt/conda/lib/python3.9/site-packages (from jinja2->notebook>=4.4.1->widgetsnbextension~=3.5.0->ipywidgets>=7.0.0->cufflinks) (2.1.1)\n",
      "Requirement already satisfied: jupyterlab-pygments in /opt/conda/lib/python3.9/site-packages (from nbconvert->notebook>=4.4.1->widgetsnbextension~=3.5.0->ipywidgets>=7.0.0->cufflinks) (0.1.2)\n",
      "Requirement already satisfied: pandocfilters>=1.4.1 in /opt/conda/lib/python3.9/site-packages (from nbconvert->notebook>=4.4.1->widgetsnbextension~=3.5.0->ipywidgets>=7.0.0->cufflinks) (1.4.2)\n",
      "Requirement already satisfied: mistune<2,>=0.8.1 in /opt/conda/lib/python3.9/site-packages (from nbconvert->notebook>=4.4.1->widgetsnbextension~=3.5.0->ipywidgets>=7.0.0->cufflinks) (0.8.4)\n",
      "Requirement already satisfied: testpath in /opt/conda/lib/python3.9/site-packages (from nbconvert->notebook>=4.4.1->widgetsnbextension~=3.5.0->ipywidgets>=7.0.0->cufflinks) (0.5.0)\n",
      "Requirement already satisfied: bleach in /opt/conda/lib/python3.9/site-packages (from nbconvert->notebook>=4.4.1->widgetsnbextension~=3.5.0->ipywidgets>=7.0.0->cufflinks) (3.3.0)\n",
      "Requirement already satisfied: entrypoints>=0.2.2 in /opt/conda/lib/python3.9/site-packages (from nbconvert->notebook>=4.4.1->widgetsnbextension~=3.5.0->ipywidgets>=7.0.0->cufflinks) (0.3)\n",
      "Requirement already satisfied: defusedxml in /opt/conda/lib/python3.9/site-packages (from nbconvert->notebook>=4.4.1->widgetsnbextension~=3.5.0->ipywidgets>=7.0.0->cufflinks) (0.7.1)\n",
      "Requirement already satisfied: nbclient<0.6.0,>=0.5.0 in /opt/conda/lib/python3.9/site-packages (from nbconvert->notebook>=4.4.1->widgetsnbextension~=3.5.0->ipywidgets>=7.0.0->cufflinks) (0.5.3)\n",
      "Requirement already satisfied: async-generator in /opt/conda/lib/python3.9/site-packages (from nbclient<0.6.0,>=0.5.0->nbconvert->notebook>=4.4.1->widgetsnbextension~=3.5.0->ipywidgets>=7.0.0->cufflinks) (1.10)\n",
      "Requirement already satisfied: nest-asyncio in /opt/conda/lib/python3.9/site-packages (from nbclient<0.6.0,>=0.5.0->nbconvert->notebook>=4.4.1->widgetsnbextension~=3.5.0->ipywidgets>=7.0.0->cufflinks) (1.5.1)\n",
      "Requirement already satisfied: packaging in /opt/conda/lib/python3.9/site-packages (from bleach->nbconvert->notebook>=4.4.1->widgetsnbextension~=3.5.0->ipywidgets>=7.0.0->cufflinks) (21.3)\n",
      "Requirement already satisfied: webencodings in /opt/conda/lib/python3.9/site-packages (from bleach->nbconvert->notebook>=4.4.1->widgetsnbextension~=3.5.0->ipywidgets>=7.0.0->cufflinks) (0.5.1)\n",
      "Requirement already satisfied: pyparsing!=3.0.5,>=2.0.2 in /opt/conda/lib/python3.9/site-packages (from packaging->bleach->nbconvert->notebook>=4.4.1->widgetsnbextension~=3.5.0->ipywidgets>=7.0.0->cufflinks) (2.4.7)\n",
      "Note: you may need to restart the kernel to use updated packages.\n"
     ]
    }
   ],
   "source": [
    "pip install cufflinks"
   ]
  },
  {
   "cell_type": "code",
   "execution_count": 2,
   "metadata": {},
   "outputs": [
    {
     "data": {
      "text/html": [
       "        <script type=\"text/javascript\">\n",
       "        window.PlotlyConfig = {MathJaxConfig: 'local'};\n",
       "        if (window.MathJax) {MathJax.Hub.Config({SVG: {font: \"STIX-Web\"}});}\n",
       "        if (typeof require !== 'undefined') {\n",
       "        require.undef(\"plotly\");\n",
       "        requirejs.config({\n",
       "            paths: {\n",
       "                'plotly': ['https://cdn.plot.ly/plotly-2.6.3.min']\n",
       "            }\n",
       "        });\n",
       "        require(['plotly'], function(Plotly) {\n",
       "            window._Plotly = Plotly;\n",
       "        });\n",
       "        }\n",
       "        </script>\n",
       "        "
      ]
     },
     "metadata": {},
     "output_type": "display_data"
    }
   ],
   "source": [
    "# импортируем все библиотеки, которые будут нужны для выполнения исследования\n",
    "\n",
    "import pandas as pd\n",
    "import matplotlib.pyplot as plt\n",
    "import seaborn as sns\n",
    "import numpy as np\n",
    "import math as mth\n",
    "from scipy import stats as st\n",
    "from datetime import datetime as dt\n",
    "from datetime import timedelta\n",
    "import plotly.express as px\n",
    "from plotly import graph_objects as go\n",
    "from statsmodels.stats.proportion import proportions_ztest\n",
    "import cufflinks as cf"
   ]
  },
  {
   "cell_type": "code",
   "execution_count": 3,
   "metadata": {},
   "outputs": [],
   "source": [
    "# откроем рабочие файлы\n",
    "\n",
    "try:\n",
    "    final_ab_events_raw = pd.read_csv('/datasets/final_ab_events.csv')\n",
    "except:\n",
    "    final_ab_events_raw = pd.read_csv('https://disk.yandex.ru/d/pgKgZ9lRp0Enwg')\n",
    "    \n",
    "try:\n",
    "    ab_project_marketing_events_raw = pd.read_csv('/datasets/ab_project_marketing_events.csv')\n",
    "except:\n",
    "    ab_project_marketing_events_raw = pd.read_csv('https://disk.yandex.ru/d/ZVC7GUYYckKnGQ')\n",
    "    \n",
    "try:\n",
    "    final_ab_new_users_raw = pd.read_csv('/datasets/final_ab_new_users.csv')\n",
    "except:\n",
    "    final_ab_new_users_raw = pd.read_csv('https://disk.yandex.ru/d/Qrto8Gerpu424g')\n",
    "    \n",
    "try:\n",
    "    final_ab_participants_raw = pd.read_csv('/datasets/final_ab_participants.csv')\n",
    "except:\n",
    "    final_ab_participants_raw = pd.read_csv('https://disk.yandex.ru/d/nhGUR3ZkNIG4VA')"
   ]
  },
  {
   "cell_type": "code",
   "execution_count": 4,
   "metadata": {},
   "outputs": [],
   "source": [
    "# создадим копии датафреймов\n",
    "\n",
    "final_ab_events = final_ab_events_raw.copy(deep=True)\n",
    "ab_project_marketing = ab_project_marketing_events_raw.copy(deep=True)\n",
    "final_ab_new_users = final_ab_new_users_raw.copy(deep=True)\n",
    "final_ab_participants = final_ab_participants_raw.copy(deep=True)"
   ]
  },
  {
   "cell_type": "markdown",
   "metadata": {},
   "source": [
    "### <a id='preprocessing'> Изучение общей информации и предобработка данных </a>"
   ]
  },
  {
   "cell_type": "code",
   "execution_count": 5,
   "metadata": {},
   "outputs": [],
   "source": [
    "# создадим функцию для вывода предобработки данных\n",
    "\n",
    "def info(data):\n",
    "    # посмотрим общую информацию о файле \n",
    "    print('Общая информация о датафрейме:')\n",
    "    data.info()\n",
    "    \n",
    "    # выведем на экран 5 строчек таблицы\n",
    "    \n",
    "    pd.options.display.max_colwidth = 100\n",
    "    pd.set_option('display.max_columns', 20)\n",
    "    display(data.head(5))\n",
    "    \n",
    "    # посчитаем количество пропущенных значений\n",
    "\n",
    "    print('Количество пропущенных значений:')\n",
    "    print(data.isna().sum().sort_values(ascending=False))\n",
    "    \n",
    "    # посчитаем количество полных дубликатов\n",
    "\n",
    "    print()\n",
    "    print('Количество полных дубликатов: ', data.duplicated().sum())"
   ]
  },
  {
   "cell_type": "code",
   "execution_count": 6,
   "metadata": {},
   "outputs": [
    {
     "name": "stdout",
     "output_type": "stream",
     "text": [
      "Общая информация о датафрейме:\n",
      "<class 'pandas.core.frame.DataFrame'>\n",
      "RangeIndex: 440317 entries, 0 to 440316\n",
      "Data columns (total 4 columns):\n",
      " #   Column      Non-Null Count   Dtype  \n",
      "---  ------      --------------   -----  \n",
      " 0   user_id     440317 non-null  object \n",
      " 1   event_dt    440317 non-null  object \n",
      " 2   event_name  440317 non-null  object \n",
      " 3   details     62740 non-null   float64\n",
      "dtypes: float64(1), object(3)\n",
      "memory usage: 13.4+ MB\n"
     ]
    },
    {
     "data": {
      "text/html": [
       "<div>\n",
       "<style scoped>\n",
       "    .dataframe tbody tr th:only-of-type {\n",
       "        vertical-align: middle;\n",
       "    }\n",
       "\n",
       "    .dataframe tbody tr th {\n",
       "        vertical-align: top;\n",
       "    }\n",
       "\n",
       "    .dataframe thead th {\n",
       "        text-align: right;\n",
       "    }\n",
       "</style>\n",
       "<table border=\"1\" class=\"dataframe\">\n",
       "  <thead>\n",
       "    <tr style=\"text-align: right;\">\n",
       "      <th></th>\n",
       "      <th>user_id</th>\n",
       "      <th>event_dt</th>\n",
       "      <th>event_name</th>\n",
       "      <th>details</th>\n",
       "    </tr>\n",
       "  </thead>\n",
       "  <tbody>\n",
       "    <tr>\n",
       "      <th>0</th>\n",
       "      <td>E1BDDCE0DAFA2679</td>\n",
       "      <td>2020-12-07 20:22:03</td>\n",
       "      <td>purchase</td>\n",
       "      <td>99.99</td>\n",
       "    </tr>\n",
       "    <tr>\n",
       "      <th>1</th>\n",
       "      <td>7B6452F081F49504</td>\n",
       "      <td>2020-12-07 09:22:53</td>\n",
       "      <td>purchase</td>\n",
       "      <td>9.99</td>\n",
       "    </tr>\n",
       "    <tr>\n",
       "      <th>2</th>\n",
       "      <td>9CD9F34546DF254C</td>\n",
       "      <td>2020-12-07 12:59:29</td>\n",
       "      <td>purchase</td>\n",
       "      <td>4.99</td>\n",
       "    </tr>\n",
       "    <tr>\n",
       "      <th>3</th>\n",
       "      <td>96F27A054B191457</td>\n",
       "      <td>2020-12-07 04:02:40</td>\n",
       "      <td>purchase</td>\n",
       "      <td>4.99</td>\n",
       "    </tr>\n",
       "    <tr>\n",
       "      <th>4</th>\n",
       "      <td>1FD7660FDF94CA1F</td>\n",
       "      <td>2020-12-07 10:15:09</td>\n",
       "      <td>purchase</td>\n",
       "      <td>4.99</td>\n",
       "    </tr>\n",
       "  </tbody>\n",
       "</table>\n",
       "</div>"
      ],
      "text/plain": [
       "            user_id             event_dt event_name  details\n",
       "0  E1BDDCE0DAFA2679  2020-12-07 20:22:03   purchase    99.99\n",
       "1  7B6452F081F49504  2020-12-07 09:22:53   purchase     9.99\n",
       "2  9CD9F34546DF254C  2020-12-07 12:59:29   purchase     4.99\n",
       "3  96F27A054B191457  2020-12-07 04:02:40   purchase     4.99\n",
       "4  1FD7660FDF94CA1F  2020-12-07 10:15:09   purchase     4.99"
      ]
     },
     "metadata": {},
     "output_type": "display_data"
    },
    {
     "name": "stdout",
     "output_type": "stream",
     "text": [
      "Количество пропущенных значений:\n",
      "details       377577\n",
      "user_id            0\n",
      "event_dt           0\n",
      "event_name         0\n",
      "dtype: int64\n",
      "\n",
      "Количество полных дубликатов:  0\n"
     ]
    }
   ],
   "source": [
    "# рассмотрим датафрейм final_ab_events\n",
    "\n",
    "info(final_ab_events)"
   ]
  },
  {
   "cell_type": "code",
   "execution_count": 7,
   "metadata": {},
   "outputs": [
    {
     "data": {
      "text/plain": [
       "user_id       0\n",
       "event_dt      0\n",
       "event_name    0\n",
       "details       0\n",
       "dtype: int64"
      ]
     },
     "execution_count": 7,
     "metadata": {},
     "output_type": "execute_result"
    }
   ],
   "source": [
    "final_ab_events.query('event_name == \"purchase\"').isna().sum()"
   ]
  },
  {
   "cell_type": "markdown",
   "metadata": {},
   "source": [
    "> В колонке `details` указывались дополнительные данные, такие как сумма покупки. В событиях *purchase* пропусков нет, следовательно, с данными все корректно."
   ]
  },
  {
   "cell_type": "code",
   "execution_count": 8,
   "metadata": {},
   "outputs": [],
   "source": [
    "# приведем дату в колонке event_dt к нужному типу\n",
    "\n",
    "final_ab_events['event_dt'] = pd.to_datetime(final_ab_events['event_dt'])"
   ]
  },
  {
   "cell_type": "code",
   "execution_count": 9,
   "metadata": {},
   "outputs": [
    {
     "name": "stdout",
     "output_type": "stream",
     "text": [
      "Общая информация о датафрейме:\n",
      "<class 'pandas.core.frame.DataFrame'>\n",
      "RangeIndex: 14 entries, 0 to 13\n",
      "Data columns (total 4 columns):\n",
      " #   Column     Non-Null Count  Dtype \n",
      "---  ------     --------------  ----- \n",
      " 0   name       14 non-null     object\n",
      " 1   regions    14 non-null     object\n",
      " 2   start_dt   14 non-null     object\n",
      " 3   finish_dt  14 non-null     object\n",
      "dtypes: object(4)\n",
      "memory usage: 576.0+ bytes\n"
     ]
    },
    {
     "data": {
      "text/html": [
       "<div>\n",
       "<style scoped>\n",
       "    .dataframe tbody tr th:only-of-type {\n",
       "        vertical-align: middle;\n",
       "    }\n",
       "\n",
       "    .dataframe tbody tr th {\n",
       "        vertical-align: top;\n",
       "    }\n",
       "\n",
       "    .dataframe thead th {\n",
       "        text-align: right;\n",
       "    }\n",
       "</style>\n",
       "<table border=\"1\" class=\"dataframe\">\n",
       "  <thead>\n",
       "    <tr style=\"text-align: right;\">\n",
       "      <th></th>\n",
       "      <th>name</th>\n",
       "      <th>regions</th>\n",
       "      <th>start_dt</th>\n",
       "      <th>finish_dt</th>\n",
       "    </tr>\n",
       "  </thead>\n",
       "  <tbody>\n",
       "    <tr>\n",
       "      <th>0</th>\n",
       "      <td>Christmas&amp;New Year Promo</td>\n",
       "      <td>EU, N.America</td>\n",
       "      <td>2020-12-25</td>\n",
       "      <td>2021-01-03</td>\n",
       "    </tr>\n",
       "    <tr>\n",
       "      <th>1</th>\n",
       "      <td>St. Valentine's Day Giveaway</td>\n",
       "      <td>EU, CIS, APAC, N.America</td>\n",
       "      <td>2020-02-14</td>\n",
       "      <td>2020-02-16</td>\n",
       "    </tr>\n",
       "    <tr>\n",
       "      <th>2</th>\n",
       "      <td>St. Patric's Day Promo</td>\n",
       "      <td>EU, N.America</td>\n",
       "      <td>2020-03-17</td>\n",
       "      <td>2020-03-19</td>\n",
       "    </tr>\n",
       "    <tr>\n",
       "      <th>3</th>\n",
       "      <td>Easter Promo</td>\n",
       "      <td>EU, CIS, APAC, N.America</td>\n",
       "      <td>2020-04-12</td>\n",
       "      <td>2020-04-19</td>\n",
       "    </tr>\n",
       "    <tr>\n",
       "      <th>4</th>\n",
       "      <td>4th of July Promo</td>\n",
       "      <td>N.America</td>\n",
       "      <td>2020-07-04</td>\n",
       "      <td>2020-07-11</td>\n",
       "    </tr>\n",
       "  </tbody>\n",
       "</table>\n",
       "</div>"
      ],
      "text/plain": [
       "                           name                   regions    start_dt  \\\n",
       "0      Christmas&New Year Promo             EU, N.America  2020-12-25   \n",
       "1  St. Valentine's Day Giveaway  EU, CIS, APAC, N.America  2020-02-14   \n",
       "2        St. Patric's Day Promo             EU, N.America  2020-03-17   \n",
       "3                  Easter Promo  EU, CIS, APAC, N.America  2020-04-12   \n",
       "4             4th of July Promo                 N.America  2020-07-04   \n",
       "\n",
       "    finish_dt  \n",
       "0  2021-01-03  \n",
       "1  2020-02-16  \n",
       "2  2020-03-19  \n",
       "3  2020-04-19  \n",
       "4  2020-07-11  "
      ]
     },
     "metadata": {},
     "output_type": "display_data"
    },
    {
     "name": "stdout",
     "output_type": "stream",
     "text": [
      "Количество пропущенных значений:\n",
      "name         0\n",
      "regions      0\n",
      "start_dt     0\n",
      "finish_dt    0\n",
      "dtype: int64\n",
      "\n",
      "Количество полных дубликатов:  0\n"
     ]
    }
   ],
   "source": [
    "# рассмотрим датафрейм ab_project_marketing\n",
    "\n",
    "info(ab_project_marketing)"
   ]
  },
  {
   "cell_type": "code",
   "execution_count": 10,
   "metadata": {},
   "outputs": [],
   "source": [
    "# приведем дату в колонках start_dt и finish_dt к нужному типу\n",
    "\n",
    "ab_project_marketing['start_dt'] = pd.to_datetime(ab_project_marketing['start_dt'])\n",
    "ab_project_marketing['finish_dt'] = pd.to_datetime(ab_project_marketing['finish_dt'])"
   ]
  },
  {
   "cell_type": "code",
   "execution_count": 11,
   "metadata": {},
   "outputs": [
    {
     "name": "stdout",
     "output_type": "stream",
     "text": [
      "Общая информация о датафрейме:\n",
      "<class 'pandas.core.frame.DataFrame'>\n",
      "RangeIndex: 61733 entries, 0 to 61732\n",
      "Data columns (total 4 columns):\n",
      " #   Column      Non-Null Count  Dtype \n",
      "---  ------      --------------  ----- \n",
      " 0   user_id     61733 non-null  object\n",
      " 1   first_date  61733 non-null  object\n",
      " 2   region      61733 non-null  object\n",
      " 3   device      61733 non-null  object\n",
      "dtypes: object(4)\n",
      "memory usage: 1.9+ MB\n"
     ]
    },
    {
     "data": {
      "text/html": [
       "<div>\n",
       "<style scoped>\n",
       "    .dataframe tbody tr th:only-of-type {\n",
       "        vertical-align: middle;\n",
       "    }\n",
       "\n",
       "    .dataframe tbody tr th {\n",
       "        vertical-align: top;\n",
       "    }\n",
       "\n",
       "    .dataframe thead th {\n",
       "        text-align: right;\n",
       "    }\n",
       "</style>\n",
       "<table border=\"1\" class=\"dataframe\">\n",
       "  <thead>\n",
       "    <tr style=\"text-align: right;\">\n",
       "      <th></th>\n",
       "      <th>user_id</th>\n",
       "      <th>first_date</th>\n",
       "      <th>region</th>\n",
       "      <th>device</th>\n",
       "    </tr>\n",
       "  </thead>\n",
       "  <tbody>\n",
       "    <tr>\n",
       "      <th>0</th>\n",
       "      <td>D72A72121175D8BE</td>\n",
       "      <td>2020-12-07</td>\n",
       "      <td>EU</td>\n",
       "      <td>PC</td>\n",
       "    </tr>\n",
       "    <tr>\n",
       "      <th>1</th>\n",
       "      <td>F1C668619DFE6E65</td>\n",
       "      <td>2020-12-07</td>\n",
       "      <td>N.America</td>\n",
       "      <td>Android</td>\n",
       "    </tr>\n",
       "    <tr>\n",
       "      <th>2</th>\n",
       "      <td>2E1BF1D4C37EA01F</td>\n",
       "      <td>2020-12-07</td>\n",
       "      <td>EU</td>\n",
       "      <td>PC</td>\n",
       "    </tr>\n",
       "    <tr>\n",
       "      <th>3</th>\n",
       "      <td>50734A22C0C63768</td>\n",
       "      <td>2020-12-07</td>\n",
       "      <td>EU</td>\n",
       "      <td>iPhone</td>\n",
       "    </tr>\n",
       "    <tr>\n",
       "      <th>4</th>\n",
       "      <td>E1BDDCE0DAFA2679</td>\n",
       "      <td>2020-12-07</td>\n",
       "      <td>N.America</td>\n",
       "      <td>iPhone</td>\n",
       "    </tr>\n",
       "  </tbody>\n",
       "</table>\n",
       "</div>"
      ],
      "text/plain": [
       "            user_id  first_date     region   device\n",
       "0  D72A72121175D8BE  2020-12-07         EU       PC\n",
       "1  F1C668619DFE6E65  2020-12-07  N.America  Android\n",
       "2  2E1BF1D4C37EA01F  2020-12-07         EU       PC\n",
       "3  50734A22C0C63768  2020-12-07         EU   iPhone\n",
       "4  E1BDDCE0DAFA2679  2020-12-07  N.America   iPhone"
      ]
     },
     "metadata": {},
     "output_type": "display_data"
    },
    {
     "name": "stdout",
     "output_type": "stream",
     "text": [
      "Количество пропущенных значений:\n",
      "user_id       0\n",
      "first_date    0\n",
      "region        0\n",
      "device        0\n",
      "dtype: int64\n",
      "\n",
      "Количество полных дубликатов:  0\n"
     ]
    }
   ],
   "source": [
    "# рассмотрим датафрейм final_ab_new_users\n",
    "\n",
    "info(final_ab_new_users)"
   ]
  },
  {
   "cell_type": "code",
   "execution_count": 12,
   "metadata": {},
   "outputs": [],
   "source": [
    "# приведем дату в колонке first_date к нужному типу\n",
    "\n",
    "final_ab_new_users['first_date'] = pd.to_datetime(final_ab_new_users['first_date'])"
   ]
  },
  {
   "cell_type": "code",
   "execution_count": 13,
   "metadata": {},
   "outputs": [
    {
     "name": "stdout",
     "output_type": "stream",
     "text": [
      "Общая информация о датафрейме:\n",
      "<class 'pandas.core.frame.DataFrame'>\n",
      "RangeIndex: 18268 entries, 0 to 18267\n",
      "Data columns (total 3 columns):\n",
      " #   Column   Non-Null Count  Dtype \n",
      "---  ------   --------------  ----- \n",
      " 0   user_id  18268 non-null  object\n",
      " 1   group    18268 non-null  object\n",
      " 2   ab_test  18268 non-null  object\n",
      "dtypes: object(3)\n",
      "memory usage: 428.3+ KB\n"
     ]
    },
    {
     "data": {
      "text/html": [
       "<div>\n",
       "<style scoped>\n",
       "    .dataframe tbody tr th:only-of-type {\n",
       "        vertical-align: middle;\n",
       "    }\n",
       "\n",
       "    .dataframe tbody tr th {\n",
       "        vertical-align: top;\n",
       "    }\n",
       "\n",
       "    .dataframe thead th {\n",
       "        text-align: right;\n",
       "    }\n",
       "</style>\n",
       "<table border=\"1\" class=\"dataframe\">\n",
       "  <thead>\n",
       "    <tr style=\"text-align: right;\">\n",
       "      <th></th>\n",
       "      <th>user_id</th>\n",
       "      <th>group</th>\n",
       "      <th>ab_test</th>\n",
       "    </tr>\n",
       "  </thead>\n",
       "  <tbody>\n",
       "    <tr>\n",
       "      <th>0</th>\n",
       "      <td>D1ABA3E2887B6A73</td>\n",
       "      <td>A</td>\n",
       "      <td>recommender_system_test</td>\n",
       "    </tr>\n",
       "    <tr>\n",
       "      <th>1</th>\n",
       "      <td>A7A3664BD6242119</td>\n",
       "      <td>A</td>\n",
       "      <td>recommender_system_test</td>\n",
       "    </tr>\n",
       "    <tr>\n",
       "      <th>2</th>\n",
       "      <td>DABC14FDDFADD29E</td>\n",
       "      <td>A</td>\n",
       "      <td>recommender_system_test</td>\n",
       "    </tr>\n",
       "    <tr>\n",
       "      <th>3</th>\n",
       "      <td>04988C5DF189632E</td>\n",
       "      <td>A</td>\n",
       "      <td>recommender_system_test</td>\n",
       "    </tr>\n",
       "    <tr>\n",
       "      <th>4</th>\n",
       "      <td>482F14783456D21B</td>\n",
       "      <td>B</td>\n",
       "      <td>recommender_system_test</td>\n",
       "    </tr>\n",
       "  </tbody>\n",
       "</table>\n",
       "</div>"
      ],
      "text/plain": [
       "            user_id group                  ab_test\n",
       "0  D1ABA3E2887B6A73     A  recommender_system_test\n",
       "1  A7A3664BD6242119     A  recommender_system_test\n",
       "2  DABC14FDDFADD29E     A  recommender_system_test\n",
       "3  04988C5DF189632E     A  recommender_system_test\n",
       "4  482F14783456D21B     B  recommender_system_test"
      ]
     },
     "metadata": {},
     "output_type": "display_data"
    },
    {
     "name": "stdout",
     "output_type": "stream",
     "text": [
      "Количество пропущенных значений:\n",
      "user_id    0\n",
      "group      0\n",
      "ab_test    0\n",
      "dtype: int64\n",
      "\n",
      "Количество полных дубликатов:  0\n"
     ]
    }
   ],
   "source": [
    "# рассмотрим датафрейм final_ab_participants\n",
    "\n",
    "info(final_ab_participants)"
   ]
  },
  {
   "cell_type": "markdown",
   "metadata": {},
   "source": [
    "> **Вывод:** \n",
    "1. Данные из датасетов были изучены, проведена их предобработка\n",
    "2. Полных дубликатов в датасетах обнаружено не было\n",
    "3. Пропуски были обнаружены в датасете *final_ab_events* для событий, не являющимися покупками. Это корректно\n",
    "4. Столбцы, содержащие даты, были переведен в формат datetime"
   ]
  },
  {
   "cell_type": "markdown",
   "metadata": {},
   "source": [
    "### <a id='test'> Оценка корректности проведения теста </a>"
   ]
  },
  {
   "cell_type": "markdown",
   "metadata": {},
   "source": [
    "#### Соответствие данных требованиям [технического задания](#task) . Проверить корректность всех пунктов [технического задания](#task)"
   ]
  },
  {
   "cell_type": "markdown",
   "metadata": {},
   "source": [
    "**Посмотрим, информация о скольких АВ тестах содержится в данных, проверим пересечение пользователей между тестами (если их несколько) и группами изучаемого теста**"
   ]
  },
  {
   "cell_type": "code",
   "execution_count": 14,
   "metadata": {},
   "outputs": [
    {
     "data": {
      "text/plain": [
       "array(['recommender_system_test', 'interface_eu_test'], dtype=object)"
      ]
     },
     "execution_count": 14,
     "metadata": {},
     "output_type": "execute_result"
    }
   ],
   "source": [
    "# посмотрим, какие А/В-тесты содержатся в файле final_ab_participants\n",
    "\n",
    "final_ab_participants['ab_test'].unique()"
   ]
  },
  {
   "cell_type": "code",
   "execution_count": 15,
   "metadata": {},
   "outputs": [],
   "source": [
    "# в файле final_ab_new_users оставим только тех пользователей, которые пришли c 2020-12-07 до 2020-12-21 включительно\n",
    "\n",
    "new_users = final_ab_new_users.query('\"2020-12-07 00:00:00\" <= first_date <= \"2020-12-21 23:59:59\"')"
   ]
  },
  {
   "cell_type": "code",
   "execution_count": 16,
   "metadata": {},
   "outputs": [],
   "source": [
    "# соединим датафреймы final_ab_participants, new_users и final_ab_events\n",
    "\n",
    "final_data = final_ab_participants.merge(new_users, on='user_id', how='left')\n",
    "final_data = final_data.merge(final_ab_events, on='user_id', how='left')"
   ]
  },
  {
   "cell_type": "code",
   "execution_count": 17,
   "metadata": {},
   "outputs": [],
   "source": [
    "# сформируем датасеты для двух А/В-тестов\n",
    "\n",
    "test_1 = final_data.query('ab_test == \"recommender_system_test\"')\n",
    "test_2 = final_data.query('ab_test == \"interface_eu_test\"')\n",
    "test_2 = test_2[test_2['event_dt'].between('2020-12-07', '2021-01-04')]"
   ]
  },
  {
   "cell_type": "code",
   "execution_count": 18,
   "metadata": {},
   "outputs": [],
   "source": [
    "# создадим датафрейм, в котором отражены пользователи, участвовашие в обоих тестах в одно и то же время\n",
    "\n",
    "test_check = test_1.merge(test_2, on='user_id')"
   ]
  },
  {
   "cell_type": "code",
   "execution_count": 19,
   "metadata": {},
   "outputs": [],
   "source": [
    "user_list = test_check['user_id'].unique().tolist()"
   ]
  },
  {
   "cell_type": "code",
   "execution_count": 20,
   "metadata": {},
   "outputs": [],
   "source": [
    "# сформируем датафрейм, в котором не содержатся пользователи, участвовавшие в обоих тестах\n",
    "\n",
    "ab_participants = final_ab_participants.query('user_id not in @user_list')\n",
    "ab_participants = ab_participants.query('ab_test == \"recommender_system_test\"')"
   ]
  },
  {
   "cell_type": "code",
   "execution_count": 21,
   "metadata": {},
   "outputs": [],
   "source": [
    "# создадим общий датафрейм\n",
    "\n",
    "final_data_checked = ab_participants.merge(new_users, on='user_id', how='left')\n",
    "final_data_checked = final_data_checked.merge(final_ab_events, on='user_id', how='left')\n",
    "final_data_checked['event_date'] = final_data_checked['event_dt'].dt.date\n",
    "final_data_checked = final_data_checked.query('region == \"EU\"')"
   ]
  },
  {
   "cell_type": "code",
   "execution_count": 22,
   "metadata": {},
   "outputs": [],
   "source": [
    "last_event_date = final_data_checked.groupby('user_id').agg({'event_dt':'max'}).rename(columns={'event_dt':'last_event_date'})\n",
    "final_data_checked = final_data_checked.merge(last_event_date, on='user_id', how='left')"
   ]
  },
  {
   "cell_type": "code",
   "execution_count": 23,
   "metadata": {},
   "outputs": [],
   "source": [
    "# добавим lifetime для пользователей\n",
    "\n",
    "final_data_checked['lifetime'] = (\n",
    "    (final_data_checked['last_event_date'] - final_data_checked['first_date'])/np.timedelta64(1, 'D')\n",
    ").round(0)"
   ]
  },
  {
   "cell_type": "code",
   "execution_count": 24,
   "metadata": {},
   "outputs": [
    {
     "name": "stdout",
     "output_type": "stream",
     "text": [
      "Количество пользователей, для которых с момента регистрации до последнего действия прошло ровно 14 дней: 64\n"
     ]
    }
   ],
   "source": [
    "final_data_checked_lifetime = final_data_checked.query('lifetime == 14')\n",
    "print('Количество пользователей, для которых с момента регистрации до последнего действия прошло ровно 14 дней:',\n",
    "      final_data_checked_lifetime['user_id'].nunique()\n",
    "     )"
   ]
  },
  {
   "cell_type": "markdown",
   "metadata": {},
   "source": [
    "> По ТЗ дата остановки теста - 2021-01-04. В наших данных последнее событие было совершено 2020-12-30, т.е. фактически тест был завершен раньше. Таким образом, для ряда пользователей мы не достигли 14 дней с момента регистрации. Также для большой части группы не наблюдалось совершения каких-либо событий с момента регистрации."
   ]
  },
  {
   "cell_type": "code",
   "execution_count": 25,
   "metadata": {},
   "outputs": [
    {
     "name": "stdout",
     "output_type": "stream",
     "text": [
      "Количество участников в группе А: 2969\n",
      "Количество участников в группе В: 2495\n"
     ]
    }
   ],
   "source": [
    "# проверим равномерность распределения пользователей по тестовым группам и правильность их формирования\n",
    "\n",
    "group_A = final_data_checked.query('group == \"A\"')\n",
    "N_group_A = group_A['user_id'].nunique()\n",
    "print('Количество участников в группе А:', N_group_A)\n",
    "\n",
    "group_B = final_data_checked.query('group == \"B\"')\n",
    "N_group_B = group_B['user_id'].nunique()\n",
    "print('Количество участников в группе В:', N_group_B)"
   ]
  },
  {
   "cell_type": "code",
   "execution_count": 26,
   "metadata": {},
   "outputs": [
    {
     "data": {
      "text/html": [
       "<div>\n",
       "<style scoped>\n",
       "    .dataframe tbody tr th:only-of-type {\n",
       "        vertical-align: middle;\n",
       "    }\n",
       "\n",
       "    .dataframe tbody tr th {\n",
       "        vertical-align: top;\n",
       "    }\n",
       "\n",
       "    .dataframe thead th {\n",
       "        text-align: right;\n",
       "    }\n",
       "</style>\n",
       "<table border=\"1\" class=\"dataframe\">\n",
       "  <thead>\n",
       "    <tr style=\"text-align: right;\">\n",
       "      <th></th>\n",
       "      <th>user_id</th>\n",
       "      <th>group_x</th>\n",
       "      <th>ab_test_x</th>\n",
       "      <th>first_date_x</th>\n",
       "      <th>region_x</th>\n",
       "      <th>device_x</th>\n",
       "      <th>event_dt_x</th>\n",
       "      <th>event_name_x</th>\n",
       "      <th>details_x</th>\n",
       "      <th>event_date_x</th>\n",
       "      <th>...</th>\n",
       "      <th>ab_test_y</th>\n",
       "      <th>first_date_y</th>\n",
       "      <th>region_y</th>\n",
       "      <th>device_y</th>\n",
       "      <th>event_dt_y</th>\n",
       "      <th>event_name_y</th>\n",
       "      <th>details_y</th>\n",
       "      <th>event_date_y</th>\n",
       "      <th>last_event_date_y</th>\n",
       "      <th>lifetime_y</th>\n",
       "    </tr>\n",
       "  </thead>\n",
       "  <tbody>\n",
       "  </tbody>\n",
       "</table>\n",
       "<p>0 rows × 23 columns</p>\n",
       "</div>"
      ],
      "text/plain": [
       "Empty DataFrame\n",
       "Columns: [user_id, group_x, ab_test_x, first_date_x, region_x, device_x, event_dt_x, event_name_x, details_x, event_date_x, last_event_date_x, lifetime_x, group_y, ab_test_y, first_date_y, region_y, device_y, event_dt_y, event_name_y, details_y, event_date_y, last_event_date_y, lifetime_y]\n",
       "Index: []\n",
       "\n",
       "[0 rows x 23 columns]"
      ]
     },
     "execution_count": 26,
     "metadata": {},
     "output_type": "execute_result"
    }
   ],
   "source": [
    "# проверим пересечение пользователей между группами изучаемого теста\n",
    "\n",
    "group_check = group_A.merge(group_B, on='user_id')\n",
    "group_check"
   ]
  },
  {
   "cell_type": "markdown",
   "metadata": {},
   "source": [
    "> Пересечений между группами нет"
   ]
  },
  {
   "cell_type": "code",
   "execution_count": 27,
   "metadata": {},
   "outputs": [
    {
     "data": {
      "text/html": [
       "<div>\n",
       "<style scoped>\n",
       "    .dataframe tbody tr th:only-of-type {\n",
       "        vertical-align: middle;\n",
       "    }\n",
       "\n",
       "    .dataframe tbody tr th {\n",
       "        vertical-align: top;\n",
       "    }\n",
       "\n",
       "    .dataframe thead th {\n",
       "        text-align: right;\n",
       "    }\n",
       "</style>\n",
       "<table border=\"1\" class=\"dataframe\">\n",
       "  <thead>\n",
       "    <tr style=\"text-align: right;\">\n",
       "      <th></th>\n",
       "      <th>name</th>\n",
       "      <th>regions</th>\n",
       "      <th>start_dt</th>\n",
       "      <th>finish_dt</th>\n",
       "    </tr>\n",
       "  </thead>\n",
       "  <tbody>\n",
       "    <tr>\n",
       "      <th>0</th>\n",
       "      <td>Christmas&amp;New Year Promo</td>\n",
       "      <td>EU, N.America</td>\n",
       "      <td>2020-12-25</td>\n",
       "      <td>2021-01-03</td>\n",
       "    </tr>\n",
       "  </tbody>\n",
       "</table>\n",
       "</div>"
      ],
      "text/plain": [
       "                       name        regions   start_dt  finish_dt\n",
       "0  Christmas&New Year Promo  EU, N.America 2020-12-25 2021-01-03"
      ]
     },
     "execution_count": 27,
     "metadata": {},
     "output_type": "execute_result"
    }
   ],
   "source": [
    "ab_project_marketing.query('start_dt >= \"2020-12-07\" and finish_dt <= \"2021-01-04\"')"
   ]
  },
  {
   "cell_type": "markdown",
   "metadata": {},
   "source": [
    "> **Вывод:** Получен датасет, в котором содержится информация о пользователях из ЕС, участвовавших только в тесте, связанном с внедрением улучшенной рекомендательной системы в период с 7 декабря по 4 января 2020. Согласно данным, 25 декабря началась рождественская рекламная компания. Однако у нас нет данных, как имеено она проводилась. Возможно пользователи, участвующие в тесте, не были в него вовлечены. Поэтому фильтровать пользователей исходя из пересечения с этим событиям не будем."
   ]
  },
  {
   "cell_type": "markdown",
   "metadata": {},
   "source": [
    "#### Проверить, все ли пользователи, зарегистрированные в тесте, совершали за период проведения теста события. Если пользователи, которые не совершали события есть, то лучше подсчитать их количество, а также проверить их распределение между тестовой и контрольной группами."
   ]
  },
  {
   "cell_type": "code",
   "execution_count": 28,
   "metadata": {},
   "outputs": [
    {
     "name": "stdout",
     "output_type": "stream",
     "text": [
      "Количество пользователей, которые не совершали события: 2870\n"
     ]
    }
   ],
   "source": [
    "# проверим, все ли пользователи, зарегистрированные в тесте, совершали за период проведения теста события\n",
    "\n",
    "wtht_NA = final_data_checked.dropna(subset=['event_dt'])\n",
    "user_event_list = wtht_NA['user_id'].unique().tolist()\n",
    "count_user_event = final_data_checked.query('user_id not in @user_event_list')['user_id'].nunique()\n",
    "print(f'Количество пользователей, которые не совершали события:', count_user_event)"
   ]
  },
  {
   "cell_type": "markdown",
   "metadata": {},
   "source": [
    "> **Вывод:** В данных содержится информация по 2870 пользователям, которые не совершали никаких событий. Причиной отсутствия событий у ряда пользователей может быть естественная конверсия, т.е. после регистрации пользователи потеряли интерес к ресурсу и не стали заходить на этап логин. Или, возможно, что это была какая-то ошибка в сборе данных, и у нас нет части данных. "
   ]
  },
  {
   "cell_type": "markdown",
   "metadata": {},
   "source": [
    "#### Посмотрим детальнее на пользователей без событий: как они распределены по группам теста и какая была динамика их регистрации"
   ]
  },
  {
   "cell_type": "code",
   "execution_count": 29,
   "metadata": {},
   "outputs": [
    {
     "name": "stdout",
     "output_type": "stream",
     "text": [
      "Количество пользователей в группе А, которые не совершали события: 1030\n",
      "Количество пользователей в группе B, которые не совершали события: 1840\n"
     ]
    }
   ],
   "source": [
    "print(f'Количество пользователей в группе А, которые не совершали события:', \n",
    "      group_A.query('user_id not in @user_event_list')['user_id'].nunique()\n",
    "     )\n",
    "print(f'Количество пользователей в группе B, которые не совершали события:', \n",
    "      group_B.query('user_id not in @user_event_list')['user_id'].nunique()\n",
    "     )"
   ]
  },
  {
   "cell_type": "code",
   "execution_count": 30,
   "metadata": {},
   "outputs": [],
   "source": [
    "users_per_date = (\n",
    "    final_data_checked.pivot_table(\n",
    "        index = 'first_date',\n",
    "        values = 'user_id',\n",
    "        aggfunc = 'nunique'\n",
    "    ).rename(columns={'user_id':'users_all'})\n",
    "    .sort_values(by='first_date')\n",
    "    .reset_index()\n",
    ")\n",
    "\n",
    "users_per_date_NA = (\n",
    "    wtht_NA.pivot_table(\n",
    "        index = 'first_date',\n",
    "        values = 'user_id',\n",
    "        aggfunc = 'nunique'\n",
    "    ).rename(columns={'user_id':'users_with_events'})\n",
    "    .sort_values(by='first_date')\n",
    "    .reset_index()\n",
    ")\n",
    "\n",
    "comparison = users_per_date.merge(users_per_date_NA, on='first_date').set_index('first_date')"
   ]
  },
  {
   "cell_type": "code",
   "execution_count": 31,
   "metadata": {},
   "outputs": [
    {
     "data": {
      "text/html": [
       "        <script type=\"text/javascript\">\n",
       "        window.PlotlyConfig = {MathJaxConfig: 'local'};\n",
       "        if (window.MathJax) {MathJax.Hub.Config({SVG: {font: \"STIX-Web\"}});}\n",
       "        if (typeof require !== 'undefined') {\n",
       "        require.undef(\"plotly\");\n",
       "        requirejs.config({\n",
       "            paths: {\n",
       "                'plotly': ['https://cdn.plot.ly/plotly-2.6.3.min']\n",
       "            }\n",
       "        });\n",
       "        require(['plotly'], function(Plotly) {\n",
       "            window._Plotly = Plotly;\n",
       "        });\n",
       "        }\n",
       "        </script>\n",
       "        "
      ]
     },
     "metadata": {},
     "output_type": "display_data"
    },
    {
     "data": {
      "application/vnd.plotly.v1+json": {
       "config": {
        "linkText": "Export to plot.ly",
        "plotlyServerURL": "https://plot.ly",
        "showLink": true
       },
       "data": [
        {
         "marker": {
          "color": "rgba(255, 153, 51, 0.6)",
          "line": {
           "color": "rgba(255, 153, 51, 1.0)",
           "width": 1
          }
         },
         "name": "users_all",
         "orientation": "v",
         "text": "",
         "type": "bar",
         "x": [
          "2020-12-07",
          "2020-12-08",
          "2020-12-09",
          "2020-12-10",
          "2020-12-11",
          "2020-12-12",
          "2020-12-13",
          "2020-12-14",
          "2020-12-15",
          "2020-12-16",
          "2020-12-17",
          "2020-12-18",
          "2020-12-19",
          "2020-12-20",
          "2020-12-21"
         ],
         "y": [
          517,
          299,
          197,
          351,
          239,
          437,
          536,
          520,
          277,
          215,
          274,
          317,
          342,
          391,
          552
         ]
        },
        {
         "marker": {
          "color": "rgba(55, 128, 191, 0.6)",
          "line": {
           "color": "rgba(55, 128, 191, 1.0)",
           "width": 1
          }
         },
         "name": "users_with_events",
         "orientation": "v",
         "text": "",
         "type": "bar",
         "x": [
          "2020-12-07",
          "2020-12-08",
          "2020-12-09",
          "2020-12-10",
          "2020-12-11",
          "2020-12-12",
          "2020-12-13",
          "2020-12-14",
          "2020-12-15",
          "2020-12-16",
          "2020-12-17",
          "2020-12-18",
          "2020-12-19",
          "2020-12-20",
          "2020-12-21"
         ],
         "y": [
          234,
          96,
          110,
          73,
          82,
          82,
          51,
          326,
          167,
          198,
          172,
          193,
          212,
          248,
          350
         ]
        }
       ],
       "layout": {
        "barmode": "stack",
        "legend": {
         "bgcolor": "#F5F6F9",
         "font": {
          "color": "#4D5663"
         },
         "traceorder": "normal"
        },
        "paper_bgcolor": "#F5F6F9",
        "plot_bgcolor": "#F5F6F9",
        "template": {
         "data": {
          "bar": [
           {
            "error_x": {
             "color": "#2a3f5f"
            },
            "error_y": {
             "color": "#2a3f5f"
            },
            "marker": {
             "line": {
              "color": "#E5ECF6",
              "width": 0.5
             },
             "pattern": {
              "fillmode": "overlay",
              "size": 10,
              "solidity": 0.2
             }
            },
            "type": "bar"
           }
          ],
          "barpolar": [
           {
            "marker": {
             "line": {
              "color": "#E5ECF6",
              "width": 0.5
             },
             "pattern": {
              "fillmode": "overlay",
              "size": 10,
              "solidity": 0.2
             }
            },
            "type": "barpolar"
           }
          ],
          "carpet": [
           {
            "aaxis": {
             "endlinecolor": "#2a3f5f",
             "gridcolor": "white",
             "linecolor": "white",
             "minorgridcolor": "white",
             "startlinecolor": "#2a3f5f"
            },
            "baxis": {
             "endlinecolor": "#2a3f5f",
             "gridcolor": "white",
             "linecolor": "white",
             "minorgridcolor": "white",
             "startlinecolor": "#2a3f5f"
            },
            "type": "carpet"
           }
          ],
          "choropleth": [
           {
            "colorbar": {
             "outlinewidth": 0,
             "ticks": ""
            },
            "type": "choropleth"
           }
          ],
          "contour": [
           {
            "colorbar": {
             "outlinewidth": 0,
             "ticks": ""
            },
            "colorscale": [
             [
              0,
              "#0d0887"
             ],
             [
              0.1111111111111111,
              "#46039f"
             ],
             [
              0.2222222222222222,
              "#7201a8"
             ],
             [
              0.3333333333333333,
              "#9c179e"
             ],
             [
              0.4444444444444444,
              "#bd3786"
             ],
             [
              0.5555555555555556,
              "#d8576b"
             ],
             [
              0.6666666666666666,
              "#ed7953"
             ],
             [
              0.7777777777777778,
              "#fb9f3a"
             ],
             [
              0.8888888888888888,
              "#fdca26"
             ],
             [
              1,
              "#f0f921"
             ]
            ],
            "type": "contour"
           }
          ],
          "contourcarpet": [
           {
            "colorbar": {
             "outlinewidth": 0,
             "ticks": ""
            },
            "type": "contourcarpet"
           }
          ],
          "heatmap": [
           {
            "colorbar": {
             "outlinewidth": 0,
             "ticks": ""
            },
            "colorscale": [
             [
              0,
              "#0d0887"
             ],
             [
              0.1111111111111111,
              "#46039f"
             ],
             [
              0.2222222222222222,
              "#7201a8"
             ],
             [
              0.3333333333333333,
              "#9c179e"
             ],
             [
              0.4444444444444444,
              "#bd3786"
             ],
             [
              0.5555555555555556,
              "#d8576b"
             ],
             [
              0.6666666666666666,
              "#ed7953"
             ],
             [
              0.7777777777777778,
              "#fb9f3a"
             ],
             [
              0.8888888888888888,
              "#fdca26"
             ],
             [
              1,
              "#f0f921"
             ]
            ],
            "type": "heatmap"
           }
          ],
          "heatmapgl": [
           {
            "colorbar": {
             "outlinewidth": 0,
             "ticks": ""
            },
            "colorscale": [
             [
              0,
              "#0d0887"
             ],
             [
              0.1111111111111111,
              "#46039f"
             ],
             [
              0.2222222222222222,
              "#7201a8"
             ],
             [
              0.3333333333333333,
              "#9c179e"
             ],
             [
              0.4444444444444444,
              "#bd3786"
             ],
             [
              0.5555555555555556,
              "#d8576b"
             ],
             [
              0.6666666666666666,
              "#ed7953"
             ],
             [
              0.7777777777777778,
              "#fb9f3a"
             ],
             [
              0.8888888888888888,
              "#fdca26"
             ],
             [
              1,
              "#f0f921"
             ]
            ],
            "type": "heatmapgl"
           }
          ],
          "histogram": [
           {
            "marker": {
             "pattern": {
              "fillmode": "overlay",
              "size": 10,
              "solidity": 0.2
             }
            },
            "type": "histogram"
           }
          ],
          "histogram2d": [
           {
            "colorbar": {
             "outlinewidth": 0,
             "ticks": ""
            },
            "colorscale": [
             [
              0,
              "#0d0887"
             ],
             [
              0.1111111111111111,
              "#46039f"
             ],
             [
              0.2222222222222222,
              "#7201a8"
             ],
             [
              0.3333333333333333,
              "#9c179e"
             ],
             [
              0.4444444444444444,
              "#bd3786"
             ],
             [
              0.5555555555555556,
              "#d8576b"
             ],
             [
              0.6666666666666666,
              "#ed7953"
             ],
             [
              0.7777777777777778,
              "#fb9f3a"
             ],
             [
              0.8888888888888888,
              "#fdca26"
             ],
             [
              1,
              "#f0f921"
             ]
            ],
            "type": "histogram2d"
           }
          ],
          "histogram2dcontour": [
           {
            "colorbar": {
             "outlinewidth": 0,
             "ticks": ""
            },
            "colorscale": [
             [
              0,
              "#0d0887"
             ],
             [
              0.1111111111111111,
              "#46039f"
             ],
             [
              0.2222222222222222,
              "#7201a8"
             ],
             [
              0.3333333333333333,
              "#9c179e"
             ],
             [
              0.4444444444444444,
              "#bd3786"
             ],
             [
              0.5555555555555556,
              "#d8576b"
             ],
             [
              0.6666666666666666,
              "#ed7953"
             ],
             [
              0.7777777777777778,
              "#fb9f3a"
             ],
             [
              0.8888888888888888,
              "#fdca26"
             ],
             [
              1,
              "#f0f921"
             ]
            ],
            "type": "histogram2dcontour"
           }
          ],
          "mesh3d": [
           {
            "colorbar": {
             "outlinewidth": 0,
             "ticks": ""
            },
            "type": "mesh3d"
           }
          ],
          "parcoords": [
           {
            "line": {
             "colorbar": {
              "outlinewidth": 0,
              "ticks": ""
             }
            },
            "type": "parcoords"
           }
          ],
          "pie": [
           {
            "automargin": true,
            "type": "pie"
           }
          ],
          "scatter": [
           {
            "marker": {
             "colorbar": {
              "outlinewidth": 0,
              "ticks": ""
             }
            },
            "type": "scatter"
           }
          ],
          "scatter3d": [
           {
            "line": {
             "colorbar": {
              "outlinewidth": 0,
              "ticks": ""
             }
            },
            "marker": {
             "colorbar": {
              "outlinewidth": 0,
              "ticks": ""
             }
            },
            "type": "scatter3d"
           }
          ],
          "scattercarpet": [
           {
            "marker": {
             "colorbar": {
              "outlinewidth": 0,
              "ticks": ""
             }
            },
            "type": "scattercarpet"
           }
          ],
          "scattergeo": [
           {
            "marker": {
             "colorbar": {
              "outlinewidth": 0,
              "ticks": ""
             }
            },
            "type": "scattergeo"
           }
          ],
          "scattergl": [
           {
            "marker": {
             "colorbar": {
              "outlinewidth": 0,
              "ticks": ""
             }
            },
            "type": "scattergl"
           }
          ],
          "scattermapbox": [
           {
            "marker": {
             "colorbar": {
              "outlinewidth": 0,
              "ticks": ""
             }
            },
            "type": "scattermapbox"
           }
          ],
          "scatterpolar": [
           {
            "marker": {
             "colorbar": {
              "outlinewidth": 0,
              "ticks": ""
             }
            },
            "type": "scatterpolar"
           }
          ],
          "scatterpolargl": [
           {
            "marker": {
             "colorbar": {
              "outlinewidth": 0,
              "ticks": ""
             }
            },
            "type": "scatterpolargl"
           }
          ],
          "scatterternary": [
           {
            "marker": {
             "colorbar": {
              "outlinewidth": 0,
              "ticks": ""
             }
            },
            "type": "scatterternary"
           }
          ],
          "surface": [
           {
            "colorbar": {
             "outlinewidth": 0,
             "ticks": ""
            },
            "colorscale": [
             [
              0,
              "#0d0887"
             ],
             [
              0.1111111111111111,
              "#46039f"
             ],
             [
              0.2222222222222222,
              "#7201a8"
             ],
             [
              0.3333333333333333,
              "#9c179e"
             ],
             [
              0.4444444444444444,
              "#bd3786"
             ],
             [
              0.5555555555555556,
              "#d8576b"
             ],
             [
              0.6666666666666666,
              "#ed7953"
             ],
             [
              0.7777777777777778,
              "#fb9f3a"
             ],
             [
              0.8888888888888888,
              "#fdca26"
             ],
             [
              1,
              "#f0f921"
             ]
            ],
            "type": "surface"
           }
          ],
          "table": [
           {
            "cells": {
             "fill": {
              "color": "#EBF0F8"
             },
             "line": {
              "color": "white"
             }
            },
            "header": {
             "fill": {
              "color": "#C8D4E3"
             },
             "line": {
              "color": "white"
             }
            },
            "type": "table"
           }
          ]
         },
         "layout": {
          "annotationdefaults": {
           "arrowcolor": "#2a3f5f",
           "arrowhead": 0,
           "arrowwidth": 1
          },
          "autotypenumbers": "strict",
          "coloraxis": {
           "colorbar": {
            "outlinewidth": 0,
            "ticks": ""
           }
          },
          "colorscale": {
           "diverging": [
            [
             0,
             "#8e0152"
            ],
            [
             0.1,
             "#c51b7d"
            ],
            [
             0.2,
             "#de77ae"
            ],
            [
             0.3,
             "#f1b6da"
            ],
            [
             0.4,
             "#fde0ef"
            ],
            [
             0.5,
             "#f7f7f7"
            ],
            [
             0.6,
             "#e6f5d0"
            ],
            [
             0.7,
             "#b8e186"
            ],
            [
             0.8,
             "#7fbc41"
            ],
            [
             0.9,
             "#4d9221"
            ],
            [
             1,
             "#276419"
            ]
           ],
           "sequential": [
            [
             0,
             "#0d0887"
            ],
            [
             0.1111111111111111,
             "#46039f"
            ],
            [
             0.2222222222222222,
             "#7201a8"
            ],
            [
             0.3333333333333333,
             "#9c179e"
            ],
            [
             0.4444444444444444,
             "#bd3786"
            ],
            [
             0.5555555555555556,
             "#d8576b"
            ],
            [
             0.6666666666666666,
             "#ed7953"
            ],
            [
             0.7777777777777778,
             "#fb9f3a"
            ],
            [
             0.8888888888888888,
             "#fdca26"
            ],
            [
             1,
             "#f0f921"
            ]
           ],
           "sequentialminus": [
            [
             0,
             "#0d0887"
            ],
            [
             0.1111111111111111,
             "#46039f"
            ],
            [
             0.2222222222222222,
             "#7201a8"
            ],
            [
             0.3333333333333333,
             "#9c179e"
            ],
            [
             0.4444444444444444,
             "#bd3786"
            ],
            [
             0.5555555555555556,
             "#d8576b"
            ],
            [
             0.6666666666666666,
             "#ed7953"
            ],
            [
             0.7777777777777778,
             "#fb9f3a"
            ],
            [
             0.8888888888888888,
             "#fdca26"
            ],
            [
             1,
             "#f0f921"
            ]
           ]
          },
          "colorway": [
           "#636efa",
           "#EF553B",
           "#00cc96",
           "#ab63fa",
           "#FFA15A",
           "#19d3f3",
           "#FF6692",
           "#B6E880",
           "#FF97FF",
           "#FECB52"
          ],
          "font": {
           "color": "#2a3f5f"
          },
          "geo": {
           "bgcolor": "white",
           "lakecolor": "white",
           "landcolor": "#E5ECF6",
           "showlakes": true,
           "showland": true,
           "subunitcolor": "white"
          },
          "hoverlabel": {
           "align": "left"
          },
          "hovermode": "closest",
          "mapbox": {
           "style": "light"
          },
          "paper_bgcolor": "white",
          "plot_bgcolor": "#E5ECF6",
          "polar": {
           "angularaxis": {
            "gridcolor": "white",
            "linecolor": "white",
            "ticks": ""
           },
           "bgcolor": "#E5ECF6",
           "radialaxis": {
            "gridcolor": "white",
            "linecolor": "white",
            "ticks": ""
           }
          },
          "scene": {
           "xaxis": {
            "backgroundcolor": "#E5ECF6",
            "gridcolor": "white",
            "gridwidth": 2,
            "linecolor": "white",
            "showbackground": true,
            "ticks": "",
            "zerolinecolor": "white"
           },
           "yaxis": {
            "backgroundcolor": "#E5ECF6",
            "gridcolor": "white",
            "gridwidth": 2,
            "linecolor": "white",
            "showbackground": true,
            "ticks": "",
            "zerolinecolor": "white"
           },
           "zaxis": {
            "backgroundcolor": "#E5ECF6",
            "gridcolor": "white",
            "gridwidth": 2,
            "linecolor": "white",
            "showbackground": true,
            "ticks": "",
            "zerolinecolor": "white"
           }
          },
          "shapedefaults": {
           "line": {
            "color": "#2a3f5f"
           }
          },
          "ternary": {
           "aaxis": {
            "gridcolor": "white",
            "linecolor": "white",
            "ticks": ""
           },
           "baxis": {
            "gridcolor": "white",
            "linecolor": "white",
            "ticks": ""
           },
           "bgcolor": "#E5ECF6",
           "caxis": {
            "gridcolor": "white",
            "linecolor": "white",
            "ticks": ""
           }
          },
          "title": {
           "x": 0.05
          },
          "xaxis": {
           "automargin": true,
           "gridcolor": "white",
           "linecolor": "white",
           "ticks": "",
           "title": {
            "standoff": 15
           },
           "zerolinecolor": "white",
           "zerolinewidth": 2
          },
          "yaxis": {
           "automargin": true,
           "gridcolor": "white",
           "linecolor": "white",
           "ticks": "",
           "title": {
            "standoff": 15
           },
           "zerolinecolor": "white",
           "zerolinewidth": 2
          }
         }
        },
        "title": {
         "font": {
          "color": "#4D5663"
         },
         "text": "Количество новых пользователей в разбивке по дате"
        },
        "xaxis": {
         "gridcolor": "#E1E5ED",
         "showgrid": true,
         "tickfont": {
          "color": "#4D5663"
         },
         "title": {
          "font": {
           "color": "#4D5663"
          },
          "text": ""
         },
         "zerolinecolor": "#E1E5ED"
        },
        "yaxis": {
         "gridcolor": "#E1E5ED",
         "showgrid": true,
         "tickfont": {
          "color": "#4D5663"
         },
         "title": {
          "font": {
           "color": "#4D5663"
          },
          "text": ""
         },
         "zerolinecolor": "#E1E5ED"
        }
       }
      },
      "text/html": [
       "<div>                            <div id=\"210f7f9a-ab43-48a3-bfc0-80c2f49735f5\" class=\"plotly-graph-div\" style=\"height:525px; width:100%;\"></div>            <script type=\"text/javascript\">                require([\"plotly\"], function(Plotly) {                    window.PLOTLYENV=window.PLOTLYENV || {};\n",
       "                    window.PLOTLYENV.BASE_URL='https://plot.ly';                                    if (document.getElementById(\"210f7f9a-ab43-48a3-bfc0-80c2f49735f5\")) {                    Plotly.newPlot(                        \"210f7f9a-ab43-48a3-bfc0-80c2f49735f5\",                        [{\"marker\":{\"color\":\"rgba(255, 153, 51, 0.6)\",\"line\":{\"color\":\"rgba(255, 153, 51, 1.0)\",\"width\":1}},\"name\":\"users_all\",\"orientation\":\"v\",\"text\":\"\",\"x\":[\"2020-12-07\",\"2020-12-08\",\"2020-12-09\",\"2020-12-10\",\"2020-12-11\",\"2020-12-12\",\"2020-12-13\",\"2020-12-14\",\"2020-12-15\",\"2020-12-16\",\"2020-12-17\",\"2020-12-18\",\"2020-12-19\",\"2020-12-20\",\"2020-12-21\"],\"y\":[517,299,197,351,239,437,536,520,277,215,274,317,342,391,552],\"type\":\"bar\"},{\"marker\":{\"color\":\"rgba(55, 128, 191, 0.6)\",\"line\":{\"color\":\"rgba(55, 128, 191, 1.0)\",\"width\":1}},\"name\":\"users_with_events\",\"orientation\":\"v\",\"text\":\"\",\"x\":[\"2020-12-07\",\"2020-12-08\",\"2020-12-09\",\"2020-12-10\",\"2020-12-11\",\"2020-12-12\",\"2020-12-13\",\"2020-12-14\",\"2020-12-15\",\"2020-12-16\",\"2020-12-17\",\"2020-12-18\",\"2020-12-19\",\"2020-12-20\",\"2020-12-21\"],\"y\":[234,96,110,73,82,82,51,326,167,198,172,193,212,248,350],\"type\":\"bar\"}],                        {\"barmode\":\"stack\",\"legend\":{\"bgcolor\":\"#F5F6F9\",\"font\":{\"color\":\"#4D5663\"},\"traceorder\":\"normal\"},\"paper_bgcolor\":\"#F5F6F9\",\"plot_bgcolor\":\"#F5F6F9\",\"template\":{\"data\":{\"barpolar\":[{\"marker\":{\"line\":{\"color\":\"#E5ECF6\",\"width\":0.5},\"pattern\":{\"fillmode\":\"overlay\",\"size\":10,\"solidity\":0.2}},\"type\":\"barpolar\"}],\"bar\":[{\"error_x\":{\"color\":\"#2a3f5f\"},\"error_y\":{\"color\":\"#2a3f5f\"},\"marker\":{\"line\":{\"color\":\"#E5ECF6\",\"width\":0.5},\"pattern\":{\"fillmode\":\"overlay\",\"size\":10,\"solidity\":0.2}},\"type\":\"bar\"}],\"carpet\":[{\"aaxis\":{\"endlinecolor\":\"#2a3f5f\",\"gridcolor\":\"white\",\"linecolor\":\"white\",\"minorgridcolor\":\"white\",\"startlinecolor\":\"#2a3f5f\"},\"baxis\":{\"endlinecolor\":\"#2a3f5f\",\"gridcolor\":\"white\",\"linecolor\":\"white\",\"minorgridcolor\":\"white\",\"startlinecolor\":\"#2a3f5f\"},\"type\":\"carpet\"}],\"choropleth\":[{\"colorbar\":{\"outlinewidth\":0,\"ticks\":\"\"},\"type\":\"choropleth\"}],\"contourcarpet\":[{\"colorbar\":{\"outlinewidth\":0,\"ticks\":\"\"},\"type\":\"contourcarpet\"}],\"contour\":[{\"colorbar\":{\"outlinewidth\":0,\"ticks\":\"\"},\"colorscale\":[[0.0,\"#0d0887\"],[0.1111111111111111,\"#46039f\"],[0.2222222222222222,\"#7201a8\"],[0.3333333333333333,\"#9c179e\"],[0.4444444444444444,\"#bd3786\"],[0.5555555555555556,\"#d8576b\"],[0.6666666666666666,\"#ed7953\"],[0.7777777777777778,\"#fb9f3a\"],[0.8888888888888888,\"#fdca26\"],[1.0,\"#f0f921\"]],\"type\":\"contour\"}],\"heatmapgl\":[{\"colorbar\":{\"outlinewidth\":0,\"ticks\":\"\"},\"colorscale\":[[0.0,\"#0d0887\"],[0.1111111111111111,\"#46039f\"],[0.2222222222222222,\"#7201a8\"],[0.3333333333333333,\"#9c179e\"],[0.4444444444444444,\"#bd3786\"],[0.5555555555555556,\"#d8576b\"],[0.6666666666666666,\"#ed7953\"],[0.7777777777777778,\"#fb9f3a\"],[0.8888888888888888,\"#fdca26\"],[1.0,\"#f0f921\"]],\"type\":\"heatmapgl\"}],\"heatmap\":[{\"colorbar\":{\"outlinewidth\":0,\"ticks\":\"\"},\"colorscale\":[[0.0,\"#0d0887\"],[0.1111111111111111,\"#46039f\"],[0.2222222222222222,\"#7201a8\"],[0.3333333333333333,\"#9c179e\"],[0.4444444444444444,\"#bd3786\"],[0.5555555555555556,\"#d8576b\"],[0.6666666666666666,\"#ed7953\"],[0.7777777777777778,\"#fb9f3a\"],[0.8888888888888888,\"#fdca26\"],[1.0,\"#f0f921\"]],\"type\":\"heatmap\"}],\"histogram2dcontour\":[{\"colorbar\":{\"outlinewidth\":0,\"ticks\":\"\"},\"colorscale\":[[0.0,\"#0d0887\"],[0.1111111111111111,\"#46039f\"],[0.2222222222222222,\"#7201a8\"],[0.3333333333333333,\"#9c179e\"],[0.4444444444444444,\"#bd3786\"],[0.5555555555555556,\"#d8576b\"],[0.6666666666666666,\"#ed7953\"],[0.7777777777777778,\"#fb9f3a\"],[0.8888888888888888,\"#fdca26\"],[1.0,\"#f0f921\"]],\"type\":\"histogram2dcontour\"}],\"histogram2d\":[{\"colorbar\":{\"outlinewidth\":0,\"ticks\":\"\"},\"colorscale\":[[0.0,\"#0d0887\"],[0.1111111111111111,\"#46039f\"],[0.2222222222222222,\"#7201a8\"],[0.3333333333333333,\"#9c179e\"],[0.4444444444444444,\"#bd3786\"],[0.5555555555555556,\"#d8576b\"],[0.6666666666666666,\"#ed7953\"],[0.7777777777777778,\"#fb9f3a\"],[0.8888888888888888,\"#fdca26\"],[1.0,\"#f0f921\"]],\"type\":\"histogram2d\"}],\"histogram\":[{\"marker\":{\"pattern\":{\"fillmode\":\"overlay\",\"size\":10,\"solidity\":0.2}},\"type\":\"histogram\"}],\"mesh3d\":[{\"colorbar\":{\"outlinewidth\":0,\"ticks\":\"\"},\"type\":\"mesh3d\"}],\"parcoords\":[{\"line\":{\"colorbar\":{\"outlinewidth\":0,\"ticks\":\"\"}},\"type\":\"parcoords\"}],\"pie\":[{\"automargin\":true,\"type\":\"pie\"}],\"scatter3d\":[{\"line\":{\"colorbar\":{\"outlinewidth\":0,\"ticks\":\"\"}},\"marker\":{\"colorbar\":{\"outlinewidth\":0,\"ticks\":\"\"}},\"type\":\"scatter3d\"}],\"scattercarpet\":[{\"marker\":{\"colorbar\":{\"outlinewidth\":0,\"ticks\":\"\"}},\"type\":\"scattercarpet\"}],\"scattergeo\":[{\"marker\":{\"colorbar\":{\"outlinewidth\":0,\"ticks\":\"\"}},\"type\":\"scattergeo\"}],\"scattergl\":[{\"marker\":{\"colorbar\":{\"outlinewidth\":0,\"ticks\":\"\"}},\"type\":\"scattergl\"}],\"scattermapbox\":[{\"marker\":{\"colorbar\":{\"outlinewidth\":0,\"ticks\":\"\"}},\"type\":\"scattermapbox\"}],\"scatterpolargl\":[{\"marker\":{\"colorbar\":{\"outlinewidth\":0,\"ticks\":\"\"}},\"type\":\"scatterpolargl\"}],\"scatterpolar\":[{\"marker\":{\"colorbar\":{\"outlinewidth\":0,\"ticks\":\"\"}},\"type\":\"scatterpolar\"}],\"scatter\":[{\"marker\":{\"colorbar\":{\"outlinewidth\":0,\"ticks\":\"\"}},\"type\":\"scatter\"}],\"scatterternary\":[{\"marker\":{\"colorbar\":{\"outlinewidth\":0,\"ticks\":\"\"}},\"type\":\"scatterternary\"}],\"surface\":[{\"colorbar\":{\"outlinewidth\":0,\"ticks\":\"\"},\"colorscale\":[[0.0,\"#0d0887\"],[0.1111111111111111,\"#46039f\"],[0.2222222222222222,\"#7201a8\"],[0.3333333333333333,\"#9c179e\"],[0.4444444444444444,\"#bd3786\"],[0.5555555555555556,\"#d8576b\"],[0.6666666666666666,\"#ed7953\"],[0.7777777777777778,\"#fb9f3a\"],[0.8888888888888888,\"#fdca26\"],[1.0,\"#f0f921\"]],\"type\":\"surface\"}],\"table\":[{\"cells\":{\"fill\":{\"color\":\"#EBF0F8\"},\"line\":{\"color\":\"white\"}},\"header\":{\"fill\":{\"color\":\"#C8D4E3\"},\"line\":{\"color\":\"white\"}},\"type\":\"table\"}]},\"layout\":{\"annotationdefaults\":{\"arrowcolor\":\"#2a3f5f\",\"arrowhead\":0,\"arrowwidth\":1},\"autotypenumbers\":\"strict\",\"coloraxis\":{\"colorbar\":{\"outlinewidth\":0,\"ticks\":\"\"}},\"colorscale\":{\"diverging\":[[0,\"#8e0152\"],[0.1,\"#c51b7d\"],[0.2,\"#de77ae\"],[0.3,\"#f1b6da\"],[0.4,\"#fde0ef\"],[0.5,\"#f7f7f7\"],[0.6,\"#e6f5d0\"],[0.7,\"#b8e186\"],[0.8,\"#7fbc41\"],[0.9,\"#4d9221\"],[1,\"#276419\"]],\"sequential\":[[0.0,\"#0d0887\"],[0.1111111111111111,\"#46039f\"],[0.2222222222222222,\"#7201a8\"],[0.3333333333333333,\"#9c179e\"],[0.4444444444444444,\"#bd3786\"],[0.5555555555555556,\"#d8576b\"],[0.6666666666666666,\"#ed7953\"],[0.7777777777777778,\"#fb9f3a\"],[0.8888888888888888,\"#fdca26\"],[1.0,\"#f0f921\"]],\"sequentialminus\":[[0.0,\"#0d0887\"],[0.1111111111111111,\"#46039f\"],[0.2222222222222222,\"#7201a8\"],[0.3333333333333333,\"#9c179e\"],[0.4444444444444444,\"#bd3786\"],[0.5555555555555556,\"#d8576b\"],[0.6666666666666666,\"#ed7953\"],[0.7777777777777778,\"#fb9f3a\"],[0.8888888888888888,\"#fdca26\"],[1.0,\"#f0f921\"]]},\"colorway\":[\"#636efa\",\"#EF553B\",\"#00cc96\",\"#ab63fa\",\"#FFA15A\",\"#19d3f3\",\"#FF6692\",\"#B6E880\",\"#FF97FF\",\"#FECB52\"],\"font\":{\"color\":\"#2a3f5f\"},\"geo\":{\"bgcolor\":\"white\",\"lakecolor\":\"white\",\"landcolor\":\"#E5ECF6\",\"showlakes\":true,\"showland\":true,\"subunitcolor\":\"white\"},\"hoverlabel\":{\"align\":\"left\"},\"hovermode\":\"closest\",\"mapbox\":{\"style\":\"light\"},\"paper_bgcolor\":\"white\",\"plot_bgcolor\":\"#E5ECF6\",\"polar\":{\"angularaxis\":{\"gridcolor\":\"white\",\"linecolor\":\"white\",\"ticks\":\"\"},\"bgcolor\":\"#E5ECF6\",\"radialaxis\":{\"gridcolor\":\"white\",\"linecolor\":\"white\",\"ticks\":\"\"}},\"scene\":{\"xaxis\":{\"backgroundcolor\":\"#E5ECF6\",\"gridcolor\":\"white\",\"gridwidth\":2,\"linecolor\":\"white\",\"showbackground\":true,\"ticks\":\"\",\"zerolinecolor\":\"white\"},\"yaxis\":{\"backgroundcolor\":\"#E5ECF6\",\"gridcolor\":\"white\",\"gridwidth\":2,\"linecolor\":\"white\",\"showbackground\":true,\"ticks\":\"\",\"zerolinecolor\":\"white\"},\"zaxis\":{\"backgroundcolor\":\"#E5ECF6\",\"gridcolor\":\"white\",\"gridwidth\":2,\"linecolor\":\"white\",\"showbackground\":true,\"ticks\":\"\",\"zerolinecolor\":\"white\"}},\"shapedefaults\":{\"line\":{\"color\":\"#2a3f5f\"}},\"ternary\":{\"aaxis\":{\"gridcolor\":\"white\",\"linecolor\":\"white\",\"ticks\":\"\"},\"baxis\":{\"gridcolor\":\"white\",\"linecolor\":\"white\",\"ticks\":\"\"},\"bgcolor\":\"#E5ECF6\",\"caxis\":{\"gridcolor\":\"white\",\"linecolor\":\"white\",\"ticks\":\"\"}},\"title\":{\"x\":0.05},\"xaxis\":{\"automargin\":true,\"gridcolor\":\"white\",\"linecolor\":\"white\",\"ticks\":\"\",\"title\":{\"standoff\":15},\"zerolinecolor\":\"white\",\"zerolinewidth\":2},\"yaxis\":{\"automargin\":true,\"gridcolor\":\"white\",\"linecolor\":\"white\",\"ticks\":\"\",\"title\":{\"standoff\":15},\"zerolinecolor\":\"white\",\"zerolinewidth\":2}}},\"title\":{\"font\":{\"color\":\"#4D5663\"},\"text\":\"\\u041a\\u043e\\u043b\\u0438\\u0447\\u0435\\u0441\\u0442\\u0432\\u043e \\u043d\\u043e\\u0432\\u044b\\u0445 \\u043f\\u043e\\u043b\\u044c\\u0437\\u043e\\u0432\\u0430\\u0442\\u0435\\u043b\\u0435\\u0439 \\u0432 \\u0440\\u0430\\u0437\\u0431\\u0438\\u0432\\u043a\\u0435 \\u043f\\u043e \\u0434\\u0430\\u0442\\u0435\"},\"xaxis\":{\"gridcolor\":\"#E1E5ED\",\"showgrid\":true,\"tickfont\":{\"color\":\"#4D5663\"},\"title\":{\"font\":{\"color\":\"#4D5663\"},\"text\":\"\"},\"zerolinecolor\":\"#E1E5ED\"},\"yaxis\":{\"gridcolor\":\"#E1E5ED\",\"showgrid\":true,\"tickfont\":{\"color\":\"#4D5663\"},\"title\":{\"font\":{\"color\":\"#4D5663\"},\"text\":\"\"},\"zerolinecolor\":\"#E1E5ED\"}},                        {\"showLink\": true, \"linkText\": \"Export to plot.ly\", \"plotlyServerURL\": \"https://plot.ly\", \"responsive\": true}                    ).then(function(){\n",
       "                            \n",
       "var gd = document.getElementById('210f7f9a-ab43-48a3-bfc0-80c2f49735f5');\n",
       "var x = new MutationObserver(function (mutations, observer) {{\n",
       "        var display = window.getComputedStyle(gd).display;\n",
       "        if (!display || display === 'none') {{\n",
       "            console.log([gd, 'removed!']);\n",
       "            Plotly.purge(gd);\n",
       "            observer.disconnect();\n",
       "        }}\n",
       "}});\n",
       "\n",
       "// Listen for the removal of the full notebook cells\n",
       "var notebookContainer = gd.closest('#notebook-container');\n",
       "if (notebookContainer) {{\n",
       "    x.observe(notebookContainer, {childList: true});\n",
       "}}\n",
       "\n",
       "// Listen for the clearing of the current output cell\n",
       "var outputEl = gd.closest('.output');\n",
       "if (outputEl) {{\n",
       "    x.observe(outputEl, {childList: true});\n",
       "}}\n",
       "\n",
       "                        })                };                });            </script>        </div>"
      ]
     },
     "metadata": {},
     "output_type": "display_data"
    }
   ],
   "source": [
    "cf.set_config_file(offline=True)\n",
    "\n",
    "comparison.iplot(kind='bar', barmode='stack', title='Количество новых пользователей в разбивке по дате')"
   ]
  },
  {
   "cell_type": "markdown",
   "metadata": {},
   "source": [
    "> По распределению пользователей нельзя сказать, что была какая-либо ошибка в сборе данных"
   ]
  },
  {
   "cell_type": "code",
   "execution_count": 32,
   "metadata": {},
   "outputs": [],
   "source": [
    "# проверим процент новых пользователей из региона EU в начальных данных (до очистки)\n",
    "\n",
    "test_users_by_region = test_1.groupby('region').agg({'user_id':'nunique'}).reset_index()\n",
    "test_users_by_region.columns = ['region', 'test_user_count']"
   ]
  },
  {
   "cell_type": "code",
   "execution_count": 33,
   "metadata": {},
   "outputs": [
    {
     "data": {
      "text/html": [
       "<div>\n",
       "<style scoped>\n",
       "    .dataframe tbody tr th:only-of-type {\n",
       "        vertical-align: middle;\n",
       "    }\n",
       "\n",
       "    .dataframe tbody tr th {\n",
       "        vertical-align: top;\n",
       "    }\n",
       "\n",
       "    .dataframe thead th {\n",
       "        text-align: right;\n",
       "    }\n",
       "</style>\n",
       "<table border=\"1\" class=\"dataframe\">\n",
       "  <thead>\n",
       "    <tr style=\"text-align: right;\">\n",
       "      <th></th>\n",
       "      <th>region</th>\n",
       "      <th>test_user_count</th>\n",
       "      <th>all_user_count</th>\n",
       "      <th>share</th>\n",
       "    </tr>\n",
       "  </thead>\n",
       "  <tbody>\n",
       "    <tr>\n",
       "      <th>0</th>\n",
       "      <td>APAC</td>\n",
       "      <td>72</td>\n",
       "      <td>2883</td>\n",
       "      <td>2.5</td>\n",
       "    </tr>\n",
       "    <tr>\n",
       "      <th>1</th>\n",
       "      <td>CIS</td>\n",
       "      <td>55</td>\n",
       "      <td>2900</td>\n",
       "      <td>1.9</td>\n",
       "    </tr>\n",
       "    <tr>\n",
       "      <th>2</th>\n",
       "      <td>EU</td>\n",
       "      <td>6351</td>\n",
       "      <td>42340</td>\n",
       "      <td>15.0</td>\n",
       "    </tr>\n",
       "    <tr>\n",
       "      <th>3</th>\n",
       "      <td>N.America</td>\n",
       "      <td>223</td>\n",
       "      <td>8347</td>\n",
       "      <td>2.7</td>\n",
       "    </tr>\n",
       "  </tbody>\n",
       "</table>\n",
       "</div>"
      ],
      "text/plain": [
       "      region  test_user_count  all_user_count  share\n",
       "0       APAC               72            2883    2.5\n",
       "1        CIS               55            2900    1.9\n",
       "2         EU             6351           42340   15.0\n",
       "3  N.America              223            8347    2.7"
      ]
     },
     "execution_count": 33,
     "metadata": {},
     "output_type": "execute_result"
    }
   ],
   "source": [
    "all_users_by_region = new_users['region'].value_counts().to_frame().reset_index()\n",
    "all_users_by_region.columns = ['region', 'all_user_count']\n",
    "\n",
    "region_info = test_users_by_region.merge(all_users_by_region, on='region', how='left')\n",
    "region_info['share'] = (region_info['test_user_count'] / region_info['all_user_count'] * 100).round(1)\n",
    "\n",
    "region_info"
   ]
  },
  {
   "cell_type": "code",
   "execution_count": 34,
   "metadata": {},
   "outputs": [
    {
     "data": {
      "text/html": [
       "<div>\n",
       "<style scoped>\n",
       "    .dataframe tbody tr th:only-of-type {\n",
       "        vertical-align: middle;\n",
       "    }\n",
       "\n",
       "    .dataframe tbody tr th {\n",
       "        vertical-align: top;\n",
       "    }\n",
       "\n",
       "    .dataframe thead th {\n",
       "        text-align: right;\n",
       "    }\n",
       "</style>\n",
       "<table border=\"1\" class=\"dataframe\">\n",
       "  <thead>\n",
       "    <tr style=\"text-align: right;\">\n",
       "      <th></th>\n",
       "      <th>region</th>\n",
       "      <th>test_user_count</th>\n",
       "      <th>all_user_count</th>\n",
       "      <th>share</th>\n",
       "    </tr>\n",
       "  </thead>\n",
       "  <tbody>\n",
       "    <tr>\n",
       "      <th>0</th>\n",
       "      <td>EU</td>\n",
       "      <td>5464</td>\n",
       "      <td>42340</td>\n",
       "      <td>12.9</td>\n",
       "    </tr>\n",
       "  </tbody>\n",
       "</table>\n",
       "</div>"
      ],
      "text/plain": [
       "  region  test_user_count  all_user_count  share\n",
       "0     EU             5464           42340   12.9"
      ]
     },
     "execution_count": 34,
     "metadata": {},
     "output_type": "execute_result"
    }
   ],
   "source": [
    "# проверим процент новых пользователей из региона EU после очистки данных\n",
    "\n",
    "test_users_by_region_checked = (\n",
    "    final_data_checked.query('region == \"EU\"')\n",
    "                    .groupby('region')\n",
    "                    .agg({'user_id':'nunique'})\n",
    "                    .reset_index()\n",
    ")\n",
    "test_users_by_region_checked.columns = ['region', 'test_user_count']\n",
    "\n",
    "region_info_checked = test_users_by_region_checked.merge(all_users_by_region, on='region', how='left')\n",
    "region_info_checked['share'] = (region_info_checked['test_user_count'] / region_info_checked['all_user_count'] * 100).round(1)\n",
    "\n",
    "region_info_checked"
   ]
  },
  {
   "cell_type": "code",
   "execution_count": 35,
   "metadata": {},
   "outputs": [
    {
     "name": "stdout",
     "output_type": "stream",
     "text": [
      "Количество участников теста:  5464\n"
     ]
    }
   ],
   "source": [
    "print('Количество участников теста: ', final_data_checked['user_id'].nunique())"
   ]
  },
  {
   "cell_type": "markdown",
   "metadata": {},
   "source": [
    "> **Вывод:** После удаления участников одновремнно двух тестов доля пользователей из EU сократилась до 12.9%. Количество участников теста 5464."
   ]
  },
  {
   "cell_type": "code",
   "execution_count": 36,
   "metadata": {},
   "outputs": [
    {
     "name": "stdout",
     "output_type": "stream",
     "text": [
      "Разница в количестве участников в группе А и В: 15.96%\n"
     ]
    }
   ],
   "source": [
    "diff = (1 - N_group_B/N_group_A)\n",
    "print(f'Разница в количестве участников в группе А и В: {diff:.2%}')"
   ]
  },
  {
   "cell_type": "markdown",
   "metadata": {},
   "source": [
    "#### Проверим конверсию на этапах <a id='funnel'> воронки </a>. Ожидаемый эффект: за 14 дней с момента регистрации пользователи покажут улучшение каждой метрики не менее, чем на 10%:\n",
    "* **конверсии в просмотр карточек товаров — событие `product_page`,**\n",
    "* **просмотры корзины — `product_cart`,**\n",
    "* **покупки — `purchase`.**"
   ]
  },
  {
   "cell_type": "code",
   "execution_count": 37,
   "metadata": {},
   "outputs": [],
   "source": [
    "# исследуем конверсию в группах на разных этапах\n",
    "\n",
    "group_A_events = group_A.drop_duplicates(['user_id', 'event_name'])['event_name'].value_counts().to_frame().reset_index()\n",
    "group_A_events = group_A_events.reindex([0,1,3,2])\n",
    "group_B_events = group_B.drop_duplicates(['user_id', 'event_name'])['event_name'].value_counts().to_frame().reset_index()\n",
    "group_B_events = group_B_events.reindex([0,1,3,2])"
   ]
  },
  {
   "cell_type": "code",
   "execution_count": 38,
   "metadata": {},
   "outputs": [
    {
     "data": {
      "application/vnd.plotly.v1+json": {
       "config": {
        "plotlyServerURL": "https://plot.ly"
       },
       "data": [
        {
         "name": "group B",
         "textinfo": "value+percent previous+percent initial",
         "textposition": "auto",
         "type": "funnel",
         "x": [
          655,
          367,
          184,
          191
         ],
         "y": [
          "login",
          "product_page",
          "product_cart",
          "purchase"
         ]
        },
        {
         "name": "group A",
         "textinfo": "value+percent previous+percent initial",
         "textposition": "inside",
         "type": "funnel",
         "x": [
          1939,
          1265,
          589,
          613
         ],
         "y": [
          "login",
          "product_page",
          "product_cart",
          "purchase"
         ]
        }
       ],
       "layout": {
        "template": {
         "data": {
          "bar": [
           {
            "error_x": {
             "color": "#2a3f5f"
            },
            "error_y": {
             "color": "#2a3f5f"
            },
            "marker": {
             "line": {
              "color": "#E5ECF6",
              "width": 0.5
             },
             "pattern": {
              "fillmode": "overlay",
              "size": 10,
              "solidity": 0.2
             }
            },
            "type": "bar"
           }
          ],
          "barpolar": [
           {
            "marker": {
             "line": {
              "color": "#E5ECF6",
              "width": 0.5
             },
             "pattern": {
              "fillmode": "overlay",
              "size": 10,
              "solidity": 0.2
             }
            },
            "type": "barpolar"
           }
          ],
          "carpet": [
           {
            "aaxis": {
             "endlinecolor": "#2a3f5f",
             "gridcolor": "white",
             "linecolor": "white",
             "minorgridcolor": "white",
             "startlinecolor": "#2a3f5f"
            },
            "baxis": {
             "endlinecolor": "#2a3f5f",
             "gridcolor": "white",
             "linecolor": "white",
             "minorgridcolor": "white",
             "startlinecolor": "#2a3f5f"
            },
            "type": "carpet"
           }
          ],
          "choropleth": [
           {
            "colorbar": {
             "outlinewidth": 0,
             "ticks": ""
            },
            "type": "choropleth"
           }
          ],
          "contour": [
           {
            "colorbar": {
             "outlinewidth": 0,
             "ticks": ""
            },
            "colorscale": [
             [
              0,
              "#0d0887"
             ],
             [
              0.1111111111111111,
              "#46039f"
             ],
             [
              0.2222222222222222,
              "#7201a8"
             ],
             [
              0.3333333333333333,
              "#9c179e"
             ],
             [
              0.4444444444444444,
              "#bd3786"
             ],
             [
              0.5555555555555556,
              "#d8576b"
             ],
             [
              0.6666666666666666,
              "#ed7953"
             ],
             [
              0.7777777777777778,
              "#fb9f3a"
             ],
             [
              0.8888888888888888,
              "#fdca26"
             ],
             [
              1,
              "#f0f921"
             ]
            ],
            "type": "contour"
           }
          ],
          "contourcarpet": [
           {
            "colorbar": {
             "outlinewidth": 0,
             "ticks": ""
            },
            "type": "contourcarpet"
           }
          ],
          "heatmap": [
           {
            "colorbar": {
             "outlinewidth": 0,
             "ticks": ""
            },
            "colorscale": [
             [
              0,
              "#0d0887"
             ],
             [
              0.1111111111111111,
              "#46039f"
             ],
             [
              0.2222222222222222,
              "#7201a8"
             ],
             [
              0.3333333333333333,
              "#9c179e"
             ],
             [
              0.4444444444444444,
              "#bd3786"
             ],
             [
              0.5555555555555556,
              "#d8576b"
             ],
             [
              0.6666666666666666,
              "#ed7953"
             ],
             [
              0.7777777777777778,
              "#fb9f3a"
             ],
             [
              0.8888888888888888,
              "#fdca26"
             ],
             [
              1,
              "#f0f921"
             ]
            ],
            "type": "heatmap"
           }
          ],
          "heatmapgl": [
           {
            "colorbar": {
             "outlinewidth": 0,
             "ticks": ""
            },
            "colorscale": [
             [
              0,
              "#0d0887"
             ],
             [
              0.1111111111111111,
              "#46039f"
             ],
             [
              0.2222222222222222,
              "#7201a8"
             ],
             [
              0.3333333333333333,
              "#9c179e"
             ],
             [
              0.4444444444444444,
              "#bd3786"
             ],
             [
              0.5555555555555556,
              "#d8576b"
             ],
             [
              0.6666666666666666,
              "#ed7953"
             ],
             [
              0.7777777777777778,
              "#fb9f3a"
             ],
             [
              0.8888888888888888,
              "#fdca26"
             ],
             [
              1,
              "#f0f921"
             ]
            ],
            "type": "heatmapgl"
           }
          ],
          "histogram": [
           {
            "marker": {
             "pattern": {
              "fillmode": "overlay",
              "size": 10,
              "solidity": 0.2
             }
            },
            "type": "histogram"
           }
          ],
          "histogram2d": [
           {
            "colorbar": {
             "outlinewidth": 0,
             "ticks": ""
            },
            "colorscale": [
             [
              0,
              "#0d0887"
             ],
             [
              0.1111111111111111,
              "#46039f"
             ],
             [
              0.2222222222222222,
              "#7201a8"
             ],
             [
              0.3333333333333333,
              "#9c179e"
             ],
             [
              0.4444444444444444,
              "#bd3786"
             ],
             [
              0.5555555555555556,
              "#d8576b"
             ],
             [
              0.6666666666666666,
              "#ed7953"
             ],
             [
              0.7777777777777778,
              "#fb9f3a"
             ],
             [
              0.8888888888888888,
              "#fdca26"
             ],
             [
              1,
              "#f0f921"
             ]
            ],
            "type": "histogram2d"
           }
          ],
          "histogram2dcontour": [
           {
            "colorbar": {
             "outlinewidth": 0,
             "ticks": ""
            },
            "colorscale": [
             [
              0,
              "#0d0887"
             ],
             [
              0.1111111111111111,
              "#46039f"
             ],
             [
              0.2222222222222222,
              "#7201a8"
             ],
             [
              0.3333333333333333,
              "#9c179e"
             ],
             [
              0.4444444444444444,
              "#bd3786"
             ],
             [
              0.5555555555555556,
              "#d8576b"
             ],
             [
              0.6666666666666666,
              "#ed7953"
             ],
             [
              0.7777777777777778,
              "#fb9f3a"
             ],
             [
              0.8888888888888888,
              "#fdca26"
             ],
             [
              1,
              "#f0f921"
             ]
            ],
            "type": "histogram2dcontour"
           }
          ],
          "mesh3d": [
           {
            "colorbar": {
             "outlinewidth": 0,
             "ticks": ""
            },
            "type": "mesh3d"
           }
          ],
          "parcoords": [
           {
            "line": {
             "colorbar": {
              "outlinewidth": 0,
              "ticks": ""
             }
            },
            "type": "parcoords"
           }
          ],
          "pie": [
           {
            "automargin": true,
            "type": "pie"
           }
          ],
          "scatter": [
           {
            "marker": {
             "colorbar": {
              "outlinewidth": 0,
              "ticks": ""
             }
            },
            "type": "scatter"
           }
          ],
          "scatter3d": [
           {
            "line": {
             "colorbar": {
              "outlinewidth": 0,
              "ticks": ""
             }
            },
            "marker": {
             "colorbar": {
              "outlinewidth": 0,
              "ticks": ""
             }
            },
            "type": "scatter3d"
           }
          ],
          "scattercarpet": [
           {
            "marker": {
             "colorbar": {
              "outlinewidth": 0,
              "ticks": ""
             }
            },
            "type": "scattercarpet"
           }
          ],
          "scattergeo": [
           {
            "marker": {
             "colorbar": {
              "outlinewidth": 0,
              "ticks": ""
             }
            },
            "type": "scattergeo"
           }
          ],
          "scattergl": [
           {
            "marker": {
             "colorbar": {
              "outlinewidth": 0,
              "ticks": ""
             }
            },
            "type": "scattergl"
           }
          ],
          "scattermapbox": [
           {
            "marker": {
             "colorbar": {
              "outlinewidth": 0,
              "ticks": ""
             }
            },
            "type": "scattermapbox"
           }
          ],
          "scatterpolar": [
           {
            "marker": {
             "colorbar": {
              "outlinewidth": 0,
              "ticks": ""
             }
            },
            "type": "scatterpolar"
           }
          ],
          "scatterpolargl": [
           {
            "marker": {
             "colorbar": {
              "outlinewidth": 0,
              "ticks": ""
             }
            },
            "type": "scatterpolargl"
           }
          ],
          "scatterternary": [
           {
            "marker": {
             "colorbar": {
              "outlinewidth": 0,
              "ticks": ""
             }
            },
            "type": "scatterternary"
           }
          ],
          "surface": [
           {
            "colorbar": {
             "outlinewidth": 0,
             "ticks": ""
            },
            "colorscale": [
             [
              0,
              "#0d0887"
             ],
             [
              0.1111111111111111,
              "#46039f"
             ],
             [
              0.2222222222222222,
              "#7201a8"
             ],
             [
              0.3333333333333333,
              "#9c179e"
             ],
             [
              0.4444444444444444,
              "#bd3786"
             ],
             [
              0.5555555555555556,
              "#d8576b"
             ],
             [
              0.6666666666666666,
              "#ed7953"
             ],
             [
              0.7777777777777778,
              "#fb9f3a"
             ],
             [
              0.8888888888888888,
              "#fdca26"
             ],
             [
              1,
              "#f0f921"
             ]
            ],
            "type": "surface"
           }
          ],
          "table": [
           {
            "cells": {
             "fill": {
              "color": "#EBF0F8"
             },
             "line": {
              "color": "white"
             }
            },
            "header": {
             "fill": {
              "color": "#C8D4E3"
             },
             "line": {
              "color": "white"
             }
            },
            "type": "table"
           }
          ]
         },
         "layout": {
          "annotationdefaults": {
           "arrowcolor": "#2a3f5f",
           "arrowhead": 0,
           "arrowwidth": 1
          },
          "autotypenumbers": "strict",
          "coloraxis": {
           "colorbar": {
            "outlinewidth": 0,
            "ticks": ""
           }
          },
          "colorscale": {
           "diverging": [
            [
             0,
             "#8e0152"
            ],
            [
             0.1,
             "#c51b7d"
            ],
            [
             0.2,
             "#de77ae"
            ],
            [
             0.3,
             "#f1b6da"
            ],
            [
             0.4,
             "#fde0ef"
            ],
            [
             0.5,
             "#f7f7f7"
            ],
            [
             0.6,
             "#e6f5d0"
            ],
            [
             0.7,
             "#b8e186"
            ],
            [
             0.8,
             "#7fbc41"
            ],
            [
             0.9,
             "#4d9221"
            ],
            [
             1,
             "#276419"
            ]
           ],
           "sequential": [
            [
             0,
             "#0d0887"
            ],
            [
             0.1111111111111111,
             "#46039f"
            ],
            [
             0.2222222222222222,
             "#7201a8"
            ],
            [
             0.3333333333333333,
             "#9c179e"
            ],
            [
             0.4444444444444444,
             "#bd3786"
            ],
            [
             0.5555555555555556,
             "#d8576b"
            ],
            [
             0.6666666666666666,
             "#ed7953"
            ],
            [
             0.7777777777777778,
             "#fb9f3a"
            ],
            [
             0.8888888888888888,
             "#fdca26"
            ],
            [
             1,
             "#f0f921"
            ]
           ],
           "sequentialminus": [
            [
             0,
             "#0d0887"
            ],
            [
             0.1111111111111111,
             "#46039f"
            ],
            [
             0.2222222222222222,
             "#7201a8"
            ],
            [
             0.3333333333333333,
             "#9c179e"
            ],
            [
             0.4444444444444444,
             "#bd3786"
            ],
            [
             0.5555555555555556,
             "#d8576b"
            ],
            [
             0.6666666666666666,
             "#ed7953"
            ],
            [
             0.7777777777777778,
             "#fb9f3a"
            ],
            [
             0.8888888888888888,
             "#fdca26"
            ],
            [
             1,
             "#f0f921"
            ]
           ]
          },
          "colorway": [
           "#636efa",
           "#EF553B",
           "#00cc96",
           "#ab63fa",
           "#FFA15A",
           "#19d3f3",
           "#FF6692",
           "#B6E880",
           "#FF97FF",
           "#FECB52"
          ],
          "font": {
           "color": "#2a3f5f"
          },
          "geo": {
           "bgcolor": "white",
           "lakecolor": "white",
           "landcolor": "#E5ECF6",
           "showlakes": true,
           "showland": true,
           "subunitcolor": "white"
          },
          "hoverlabel": {
           "align": "left"
          },
          "hovermode": "closest",
          "mapbox": {
           "style": "light"
          },
          "paper_bgcolor": "white",
          "plot_bgcolor": "#E5ECF6",
          "polar": {
           "angularaxis": {
            "gridcolor": "white",
            "linecolor": "white",
            "ticks": ""
           },
           "bgcolor": "#E5ECF6",
           "radialaxis": {
            "gridcolor": "white",
            "linecolor": "white",
            "ticks": ""
           }
          },
          "scene": {
           "xaxis": {
            "backgroundcolor": "#E5ECF6",
            "gridcolor": "white",
            "gridwidth": 2,
            "linecolor": "white",
            "showbackground": true,
            "ticks": "",
            "zerolinecolor": "white"
           },
           "yaxis": {
            "backgroundcolor": "#E5ECF6",
            "gridcolor": "white",
            "gridwidth": 2,
            "linecolor": "white",
            "showbackground": true,
            "ticks": "",
            "zerolinecolor": "white"
           },
           "zaxis": {
            "backgroundcolor": "#E5ECF6",
            "gridcolor": "white",
            "gridwidth": 2,
            "linecolor": "white",
            "showbackground": true,
            "ticks": "",
            "zerolinecolor": "white"
           }
          },
          "shapedefaults": {
           "line": {
            "color": "#2a3f5f"
           }
          },
          "ternary": {
           "aaxis": {
            "gridcolor": "white",
            "linecolor": "white",
            "ticks": ""
           },
           "baxis": {
            "gridcolor": "white",
            "linecolor": "white",
            "ticks": ""
           },
           "bgcolor": "#E5ECF6",
           "caxis": {
            "gridcolor": "white",
            "linecolor": "white",
            "ticks": ""
           }
          },
          "title": {
           "x": 0.05
          },
          "xaxis": {
           "automargin": true,
           "gridcolor": "white",
           "linecolor": "white",
           "ticks": "",
           "title": {
            "standoff": 15
           },
           "zerolinecolor": "white",
           "zerolinewidth": 2
          },
          "yaxis": {
           "automargin": true,
           "gridcolor": "white",
           "linecolor": "white",
           "ticks": "",
           "title": {
            "standoff": 15
           },
           "zerolinecolor": "white",
           "zerolinewidth": 2
          }
         }
        },
        "title": {
         "text": "Воронка по группам А/В"
        }
       }
      },
      "text/html": [
       "<div>                            <div id=\"35f16583-c551-46b4-a72f-bd2ea16ec3d8\" class=\"plotly-graph-div\" style=\"height:525px; width:100%;\"></div>            <script type=\"text/javascript\">                require([\"plotly\"], function(Plotly) {                    window.PLOTLYENV=window.PLOTLYENV || {};                                    if (document.getElementById(\"35f16583-c551-46b4-a72f-bd2ea16ec3d8\")) {                    Plotly.newPlot(                        \"35f16583-c551-46b4-a72f-bd2ea16ec3d8\",                        [{\"name\":\"group B\",\"textinfo\":\"value+percent previous+percent initial\",\"textposition\":\"auto\",\"x\":[655,367,184,191],\"y\":[\"login\",\"product_page\",\"product_cart\",\"purchase\"],\"type\":\"funnel\"},{\"name\":\"group A\",\"textinfo\":\"value+percent previous+percent initial\",\"textposition\":\"inside\",\"x\":[1939,1265,589,613],\"y\":[\"login\",\"product_page\",\"product_cart\",\"purchase\"],\"type\":\"funnel\"}],                        {\"template\":{\"data\":{\"bar\":[{\"error_x\":{\"color\":\"#2a3f5f\"},\"error_y\":{\"color\":\"#2a3f5f\"},\"marker\":{\"line\":{\"color\":\"#E5ECF6\",\"width\":0.5},\"pattern\":{\"fillmode\":\"overlay\",\"size\":10,\"solidity\":0.2}},\"type\":\"bar\"}],\"barpolar\":[{\"marker\":{\"line\":{\"color\":\"#E5ECF6\",\"width\":0.5},\"pattern\":{\"fillmode\":\"overlay\",\"size\":10,\"solidity\":0.2}},\"type\":\"barpolar\"}],\"carpet\":[{\"aaxis\":{\"endlinecolor\":\"#2a3f5f\",\"gridcolor\":\"white\",\"linecolor\":\"white\",\"minorgridcolor\":\"white\",\"startlinecolor\":\"#2a3f5f\"},\"baxis\":{\"endlinecolor\":\"#2a3f5f\",\"gridcolor\":\"white\",\"linecolor\":\"white\",\"minorgridcolor\":\"white\",\"startlinecolor\":\"#2a3f5f\"},\"type\":\"carpet\"}],\"choropleth\":[{\"colorbar\":{\"outlinewidth\":0,\"ticks\":\"\"},\"type\":\"choropleth\"}],\"contour\":[{\"colorbar\":{\"outlinewidth\":0,\"ticks\":\"\"},\"colorscale\":[[0.0,\"#0d0887\"],[0.1111111111111111,\"#46039f\"],[0.2222222222222222,\"#7201a8\"],[0.3333333333333333,\"#9c179e\"],[0.4444444444444444,\"#bd3786\"],[0.5555555555555556,\"#d8576b\"],[0.6666666666666666,\"#ed7953\"],[0.7777777777777778,\"#fb9f3a\"],[0.8888888888888888,\"#fdca26\"],[1.0,\"#f0f921\"]],\"type\":\"contour\"}],\"contourcarpet\":[{\"colorbar\":{\"outlinewidth\":0,\"ticks\":\"\"},\"type\":\"contourcarpet\"}],\"heatmap\":[{\"colorbar\":{\"outlinewidth\":0,\"ticks\":\"\"},\"colorscale\":[[0.0,\"#0d0887\"],[0.1111111111111111,\"#46039f\"],[0.2222222222222222,\"#7201a8\"],[0.3333333333333333,\"#9c179e\"],[0.4444444444444444,\"#bd3786\"],[0.5555555555555556,\"#d8576b\"],[0.6666666666666666,\"#ed7953\"],[0.7777777777777778,\"#fb9f3a\"],[0.8888888888888888,\"#fdca26\"],[1.0,\"#f0f921\"]],\"type\":\"heatmap\"}],\"heatmapgl\":[{\"colorbar\":{\"outlinewidth\":0,\"ticks\":\"\"},\"colorscale\":[[0.0,\"#0d0887\"],[0.1111111111111111,\"#46039f\"],[0.2222222222222222,\"#7201a8\"],[0.3333333333333333,\"#9c179e\"],[0.4444444444444444,\"#bd3786\"],[0.5555555555555556,\"#d8576b\"],[0.6666666666666666,\"#ed7953\"],[0.7777777777777778,\"#fb9f3a\"],[0.8888888888888888,\"#fdca26\"],[1.0,\"#f0f921\"]],\"type\":\"heatmapgl\"}],\"histogram\":[{\"marker\":{\"pattern\":{\"fillmode\":\"overlay\",\"size\":10,\"solidity\":0.2}},\"type\":\"histogram\"}],\"histogram2d\":[{\"colorbar\":{\"outlinewidth\":0,\"ticks\":\"\"},\"colorscale\":[[0.0,\"#0d0887\"],[0.1111111111111111,\"#46039f\"],[0.2222222222222222,\"#7201a8\"],[0.3333333333333333,\"#9c179e\"],[0.4444444444444444,\"#bd3786\"],[0.5555555555555556,\"#d8576b\"],[0.6666666666666666,\"#ed7953\"],[0.7777777777777778,\"#fb9f3a\"],[0.8888888888888888,\"#fdca26\"],[1.0,\"#f0f921\"]],\"type\":\"histogram2d\"}],\"histogram2dcontour\":[{\"colorbar\":{\"outlinewidth\":0,\"ticks\":\"\"},\"colorscale\":[[0.0,\"#0d0887\"],[0.1111111111111111,\"#46039f\"],[0.2222222222222222,\"#7201a8\"],[0.3333333333333333,\"#9c179e\"],[0.4444444444444444,\"#bd3786\"],[0.5555555555555556,\"#d8576b\"],[0.6666666666666666,\"#ed7953\"],[0.7777777777777778,\"#fb9f3a\"],[0.8888888888888888,\"#fdca26\"],[1.0,\"#f0f921\"]],\"type\":\"histogram2dcontour\"}],\"mesh3d\":[{\"colorbar\":{\"outlinewidth\":0,\"ticks\":\"\"},\"type\":\"mesh3d\"}],\"parcoords\":[{\"line\":{\"colorbar\":{\"outlinewidth\":0,\"ticks\":\"\"}},\"type\":\"parcoords\"}],\"pie\":[{\"automargin\":true,\"type\":\"pie\"}],\"scatter\":[{\"marker\":{\"colorbar\":{\"outlinewidth\":0,\"ticks\":\"\"}},\"type\":\"scatter\"}],\"scatter3d\":[{\"line\":{\"colorbar\":{\"outlinewidth\":0,\"ticks\":\"\"}},\"marker\":{\"colorbar\":{\"outlinewidth\":0,\"ticks\":\"\"}},\"type\":\"scatter3d\"}],\"scattercarpet\":[{\"marker\":{\"colorbar\":{\"outlinewidth\":0,\"ticks\":\"\"}},\"type\":\"scattercarpet\"}],\"scattergeo\":[{\"marker\":{\"colorbar\":{\"outlinewidth\":0,\"ticks\":\"\"}},\"type\":\"scattergeo\"}],\"scattergl\":[{\"marker\":{\"colorbar\":{\"outlinewidth\":0,\"ticks\":\"\"}},\"type\":\"scattergl\"}],\"scattermapbox\":[{\"marker\":{\"colorbar\":{\"outlinewidth\":0,\"ticks\":\"\"}},\"type\":\"scattermapbox\"}],\"scatterpolar\":[{\"marker\":{\"colorbar\":{\"outlinewidth\":0,\"ticks\":\"\"}},\"type\":\"scatterpolar\"}],\"scatterpolargl\":[{\"marker\":{\"colorbar\":{\"outlinewidth\":0,\"ticks\":\"\"}},\"type\":\"scatterpolargl\"}],\"scatterternary\":[{\"marker\":{\"colorbar\":{\"outlinewidth\":0,\"ticks\":\"\"}},\"type\":\"scatterternary\"}],\"surface\":[{\"colorbar\":{\"outlinewidth\":0,\"ticks\":\"\"},\"colorscale\":[[0.0,\"#0d0887\"],[0.1111111111111111,\"#46039f\"],[0.2222222222222222,\"#7201a8\"],[0.3333333333333333,\"#9c179e\"],[0.4444444444444444,\"#bd3786\"],[0.5555555555555556,\"#d8576b\"],[0.6666666666666666,\"#ed7953\"],[0.7777777777777778,\"#fb9f3a\"],[0.8888888888888888,\"#fdca26\"],[1.0,\"#f0f921\"]],\"type\":\"surface\"}],\"table\":[{\"cells\":{\"fill\":{\"color\":\"#EBF0F8\"},\"line\":{\"color\":\"white\"}},\"header\":{\"fill\":{\"color\":\"#C8D4E3\"},\"line\":{\"color\":\"white\"}},\"type\":\"table\"}]},\"layout\":{\"annotationdefaults\":{\"arrowcolor\":\"#2a3f5f\",\"arrowhead\":0,\"arrowwidth\":1},\"autotypenumbers\":\"strict\",\"coloraxis\":{\"colorbar\":{\"outlinewidth\":0,\"ticks\":\"\"}},\"colorscale\":{\"diverging\":[[0,\"#8e0152\"],[0.1,\"#c51b7d\"],[0.2,\"#de77ae\"],[0.3,\"#f1b6da\"],[0.4,\"#fde0ef\"],[0.5,\"#f7f7f7\"],[0.6,\"#e6f5d0\"],[0.7,\"#b8e186\"],[0.8,\"#7fbc41\"],[0.9,\"#4d9221\"],[1,\"#276419\"]],\"sequential\":[[0.0,\"#0d0887\"],[0.1111111111111111,\"#46039f\"],[0.2222222222222222,\"#7201a8\"],[0.3333333333333333,\"#9c179e\"],[0.4444444444444444,\"#bd3786\"],[0.5555555555555556,\"#d8576b\"],[0.6666666666666666,\"#ed7953\"],[0.7777777777777778,\"#fb9f3a\"],[0.8888888888888888,\"#fdca26\"],[1.0,\"#f0f921\"]],\"sequentialminus\":[[0.0,\"#0d0887\"],[0.1111111111111111,\"#46039f\"],[0.2222222222222222,\"#7201a8\"],[0.3333333333333333,\"#9c179e\"],[0.4444444444444444,\"#bd3786\"],[0.5555555555555556,\"#d8576b\"],[0.6666666666666666,\"#ed7953\"],[0.7777777777777778,\"#fb9f3a\"],[0.8888888888888888,\"#fdca26\"],[1.0,\"#f0f921\"]]},\"colorway\":[\"#636efa\",\"#EF553B\",\"#00cc96\",\"#ab63fa\",\"#FFA15A\",\"#19d3f3\",\"#FF6692\",\"#B6E880\",\"#FF97FF\",\"#FECB52\"],\"font\":{\"color\":\"#2a3f5f\"},\"geo\":{\"bgcolor\":\"white\",\"lakecolor\":\"white\",\"landcolor\":\"#E5ECF6\",\"showlakes\":true,\"showland\":true,\"subunitcolor\":\"white\"},\"hoverlabel\":{\"align\":\"left\"},\"hovermode\":\"closest\",\"mapbox\":{\"style\":\"light\"},\"paper_bgcolor\":\"white\",\"plot_bgcolor\":\"#E5ECF6\",\"polar\":{\"angularaxis\":{\"gridcolor\":\"white\",\"linecolor\":\"white\",\"ticks\":\"\"},\"bgcolor\":\"#E5ECF6\",\"radialaxis\":{\"gridcolor\":\"white\",\"linecolor\":\"white\",\"ticks\":\"\"}},\"scene\":{\"xaxis\":{\"backgroundcolor\":\"#E5ECF6\",\"gridcolor\":\"white\",\"gridwidth\":2,\"linecolor\":\"white\",\"showbackground\":true,\"ticks\":\"\",\"zerolinecolor\":\"white\"},\"yaxis\":{\"backgroundcolor\":\"#E5ECF6\",\"gridcolor\":\"white\",\"gridwidth\":2,\"linecolor\":\"white\",\"showbackground\":true,\"ticks\":\"\",\"zerolinecolor\":\"white\"},\"zaxis\":{\"backgroundcolor\":\"#E5ECF6\",\"gridcolor\":\"white\",\"gridwidth\":2,\"linecolor\":\"white\",\"showbackground\":true,\"ticks\":\"\",\"zerolinecolor\":\"white\"}},\"shapedefaults\":{\"line\":{\"color\":\"#2a3f5f\"}},\"ternary\":{\"aaxis\":{\"gridcolor\":\"white\",\"linecolor\":\"white\",\"ticks\":\"\"},\"baxis\":{\"gridcolor\":\"white\",\"linecolor\":\"white\",\"ticks\":\"\"},\"bgcolor\":\"#E5ECF6\",\"caxis\":{\"gridcolor\":\"white\",\"linecolor\":\"white\",\"ticks\":\"\"}},\"title\":{\"x\":0.05},\"xaxis\":{\"automargin\":true,\"gridcolor\":\"white\",\"linecolor\":\"white\",\"ticks\":\"\",\"title\":{\"standoff\":15},\"zerolinecolor\":\"white\",\"zerolinewidth\":2},\"yaxis\":{\"automargin\":true,\"gridcolor\":\"white\",\"linecolor\":\"white\",\"ticks\":\"\",\"title\":{\"standoff\":15},\"zerolinecolor\":\"white\",\"zerolinewidth\":2}}},\"title\":{\"text\":\"\\u0412\\u043e\\u0440\\u043e\\u043d\\u043a\\u0430 \\u043f\\u043e \\u0433\\u0440\\u0443\\u043f\\u043f\\u0430\\u043c \\u0410/\\u0412\"}},                        {\"responsive\": true}                    ).then(function(){\n",
       "                            \n",
       "var gd = document.getElementById('35f16583-c551-46b4-a72f-bd2ea16ec3d8');\n",
       "var x = new MutationObserver(function (mutations, observer) {{\n",
       "        var display = window.getComputedStyle(gd).display;\n",
       "        if (!display || display === 'none') {{\n",
       "            console.log([gd, 'removed!']);\n",
       "            Plotly.purge(gd);\n",
       "            observer.disconnect();\n",
       "        }}\n",
       "}});\n",
       "\n",
       "// Listen for the removal of the full notebook cells\n",
       "var notebookContainer = gd.closest('#notebook-container');\n",
       "if (notebookContainer) {{\n",
       "    x.observe(notebookContainer, {childList: true});\n",
       "}}\n",
       "\n",
       "// Listen for the clearing of the current output cell\n",
       "var outputEl = gd.closest('.output');\n",
       "if (outputEl) {{\n",
       "    x.observe(outputEl, {childList: true});\n",
       "}}\n",
       "\n",
       "                        })                };                });            </script>        </div>"
      ]
     },
     "metadata": {},
     "output_type": "display_data"
    }
   ],
   "source": [
    "# построим воронку\n",
    "\n",
    "fig = go.Figure()\n",
    "\n",
    "fig.add_trace(go.Funnel(\n",
    "    name='group B',\n",
    "    y = group_B_events['index'],\n",
    "    x = group_B_events['event_name'].to_list(),\n",
    "    textposition = \"auto\",\n",
    "    textinfo = \"value+percent previous+ percent initial\"\n",
    "    )) \n",
    "fig.add_trace(go.Funnel(\n",
    "    name='group A',\n",
    "    y = group_A_events['index'].to_list(),\n",
    "    x = group_A_events['event_name'].to_list() ,\n",
    "    textposition = \"inside\",\n",
    "    textinfo = \"value+percent previous+ percent initial\"\n",
    "    ))\n",
    "fig.update_layout(title_text='Воронка по группам А/В')\n",
    "\n",
    "fig.show()"
   ]
  },
  {
   "cell_type": "code",
   "execution_count": 39,
   "metadata": {},
   "outputs": [
    {
     "data": {
      "text/html": [
       "<div>\n",
       "<style scoped>\n",
       "    .dataframe tbody tr th:only-of-type {\n",
       "        vertical-align: middle;\n",
       "    }\n",
       "\n",
       "    .dataframe tbody tr th {\n",
       "        vertical-align: top;\n",
       "    }\n",
       "\n",
       "    .dataframe thead th {\n",
       "        text-align: right;\n",
       "    }\n",
       "</style>\n",
       "<table border=\"1\" class=\"dataframe\">\n",
       "  <thead>\n",
       "    <tr style=\"text-align: right;\">\n",
       "      <th></th>\n",
       "      <th>index</th>\n",
       "      <th>total_events_B</th>\n",
       "      <th>total_events_A</th>\n",
       "      <th>CR_B, %</th>\n",
       "      <th>CR_A, %</th>\n",
       "      <th>diff</th>\n",
       "    </tr>\n",
       "  </thead>\n",
       "  <tbody>\n",
       "    <tr>\n",
       "      <th>0</th>\n",
       "      <td>login</td>\n",
       "      <td>655</td>\n",
       "      <td>1939</td>\n",
       "      <td>NaN</td>\n",
       "      <td>NaN</td>\n",
       "      <td>NaN</td>\n",
       "    </tr>\n",
       "    <tr>\n",
       "      <th>1</th>\n",
       "      <td>product_page</td>\n",
       "      <td>367</td>\n",
       "      <td>1265</td>\n",
       "      <td>56.0</td>\n",
       "      <td>65.2</td>\n",
       "      <td>-14.1</td>\n",
       "    </tr>\n",
       "    <tr>\n",
       "      <th>2</th>\n",
       "      <td>product_cart</td>\n",
       "      <td>184</td>\n",
       "      <td>589</td>\n",
       "      <td>50.1</td>\n",
       "      <td>46.6</td>\n",
       "      <td>7.5</td>\n",
       "    </tr>\n",
       "    <tr>\n",
       "      <th>3</th>\n",
       "      <td>purchase</td>\n",
       "      <td>191</td>\n",
       "      <td>613</td>\n",
       "      <td>103.8</td>\n",
       "      <td>104.1</td>\n",
       "      <td>-0.3</td>\n",
       "    </tr>\n",
       "  </tbody>\n",
       "</table>\n",
       "</div>"
      ],
      "text/plain": [
       "          index  total_events_B  total_events_A  CR_B, %  CR_A, %  diff\n",
       "0         login             655            1939      NaN      NaN   NaN\n",
       "1  product_page             367            1265     56.0     65.2 -14.1\n",
       "2  product_cart             184             589     50.1     46.6   7.5\n",
       "3      purchase             191             613    103.8    104.1  -0.3"
      ]
     },
     "execution_count": 39,
     "metadata": {},
     "output_type": "execute_result"
    }
   ],
   "source": [
    "group_B_events = group_B_events.rename(columns={'event_name' : 'total_events_B'})\n",
    "group_A_events = group_A_events.rename(columns={'event_name' : 'total_events_A'})\n",
    "\n",
    "CR = group_B_events.merge(group_A_events, on='index')\n",
    "CR['CR_B, %'] = ((CR['total_events_B']/CR['total_events_B'].shift(1))*100).round(1)\n",
    "CR['CR_A, %'] = ((CR['total_events_A']/CR['total_events_A'].shift(1))*100).round(1)\n",
    "\n",
    "\n",
    "CR['diff'] = ((CR['CR_B, %']/CR['CR_A, %'] - 1)*100).round(1)\n",
    "CR"
   ]
  },
  {
   "cell_type": "markdown",
   "metadata": {},
   "source": [
    "1. Конверсия в просмотр карточек товаров для группы А 65.2%, а для группы В - 56%\n",
    "2. Конверсия в просмотр корзины для группы А 46.6% , а для группы В - 50.1%\n",
    "3. Конверсия в покупки для группы А 104.1%, а для группы В - 103.8%\n",
    "\n",
    "> **Вывод:** \n",
    "Таким образом, ожидаемого увеличения конверсии для всех этапов на 10% по группе В не наблюдается.\n",
    "\n",
    "Для групп А и В наблюдается большое количество переходов со страницы товара сразу на оплату, минуя просмотр корзины. Если смотреть на воронку, то мы видим, что конверсия в переход между событиями \"просмотр корзины\" и \"покупка\" больше 100%. Это может быть объяснено наличием кнопки \"Купить сразу\". "
   ]
  },
  {
   "cell_type": "markdown",
   "metadata": {},
   "source": [
    "#### <a id='tz'> Общий вывод </a>\n",
    "Тест проведен не корректно (не соответствует ТЗ), поскольку:\n",
    "1. Количество пользователей меньше 6000 (а именно 5464)\n",
    "2. 2870 пользователей не совершали никаких действий в период теста\n",
    "3. Последняя дата совершения действий - 30 декабря, соответственно не для всех пользоватлей прошло 14 дней с момента регистрации\n",
    "4. Контрольная и тестовые группы не одинаковы по размерам (2969 пользователей в группе А и 2495 - в группе В)\n",
    "5. Аудитория - 12.9% из EU вместо заявленых 15.0%\n",
    "6. Улучшения каждой метрики не менее, чем на 10%, не наблюдается"
   ]
  },
  {
   "cell_type": "markdown",
   "metadata": {},
   "source": [
    "### <a id='analysis'> Анализ данных </a>"
   ]
  },
  {
   "cell_type": "markdown",
   "metadata": {},
   "source": [
    "#### Количество событий на пользователя одинаково распределены в выборках?"
   ]
  },
  {
   "cell_type": "code",
   "execution_count": 40,
   "metadata": {},
   "outputs": [
    {
     "data": {
      "application/vnd.plotly.v1+json": {
       "config": {
        "plotlyServerURL": "https://plot.ly"
       },
       "data": [
        {
         "name": "Group A",
         "text": [
          "3.14",
          "3.15",
          "3.12",
          "3.02"
         ],
         "textposition": "auto",
         "type": "bar",
         "x": [
          "login",
          "product_cart",
          "product_page",
          "purchase"
         ],
         "y": [
          3.14,
          3.15,
          3.12,
          3.02
         ]
        },
        {
         "name": "Group B",
         "text": [
          "2.78",
          "2.7",
          "2.64",
          "2.59"
         ],
         "textposition": "auto",
         "type": "bar",
         "x": [
          "login",
          "product_cart",
          "product_page",
          "purchase"
         ],
         "y": [
          2.78,
          2.7,
          2.64,
          2.59
         ]
        }
       ],
       "layout": {
        "barmode": "group",
        "template": {
         "data": {
          "bar": [
           {
            "error_x": {
             "color": "#2a3f5f"
            },
            "error_y": {
             "color": "#2a3f5f"
            },
            "marker": {
             "line": {
              "color": "#E5ECF6",
              "width": 0.5
             },
             "pattern": {
              "fillmode": "overlay",
              "size": 10,
              "solidity": 0.2
             }
            },
            "type": "bar"
           }
          ],
          "barpolar": [
           {
            "marker": {
             "line": {
              "color": "#E5ECF6",
              "width": 0.5
             },
             "pattern": {
              "fillmode": "overlay",
              "size": 10,
              "solidity": 0.2
             }
            },
            "type": "barpolar"
           }
          ],
          "carpet": [
           {
            "aaxis": {
             "endlinecolor": "#2a3f5f",
             "gridcolor": "white",
             "linecolor": "white",
             "minorgridcolor": "white",
             "startlinecolor": "#2a3f5f"
            },
            "baxis": {
             "endlinecolor": "#2a3f5f",
             "gridcolor": "white",
             "linecolor": "white",
             "minorgridcolor": "white",
             "startlinecolor": "#2a3f5f"
            },
            "type": "carpet"
           }
          ],
          "choropleth": [
           {
            "colorbar": {
             "outlinewidth": 0,
             "ticks": ""
            },
            "type": "choropleth"
           }
          ],
          "contour": [
           {
            "colorbar": {
             "outlinewidth": 0,
             "ticks": ""
            },
            "colorscale": [
             [
              0,
              "#0d0887"
             ],
             [
              0.1111111111111111,
              "#46039f"
             ],
             [
              0.2222222222222222,
              "#7201a8"
             ],
             [
              0.3333333333333333,
              "#9c179e"
             ],
             [
              0.4444444444444444,
              "#bd3786"
             ],
             [
              0.5555555555555556,
              "#d8576b"
             ],
             [
              0.6666666666666666,
              "#ed7953"
             ],
             [
              0.7777777777777778,
              "#fb9f3a"
             ],
             [
              0.8888888888888888,
              "#fdca26"
             ],
             [
              1,
              "#f0f921"
             ]
            ],
            "type": "contour"
           }
          ],
          "contourcarpet": [
           {
            "colorbar": {
             "outlinewidth": 0,
             "ticks": ""
            },
            "type": "contourcarpet"
           }
          ],
          "heatmap": [
           {
            "colorbar": {
             "outlinewidth": 0,
             "ticks": ""
            },
            "colorscale": [
             [
              0,
              "#0d0887"
             ],
             [
              0.1111111111111111,
              "#46039f"
             ],
             [
              0.2222222222222222,
              "#7201a8"
             ],
             [
              0.3333333333333333,
              "#9c179e"
             ],
             [
              0.4444444444444444,
              "#bd3786"
             ],
             [
              0.5555555555555556,
              "#d8576b"
             ],
             [
              0.6666666666666666,
              "#ed7953"
             ],
             [
              0.7777777777777778,
              "#fb9f3a"
             ],
             [
              0.8888888888888888,
              "#fdca26"
             ],
             [
              1,
              "#f0f921"
             ]
            ],
            "type": "heatmap"
           }
          ],
          "heatmapgl": [
           {
            "colorbar": {
             "outlinewidth": 0,
             "ticks": ""
            },
            "colorscale": [
             [
              0,
              "#0d0887"
             ],
             [
              0.1111111111111111,
              "#46039f"
             ],
             [
              0.2222222222222222,
              "#7201a8"
             ],
             [
              0.3333333333333333,
              "#9c179e"
             ],
             [
              0.4444444444444444,
              "#bd3786"
             ],
             [
              0.5555555555555556,
              "#d8576b"
             ],
             [
              0.6666666666666666,
              "#ed7953"
             ],
             [
              0.7777777777777778,
              "#fb9f3a"
             ],
             [
              0.8888888888888888,
              "#fdca26"
             ],
             [
              1,
              "#f0f921"
             ]
            ],
            "type": "heatmapgl"
           }
          ],
          "histogram": [
           {
            "marker": {
             "pattern": {
              "fillmode": "overlay",
              "size": 10,
              "solidity": 0.2
             }
            },
            "type": "histogram"
           }
          ],
          "histogram2d": [
           {
            "colorbar": {
             "outlinewidth": 0,
             "ticks": ""
            },
            "colorscale": [
             [
              0,
              "#0d0887"
             ],
             [
              0.1111111111111111,
              "#46039f"
             ],
             [
              0.2222222222222222,
              "#7201a8"
             ],
             [
              0.3333333333333333,
              "#9c179e"
             ],
             [
              0.4444444444444444,
              "#bd3786"
             ],
             [
              0.5555555555555556,
              "#d8576b"
             ],
             [
              0.6666666666666666,
              "#ed7953"
             ],
             [
              0.7777777777777778,
              "#fb9f3a"
             ],
             [
              0.8888888888888888,
              "#fdca26"
             ],
             [
              1,
              "#f0f921"
             ]
            ],
            "type": "histogram2d"
           }
          ],
          "histogram2dcontour": [
           {
            "colorbar": {
             "outlinewidth": 0,
             "ticks": ""
            },
            "colorscale": [
             [
              0,
              "#0d0887"
             ],
             [
              0.1111111111111111,
              "#46039f"
             ],
             [
              0.2222222222222222,
              "#7201a8"
             ],
             [
              0.3333333333333333,
              "#9c179e"
             ],
             [
              0.4444444444444444,
              "#bd3786"
             ],
             [
              0.5555555555555556,
              "#d8576b"
             ],
             [
              0.6666666666666666,
              "#ed7953"
             ],
             [
              0.7777777777777778,
              "#fb9f3a"
             ],
             [
              0.8888888888888888,
              "#fdca26"
             ],
             [
              1,
              "#f0f921"
             ]
            ],
            "type": "histogram2dcontour"
           }
          ],
          "mesh3d": [
           {
            "colorbar": {
             "outlinewidth": 0,
             "ticks": ""
            },
            "type": "mesh3d"
           }
          ],
          "parcoords": [
           {
            "line": {
             "colorbar": {
              "outlinewidth": 0,
              "ticks": ""
             }
            },
            "type": "parcoords"
           }
          ],
          "pie": [
           {
            "automargin": true,
            "type": "pie"
           }
          ],
          "scatter": [
           {
            "marker": {
             "colorbar": {
              "outlinewidth": 0,
              "ticks": ""
             }
            },
            "type": "scatter"
           }
          ],
          "scatter3d": [
           {
            "line": {
             "colorbar": {
              "outlinewidth": 0,
              "ticks": ""
             }
            },
            "marker": {
             "colorbar": {
              "outlinewidth": 0,
              "ticks": ""
             }
            },
            "type": "scatter3d"
           }
          ],
          "scattercarpet": [
           {
            "marker": {
             "colorbar": {
              "outlinewidth": 0,
              "ticks": ""
             }
            },
            "type": "scattercarpet"
           }
          ],
          "scattergeo": [
           {
            "marker": {
             "colorbar": {
              "outlinewidth": 0,
              "ticks": ""
             }
            },
            "type": "scattergeo"
           }
          ],
          "scattergl": [
           {
            "marker": {
             "colorbar": {
              "outlinewidth": 0,
              "ticks": ""
             }
            },
            "type": "scattergl"
           }
          ],
          "scattermapbox": [
           {
            "marker": {
             "colorbar": {
              "outlinewidth": 0,
              "ticks": ""
             }
            },
            "type": "scattermapbox"
           }
          ],
          "scatterpolar": [
           {
            "marker": {
             "colorbar": {
              "outlinewidth": 0,
              "ticks": ""
             }
            },
            "type": "scatterpolar"
           }
          ],
          "scatterpolargl": [
           {
            "marker": {
             "colorbar": {
              "outlinewidth": 0,
              "ticks": ""
             }
            },
            "type": "scatterpolargl"
           }
          ],
          "scatterternary": [
           {
            "marker": {
             "colorbar": {
              "outlinewidth": 0,
              "ticks": ""
             }
            },
            "type": "scatterternary"
           }
          ],
          "surface": [
           {
            "colorbar": {
             "outlinewidth": 0,
             "ticks": ""
            },
            "colorscale": [
             [
              0,
              "#0d0887"
             ],
             [
              0.1111111111111111,
              "#46039f"
             ],
             [
              0.2222222222222222,
              "#7201a8"
             ],
             [
              0.3333333333333333,
              "#9c179e"
             ],
             [
              0.4444444444444444,
              "#bd3786"
             ],
             [
              0.5555555555555556,
              "#d8576b"
             ],
             [
              0.6666666666666666,
              "#ed7953"
             ],
             [
              0.7777777777777778,
              "#fb9f3a"
             ],
             [
              0.8888888888888888,
              "#fdca26"
             ],
             [
              1,
              "#f0f921"
             ]
            ],
            "type": "surface"
           }
          ],
          "table": [
           {
            "cells": {
             "fill": {
              "color": "#EBF0F8"
             },
             "line": {
              "color": "white"
             }
            },
            "header": {
             "fill": {
              "color": "#C8D4E3"
             },
             "line": {
              "color": "white"
             }
            },
            "type": "table"
           }
          ]
         },
         "layout": {
          "annotationdefaults": {
           "arrowcolor": "#2a3f5f",
           "arrowhead": 0,
           "arrowwidth": 1
          },
          "autotypenumbers": "strict",
          "coloraxis": {
           "colorbar": {
            "outlinewidth": 0,
            "ticks": ""
           }
          },
          "colorscale": {
           "diverging": [
            [
             0,
             "#8e0152"
            ],
            [
             0.1,
             "#c51b7d"
            ],
            [
             0.2,
             "#de77ae"
            ],
            [
             0.3,
             "#f1b6da"
            ],
            [
             0.4,
             "#fde0ef"
            ],
            [
             0.5,
             "#f7f7f7"
            ],
            [
             0.6,
             "#e6f5d0"
            ],
            [
             0.7,
             "#b8e186"
            ],
            [
             0.8,
             "#7fbc41"
            ],
            [
             0.9,
             "#4d9221"
            ],
            [
             1,
             "#276419"
            ]
           ],
           "sequential": [
            [
             0,
             "#0d0887"
            ],
            [
             0.1111111111111111,
             "#46039f"
            ],
            [
             0.2222222222222222,
             "#7201a8"
            ],
            [
             0.3333333333333333,
             "#9c179e"
            ],
            [
             0.4444444444444444,
             "#bd3786"
            ],
            [
             0.5555555555555556,
             "#d8576b"
            ],
            [
             0.6666666666666666,
             "#ed7953"
            ],
            [
             0.7777777777777778,
             "#fb9f3a"
            ],
            [
             0.8888888888888888,
             "#fdca26"
            ],
            [
             1,
             "#f0f921"
            ]
           ],
           "sequentialminus": [
            [
             0,
             "#0d0887"
            ],
            [
             0.1111111111111111,
             "#46039f"
            ],
            [
             0.2222222222222222,
             "#7201a8"
            ],
            [
             0.3333333333333333,
             "#9c179e"
            ],
            [
             0.4444444444444444,
             "#bd3786"
            ],
            [
             0.5555555555555556,
             "#d8576b"
            ],
            [
             0.6666666666666666,
             "#ed7953"
            ],
            [
             0.7777777777777778,
             "#fb9f3a"
            ],
            [
             0.8888888888888888,
             "#fdca26"
            ],
            [
             1,
             "#f0f921"
            ]
           ]
          },
          "colorway": [
           "#636efa",
           "#EF553B",
           "#00cc96",
           "#ab63fa",
           "#FFA15A",
           "#19d3f3",
           "#FF6692",
           "#B6E880",
           "#FF97FF",
           "#FECB52"
          ],
          "font": {
           "color": "#2a3f5f"
          },
          "geo": {
           "bgcolor": "white",
           "lakecolor": "white",
           "landcolor": "#E5ECF6",
           "showlakes": true,
           "showland": true,
           "subunitcolor": "white"
          },
          "hoverlabel": {
           "align": "left"
          },
          "hovermode": "closest",
          "mapbox": {
           "style": "light"
          },
          "paper_bgcolor": "white",
          "plot_bgcolor": "#E5ECF6",
          "polar": {
           "angularaxis": {
            "gridcolor": "white",
            "linecolor": "white",
            "ticks": ""
           },
           "bgcolor": "#E5ECF6",
           "radialaxis": {
            "gridcolor": "white",
            "linecolor": "white",
            "ticks": ""
           }
          },
          "scene": {
           "xaxis": {
            "backgroundcolor": "#E5ECF6",
            "gridcolor": "white",
            "gridwidth": 2,
            "linecolor": "white",
            "showbackground": true,
            "ticks": "",
            "zerolinecolor": "white"
           },
           "yaxis": {
            "backgroundcolor": "#E5ECF6",
            "gridcolor": "white",
            "gridwidth": 2,
            "linecolor": "white",
            "showbackground": true,
            "ticks": "",
            "zerolinecolor": "white"
           },
           "zaxis": {
            "backgroundcolor": "#E5ECF6",
            "gridcolor": "white",
            "gridwidth": 2,
            "linecolor": "white",
            "showbackground": true,
            "ticks": "",
            "zerolinecolor": "white"
           }
          },
          "shapedefaults": {
           "line": {
            "color": "#2a3f5f"
           }
          },
          "ternary": {
           "aaxis": {
            "gridcolor": "white",
            "linecolor": "white",
            "ticks": ""
           },
           "baxis": {
            "gridcolor": "white",
            "linecolor": "white",
            "ticks": ""
           },
           "bgcolor": "#E5ECF6",
           "caxis": {
            "gridcolor": "white",
            "linecolor": "white",
            "ticks": ""
           }
          },
          "title": {
           "x": 0.05
          },
          "xaxis": {
           "automargin": true,
           "gridcolor": "white",
           "linecolor": "white",
           "ticks": "",
           "title": {
            "standoff": 15
           },
           "zerolinecolor": "white",
           "zerolinewidth": 2
          },
          "yaxis": {
           "automargin": true,
           "gridcolor": "white",
           "linecolor": "white",
           "ticks": "",
           "title": {
            "standoff": 15
           },
           "zerolinecolor": "white",
           "zerolinewidth": 2
          }
         }
        },
        "title": {
         "text": "График среднего количества взаимодействий с карточкой на одного пользователя"
        }
       }
      },
      "text/html": [
       "<div>                            <div id=\"56abd45d-7c1a-433d-b120-6a00cc8d640d\" class=\"plotly-graph-div\" style=\"height:525px; width:100%;\"></div>            <script type=\"text/javascript\">                require([\"plotly\"], function(Plotly) {                    window.PLOTLYENV=window.PLOTLYENV || {};                                    if (document.getElementById(\"56abd45d-7c1a-433d-b120-6a00cc8d640d\")) {                    Plotly.newPlot(                        \"56abd45d-7c1a-433d-b120-6a00cc8d640d\",                        [{\"name\":\"Group A\",\"text\":[\"3.14\",\"3.15\",\"3.12\",\"3.02\"],\"textposition\":\"auto\",\"x\":[\"login\",\"product_cart\",\"product_page\",\"purchase\"],\"y\":[3.14,3.15,3.12,3.02],\"type\":\"bar\"},{\"name\":\"Group B\",\"text\":[\"2.78\",\"2.7\",\"2.64\",\"2.59\"],\"textposition\":\"auto\",\"x\":[\"login\",\"product_cart\",\"product_page\",\"purchase\"],\"y\":[2.78,2.7,2.64,2.59],\"type\":\"bar\"}],                        {\"template\":{\"data\":{\"bar\":[{\"error_x\":{\"color\":\"#2a3f5f\"},\"error_y\":{\"color\":\"#2a3f5f\"},\"marker\":{\"line\":{\"color\":\"#E5ECF6\",\"width\":0.5},\"pattern\":{\"fillmode\":\"overlay\",\"size\":10,\"solidity\":0.2}},\"type\":\"bar\"}],\"barpolar\":[{\"marker\":{\"line\":{\"color\":\"#E5ECF6\",\"width\":0.5},\"pattern\":{\"fillmode\":\"overlay\",\"size\":10,\"solidity\":0.2}},\"type\":\"barpolar\"}],\"carpet\":[{\"aaxis\":{\"endlinecolor\":\"#2a3f5f\",\"gridcolor\":\"white\",\"linecolor\":\"white\",\"minorgridcolor\":\"white\",\"startlinecolor\":\"#2a3f5f\"},\"baxis\":{\"endlinecolor\":\"#2a3f5f\",\"gridcolor\":\"white\",\"linecolor\":\"white\",\"minorgridcolor\":\"white\",\"startlinecolor\":\"#2a3f5f\"},\"type\":\"carpet\"}],\"choropleth\":[{\"colorbar\":{\"outlinewidth\":0,\"ticks\":\"\"},\"type\":\"choropleth\"}],\"contour\":[{\"colorbar\":{\"outlinewidth\":0,\"ticks\":\"\"},\"colorscale\":[[0.0,\"#0d0887\"],[0.1111111111111111,\"#46039f\"],[0.2222222222222222,\"#7201a8\"],[0.3333333333333333,\"#9c179e\"],[0.4444444444444444,\"#bd3786\"],[0.5555555555555556,\"#d8576b\"],[0.6666666666666666,\"#ed7953\"],[0.7777777777777778,\"#fb9f3a\"],[0.8888888888888888,\"#fdca26\"],[1.0,\"#f0f921\"]],\"type\":\"contour\"}],\"contourcarpet\":[{\"colorbar\":{\"outlinewidth\":0,\"ticks\":\"\"},\"type\":\"contourcarpet\"}],\"heatmap\":[{\"colorbar\":{\"outlinewidth\":0,\"ticks\":\"\"},\"colorscale\":[[0.0,\"#0d0887\"],[0.1111111111111111,\"#46039f\"],[0.2222222222222222,\"#7201a8\"],[0.3333333333333333,\"#9c179e\"],[0.4444444444444444,\"#bd3786\"],[0.5555555555555556,\"#d8576b\"],[0.6666666666666666,\"#ed7953\"],[0.7777777777777778,\"#fb9f3a\"],[0.8888888888888888,\"#fdca26\"],[1.0,\"#f0f921\"]],\"type\":\"heatmap\"}],\"heatmapgl\":[{\"colorbar\":{\"outlinewidth\":0,\"ticks\":\"\"},\"colorscale\":[[0.0,\"#0d0887\"],[0.1111111111111111,\"#46039f\"],[0.2222222222222222,\"#7201a8\"],[0.3333333333333333,\"#9c179e\"],[0.4444444444444444,\"#bd3786\"],[0.5555555555555556,\"#d8576b\"],[0.6666666666666666,\"#ed7953\"],[0.7777777777777778,\"#fb9f3a\"],[0.8888888888888888,\"#fdca26\"],[1.0,\"#f0f921\"]],\"type\":\"heatmapgl\"}],\"histogram\":[{\"marker\":{\"pattern\":{\"fillmode\":\"overlay\",\"size\":10,\"solidity\":0.2}},\"type\":\"histogram\"}],\"histogram2d\":[{\"colorbar\":{\"outlinewidth\":0,\"ticks\":\"\"},\"colorscale\":[[0.0,\"#0d0887\"],[0.1111111111111111,\"#46039f\"],[0.2222222222222222,\"#7201a8\"],[0.3333333333333333,\"#9c179e\"],[0.4444444444444444,\"#bd3786\"],[0.5555555555555556,\"#d8576b\"],[0.6666666666666666,\"#ed7953\"],[0.7777777777777778,\"#fb9f3a\"],[0.8888888888888888,\"#fdca26\"],[1.0,\"#f0f921\"]],\"type\":\"histogram2d\"}],\"histogram2dcontour\":[{\"colorbar\":{\"outlinewidth\":0,\"ticks\":\"\"},\"colorscale\":[[0.0,\"#0d0887\"],[0.1111111111111111,\"#46039f\"],[0.2222222222222222,\"#7201a8\"],[0.3333333333333333,\"#9c179e\"],[0.4444444444444444,\"#bd3786\"],[0.5555555555555556,\"#d8576b\"],[0.6666666666666666,\"#ed7953\"],[0.7777777777777778,\"#fb9f3a\"],[0.8888888888888888,\"#fdca26\"],[1.0,\"#f0f921\"]],\"type\":\"histogram2dcontour\"}],\"mesh3d\":[{\"colorbar\":{\"outlinewidth\":0,\"ticks\":\"\"},\"type\":\"mesh3d\"}],\"parcoords\":[{\"line\":{\"colorbar\":{\"outlinewidth\":0,\"ticks\":\"\"}},\"type\":\"parcoords\"}],\"pie\":[{\"automargin\":true,\"type\":\"pie\"}],\"scatter\":[{\"marker\":{\"colorbar\":{\"outlinewidth\":0,\"ticks\":\"\"}},\"type\":\"scatter\"}],\"scatter3d\":[{\"line\":{\"colorbar\":{\"outlinewidth\":0,\"ticks\":\"\"}},\"marker\":{\"colorbar\":{\"outlinewidth\":0,\"ticks\":\"\"}},\"type\":\"scatter3d\"}],\"scattercarpet\":[{\"marker\":{\"colorbar\":{\"outlinewidth\":0,\"ticks\":\"\"}},\"type\":\"scattercarpet\"}],\"scattergeo\":[{\"marker\":{\"colorbar\":{\"outlinewidth\":0,\"ticks\":\"\"}},\"type\":\"scattergeo\"}],\"scattergl\":[{\"marker\":{\"colorbar\":{\"outlinewidth\":0,\"ticks\":\"\"}},\"type\":\"scattergl\"}],\"scattermapbox\":[{\"marker\":{\"colorbar\":{\"outlinewidth\":0,\"ticks\":\"\"}},\"type\":\"scattermapbox\"}],\"scatterpolar\":[{\"marker\":{\"colorbar\":{\"outlinewidth\":0,\"ticks\":\"\"}},\"type\":\"scatterpolar\"}],\"scatterpolargl\":[{\"marker\":{\"colorbar\":{\"outlinewidth\":0,\"ticks\":\"\"}},\"type\":\"scatterpolargl\"}],\"scatterternary\":[{\"marker\":{\"colorbar\":{\"outlinewidth\":0,\"ticks\":\"\"}},\"type\":\"scatterternary\"}],\"surface\":[{\"colorbar\":{\"outlinewidth\":0,\"ticks\":\"\"},\"colorscale\":[[0.0,\"#0d0887\"],[0.1111111111111111,\"#46039f\"],[0.2222222222222222,\"#7201a8\"],[0.3333333333333333,\"#9c179e\"],[0.4444444444444444,\"#bd3786\"],[0.5555555555555556,\"#d8576b\"],[0.6666666666666666,\"#ed7953\"],[0.7777777777777778,\"#fb9f3a\"],[0.8888888888888888,\"#fdca26\"],[1.0,\"#f0f921\"]],\"type\":\"surface\"}],\"table\":[{\"cells\":{\"fill\":{\"color\":\"#EBF0F8\"},\"line\":{\"color\":\"white\"}},\"header\":{\"fill\":{\"color\":\"#C8D4E3\"},\"line\":{\"color\":\"white\"}},\"type\":\"table\"}]},\"layout\":{\"annotationdefaults\":{\"arrowcolor\":\"#2a3f5f\",\"arrowhead\":0,\"arrowwidth\":1},\"autotypenumbers\":\"strict\",\"coloraxis\":{\"colorbar\":{\"outlinewidth\":0,\"ticks\":\"\"}},\"colorscale\":{\"diverging\":[[0,\"#8e0152\"],[0.1,\"#c51b7d\"],[0.2,\"#de77ae\"],[0.3,\"#f1b6da\"],[0.4,\"#fde0ef\"],[0.5,\"#f7f7f7\"],[0.6,\"#e6f5d0\"],[0.7,\"#b8e186\"],[0.8,\"#7fbc41\"],[0.9,\"#4d9221\"],[1,\"#276419\"]],\"sequential\":[[0.0,\"#0d0887\"],[0.1111111111111111,\"#46039f\"],[0.2222222222222222,\"#7201a8\"],[0.3333333333333333,\"#9c179e\"],[0.4444444444444444,\"#bd3786\"],[0.5555555555555556,\"#d8576b\"],[0.6666666666666666,\"#ed7953\"],[0.7777777777777778,\"#fb9f3a\"],[0.8888888888888888,\"#fdca26\"],[1.0,\"#f0f921\"]],\"sequentialminus\":[[0.0,\"#0d0887\"],[0.1111111111111111,\"#46039f\"],[0.2222222222222222,\"#7201a8\"],[0.3333333333333333,\"#9c179e\"],[0.4444444444444444,\"#bd3786\"],[0.5555555555555556,\"#d8576b\"],[0.6666666666666666,\"#ed7953\"],[0.7777777777777778,\"#fb9f3a\"],[0.8888888888888888,\"#fdca26\"],[1.0,\"#f0f921\"]]},\"colorway\":[\"#636efa\",\"#EF553B\",\"#00cc96\",\"#ab63fa\",\"#FFA15A\",\"#19d3f3\",\"#FF6692\",\"#B6E880\",\"#FF97FF\",\"#FECB52\"],\"font\":{\"color\":\"#2a3f5f\"},\"geo\":{\"bgcolor\":\"white\",\"lakecolor\":\"white\",\"landcolor\":\"#E5ECF6\",\"showlakes\":true,\"showland\":true,\"subunitcolor\":\"white\"},\"hoverlabel\":{\"align\":\"left\"},\"hovermode\":\"closest\",\"mapbox\":{\"style\":\"light\"},\"paper_bgcolor\":\"white\",\"plot_bgcolor\":\"#E5ECF6\",\"polar\":{\"angularaxis\":{\"gridcolor\":\"white\",\"linecolor\":\"white\",\"ticks\":\"\"},\"bgcolor\":\"#E5ECF6\",\"radialaxis\":{\"gridcolor\":\"white\",\"linecolor\":\"white\",\"ticks\":\"\"}},\"scene\":{\"xaxis\":{\"backgroundcolor\":\"#E5ECF6\",\"gridcolor\":\"white\",\"gridwidth\":2,\"linecolor\":\"white\",\"showbackground\":true,\"ticks\":\"\",\"zerolinecolor\":\"white\"},\"yaxis\":{\"backgroundcolor\":\"#E5ECF6\",\"gridcolor\":\"white\",\"gridwidth\":2,\"linecolor\":\"white\",\"showbackground\":true,\"ticks\":\"\",\"zerolinecolor\":\"white\"},\"zaxis\":{\"backgroundcolor\":\"#E5ECF6\",\"gridcolor\":\"white\",\"gridwidth\":2,\"linecolor\":\"white\",\"showbackground\":true,\"ticks\":\"\",\"zerolinecolor\":\"white\"}},\"shapedefaults\":{\"line\":{\"color\":\"#2a3f5f\"}},\"ternary\":{\"aaxis\":{\"gridcolor\":\"white\",\"linecolor\":\"white\",\"ticks\":\"\"},\"baxis\":{\"gridcolor\":\"white\",\"linecolor\":\"white\",\"ticks\":\"\"},\"bgcolor\":\"#E5ECF6\",\"caxis\":{\"gridcolor\":\"white\",\"linecolor\":\"white\",\"ticks\":\"\"}},\"title\":{\"x\":0.05},\"xaxis\":{\"automargin\":true,\"gridcolor\":\"white\",\"linecolor\":\"white\",\"ticks\":\"\",\"title\":{\"standoff\":15},\"zerolinecolor\":\"white\",\"zerolinewidth\":2},\"yaxis\":{\"automargin\":true,\"gridcolor\":\"white\",\"linecolor\":\"white\",\"ticks\":\"\",\"title\":{\"standoff\":15},\"zerolinecolor\":\"white\",\"zerolinewidth\":2}}},\"barmode\":\"group\",\"title\":{\"text\":\"\\u0413\\u0440\\u0430\\u0444\\u0438\\u043a \\u0441\\u0440\\u0435\\u0434\\u043d\\u0435\\u0433\\u043e \\u043a\\u043e\\u043b\\u0438\\u0447\\u0435\\u0441\\u0442\\u0432\\u0430 \\u0432\\u0437\\u0430\\u0438\\u043c\\u043e\\u0434\\u0435\\u0439\\u0441\\u0442\\u0432\\u0438\\u0439 \\u0441 \\u043a\\u0430\\u0440\\u0442\\u043e\\u0447\\u043a\\u043e\\u0439 \\u043d\\u0430 \\u043e\\u0434\\u043d\\u043e\\u0433\\u043e \\u043f\\u043e\\u043b\\u044c\\u0437\\u043e\\u0432\\u0430\\u0442\\u0435\\u043b\\u044f\"}},                        {\"responsive\": true}                    ).then(function(){\n",
       "                            \n",
       "var gd = document.getElementById('56abd45d-7c1a-433d-b120-6a00cc8d640d');\n",
       "var x = new MutationObserver(function (mutations, observer) {{\n",
       "        var display = window.getComputedStyle(gd).display;\n",
       "        if (!display || display === 'none') {{\n",
       "            console.log([gd, 'removed!']);\n",
       "            Plotly.purge(gd);\n",
       "            observer.disconnect();\n",
       "        }}\n",
       "}});\n",
       "\n",
       "// Listen for the removal of the full notebook cells\n",
       "var notebookContainer = gd.closest('#notebook-container');\n",
       "if (notebookContainer) {{\n",
       "    x.observe(notebookContainer, {childList: true});\n",
       "}}\n",
       "\n",
       "// Listen for the clearing of the current output cell\n",
       "var outputEl = gd.closest('.output');\n",
       "if (outputEl) {{\n",
       "    x.observe(outputEl, {childList: true});\n",
       "}}\n",
       "\n",
       "                        })                };                });            </script>        </div>"
      ]
     },
     "metadata": {},
     "output_type": "display_data"
    }
   ],
   "source": [
    "event_mean_A = (\n",
    "    group_A.pivot_table(index=['user_id', 'event_name'],\n",
    "                        values='event_dt',\n",
    "                        aggfunc='count')\n",
    "            .reset_index()\n",
    "            .groupby('event_name')\n",
    "            .agg({'event_dt':'mean'})\n",
    "            .reset_index()\n",
    "            .round(2)\n",
    ")\n",
    "event_mean_B = (\n",
    "    group_B.pivot_table(index=['user_id', 'event_name'],\n",
    "                        values='event_dt',\n",
    "                        aggfunc='count')\n",
    "            .reset_index()\n",
    "            .groupby('event_name')\n",
    "            .agg({'event_dt':'mean'})\n",
    "            .reset_index()\n",
    "            .round(2)\n",
    ")\n",
    "fig = go.Figure(data=[\n",
    "    go.Bar(name='Group A', x=event_mean_A['event_name'].to_list(),\n",
    "           y=event_mean_A['event_dt'].to_list(),\n",
    "           text=event_mean_A['event_dt'].to_list(),\n",
    "           textposition='auto'),\n",
    "    go.Bar(name='Group B', x=event_mean_B['event_name'].to_list(),\n",
    "           y=event_mean_B['event_dt'].to_list(),\n",
    "           text=event_mean_B['event_dt'].to_list(),\n",
    "           textposition='auto')\n",
    "])\n",
    "\n",
    "fig.update_layout(barmode='group', title='График среднего количества взаимодействий с карточкой на одного пользователя')\n",
    "\n",
    "fig.show()"
   ]
  },
  {
   "cell_type": "code",
   "execution_count": 41,
   "metadata": {},
   "outputs": [],
   "source": [
    "event_per_user_A = wtht_NA.query('group == \"A\"').pivot_table(index=['user_id'],\n",
    "                                                              values='event_name',\n",
    "                                                              aggfunc='count').reset_index()\n",
    "event_per_user_B = wtht_NA.query('group == \"B\"').pivot_table(index=['user_id'],\n",
    "                                                              values='event_name',\n",
    "                                                              aggfunc='count').reset_index()"
   ]
  },
  {
   "cell_type": "code",
   "execution_count": 42,
   "metadata": {},
   "outputs": [
    {
     "data": {
      "image/png": "[encoded data removed]",
      "text/plain": [
       "<Figure size 864x432 with 1 Axes>"
      ]
     },
     "metadata": {
      "needs_background": "light"
     },
     "output_type": "display_data"
    }
   ],
   "source": [
    "plt.figure(figsize=(12, 6))\n",
    "sns.histplot(event_per_user_A['event_name'], bins=20)\n",
    "sns.histplot(event_per_user_B['event_name'],bins=20, color = 'r')\n",
    "plt.legend(labels = ('Group A', 'Group B'))\n",
    "plt.title('График распределения количества событий на одного пользователя')\n",
    "plt.show()"
   ]
  },
  {
   "cell_type": "markdown",
   "metadata": {},
   "source": [
    "> **Вывод:** \n",
    "\n",
    "По графику среднего количества взаимодействий с карточкой на одного пользователя видим, что по всем карточкам среднее число взаимодействий на одного пользователя у группы А лучше. \n",
    "\n",
    "На графике распределения количества событий на одного пользователя видим, что группа А в основном преобладает по количеству событий на пользователя.\n",
    "\n",
    "Таким образом, выборки обладают различным распределением взаимодействий и разным средним количеством событий по карточке на одного пользователя."
   ]
  },
  {
   "cell_type": "markdown",
   "metadata": {},
   "source": [
    "#### Как число событий в выборках распределено по дням?"
   ]
  },
  {
   "cell_type": "code",
   "execution_count": 43,
   "metadata": {},
   "outputs": [],
   "source": [
    "count_events_per_day_A = (\n",
    "    wtht_NA.query('group == \"A\"')\n",
    "            .pivot_table(\n",
    "                index=['event_name','event_date'], \n",
    "                values='event_dt', \n",
    "                aggfunc='count')\n",
    "            .reset_index()\n",
    "            .rename(columns={'event_dt':'count_event'})\n",
    ")\n",
    "\n",
    "count_events_per_day_B = (\n",
    "    wtht_NA.query('group == \"B\"')\n",
    "            .pivot_table(\n",
    "                index=['event_name','event_date'], \n",
    "                values='event_dt', \n",
    "                aggfunc='count')\n",
    "            .reset_index()\n",
    "            .rename(columns={'event_dt':'count_event'})\n",
    ")"
   ]
  },
  {
   "cell_type": "code",
   "execution_count": 48,
   "metadata": {},
   "outputs": [
    {
     "data": {
      "application/vnd.plotly.v1+json": {
       "config": {
        "plotlyServerURL": "https://plot.ly"
       },
       "data": [
        {
         "alignmentgroup": "True",
         "hovertemplate": "event_name=login<br>event_date=%{x}<br>count_event=%{y}<extra></extra>",
         "legendgroup": "login",
         "marker": {
          "color": "#636efa",
          "pattern": {
           "shape": ""
          }
         },
         "name": "login",
         "offsetgroup": "login",
         "orientation": "v",
         "showlegend": true,
         "textposition": "auto",
         "type": "bar",
         "x": [
          "2020-12-07",
          "2020-12-08",
          "2020-12-09",
          "2020-12-10",
          "2020-12-11",
          "2020-12-12",
          "2020-12-13",
          "2020-12-14",
          "2020-12-15",
          "2020-12-16",
          "2020-12-17",
          "2020-12-18",
          "2020-12-19",
          "2020-12-20",
          "2020-12-21",
          "2020-12-22",
          "2020-12-23",
          "2020-12-24",
          "2020-12-25",
          "2020-12-26",
          "2020-12-27",
          "2020-12-28",
          "2020-12-29"
         ],
         "xaxis": "x",
         "y": [
          103,
          108,
          128,
          113,
          128,
          128,
          116,
          339,
          340,
          327,
          377,
          399,
          473,
          480,
          637,
          429,
          324,
          272,
          207,
          182,
          184,
          143,
          146
         ],
         "yaxis": "y"
        },
        {
         "alignmentgroup": "True",
         "hovertemplate": "event_name=product_cart<br>event_date=%{x}<br>count_event=%{y}<extra></extra>",
         "legendgroup": "product_cart",
         "marker": {
          "color": "#EF553B",
          "pattern": {
           "shape": ""
          }
         },
         "name": "product_cart",
         "offsetgroup": "product_cart",
         "orientation": "v",
         "showlegend": true,
         "textposition": "auto",
         "type": "bar",
         "x": [
          "2020-12-07",
          "2020-12-08",
          "2020-12-09",
          "2020-12-10",
          "2020-12-11",
          "2020-12-12",
          "2020-12-13",
          "2020-12-14",
          "2020-12-15",
          "2020-12-16",
          "2020-12-17",
          "2020-12-18",
          "2020-12-19",
          "2020-12-20",
          "2020-12-21",
          "2020-12-22",
          "2020-12-23",
          "2020-12-24",
          "2020-12-25",
          "2020-12-26",
          "2020-12-27",
          "2020-12-28",
          "2020-12-29"
         ],
         "xaxis": "x",
         "y": [
          25,
          29,
          35,
          33,
          34,
          40,
          29,
          107,
          121,
          107,
          132,
          123,
          161,
          154,
          175,
          121,
          93,
          79,
          51,
          55,
          59,
          49,
          41
         ],
         "yaxis": "y"
        },
        {
         "alignmentgroup": "True",
         "hovertemplate": "event_name=product_page<br>event_date=%{x}<br>count_event=%{y}<extra></extra>",
         "legendgroup": "product_page",
         "marker": {
          "color": "#00cc96",
          "pattern": {
           "shape": ""
          }
         },
         "name": "product_page",
         "offsetgroup": "product_page",
         "orientation": "v",
         "showlegend": true,
         "textposition": "auto",
         "type": "bar",
         "x": [
          "2020-12-07",
          "2020-12-08",
          "2020-12-09",
          "2020-12-10",
          "2020-12-11",
          "2020-12-12",
          "2020-12-13",
          "2020-12-14",
          "2020-12-15",
          "2020-12-16",
          "2020-12-17",
          "2020-12-18",
          "2020-12-19",
          "2020-12-20",
          "2020-12-21",
          "2020-12-22",
          "2020-12-23",
          "2020-12-24",
          "2020-12-25",
          "2020-12-26",
          "2020-12-27",
          "2020-12-28",
          "2020-12-29"
         ],
         "xaxis": "x",
         "y": [
          66,
          76,
          80,
          66,
          71,
          76,
          66,
          216,
          219,
          210,
          250,
          273,
          315,
          303,
          422,
          279,
          206,
          187,
          146,
          113,
          122,
          93,
          97
         ],
         "yaxis": "y"
        },
        {
         "alignmentgroup": "True",
         "hovertemplate": "event_name=purchase<br>event_date=%{x}<br>count_event=%{y}<extra></extra>",
         "legendgroup": "purchase",
         "marker": {
          "color": "#ab63fa",
          "pattern": {
           "shape": ""
          }
         },
         "name": "purchase",
         "offsetgroup": "purchase",
         "orientation": "v",
         "showlegend": true,
         "textposition": "auto",
         "type": "bar",
         "x": [
          "2020-12-07",
          "2020-12-08",
          "2020-12-09",
          "2020-12-10",
          "2020-12-11",
          "2020-12-12",
          "2020-12-13",
          "2020-12-14",
          "2020-12-15",
          "2020-12-16",
          "2020-12-17",
          "2020-12-18",
          "2020-12-19",
          "2020-12-20",
          "2020-12-21",
          "2020-12-22",
          "2020-12-23",
          "2020-12-24",
          "2020-12-25",
          "2020-12-26",
          "2020-12-27",
          "2020-12-28",
          "2020-12-29"
         ],
         "xaxis": "x",
         "y": [
          27,
          26,
          39,
          34,
          31,
          29,
          22,
          93,
          100,
          104,
          116,
          113,
          155,
          162,
          208,
          129,
          93,
          92,
          80,
          65,
          56,
          43,
          37
         ],
         "yaxis": "y"
        }
       ],
       "layout": {
        "barmode": "relative",
        "legend": {
         "title": {
          "text": "event_name"
         },
         "tracegroupgap": 0
        },
        "margin": {
         "t": 60
        },
        "template": {
         "data": {
          "bar": [
           {
            "error_x": {
             "color": "#2a3f5f"
            },
            "error_y": {
             "color": "#2a3f5f"
            },
            "marker": {
             "line": {
              "color": "#E5ECF6",
              "width": 0.5
             },
             "pattern": {
              "fillmode": "overlay",
              "size": 10,
              "solidity": 0.2
             }
            },
            "type": "bar"
           }
          ],
          "barpolar": [
           {
            "marker": {
             "line": {
              "color": "#E5ECF6",
              "width": 0.5
             },
             "pattern": {
              "fillmode": "overlay",
              "size": 10,
              "solidity": 0.2
             }
            },
            "type": "barpolar"
           }
          ],
          "carpet": [
           {
            "aaxis": {
             "endlinecolor": "#2a3f5f",
             "gridcolor": "white",
             "linecolor": "white",
             "minorgridcolor": "white",
             "startlinecolor": "#2a3f5f"
            },
            "baxis": {
             "endlinecolor": "#2a3f5f",
             "gridcolor": "white",
             "linecolor": "white",
             "minorgridcolor": "white",
             "startlinecolor": "#2a3f5f"
            },
            "type": "carpet"
           }
          ],
          "choropleth": [
           {
            "colorbar": {
             "outlinewidth": 0,
             "ticks": ""
            },
            "type": "choropleth"
           }
          ],
          "contour": [
           {
            "colorbar": {
             "outlinewidth": 0,
             "ticks": ""
            },
            "colorscale": [
             [
              0,
              "#0d0887"
             ],
             [
              0.1111111111111111,
              "#46039f"
             ],
             [
              0.2222222222222222,
              "#7201a8"
             ],
             [
              0.3333333333333333,
              "#9c179e"
             ],
             [
              0.4444444444444444,
              "#bd3786"
             ],
             [
              0.5555555555555556,
              "#d8576b"
             ],
             [
              0.6666666666666666,
              "#ed7953"
             ],
             [
              0.7777777777777778,
              "#fb9f3a"
             ],
             [
              0.8888888888888888,
              "#fdca26"
             ],
             [
              1,
              "#f0f921"
             ]
            ],
            "type": "contour"
           }
          ],
          "contourcarpet": [
           {
            "colorbar": {
             "outlinewidth": 0,
             "ticks": ""
            },
            "type": "contourcarpet"
           }
          ],
          "heatmap": [
           {
            "colorbar": {
             "outlinewidth": 0,
             "ticks": ""
            },
            "colorscale": [
             [
              0,
              "#0d0887"
             ],
             [
              0.1111111111111111,
              "#46039f"
             ],
             [
              0.2222222222222222,
              "#7201a8"
             ],
             [
              0.3333333333333333,
              "#9c179e"
             ],
             [
              0.4444444444444444,
              "#bd3786"
             ],
             [
              0.5555555555555556,
              "#d8576b"
             ],
             [
              0.6666666666666666,
              "#ed7953"
             ],
             [
              0.7777777777777778,
              "#fb9f3a"
             ],
             [
              0.8888888888888888,
              "#fdca26"
             ],
             [
              1,
              "#f0f921"
             ]
            ],
            "type": "heatmap"
           }
          ],
          "heatmapgl": [
           {
            "colorbar": {
             "outlinewidth": 0,
             "ticks": ""
            },
            "colorscale": [
             [
              0,
              "#0d0887"
             ],
             [
              0.1111111111111111,
              "#46039f"
             ],
             [
              0.2222222222222222,
              "#7201a8"
             ],
             [
              0.3333333333333333,
              "#9c179e"
             ],
             [
              0.4444444444444444,
              "#bd3786"
             ],
             [
              0.5555555555555556,
              "#d8576b"
             ],
             [
              0.6666666666666666,
              "#ed7953"
             ],
             [
              0.7777777777777778,
              "#fb9f3a"
             ],
             [
              0.8888888888888888,
              "#fdca26"
             ],
             [
              1,
              "#f0f921"
             ]
            ],
            "type": "heatmapgl"
           }
          ],
          "histogram": [
           {
            "marker": {
             "pattern": {
              "fillmode": "overlay",
              "size": 10,
              "solidity": 0.2
             }
            },
            "type": "histogram"
           }
          ],
          "histogram2d": [
           {
            "colorbar": {
             "outlinewidth": 0,
             "ticks": ""
            },
            "colorscale": [
             [
              0,
              "#0d0887"
             ],
             [
              0.1111111111111111,
              "#46039f"
             ],
             [
              0.2222222222222222,
              "#7201a8"
             ],
             [
              0.3333333333333333,
              "#9c179e"
             ],
             [
              0.4444444444444444,
              "#bd3786"
             ],
             [
              0.5555555555555556,
              "#d8576b"
             ],
             [
              0.6666666666666666,
              "#ed7953"
             ],
             [
              0.7777777777777778,
              "#fb9f3a"
             ],
             [
              0.8888888888888888,
              "#fdca26"
             ],
             [
              1,
              "#f0f921"
             ]
            ],
            "type": "histogram2d"
           }
          ],
          "histogram2dcontour": [
           {
            "colorbar": {
             "outlinewidth": 0,
             "ticks": ""
            },
            "colorscale": [
             [
              0,
              "#0d0887"
             ],
             [
              0.1111111111111111,
              "#46039f"
             ],
             [
              0.2222222222222222,
              "#7201a8"
             ],
             [
              0.3333333333333333,
              "#9c179e"
             ],
             [
              0.4444444444444444,
              "#bd3786"
             ],
             [
              0.5555555555555556,
              "#d8576b"
             ],
             [
              0.6666666666666666,
              "#ed7953"
             ],
             [
              0.7777777777777778,
              "#fb9f3a"
             ],
             [
              0.8888888888888888,
              "#fdca26"
             ],
             [
              1,
              "#f0f921"
             ]
            ],
            "type": "histogram2dcontour"
           }
          ],
          "mesh3d": [
           {
            "colorbar": {
             "outlinewidth": 0,
             "ticks": ""
            },
            "type": "mesh3d"
           }
          ],
          "parcoords": [
           {
            "line": {
             "colorbar": {
              "outlinewidth": 0,
              "ticks": ""
             }
            },
            "type": "parcoords"
           }
          ],
          "pie": [
           {
            "automargin": true,
            "type": "pie"
           }
          ],
          "scatter": [
           {
            "marker": {
             "colorbar": {
              "outlinewidth": 0,
              "ticks": ""
             }
            },
            "type": "scatter"
           }
          ],
          "scatter3d": [
           {
            "line": {
             "colorbar": {
              "outlinewidth": 0,
              "ticks": ""
             }
            },
            "marker": {
             "colorbar": {
              "outlinewidth": 0,
              "ticks": ""
             }
            },
            "type": "scatter3d"
           }
          ],
          "scattercarpet": [
           {
            "marker": {
             "colorbar": {
              "outlinewidth": 0,
              "ticks": ""
             }
            },
            "type": "scattercarpet"
           }
          ],
          "scattergeo": [
           {
            "marker": {
             "colorbar": {
              "outlinewidth": 0,
              "ticks": ""
             }
            },
            "type": "scattergeo"
           }
          ],
          "scattergl": [
           {
            "marker": {
             "colorbar": {
              "outlinewidth": 0,
              "ticks": ""
             }
            },
            "type": "scattergl"
           }
          ],
          "scattermapbox": [
           {
            "marker": {
             "colorbar": {
              "outlinewidth": 0,
              "ticks": ""
             }
            },
            "type": "scattermapbox"
           }
          ],
          "scatterpolar": [
           {
            "marker": {
             "colorbar": {
              "outlinewidth": 0,
              "ticks": ""
             }
            },
            "type": "scatterpolar"
           }
          ],
          "scatterpolargl": [
           {
            "marker": {
             "colorbar": {
              "outlinewidth": 0,
              "ticks": ""
             }
            },
            "type": "scatterpolargl"
           }
          ],
          "scatterternary": [
           {
            "marker": {
             "colorbar": {
              "outlinewidth": 0,
              "ticks": ""
             }
            },
            "type": "scatterternary"
           }
          ],
          "surface": [
           {
            "colorbar": {
             "outlinewidth": 0,
             "ticks": ""
            },
            "colorscale": [
             [
              0,
              "#0d0887"
             ],
             [
              0.1111111111111111,
              "#46039f"
             ],
             [
              0.2222222222222222,
              "#7201a8"
             ],
             [
              0.3333333333333333,
              "#9c179e"
             ],
             [
              0.4444444444444444,
              "#bd3786"
             ],
             [
              0.5555555555555556,
              "#d8576b"
             ],
             [
              0.6666666666666666,
              "#ed7953"
             ],
             [
              0.7777777777777778,
              "#fb9f3a"
             ],
             [
              0.8888888888888888,
              "#fdca26"
             ],
             [
              1,
              "#f0f921"
             ]
            ],
            "type": "surface"
           }
          ],
          "table": [
           {
            "cells": {
             "fill": {
              "color": "#EBF0F8"
             },
             "line": {
              "color": "white"
             }
            },
            "header": {
             "fill": {
              "color": "#C8D4E3"
             },
             "line": {
              "color": "white"
             }
            },
            "type": "table"
           }
          ]
         },
         "layout": {
          "annotationdefaults": {
           "arrowcolor": "#2a3f5f",
           "arrowhead": 0,
           "arrowwidth": 1
          },
          "autotypenumbers": "strict",
          "coloraxis": {
           "colorbar": {
            "outlinewidth": 0,
            "ticks": ""
           }
          },
          "colorscale": {
           "diverging": [
            [
             0,
             "#8e0152"
            ],
            [
             0.1,
             "#c51b7d"
            ],
            [
             0.2,
             "#de77ae"
            ],
            [
             0.3,
             "#f1b6da"
            ],
            [
             0.4,
             "#fde0ef"
            ],
            [
             0.5,
             "#f7f7f7"
            ],
            [
             0.6,
             "#e6f5d0"
            ],
            [
             0.7,
             "#b8e186"
            ],
            [
             0.8,
             "#7fbc41"
            ],
            [
             0.9,
             "#4d9221"
            ],
            [
             1,
             "#276419"
            ]
           ],
           "sequential": [
            [
             0,
             "#0d0887"
            ],
            [
             0.1111111111111111,
             "#46039f"
            ],
            [
             0.2222222222222222,
             "#7201a8"
            ],
            [
             0.3333333333333333,
             "#9c179e"
            ],
            [
             0.4444444444444444,
             "#bd3786"
            ],
            [
             0.5555555555555556,
             "#d8576b"
            ],
            [
             0.6666666666666666,
             "#ed7953"
            ],
            [
             0.7777777777777778,
             "#fb9f3a"
            ],
            [
             0.8888888888888888,
             "#fdca26"
            ],
            [
             1,
             "#f0f921"
            ]
           ],
           "sequentialminus": [
            [
             0,
             "#0d0887"
            ],
            [
             0.1111111111111111,
             "#46039f"
            ],
            [
             0.2222222222222222,
             "#7201a8"
            ],
            [
             0.3333333333333333,
             "#9c179e"
            ],
            [
             0.4444444444444444,
             "#bd3786"
            ],
            [
             0.5555555555555556,
             "#d8576b"
            ],
            [
             0.6666666666666666,
             "#ed7953"
            ],
            [
             0.7777777777777778,
             "#fb9f3a"
            ],
            [
             0.8888888888888888,
             "#fdca26"
            ],
            [
             1,
             "#f0f921"
            ]
           ]
          },
          "colorway": [
           "#636efa",
           "#EF553B",
           "#00cc96",
           "#ab63fa",
           "#FFA15A",
           "#19d3f3",
           "#FF6692",
           "#B6E880",
           "#FF97FF",
           "#FECB52"
          ],
          "font": {
           "color": "#2a3f5f"
          },
          "geo": {
           "bgcolor": "white",
           "lakecolor": "white",
           "landcolor": "#E5ECF6",
           "showlakes": true,
           "showland": true,
           "subunitcolor": "white"
          },
          "hoverlabel": {
           "align": "left"
          },
          "hovermode": "closest",
          "mapbox": {
           "style": "light"
          },
          "paper_bgcolor": "white",
          "plot_bgcolor": "#E5ECF6",
          "polar": {
           "angularaxis": {
            "gridcolor": "white",
            "linecolor": "white",
            "ticks": ""
           },
           "bgcolor": "#E5ECF6",
           "radialaxis": {
            "gridcolor": "white",
            "linecolor": "white",
            "ticks": ""
           }
          },
          "scene": {
           "xaxis": {
            "backgroundcolor": "#E5ECF6",
            "gridcolor": "white",
            "gridwidth": 2,
            "linecolor": "white",
            "showbackground": true,
            "ticks": "",
            "zerolinecolor": "white"
           },
           "yaxis": {
            "backgroundcolor": "#E5ECF6",
            "gridcolor": "white",
            "gridwidth": 2,
            "linecolor": "white",
            "showbackground": true,
            "ticks": "",
            "zerolinecolor": "white"
           },
           "zaxis": {
            "backgroundcolor": "#E5ECF6",
            "gridcolor": "white",
            "gridwidth": 2,
            "linecolor": "white",
            "showbackground": true,
            "ticks": "",
            "zerolinecolor": "white"
           }
          },
          "shapedefaults": {
           "line": {
            "color": "#2a3f5f"
           }
          },
          "ternary": {
           "aaxis": {
            "gridcolor": "white",
            "linecolor": "white",
            "ticks": ""
           },
           "baxis": {
            "gridcolor": "white",
            "linecolor": "white",
            "ticks": ""
           },
           "bgcolor": "#E5ECF6",
           "caxis": {
            "gridcolor": "white",
            "linecolor": "white",
            "ticks": ""
           }
          },
          "title": {
           "x": 0.05
          },
          "xaxis": {
           "automargin": true,
           "gridcolor": "white",
           "linecolor": "white",
           "ticks": "",
           "title": {
            "standoff": 15
           },
           "zerolinecolor": "white",
           "zerolinewidth": 2
          },
          "yaxis": {
           "automargin": true,
           "gridcolor": "white",
           "linecolor": "white",
           "ticks": "",
           "title": {
            "standoff": 15
           },
           "zerolinecolor": "white",
           "zerolinewidth": 2
          }
         }
        },
        "title": {
         "text": "Распределение событий по дням для Group A"
        },
        "xaxis": {
         "anchor": "y",
         "domain": [
          0,
          1
         ],
         "title": {
          "text": "event_date"
         }
        },
        "yaxis": {
         "anchor": "x",
         "domain": [
          0,
          1
         ],
         "title": {
          "text": "count_event"
         }
        }
       }
      },
      "text/html": [
       "<div>                            <div id=\"1a390c50-a8b0-411e-994d-eaa7ec4844c7\" class=\"plotly-graph-div\" style=\"height:525px; width:100%;\"></div>            <script type=\"text/javascript\">                require([\"plotly\"], function(Plotly) {                    window.PLOTLYENV=window.PLOTLYENV || {};                                    if (document.getElementById(\"1a390c50-a8b0-411e-994d-eaa7ec4844c7\")) {                    Plotly.newPlot(                        \"1a390c50-a8b0-411e-994d-eaa7ec4844c7\",                        [{\"alignmentgroup\":\"True\",\"hovertemplate\":\"event_name=login<br>event_date=%{x}<br>count_event=%{y}<extra></extra>\",\"legendgroup\":\"login\",\"marker\":{\"color\":\"#636efa\",\"pattern\":{\"shape\":\"\"}},\"name\":\"login\",\"offsetgroup\":\"login\",\"orientation\":\"v\",\"showlegend\":true,\"textposition\":\"auto\",\"x\":[\"2020-12-07\",\"2020-12-08\",\"2020-12-09\",\"2020-12-10\",\"2020-12-11\",\"2020-12-12\",\"2020-12-13\",\"2020-12-14\",\"2020-12-15\",\"2020-12-16\",\"2020-12-17\",\"2020-12-18\",\"2020-12-19\",\"2020-12-20\",\"2020-12-21\",\"2020-12-22\",\"2020-12-23\",\"2020-12-24\",\"2020-12-25\",\"2020-12-26\",\"2020-12-27\",\"2020-12-28\",\"2020-12-29\"],\"xaxis\":\"x\",\"y\":[103,108,128,113,128,128,116,339,340,327,377,399,473,480,637,429,324,272,207,182,184,143,146],\"yaxis\":\"y\",\"type\":\"bar\"},{\"alignmentgroup\":\"True\",\"hovertemplate\":\"event_name=product_cart<br>event_date=%{x}<br>count_event=%{y}<extra></extra>\",\"legendgroup\":\"product_cart\",\"marker\":{\"color\":\"#EF553B\",\"pattern\":{\"shape\":\"\"}},\"name\":\"product_cart\",\"offsetgroup\":\"product_cart\",\"orientation\":\"v\",\"showlegend\":true,\"textposition\":\"auto\",\"x\":[\"2020-12-07\",\"2020-12-08\",\"2020-12-09\",\"2020-12-10\",\"2020-12-11\",\"2020-12-12\",\"2020-12-13\",\"2020-12-14\",\"2020-12-15\",\"2020-12-16\",\"2020-12-17\",\"2020-12-18\",\"2020-12-19\",\"2020-12-20\",\"2020-12-21\",\"2020-12-22\",\"2020-12-23\",\"2020-12-24\",\"2020-12-25\",\"2020-12-26\",\"2020-12-27\",\"2020-12-28\",\"2020-12-29\"],\"xaxis\":\"x\",\"y\":[25,29,35,33,34,40,29,107,121,107,132,123,161,154,175,121,93,79,51,55,59,49,41],\"yaxis\":\"y\",\"type\":\"bar\"},{\"alignmentgroup\":\"True\",\"hovertemplate\":\"event_name=product_page<br>event_date=%{x}<br>count_event=%{y}<extra></extra>\",\"legendgroup\":\"product_page\",\"marker\":{\"color\":\"#00cc96\",\"pattern\":{\"shape\":\"\"}},\"name\":\"product_page\",\"offsetgroup\":\"product_page\",\"orientation\":\"v\",\"showlegend\":true,\"textposition\":\"auto\",\"x\":[\"2020-12-07\",\"2020-12-08\",\"2020-12-09\",\"2020-12-10\",\"2020-12-11\",\"2020-12-12\",\"2020-12-13\",\"2020-12-14\",\"2020-12-15\",\"2020-12-16\",\"2020-12-17\",\"2020-12-18\",\"2020-12-19\",\"2020-12-20\",\"2020-12-21\",\"2020-12-22\",\"2020-12-23\",\"2020-12-24\",\"2020-12-25\",\"2020-12-26\",\"2020-12-27\",\"2020-12-28\",\"2020-12-29\"],\"xaxis\":\"x\",\"y\":[66,76,80,66,71,76,66,216,219,210,250,273,315,303,422,279,206,187,146,113,122,93,97],\"yaxis\":\"y\",\"type\":\"bar\"},{\"alignmentgroup\":\"True\",\"hovertemplate\":\"event_name=purchase<br>event_date=%{x}<br>count_event=%{y}<extra></extra>\",\"legendgroup\":\"purchase\",\"marker\":{\"color\":\"#ab63fa\",\"pattern\":{\"shape\":\"\"}},\"name\":\"purchase\",\"offsetgroup\":\"purchase\",\"orientation\":\"v\",\"showlegend\":true,\"textposition\":\"auto\",\"x\":[\"2020-12-07\",\"2020-12-08\",\"2020-12-09\",\"2020-12-10\",\"2020-12-11\",\"2020-12-12\",\"2020-12-13\",\"2020-12-14\",\"2020-12-15\",\"2020-12-16\",\"2020-12-17\",\"2020-12-18\",\"2020-12-19\",\"2020-12-20\",\"2020-12-21\",\"2020-12-22\",\"2020-12-23\",\"2020-12-24\",\"2020-12-25\",\"2020-12-26\",\"2020-12-27\",\"2020-12-28\",\"2020-12-29\"],\"xaxis\":\"x\",\"y\":[27,26,39,34,31,29,22,93,100,104,116,113,155,162,208,129,93,92,80,65,56,43,37],\"yaxis\":\"y\",\"type\":\"bar\"}],                        {\"template\":{\"data\":{\"bar\":[{\"error_x\":{\"color\":\"#2a3f5f\"},\"error_y\":{\"color\":\"#2a3f5f\"},\"marker\":{\"line\":{\"color\":\"#E5ECF6\",\"width\":0.5},\"pattern\":{\"fillmode\":\"overlay\",\"size\":10,\"solidity\":0.2}},\"type\":\"bar\"}],\"barpolar\":[{\"marker\":{\"line\":{\"color\":\"#E5ECF6\",\"width\":0.5},\"pattern\":{\"fillmode\":\"overlay\",\"size\":10,\"solidity\":0.2}},\"type\":\"barpolar\"}],\"carpet\":[{\"aaxis\":{\"endlinecolor\":\"#2a3f5f\",\"gridcolor\":\"white\",\"linecolor\":\"white\",\"minorgridcolor\":\"white\",\"startlinecolor\":\"#2a3f5f\"},\"baxis\":{\"endlinecolor\":\"#2a3f5f\",\"gridcolor\":\"white\",\"linecolor\":\"white\",\"minorgridcolor\":\"white\",\"startlinecolor\":\"#2a3f5f\"},\"type\":\"carpet\"}],\"choropleth\":[{\"colorbar\":{\"outlinewidth\":0,\"ticks\":\"\"},\"type\":\"choropleth\"}],\"contour\":[{\"colorbar\":{\"outlinewidth\":0,\"ticks\":\"\"},\"colorscale\":[[0.0,\"#0d0887\"],[0.1111111111111111,\"#46039f\"],[0.2222222222222222,\"#7201a8\"],[0.3333333333333333,\"#9c179e\"],[0.4444444444444444,\"#bd3786\"],[0.5555555555555556,\"#d8576b\"],[0.6666666666666666,\"#ed7953\"],[0.7777777777777778,\"#fb9f3a\"],[0.8888888888888888,\"#fdca26\"],[1.0,\"#f0f921\"]],\"type\":\"contour\"}],\"contourcarpet\":[{\"colorbar\":{\"outlinewidth\":0,\"ticks\":\"\"},\"type\":\"contourcarpet\"}],\"heatmap\":[{\"colorbar\":{\"outlinewidth\":0,\"ticks\":\"\"},\"colorscale\":[[0.0,\"#0d0887\"],[0.1111111111111111,\"#46039f\"],[0.2222222222222222,\"#7201a8\"],[0.3333333333333333,\"#9c179e\"],[0.4444444444444444,\"#bd3786\"],[0.5555555555555556,\"#d8576b\"],[0.6666666666666666,\"#ed7953\"],[0.7777777777777778,\"#fb9f3a\"],[0.8888888888888888,\"#fdca26\"],[1.0,\"#f0f921\"]],\"type\":\"heatmap\"}],\"heatmapgl\":[{\"colorbar\":{\"outlinewidth\":0,\"ticks\":\"\"},\"colorscale\":[[0.0,\"#0d0887\"],[0.1111111111111111,\"#46039f\"],[0.2222222222222222,\"#7201a8\"],[0.3333333333333333,\"#9c179e\"],[0.4444444444444444,\"#bd3786\"],[0.5555555555555556,\"#d8576b\"],[0.6666666666666666,\"#ed7953\"],[0.7777777777777778,\"#fb9f3a\"],[0.8888888888888888,\"#fdca26\"],[1.0,\"#f0f921\"]],\"type\":\"heatmapgl\"}],\"histogram\":[{\"marker\":{\"pattern\":{\"fillmode\":\"overlay\",\"size\":10,\"solidity\":0.2}},\"type\":\"histogram\"}],\"histogram2d\":[{\"colorbar\":{\"outlinewidth\":0,\"ticks\":\"\"},\"colorscale\":[[0.0,\"#0d0887\"],[0.1111111111111111,\"#46039f\"],[0.2222222222222222,\"#7201a8\"],[0.3333333333333333,\"#9c179e\"],[0.4444444444444444,\"#bd3786\"],[0.5555555555555556,\"#d8576b\"],[0.6666666666666666,\"#ed7953\"],[0.7777777777777778,\"#fb9f3a\"],[0.8888888888888888,\"#fdca26\"],[1.0,\"#f0f921\"]],\"type\":\"histogram2d\"}],\"histogram2dcontour\":[{\"colorbar\":{\"outlinewidth\":0,\"ticks\":\"\"},\"colorscale\":[[0.0,\"#0d0887\"],[0.1111111111111111,\"#46039f\"],[0.2222222222222222,\"#7201a8\"],[0.3333333333333333,\"#9c179e\"],[0.4444444444444444,\"#bd3786\"],[0.5555555555555556,\"#d8576b\"],[0.6666666666666666,\"#ed7953\"],[0.7777777777777778,\"#fb9f3a\"],[0.8888888888888888,\"#fdca26\"],[1.0,\"#f0f921\"]],\"type\":\"histogram2dcontour\"}],\"mesh3d\":[{\"colorbar\":{\"outlinewidth\":0,\"ticks\":\"\"},\"type\":\"mesh3d\"}],\"parcoords\":[{\"line\":{\"colorbar\":{\"outlinewidth\":0,\"ticks\":\"\"}},\"type\":\"parcoords\"}],\"pie\":[{\"automargin\":true,\"type\":\"pie\"}],\"scatter\":[{\"marker\":{\"colorbar\":{\"outlinewidth\":0,\"ticks\":\"\"}},\"type\":\"scatter\"}],\"scatter3d\":[{\"line\":{\"colorbar\":{\"outlinewidth\":0,\"ticks\":\"\"}},\"marker\":{\"colorbar\":{\"outlinewidth\":0,\"ticks\":\"\"}},\"type\":\"scatter3d\"}],\"scattercarpet\":[{\"marker\":{\"colorbar\":{\"outlinewidth\":0,\"ticks\":\"\"}},\"type\":\"scattercarpet\"}],\"scattergeo\":[{\"marker\":{\"colorbar\":{\"outlinewidth\":0,\"ticks\":\"\"}},\"type\":\"scattergeo\"}],\"scattergl\":[{\"marker\":{\"colorbar\":{\"outlinewidth\":0,\"ticks\":\"\"}},\"type\":\"scattergl\"}],\"scattermapbox\":[{\"marker\":{\"colorbar\":{\"outlinewidth\":0,\"ticks\":\"\"}},\"type\":\"scattermapbox\"}],\"scatterpolar\":[{\"marker\":{\"colorbar\":{\"outlinewidth\":0,\"ticks\":\"\"}},\"type\":\"scatterpolar\"}],\"scatterpolargl\":[{\"marker\":{\"colorbar\":{\"outlinewidth\":0,\"ticks\":\"\"}},\"type\":\"scatterpolargl\"}],\"scatterternary\":[{\"marker\":{\"colorbar\":{\"outlinewidth\":0,\"ticks\":\"\"}},\"type\":\"scatterternary\"}],\"surface\":[{\"colorbar\":{\"outlinewidth\":0,\"ticks\":\"\"},\"colorscale\":[[0.0,\"#0d0887\"],[0.1111111111111111,\"#46039f\"],[0.2222222222222222,\"#7201a8\"],[0.3333333333333333,\"#9c179e\"],[0.4444444444444444,\"#bd3786\"],[0.5555555555555556,\"#d8576b\"],[0.6666666666666666,\"#ed7953\"],[0.7777777777777778,\"#fb9f3a\"],[0.8888888888888888,\"#fdca26\"],[1.0,\"#f0f921\"]],\"type\":\"surface\"}],\"table\":[{\"cells\":{\"fill\":{\"color\":\"#EBF0F8\"},\"line\":{\"color\":\"white\"}},\"header\":{\"fill\":{\"color\":\"#C8D4E3\"},\"line\":{\"color\":\"white\"}},\"type\":\"table\"}]},\"layout\":{\"annotationdefaults\":{\"arrowcolor\":\"#2a3f5f\",\"arrowhead\":0,\"arrowwidth\":1},\"autotypenumbers\":\"strict\",\"coloraxis\":{\"colorbar\":{\"outlinewidth\":0,\"ticks\":\"\"}},\"colorscale\":{\"diverging\":[[0,\"#8e0152\"],[0.1,\"#c51b7d\"],[0.2,\"#de77ae\"],[0.3,\"#f1b6da\"],[0.4,\"#fde0ef\"],[0.5,\"#f7f7f7\"],[0.6,\"#e6f5d0\"],[0.7,\"#b8e186\"],[0.8,\"#7fbc41\"],[0.9,\"#4d9221\"],[1,\"#276419\"]],\"sequential\":[[0.0,\"#0d0887\"],[0.1111111111111111,\"#46039f\"],[0.2222222222222222,\"#7201a8\"],[0.3333333333333333,\"#9c179e\"],[0.4444444444444444,\"#bd3786\"],[0.5555555555555556,\"#d8576b\"],[0.6666666666666666,\"#ed7953\"],[0.7777777777777778,\"#fb9f3a\"],[0.8888888888888888,\"#fdca26\"],[1.0,\"#f0f921\"]],\"sequentialminus\":[[0.0,\"#0d0887\"],[0.1111111111111111,\"#46039f\"],[0.2222222222222222,\"#7201a8\"],[0.3333333333333333,\"#9c179e\"],[0.4444444444444444,\"#bd3786\"],[0.5555555555555556,\"#d8576b\"],[0.6666666666666666,\"#ed7953\"],[0.7777777777777778,\"#fb9f3a\"],[0.8888888888888888,\"#fdca26\"],[1.0,\"#f0f921\"]]},\"colorway\":[\"#636efa\",\"#EF553B\",\"#00cc96\",\"#ab63fa\",\"#FFA15A\",\"#19d3f3\",\"#FF6692\",\"#B6E880\",\"#FF97FF\",\"#FECB52\"],\"font\":{\"color\":\"#2a3f5f\"},\"geo\":{\"bgcolor\":\"white\",\"lakecolor\":\"white\",\"landcolor\":\"#E5ECF6\",\"showlakes\":true,\"showland\":true,\"subunitcolor\":\"white\"},\"hoverlabel\":{\"align\":\"left\"},\"hovermode\":\"closest\",\"mapbox\":{\"style\":\"light\"},\"paper_bgcolor\":\"white\",\"plot_bgcolor\":\"#E5ECF6\",\"polar\":{\"angularaxis\":{\"gridcolor\":\"white\",\"linecolor\":\"white\",\"ticks\":\"\"},\"bgcolor\":\"#E5ECF6\",\"radialaxis\":{\"gridcolor\":\"white\",\"linecolor\":\"white\",\"ticks\":\"\"}},\"scene\":{\"xaxis\":{\"backgroundcolor\":\"#E5ECF6\",\"gridcolor\":\"white\",\"gridwidth\":2,\"linecolor\":\"white\",\"showbackground\":true,\"ticks\":\"\",\"zerolinecolor\":\"white\"},\"yaxis\":{\"backgroundcolor\":\"#E5ECF6\",\"gridcolor\":\"white\",\"gridwidth\":2,\"linecolor\":\"white\",\"showbackground\":true,\"ticks\":\"\",\"zerolinecolor\":\"white\"},\"zaxis\":{\"backgroundcolor\":\"#E5ECF6\",\"gridcolor\":\"white\",\"gridwidth\":2,\"linecolor\":\"white\",\"showbackground\":true,\"ticks\":\"\",\"zerolinecolor\":\"white\"}},\"shapedefaults\":{\"line\":{\"color\":\"#2a3f5f\"}},\"ternary\":{\"aaxis\":{\"gridcolor\":\"white\",\"linecolor\":\"white\",\"ticks\":\"\"},\"baxis\":{\"gridcolor\":\"white\",\"linecolor\":\"white\",\"ticks\":\"\"},\"bgcolor\":\"#E5ECF6\",\"caxis\":{\"gridcolor\":\"white\",\"linecolor\":\"white\",\"ticks\":\"\"}},\"title\":{\"x\":0.05},\"xaxis\":{\"automargin\":true,\"gridcolor\":\"white\",\"linecolor\":\"white\",\"ticks\":\"\",\"title\":{\"standoff\":15},\"zerolinecolor\":\"white\",\"zerolinewidth\":2},\"yaxis\":{\"automargin\":true,\"gridcolor\":\"white\",\"linecolor\":\"white\",\"ticks\":\"\",\"title\":{\"standoff\":15},\"zerolinecolor\":\"white\",\"zerolinewidth\":2}}},\"xaxis\":{\"anchor\":\"y\",\"domain\":[0.0,1.0],\"title\":{\"text\":\"event_date\"}},\"yaxis\":{\"anchor\":\"x\",\"domain\":[0.0,1.0],\"title\":{\"text\":\"count_event\"}},\"legend\":{\"title\":{\"text\":\"event_name\"},\"tracegroupgap\":0},\"margin\":{\"t\":60},\"barmode\":\"relative\",\"title\":{\"text\":\"\\u0420\\u0430\\u0441\\u043f\\u0440\\u0435\\u0434\\u0435\\u043b\\u0435\\u043d\\u0438\\u0435 \\u0441\\u043e\\u0431\\u044b\\u0442\\u0438\\u0439 \\u043f\\u043e \\u0434\\u043d\\u044f\\u043c \\u0434\\u043b\\u044f Group A\"}},                        {\"responsive\": true}                    ).then(function(){\n",
       "                            \n",
       "var gd = document.getElementById('1a390c50-a8b0-411e-994d-eaa7ec4844c7');\n",
       "var x = new MutationObserver(function (mutations, observer) {{\n",
       "        var display = window.getComputedStyle(gd).display;\n",
       "        if (!display || display === 'none') {{\n",
       "            console.log([gd, 'removed!']);\n",
       "            Plotly.purge(gd);\n",
       "            observer.disconnect();\n",
       "        }}\n",
       "}});\n",
       "\n",
       "// Listen for the removal of the full notebook cells\n",
       "var notebookContainer = gd.closest('#notebook-container');\n",
       "if (notebookContainer) {{\n",
       "    x.observe(notebookContainer, {childList: true});\n",
       "}}\n",
       "\n",
       "// Listen for the clearing of the current output cell\n",
       "var outputEl = gd.closest('.output');\n",
       "if (outputEl) {{\n",
       "    x.observe(outputEl, {childList: true});\n",
       "}}\n",
       "\n",
       "                        })                };                });            </script>        </div>"
      ]
     },
     "metadata": {},
     "output_type": "display_data"
    },
    {
     "data": {
      "application/vnd.plotly.v1+json": {
       "config": {
        "plotlyServerURL": "https://plot.ly"
       },
       "data": [
        {
         "alignmentgroup": "True",
         "hovertemplate": "event_name=login<br>event_date=%{x}<br>count_event=%{y}<extra></extra>",
         "legendgroup": "login",
         "marker": {
          "color": "#636efa",
          "pattern": {
           "shape": ""
          }
         },
         "name": "login",
         "offsetgroup": "login",
         "orientation": "v",
         "showlegend": true,
         "textposition": "auto",
         "type": "bar",
         "x": [
          "2020-12-07",
          "2020-12-08",
          "2020-12-09",
          "2020-12-10",
          "2020-12-11",
          "2020-12-12",
          "2020-12-13",
          "2020-12-14",
          "2020-12-15",
          "2020-12-16",
          "2020-12-17",
          "2020-12-18",
          "2020-12-19",
          "2020-12-20",
          "2020-12-21",
          "2020-12-22",
          "2020-12-23",
          "2020-12-24",
          "2020-12-25",
          "2020-12-26",
          "2020-12-27",
          "2020-12-28",
          "2020-12-29",
          "2020-12-30"
         ],
         "xaxis": "x",
         "y": [
          114,
          81,
          117,
          89,
          59,
          75,
          54,
          95,
          82,
          123,
          90,
          98,
          103,
          118,
          141,
          66,
          76,
          53,
          42,
          39,
          44,
          37,
          26,
          1
         ],
         "yaxis": "y"
        },
        {
         "alignmentgroup": "True",
         "hovertemplate": "event_name=product_cart<br>event_date=%{x}<br>count_event=%{y}<extra></extra>",
         "legendgroup": "product_cart",
         "marker": {
          "color": "#EF553B",
          "pattern": {
           "shape": ""
          }
         },
         "name": "product_cart",
         "offsetgroup": "product_cart",
         "orientation": "v",
         "showlegend": true,
         "textposition": "auto",
         "type": "bar",
         "x": [
          "2020-12-07",
          "2020-12-08",
          "2020-12-09",
          "2020-12-10",
          "2020-12-11",
          "2020-12-12",
          "2020-12-13",
          "2020-12-14",
          "2020-12-15",
          "2020-12-16",
          "2020-12-17",
          "2020-12-18",
          "2020-12-19",
          "2020-12-20",
          "2020-12-21",
          "2020-12-22",
          "2020-12-23",
          "2020-12-24",
          "2020-12-25",
          "2020-12-26",
          "2020-12-27",
          "2020-12-28",
          "2020-12-29",
          "2020-12-30"
         ],
         "xaxis": "x",
         "y": [
          31,
          23,
          32,
          27,
          15,
          14,
          10,
          28,
          23,
          44,
          35,
          33,
          31,
          26,
          43,
          11,
          17,
          18,
          8,
          7,
          12,
          4,
          4,
          1
         ],
         "yaxis": "y"
        },
        {
         "alignmentgroup": "True",
         "hovertemplate": "event_name=product_page<br>event_date=%{x}<br>count_event=%{y}<extra></extra>",
         "legendgroup": "product_page",
         "marker": {
          "color": "#00cc96",
          "pattern": {
           "shape": ""
          }
         },
         "name": "product_page",
         "offsetgroup": "product_page",
         "orientation": "v",
         "showlegend": true,
         "textposition": "auto",
         "type": "bar",
         "x": [
          "2020-12-07",
          "2020-12-08",
          "2020-12-09",
          "2020-12-10",
          "2020-12-11",
          "2020-12-12",
          "2020-12-13",
          "2020-12-14",
          "2020-12-15",
          "2020-12-16",
          "2020-12-17",
          "2020-12-18",
          "2020-12-19",
          "2020-12-20",
          "2020-12-21",
          "2020-12-22",
          "2020-12-23",
          "2020-12-24",
          "2020-12-25",
          "2020-12-26",
          "2020-12-27",
          "2020-12-28",
          "2020-12-29"
         ],
         "xaxis": "x",
         "y": [
          76,
          41,
          74,
          46,
          30,
          39,
          23,
          44,
          39,
          75,
          48,
          46,
          55,
          65,
          77,
          32,
          35,
          26,
          24,
          22,
          21,
          19,
          13
         ],
         "yaxis": "y"
        },
        {
         "alignmentgroup": "True",
         "hovertemplate": "event_name=purchase<br>event_date=%{x}<br>count_event=%{y}<extra></extra>",
         "legendgroup": "purchase",
         "marker": {
          "color": "#ab63fa",
          "pattern": {
           "shape": ""
          }
         },
         "name": "purchase",
         "offsetgroup": "purchase",
         "orientation": "v",
         "showlegend": true,
         "textposition": "auto",
         "type": "bar",
         "x": [
          "2020-12-07",
          "2020-12-08",
          "2020-12-09",
          "2020-12-10",
          "2020-12-11",
          "2020-12-12",
          "2020-12-13",
          "2020-12-14",
          "2020-12-15",
          "2020-12-16",
          "2020-12-17",
          "2020-12-18",
          "2020-12-19",
          "2020-12-20",
          "2020-12-21",
          "2020-12-22",
          "2020-12-23",
          "2020-12-24",
          "2020-12-25",
          "2020-12-26",
          "2020-12-27",
          "2020-12-28",
          "2020-12-29"
         ],
         "xaxis": "x",
         "y": [
          47,
          24,
          27,
          20,
          11,
          22,
          16,
          26,
          20,
          33,
          21,
          23,
          23,
          29,
          47,
          23,
          20,
          15,
          9,
          8,
          15,
          7,
          8
         ],
         "yaxis": "y"
        }
       ],
       "layout": {
        "barmode": "relative",
        "legend": {
         "title": {
          "text": "event_name"
         },
         "tracegroupgap": 0
        },
        "margin": {
         "t": 60
        },
        "template": {
         "data": {
          "bar": [
           {
            "error_x": {
             "color": "#2a3f5f"
            },
            "error_y": {
             "color": "#2a3f5f"
            },
            "marker": {
             "line": {
              "color": "#E5ECF6",
              "width": 0.5
             },
             "pattern": {
              "fillmode": "overlay",
              "size": 10,
              "solidity": 0.2
             }
            },
            "type": "bar"
           }
          ],
          "barpolar": [
           {
            "marker": {
             "line": {
              "color": "#E5ECF6",
              "width": 0.5
             },
             "pattern": {
              "fillmode": "overlay",
              "size": 10,
              "solidity": 0.2
             }
            },
            "type": "barpolar"
           }
          ],
          "carpet": [
           {
            "aaxis": {
             "endlinecolor": "#2a3f5f",
             "gridcolor": "white",
             "linecolor": "white",
             "minorgridcolor": "white",
             "startlinecolor": "#2a3f5f"
            },
            "baxis": {
             "endlinecolor": "#2a3f5f",
             "gridcolor": "white",
             "linecolor": "white",
             "minorgridcolor": "white",
             "startlinecolor": "#2a3f5f"
            },
            "type": "carpet"
           }
          ],
          "choropleth": [
           {
            "colorbar": {
             "outlinewidth": 0,
             "ticks": ""
            },
            "type": "choropleth"
           }
          ],
          "contour": [
           {
            "colorbar": {
             "outlinewidth": 0,
             "ticks": ""
            },
            "colorscale": [
             [
              0,
              "#0d0887"
             ],
             [
              0.1111111111111111,
              "#46039f"
             ],
             [
              0.2222222222222222,
              "#7201a8"
             ],
             [
              0.3333333333333333,
              "#9c179e"
             ],
             [
              0.4444444444444444,
              "#bd3786"
             ],
             [
              0.5555555555555556,
              "#d8576b"
             ],
             [
              0.6666666666666666,
              "#ed7953"
             ],
             [
              0.7777777777777778,
              "#fb9f3a"
             ],
             [
              0.8888888888888888,
              "#fdca26"
             ],
             [
              1,
              "#f0f921"
             ]
            ],
            "type": "contour"
           }
          ],
          "contourcarpet": [
           {
            "colorbar": {
             "outlinewidth": 0,
             "ticks": ""
            },
            "type": "contourcarpet"
           }
          ],
          "heatmap": [
           {
            "colorbar": {
             "outlinewidth": 0,
             "ticks": ""
            },
            "colorscale": [
             [
              0,
              "#0d0887"
             ],
             [
              0.1111111111111111,
              "#46039f"
             ],
             [
              0.2222222222222222,
              "#7201a8"
             ],
             [
              0.3333333333333333,
              "#9c179e"
             ],
             [
              0.4444444444444444,
              "#bd3786"
             ],
             [
              0.5555555555555556,
              "#d8576b"
             ],
             [
              0.6666666666666666,
              "#ed7953"
             ],
             [
              0.7777777777777778,
              "#fb9f3a"
             ],
             [
              0.8888888888888888,
              "#fdca26"
             ],
             [
              1,
              "#f0f921"
             ]
            ],
            "type": "heatmap"
           }
          ],
          "heatmapgl": [
           {
            "colorbar": {
             "outlinewidth": 0,
             "ticks": ""
            },
            "colorscale": [
             [
              0,
              "#0d0887"
             ],
             [
              0.1111111111111111,
              "#46039f"
             ],
             [
              0.2222222222222222,
              "#7201a8"
             ],
             [
              0.3333333333333333,
              "#9c179e"
             ],
             [
              0.4444444444444444,
              "#bd3786"
             ],
             [
              0.5555555555555556,
              "#d8576b"
             ],
             [
              0.6666666666666666,
              "#ed7953"
             ],
             [
              0.7777777777777778,
              "#fb9f3a"
             ],
             [
              0.8888888888888888,
              "#fdca26"
             ],
             [
              1,
              "#f0f921"
             ]
            ],
            "type": "heatmapgl"
           }
          ],
          "histogram": [
           {
            "marker": {
             "pattern": {
              "fillmode": "overlay",
              "size": 10,
              "solidity": 0.2
             }
            },
            "type": "histogram"
           }
          ],
          "histogram2d": [
           {
            "colorbar": {
             "outlinewidth": 0,
             "ticks": ""
            },
            "colorscale": [
             [
              0,
              "#0d0887"
             ],
             [
              0.1111111111111111,
              "#46039f"
             ],
             [
              0.2222222222222222,
              "#7201a8"
             ],
             [
              0.3333333333333333,
              "#9c179e"
             ],
             [
              0.4444444444444444,
              "#bd3786"
             ],
             [
              0.5555555555555556,
              "#d8576b"
             ],
             [
              0.6666666666666666,
              "#ed7953"
             ],
             [
              0.7777777777777778,
              "#fb9f3a"
             ],
             [
              0.8888888888888888,
              "#fdca26"
             ],
             [
              1,
              "#f0f921"
             ]
            ],
            "type": "histogram2d"
           }
          ],
          "histogram2dcontour": [
           {
            "colorbar": {
             "outlinewidth": 0,
             "ticks": ""
            },
            "colorscale": [
             [
              0,
              "#0d0887"
             ],
             [
              0.1111111111111111,
              "#46039f"
             ],
             [
              0.2222222222222222,
              "#7201a8"
             ],
             [
              0.3333333333333333,
              "#9c179e"
             ],
             [
              0.4444444444444444,
              "#bd3786"
             ],
             [
              0.5555555555555556,
              "#d8576b"
             ],
             [
              0.6666666666666666,
              "#ed7953"
             ],
             [
              0.7777777777777778,
              "#fb9f3a"
             ],
             [
              0.8888888888888888,
              "#fdca26"
             ],
             [
              1,
              "#f0f921"
             ]
            ],
            "type": "histogram2dcontour"
           }
          ],
          "mesh3d": [
           {
            "colorbar": {
             "outlinewidth": 0,
             "ticks": ""
            },
            "type": "mesh3d"
           }
          ],
          "parcoords": [
           {
            "line": {
             "colorbar": {
              "outlinewidth": 0,
              "ticks": ""
             }
            },
            "type": "parcoords"
           }
          ],
          "pie": [
           {
            "automargin": true,
            "type": "pie"
           }
          ],
          "scatter": [
           {
            "marker": {
             "colorbar": {
              "outlinewidth": 0,
              "ticks": ""
             }
            },
            "type": "scatter"
           }
          ],
          "scatter3d": [
           {
            "line": {
             "colorbar": {
              "outlinewidth": 0,
              "ticks": ""
             }
            },
            "marker": {
             "colorbar": {
              "outlinewidth": 0,
              "ticks": ""
             }
            },
            "type": "scatter3d"
           }
          ],
          "scattercarpet": [
           {
            "marker": {
             "colorbar": {
              "outlinewidth": 0,
              "ticks": ""
             }
            },
            "type": "scattercarpet"
           }
          ],
          "scattergeo": [
           {
            "marker": {
             "colorbar": {
              "outlinewidth": 0,
              "ticks": ""
             }
            },
            "type": "scattergeo"
           }
          ],
          "scattergl": [
           {
            "marker": {
             "colorbar": {
              "outlinewidth": 0,
              "ticks": ""
             }
            },
            "type": "scattergl"
           }
          ],
          "scattermapbox": [
           {
            "marker": {
             "colorbar": {
              "outlinewidth": 0,
              "ticks": ""
             }
            },
            "type": "scattermapbox"
           }
          ],
          "scatterpolar": [
           {
            "marker": {
             "colorbar": {
              "outlinewidth": 0,
              "ticks": ""
             }
            },
            "type": "scatterpolar"
           }
          ],
          "scatterpolargl": [
           {
            "marker": {
             "colorbar": {
              "outlinewidth": 0,
              "ticks": ""
             }
            },
            "type": "scatterpolargl"
           }
          ],
          "scatterternary": [
           {
            "marker": {
             "colorbar": {
              "outlinewidth": 0,
              "ticks": ""
             }
            },
            "type": "scatterternary"
           }
          ],
          "surface": [
           {
            "colorbar": {
             "outlinewidth": 0,
             "ticks": ""
            },
            "colorscale": [
             [
              0,
              "#0d0887"
             ],
             [
              0.1111111111111111,
              "#46039f"
             ],
             [
              0.2222222222222222,
              "#7201a8"
             ],
             [
              0.3333333333333333,
              "#9c179e"
             ],
             [
              0.4444444444444444,
              "#bd3786"
             ],
             [
              0.5555555555555556,
              "#d8576b"
             ],
             [
              0.6666666666666666,
              "#ed7953"
             ],
             [
              0.7777777777777778,
              "#fb9f3a"
             ],
             [
              0.8888888888888888,
              "#fdca26"
             ],
             [
              1,
              "#f0f921"
             ]
            ],
            "type": "surface"
           }
          ],
          "table": [
           {
            "cells": {
             "fill": {
              "color": "#EBF0F8"
             },
             "line": {
              "color": "white"
             }
            },
            "header": {
             "fill": {
              "color": "#C8D4E3"
             },
             "line": {
              "color": "white"
             }
            },
            "type": "table"
           }
          ]
         },
         "layout": {
          "annotationdefaults": {
           "arrowcolor": "#2a3f5f",
           "arrowhead": 0,
           "arrowwidth": 1
          },
          "autotypenumbers": "strict",
          "coloraxis": {
           "colorbar": {
            "outlinewidth": 0,
            "ticks": ""
           }
          },
          "colorscale": {
           "diverging": [
            [
             0,
             "#8e0152"
            ],
            [
             0.1,
             "#c51b7d"
            ],
            [
             0.2,
             "#de77ae"
            ],
            [
             0.3,
             "#f1b6da"
            ],
            [
             0.4,
             "#fde0ef"
            ],
            [
             0.5,
             "#f7f7f7"
            ],
            [
             0.6,
             "#e6f5d0"
            ],
            [
             0.7,
             "#b8e186"
            ],
            [
             0.8,
             "#7fbc41"
            ],
            [
             0.9,
             "#4d9221"
            ],
            [
             1,
             "#276419"
            ]
           ],
           "sequential": [
            [
             0,
             "#0d0887"
            ],
            [
             0.1111111111111111,
             "#46039f"
            ],
            [
             0.2222222222222222,
             "#7201a8"
            ],
            [
             0.3333333333333333,
             "#9c179e"
            ],
            [
             0.4444444444444444,
             "#bd3786"
            ],
            [
             0.5555555555555556,
             "#d8576b"
            ],
            [
             0.6666666666666666,
             "#ed7953"
            ],
            [
             0.7777777777777778,
             "#fb9f3a"
            ],
            [
             0.8888888888888888,
             "#fdca26"
            ],
            [
             1,
             "#f0f921"
            ]
           ],
           "sequentialminus": [
            [
             0,
             "#0d0887"
            ],
            [
             0.1111111111111111,
             "#46039f"
            ],
            [
             0.2222222222222222,
             "#7201a8"
            ],
            [
             0.3333333333333333,
             "#9c179e"
            ],
            [
             0.4444444444444444,
             "#bd3786"
            ],
            [
             0.5555555555555556,
             "#d8576b"
            ],
            [
             0.6666666666666666,
             "#ed7953"
            ],
            [
             0.7777777777777778,
             "#fb9f3a"
            ],
            [
             0.8888888888888888,
             "#fdca26"
            ],
            [
             1,
             "#f0f921"
            ]
           ]
          },
          "colorway": [
           "#636efa",
           "#EF553B",
           "#00cc96",
           "#ab63fa",
           "#FFA15A",
           "#19d3f3",
           "#FF6692",
           "#B6E880",
           "#FF97FF",
           "#FECB52"
          ],
          "font": {
           "color": "#2a3f5f"
          },
          "geo": {
           "bgcolor": "white",
           "lakecolor": "white",
           "landcolor": "#E5ECF6",
           "showlakes": true,
           "showland": true,
           "subunitcolor": "white"
          },
          "hoverlabel": {
           "align": "left"
          },
          "hovermode": "closest",
          "mapbox": {
           "style": "light"
          },
          "paper_bgcolor": "white",
          "plot_bgcolor": "#E5ECF6",
          "polar": {
           "angularaxis": {
            "gridcolor": "white",
            "linecolor": "white",
            "ticks": ""
           },
           "bgcolor": "#E5ECF6",
           "radialaxis": {
            "gridcolor": "white",
            "linecolor": "white",
            "ticks": ""
           }
          },
          "scene": {
           "xaxis": {
            "backgroundcolor": "#E5ECF6",
            "gridcolor": "white",
            "gridwidth": 2,
            "linecolor": "white",
            "showbackground": true,
            "ticks": "",
            "zerolinecolor": "white"
           },
           "yaxis": {
            "backgroundcolor": "#E5ECF6",
            "gridcolor": "white",
            "gridwidth": 2,
            "linecolor": "white",
            "showbackground": true,
            "ticks": "",
            "zerolinecolor": "white"
           },
           "zaxis": {
            "backgroundcolor": "#E5ECF6",
            "gridcolor": "white",
            "gridwidth": 2,
            "linecolor": "white",
            "showbackground": true,
            "ticks": "",
            "zerolinecolor": "white"
           }
          },
          "shapedefaults": {
           "line": {
            "color": "#2a3f5f"
           }
          },
          "ternary": {
           "aaxis": {
            "gridcolor": "white",
            "linecolor": "white",
            "ticks": ""
           },
           "baxis": {
            "gridcolor": "white",
            "linecolor": "white",
            "ticks": ""
           },
           "bgcolor": "#E5ECF6",
           "caxis": {
            "gridcolor": "white",
            "linecolor": "white",
            "ticks": ""
           }
          },
          "title": {
           "x": 0.05
          },
          "xaxis": {
           "automargin": true,
           "gridcolor": "white",
           "linecolor": "white",
           "ticks": "",
           "title": {
            "standoff": 15
           },
           "zerolinecolor": "white",
           "zerolinewidth": 2
          },
          "yaxis": {
           "automargin": true,
           "gridcolor": "white",
           "linecolor": "white",
           "ticks": "",
           "title": {
            "standoff": 15
           },
           "zerolinecolor": "white",
           "zerolinewidth": 2
          }
         }
        },
        "title": {
         "text": "Распределение событий по дням для Group В"
        },
        "xaxis": {
         "anchor": "y",
         "domain": [
          0,
          1
         ],
         "title": {
          "text": "event_date"
         }
        },
        "yaxis": {
         "anchor": "x",
         "domain": [
          0,
          1
         ],
         "title": {
          "text": "count_event"
         }
        }
       }
      },
      "text/html": [
       "<div>                            <div id=\"d5f439ad-3c77-4647-a960-303d36243bb8\" class=\"plotly-graph-div\" style=\"height:525px; width:100%;\"></div>            <script type=\"text/javascript\">                require([\"plotly\"], function(Plotly) {                    window.PLOTLYENV=window.PLOTLYENV || {};                                    if (document.getElementById(\"d5f439ad-3c77-4647-a960-303d36243bb8\")) {                    Plotly.newPlot(                        \"d5f439ad-3c77-4647-a960-303d36243bb8\",                        [{\"alignmentgroup\":\"True\",\"hovertemplate\":\"event_name=login<br>event_date=%{x}<br>count_event=%{y}<extra></extra>\",\"legendgroup\":\"login\",\"marker\":{\"color\":\"#636efa\",\"pattern\":{\"shape\":\"\"}},\"name\":\"login\",\"offsetgroup\":\"login\",\"orientation\":\"v\",\"showlegend\":true,\"textposition\":\"auto\",\"x\":[\"2020-12-07\",\"2020-12-08\",\"2020-12-09\",\"2020-12-10\",\"2020-12-11\",\"2020-12-12\",\"2020-12-13\",\"2020-12-14\",\"2020-12-15\",\"2020-12-16\",\"2020-12-17\",\"2020-12-18\",\"2020-12-19\",\"2020-12-20\",\"2020-12-21\",\"2020-12-22\",\"2020-12-23\",\"2020-12-24\",\"2020-12-25\",\"2020-12-26\",\"2020-12-27\",\"2020-12-28\",\"2020-12-29\",\"2020-12-30\"],\"xaxis\":\"x\",\"y\":[114,81,117,89,59,75,54,95,82,123,90,98,103,118,141,66,76,53,42,39,44,37,26,1],\"yaxis\":\"y\",\"type\":\"bar\"},{\"alignmentgroup\":\"True\",\"hovertemplate\":\"event_name=product_cart<br>event_date=%{x}<br>count_event=%{y}<extra></extra>\",\"legendgroup\":\"product_cart\",\"marker\":{\"color\":\"#EF553B\",\"pattern\":{\"shape\":\"\"}},\"name\":\"product_cart\",\"offsetgroup\":\"product_cart\",\"orientation\":\"v\",\"showlegend\":true,\"textposition\":\"auto\",\"x\":[\"2020-12-07\",\"2020-12-08\",\"2020-12-09\",\"2020-12-10\",\"2020-12-11\",\"2020-12-12\",\"2020-12-13\",\"2020-12-14\",\"2020-12-15\",\"2020-12-16\",\"2020-12-17\",\"2020-12-18\",\"2020-12-19\",\"2020-12-20\",\"2020-12-21\",\"2020-12-22\",\"2020-12-23\",\"2020-12-24\",\"2020-12-25\",\"2020-12-26\",\"2020-12-27\",\"2020-12-28\",\"2020-12-29\",\"2020-12-30\"],\"xaxis\":\"x\",\"y\":[31,23,32,27,15,14,10,28,23,44,35,33,31,26,43,11,17,18,8,7,12,4,4,1],\"yaxis\":\"y\",\"type\":\"bar\"},{\"alignmentgroup\":\"True\",\"hovertemplate\":\"event_name=product_page<br>event_date=%{x}<br>count_event=%{y}<extra></extra>\",\"legendgroup\":\"product_page\",\"marker\":{\"color\":\"#00cc96\",\"pattern\":{\"shape\":\"\"}},\"name\":\"product_page\",\"offsetgroup\":\"product_page\",\"orientation\":\"v\",\"showlegend\":true,\"textposition\":\"auto\",\"x\":[\"2020-12-07\",\"2020-12-08\",\"2020-12-09\",\"2020-12-10\",\"2020-12-11\",\"2020-12-12\",\"2020-12-13\",\"2020-12-14\",\"2020-12-15\",\"2020-12-16\",\"2020-12-17\",\"2020-12-18\",\"2020-12-19\",\"2020-12-20\",\"2020-12-21\",\"2020-12-22\",\"2020-12-23\",\"2020-12-24\",\"2020-12-25\",\"2020-12-26\",\"2020-12-27\",\"2020-12-28\",\"2020-12-29\"],\"xaxis\":\"x\",\"y\":[76,41,74,46,30,39,23,44,39,75,48,46,55,65,77,32,35,26,24,22,21,19,13],\"yaxis\":\"y\",\"type\":\"bar\"},{\"alignmentgroup\":\"True\",\"hovertemplate\":\"event_name=purchase<br>event_date=%{x}<br>count_event=%{y}<extra></extra>\",\"legendgroup\":\"purchase\",\"marker\":{\"color\":\"#ab63fa\",\"pattern\":{\"shape\":\"\"}},\"name\":\"purchase\",\"offsetgroup\":\"purchase\",\"orientation\":\"v\",\"showlegend\":true,\"textposition\":\"auto\",\"x\":[\"2020-12-07\",\"2020-12-08\",\"2020-12-09\",\"2020-12-10\",\"2020-12-11\",\"2020-12-12\",\"2020-12-13\",\"2020-12-14\",\"2020-12-15\",\"2020-12-16\",\"2020-12-17\",\"2020-12-18\",\"2020-12-19\",\"2020-12-20\",\"2020-12-21\",\"2020-12-22\",\"2020-12-23\",\"2020-12-24\",\"2020-12-25\",\"2020-12-26\",\"2020-12-27\",\"2020-12-28\",\"2020-12-29\"],\"xaxis\":\"x\",\"y\":[47,24,27,20,11,22,16,26,20,33,21,23,23,29,47,23,20,15,9,8,15,7,8],\"yaxis\":\"y\",\"type\":\"bar\"}],                        {\"template\":{\"data\":{\"bar\":[{\"error_x\":{\"color\":\"#2a3f5f\"},\"error_y\":{\"color\":\"#2a3f5f\"},\"marker\":{\"line\":{\"color\":\"#E5ECF6\",\"width\":0.5},\"pattern\":{\"fillmode\":\"overlay\",\"size\":10,\"solidity\":0.2}},\"type\":\"bar\"}],\"barpolar\":[{\"marker\":{\"line\":{\"color\":\"#E5ECF6\",\"width\":0.5},\"pattern\":{\"fillmode\":\"overlay\",\"size\":10,\"solidity\":0.2}},\"type\":\"barpolar\"}],\"carpet\":[{\"aaxis\":{\"endlinecolor\":\"#2a3f5f\",\"gridcolor\":\"white\",\"linecolor\":\"white\",\"minorgridcolor\":\"white\",\"startlinecolor\":\"#2a3f5f\"},\"baxis\":{\"endlinecolor\":\"#2a3f5f\",\"gridcolor\":\"white\",\"linecolor\":\"white\",\"minorgridcolor\":\"white\",\"startlinecolor\":\"#2a3f5f\"},\"type\":\"carpet\"}],\"choropleth\":[{\"colorbar\":{\"outlinewidth\":0,\"ticks\":\"\"},\"type\":\"choropleth\"}],\"contour\":[{\"colorbar\":{\"outlinewidth\":0,\"ticks\":\"\"},\"colorscale\":[[0.0,\"#0d0887\"],[0.1111111111111111,\"#46039f\"],[0.2222222222222222,\"#7201a8\"],[0.3333333333333333,\"#9c179e\"],[0.4444444444444444,\"#bd3786\"],[0.5555555555555556,\"#d8576b\"],[0.6666666666666666,\"#ed7953\"],[0.7777777777777778,\"#fb9f3a\"],[0.8888888888888888,\"#fdca26\"],[1.0,\"#f0f921\"]],\"type\":\"contour\"}],\"contourcarpet\":[{\"colorbar\":{\"outlinewidth\":0,\"ticks\":\"\"},\"type\":\"contourcarpet\"}],\"heatmap\":[{\"colorbar\":{\"outlinewidth\":0,\"ticks\":\"\"},\"colorscale\":[[0.0,\"#0d0887\"],[0.1111111111111111,\"#46039f\"],[0.2222222222222222,\"#7201a8\"],[0.3333333333333333,\"#9c179e\"],[0.4444444444444444,\"#bd3786\"],[0.5555555555555556,\"#d8576b\"],[0.6666666666666666,\"#ed7953\"],[0.7777777777777778,\"#fb9f3a\"],[0.8888888888888888,\"#fdca26\"],[1.0,\"#f0f921\"]],\"type\":\"heatmap\"}],\"heatmapgl\":[{\"colorbar\":{\"outlinewidth\":0,\"ticks\":\"\"},\"colorscale\":[[0.0,\"#0d0887\"],[0.1111111111111111,\"#46039f\"],[0.2222222222222222,\"#7201a8\"],[0.3333333333333333,\"#9c179e\"],[0.4444444444444444,\"#bd3786\"],[0.5555555555555556,\"#d8576b\"],[0.6666666666666666,\"#ed7953\"],[0.7777777777777778,\"#fb9f3a\"],[0.8888888888888888,\"#fdca26\"],[1.0,\"#f0f921\"]],\"type\":\"heatmapgl\"}],\"histogram\":[{\"marker\":{\"pattern\":{\"fillmode\":\"overlay\",\"size\":10,\"solidity\":0.2}},\"type\":\"histogram\"}],\"histogram2d\":[{\"colorbar\":{\"outlinewidth\":0,\"ticks\":\"\"},\"colorscale\":[[0.0,\"#0d0887\"],[0.1111111111111111,\"#46039f\"],[0.2222222222222222,\"#7201a8\"],[0.3333333333333333,\"#9c179e\"],[0.4444444444444444,\"#bd3786\"],[0.5555555555555556,\"#d8576b\"],[0.6666666666666666,\"#ed7953\"],[0.7777777777777778,\"#fb9f3a\"],[0.8888888888888888,\"#fdca26\"],[1.0,\"#f0f921\"]],\"type\":\"histogram2d\"}],\"histogram2dcontour\":[{\"colorbar\":{\"outlinewidth\":0,\"ticks\":\"\"},\"colorscale\":[[0.0,\"#0d0887\"],[0.1111111111111111,\"#46039f\"],[0.2222222222222222,\"#7201a8\"],[0.3333333333333333,\"#9c179e\"],[0.4444444444444444,\"#bd3786\"],[0.5555555555555556,\"#d8576b\"],[0.6666666666666666,\"#ed7953\"],[0.7777777777777778,\"#fb9f3a\"],[0.8888888888888888,\"#fdca26\"],[1.0,\"#f0f921\"]],\"type\":\"histogram2dcontour\"}],\"mesh3d\":[{\"colorbar\":{\"outlinewidth\":0,\"ticks\":\"\"},\"type\":\"mesh3d\"}],\"parcoords\":[{\"line\":{\"colorbar\":{\"outlinewidth\":0,\"ticks\":\"\"}},\"type\":\"parcoords\"}],\"pie\":[{\"automargin\":true,\"type\":\"pie\"}],\"scatter\":[{\"marker\":{\"colorbar\":{\"outlinewidth\":0,\"ticks\":\"\"}},\"type\":\"scatter\"}],\"scatter3d\":[{\"line\":{\"colorbar\":{\"outlinewidth\":0,\"ticks\":\"\"}},\"marker\":{\"colorbar\":{\"outlinewidth\":0,\"ticks\":\"\"}},\"type\":\"scatter3d\"}],\"scattercarpet\":[{\"marker\":{\"colorbar\":{\"outlinewidth\":0,\"ticks\":\"\"}},\"type\":\"scattercarpet\"}],\"scattergeo\":[{\"marker\":{\"colorbar\":{\"outlinewidth\":0,\"ticks\":\"\"}},\"type\":\"scattergeo\"}],\"scattergl\":[{\"marker\":{\"colorbar\":{\"outlinewidth\":0,\"ticks\":\"\"}},\"type\":\"scattergl\"}],\"scattermapbox\":[{\"marker\":{\"colorbar\":{\"outlinewidth\":0,\"ticks\":\"\"}},\"type\":\"scattermapbox\"}],\"scatterpolar\":[{\"marker\":{\"colorbar\":{\"outlinewidth\":0,\"ticks\":\"\"}},\"type\":\"scatterpolar\"}],\"scatterpolargl\":[{\"marker\":{\"colorbar\":{\"outlinewidth\":0,\"ticks\":\"\"}},\"type\":\"scatterpolargl\"}],\"scatterternary\":[{\"marker\":{\"colorbar\":{\"outlinewidth\":0,\"ticks\":\"\"}},\"type\":\"scatterternary\"}],\"surface\":[{\"colorbar\":{\"outlinewidth\":0,\"ticks\":\"\"},\"colorscale\":[[0.0,\"#0d0887\"],[0.1111111111111111,\"#46039f\"],[0.2222222222222222,\"#7201a8\"],[0.3333333333333333,\"#9c179e\"],[0.4444444444444444,\"#bd3786\"],[0.5555555555555556,\"#d8576b\"],[0.6666666666666666,\"#ed7953\"],[0.7777777777777778,\"#fb9f3a\"],[0.8888888888888888,\"#fdca26\"],[1.0,\"#f0f921\"]],\"type\":\"surface\"}],\"table\":[{\"cells\":{\"fill\":{\"color\":\"#EBF0F8\"},\"line\":{\"color\":\"white\"}},\"header\":{\"fill\":{\"color\":\"#C8D4E3\"},\"line\":{\"color\":\"white\"}},\"type\":\"table\"}]},\"layout\":{\"annotationdefaults\":{\"arrowcolor\":\"#2a3f5f\",\"arrowhead\":0,\"arrowwidth\":1},\"autotypenumbers\":\"strict\",\"coloraxis\":{\"colorbar\":{\"outlinewidth\":0,\"ticks\":\"\"}},\"colorscale\":{\"diverging\":[[0,\"#8e0152\"],[0.1,\"#c51b7d\"],[0.2,\"#de77ae\"],[0.3,\"#f1b6da\"],[0.4,\"#fde0ef\"],[0.5,\"#f7f7f7\"],[0.6,\"#e6f5d0\"],[0.7,\"#b8e186\"],[0.8,\"#7fbc41\"],[0.9,\"#4d9221\"],[1,\"#276419\"]],\"sequential\":[[0.0,\"#0d0887\"],[0.1111111111111111,\"#46039f\"],[0.2222222222222222,\"#7201a8\"],[0.3333333333333333,\"#9c179e\"],[0.4444444444444444,\"#bd3786\"],[0.5555555555555556,\"#d8576b\"],[0.6666666666666666,\"#ed7953\"],[0.7777777777777778,\"#fb9f3a\"],[0.8888888888888888,\"#fdca26\"],[1.0,\"#f0f921\"]],\"sequentialminus\":[[0.0,\"#0d0887\"],[0.1111111111111111,\"#46039f\"],[0.2222222222222222,\"#7201a8\"],[0.3333333333333333,\"#9c179e\"],[0.4444444444444444,\"#bd3786\"],[0.5555555555555556,\"#d8576b\"],[0.6666666666666666,\"#ed7953\"],[0.7777777777777778,\"#fb9f3a\"],[0.8888888888888888,\"#fdca26\"],[1.0,\"#f0f921\"]]},\"colorway\":[\"#636efa\",\"#EF553B\",\"#00cc96\",\"#ab63fa\",\"#FFA15A\",\"#19d3f3\",\"#FF6692\",\"#B6E880\",\"#FF97FF\",\"#FECB52\"],\"font\":{\"color\":\"#2a3f5f\"},\"geo\":{\"bgcolor\":\"white\",\"lakecolor\":\"white\",\"landcolor\":\"#E5ECF6\",\"showlakes\":true,\"showland\":true,\"subunitcolor\":\"white\"},\"hoverlabel\":{\"align\":\"left\"},\"hovermode\":\"closest\",\"mapbox\":{\"style\":\"light\"},\"paper_bgcolor\":\"white\",\"plot_bgcolor\":\"#E5ECF6\",\"polar\":{\"angularaxis\":{\"gridcolor\":\"white\",\"linecolor\":\"white\",\"ticks\":\"\"},\"bgcolor\":\"#E5ECF6\",\"radialaxis\":{\"gridcolor\":\"white\",\"linecolor\":\"white\",\"ticks\":\"\"}},\"scene\":{\"xaxis\":{\"backgroundcolor\":\"#E5ECF6\",\"gridcolor\":\"white\",\"gridwidth\":2,\"linecolor\":\"white\",\"showbackground\":true,\"ticks\":\"\",\"zerolinecolor\":\"white\"},\"yaxis\":{\"backgroundcolor\":\"#E5ECF6\",\"gridcolor\":\"white\",\"gridwidth\":2,\"linecolor\":\"white\",\"showbackground\":true,\"ticks\":\"\",\"zerolinecolor\":\"white\"},\"zaxis\":{\"backgroundcolor\":\"#E5ECF6\",\"gridcolor\":\"white\",\"gridwidth\":2,\"linecolor\":\"white\",\"showbackground\":true,\"ticks\":\"\",\"zerolinecolor\":\"white\"}},\"shapedefaults\":{\"line\":{\"color\":\"#2a3f5f\"}},\"ternary\":{\"aaxis\":{\"gridcolor\":\"white\",\"linecolor\":\"white\",\"ticks\":\"\"},\"baxis\":{\"gridcolor\":\"white\",\"linecolor\":\"white\",\"ticks\":\"\"},\"bgcolor\":\"#E5ECF6\",\"caxis\":{\"gridcolor\":\"white\",\"linecolor\":\"white\",\"ticks\":\"\"}},\"title\":{\"x\":0.05},\"xaxis\":{\"automargin\":true,\"gridcolor\":\"white\",\"linecolor\":\"white\",\"ticks\":\"\",\"title\":{\"standoff\":15},\"zerolinecolor\":\"white\",\"zerolinewidth\":2},\"yaxis\":{\"automargin\":true,\"gridcolor\":\"white\",\"linecolor\":\"white\",\"ticks\":\"\",\"title\":{\"standoff\":15},\"zerolinecolor\":\"white\",\"zerolinewidth\":2}}},\"xaxis\":{\"anchor\":\"y\",\"domain\":[0.0,1.0],\"title\":{\"text\":\"event_date\"}},\"yaxis\":{\"anchor\":\"x\",\"domain\":[0.0,1.0],\"title\":{\"text\":\"count_event\"}},\"legend\":{\"title\":{\"text\":\"event_name\"},\"tracegroupgap\":0},\"margin\":{\"t\":60},\"barmode\":\"relative\",\"title\":{\"text\":\"\\u0420\\u0430\\u0441\\u043f\\u0440\\u0435\\u0434\\u0435\\u043b\\u0435\\u043d\\u0438\\u0435 \\u0441\\u043e\\u0431\\u044b\\u0442\\u0438\\u0439 \\u043f\\u043e \\u0434\\u043d\\u044f\\u043c \\u0434\\u043b\\u044f Group \\u0412\"}},                        {\"responsive\": true}                    ).then(function(){\n",
       "                            \n",
       "var gd = document.getElementById('d5f439ad-3c77-4647-a960-303d36243bb8');\n",
       "var x = new MutationObserver(function (mutations, observer) {{\n",
       "        var display = window.getComputedStyle(gd).display;\n",
       "        if (!display || display === 'none') {{\n",
       "            console.log([gd, 'removed!']);\n",
       "            Plotly.purge(gd);\n",
       "            observer.disconnect();\n",
       "        }}\n",
       "}});\n",
       "\n",
       "// Listen for the removal of the full notebook cells\n",
       "var notebookContainer = gd.closest('#notebook-container');\n",
       "if (notebookContainer) {{\n",
       "    x.observe(notebookContainer, {childList: true});\n",
       "}}\n",
       "\n",
       "// Listen for the clearing of the current output cell\n",
       "var outputEl = gd.closest('.output');\n",
       "if (outputEl) {{\n",
       "    x.observe(outputEl, {childList: true});\n",
       "}}\n",
       "\n",
       "                        })                };                });            </script>        </div>"
      ]
     },
     "metadata": {},
     "output_type": "display_data"
    }
   ],
   "source": [
    "figA = px.bar(count_events_per_day_A, x='event_date', y='count_event', color='event_name')\n",
    "figA.update_layout(title='Распределение событий по дням для Group A')\n",
    "figA.for_each_trace(lambda t: t.update(name=t.name.split(\"=\")[0]))\n",
    "figA.show()\n",
    "\n",
    "figB = px.bar(count_events_per_day_B, x='event_date', y='count_event', color='event_name')\n",
    "figB.update_layout(title='Распределение событий по дням для Group В')\n",
    "figB.for_each_trace(lambda t: t.update(name=t.name.split(\"=\")[0]))\n",
    "#figB.update_yaxes(range=(0,2000))\n",
    "figB.show()"
   ]
  },
  {
   "cell_type": "markdown",
   "metadata": {},
   "source": [
    "> **Вывод:**\n",
    "1. Для обеих групп пиковая активность пользователей наблюдается 21 декабря\n",
    "2. В группе В также наблюдается высокая активность 7,9 и 16 декабря\n",
    "3. Самое большое количество покупок за период теста пользователи совершили 21 числа; было совершено 208 покупок в группе А и 47 - в группе В\n",
    "4. Для обеих групп наблюдается спад активности с 22 декабря"
   ]
  },
  {
   "cell_type": "markdown",
   "metadata": {},
   "source": [
    "#### Как меняется конверсия в воронке в выборках на разных этапах?"
   ]
  },
  {
   "cell_type": "markdown",
   "metadata": {},
   "source": [
    "Воронка отражена в пункте [6.3.4](#funnel)  "
   ]
  },
  {
   "cell_type": "markdown",
   "metadata": {},
   "source": [
    "> **Вывод:** Для групп А и В наблюдается большое количество переходов со страницы товара сразу на оплату, минуя просмотр корзины. Если смотреть на воронку, то мы видим, что конверсия в переход между событиями \"просмотр корзины\" и \"покупка\" больше 100%. Это может быть объяснено наличием кнопки \"Купить сразу\". "
   ]
  },
  {
   "cell_type": "markdown",
   "metadata": {},
   "source": [
    "#### Какие особенности данных нужно учесть, прежде чем приступать к A/B-тестированию?"
   ]
  },
  {
   "cell_type": "markdown",
   "metadata": {},
   "source": [
    "1. Необходимо учесть, что у нас не выполняются условия ТЗ (см. пункт [6.3.5](#tz))\n",
    "2. В данных содержится информация по 2870 пользователям, которые не совершали никаких событий. Причиной отсутствия событий у ряда пользователей может быть естественная конверсия, т.е. после регистрации пользователи потеряли интерес к ресурсу и не стали заходить на этап логин. Или, возможно, что это была какая-то ошибка в сборе данных, и у нас нет части данных.\n",
    "3. Согласно данным, 25 декабря началась рождественская рекламная компания. Однако у нас нет данных, как имеено она проводилась. Возможно пользователи, участвующие в тесте, не были в него вовлечены."
   ]
  },
  {
   "cell_type": "markdown",
   "metadata": {},
   "source": [
    "### <a id='A_B'> Оценка результатов A/B-тестирования </a>"
   ]
  },
  {
   "cell_type": "markdown",
   "metadata": {},
   "source": [
    "#### Проверить статистическую разницу долей z-критерием"
   ]
  },
  {
   "cell_type": "code",
   "execution_count": 45,
   "metadata": {},
   "outputs": [
    {
     "data": {
      "text/html": [
       "<div>\n",
       "<style scoped>\n",
       "    .dataframe tbody tr th:only-of-type {\n",
       "        vertical-align: middle;\n",
       "    }\n",
       "\n",
       "    .dataframe tbody tr th {\n",
       "        vertical-align: top;\n",
       "    }\n",
       "\n",
       "    .dataframe thead th {\n",
       "        text-align: right;\n",
       "    }\n",
       "</style>\n",
       "<table border=\"1\" class=\"dataframe\">\n",
       "  <thead>\n",
       "    <tr style=\"text-align: right;\">\n",
       "      <th>group</th>\n",
       "      <th>A</th>\n",
       "      <th>B</th>\n",
       "    </tr>\n",
       "    <tr>\n",
       "      <th>event_name</th>\n",
       "      <th></th>\n",
       "      <th></th>\n",
       "    </tr>\n",
       "  </thead>\n",
       "  <tbody>\n",
       "    <tr>\n",
       "      <th>login</th>\n",
       "      <td>1939</td>\n",
       "      <td>655</td>\n",
       "    </tr>\n",
       "    <tr>\n",
       "      <th>product_page</th>\n",
       "      <td>1265</td>\n",
       "      <td>367</td>\n",
       "    </tr>\n",
       "    <tr>\n",
       "      <th>product_cart</th>\n",
       "      <td>589</td>\n",
       "      <td>184</td>\n",
       "    </tr>\n",
       "    <tr>\n",
       "      <th>purchase</th>\n",
       "      <td>613</td>\n",
       "      <td>191</td>\n",
       "    </tr>\n",
       "    <tr>\n",
       "      <th>user_count</th>\n",
       "      <td>1939</td>\n",
       "      <td>655</td>\n",
       "    </tr>\n",
       "  </tbody>\n",
       "</table>\n",
       "</div>"
      ],
      "text/plain": [
       "group            A    B\n",
       "event_name             \n",
       "login         1939  655\n",
       "product_page  1265  367\n",
       "product_cart   589  184\n",
       "purchase       613  191\n",
       "user_count    1939  655"
      ]
     },
     "execution_count": 45,
     "metadata": {},
     "output_type": "execute_result"
    }
   ],
   "source": [
    "users_count_by_group = wtht_NA.groupby('group')['user_id'].nunique()\n",
    "users_by_events = final_data_checked.pivot_table(\n",
    "    index='group', columns='event_name', values='user_id', aggfunc='nunique'\n",
    ").reset_index()\n",
    "users_by_events['user_count'] = users_by_events['group'].apply(lambda x: users_count_by_group.loc[x])\n",
    "users_by_events = users_by_events.set_index('group')\n",
    "users_by_events = users_by_events[['login', 'product_page',\n",
    "                                   'product_cart', 'purchase', 'user_count']].T\n",
    "users_by_events"
   ]
  },
  {
   "cell_type": "code",
   "execution_count": 46,
   "metadata": {},
   "outputs": [],
   "source": [
    "steps = np.array(['login',\n",
    "                  'product_page',\n",
    "                  'product_cart',\n",
    "                  'purchase'])"
   ]
  },
  {
   "cell_type": "markdown",
   "metadata": {},
   "source": [
    "**Гипотезы о равенстве долей пользователей на шагах в группах A и В:**\n",
    "* H0 - доли пользователей, перешедших к шагу Х, в группах А и В равны\n",
    "* Н1 - доли пользователей, перешедших к шагу Х, в группах А и В различны"
   ]
  },
  {
   "cell_type": "code",
   "execution_count": 47,
   "metadata": {},
   "outputs": [
    {
     "name": "stdout",
     "output_type": "stream",
     "text": [
      "Гипотеза о равенстве контрольных групп А и В на шаге login\n",
      "P-value равно nan\n",
      "Не получилось отвергнуть нулевую гипотезу, нет оснований считать доли разными\n",
      "\n",
      "Гипотеза о равенстве контрольных групп А и В на шаге product_page\n",
      "P-value равно 0.000\n",
      "Отвергаем нулевую гипотезу: между долями есть значимая разница\n",
      "\n",
      "Гипотеза о равенстве контрольных групп А и В на шаге product_cart\n",
      "P-value равно 0.269\n",
      "Не получилось отвергнуть нулевую гипотезу, нет оснований считать доли разными\n",
      "\n",
      "Гипотеза о равенстве контрольных групп А и В на шаге purchase\n",
      "P-value равно 0.240\n",
      "Не получилось отвергнуть нулевую гипотезу, нет оснований считать доли разными\n",
      "\n"
     ]
    },
    {
     "name": "stderr",
     "output_type": "stream",
     "text": [
      "/opt/conda/lib/python3.9/site-packages/statsmodels/stats/weightstats.py:790: RuntimeWarning:\n",
      "\n",
      "invalid value encountered in double_scalars\n",
      "\n"
     ]
    }
   ],
   "source": [
    "# применим Z-test для проверки гипотезы о равенстве долей пользователей на шагах в группах A и В\n",
    "\n",
    "alpha = 0.05/4 # критический уровень статистической значимости с поправкой Бонферрони\n",
    "\n",
    "for i in range(len(steps)):\n",
    "    print('Гипотеза о равенстве контрольных групп А и В на шаге', steps[i])\n",
    "    \n",
    "    # за успех считаем событие, когда пользователь перешел дальше по воронке\n",
    "    \n",
    "    successes = np.array([users_by_events['A'][i], users_by_events['B'][i]])\n",
    "    \n",
    "    # количество попыток - общее число пользователей в группе\n",
    "    \n",
    "    trials = np.array([users_by_events['A']['user_count'], users_by_events['B']['user_count']])\n",
    "\n",
    "    stat, pval = proportions_ztest(successes, trials)\n",
    "    print('P-value равно','{0:0.3f}'.format(pval))\n",
    "    if pval < alpha:\n",
    "        print('Отвергаем нулевую гипотезу: между долями есть значимая разница')\n",
    "    else:\n",
    "        print('Не получилось отвергнуть нулевую гипотезу, нет оснований считать доли разными'\n",
    "    ) \n",
    "    print()"
   ]
  },
  {
   "cell_type": "markdown",
   "metadata": {},
   "source": [
    "> **Вывод:**\n",
    "* Тест можно остановить и считать успешным, поскольку мы видим, что по целевым признакам product_cart и purchase нет статистически значимой разницы. Следовательно, нет оснований считать изменения, связанные с внедрением улучшенной рекомендательной системы, успешными. \n",
    "* Для карточки product_page, мы отвергаем нулевую гипотезу, так как статистически значимая разница между выборками есть. Однако не в пользу группы В, т.к. она показала себя хуже (53.2% для группы В против 65.0% для группы А). Поэтому ожидаемого эффекта в качестве прироста конверсии по просмотру карточек в размере 10% не наблюдается. "
   ]
  },
  {
   "cell_type": "markdown",
   "metadata": {},
   "source": [
    "### Вывод"
   ]
  },
  {
   "cell_type": "markdown",
   "metadata": {},
   "source": [
    "**В ходе выполнения проекта**:\n",
    "1. **Была проведена предобработка данных, полных дубликатов найдено не было. Для столбцов с датами был изменен тип данных**\n",
    "2. **Была проведена оценка корректности проведения А/В-теста**:\n",
    "    * Количество пользователей меньше 6000 (а именно 5464)\n",
    "    * 2870 пользователей не совершали никаких действий в период теста\n",
    "    * Последняя дата совершения действий - 30 декабря, соответственно не для всех пользоватлей прошло 14 дней с момента регистрации\n",
    "    * Контрольная и тестовые группы не одинаковы по размерам (2969 пользователей в группе А и 2495 - в группе В)\n",
    "    * Аудитория - 12.9% из EU вместо заявленых 15.0%\n",
    "    * Улучшения каждой метрики не менее, чем на 10%, не наблюдается\n",
    "\n",
    "**Таким образом, тест был проведен не корректно**\n",
    "\n",
    "3. **Проведен анализ данных**:\n",
    "    * Выборки обладают различным распределением взаимодействий и разным средним количеством событий по карточке на одного пользователя, поскольку:\n",
    "        * По графику среднего количества взаимодействий с карточкой на одного пользователя видно, что по всем карточкам среднее число взаимодействий на одного пользователя у группы А лучше. \n",
    "        * На графике распределения количества событий на одного пользователя видим, что группа А в основном преобладает по количеству событий на пользователя.\n",
    "    * Для обеих групп пиковая активность пользователей наблюдается 21 декабря. В группе В также наблюдается высокая активность 7,9 и 16 декабря\n",
    "    * Самое большое количество покупок за период теста пользователи совершили 21 числа; было совершено 208 покупок в группе А и 47 - в группе В\n",
    "    * Для обеих групп наблюдается спад активности с 22 декабря\n",
    "    * Для групп А и В наблюдается большое количество переходов со страницы товара сразу на оплату, минуя просмотр корзины. Если смотреть на воронку, то мы видим, что конверсия в переход между событиями \"просмотр корзины\" и \"покупка\" больше 100%. Это может быть объяснено наличием кнопки \"Купить сразу\"\n",
    "4. В данных содержится информация по 2870 пользователям, которые не совершали никаких событий. Причиной отсутствия событий у ряда пользователей может быть естественная конверсия, т.е. после регистрации пользователи потеряли интерес к ресурсу и не стали заходить на этап логин. Или, возможно, что это была какая-то ошибка в сборе данных, и у нас нет части данных.\n",
    "5. Согласно данным, 25 декабря началась рождественская рекламная компания. Однако у нас нет данных, как имеено она проводилась. Возможно пользователи, участвующие в тесте, не были в него вовлечены.\n",
    "6. Тест можно остановить и считать успешным, поскольку мы видим, что по целевым признакам product_cart и purchase нет статистически значимой разницы. Следовательно, нет оснований считать изменения, связанные с внедрением улучшенной рекомендательной системы, успешными. \n",
    "    * Для карточки product_page, мы отвергаем нулевую гипотезу, так как статистически значимая разница между выборками есть. Однако не в пользу группы В, т.к. она показала себя хуже (53.2% для группы В против 65.0% для группы А). Поэтому ожидаемого эффекта в качестве прироста конверсии по просмотру карточек в размере 10% не наблюдается. "
   ]
  },
  {
   "cell_type": "code",
   "execution_count": null,
   "metadata": {},
   "outputs": [],
   "source": []
  }
 ],
 "metadata": {
  "ExecuteTimeLog": [
   {
    "duration": 1399,
    "start_time": "2022-12-14T15:36:08.739Z"
   },
   {
    "duration": 915,
    "start_time": "2022-12-14T15:36:10.141Z"
   },
   {
    "duration": 29,
    "start_time": "2022-12-14T15:37:13.647Z"
   },
   {
    "duration": 4,
    "start_time": "2022-12-14T15:37:42.735Z"
   },
   {
    "duration": 426,
    "start_time": "2022-12-14T15:38:21.540Z"
   },
   {
    "duration": 95,
    "start_time": "2022-12-14T15:42:23.552Z"
   },
   {
    "duration": 9,
    "start_time": "2022-12-14T15:42:34.279Z"
   },
   {
    "duration": 285,
    "start_time": "2022-12-14T15:42:59.978Z"
   },
   {
    "duration": 20,
    "start_time": "2022-12-14T15:43:09.018Z"
   },
   {
    "duration": 6,
    "start_time": "2022-12-14T15:44:06.405Z"
   },
   {
    "duration": 66,
    "start_time": "2022-12-14T15:44:26.613Z"
   },
   {
    "duration": 12,
    "start_time": "2022-12-14T15:45:24.139Z"
   },
   {
    "duration": 26,
    "start_time": "2022-12-14T15:45:49.034Z"
   },
   {
    "duration": 338,
    "start_time": "2022-12-14T15:48:28.622Z"
   },
   {
    "duration": 14,
    "start_time": "2022-12-14T15:48:37.186Z"
   },
   {
    "duration": 38,
    "start_time": "2022-12-14T15:48:52.903Z"
   },
   {
    "duration": 132,
    "start_time": "2022-12-14T15:49:55.487Z"
   },
   {
    "duration": 57,
    "start_time": "2022-12-16T09:19:11.592Z"
   },
   {
    "duration": 1567,
    "start_time": "2022-12-16T09:19:17.384Z"
   },
   {
    "duration": 1077,
    "start_time": "2022-12-16T09:19:18.953Z"
   },
   {
    "duration": 33,
    "start_time": "2022-12-16T09:19:20.032Z"
   },
   {
    "duration": 5,
    "start_time": "2022-12-16T09:19:20.067Z"
   },
   {
    "duration": 541,
    "start_time": "2022-12-16T09:19:20.074Z"
   },
   {
    "duration": 31,
    "start_time": "2022-12-16T09:19:20.617Z"
   },
   {
    "duration": 133,
    "start_time": "2022-12-16T09:19:20.651Z"
   },
   {
    "duration": 29,
    "start_time": "2022-12-16T09:19:20.787Z"
   },
   {
    "duration": 27,
    "start_time": "2022-12-16T09:19:20.819Z"
   },
   {
    "duration": 100,
    "start_time": "2022-12-16T09:19:20.848Z"
   },
   {
    "duration": 39,
    "start_time": "2022-12-16T09:19:20.951Z"
   },
   {
    "duration": 51,
    "start_time": "2022-12-16T09:19:20.993Z"
   },
   {
    "duration": 418,
    "start_time": "2022-12-16T09:19:21.047Z"
   },
   {
    "duration": 3,
    "start_time": "2022-12-16T09:33:41.429Z"
   },
   {
    "duration": 5,
    "start_time": "2022-12-16T09:34:06.521Z"
   },
   {
    "duration": 6,
    "start_time": "2022-12-16T09:35:47.542Z"
   },
   {
    "duration": 8,
    "start_time": "2022-12-16T09:38:14.681Z"
   },
   {
    "duration": 32,
    "start_time": "2022-12-16T09:40:00.780Z"
   },
   {
    "duration": 179,
    "start_time": "2022-12-16T09:41:18.455Z"
   },
   {
    "duration": 157,
    "start_time": "2022-12-16T09:41:25.161Z"
   },
   {
    "duration": 5,
    "start_time": "2022-12-16T09:48:32.262Z"
   },
   {
    "duration": 8,
    "start_time": "2022-12-16T09:48:32.717Z"
   },
   {
    "duration": 183,
    "start_time": "2022-12-16T09:48:33.358Z"
   },
   {
    "duration": 24,
    "start_time": "2022-12-16T09:50:25.105Z"
   },
   {
    "duration": 176,
    "start_time": "2022-12-16T09:51:53.593Z"
   },
   {
    "duration": 218,
    "start_time": "2022-12-16T09:52:18.446Z"
   },
   {
    "duration": 20,
    "start_time": "2022-12-16T09:52:19.022Z"
   },
   {
    "duration": 46,
    "start_time": "2022-12-16T09:52:39.543Z"
   },
   {
    "duration": 78,
    "start_time": "2022-12-16T09:58:47.313Z"
   },
   {
    "duration": 10,
    "start_time": "2022-12-16T10:00:48.744Z"
   },
   {
    "duration": 211,
    "start_time": "2022-12-16T10:00:49.246Z"
   },
   {
    "duration": 31,
    "start_time": "2022-12-16T10:00:49.745Z"
   },
   {
    "duration": 17,
    "start_time": "2022-12-16T10:00:50.341Z"
   },
   {
    "duration": 13,
    "start_time": "2022-12-16T10:00:59.169Z"
   },
   {
    "duration": 88,
    "start_time": "2022-12-16T10:00:59.869Z"
   },
   {
    "duration": 1331,
    "start_time": "2022-12-16T10:01:19.596Z"
   },
   {
    "duration": 667,
    "start_time": "2022-12-16T10:01:20.930Z"
   },
   {
    "duration": 32,
    "start_time": "2022-12-16T10:01:21.599Z"
   },
   {
    "duration": 5,
    "start_time": "2022-12-16T10:01:21.633Z"
   },
   {
    "duration": 499,
    "start_time": "2022-12-16T10:01:21.641Z"
   },
   {
    "duration": 54,
    "start_time": "2022-12-16T10:01:22.142Z"
   },
   {
    "duration": 105,
    "start_time": "2022-12-16T10:01:22.198Z"
   },
   {
    "duration": 19,
    "start_time": "2022-12-16T10:01:22.305Z"
   },
   {
    "duration": 5,
    "start_time": "2022-12-16T10:01:22.326Z"
   },
   {
    "duration": 104,
    "start_time": "2022-12-16T10:01:22.333Z"
   },
   {
    "duration": 14,
    "start_time": "2022-12-16T10:01:22.439Z"
   },
   {
    "duration": 49,
    "start_time": "2022-12-16T10:01:22.454Z"
   },
   {
    "duration": 6,
    "start_time": "2022-12-16T10:01:22.506Z"
   },
   {
    "duration": 15,
    "start_time": "2022-12-16T10:01:22.514Z"
   },
   {
    "duration": 254,
    "start_time": "2022-12-16T10:01:22.531Z"
   },
   {
    "duration": 45,
    "start_time": "2022-12-16T10:01:22.787Z"
   },
   {
    "duration": 12,
    "start_time": "2022-12-16T10:01:22.834Z"
   },
   {
    "duration": 99,
    "start_time": "2022-12-16T10:01:22.848Z"
   },
   {
    "duration": 6,
    "start_time": "2022-12-16T10:01:22.949Z"
   },
   {
    "duration": 9,
    "start_time": "2022-12-16T10:01:59.465Z"
   },
   {
    "duration": 236,
    "start_time": "2022-12-16T10:01:59.907Z"
   },
   {
    "duration": 50,
    "start_time": "2022-12-16T10:02:00.340Z"
   },
   {
    "duration": 14,
    "start_time": "2022-12-16T10:02:00.826Z"
   },
   {
    "duration": 79,
    "start_time": "2022-12-16T10:02:01.424Z"
   },
   {
    "duration": 75,
    "start_time": "2022-12-16T10:03:04.901Z"
   },
   {
    "duration": 6,
    "start_time": "2022-12-16T10:04:15.615Z"
   },
   {
    "duration": 11,
    "start_time": "2022-12-16T10:05:55.974Z"
   },
   {
    "duration": 178,
    "start_time": "2022-12-16T10:12:18.755Z"
   },
   {
    "duration": 1329,
    "start_time": "2022-12-16T10:12:34.704Z"
   },
   {
    "duration": 628,
    "start_time": "2022-12-16T10:12:36.035Z"
   },
   {
    "duration": 31,
    "start_time": "2022-12-16T10:12:36.666Z"
   },
   {
    "duration": 4,
    "start_time": "2022-12-16T10:12:36.699Z"
   },
   {
    "duration": 458,
    "start_time": "2022-12-16T10:12:36.705Z"
   },
   {
    "duration": 34,
    "start_time": "2022-12-16T10:12:37.165Z"
   },
   {
    "duration": 112,
    "start_time": "2022-12-16T10:12:37.201Z"
   },
   {
    "duration": 18,
    "start_time": "2022-12-16T10:12:37.315Z"
   },
   {
    "duration": 7,
    "start_time": "2022-12-16T10:12:37.335Z"
   },
   {
    "duration": 93,
    "start_time": "2022-12-16T10:12:37.344Z"
   },
   {
    "duration": 12,
    "start_time": "2022-12-16T10:12:37.439Z"
   },
   {
    "duration": 48,
    "start_time": "2022-12-16T10:12:37.453Z"
   },
   {
    "duration": 5,
    "start_time": "2022-12-16T10:12:37.502Z"
   },
   {
    "duration": 12,
    "start_time": "2022-12-16T10:12:37.508Z"
   },
   {
    "duration": 253,
    "start_time": "2022-12-16T10:12:37.521Z"
   },
   {
    "duration": 20,
    "start_time": "2022-12-16T10:12:37.777Z"
   },
   {
    "duration": 98,
    "start_time": "2022-12-16T10:12:37.799Z"
   },
   {
    "duration": 6,
    "start_time": "2022-12-16T10:12:37.899Z"
   },
   {
    "duration": 10,
    "start_time": "2022-12-16T10:12:37.907Z"
   },
   {
    "duration": 199,
    "start_time": "2022-12-16T10:12:37.919Z"
   },
   {
    "duration": 185,
    "start_time": "2022-12-16T10:12:50.993Z"
   },
   {
    "duration": 121,
    "start_time": "2022-12-16T10:13:30.578Z"
   },
   {
    "duration": 6,
    "start_time": "2022-12-16T10:13:57.296Z"
   },
   {
    "duration": 6,
    "start_time": "2022-12-16T10:15:24.545Z"
   },
   {
    "duration": 189,
    "start_time": "2022-12-16T10:19:05.925Z"
   },
   {
    "duration": 186,
    "start_time": "2022-12-16T10:19:15.315Z"
   },
   {
    "duration": 14,
    "start_time": "2022-12-16T10:25:41.404Z"
   },
   {
    "duration": 18,
    "start_time": "2022-12-16T10:25:51.875Z"
   },
   {
    "duration": 19,
    "start_time": "2022-12-16T10:25:57.925Z"
   },
   {
    "duration": 33,
    "start_time": "2022-12-16T10:26:25.958Z"
   },
   {
    "duration": 15,
    "start_time": "2022-12-16T10:28:22.250Z"
   },
   {
    "duration": 20,
    "start_time": "2022-12-16T10:29:23.988Z"
   },
   {
    "duration": 1238,
    "start_time": "2022-12-16T10:34:03.339Z"
   },
   {
    "duration": 598,
    "start_time": "2022-12-16T10:34:04.579Z"
   },
   {
    "duration": 32,
    "start_time": "2022-12-16T10:34:05.179Z"
   },
   {
    "duration": 5,
    "start_time": "2022-12-16T10:34:05.213Z"
   },
   {
    "duration": 450,
    "start_time": "2022-12-16T10:34:05.221Z"
   },
   {
    "duration": 32,
    "start_time": "2022-12-16T10:34:05.673Z"
   },
   {
    "duration": 110,
    "start_time": "2022-12-16T10:34:05.707Z"
   },
   {
    "duration": 21,
    "start_time": "2022-12-16T10:34:05.819Z"
   },
   {
    "duration": 7,
    "start_time": "2022-12-16T10:34:05.843Z"
   },
   {
    "duration": 107,
    "start_time": "2022-12-16T10:34:05.878Z"
   },
   {
    "duration": 17,
    "start_time": "2022-12-16T10:34:05.988Z"
   },
   {
    "duration": 37,
    "start_time": "2022-12-16T10:34:06.008Z"
   },
   {
    "duration": 33,
    "start_time": "2022-12-16T10:34:06.046Z"
   },
   {
    "duration": 14,
    "start_time": "2022-12-16T10:34:06.082Z"
   },
   {
    "duration": 206,
    "start_time": "2022-12-16T10:34:06.098Z"
   },
   {
    "duration": 50,
    "start_time": "2022-12-16T10:34:06.306Z"
   },
   {
    "duration": 89,
    "start_time": "2022-12-16T10:34:06.357Z"
   },
   {
    "duration": 5,
    "start_time": "2022-12-16T10:34:06.448Z"
   },
   {
    "duration": 26,
    "start_time": "2022-12-16T10:34:06.454Z"
   },
   {
    "duration": 187,
    "start_time": "2022-12-16T10:34:06.482Z"
   },
   {
    "duration": 19,
    "start_time": "2022-12-16T10:34:06.670Z"
   },
   {
    "duration": 18,
    "start_time": "2022-12-16T10:34:06.691Z"
   },
   {
    "duration": 6,
    "start_time": "2022-12-16T10:35:09.857Z"
   },
   {
    "duration": 5,
    "start_time": "2022-12-16T10:35:15.998Z"
   },
   {
    "duration": 1341,
    "start_time": "2022-12-16T10:35:44.548Z"
   },
   {
    "duration": 694,
    "start_time": "2022-12-16T10:35:45.891Z"
   },
   {
    "duration": 31,
    "start_time": "2022-12-16T10:35:46.587Z"
   },
   {
    "duration": 4,
    "start_time": "2022-12-16T10:35:46.620Z"
   },
   {
    "duration": 485,
    "start_time": "2022-12-16T10:35:46.626Z"
   },
   {
    "duration": 31,
    "start_time": "2022-12-16T10:35:47.113Z"
   },
   {
    "duration": 119,
    "start_time": "2022-12-16T10:35:47.145Z"
   },
   {
    "duration": 29,
    "start_time": "2022-12-16T10:35:47.266Z"
   },
   {
    "duration": 5,
    "start_time": "2022-12-16T10:35:47.297Z"
   },
   {
    "duration": 98,
    "start_time": "2022-12-16T10:35:47.305Z"
   },
   {
    "duration": 13,
    "start_time": "2022-12-16T10:35:47.405Z"
   },
   {
    "duration": 61,
    "start_time": "2022-12-16T10:35:47.421Z"
   },
   {
    "duration": 5,
    "start_time": "2022-12-16T10:35:47.484Z"
   },
   {
    "duration": 30,
    "start_time": "2022-12-16T10:35:47.491Z"
   },
   {
    "duration": 204,
    "start_time": "2022-12-16T10:35:47.523Z"
   },
   {
    "duration": 59,
    "start_time": "2022-12-16T10:35:47.729Z"
   },
   {
    "duration": 87,
    "start_time": "2022-12-16T10:35:47.790Z"
   },
   {
    "duration": 6,
    "start_time": "2022-12-16T10:35:47.879Z"
   },
   {
    "duration": 28,
    "start_time": "2022-12-16T10:35:47.886Z"
   },
   {
    "duration": 192,
    "start_time": "2022-12-16T10:35:47.916Z"
   },
   {
    "duration": 16,
    "start_time": "2022-12-16T10:35:48.109Z"
   },
   {
    "duration": 34,
    "start_time": "2022-12-16T10:35:48.126Z"
   },
   {
    "duration": 6,
    "start_time": "2022-12-16T10:36:42.965Z"
   },
   {
    "duration": 1231,
    "start_time": "2022-12-16T10:38:14.455Z"
   },
   {
    "duration": 671,
    "start_time": "2022-12-16T10:38:15.688Z"
   },
   {
    "duration": 32,
    "start_time": "2022-12-16T10:38:16.360Z"
   },
   {
    "duration": 5,
    "start_time": "2022-12-16T10:38:16.394Z"
   },
   {
    "duration": 461,
    "start_time": "2022-12-16T10:38:16.402Z"
   },
   {
    "duration": 38,
    "start_time": "2022-12-16T10:38:16.865Z"
   },
   {
    "duration": 117,
    "start_time": "2022-12-16T10:38:16.905Z"
   },
   {
    "duration": 21,
    "start_time": "2022-12-16T10:38:17.024Z"
   },
   {
    "duration": 31,
    "start_time": "2022-12-16T10:38:17.047Z"
   },
   {
    "duration": 72,
    "start_time": "2022-12-16T10:38:17.080Z"
   },
   {
    "duration": 28,
    "start_time": "2022-12-16T10:38:17.154Z"
   },
   {
    "duration": 27,
    "start_time": "2022-12-16T10:38:17.184Z"
   },
   {
    "duration": 5,
    "start_time": "2022-12-16T10:38:17.213Z"
   },
   {
    "duration": 20,
    "start_time": "2022-12-16T10:38:17.220Z"
   },
   {
    "duration": 289,
    "start_time": "2022-12-16T10:38:17.242Z"
   },
   {
    "duration": 18,
    "start_time": "2022-12-16T10:38:17.533Z"
   },
   {
    "duration": 92,
    "start_time": "2022-12-16T10:38:17.553Z"
   },
   {
    "duration": 5,
    "start_time": "2022-12-16T10:38:17.647Z"
   },
   {
    "duration": 27,
    "start_time": "2022-12-16T10:38:17.654Z"
   },
   {
    "duration": 203,
    "start_time": "2022-12-16T10:38:17.682Z"
   },
   {
    "duration": 6,
    "start_time": "2022-12-16T10:38:17.888Z"
   },
   {
    "duration": 32,
    "start_time": "2022-12-16T10:38:17.897Z"
   },
   {
    "duration": 25,
    "start_time": "2022-12-16T10:38:17.931Z"
   },
   {
    "duration": 1316,
    "start_time": "2022-12-16T10:38:33.665Z"
   },
   {
    "duration": 653,
    "start_time": "2022-12-16T10:38:34.984Z"
   },
   {
    "duration": 33,
    "start_time": "2022-12-16T10:38:35.639Z"
   },
   {
    "duration": 5,
    "start_time": "2022-12-16T10:38:35.674Z"
   },
   {
    "duration": 501,
    "start_time": "2022-12-16T10:38:35.681Z"
   },
   {
    "duration": 29,
    "start_time": "2022-12-16T10:38:36.184Z"
   },
   {
    "duration": 115,
    "start_time": "2022-12-16T10:38:36.215Z"
   },
   {
    "duration": 19,
    "start_time": "2022-12-16T10:38:36.332Z"
   },
   {
    "duration": 25,
    "start_time": "2022-12-16T10:38:36.353Z"
   },
   {
    "duration": 67,
    "start_time": "2022-12-16T10:38:36.381Z"
   },
   {
    "duration": 32,
    "start_time": "2022-12-16T10:38:36.450Z"
   },
   {
    "duration": 27,
    "start_time": "2022-12-16T10:38:36.484Z"
   },
   {
    "duration": 6,
    "start_time": "2022-12-16T10:38:36.512Z"
   },
   {
    "duration": 13,
    "start_time": "2022-12-16T10:38:36.520Z"
   },
   {
    "duration": 235,
    "start_time": "2022-12-16T10:38:36.535Z"
   },
   {
    "duration": 52,
    "start_time": "2022-12-16T10:38:36.771Z"
   },
   {
    "duration": 89,
    "start_time": "2022-12-16T10:38:36.825Z"
   },
   {
    "duration": 6,
    "start_time": "2022-12-16T10:38:36.916Z"
   },
   {
    "duration": 11,
    "start_time": "2022-12-16T10:38:36.924Z"
   },
   {
    "duration": 196,
    "start_time": "2022-12-16T10:38:36.936Z"
   },
   {
    "duration": 5,
    "start_time": "2022-12-16T10:38:37.133Z"
   },
   {
    "duration": 19,
    "start_time": "2022-12-16T10:38:37.140Z"
   },
   {
    "duration": 33,
    "start_time": "2022-12-16T10:38:37.160Z"
   },
   {
    "duration": 15,
    "start_time": "2022-12-16T10:39:22.488Z"
   },
   {
    "duration": 32,
    "start_time": "2022-12-16T10:43:19.445Z"
   },
   {
    "duration": 1385,
    "start_time": "2022-12-16T10:45:18.165Z"
   },
   {
    "duration": 693,
    "start_time": "2022-12-16T10:45:19.552Z"
   },
   {
    "duration": 32,
    "start_time": "2022-12-16T10:45:20.248Z"
   },
   {
    "duration": 5,
    "start_time": "2022-12-16T10:45:20.282Z"
   },
   {
    "duration": 486,
    "start_time": "2022-12-16T10:45:20.289Z"
   },
   {
    "duration": 33,
    "start_time": "2022-12-16T10:45:20.778Z"
   },
   {
    "duration": 127,
    "start_time": "2022-12-16T10:45:20.813Z"
   },
   {
    "duration": 38,
    "start_time": "2022-12-16T10:45:20.943Z"
   },
   {
    "duration": 6,
    "start_time": "2022-12-16T10:45:20.983Z"
   },
   {
    "duration": 99,
    "start_time": "2022-12-16T10:45:20.992Z"
   },
   {
    "duration": 13,
    "start_time": "2022-12-16T10:45:21.092Z"
   },
   {
    "duration": 30,
    "start_time": "2022-12-16T10:45:21.107Z"
   },
   {
    "duration": 39,
    "start_time": "2022-12-16T10:45:21.139Z"
   },
   {
    "duration": 13,
    "start_time": "2022-12-16T10:45:21.180Z"
   },
   {
    "duration": 215,
    "start_time": "2022-12-16T10:45:21.195Z"
   },
   {
    "duration": 51,
    "start_time": "2022-12-16T10:45:21.412Z"
   },
   {
    "duration": 90,
    "start_time": "2022-12-16T10:45:21.465Z"
   },
   {
    "duration": 6,
    "start_time": "2022-12-16T10:45:21.557Z"
   },
   {
    "duration": 10,
    "start_time": "2022-12-16T10:45:21.577Z"
   },
   {
    "duration": 207,
    "start_time": "2022-12-16T10:45:21.589Z"
   },
   {
    "duration": 5,
    "start_time": "2022-12-16T10:45:21.798Z"
   },
   {
    "duration": 17,
    "start_time": "2022-12-16T10:45:21.804Z"
   },
   {
    "duration": 20,
    "start_time": "2022-12-16T10:45:21.823Z"
   },
   {
    "duration": 57,
    "start_time": "2022-12-16T10:45:21.844Z"
   },
   {
    "duration": 832,
    "start_time": "2022-12-16T10:52:56.887Z"
   },
   {
    "duration": 13,
    "start_time": "2022-12-16T10:53:55.894Z"
   },
   {
    "duration": 11,
    "start_time": "2022-12-16T10:54:12.627Z"
   },
   {
    "duration": 9,
    "start_time": "2022-12-16T10:54:21.028Z"
   },
   {
    "duration": 17,
    "start_time": "2022-12-16T10:56:52.120Z"
   },
   {
    "duration": 16,
    "start_time": "2022-12-16T10:57:08.103Z"
   },
   {
    "duration": 16,
    "start_time": "2022-12-16T10:57:15.845Z"
   },
   {
    "duration": 59,
    "start_time": "2022-12-16T10:57:21.136Z"
   },
   {
    "duration": 14,
    "start_time": "2022-12-16T10:57:26.896Z"
   },
   {
    "duration": 15,
    "start_time": "2022-12-16T11:06:12.561Z"
   },
   {
    "duration": 12,
    "start_time": "2022-12-16T11:07:05.197Z"
   },
   {
    "duration": 9,
    "start_time": "2022-12-16T11:07:23.604Z"
   },
   {
    "duration": 1259,
    "start_time": "2022-12-16T11:07:34.145Z"
   },
   {
    "duration": 656,
    "start_time": "2022-12-16T11:07:35.406Z"
   },
   {
    "duration": 30,
    "start_time": "2022-12-16T11:07:36.064Z"
   },
   {
    "duration": 4,
    "start_time": "2022-12-16T11:07:36.096Z"
   },
   {
    "duration": 442,
    "start_time": "2022-12-16T11:07:36.101Z"
   },
   {
    "duration": 43,
    "start_time": "2022-12-16T11:07:36.545Z"
   },
   {
    "duration": 104,
    "start_time": "2022-12-16T11:07:36.590Z"
   },
   {
    "duration": 18,
    "start_time": "2022-12-16T11:07:36.696Z"
   },
   {
    "duration": 4,
    "start_time": "2022-12-16T11:07:36.716Z"
   },
   {
    "duration": 101,
    "start_time": "2022-12-16T11:07:36.723Z"
   },
   {
    "duration": 13,
    "start_time": "2022-12-16T11:07:36.826Z"
   },
   {
    "duration": 53,
    "start_time": "2022-12-16T11:07:36.841Z"
   },
   {
    "duration": 5,
    "start_time": "2022-12-16T11:07:36.895Z"
   },
   {
    "duration": 14,
    "start_time": "2022-12-16T11:07:36.902Z"
   },
   {
    "duration": 204,
    "start_time": "2022-12-16T11:07:36.918Z"
   },
   {
    "duration": 32,
    "start_time": "2022-12-16T11:07:37.124Z"
   },
   {
    "duration": 84,
    "start_time": "2022-12-16T11:07:37.158Z"
   },
   {
    "duration": 6,
    "start_time": "2022-12-16T11:07:37.244Z"
   },
   {
    "duration": 25,
    "start_time": "2022-12-16T11:07:37.252Z"
   },
   {
    "duration": 185,
    "start_time": "2022-12-16T11:07:37.279Z"
   },
   {
    "duration": 14,
    "start_time": "2022-12-16T11:07:37.466Z"
   },
   {
    "duration": 18,
    "start_time": "2022-12-16T11:07:37.482Z"
   },
   {
    "duration": 20,
    "start_time": "2022-12-16T11:07:37.502Z"
   },
   {
    "duration": 61,
    "start_time": "2022-12-16T11:07:37.524Z"
   },
   {
    "duration": 18,
    "start_time": "2022-12-16T11:07:37.587Z"
   },
   {
    "duration": 12,
    "start_time": "2022-12-16T11:07:37.608Z"
   },
   {
    "duration": 129,
    "start_time": "2022-12-16T11:08:50.830Z"
   },
   {
    "duration": 10,
    "start_time": "2022-12-16T11:08:57.119Z"
   },
   {
    "duration": 116,
    "start_time": "2022-12-16T11:08:57.664Z"
   },
   {
    "duration": 11,
    "start_time": "2022-12-16T11:11:15.433Z"
   },
   {
    "duration": 11,
    "start_time": "2022-12-16T11:11:28.495Z"
   },
   {
    "duration": 11,
    "start_time": "2022-12-16T11:11:56.079Z"
   },
   {
    "duration": 18,
    "start_time": "2022-12-16T11:12:47.429Z"
   },
   {
    "duration": 4,
    "start_time": "2022-12-16T11:15:22.243Z"
   },
   {
    "duration": 4,
    "start_time": "2022-12-16T11:15:44.898Z"
   },
   {
    "duration": 2,
    "start_time": "2022-12-16T11:16:29.925Z"
   },
   {
    "duration": 5,
    "start_time": "2022-12-16T11:17:07.117Z"
   },
   {
    "duration": 3,
    "start_time": "2022-12-16T11:18:40.635Z"
   },
   {
    "duration": 18,
    "start_time": "2022-12-16T11:18:54.279Z"
   },
   {
    "duration": 3,
    "start_time": "2022-12-16T11:19:16.289Z"
   },
   {
    "duration": 4,
    "start_time": "2022-12-16T11:19:31.734Z"
   },
   {
    "duration": 8,
    "start_time": "2022-12-16T11:42:51.144Z"
   },
   {
    "duration": 10,
    "start_time": "2022-12-16T11:49:29.795Z"
   },
   {
    "duration": 8,
    "start_time": "2022-12-16T11:53:25.121Z"
   },
   {
    "duration": 12,
    "start_time": "2022-12-16T11:53:54.877Z"
   },
   {
    "duration": 15,
    "start_time": "2022-12-16T11:54:01.523Z"
   },
   {
    "duration": 10,
    "start_time": "2022-12-16T11:54:44.529Z"
   },
   {
    "duration": 11,
    "start_time": "2022-12-16T11:54:50.521Z"
   },
   {
    "duration": 12,
    "start_time": "2022-12-16T11:56:13.114Z"
   },
   {
    "duration": 62,
    "start_time": "2022-12-16T11:56:18.652Z"
   },
   {
    "duration": 12,
    "start_time": "2022-12-16T11:56:29.044Z"
   },
   {
    "duration": 15,
    "start_time": "2022-12-16T11:56:36.932Z"
   },
   {
    "duration": 13,
    "start_time": "2022-12-16T11:56:45.992Z"
   },
   {
    "duration": 1473,
    "start_time": "2022-12-16T11:56:53.486Z"
   },
   {
    "duration": 781,
    "start_time": "2022-12-16T11:56:54.963Z"
   },
   {
    "duration": 41,
    "start_time": "2022-12-16T11:56:55.750Z"
   },
   {
    "duration": 22,
    "start_time": "2022-12-16T11:56:55.794Z"
   },
   {
    "duration": 589,
    "start_time": "2022-12-16T11:56:55.819Z"
   },
   {
    "duration": 51,
    "start_time": "2022-12-16T11:56:56.412Z"
   },
   {
    "duration": 125,
    "start_time": "2022-12-16T11:56:56.478Z"
   },
   {
    "duration": 23,
    "start_time": "2022-12-16T11:56:56.605Z"
   },
   {
    "duration": 25,
    "start_time": "2022-12-16T11:56:56.632Z"
   },
   {
    "duration": 103,
    "start_time": "2022-12-16T11:56:56.678Z"
   },
   {
    "duration": 15,
    "start_time": "2022-12-16T11:56:56.783Z"
   },
   {
    "duration": 35,
    "start_time": "2022-12-16T11:56:56.800Z"
   },
   {
    "duration": 42,
    "start_time": "2022-12-16T11:56:56.837Z"
   },
   {
    "duration": 22,
    "start_time": "2022-12-16T11:56:56.881Z"
   },
   {
    "duration": 272,
    "start_time": "2022-12-16T11:56:56.905Z"
   },
   {
    "duration": 49,
    "start_time": "2022-12-16T11:56:57.180Z"
   },
   {
    "duration": 104,
    "start_time": "2022-12-16T11:56:57.236Z"
   },
   {
    "duration": 8,
    "start_time": "2022-12-16T11:56:57.343Z"
   },
   {
    "duration": 60,
    "start_time": "2022-12-16T11:56:57.353Z"
   },
   {
    "duration": 240,
    "start_time": "2022-12-16T11:56:57.416Z"
   },
   {
    "duration": 19,
    "start_time": "2022-12-16T11:56:57.659Z"
   },
   {
    "duration": 35,
    "start_time": "2022-12-16T11:56:57.681Z"
   },
   {
    "duration": 30,
    "start_time": "2022-12-16T11:56:57.719Z"
   },
   {
    "duration": 52,
    "start_time": "2022-12-16T11:56:57.752Z"
   },
   {
    "duration": 57,
    "start_time": "2022-12-16T11:56:57.806Z"
   },
   {
    "duration": 12,
    "start_time": "2022-12-16T11:56:57.865Z"
   },
   {
    "duration": 29,
    "start_time": "2022-12-16T11:56:57.881Z"
   },
   {
    "duration": 207,
    "start_time": "2022-12-16T11:56:57.913Z"
   },
   {
    "duration": 56,
    "start_time": "2022-12-16T11:56:58.123Z"
   },
   {
    "duration": 134,
    "start_time": "2022-12-16T11:58:37.080Z"
   },
   {
    "duration": 20,
    "start_time": "2022-12-16T11:58:44.487Z"
   },
   {
    "duration": 1442,
    "start_time": "2022-12-16T11:58:59.565Z"
   },
   {
    "duration": 746,
    "start_time": "2022-12-16T11:59:01.010Z"
   },
   {
    "duration": 31,
    "start_time": "2022-12-16T11:59:01.758Z"
   },
   {
    "duration": 5,
    "start_time": "2022-12-16T11:59:01.791Z"
   },
   {
    "duration": 487,
    "start_time": "2022-12-16T11:59:01.801Z"
   },
   {
    "duration": 33,
    "start_time": "2022-12-16T11:59:02.290Z"
   },
   {
    "duration": 117,
    "start_time": "2022-12-16T11:59:02.324Z"
   },
   {
    "duration": 45,
    "start_time": "2022-12-16T11:59:02.444Z"
   },
   {
    "duration": 6,
    "start_time": "2022-12-16T11:59:02.491Z"
   },
   {
    "duration": 95,
    "start_time": "2022-12-16T11:59:02.498Z"
   },
   {
    "duration": 14,
    "start_time": "2022-12-16T11:59:02.596Z"
   },
   {
    "duration": 27,
    "start_time": "2022-12-16T11:59:02.612Z"
   },
   {
    "duration": 39,
    "start_time": "2022-12-16T11:59:02.641Z"
   },
   {
    "duration": 8,
    "start_time": "2022-12-16T11:59:02.684Z"
   },
   {
    "duration": 236,
    "start_time": "2022-12-16T11:59:02.694Z"
   },
   {
    "duration": 45,
    "start_time": "2022-12-16T11:59:02.933Z"
   },
   {
    "duration": 75,
    "start_time": "2022-12-16T11:59:02.979Z"
   },
   {
    "duration": 22,
    "start_time": "2022-12-16T11:59:03.056Z"
   },
   {
    "duration": 15,
    "start_time": "2022-12-16T11:59:03.080Z"
   },
   {
    "duration": 206,
    "start_time": "2022-12-16T11:59:03.097Z"
   },
   {
    "duration": 6,
    "start_time": "2022-12-16T11:59:03.304Z"
   },
   {
    "duration": 21,
    "start_time": "2022-12-16T11:59:03.311Z"
   },
   {
    "duration": 50,
    "start_time": "2022-12-16T11:59:03.333Z"
   },
   {
    "duration": 27,
    "start_time": "2022-12-16T11:59:03.385Z"
   },
   {
    "duration": 16,
    "start_time": "2022-12-16T11:59:03.414Z"
   },
   {
    "duration": 4,
    "start_time": "2022-12-16T11:59:03.433Z"
   },
   {
    "duration": 46,
    "start_time": "2022-12-16T11:59:03.439Z"
   },
   {
    "duration": 138,
    "start_time": "2022-12-16T11:59:03.487Z"
   },
   {
    "duration": 260,
    "start_time": "2022-12-16T11:59:03.627Z"
   },
   {
    "duration": 833,
    "start_time": "2022-12-16T11:59:41.489Z"
   },
   {
    "duration": 937,
    "start_time": "2022-12-16T12:00:52.487Z"
   },
   {
    "duration": 5,
    "start_time": "2022-12-16T12:01:28.369Z"
   },
   {
    "duration": 10,
    "start_time": "2022-12-16T12:01:35.003Z"
   },
   {
    "duration": 897,
    "start_time": "2022-12-16T12:01:41.044Z"
   },
   {
    "duration": 9,
    "start_time": "2022-12-16T12:02:12.674Z"
   },
   {
    "duration": 1344,
    "start_time": "2022-12-16T12:02:26.679Z"
   },
   {
    "duration": 785,
    "start_time": "2022-12-16T12:02:28.025Z"
   },
   {
    "duration": 31,
    "start_time": "2022-12-16T12:02:28.812Z"
   },
   {
    "duration": 7,
    "start_time": "2022-12-16T12:02:28.846Z"
   },
   {
    "duration": 496,
    "start_time": "2022-12-16T12:02:28.855Z"
   },
   {
    "duration": 47,
    "start_time": "2022-12-16T12:02:29.353Z"
   },
   {
    "duration": 116,
    "start_time": "2022-12-16T12:02:29.402Z"
   },
   {
    "duration": 22,
    "start_time": "2022-12-16T12:02:29.520Z"
   },
   {
    "duration": 33,
    "start_time": "2022-12-16T12:02:29.545Z"
   },
   {
    "duration": 72,
    "start_time": "2022-12-16T12:02:29.582Z"
   },
   {
    "duration": 15,
    "start_time": "2022-12-16T12:02:29.677Z"
   },
   {
    "duration": 47,
    "start_time": "2022-12-16T12:02:29.693Z"
   },
   {
    "duration": 36,
    "start_time": "2022-12-16T12:02:29.742Z"
   },
   {
    "duration": 14,
    "start_time": "2022-12-16T12:02:29.780Z"
   },
   {
    "duration": 262,
    "start_time": "2022-12-16T12:02:29.796Z"
   },
   {
    "duration": 49,
    "start_time": "2022-12-16T12:02:30.060Z"
   },
   {
    "duration": 106,
    "start_time": "2022-12-16T12:02:30.111Z"
   },
   {
    "duration": 7,
    "start_time": "2022-12-16T12:02:30.219Z"
   },
   {
    "duration": 38,
    "start_time": "2022-12-16T12:02:30.228Z"
   },
   {
    "duration": 242,
    "start_time": "2022-12-16T12:02:30.268Z"
   },
   {
    "duration": 7,
    "start_time": "2022-12-16T12:02:30.512Z"
   },
   {
    "duration": 67,
    "start_time": "2022-12-16T12:02:30.521Z"
   },
   {
    "duration": 32,
    "start_time": "2022-12-16T12:02:30.590Z"
   },
   {
    "duration": 53,
    "start_time": "2022-12-16T12:02:30.624Z"
   },
   {
    "duration": 25,
    "start_time": "2022-12-16T12:02:30.679Z"
   },
   {
    "duration": 9,
    "start_time": "2022-12-16T12:02:30.706Z"
   },
   {
    "duration": 51,
    "start_time": "2022-12-16T12:02:30.717Z"
   },
   {
    "duration": 190,
    "start_time": "2022-12-16T12:02:30.771Z"
   },
   {
    "duration": 23,
    "start_time": "2022-12-16T12:02:30.963Z"
   },
   {
    "duration": 20,
    "start_time": "2022-12-16T12:02:43.613Z"
   },
   {
    "duration": 1410,
    "start_time": "2022-12-16T12:03:00.913Z"
   },
   {
    "duration": 833,
    "start_time": "2022-12-16T12:03:02.325Z"
   },
   {
    "duration": 33,
    "start_time": "2022-12-16T12:03:03.160Z"
   },
   {
    "duration": 5,
    "start_time": "2022-12-16T12:03:03.196Z"
   },
   {
    "duration": 537,
    "start_time": "2022-12-16T12:03:03.204Z"
   },
   {
    "duration": 47,
    "start_time": "2022-12-16T12:03:03.743Z"
   },
   {
    "duration": 130,
    "start_time": "2022-12-16T12:03:03.792Z"
   },
   {
    "duration": 23,
    "start_time": "2022-12-16T12:03:03.925Z"
   },
   {
    "duration": 29,
    "start_time": "2022-12-16T12:03:03.950Z"
   },
   {
    "duration": 109,
    "start_time": "2022-12-16T12:03:03.981Z"
   },
   {
    "duration": 15,
    "start_time": "2022-12-16T12:03:04.092Z"
   },
   {
    "duration": 69,
    "start_time": "2022-12-16T12:03:04.109Z"
   },
   {
    "duration": 6,
    "start_time": "2022-12-16T12:03:04.180Z"
   },
   {
    "duration": 12,
    "start_time": "2022-12-16T12:03:04.189Z"
   },
   {
    "duration": 260,
    "start_time": "2022-12-16T12:03:04.204Z"
   },
   {
    "duration": 57,
    "start_time": "2022-12-16T12:03:04.466Z"
   },
   {
    "duration": 101,
    "start_time": "2022-12-16T12:03:04.524Z"
   },
   {
    "duration": 6,
    "start_time": "2022-12-16T12:03:04.627Z"
   },
   {
    "duration": 13,
    "start_time": "2022-12-16T12:03:04.635Z"
   },
   {
    "duration": 251,
    "start_time": "2022-12-16T12:03:04.650Z"
   },
   {
    "duration": 7,
    "start_time": "2022-12-16T12:03:04.904Z"
   },
   {
    "duration": 33,
    "start_time": "2022-12-16T12:03:04.913Z"
   },
   {
    "duration": 50,
    "start_time": "2022-12-16T12:03:04.948Z"
   },
   {
    "duration": 35,
    "start_time": "2022-12-16T12:03:05.000Z"
   },
   {
    "duration": 54,
    "start_time": "2022-12-16T12:03:05.036Z"
   },
   {
    "duration": 4,
    "start_time": "2022-12-16T12:03:05.092Z"
   },
   {
    "duration": 23,
    "start_time": "2022-12-16T12:03:05.097Z"
   },
   {
    "duration": 169,
    "start_time": "2022-12-16T12:03:05.122Z"
   },
   {
    "duration": 29,
    "start_time": "2022-12-16T12:03:05.293Z"
   },
   {
    "duration": 16,
    "start_time": "2022-12-16T12:04:21.861Z"
   },
   {
    "duration": 24,
    "start_time": "2022-12-16T12:04:27.349Z"
   },
   {
    "duration": 21,
    "start_time": "2022-12-16T12:04:53.749Z"
   },
   {
    "duration": 33,
    "start_time": "2022-12-16T12:05:27.997Z"
   },
   {
    "duration": 29,
    "start_time": "2022-12-16T13:33:47.704Z"
   },
   {
    "duration": 10,
    "start_time": "2022-12-16T13:33:57.452Z"
   },
   {
    "duration": 1276,
    "start_time": "2022-12-16T13:34:03.917Z"
   },
   {
    "duration": 643,
    "start_time": "2022-12-16T13:34:05.195Z"
   },
   {
    "duration": 35,
    "start_time": "2022-12-16T13:34:05.840Z"
   },
   {
    "duration": 4,
    "start_time": "2022-12-16T13:34:05.877Z"
   },
   {
    "duration": 476,
    "start_time": "2022-12-16T13:34:05.883Z"
   },
   {
    "duration": 41,
    "start_time": "2022-12-16T13:34:06.361Z"
   },
   {
    "duration": 116,
    "start_time": "2022-12-16T13:34:06.404Z"
   },
   {
    "duration": 20,
    "start_time": "2022-12-16T13:34:06.522Z"
   },
   {
    "duration": 36,
    "start_time": "2022-12-16T13:34:06.545Z"
   },
   {
    "duration": 92,
    "start_time": "2022-12-16T13:34:06.586Z"
   },
   {
    "duration": 15,
    "start_time": "2022-12-16T13:34:06.680Z"
   },
   {
    "duration": 30,
    "start_time": "2022-12-16T13:34:06.697Z"
   },
   {
    "duration": 5,
    "start_time": "2022-12-16T13:34:06.729Z"
   },
   {
    "duration": 11,
    "start_time": "2022-12-16T13:34:06.777Z"
   },
   {
    "duration": 220,
    "start_time": "2022-12-16T13:34:06.790Z"
   },
   {
    "duration": 35,
    "start_time": "2022-12-16T13:34:07.012Z"
   },
   {
    "duration": 88,
    "start_time": "2022-12-16T13:34:07.049Z"
   },
   {
    "duration": 6,
    "start_time": "2022-12-16T13:34:07.138Z"
   },
   {
    "duration": 16,
    "start_time": "2022-12-16T13:34:07.146Z"
   },
   {
    "duration": 227,
    "start_time": "2022-12-16T13:34:07.164Z"
   },
   {
    "duration": 5,
    "start_time": "2022-12-16T13:34:07.393Z"
   },
   {
    "duration": 41,
    "start_time": "2022-12-16T13:34:07.400Z"
   },
   {
    "duration": 30,
    "start_time": "2022-12-16T13:34:07.443Z"
   },
   {
    "duration": 43,
    "start_time": "2022-12-16T13:34:07.474Z"
   },
   {
    "duration": 21,
    "start_time": "2022-12-16T13:34:07.519Z"
   },
   {
    "duration": 40,
    "start_time": "2022-12-16T13:34:07.542Z"
   },
   {
    "duration": 37,
    "start_time": "2022-12-16T13:34:07.584Z"
   },
   {
    "duration": 152,
    "start_time": "2022-12-16T13:34:07.624Z"
   },
   {
    "duration": 21,
    "start_time": "2022-12-16T13:34:07.777Z"
   },
   {
    "duration": 69,
    "start_time": "2022-12-16T13:35:10.125Z"
   },
   {
    "duration": 14,
    "start_time": "2022-12-16T13:48:21.552Z"
   },
   {
    "duration": 20,
    "start_time": "2022-12-16T13:50:36.904Z"
   },
   {
    "duration": 318,
    "start_time": "2022-12-16T13:51:48.062Z"
   },
   {
    "duration": 169,
    "start_time": "2022-12-16T13:51:53.918Z"
   },
   {
    "duration": 152,
    "start_time": "2022-12-16T13:56:45.440Z"
   },
   {
    "duration": 20,
    "start_time": "2022-12-16T13:57:38.741Z"
   },
   {
    "duration": 546,
    "start_time": "2022-12-16T13:57:46.882Z"
   },
   {
    "duration": 455,
    "start_time": "2022-12-16T13:57:59.128Z"
   },
   {
    "duration": 452,
    "start_time": "2022-12-16T13:58:06.426Z"
   },
   {
    "duration": 16,
    "start_time": "2022-12-16T14:00:22.178Z"
   },
   {
    "duration": 7,
    "start_time": "2022-12-16T14:01:15.491Z"
   },
   {
    "duration": 5,
    "start_time": "2022-12-16T14:01:23.626Z"
   },
   {
    "duration": 6,
    "start_time": "2022-12-16T14:07:12.070Z"
   },
   {
    "duration": 5,
    "start_time": "2022-12-16T14:08:42.990Z"
   },
   {
    "duration": 42,
    "start_time": "2022-12-16T14:08:59.156Z"
   },
   {
    "duration": 1414,
    "start_time": "2022-12-16T14:09:33.903Z"
   },
   {
    "duration": 732,
    "start_time": "2022-12-16T14:09:35.319Z"
   },
   {
    "duration": 35,
    "start_time": "2022-12-16T14:09:36.055Z"
   },
   {
    "duration": 21,
    "start_time": "2022-12-16T14:09:36.093Z"
   },
   {
    "duration": 581,
    "start_time": "2022-12-16T14:09:36.116Z"
   },
   {
    "duration": 34,
    "start_time": "2022-12-16T14:09:36.699Z"
   },
   {
    "duration": 118,
    "start_time": "2022-12-16T14:09:36.735Z"
   },
   {
    "duration": 33,
    "start_time": "2022-12-16T14:09:36.855Z"
   },
   {
    "duration": 14,
    "start_time": "2022-12-16T14:09:36.890Z"
   },
   {
    "duration": 99,
    "start_time": "2022-12-16T14:09:36.906Z"
   },
   {
    "duration": 17,
    "start_time": "2022-12-16T14:09:37.007Z"
   },
   {
    "duration": 52,
    "start_time": "2022-12-16T14:09:37.026Z"
   },
   {
    "duration": 30,
    "start_time": "2022-12-16T14:09:37.081Z"
   },
   {
    "duration": 40,
    "start_time": "2022-12-16T14:09:37.113Z"
   },
   {
    "duration": 224,
    "start_time": "2022-12-16T14:09:37.155Z"
   },
   {
    "duration": 56,
    "start_time": "2022-12-16T14:09:37.380Z"
   },
   {
    "duration": 97,
    "start_time": "2022-12-16T14:09:37.438Z"
   },
   {
    "duration": 6,
    "start_time": "2022-12-16T14:09:37.537Z"
   },
   {
    "duration": 33,
    "start_time": "2022-12-16T14:09:37.545Z"
   },
   {
    "duration": 212,
    "start_time": "2022-12-16T14:09:37.580Z"
   },
   {
    "duration": 17,
    "start_time": "2022-12-16T14:09:37.794Z"
   },
   {
    "duration": 41,
    "start_time": "2022-12-16T14:09:37.813Z"
   },
   {
    "duration": 55,
    "start_time": "2022-12-16T14:09:37.856Z"
   },
   {
    "duration": 14,
    "start_time": "2022-12-16T14:09:37.912Z"
   },
   {
    "duration": 20,
    "start_time": "2022-12-16T14:09:37.928Z"
   },
   {
    "duration": 24,
    "start_time": "2022-12-16T14:09:37.950Z"
   },
   {
    "duration": 29,
    "start_time": "2022-12-16T14:09:37.976Z"
   },
   {
    "duration": 19,
    "start_time": "2022-12-16T14:09:38.007Z"
   },
   {
    "duration": 20,
    "start_time": "2022-12-16T14:09:38.028Z"
   },
   {
    "duration": 734,
    "start_time": "2022-12-16T14:09:38.050Z"
   },
   {
    "duration": 10,
    "start_time": "2022-12-16T14:09:38.785Z"
   },
   {
    "duration": 161,
    "start_time": "2022-12-16T14:09:38.797Z"
   },
   {
    "duration": 38,
    "start_time": "2022-12-16T14:09:38.960Z"
   },
   {
    "duration": 1291,
    "start_time": "2022-12-16T14:11:43.515Z"
   },
   {
    "duration": 664,
    "start_time": "2022-12-16T14:11:44.808Z"
   },
   {
    "duration": 32,
    "start_time": "2022-12-16T14:11:45.474Z"
   },
   {
    "duration": 5,
    "start_time": "2022-12-16T14:11:45.509Z"
   },
   {
    "duration": 490,
    "start_time": "2022-12-16T14:11:45.516Z"
   },
   {
    "duration": 44,
    "start_time": "2022-12-16T14:11:46.008Z"
   },
   {
    "duration": 129,
    "start_time": "2022-12-16T14:11:46.054Z"
   },
   {
    "duration": 22,
    "start_time": "2022-12-16T14:11:46.185Z"
   },
   {
    "duration": 6,
    "start_time": "2022-12-16T14:11:46.210Z"
   },
   {
    "duration": 126,
    "start_time": "2022-12-16T14:11:46.220Z"
   },
   {
    "duration": 35,
    "start_time": "2022-12-16T14:11:46.348Z"
   },
   {
    "duration": 33,
    "start_time": "2022-12-16T14:11:46.385Z"
   },
   {
    "duration": 7,
    "start_time": "2022-12-16T14:11:46.420Z"
   },
   {
    "duration": 49,
    "start_time": "2022-12-16T14:11:46.429Z"
   },
   {
    "duration": 228,
    "start_time": "2022-12-16T14:11:46.479Z"
   },
   {
    "duration": 50,
    "start_time": "2022-12-16T14:11:46.709Z"
   },
   {
    "duration": 92,
    "start_time": "2022-12-16T14:11:46.761Z"
   },
   {
    "duration": 23,
    "start_time": "2022-12-16T14:11:46.855Z"
   },
   {
    "duration": 12,
    "start_time": "2022-12-16T14:11:46.880Z"
   },
   {
    "duration": 207,
    "start_time": "2022-12-16T14:11:46.894Z"
   },
   {
    "duration": 18,
    "start_time": "2022-12-16T14:11:47.103Z"
   },
   {
    "duration": 16,
    "start_time": "2022-12-16T14:11:47.123Z"
   },
   {
    "duration": 23,
    "start_time": "2022-12-16T14:11:47.141Z"
   },
   {
    "duration": 14,
    "start_time": "2022-12-16T14:11:47.178Z"
   },
   {
    "duration": 26,
    "start_time": "2022-12-16T14:11:47.194Z"
   },
   {
    "duration": 23,
    "start_time": "2022-12-16T14:11:47.222Z"
   },
   {
    "duration": 42,
    "start_time": "2022-12-16T14:11:47.247Z"
   },
   {
    "duration": 3,
    "start_time": "2022-12-16T14:11:47.294Z"
   },
   {
    "duration": 125,
    "start_time": "2022-12-16T14:11:47.299Z"
   },
   {
    "duration": 10,
    "start_time": "2022-12-16T14:11:47.426Z"
   },
   {
    "duration": 154,
    "start_time": "2022-12-16T14:11:47.438Z"
   },
   {
    "duration": 27,
    "start_time": "2022-12-16T14:11:47.595Z"
   },
   {
    "duration": 1311,
    "start_time": "2022-12-16T14:14:08.300Z"
   },
   {
    "duration": 685,
    "start_time": "2022-12-16T14:14:09.613Z"
   },
   {
    "duration": 32,
    "start_time": "2022-12-16T14:14:10.300Z"
   },
   {
    "duration": 4,
    "start_time": "2022-12-16T14:14:10.334Z"
   },
   {
    "duration": 516,
    "start_time": "2022-12-16T14:14:10.341Z"
   },
   {
    "duration": 41,
    "start_time": "2022-12-16T14:14:10.859Z"
   },
   {
    "duration": 120,
    "start_time": "2022-12-16T14:14:10.902Z"
   },
   {
    "duration": 30,
    "start_time": "2022-12-16T14:14:11.024Z"
   },
   {
    "duration": 6,
    "start_time": "2022-12-16T14:14:11.078Z"
   },
   {
    "duration": 86,
    "start_time": "2022-12-16T14:14:11.086Z"
   },
   {
    "duration": 16,
    "start_time": "2022-12-16T14:14:11.174Z"
   },
   {
    "duration": 37,
    "start_time": "2022-12-16T14:14:11.192Z"
   },
   {
    "duration": 13,
    "start_time": "2022-12-16T14:14:11.232Z"
   },
   {
    "duration": 30,
    "start_time": "2022-12-16T14:14:11.279Z"
   },
   {
    "duration": 230,
    "start_time": "2022-12-16T14:14:11.311Z"
   },
   {
    "duration": 54,
    "start_time": "2022-12-16T14:14:11.543Z"
   },
   {
    "duration": 82,
    "start_time": "2022-12-16T14:14:11.599Z"
   },
   {
    "duration": 6,
    "start_time": "2022-12-16T14:14:11.683Z"
   },
   {
    "duration": 22,
    "start_time": "2022-12-16T14:14:11.691Z"
   },
   {
    "duration": 193,
    "start_time": "2022-12-16T14:14:11.715Z"
   },
   {
    "duration": 17,
    "start_time": "2022-12-16T14:14:11.910Z"
   },
   {
    "duration": 21,
    "start_time": "2022-12-16T14:14:11.929Z"
   },
   {
    "duration": 33,
    "start_time": "2022-12-16T14:14:11.952Z"
   },
   {
    "duration": 35,
    "start_time": "2022-12-16T14:14:11.986Z"
   },
   {
    "duration": 46,
    "start_time": "2022-12-16T14:14:12.023Z"
   },
   {
    "duration": 33,
    "start_time": "2022-12-16T14:14:12.071Z"
   },
   {
    "duration": 14,
    "start_time": "2022-12-16T14:14:12.106Z"
   },
   {
    "duration": 537,
    "start_time": "2022-12-16T14:14:12.122Z"
   },
   {
    "duration": 9,
    "start_time": "2022-12-16T14:14:12.661Z"
   },
   {
    "duration": 139,
    "start_time": "2022-12-16T14:14:12.678Z"
   },
   {
    "duration": 21,
    "start_time": "2022-12-16T14:14:12.819Z"
   },
   {
    "duration": 16,
    "start_time": "2022-12-16T14:16:37.385Z"
   },
   {
    "duration": 7,
    "start_time": "2022-12-16T14:16:52.772Z"
   },
   {
    "duration": 6,
    "start_time": "2022-12-16T14:17:18.686Z"
   },
   {
    "duration": 43,
    "start_time": "2022-12-16T14:50:26.889Z"
   },
   {
    "duration": 1314,
    "start_time": "2022-12-16T14:50:32.603Z"
   },
   {
    "duration": 1857,
    "start_time": "2022-12-16T14:50:33.918Z"
   },
   {
    "duration": 27,
    "start_time": "2022-12-16T14:50:35.777Z"
   },
   {
    "duration": 6,
    "start_time": "2022-12-16T14:50:35.807Z"
   },
   {
    "duration": 406,
    "start_time": "2022-12-16T14:50:35.815Z"
   },
   {
    "duration": 26,
    "start_time": "2022-12-16T14:50:36.227Z"
   },
   {
    "duration": 92,
    "start_time": "2022-12-16T14:50:36.254Z"
   },
   {
    "duration": 18,
    "start_time": "2022-12-16T14:50:36.347Z"
   },
   {
    "duration": 5,
    "start_time": "2022-12-16T14:50:36.367Z"
   },
   {
    "duration": 82,
    "start_time": "2022-12-16T14:50:36.375Z"
   },
   {
    "duration": 11,
    "start_time": "2022-12-16T14:50:36.458Z"
   },
   {
    "duration": 27,
    "start_time": "2022-12-16T14:50:36.470Z"
   },
   {
    "duration": 31,
    "start_time": "2022-12-16T14:50:36.498Z"
   },
   {
    "duration": 15,
    "start_time": "2022-12-16T14:50:36.530Z"
   },
   {
    "duration": 166,
    "start_time": "2022-12-16T14:50:36.547Z"
   },
   {
    "duration": 41,
    "start_time": "2022-12-16T14:50:36.715Z"
   },
   {
    "duration": 77,
    "start_time": "2022-12-16T14:50:36.758Z"
   },
   {
    "duration": 4,
    "start_time": "2022-12-16T14:50:36.837Z"
   },
   {
    "duration": 9,
    "start_time": "2022-12-16T14:50:36.843Z"
   },
   {
    "duration": 163,
    "start_time": "2022-12-16T14:50:36.853Z"
   },
   {
    "duration": 15,
    "start_time": "2022-12-16T14:50:37.018Z"
   },
   {
    "duration": 5,
    "start_time": "2022-12-16T14:50:37.035Z"
   },
   {
    "duration": 484,
    "start_time": "2022-12-16T14:50:37.042Z"
   },
   {
    "duration": 10,
    "start_time": "2022-12-16T14:50:37.528Z"
   },
   {
    "duration": 44,
    "start_time": "2022-12-16T14:50:37.540Z"
   },
   {
    "duration": 66,
    "start_time": "2022-12-16T14:50:37.585Z"
   },
   {
    "duration": 8,
    "start_time": "2022-12-16T14:50:37.653Z"
   },
   {
    "duration": 39,
    "start_time": "2022-12-16T14:50:37.663Z"
   },
   {
    "duration": 36,
    "start_time": "2022-12-16T14:50:37.704Z"
   },
   {
    "duration": 22,
    "start_time": "2022-12-16T14:50:37.741Z"
   },
   {
    "duration": 176,
    "start_time": "2022-12-16T14:50:37.764Z"
   },
   {
    "duration": 22,
    "start_time": "2022-12-16T14:50:37.942Z"
   },
   {
    "duration": 390,
    "start_time": "2022-12-16T14:51:39.076Z"
   },
   {
    "duration": 103,
    "start_time": "2022-12-16T14:52:15.036Z"
   },
   {
    "duration": 412,
    "start_time": "2022-12-16T14:52:32.753Z"
   },
   {
    "duration": 390,
    "start_time": "2022-12-16T14:52:58.844Z"
   },
   {
    "duration": 1167,
    "start_time": "2022-12-16T14:53:16.315Z"
   },
   {
    "duration": 540,
    "start_time": "2022-12-16T14:53:17.484Z"
   },
   {
    "duration": 24,
    "start_time": "2022-12-16T14:53:18.026Z"
   },
   {
    "duration": 4,
    "start_time": "2022-12-16T14:53:18.051Z"
   },
   {
    "duration": 365,
    "start_time": "2022-12-16T14:53:18.057Z"
   },
   {
    "duration": 25,
    "start_time": "2022-12-16T14:53:18.427Z"
   },
   {
    "duration": 94,
    "start_time": "2022-12-16T14:53:18.454Z"
   },
   {
    "duration": 18,
    "start_time": "2022-12-16T14:53:18.550Z"
   },
   {
    "duration": 5,
    "start_time": "2022-12-16T14:53:18.570Z"
   },
   {
    "duration": 88,
    "start_time": "2022-12-16T14:53:18.577Z"
   },
   {
    "duration": 15,
    "start_time": "2022-12-16T14:53:18.667Z"
   },
   {
    "duration": 43,
    "start_time": "2022-12-16T14:53:18.684Z"
   },
   {
    "duration": 5,
    "start_time": "2022-12-16T14:53:18.729Z"
   },
   {
    "duration": 13,
    "start_time": "2022-12-16T14:53:18.736Z"
   },
   {
    "duration": 165,
    "start_time": "2022-12-16T14:53:18.751Z"
   },
   {
    "duration": 35,
    "start_time": "2022-12-16T14:53:18.918Z"
   },
   {
    "duration": 71,
    "start_time": "2022-12-16T14:53:18.955Z"
   },
   {
    "duration": 5,
    "start_time": "2022-12-16T14:53:19.028Z"
   },
   {
    "duration": 16,
    "start_time": "2022-12-16T14:53:19.035Z"
   },
   {
    "duration": 189,
    "start_time": "2022-12-16T14:53:19.053Z"
   },
   {
    "duration": 17,
    "start_time": "2022-12-16T14:53:19.244Z"
   },
   {
    "duration": 5,
    "start_time": "2022-12-16T14:53:19.262Z"
   },
   {
    "duration": 486,
    "start_time": "2022-12-16T14:53:19.269Z"
   },
   {
    "duration": 10,
    "start_time": "2022-12-16T14:53:19.757Z"
   },
   {
    "duration": 19,
    "start_time": "2022-12-16T14:53:19.768Z"
   },
   {
    "duration": 46,
    "start_time": "2022-12-16T14:53:19.789Z"
   },
   {
    "duration": 15,
    "start_time": "2022-12-16T14:53:19.837Z"
   },
   {
    "duration": 27,
    "start_time": "2022-12-16T14:53:19.854Z"
   },
   {
    "duration": 11,
    "start_time": "2022-12-16T14:53:19.883Z"
   },
   {
    "duration": 20,
    "start_time": "2022-12-16T14:53:19.896Z"
   },
   {
    "duration": 188,
    "start_time": "2022-12-16T14:53:19.918Z"
   },
   {
    "duration": 24,
    "start_time": "2022-12-16T14:53:20.108Z"
   },
   {
    "duration": 536,
    "start_time": "2022-12-16T14:55:06.100Z"
   },
   {
    "duration": 390,
    "start_time": "2022-12-16T14:55:16.338Z"
   },
   {
    "duration": 448,
    "start_time": "2022-12-16T14:55:59.108Z"
   },
   {
    "duration": 8,
    "start_time": "2022-12-16T14:58:29.925Z"
   },
   {
    "duration": 13,
    "start_time": "2022-12-16T14:59:59.242Z"
   },
   {
    "duration": 20,
    "start_time": "2022-12-16T15:01:14.525Z"
   },
   {
    "duration": 20,
    "start_time": "2022-12-16T15:02:23.470Z"
   },
   {
    "duration": 25,
    "start_time": "2022-12-16T15:03:19.461Z"
   },
   {
    "duration": 28,
    "start_time": "2022-12-16T15:03:29.720Z"
   },
   {
    "duration": 239,
    "start_time": "2022-12-16T15:04:23.665Z"
   },
   {
    "duration": 45,
    "start_time": "2022-12-16T15:04:34.469Z"
   },
   {
    "duration": 358,
    "start_time": "2022-12-16T15:06:17.707Z"
   },
   {
    "duration": 188,
    "start_time": "2022-12-16T15:07:03.378Z"
   },
   {
    "duration": 10,
    "start_time": "2022-12-16T15:08:59.057Z"
   },
   {
    "duration": 45,
    "start_time": "2022-12-16T15:09:07.792Z"
   },
   {
    "duration": 11,
    "start_time": "2022-12-16T15:13:22.999Z"
   },
   {
    "duration": 332,
    "start_time": "2022-12-16T15:19:41.894Z"
   },
   {
    "duration": 258,
    "start_time": "2022-12-16T15:21:31.286Z"
   },
   {
    "duration": 261,
    "start_time": "2022-12-16T15:21:38.971Z"
   },
   {
    "duration": 244,
    "start_time": "2022-12-16T15:21:46.573Z"
   },
   {
    "duration": 316,
    "start_time": "2022-12-16T15:23:50.371Z"
   },
   {
    "duration": 285,
    "start_time": "2022-12-16T15:24:03.755Z"
   },
   {
    "duration": 14,
    "start_time": "2022-12-16T15:24:22.122Z"
   },
   {
    "duration": 561,
    "start_time": "2022-12-16T15:24:48.704Z"
   },
   {
    "duration": 273,
    "start_time": "2022-12-16T15:25:40.142Z"
   },
   {
    "duration": 265,
    "start_time": "2022-12-16T15:25:45.415Z"
   },
   {
    "duration": 241,
    "start_time": "2022-12-16T15:25:52.971Z"
   },
   {
    "duration": 21,
    "start_time": "2022-12-16T15:27:52.626Z"
   },
   {
    "duration": 1373,
    "start_time": "2022-12-16T19:02:39.116Z"
   },
   {
    "duration": 872,
    "start_time": "2022-12-16T19:02:40.491Z"
   },
   {
    "duration": 27,
    "start_time": "2022-12-16T19:02:41.365Z"
   },
   {
    "duration": 4,
    "start_time": "2022-12-16T19:02:41.394Z"
   },
   {
    "duration": 391,
    "start_time": "2022-12-16T19:02:41.399Z"
   },
   {
    "duration": 34,
    "start_time": "2022-12-16T19:02:41.791Z"
   },
   {
    "duration": 112,
    "start_time": "2022-12-16T19:02:41.826Z"
   },
   {
    "duration": 19,
    "start_time": "2022-12-16T19:02:41.940Z"
   },
   {
    "duration": 4,
    "start_time": "2022-12-16T19:02:41.961Z"
   },
   {
    "duration": 78,
    "start_time": "2022-12-16T19:02:41.967Z"
   },
   {
    "duration": 10,
    "start_time": "2022-12-16T19:02:42.047Z"
   },
   {
    "duration": 40,
    "start_time": "2022-12-16T19:02:42.059Z"
   },
   {
    "duration": 4,
    "start_time": "2022-12-16T19:02:42.101Z"
   },
   {
    "duration": 11,
    "start_time": "2022-12-16T19:02:42.107Z"
   },
   {
    "duration": 184,
    "start_time": "2022-12-16T19:02:42.119Z"
   },
   {
    "duration": 44,
    "start_time": "2022-12-16T19:02:42.305Z"
   },
   {
    "duration": 19,
    "start_time": "2022-12-16T19:02:42.351Z"
   },
   {
    "duration": 81,
    "start_time": "2022-12-16T19:02:42.372Z"
   },
   {
    "duration": 4,
    "start_time": "2022-12-16T19:02:42.455Z"
   },
   {
    "duration": 12,
    "start_time": "2022-12-16T19:02:42.461Z"
   },
   {
    "duration": 155,
    "start_time": "2022-12-16T19:02:42.475Z"
   },
   {
    "duration": 15,
    "start_time": "2022-12-16T19:02:42.631Z"
   },
   {
    "duration": 5,
    "start_time": "2022-12-16T19:02:42.647Z"
   },
   {
    "duration": 503,
    "start_time": "2022-12-16T19:02:42.653Z"
   },
   {
    "duration": 26,
    "start_time": "2022-12-16T19:02:43.158Z"
   },
   {
    "duration": 19,
    "start_time": "2022-12-16T19:02:43.186Z"
   },
   {
    "duration": 18,
    "start_time": "2022-12-16T19:02:43.212Z"
   },
   {
    "duration": 23,
    "start_time": "2022-12-16T19:02:43.233Z"
   },
   {
    "duration": 12,
    "start_time": "2022-12-16T19:02:43.258Z"
   },
   {
    "duration": 39,
    "start_time": "2022-12-16T19:02:43.271Z"
   },
   {
    "duration": 3,
    "start_time": "2022-12-16T19:02:43.312Z"
   },
   {
    "duration": 11,
    "start_time": "2022-12-16T19:02:43.317Z"
   },
   {
    "duration": 159,
    "start_time": "2022-12-16T19:02:43.329Z"
   },
   {
    "duration": 33,
    "start_time": "2022-12-16T19:02:43.490Z"
   },
   {
    "duration": 15,
    "start_time": "2022-12-16T19:03:05.732Z"
   },
   {
    "duration": 26,
    "start_time": "2022-12-16T19:04:29.334Z"
   },
   {
    "duration": 66,
    "start_time": "2022-12-16T19:04:30.181Z"
   },
   {
    "duration": 1132,
    "start_time": "2022-12-16T19:04:35.534Z"
   },
   {
    "duration": 555,
    "start_time": "2022-12-16T19:04:36.668Z"
   },
   {
    "duration": 26,
    "start_time": "2022-12-16T19:04:37.225Z"
   },
   {
    "duration": 4,
    "start_time": "2022-12-16T19:04:37.253Z"
   },
   {
    "duration": 374,
    "start_time": "2022-12-16T19:04:37.258Z"
   },
   {
    "duration": 24,
    "start_time": "2022-12-16T19:04:37.634Z"
   },
   {
    "duration": 98,
    "start_time": "2022-12-16T19:04:37.660Z"
   },
   {
    "duration": 18,
    "start_time": "2022-12-16T19:04:37.759Z"
   },
   {
    "duration": 20,
    "start_time": "2022-12-16T19:04:37.779Z"
   },
   {
    "duration": 56,
    "start_time": "2022-12-16T19:04:37.801Z"
   },
   {
    "duration": 12,
    "start_time": "2022-12-16T19:04:37.859Z"
   },
   {
    "duration": 47,
    "start_time": "2022-12-16T19:04:37.872Z"
   },
   {
    "duration": 5,
    "start_time": "2022-12-16T19:04:37.921Z"
   },
   {
    "duration": 13,
    "start_time": "2022-12-16T19:04:37.929Z"
   },
   {
    "duration": 180,
    "start_time": "2022-12-16T19:04:37.944Z"
   },
   {
    "duration": 31,
    "start_time": "2022-12-16T19:04:38.126Z"
   },
   {
    "duration": 69,
    "start_time": "2022-12-16T19:04:38.159Z"
   },
   {
    "duration": 5,
    "start_time": "2022-12-16T19:04:38.229Z"
   },
   {
    "duration": 10,
    "start_time": "2022-12-16T19:04:38.236Z"
   },
   {
    "duration": 166,
    "start_time": "2022-12-16T19:04:38.248Z"
   },
   {
    "duration": 14,
    "start_time": "2022-12-16T19:04:38.416Z"
   },
   {
    "duration": 4,
    "start_time": "2022-12-16T19:04:38.431Z"
   },
   {
    "duration": 421,
    "start_time": "2022-12-16T19:04:38.436Z"
   },
   {
    "duration": 23,
    "start_time": "2022-12-16T19:04:38.858Z"
   },
   {
    "duration": 17,
    "start_time": "2022-12-16T19:04:38.882Z"
   },
   {
    "duration": 16,
    "start_time": "2022-12-16T19:04:38.901Z"
   },
   {
    "duration": 23,
    "start_time": "2022-12-16T19:04:38.919Z"
   },
   {
    "duration": 5,
    "start_time": "2022-12-16T19:04:38.943Z"
   },
   {
    "duration": 15,
    "start_time": "2022-12-16T19:04:38.950Z"
   },
   {
    "duration": 31,
    "start_time": "2022-12-16T19:04:38.966Z"
   },
   {
    "duration": 10,
    "start_time": "2022-12-16T19:04:38.999Z"
   },
   {
    "duration": 144,
    "start_time": "2022-12-16T19:04:39.010Z"
   },
   {
    "duration": 20,
    "start_time": "2022-12-16T19:04:39.155Z"
   },
   {
    "duration": 1140,
    "start_time": "2022-12-16T19:05:04.147Z"
   },
   {
    "duration": 570,
    "start_time": "2022-12-16T19:05:05.289Z"
   },
   {
    "duration": 28,
    "start_time": "2022-12-16T19:05:05.860Z"
   },
   {
    "duration": 4,
    "start_time": "2022-12-16T19:05:05.890Z"
   },
   {
    "duration": 444,
    "start_time": "2022-12-16T19:05:05.896Z"
   },
   {
    "duration": 29,
    "start_time": "2022-12-16T19:05:06.342Z"
   },
   {
    "duration": 107,
    "start_time": "2022-12-16T19:05:06.373Z"
   },
   {
    "duration": 27,
    "start_time": "2022-12-16T19:05:06.482Z"
   },
   {
    "duration": 4,
    "start_time": "2022-12-16T19:05:06.511Z"
   },
   {
    "duration": 62,
    "start_time": "2022-12-16T19:05:06.517Z"
   },
   {
    "duration": 13,
    "start_time": "2022-12-16T19:05:06.596Z"
   },
   {
    "duration": 26,
    "start_time": "2022-12-16T19:05:06.610Z"
   },
   {
    "duration": 21,
    "start_time": "2022-12-16T19:05:06.638Z"
   },
   {
    "duration": 44,
    "start_time": "2022-12-16T19:05:06.661Z"
   },
   {
    "duration": 184,
    "start_time": "2022-12-16T19:05:06.706Z"
   },
   {
    "duration": 47,
    "start_time": "2022-12-16T19:05:06.891Z"
   },
   {
    "duration": 85,
    "start_time": "2022-12-16T19:05:06.939Z"
   },
   {
    "duration": 6,
    "start_time": "2022-12-16T19:05:07.026Z"
   },
   {
    "duration": 15,
    "start_time": "2022-12-16T19:05:07.034Z"
   },
   {
    "duration": 163,
    "start_time": "2022-12-16T19:05:07.050Z"
   },
   {
    "duration": 15,
    "start_time": "2022-12-16T19:05:07.215Z"
   },
   {
    "duration": 13,
    "start_time": "2022-12-16T19:05:07.232Z"
   },
   {
    "duration": 460,
    "start_time": "2022-12-16T19:05:07.246Z"
   },
   {
    "duration": 23,
    "start_time": "2022-12-16T19:05:07.708Z"
   },
   {
    "duration": 10,
    "start_time": "2022-12-16T19:05:07.732Z"
   },
   {
    "duration": 20,
    "start_time": "2022-12-16T19:05:07.743Z"
   },
   {
    "duration": 44,
    "start_time": "2022-12-16T19:05:07.765Z"
   },
   {
    "duration": 5,
    "start_time": "2022-12-16T19:05:07.811Z"
   },
   {
    "duration": 18,
    "start_time": "2022-12-16T19:05:07.817Z"
   },
   {
    "duration": 3,
    "start_time": "2022-12-16T19:05:07.836Z"
   },
   {
    "duration": 9,
    "start_time": "2022-12-16T19:05:07.841Z"
   },
   {
    "duration": 171,
    "start_time": "2022-12-16T19:05:07.852Z"
   },
   {
    "duration": 19,
    "start_time": "2022-12-16T19:05:08.024Z"
   },
   {
    "duration": 43,
    "start_time": "2022-12-16T19:05:20.816Z"
   },
   {
    "duration": 1129,
    "start_time": "2022-12-16T19:06:27.647Z"
   },
   {
    "duration": 542,
    "start_time": "2022-12-16T19:06:28.778Z"
   },
   {
    "duration": 27,
    "start_time": "2022-12-16T19:06:29.321Z"
   },
   {
    "duration": 4,
    "start_time": "2022-12-16T19:06:29.350Z"
   },
   {
    "duration": 402,
    "start_time": "2022-12-16T19:06:29.357Z"
   },
   {
    "duration": 36,
    "start_time": "2022-12-16T19:06:29.761Z"
   },
   {
    "duration": 102,
    "start_time": "2022-12-16T19:06:29.799Z"
   },
   {
    "duration": 19,
    "start_time": "2022-12-16T19:06:29.902Z"
   },
   {
    "duration": 8,
    "start_time": "2022-12-16T19:06:29.922Z"
   },
   {
    "duration": 85,
    "start_time": "2022-12-16T19:06:29.932Z"
   },
   {
    "duration": 13,
    "start_time": "2022-12-16T19:06:30.018Z"
   },
   {
    "duration": 37,
    "start_time": "2022-12-16T19:06:30.033Z"
   },
   {
    "duration": 17,
    "start_time": "2022-12-16T19:06:30.072Z"
   },
   {
    "duration": 21,
    "start_time": "2022-12-16T19:06:30.096Z"
   },
   {
    "duration": 205,
    "start_time": "2022-12-16T19:06:30.119Z"
   },
   {
    "duration": 37,
    "start_time": "2022-12-16T19:06:30.326Z"
   },
   {
    "duration": 71,
    "start_time": "2022-12-16T19:06:30.365Z"
   },
   {
    "duration": 8,
    "start_time": "2022-12-16T19:06:30.438Z"
   },
   {
    "duration": 45,
    "start_time": "2022-12-16T19:06:30.447Z"
   },
   {
    "duration": 191,
    "start_time": "2022-12-16T19:06:30.493Z"
   },
   {
    "duration": 18,
    "start_time": "2022-12-16T19:06:30.685Z"
   },
   {
    "duration": 33,
    "start_time": "2022-12-16T19:06:30.704Z"
   },
   {
    "duration": 507,
    "start_time": "2022-12-16T19:06:30.738Z"
   },
   {
    "duration": 22,
    "start_time": "2022-12-16T19:06:31.247Z"
   },
   {
    "duration": 27,
    "start_time": "2022-12-16T19:06:31.270Z"
   },
   {
    "duration": 16,
    "start_time": "2022-12-16T19:06:31.298Z"
   },
   {
    "duration": 27,
    "start_time": "2022-12-16T19:06:31.315Z"
   },
   {
    "duration": 5,
    "start_time": "2022-12-16T19:06:31.343Z"
   },
   {
    "duration": 23,
    "start_time": "2022-12-16T19:06:31.350Z"
   },
   {
    "duration": 6,
    "start_time": "2022-12-16T19:06:31.375Z"
   },
   {
    "duration": 36,
    "start_time": "2022-12-16T19:06:31.382Z"
   },
   {
    "duration": 145,
    "start_time": "2022-12-16T19:06:31.420Z"
   },
   {
    "duration": 19,
    "start_time": "2022-12-16T19:06:31.566Z"
   },
   {
    "duration": 104,
    "start_time": "2022-12-16T19:18:08.638Z"
   },
   {
    "duration": 13,
    "start_time": "2022-12-16T19:18:10.623Z"
   },
   {
    "duration": 10,
    "start_time": "2022-12-16T19:18:11.563Z"
   },
   {
    "duration": 12,
    "start_time": "2022-12-16T19:18:26.901Z"
   },
   {
    "duration": 16,
    "start_time": "2022-12-16T19:18:48.430Z"
   },
   {
    "duration": 19,
    "start_time": "2022-12-16T19:19:16.624Z"
   },
   {
    "duration": 16,
    "start_time": "2022-12-16T19:21:46.007Z"
   },
   {
    "duration": 19,
    "start_time": "2022-12-16T19:21:53.842Z"
   },
   {
    "duration": 11,
    "start_time": "2022-12-16T19:21:58.972Z"
   },
   {
    "duration": 16,
    "start_time": "2022-12-16T19:22:42.778Z"
   },
   {
    "duration": 301,
    "start_time": "2022-12-16T19:23:05.970Z"
   },
   {
    "duration": 10,
    "start_time": "2022-12-16T19:23:36.340Z"
   },
   {
    "duration": 15,
    "start_time": "2022-12-16T19:23:53.211Z"
   },
   {
    "duration": 15,
    "start_time": "2022-12-16T19:25:51.779Z"
   },
   {
    "duration": 13,
    "start_time": "2022-12-16T19:26:04.114Z"
   },
   {
    "duration": 11,
    "start_time": "2022-12-16T19:26:26.804Z"
   },
   {
    "duration": 13,
    "start_time": "2022-12-16T19:27:44.074Z"
   },
   {
    "duration": 12,
    "start_time": "2022-12-16T19:27:58.135Z"
   },
   {
    "duration": 13,
    "start_time": "2022-12-16T19:28:17.226Z"
   },
   {
    "duration": 9,
    "start_time": "2022-12-16T19:28:42.275Z"
   },
   {
    "duration": 7,
    "start_time": "2022-12-16T19:29:13.182Z"
   },
   {
    "duration": 13,
    "start_time": "2022-12-16T19:29:27.392Z"
   },
   {
    "duration": 10,
    "start_time": "2022-12-16T19:33:28.674Z"
   },
   {
    "duration": 30,
    "start_time": "2022-12-16T19:34:37.283Z"
   },
   {
    "duration": 10,
    "start_time": "2022-12-16T19:34:50.067Z"
   },
   {
    "duration": 15,
    "start_time": "2022-12-16T20:09:18.410Z"
   },
   {
    "duration": 18,
    "start_time": "2022-12-16T20:09:23.773Z"
   },
   {
    "duration": 25,
    "start_time": "2022-12-16T20:10:38.400Z"
   },
   {
    "duration": 29,
    "start_time": "2022-12-16T20:10:43.555Z"
   },
   {
    "duration": 24,
    "start_time": "2022-12-16T20:12:42.957Z"
   },
   {
    "duration": 11,
    "start_time": "2022-12-16T20:13:55.146Z"
   },
   {
    "duration": 3607,
    "start_time": "2022-12-16T20:14:26.619Z"
   },
   {
    "duration": 309,
    "start_time": "2022-12-16T20:14:31.451Z"
   },
   {
    "duration": 31,
    "start_time": "2022-12-16T20:14:54.197Z"
   },
   {
    "duration": 73,
    "start_time": "2022-12-16T20:15:37.583Z"
   },
   {
    "duration": 34,
    "start_time": "2022-12-16T20:16:58.390Z"
   },
   {
    "duration": 25,
    "start_time": "2022-12-16T20:17:15.486Z"
   },
   {
    "duration": 48,
    "start_time": "2022-12-16T20:17:18.086Z"
   },
   {
    "duration": 2100,
    "start_time": "2022-12-16T20:18:05.852Z"
   },
   {
    "duration": 1226,
    "start_time": "2022-12-16T20:18:07.954Z"
   },
   {
    "duration": 557,
    "start_time": "2022-12-16T20:18:09.182Z"
   },
   {
    "duration": 27,
    "start_time": "2022-12-16T20:18:09.740Z"
   },
   {
    "duration": 4,
    "start_time": "2022-12-16T20:18:09.769Z"
   },
   {
    "duration": 401,
    "start_time": "2022-12-16T20:18:09.774Z"
   },
   {
    "duration": 36,
    "start_time": "2022-12-16T20:18:10.176Z"
   },
   {
    "duration": 104,
    "start_time": "2022-12-16T20:18:10.213Z"
   },
   {
    "duration": 20,
    "start_time": "2022-12-16T20:18:10.319Z"
   },
   {
    "duration": 6,
    "start_time": "2022-12-16T20:18:10.341Z"
   },
   {
    "duration": 83,
    "start_time": "2022-12-16T20:18:10.348Z"
   },
   {
    "duration": 12,
    "start_time": "2022-12-16T20:18:10.432Z"
   },
   {
    "duration": 28,
    "start_time": "2022-12-16T20:18:10.445Z"
   },
   {
    "duration": 6,
    "start_time": "2022-12-16T20:18:10.495Z"
   },
   {
    "duration": 10,
    "start_time": "2022-12-16T20:18:10.503Z"
   },
   {
    "duration": 174,
    "start_time": "2022-12-16T20:18:10.514Z"
   },
   {
    "duration": 31,
    "start_time": "2022-12-16T20:18:10.690Z"
   },
   {
    "duration": 40,
    "start_time": "2022-12-16T20:18:10.723Z"
   },
   {
    "duration": 7,
    "start_time": "2022-12-16T20:18:10.764Z"
   },
   {
    "duration": 30,
    "start_time": "2022-12-16T20:18:10.773Z"
   },
   {
    "duration": 162,
    "start_time": "2022-12-16T20:18:10.804Z"
   },
   {
    "duration": 4,
    "start_time": "2022-12-16T20:18:10.967Z"
   },
   {
    "duration": 14,
    "start_time": "2022-12-16T20:18:10.973Z"
   },
   {
    "duration": 15,
    "start_time": "2022-12-16T20:18:10.996Z"
   },
   {
    "duration": 10,
    "start_time": "2022-12-16T20:18:11.012Z"
   },
   {
    "duration": 13,
    "start_time": "2022-12-16T20:18:11.023Z"
   },
   {
    "duration": 10,
    "start_time": "2022-12-16T20:18:11.037Z"
   },
   {
    "duration": 51,
    "start_time": "2022-12-16T20:18:11.049Z"
   },
   {
    "duration": 178,
    "start_time": "2022-12-16T20:18:11.101Z"
   },
   {
    "duration": 16,
    "start_time": "2022-12-16T20:18:11.280Z"
   },
   {
    "duration": 16,
    "start_time": "2022-12-16T20:18:11.298Z"
   },
   {
    "duration": 23,
    "start_time": "2022-12-16T20:18:11.315Z"
   },
   {
    "duration": 5,
    "start_time": "2022-12-16T20:18:11.340Z"
   },
   {
    "duration": 4,
    "start_time": "2022-12-16T20:18:11.347Z"
   },
   {
    "duration": 9,
    "start_time": "2022-12-16T20:18:11.352Z"
   },
   {
    "duration": 41,
    "start_time": "2022-12-16T20:18:11.362Z"
   },
   {
    "duration": 17,
    "start_time": "2022-12-16T20:18:11.405Z"
   },
   {
    "duration": 152,
    "start_time": "2022-12-16T20:18:59.269Z"
   },
   {
    "duration": 29,
    "start_time": "2022-12-16T20:19:07.445Z"
   },
   {
    "duration": 22,
    "start_time": "2022-12-16T20:19:14.485Z"
   },
   {
    "duration": 121,
    "start_time": "2022-12-16T20:19:15.264Z"
   },
   {
    "duration": 25,
    "start_time": "2022-12-16T20:19:43.438Z"
   },
   {
    "duration": 50,
    "start_time": "2022-12-16T20:19:44.505Z"
   },
   {
    "duration": 45,
    "start_time": "2022-12-16T20:19:57.048Z"
   },
   {
    "duration": 24,
    "start_time": "2022-12-16T20:21:12.921Z"
   },
   {
    "duration": 41,
    "start_time": "2022-12-16T20:21:13.518Z"
   },
   {
    "duration": 9,
    "start_time": "2022-12-16T20:22:00.422Z"
   },
   {
    "duration": 18,
    "start_time": "2022-12-16T20:22:01.139Z"
   },
   {
    "duration": 9,
    "start_time": "2022-12-16T20:22:13.567Z"
   },
   {
    "duration": 18,
    "start_time": "2022-12-16T20:22:14.151Z"
   },
   {
    "duration": 23,
    "start_time": "2022-12-16T20:22:37.654Z"
   },
   {
    "duration": 6,
    "start_time": "2022-12-16T20:22:38.292Z"
   },
   {
    "duration": 3,
    "start_time": "2022-12-16T20:23:15.522Z"
   },
   {
    "duration": 8,
    "start_time": "2022-12-16T20:23:48.575Z"
   },
   {
    "duration": 12,
    "start_time": "2022-12-16T20:23:53.135Z"
   },
   {
    "duration": 21,
    "start_time": "2022-12-16T20:24:00.307Z"
   },
   {
    "duration": 8,
    "start_time": "2022-12-16T20:28:42.648Z"
   },
   {
    "duration": 10,
    "start_time": "2022-12-16T20:28:43.113Z"
   },
   {
    "duration": 21,
    "start_time": "2022-12-16T20:29:06.700Z"
   },
   {
    "duration": 19,
    "start_time": "2022-12-16T20:29:28.886Z"
   },
   {
    "duration": 19,
    "start_time": "2022-12-16T20:33:29.112Z"
   },
   {
    "duration": 52,
    "start_time": "2022-12-16T20:44:31.033Z"
   },
   {
    "duration": 28,
    "start_time": "2022-12-16T20:44:35.794Z"
   },
   {
    "duration": 18,
    "start_time": "2022-12-16T20:45:23.842Z"
   },
   {
    "duration": 24,
    "start_time": "2022-12-16T20:45:33.534Z"
   },
   {
    "duration": 29,
    "start_time": "2022-12-16T20:45:52.429Z"
   },
   {
    "duration": 23,
    "start_time": "2022-12-16T20:46:30.712Z"
   },
   {
    "duration": 3,
    "start_time": "2022-12-16T20:47:58.715Z"
   },
   {
    "duration": 18,
    "start_time": "2022-12-16T20:48:03.137Z"
   },
   {
    "duration": 23,
    "start_time": "2022-12-16T20:53:47.913Z"
   },
   {
    "duration": 447,
    "start_time": "2022-12-16T20:53:58.653Z"
   },
   {
    "duration": 502,
    "start_time": "2022-12-16T20:54:49.850Z"
   },
   {
    "duration": 2191,
    "start_time": "2022-12-16T20:55:01.235Z"
   },
   {
    "duration": 1282,
    "start_time": "2022-12-16T20:55:03.429Z"
   },
   {
    "duration": 598,
    "start_time": "2022-12-16T20:55:04.712Z"
   },
   {
    "duration": 29,
    "start_time": "2022-12-16T20:55:05.312Z"
   },
   {
    "duration": 4,
    "start_time": "2022-12-16T20:55:05.343Z"
   },
   {
    "duration": 419,
    "start_time": "2022-12-16T20:55:05.348Z"
   },
   {
    "duration": 38,
    "start_time": "2022-12-16T20:55:05.769Z"
   },
   {
    "duration": 102,
    "start_time": "2022-12-16T20:55:05.809Z"
   },
   {
    "duration": 49,
    "start_time": "2022-12-16T20:55:05.913Z"
   },
   {
    "duration": 26,
    "start_time": "2022-12-16T20:55:05.965Z"
   },
   {
    "duration": 91,
    "start_time": "2022-12-16T20:55:05.993Z"
   },
   {
    "duration": 12,
    "start_time": "2022-12-16T20:55:06.086Z"
   },
   {
    "duration": 42,
    "start_time": "2022-12-16T20:55:06.100Z"
   },
   {
    "duration": 16,
    "start_time": "2022-12-16T20:55:06.144Z"
   },
   {
    "duration": 22,
    "start_time": "2022-12-16T20:55:06.162Z"
   },
   {
    "duration": 205,
    "start_time": "2022-12-16T20:55:06.186Z"
   },
   {
    "duration": 50,
    "start_time": "2022-12-16T20:55:06.392Z"
   },
   {
    "duration": 57,
    "start_time": "2022-12-16T20:55:06.444Z"
   },
   {
    "duration": 7,
    "start_time": "2022-12-16T20:55:06.502Z"
   },
   {
    "duration": 15,
    "start_time": "2022-12-16T20:55:06.510Z"
   },
   {
    "duration": 178,
    "start_time": "2022-12-16T20:55:06.527Z"
   },
   {
    "duration": 440,
    "start_time": "2022-12-16T20:55:06.707Z"
   },
   {
    "duration": 5,
    "start_time": "2022-12-16T20:55:07.149Z"
   },
   {
    "duration": 16,
    "start_time": "2022-12-16T20:55:07.156Z"
   },
   {
    "duration": 35,
    "start_time": "2022-12-16T20:55:07.174Z"
   },
   {
    "duration": 10,
    "start_time": "2022-12-16T20:55:07.210Z"
   },
   {
    "duration": 14,
    "start_time": "2022-12-16T20:55:07.222Z"
   },
   {
    "duration": 12,
    "start_time": "2022-12-16T20:55:07.239Z"
   },
   {
    "duration": 55,
    "start_time": "2022-12-16T20:55:07.252Z"
   },
   {
    "duration": 194,
    "start_time": "2022-12-16T20:55:07.309Z"
   },
   {
    "duration": 14,
    "start_time": "2022-12-16T20:55:07.505Z"
   },
   {
    "duration": 23,
    "start_time": "2022-12-16T20:55:07.521Z"
   },
   {
    "duration": 27,
    "start_time": "2022-12-16T20:55:07.546Z"
   },
   {
    "duration": 28,
    "start_time": "2022-12-16T20:55:07.574Z"
   },
   {
    "duration": 7,
    "start_time": "2022-12-16T20:55:07.603Z"
   },
   {
    "duration": 13,
    "start_time": "2022-12-16T20:55:07.611Z"
   },
   {
    "duration": 14,
    "start_time": "2022-12-16T20:55:07.625Z"
   },
   {
    "duration": 18,
    "start_time": "2022-12-16T20:55:07.641Z"
   },
   {
    "duration": 43,
    "start_time": "2022-12-16T20:55:07.661Z"
   },
   {
    "duration": 22,
    "start_time": "2022-12-16T20:55:07.705Z"
   },
   {
    "duration": 171,
    "start_time": "2022-12-16T20:55:07.729Z"
   },
   {
    "duration": 458,
    "start_time": "2022-12-16T20:55:48.782Z"
   },
   {
    "duration": 602,
    "start_time": "2022-12-16T20:57:44.549Z"
   },
   {
    "duration": 101,
    "start_time": "2022-12-16T20:58:06.045Z"
   },
   {
    "duration": 13,
    "start_time": "2022-12-16T20:58:35.346Z"
   },
   {
    "duration": 13,
    "start_time": "2022-12-16T20:58:46.640Z"
   },
   {
    "duration": 31,
    "start_time": "2022-12-16T20:59:05.949Z"
   },
   {
    "duration": 2125,
    "start_time": "2022-12-16T20:59:19.593Z"
   },
   {
    "duration": 1251,
    "start_time": "2022-12-16T20:59:21.720Z"
   },
   {
    "duration": 570,
    "start_time": "2022-12-16T20:59:22.973Z"
   },
   {
    "duration": 29,
    "start_time": "2022-12-16T20:59:23.545Z"
   },
   {
    "duration": 4,
    "start_time": "2022-12-16T20:59:23.576Z"
   },
   {
    "duration": 384,
    "start_time": "2022-12-16T20:59:23.581Z"
   },
   {
    "duration": 32,
    "start_time": "2022-12-16T20:59:23.967Z"
   },
   {
    "duration": 104,
    "start_time": "2022-12-16T20:59:24.000Z"
   },
   {
    "duration": 17,
    "start_time": "2022-12-16T20:59:24.105Z"
   },
   {
    "duration": 5,
    "start_time": "2022-12-16T20:59:24.124Z"
   },
   {
    "duration": 86,
    "start_time": "2022-12-16T20:59:24.130Z"
   },
   {
    "duration": 11,
    "start_time": "2022-12-16T20:59:24.218Z"
   },
   {
    "duration": 24,
    "start_time": "2022-12-16T20:59:24.231Z"
   },
   {
    "duration": 5,
    "start_time": "2022-12-16T20:59:24.258Z"
   },
   {
    "duration": 32,
    "start_time": "2022-12-16T20:59:24.265Z"
   },
   {
    "duration": 171,
    "start_time": "2022-12-16T20:59:24.299Z"
   },
   {
    "duration": 49,
    "start_time": "2022-12-16T20:59:24.471Z"
   },
   {
    "duration": 44,
    "start_time": "2022-12-16T20:59:24.522Z"
   },
   {
    "duration": 6,
    "start_time": "2022-12-16T20:59:24.567Z"
   },
   {
    "duration": 24,
    "start_time": "2022-12-16T20:59:24.575Z"
   },
   {
    "duration": 152,
    "start_time": "2022-12-16T20:59:24.601Z"
   },
   {
    "duration": 19,
    "start_time": "2022-12-16T20:59:24.755Z"
   },
   {
    "duration": 50,
    "start_time": "2022-12-16T20:59:24.775Z"
   },
   {
    "duration": 4,
    "start_time": "2022-12-16T20:59:24.826Z"
   },
   {
    "duration": 15,
    "start_time": "2022-12-16T20:59:24.832Z"
   },
   {
    "duration": 21,
    "start_time": "2022-12-16T20:59:24.849Z"
   },
   {
    "duration": 33,
    "start_time": "2022-12-16T20:59:24.871Z"
   },
   {
    "duration": 15,
    "start_time": "2022-12-16T20:59:24.906Z"
   },
   {
    "duration": 12,
    "start_time": "2022-12-16T20:59:24.922Z"
   },
   {
    "duration": 26,
    "start_time": "2022-12-16T20:59:24.935Z"
   },
   {
    "duration": 194,
    "start_time": "2022-12-16T20:59:24.962Z"
   },
   {
    "duration": 10,
    "start_time": "2022-12-16T20:59:25.158Z"
   },
   {
    "duration": 28,
    "start_time": "2022-12-16T20:59:25.169Z"
   },
   {
    "duration": 24,
    "start_time": "2022-12-16T20:59:25.199Z"
   },
   {
    "duration": 5,
    "start_time": "2022-12-16T20:59:25.225Z"
   },
   {
    "duration": 19,
    "start_time": "2022-12-16T20:59:25.231Z"
   },
   {
    "duration": 20,
    "start_time": "2022-12-16T20:59:25.251Z"
   },
   {
    "duration": 18,
    "start_time": "2022-12-16T20:59:25.272Z"
   },
   {
    "duration": 19,
    "start_time": "2022-12-16T20:59:25.292Z"
   },
   {
    "duration": 15,
    "start_time": "2022-12-16T20:59:25.312Z"
   },
   {
    "duration": 25,
    "start_time": "2022-12-16T20:59:25.330Z"
   },
   {
    "duration": 268,
    "start_time": "2022-12-16T20:59:25.357Z"
   },
   {
    "duration": 14,
    "start_time": "2022-12-16T20:59:45.597Z"
   },
   {
    "duration": 2081,
    "start_time": "2022-12-16T21:01:27.178Z"
   },
   {
    "duration": 1260,
    "start_time": "2022-12-16T21:01:29.261Z"
   },
   {
    "duration": 592,
    "start_time": "2022-12-16T21:01:30.523Z"
   },
   {
    "duration": 28,
    "start_time": "2022-12-16T21:01:31.117Z"
   },
   {
    "duration": 23,
    "start_time": "2022-12-16T21:01:31.147Z"
   },
   {
    "duration": 400,
    "start_time": "2022-12-16T21:01:31.172Z"
   },
   {
    "duration": 35,
    "start_time": "2022-12-16T21:01:31.574Z"
   },
   {
    "duration": 101,
    "start_time": "2022-12-16T21:01:31.611Z"
   },
   {
    "duration": 19,
    "start_time": "2022-12-16T21:01:31.713Z"
   },
   {
    "duration": 8,
    "start_time": "2022-12-16T21:01:31.735Z"
   },
   {
    "duration": 85,
    "start_time": "2022-12-16T21:01:31.745Z"
   },
   {
    "duration": 13,
    "start_time": "2022-12-16T21:01:31.831Z"
   },
   {
    "duration": 25,
    "start_time": "2022-12-16T21:01:31.846Z"
   },
   {
    "duration": 6,
    "start_time": "2022-12-16T21:01:31.896Z"
   },
   {
    "duration": 15,
    "start_time": "2022-12-16T21:01:31.903Z"
   },
   {
    "duration": 197,
    "start_time": "2022-12-16T21:01:31.919Z"
   },
   {
    "duration": 34,
    "start_time": "2022-12-16T21:01:32.118Z"
   },
   {
    "duration": 61,
    "start_time": "2022-12-16T21:01:32.153Z"
   },
   {
    "duration": 8,
    "start_time": "2022-12-16T21:01:32.216Z"
   },
   {
    "duration": 11,
    "start_time": "2022-12-16T21:01:32.225Z"
   },
   {
    "duration": 182,
    "start_time": "2022-12-16T21:01:32.238Z"
   },
   {
    "duration": 50,
    "start_time": "2022-12-16T21:01:32.422Z"
   },
   {
    "duration": 0,
    "start_time": "2022-12-16T21:01:32.474Z"
   },
   {
    "duration": 0,
    "start_time": "2022-12-16T21:01:32.475Z"
   },
   {
    "duration": 0,
    "start_time": "2022-12-16T21:01:32.477Z"
   },
   {
    "duration": 0,
    "start_time": "2022-12-16T21:01:32.478Z"
   },
   {
    "duration": 0,
    "start_time": "2022-12-16T21:01:32.479Z"
   },
   {
    "duration": 0,
    "start_time": "2022-12-16T21:01:32.481Z"
   },
   {
    "duration": 0,
    "start_time": "2022-12-16T21:01:32.482Z"
   },
   {
    "duration": 0,
    "start_time": "2022-12-16T21:01:32.483Z"
   },
   {
    "duration": 0,
    "start_time": "2022-12-16T21:01:32.484Z"
   },
   {
    "duration": 0,
    "start_time": "2022-12-16T21:01:32.485Z"
   },
   {
    "duration": 0,
    "start_time": "2022-12-16T21:01:32.486Z"
   },
   {
    "duration": 0,
    "start_time": "2022-12-16T21:01:32.487Z"
   },
   {
    "duration": 0,
    "start_time": "2022-12-16T21:01:32.488Z"
   },
   {
    "duration": 0,
    "start_time": "2022-12-16T21:01:32.489Z"
   },
   {
    "duration": 0,
    "start_time": "2022-12-16T21:01:32.490Z"
   },
   {
    "duration": 0,
    "start_time": "2022-12-16T21:01:32.491Z"
   },
   {
    "duration": 0,
    "start_time": "2022-12-16T21:01:32.492Z"
   },
   {
    "duration": 0,
    "start_time": "2022-12-16T21:01:32.493Z"
   },
   {
    "duration": 0,
    "start_time": "2022-12-16T21:01:32.494Z"
   },
   {
    "duration": 0,
    "start_time": "2022-12-16T21:01:32.495Z"
   },
   {
    "duration": 17,
    "start_time": "2022-12-16T21:01:46.083Z"
   },
   {
    "duration": 42,
    "start_time": "2022-12-16T21:01:59.831Z"
   },
   {
    "duration": 797,
    "start_time": "2022-12-16T21:02:10.229Z"
   },
   {
    "duration": 142,
    "start_time": "2022-12-16T21:02:39.104Z"
   },
   {
    "duration": 26,
    "start_time": "2022-12-16T21:02:39.737Z"
   },
   {
    "duration": 22,
    "start_time": "2022-12-16T21:02:48.266Z"
   },
   {
    "duration": 720,
    "start_time": "2022-12-16T21:03:11.316Z"
   },
   {
    "duration": 30,
    "start_time": "2022-12-16T21:03:12.157Z"
   },
   {
    "duration": 153,
    "start_time": "2022-12-16T21:03:19.009Z"
   },
   {
    "duration": 25,
    "start_time": "2022-12-16T21:03:19.402Z"
   },
   {
    "duration": 748,
    "start_time": "2022-12-16T21:04:25.538Z"
   },
   {
    "duration": 21,
    "start_time": "2022-12-16T21:04:26.470Z"
   },
   {
    "duration": 2080,
    "start_time": "2022-12-16T21:04:38.709Z"
   },
   {
    "duration": 1271,
    "start_time": "2022-12-16T21:04:40.791Z"
   },
   {
    "duration": 552,
    "start_time": "2022-12-16T21:04:42.063Z"
   },
   {
    "duration": 27,
    "start_time": "2022-12-16T21:04:42.616Z"
   },
   {
    "duration": 3,
    "start_time": "2022-12-16T21:04:42.645Z"
   },
   {
    "duration": 372,
    "start_time": "2022-12-16T21:04:42.650Z"
   },
   {
    "duration": 26,
    "start_time": "2022-12-16T21:04:43.023Z"
   },
   {
    "duration": 94,
    "start_time": "2022-12-16T21:04:43.050Z"
   },
   {
    "duration": 18,
    "start_time": "2022-12-16T21:04:43.146Z"
   },
   {
    "duration": 4,
    "start_time": "2022-12-16T21:04:43.165Z"
   },
   {
    "duration": 76,
    "start_time": "2022-12-16T21:04:43.171Z"
   },
   {
    "duration": 12,
    "start_time": "2022-12-16T21:04:43.249Z"
   },
   {
    "duration": 44,
    "start_time": "2022-12-16T21:04:43.263Z"
   },
   {
    "duration": 5,
    "start_time": "2022-12-16T21:04:43.312Z"
   },
   {
    "duration": 14,
    "start_time": "2022-12-16T21:04:43.319Z"
   },
   {
    "duration": 178,
    "start_time": "2022-12-16T21:04:43.335Z"
   },
   {
    "duration": 30,
    "start_time": "2022-12-16T21:04:43.515Z"
   },
   {
    "duration": 53,
    "start_time": "2022-12-16T21:04:43.547Z"
   },
   {
    "duration": 5,
    "start_time": "2022-12-16T21:04:43.602Z"
   },
   {
    "duration": 9,
    "start_time": "2022-12-16T21:04:43.609Z"
   },
   {
    "duration": 152,
    "start_time": "2022-12-16T21:04:43.619Z"
   },
   {
    "duration": 134,
    "start_time": "2022-12-16T21:04:43.773Z"
   },
   {
    "duration": 0,
    "start_time": "2022-12-16T21:04:43.908Z"
   },
   {
    "duration": 0,
    "start_time": "2022-12-16T21:04:43.910Z"
   },
   {
    "duration": 0,
    "start_time": "2022-12-16T21:04:43.911Z"
   },
   {
    "duration": 0,
    "start_time": "2022-12-16T21:04:43.912Z"
   },
   {
    "duration": 0,
    "start_time": "2022-12-16T21:04:43.913Z"
   },
   {
    "duration": 0,
    "start_time": "2022-12-16T21:04:43.914Z"
   },
   {
    "duration": 0,
    "start_time": "2022-12-16T21:04:43.915Z"
   },
   {
    "duration": 0,
    "start_time": "2022-12-16T21:04:43.917Z"
   },
   {
    "duration": 0,
    "start_time": "2022-12-16T21:04:43.918Z"
   },
   {
    "duration": 0,
    "start_time": "2022-12-16T21:04:43.919Z"
   },
   {
    "duration": 0,
    "start_time": "2022-12-16T21:04:43.920Z"
   },
   {
    "duration": 0,
    "start_time": "2022-12-16T21:04:43.922Z"
   },
   {
    "duration": 0,
    "start_time": "2022-12-16T21:04:43.923Z"
   },
   {
    "duration": 0,
    "start_time": "2022-12-16T21:04:43.924Z"
   },
   {
    "duration": 0,
    "start_time": "2022-12-16T21:04:43.924Z"
   },
   {
    "duration": 0,
    "start_time": "2022-12-16T21:04:43.926Z"
   },
   {
    "duration": 0,
    "start_time": "2022-12-16T21:04:43.927Z"
   },
   {
    "duration": 0,
    "start_time": "2022-12-16T21:04:43.928Z"
   },
   {
    "duration": 0,
    "start_time": "2022-12-16T21:04:43.930Z"
   },
   {
    "duration": 0,
    "start_time": "2022-12-16T21:04:43.931Z"
   },
   {
    "duration": 2093,
    "start_time": "2022-12-16T21:05:22.795Z"
   },
   {
    "duration": 1289,
    "start_time": "2022-12-16T21:05:24.890Z"
   },
   {
    "duration": 625,
    "start_time": "2022-12-16T21:05:26.181Z"
   },
   {
    "duration": 29,
    "start_time": "2022-12-16T21:05:26.809Z"
   },
   {
    "duration": 4,
    "start_time": "2022-12-16T21:05:26.840Z"
   },
   {
    "duration": 393,
    "start_time": "2022-12-16T21:05:26.845Z"
   },
   {
    "duration": 25,
    "start_time": "2022-12-16T21:05:27.240Z"
   },
   {
    "duration": 101,
    "start_time": "2022-12-16T21:05:27.267Z"
   },
   {
    "duration": 27,
    "start_time": "2022-12-16T21:05:27.369Z"
   },
   {
    "duration": 5,
    "start_time": "2022-12-16T21:05:27.398Z"
   },
   {
    "duration": 74,
    "start_time": "2022-12-16T21:05:27.404Z"
   },
   {
    "duration": 11,
    "start_time": "2022-12-16T21:05:27.479Z"
   },
   {
    "duration": 23,
    "start_time": "2022-12-16T21:05:27.496Z"
   },
   {
    "duration": 4,
    "start_time": "2022-12-16T21:05:27.521Z"
   },
   {
    "duration": 17,
    "start_time": "2022-12-16T21:05:27.527Z"
   },
   {
    "duration": 192,
    "start_time": "2022-12-16T21:05:27.546Z"
   },
   {
    "duration": 46,
    "start_time": "2022-12-16T21:05:27.740Z"
   },
   {
    "duration": 47,
    "start_time": "2022-12-16T21:05:27.796Z"
   },
   {
    "duration": 6,
    "start_time": "2022-12-16T21:05:27.845Z"
   },
   {
    "duration": 10,
    "start_time": "2022-12-16T21:05:27.853Z"
   },
   {
    "duration": 177,
    "start_time": "2022-12-16T21:05:27.864Z"
   },
   {
    "duration": 26,
    "start_time": "2022-12-16T21:05:28.043Z"
   },
   {
    "duration": 36,
    "start_time": "2022-12-16T21:05:28.070Z"
   },
   {
    "duration": 25,
    "start_time": "2022-12-16T21:05:28.107Z"
   },
   {
    "duration": 33,
    "start_time": "2022-12-16T21:05:28.134Z"
   },
   {
    "duration": 32,
    "start_time": "2022-12-16T21:05:28.169Z"
   },
   {
    "duration": 10,
    "start_time": "2022-12-16T21:05:28.203Z"
   },
   {
    "duration": 12,
    "start_time": "2022-12-16T21:05:28.218Z"
   },
   {
    "duration": 11,
    "start_time": "2022-12-16T21:05:28.232Z"
   },
   {
    "duration": 51,
    "start_time": "2022-12-16T21:05:28.245Z"
   },
   {
    "duration": 205,
    "start_time": "2022-12-16T21:05:28.298Z"
   },
   {
    "duration": 10,
    "start_time": "2022-12-16T21:05:28.505Z"
   },
   {
    "duration": 18,
    "start_time": "2022-12-16T21:05:28.517Z"
   },
   {
    "duration": 31,
    "start_time": "2022-12-16T21:05:28.536Z"
   },
   {
    "duration": 6,
    "start_time": "2022-12-16T21:05:28.568Z"
   },
   {
    "duration": 27,
    "start_time": "2022-12-16T21:05:28.576Z"
   },
   {
    "duration": 26,
    "start_time": "2022-12-16T21:05:28.604Z"
   },
   {
    "duration": 14,
    "start_time": "2022-12-16T21:05:28.632Z"
   },
   {
    "duration": 18,
    "start_time": "2022-12-16T21:05:28.647Z"
   },
   {
    "duration": 22,
    "start_time": "2022-12-16T21:05:28.667Z"
   },
   {
    "duration": 22,
    "start_time": "2022-12-16T21:05:28.690Z"
   },
   {
    "duration": 172,
    "start_time": "2022-12-16T21:05:28.714Z"
   },
   {
    "duration": 786,
    "start_time": "2022-12-16T21:06:08.362Z"
   },
   {
    "duration": 2178,
    "start_time": "2022-12-16T21:06:15.688Z"
   },
   {
    "duration": 1319,
    "start_time": "2022-12-16T21:06:17.868Z"
   },
   {
    "duration": 580,
    "start_time": "2022-12-16T21:06:19.188Z"
   },
   {
    "duration": 28,
    "start_time": "2022-12-16T21:06:19.770Z"
   },
   {
    "duration": 7,
    "start_time": "2022-12-16T21:06:19.800Z"
   },
   {
    "duration": 412,
    "start_time": "2022-12-16T21:06:19.809Z"
   },
   {
    "duration": 26,
    "start_time": "2022-12-16T21:06:20.223Z"
   },
   {
    "duration": 123,
    "start_time": "2022-12-16T21:06:20.250Z"
   },
   {
    "duration": 27,
    "start_time": "2022-12-16T21:06:20.375Z"
   },
   {
    "duration": 14,
    "start_time": "2022-12-16T21:06:20.404Z"
   },
   {
    "duration": 58,
    "start_time": "2022-12-16T21:06:20.420Z"
   },
   {
    "duration": 20,
    "start_time": "2022-12-16T21:06:20.480Z"
   },
   {
    "duration": 26,
    "start_time": "2022-12-16T21:06:20.502Z"
   },
   {
    "duration": 6,
    "start_time": "2022-12-16T21:06:20.530Z"
   },
   {
    "duration": 18,
    "start_time": "2022-12-16T21:06:20.538Z"
   },
   {
    "duration": 203,
    "start_time": "2022-12-16T21:06:20.557Z"
   },
   {
    "duration": 43,
    "start_time": "2022-12-16T21:06:20.762Z"
   },
   {
    "duration": 38,
    "start_time": "2022-12-16T21:06:20.807Z"
   },
   {
    "duration": 7,
    "start_time": "2022-12-16T21:06:20.847Z"
   },
   {
    "duration": 9,
    "start_time": "2022-12-16T21:06:20.855Z"
   },
   {
    "duration": 174,
    "start_time": "2022-12-16T21:06:20.866Z"
   },
   {
    "duration": 32,
    "start_time": "2022-12-16T21:06:21.042Z"
   },
   {
    "duration": 36,
    "start_time": "2022-12-16T21:06:21.076Z"
   },
   {
    "duration": 5,
    "start_time": "2022-12-16T21:06:21.114Z"
   },
   {
    "duration": 22,
    "start_time": "2022-12-16T21:06:21.121Z"
   },
   {
    "duration": 22,
    "start_time": "2022-12-16T21:06:21.145Z"
   },
   {
    "duration": 29,
    "start_time": "2022-12-16T21:06:21.169Z"
   },
   {
    "duration": 16,
    "start_time": "2022-12-16T21:06:21.201Z"
   },
   {
    "duration": 14,
    "start_time": "2022-12-16T21:06:21.218Z"
   },
   {
    "duration": 25,
    "start_time": "2022-12-16T21:06:21.233Z"
   },
   {
    "duration": 202,
    "start_time": "2022-12-16T21:06:21.259Z"
   },
   {
    "duration": 10,
    "start_time": "2022-12-16T21:06:21.463Z"
   },
   {
    "duration": 30,
    "start_time": "2022-12-16T21:06:21.475Z"
   },
   {
    "duration": 24,
    "start_time": "2022-12-16T21:06:21.507Z"
   },
   {
    "duration": 6,
    "start_time": "2022-12-16T21:06:21.533Z"
   },
   {
    "duration": 9,
    "start_time": "2022-12-16T21:06:21.541Z"
   },
   {
    "duration": 12,
    "start_time": "2022-12-16T21:06:21.552Z"
   },
   {
    "duration": 46,
    "start_time": "2022-12-16T21:06:21.566Z"
   },
   {
    "duration": 18,
    "start_time": "2022-12-16T21:06:21.614Z"
   },
   {
    "duration": 15,
    "start_time": "2022-12-16T21:06:21.634Z"
   },
   {
    "duration": 22,
    "start_time": "2022-12-16T21:06:21.651Z"
   },
   {
    "duration": 166,
    "start_time": "2022-12-16T21:06:21.696Z"
   },
   {
    "duration": 2215,
    "start_time": "2022-12-16T21:06:34.122Z"
   },
   {
    "duration": 1247,
    "start_time": "2022-12-16T21:06:36.339Z"
   },
   {
    "duration": 569,
    "start_time": "2022-12-16T21:06:37.587Z"
   },
   {
    "duration": 28,
    "start_time": "2022-12-16T21:06:38.157Z"
   },
   {
    "duration": 3,
    "start_time": "2022-12-16T21:06:38.187Z"
   },
   {
    "duration": 413,
    "start_time": "2022-12-16T21:06:38.192Z"
   },
   {
    "duration": 24,
    "start_time": "2022-12-16T21:06:38.607Z"
   },
   {
    "duration": 101,
    "start_time": "2022-12-16T21:06:38.632Z"
   },
   {
    "duration": 33,
    "start_time": "2022-12-16T21:06:38.734Z"
   },
   {
    "duration": 7,
    "start_time": "2022-12-16T21:06:38.769Z"
   },
   {
    "duration": 72,
    "start_time": "2022-12-16T21:06:38.778Z"
   },
   {
    "duration": 12,
    "start_time": "2022-12-16T21:06:38.852Z"
   },
   {
    "duration": 47,
    "start_time": "2022-12-16T21:06:38.865Z"
   },
   {
    "duration": 6,
    "start_time": "2022-12-16T21:06:38.916Z"
   },
   {
    "duration": 13,
    "start_time": "2022-12-16T21:06:38.924Z"
   },
   {
    "duration": 184,
    "start_time": "2022-12-16T21:06:38.939Z"
   },
   {
    "duration": 29,
    "start_time": "2022-12-16T21:06:39.125Z"
   },
   {
    "duration": 52,
    "start_time": "2022-12-16T21:06:39.156Z"
   },
   {
    "duration": 6,
    "start_time": "2022-12-16T21:06:39.209Z"
   },
   {
    "duration": 9,
    "start_time": "2022-12-16T21:06:39.216Z"
   },
   {
    "duration": 170,
    "start_time": "2022-12-16T21:06:39.226Z"
   },
   {
    "duration": 28,
    "start_time": "2022-12-16T21:06:39.397Z"
   },
   {
    "duration": 23,
    "start_time": "2022-12-16T21:06:39.426Z"
   },
   {
    "duration": 5,
    "start_time": "2022-12-16T21:06:39.451Z"
   },
   {
    "duration": 41,
    "start_time": "2022-12-16T21:06:39.458Z"
   },
   {
    "duration": 21,
    "start_time": "2022-12-16T21:06:39.501Z"
   },
   {
    "duration": 10,
    "start_time": "2022-12-16T21:06:39.523Z"
   },
   {
    "duration": 14,
    "start_time": "2022-12-16T21:06:39.534Z"
   },
   {
    "duration": 14,
    "start_time": "2022-12-16T21:06:39.549Z"
   },
   {
    "duration": 52,
    "start_time": "2022-12-16T21:06:39.564Z"
   },
   {
    "duration": 182,
    "start_time": "2022-12-16T21:06:39.617Z"
   },
   {
    "duration": 10,
    "start_time": "2022-12-16T21:06:39.800Z"
   },
   {
    "duration": 19,
    "start_time": "2022-12-16T21:06:39.811Z"
   },
   {
    "duration": 22,
    "start_time": "2022-12-16T21:06:39.833Z"
   },
   {
    "duration": 5,
    "start_time": "2022-12-16T21:06:39.857Z"
   },
   {
    "duration": 4,
    "start_time": "2022-12-16T21:06:39.864Z"
   },
   {
    "duration": 8,
    "start_time": "2022-12-16T21:06:39.896Z"
   },
   {
    "duration": 19,
    "start_time": "2022-12-16T21:06:39.906Z"
   },
   {
    "duration": 19,
    "start_time": "2022-12-16T21:06:39.926Z"
   },
   {
    "duration": 13,
    "start_time": "2022-12-16T21:06:39.947Z"
   },
   {
    "duration": 52,
    "start_time": "2022-12-16T21:06:39.963Z"
   },
   {
    "duration": 249,
    "start_time": "2022-12-16T21:06:40.017Z"
   },
   {
    "duration": 6,
    "start_time": "2022-12-16T21:07:08.581Z"
   },
   {
    "duration": 2096,
    "start_time": "2022-12-16T21:07:13.717Z"
   },
   {
    "duration": 1351,
    "start_time": "2022-12-16T21:07:15.815Z"
   },
   {
    "duration": 567,
    "start_time": "2022-12-16T21:07:17.168Z"
   },
   {
    "duration": 28,
    "start_time": "2022-12-16T21:07:17.737Z"
   },
   {
    "duration": 4,
    "start_time": "2022-12-16T21:07:17.767Z"
   },
   {
    "duration": 381,
    "start_time": "2022-12-16T21:07:17.772Z"
   },
   {
    "duration": 29,
    "start_time": "2022-12-16T21:07:18.154Z"
   },
   {
    "duration": 99,
    "start_time": "2022-12-16T21:07:18.184Z"
   },
   {
    "duration": 16,
    "start_time": "2022-12-16T21:07:18.296Z"
   },
   {
    "duration": 4,
    "start_time": "2022-12-16T21:07:18.314Z"
   },
   {
    "duration": 77,
    "start_time": "2022-12-16T21:07:18.319Z"
   },
   {
    "duration": 11,
    "start_time": "2022-12-16T21:07:18.398Z"
   },
   {
    "duration": 23,
    "start_time": "2022-12-16T21:07:18.410Z"
   },
   {
    "duration": 5,
    "start_time": "2022-12-16T21:07:18.436Z"
   },
   {
    "duration": 14,
    "start_time": "2022-12-16T21:07:18.442Z"
   },
   {
    "duration": 184,
    "start_time": "2022-12-16T21:07:18.458Z"
   },
   {
    "duration": 31,
    "start_time": "2022-12-16T21:07:18.644Z"
   },
   {
    "duration": 53,
    "start_time": "2022-12-16T21:07:18.677Z"
   },
   {
    "duration": 6,
    "start_time": "2022-12-16T21:07:18.732Z"
   },
   {
    "duration": 20,
    "start_time": "2022-12-16T21:07:18.739Z"
   },
   {
    "duration": 151,
    "start_time": "2022-12-16T21:07:18.760Z"
   },
   {
    "duration": 26,
    "start_time": "2022-12-16T21:07:18.912Z"
   },
   {
    "duration": 8,
    "start_time": "2022-12-16T21:07:18.939Z"
   },
   {
    "duration": 4,
    "start_time": "2022-12-16T21:07:18.949Z"
   },
   {
    "duration": 19,
    "start_time": "2022-12-16T21:07:18.954Z"
   },
   {
    "duration": 43,
    "start_time": "2022-12-16T21:07:18.974Z"
   },
   {
    "duration": 12,
    "start_time": "2022-12-16T21:07:19.019Z"
   },
   {
    "duration": 18,
    "start_time": "2022-12-16T21:07:19.033Z"
   },
   {
    "duration": 12,
    "start_time": "2022-12-16T21:07:19.052Z"
   },
   {
    "duration": 51,
    "start_time": "2022-12-16T21:07:19.065Z"
   },
   {
    "duration": 196,
    "start_time": "2022-12-16T21:07:19.118Z"
   },
   {
    "duration": 10,
    "start_time": "2022-12-16T21:07:19.316Z"
   },
   {
    "duration": 23,
    "start_time": "2022-12-16T21:07:19.327Z"
   },
   {
    "duration": 33,
    "start_time": "2022-12-16T21:07:19.352Z"
   },
   {
    "duration": 5,
    "start_time": "2022-12-16T21:07:19.387Z"
   },
   {
    "duration": 5,
    "start_time": "2022-12-16T21:07:19.393Z"
   },
   {
    "duration": 13,
    "start_time": "2022-12-16T21:07:19.399Z"
   },
   {
    "duration": 20,
    "start_time": "2022-12-16T21:07:19.413Z"
   },
   {
    "duration": 16,
    "start_time": "2022-12-16T21:07:19.435Z"
   },
   {
    "duration": 28,
    "start_time": "2022-12-16T21:07:19.452Z"
   },
   {
    "duration": 22,
    "start_time": "2022-12-16T21:07:19.483Z"
   },
   {
    "duration": 244,
    "start_time": "2022-12-16T21:07:19.507Z"
   },
   {
    "duration": 2075,
    "start_time": "2022-12-16T21:08:32.523Z"
   },
   {
    "duration": 1277,
    "start_time": "2022-12-16T21:08:34.600Z"
   },
   {
    "duration": 609,
    "start_time": "2022-12-16T21:08:35.878Z"
   },
   {
    "duration": 27,
    "start_time": "2022-12-16T21:08:36.489Z"
   },
   {
    "duration": 4,
    "start_time": "2022-12-16T21:08:36.518Z"
   },
   {
    "duration": 385,
    "start_time": "2022-12-16T21:08:36.523Z"
   },
   {
    "duration": 28,
    "start_time": "2022-12-16T21:08:36.910Z"
   },
   {
    "duration": 105,
    "start_time": "2022-12-16T21:08:36.939Z"
   },
   {
    "duration": 17,
    "start_time": "2022-12-16T21:08:37.046Z"
   },
   {
    "duration": 4,
    "start_time": "2022-12-16T21:08:37.064Z"
   },
   {
    "duration": 78,
    "start_time": "2022-12-16T21:08:37.069Z"
   },
   {
    "duration": 12,
    "start_time": "2022-12-16T21:08:37.148Z"
   },
   {
    "duration": 44,
    "start_time": "2022-12-16T21:08:37.162Z"
   },
   {
    "duration": 4,
    "start_time": "2022-12-16T21:08:37.210Z"
   },
   {
    "duration": 12,
    "start_time": "2022-12-16T21:08:37.216Z"
   },
   {
    "duration": 191,
    "start_time": "2022-12-16T21:08:37.230Z"
   },
   {
    "duration": 31,
    "start_time": "2022-12-16T21:08:37.422Z"
   },
   {
    "duration": 52,
    "start_time": "2022-12-16T21:08:37.455Z"
   },
   {
    "duration": 6,
    "start_time": "2022-12-16T21:08:37.509Z"
   },
   {
    "duration": 15,
    "start_time": "2022-12-16T21:08:37.516Z"
   },
   {
    "duration": 166,
    "start_time": "2022-12-16T21:08:37.532Z"
   },
   {
    "duration": 26,
    "start_time": "2022-12-16T21:08:37.700Z"
   },
   {
    "duration": 135,
    "start_time": "2022-12-16T21:08:37.728Z"
   },
   {
    "duration": 0,
    "start_time": "2022-12-16T21:08:37.864Z"
   },
   {
    "duration": 0,
    "start_time": "2022-12-16T21:08:37.866Z"
   },
   {
    "duration": 0,
    "start_time": "2022-12-16T21:08:37.867Z"
   },
   {
    "duration": 0,
    "start_time": "2022-12-16T21:08:37.869Z"
   },
   {
    "duration": 0,
    "start_time": "2022-12-16T21:08:37.870Z"
   },
   {
    "duration": 0,
    "start_time": "2022-12-16T21:08:37.871Z"
   },
   {
    "duration": 0,
    "start_time": "2022-12-16T21:08:37.872Z"
   },
   {
    "duration": 0,
    "start_time": "2022-12-16T21:08:37.874Z"
   },
   {
    "duration": 0,
    "start_time": "2022-12-16T21:08:37.875Z"
   },
   {
    "duration": 0,
    "start_time": "2022-12-16T21:08:37.876Z"
   },
   {
    "duration": 0,
    "start_time": "2022-12-16T21:08:37.896Z"
   },
   {
    "duration": 0,
    "start_time": "2022-12-16T21:08:37.898Z"
   },
   {
    "duration": 0,
    "start_time": "2022-12-16T21:08:37.900Z"
   },
   {
    "duration": 0,
    "start_time": "2022-12-16T21:08:37.901Z"
   },
   {
    "duration": 0,
    "start_time": "2022-12-16T21:08:37.903Z"
   },
   {
    "duration": 0,
    "start_time": "2022-12-16T21:08:37.904Z"
   },
   {
    "duration": 0,
    "start_time": "2022-12-16T21:08:37.905Z"
   },
   {
    "duration": 0,
    "start_time": "2022-12-16T21:08:37.907Z"
   },
   {
    "duration": 0,
    "start_time": "2022-12-16T21:08:37.909Z"
   },
   {
    "duration": 7,
    "start_time": "2022-12-16T21:08:47.046Z"
   },
   {
    "duration": 2099,
    "start_time": "2022-12-16T21:08:52.444Z"
   },
   {
    "duration": 1226,
    "start_time": "2022-12-16T21:08:54.545Z"
   },
   {
    "duration": 632,
    "start_time": "2022-12-16T21:08:55.773Z"
   },
   {
    "duration": 28,
    "start_time": "2022-12-16T21:08:56.407Z"
   },
   {
    "duration": 4,
    "start_time": "2022-12-16T21:08:56.437Z"
   },
   {
    "duration": 385,
    "start_time": "2022-12-16T21:08:56.443Z"
   },
   {
    "duration": 32,
    "start_time": "2022-12-16T21:08:56.830Z"
   },
   {
    "duration": 102,
    "start_time": "2022-12-16T21:08:56.863Z"
   },
   {
    "duration": 30,
    "start_time": "2022-12-16T21:08:56.967Z"
   },
   {
    "duration": 4,
    "start_time": "2022-12-16T21:08:57.000Z"
   },
   {
    "duration": 57,
    "start_time": "2022-12-16T21:08:57.006Z"
   },
   {
    "duration": 31,
    "start_time": "2022-12-16T21:08:57.065Z"
   },
   {
    "duration": 27,
    "start_time": "2022-12-16T21:08:57.098Z"
   },
   {
    "duration": 4,
    "start_time": "2022-12-16T21:08:57.126Z"
   },
   {
    "duration": 18,
    "start_time": "2022-12-16T21:08:57.132Z"
   },
   {
    "duration": 176,
    "start_time": "2022-12-16T21:08:57.152Z"
   },
   {
    "duration": 32,
    "start_time": "2022-12-16T21:08:57.330Z"
   },
   {
    "duration": 54,
    "start_time": "2022-12-16T21:08:57.364Z"
   },
   {
    "duration": 7,
    "start_time": "2022-12-16T21:08:57.420Z"
   },
   {
    "duration": 18,
    "start_time": "2022-12-16T21:08:57.428Z"
   },
   {
    "duration": 159,
    "start_time": "2022-12-16T21:08:57.447Z"
   },
   {
    "duration": 25,
    "start_time": "2022-12-16T21:08:57.608Z"
   },
   {
    "duration": 7,
    "start_time": "2022-12-16T21:08:57.634Z"
   },
   {
    "duration": 5,
    "start_time": "2022-12-16T21:08:57.642Z"
   },
   {
    "duration": 11,
    "start_time": "2022-12-16T21:08:57.649Z"
   },
   {
    "duration": 39,
    "start_time": "2022-12-16T21:08:57.661Z"
   },
   {
    "duration": 11,
    "start_time": "2022-12-16T21:08:57.701Z"
   },
   {
    "duration": 9,
    "start_time": "2022-12-16T21:08:57.715Z"
   },
   {
    "duration": 10,
    "start_time": "2022-12-16T21:08:57.726Z"
   },
   {
    "duration": 24,
    "start_time": "2022-12-16T21:08:57.737Z"
   },
   {
    "duration": 194,
    "start_time": "2022-12-16T21:08:57.762Z"
   },
   {
    "duration": 9,
    "start_time": "2022-12-16T21:08:57.958Z"
   },
   {
    "duration": 28,
    "start_time": "2022-12-16T21:08:57.969Z"
   },
   {
    "duration": 16,
    "start_time": "2022-12-16T21:08:57.999Z"
   },
   {
    "duration": 4,
    "start_time": "2022-12-16T21:08:58.017Z"
   },
   {
    "duration": 6,
    "start_time": "2022-12-16T21:08:58.022Z"
   },
   {
    "duration": 7,
    "start_time": "2022-12-16T21:08:58.029Z"
   },
   {
    "duration": 15,
    "start_time": "2022-12-16T21:08:58.037Z"
   },
   {
    "duration": 17,
    "start_time": "2022-12-16T21:08:58.054Z"
   },
   {
    "duration": 10,
    "start_time": "2022-12-16T21:08:58.097Z"
   },
   {
    "duration": 23,
    "start_time": "2022-12-16T21:08:58.108Z"
   },
   {
    "duration": 176,
    "start_time": "2022-12-16T21:08:58.133Z"
   },
   {
    "duration": 5,
    "start_time": "2022-12-16T21:09:59.530Z"
   },
   {
    "duration": 2124,
    "start_time": "2022-12-16T21:10:05.691Z"
   },
   {
    "duration": 1337,
    "start_time": "2022-12-16T21:10:07.817Z"
   },
   {
    "duration": 562,
    "start_time": "2022-12-16T21:10:09.156Z"
   },
   {
    "duration": 26,
    "start_time": "2022-12-16T21:10:09.720Z"
   },
   {
    "duration": 3,
    "start_time": "2022-12-16T21:10:09.748Z"
   },
   {
    "duration": 371,
    "start_time": "2022-12-16T21:10:09.753Z"
   },
   {
    "duration": 30,
    "start_time": "2022-12-16T21:10:10.125Z"
   },
   {
    "duration": 102,
    "start_time": "2022-12-16T21:10:10.156Z"
   },
   {
    "duration": 38,
    "start_time": "2022-12-16T21:10:10.259Z"
   },
   {
    "duration": 4,
    "start_time": "2022-12-16T21:10:10.300Z"
   },
   {
    "duration": 65,
    "start_time": "2022-12-16T21:10:10.305Z"
   },
   {
    "duration": 28,
    "start_time": "2022-12-16T21:10:10.372Z"
   },
   {
    "duration": 24,
    "start_time": "2022-12-16T21:10:10.401Z"
   },
   {
    "duration": 5,
    "start_time": "2022-12-16T21:10:10.427Z"
   },
   {
    "duration": 12,
    "start_time": "2022-12-16T21:10:10.434Z"
   },
   {
    "duration": 188,
    "start_time": "2022-12-16T21:10:10.448Z"
   },
   {
    "duration": 33,
    "start_time": "2022-12-16T21:10:10.638Z"
   },
   {
    "duration": 55,
    "start_time": "2022-12-16T21:10:10.672Z"
   },
   {
    "duration": 7,
    "start_time": "2022-12-16T21:10:10.729Z"
   },
   {
    "duration": 16,
    "start_time": "2022-12-16T21:10:10.737Z"
   },
   {
    "duration": 158,
    "start_time": "2022-12-16T21:10:10.755Z"
   },
   {
    "duration": 25,
    "start_time": "2022-12-16T21:10:10.914Z"
   },
   {
    "duration": 7,
    "start_time": "2022-12-16T21:10:10.940Z"
   },
   {
    "duration": 4,
    "start_time": "2022-12-16T21:10:10.949Z"
   },
   {
    "duration": 18,
    "start_time": "2022-12-16T21:10:10.954Z"
   },
   {
    "duration": 45,
    "start_time": "2022-12-16T21:10:10.973Z"
   },
   {
    "duration": 10,
    "start_time": "2022-12-16T21:10:11.019Z"
   },
   {
    "duration": 12,
    "start_time": "2022-12-16T21:10:11.032Z"
   },
   {
    "duration": 11,
    "start_time": "2022-12-16T21:10:11.045Z"
   },
   {
    "duration": 56,
    "start_time": "2022-12-16T21:10:11.057Z"
   },
   {
    "duration": 184,
    "start_time": "2022-12-16T21:10:11.115Z"
   },
   {
    "duration": 10,
    "start_time": "2022-12-16T21:10:11.301Z"
   },
   {
    "duration": 17,
    "start_time": "2022-12-16T21:10:11.312Z"
   },
   {
    "duration": 22,
    "start_time": "2022-12-16T21:10:11.331Z"
   },
   {
    "duration": 6,
    "start_time": "2022-12-16T21:10:11.355Z"
   },
   {
    "duration": 36,
    "start_time": "2022-12-16T21:10:11.362Z"
   },
   {
    "duration": 10,
    "start_time": "2022-12-16T21:10:11.400Z"
   },
   {
    "duration": 13,
    "start_time": "2022-12-16T21:10:11.412Z"
   },
   {
    "duration": 16,
    "start_time": "2022-12-16T21:10:11.427Z"
   },
   {
    "duration": 14,
    "start_time": "2022-12-16T21:10:11.445Z"
   },
   {
    "duration": 48,
    "start_time": "2022-12-16T21:10:11.460Z"
   },
   {
    "duration": 173,
    "start_time": "2022-12-16T21:10:11.509Z"
   },
   {
    "duration": 7,
    "start_time": "2022-12-16T21:11:43.207Z"
   },
   {
    "duration": 7,
    "start_time": "2022-12-16T21:12:54.421Z"
   },
   {
    "duration": 6,
    "start_time": "2022-12-16T21:13:02.824Z"
   },
   {
    "duration": 7,
    "start_time": "2022-12-16T21:15:43.022Z"
   },
   {
    "duration": 13,
    "start_time": "2022-12-16T21:16:49.234Z"
   },
   {
    "duration": 8,
    "start_time": "2022-12-16T21:16:54.191Z"
   },
   {
    "duration": 9,
    "start_time": "2022-12-16T21:18:06.909Z"
   },
   {
    "duration": 13,
    "start_time": "2022-12-16T21:18:14.238Z"
   },
   {
    "duration": 12,
    "start_time": "2022-12-16T21:18:23.486Z"
   },
   {
    "duration": 12,
    "start_time": "2022-12-16T21:18:40.756Z"
   },
   {
    "duration": 22,
    "start_time": "2022-12-16T21:18:51.302Z"
   },
   {
    "duration": 120,
    "start_time": "2022-12-16T21:21:50.320Z"
   },
   {
    "duration": 20,
    "start_time": "2022-12-16T21:26:07.353Z"
   },
   {
    "duration": 15,
    "start_time": "2022-12-16T21:26:13.562Z"
   },
   {
    "duration": 23,
    "start_time": "2022-12-16T21:27:04.065Z"
   },
   {
    "duration": 268,
    "start_time": "2022-12-16T21:27:09.398Z"
   },
   {
    "duration": 265,
    "start_time": "2022-12-16T21:29:20.153Z"
   },
   {
    "duration": 347,
    "start_time": "2022-12-16T21:29:41.618Z"
   },
   {
    "duration": 615,
    "start_time": "2022-12-16T21:29:49.324Z"
   },
   {
    "duration": 243,
    "start_time": "2022-12-16T21:30:01.985Z"
   },
   {
    "duration": 54,
    "start_time": "2022-12-17T08:07:56.699Z"
   },
   {
    "duration": 3948,
    "start_time": "2022-12-17T08:08:03.782Z"
   },
   {
    "duration": 1441,
    "start_time": "2022-12-17T08:08:07.732Z"
   },
   {
    "duration": 1938,
    "start_time": "2022-12-17T08:08:09.175Z"
   },
   {
    "duration": 26,
    "start_time": "2022-12-17T08:08:11.116Z"
   },
   {
    "duration": 4,
    "start_time": "2022-12-17T08:08:11.144Z"
   },
   {
    "duration": 380,
    "start_time": "2022-12-17T08:08:11.150Z"
   },
   {
    "duration": 29,
    "start_time": "2022-12-17T08:08:11.532Z"
   },
   {
    "duration": 98,
    "start_time": "2022-12-17T08:08:11.563Z"
   },
   {
    "duration": 19,
    "start_time": "2022-12-17T08:08:11.663Z"
   },
   {
    "duration": 5,
    "start_time": "2022-12-17T08:08:11.685Z"
   },
   {
    "duration": 90,
    "start_time": "2022-12-17T08:08:11.691Z"
   },
   {
    "duration": 33,
    "start_time": "2022-12-17T08:08:11.783Z"
   },
   {
    "duration": 24,
    "start_time": "2022-12-17T08:08:11.818Z"
   },
   {
    "duration": 5,
    "start_time": "2022-12-17T08:08:11.844Z"
   },
   {
    "duration": 14,
    "start_time": "2022-12-17T08:08:11.850Z"
   },
   {
    "duration": 197,
    "start_time": "2022-12-17T08:08:11.866Z"
   },
   {
    "duration": 48,
    "start_time": "2022-12-17T08:08:12.065Z"
   },
   {
    "duration": 44,
    "start_time": "2022-12-17T08:08:12.114Z"
   },
   {
    "duration": 6,
    "start_time": "2022-12-17T08:08:12.160Z"
   },
   {
    "duration": 14,
    "start_time": "2022-12-17T08:08:12.167Z"
   },
   {
    "duration": 203,
    "start_time": "2022-12-17T08:08:12.182Z"
   },
   {
    "duration": 33,
    "start_time": "2022-12-17T08:08:12.387Z"
   },
   {
    "duration": 9,
    "start_time": "2022-12-17T08:08:12.422Z"
   },
   {
    "duration": 15,
    "start_time": "2022-12-17T08:08:12.433Z"
   },
   {
    "duration": 24,
    "start_time": "2022-12-17T08:08:12.450Z"
   },
   {
    "duration": 40,
    "start_time": "2022-12-17T08:08:12.475Z"
   },
   {
    "duration": 14,
    "start_time": "2022-12-17T08:08:12.516Z"
   },
   {
    "duration": 12,
    "start_time": "2022-12-17T08:08:12.533Z"
   },
   {
    "duration": 26,
    "start_time": "2022-12-17T08:08:12.546Z"
   },
   {
    "duration": 277,
    "start_time": "2022-12-17T08:08:12.573Z"
   },
   {
    "duration": 11,
    "start_time": "2022-12-17T08:08:12.852Z"
   },
   {
    "duration": 19,
    "start_time": "2022-12-17T08:08:12.864Z"
   },
   {
    "duration": 46,
    "start_time": "2022-12-17T08:08:12.885Z"
   },
   {
    "duration": 8,
    "start_time": "2022-12-17T08:08:12.933Z"
   },
   {
    "duration": 17,
    "start_time": "2022-12-17T08:08:12.943Z"
   },
   {
    "duration": 13,
    "start_time": "2022-12-17T08:08:12.962Z"
   },
   {
    "duration": 16,
    "start_time": "2022-12-17T08:08:12.977Z"
   },
   {
    "duration": 32,
    "start_time": "2022-12-17T08:08:12.995Z"
   },
   {
    "duration": 127,
    "start_time": "2022-12-17T08:08:13.029Z"
   },
   {
    "duration": 22,
    "start_time": "2022-12-17T08:08:13.157Z"
   },
   {
    "duration": 260,
    "start_time": "2022-12-17T08:08:13.181Z"
   },
   {
    "duration": 24,
    "start_time": "2022-12-17T08:08:16.458Z"
   },
   {
    "duration": 26,
    "start_time": "2022-12-17T08:10:11.945Z"
   },
   {
    "duration": 119,
    "start_time": "2022-12-17T08:10:36.474Z"
   },
   {
    "duration": 18,
    "start_time": "2022-12-17T08:10:49.321Z"
   },
   {
    "duration": 144,
    "start_time": "2022-12-17T08:11:36.137Z"
   },
   {
    "duration": 111,
    "start_time": "2022-12-17T08:11:57.432Z"
   },
   {
    "duration": 1146,
    "start_time": "2022-12-17T08:16:51.341Z"
   },
   {
    "duration": 2375,
    "start_time": "2022-12-17T08:17:08.365Z"
   },
   {
    "duration": 1364,
    "start_time": "2022-12-17T08:17:10.742Z"
   },
   {
    "duration": 578,
    "start_time": "2022-12-17T08:17:12.108Z"
   },
   {
    "duration": 25,
    "start_time": "2022-12-17T08:17:12.688Z"
   },
   {
    "duration": 16,
    "start_time": "2022-12-17T08:17:12.716Z"
   },
   {
    "duration": 382,
    "start_time": "2022-12-17T08:17:12.733Z"
   },
   {
    "duration": 31,
    "start_time": "2022-12-17T08:17:13.117Z"
   },
   {
    "duration": 111,
    "start_time": "2022-12-17T08:17:13.150Z"
   },
   {
    "duration": 19,
    "start_time": "2022-12-17T08:17:13.263Z"
   },
   {
    "duration": 5,
    "start_time": "2022-12-17T08:17:13.284Z"
   },
   {
    "duration": 87,
    "start_time": "2022-12-17T08:17:13.290Z"
   },
   {
    "duration": 12,
    "start_time": "2022-12-17T08:17:13.378Z"
   },
   {
    "duration": 52,
    "start_time": "2022-12-17T08:17:13.392Z"
   },
   {
    "duration": 6,
    "start_time": "2022-12-17T08:17:13.447Z"
   },
   {
    "duration": 18,
    "start_time": "2022-12-17T08:17:13.454Z"
   },
   {
    "duration": 193,
    "start_time": "2022-12-17T08:17:13.473Z"
   },
   {
    "duration": 30,
    "start_time": "2022-12-17T08:17:13.668Z"
   },
   {
    "duration": 52,
    "start_time": "2022-12-17T08:17:13.700Z"
   },
   {
    "duration": 6,
    "start_time": "2022-12-17T08:17:13.754Z"
   },
   {
    "duration": 11,
    "start_time": "2022-12-17T08:17:13.761Z"
   },
   {
    "duration": 175,
    "start_time": "2022-12-17T08:17:13.773Z"
   },
   {
    "duration": 26,
    "start_time": "2022-12-17T08:17:13.950Z"
   },
   {
    "duration": 9,
    "start_time": "2022-12-17T08:17:13.978Z"
   },
   {
    "duration": 35,
    "start_time": "2022-12-17T08:17:13.989Z"
   },
   {
    "duration": 22,
    "start_time": "2022-12-17T08:17:14.028Z"
   },
   {
    "duration": 11,
    "start_time": "2022-12-17T08:17:14.052Z"
   },
   {
    "duration": 14,
    "start_time": "2022-12-17T08:17:14.066Z"
   },
   {
    "duration": 39,
    "start_time": "2022-12-17T08:17:14.082Z"
   },
   {
    "duration": 32,
    "start_time": "2022-12-17T08:17:14.123Z"
   },
   {
    "duration": 209,
    "start_time": "2022-12-17T08:17:14.156Z"
   },
   {
    "duration": 10,
    "start_time": "2022-12-17T08:17:14.366Z"
   },
   {
    "duration": 17,
    "start_time": "2022-12-17T08:17:14.377Z"
   },
   {
    "duration": 39,
    "start_time": "2022-12-17T08:17:14.396Z"
   },
   {
    "duration": 6,
    "start_time": "2022-12-17T08:17:14.437Z"
   },
   {
    "duration": 5,
    "start_time": "2022-12-17T08:17:14.444Z"
   },
   {
    "duration": 17,
    "start_time": "2022-12-17T08:17:14.450Z"
   },
   {
    "duration": 15,
    "start_time": "2022-12-17T08:17:14.469Z"
   },
   {
    "duration": 40,
    "start_time": "2022-12-17T08:17:14.486Z"
   },
   {
    "duration": 129,
    "start_time": "2022-12-17T08:17:14.529Z"
   },
   {
    "duration": 25,
    "start_time": "2022-12-17T08:17:14.660Z"
   },
   {
    "duration": 281,
    "start_time": "2022-12-17T08:17:14.689Z"
   },
   {
    "duration": 26,
    "start_time": "2022-12-17T08:17:14.972Z"
   },
   {
    "duration": 155,
    "start_time": "2022-12-17T08:17:14.999Z"
   },
   {
    "duration": 1340,
    "start_time": "2022-12-17T08:17:15.155Z"
   },
   {
    "duration": 3935,
    "start_time": "2022-12-17T17:52:46.684Z"
   },
   {
    "duration": 1440,
    "start_time": "2022-12-17T17:52:50.622Z"
   },
   {
    "duration": 1973,
    "start_time": "2022-12-17T17:52:52.064Z"
   },
   {
    "duration": 31,
    "start_time": "2022-12-17T17:52:54.039Z"
   },
   {
    "duration": 5,
    "start_time": "2022-12-17T17:52:54.073Z"
   },
   {
    "duration": 459,
    "start_time": "2022-12-17T17:52:54.080Z"
   },
   {
    "duration": 31,
    "start_time": "2022-12-17T17:52:54.541Z"
   },
   {
    "duration": 102,
    "start_time": "2022-12-17T17:52:54.573Z"
   },
   {
    "duration": 19,
    "start_time": "2022-12-17T17:52:54.677Z"
   },
   {
    "duration": 25,
    "start_time": "2022-12-17T17:52:54.698Z"
   },
   {
    "duration": 78,
    "start_time": "2022-12-17T17:52:54.724Z"
   },
   {
    "duration": 13,
    "start_time": "2022-12-17T17:52:54.804Z"
   },
   {
    "duration": 27,
    "start_time": "2022-12-17T17:52:54.821Z"
   },
   {
    "duration": 5,
    "start_time": "2022-12-17T17:52:54.851Z"
   },
   {
    "duration": 14,
    "start_time": "2022-12-17T17:52:54.857Z"
   },
   {
    "duration": 205,
    "start_time": "2022-12-17T17:52:54.872Z"
   },
   {
    "duration": 56,
    "start_time": "2022-12-17T17:52:55.079Z"
   },
   {
    "duration": 47,
    "start_time": "2022-12-17T17:52:55.137Z"
   },
   {
    "duration": 7,
    "start_time": "2022-12-17T17:52:55.186Z"
   },
   {
    "duration": 31,
    "start_time": "2022-12-17T17:52:55.196Z"
   },
   {
    "duration": 201,
    "start_time": "2022-12-17T17:52:55.229Z"
   },
   {
    "duration": 30,
    "start_time": "2022-12-17T17:52:55.432Z"
   },
   {
    "duration": 9,
    "start_time": "2022-12-17T17:52:55.464Z"
   },
   {
    "duration": 21,
    "start_time": "2022-12-17T17:52:55.474Z"
   },
   {
    "duration": 45,
    "start_time": "2022-12-17T17:52:55.497Z"
   },
   {
    "duration": 11,
    "start_time": "2022-12-17T17:52:55.544Z"
   },
   {
    "duration": 16,
    "start_time": "2022-12-17T17:52:55.557Z"
   },
   {
    "duration": 13,
    "start_time": "2022-12-17T17:52:55.574Z"
   },
   {
    "duration": 55,
    "start_time": "2022-12-17T17:52:55.588Z"
   },
   {
    "duration": 349,
    "start_time": "2022-12-17T17:52:55.645Z"
   },
   {
    "duration": 10,
    "start_time": "2022-12-17T17:52:55.996Z"
   },
   {
    "duration": 28,
    "start_time": "2022-12-17T17:52:56.008Z"
   },
   {
    "duration": 28,
    "start_time": "2022-12-17T17:52:56.038Z"
   },
   {
    "duration": 5,
    "start_time": "2022-12-17T17:52:56.068Z"
   },
   {
    "duration": 10,
    "start_time": "2022-12-17T17:52:56.074Z"
   },
   {
    "duration": 13,
    "start_time": "2022-12-17T17:52:56.086Z"
   },
   {
    "duration": 26,
    "start_time": "2022-12-17T17:52:56.101Z"
   },
   {
    "duration": 17,
    "start_time": "2022-12-17T17:52:56.129Z"
   },
   {
    "duration": 44,
    "start_time": "2022-12-17T17:52:56.148Z"
   },
   {
    "duration": 47,
    "start_time": "2022-12-17T17:52:56.194Z"
   },
   {
    "duration": 270,
    "start_time": "2022-12-17T17:52:56.245Z"
   },
   {
    "duration": 34,
    "start_time": "2022-12-17T17:52:56.517Z"
   },
   {
    "duration": 169,
    "start_time": "2022-12-17T17:52:56.553Z"
   },
   {
    "duration": 25,
    "start_time": "2022-12-17T17:53:27.120Z"
   },
   {
    "duration": 8,
    "start_time": "2022-12-17T17:54:02.678Z"
   },
   {
    "duration": 6,
    "start_time": "2022-12-17T17:54:13.006Z"
   },
   {
    "duration": 22,
    "start_time": "2022-12-17T17:54:35.081Z"
   },
   {
    "duration": 8,
    "start_time": "2022-12-17T17:56:50.814Z"
   },
   {
    "duration": 166,
    "start_time": "2022-12-17T18:01:15.220Z"
   },
   {
    "duration": 13,
    "start_time": "2022-12-17T18:01:17.339Z"
   },
   {
    "duration": 31,
    "start_time": "2022-12-17T18:01:22.495Z"
   },
   {
    "duration": 17,
    "start_time": "2022-12-17T18:01:47.542Z"
   },
   {
    "duration": 7,
    "start_time": "2022-12-17T18:02:09.664Z"
   },
   {
    "duration": 47,
    "start_time": "2022-12-17T18:03:01.538Z"
   },
   {
    "duration": 165,
    "start_time": "2022-12-17T18:03:14.835Z"
   },
   {
    "duration": 2364,
    "start_time": "2022-12-17T18:03:47.036Z"
   },
   {
    "duration": 1411,
    "start_time": "2022-12-17T18:03:49.403Z"
   },
   {
    "duration": 638,
    "start_time": "2022-12-17T18:03:50.815Z"
   },
   {
    "duration": 28,
    "start_time": "2022-12-17T18:03:51.455Z"
   },
   {
    "duration": 4,
    "start_time": "2022-12-17T18:03:51.485Z"
   },
   {
    "duration": 461,
    "start_time": "2022-12-17T18:03:51.491Z"
   },
   {
    "duration": 30,
    "start_time": "2022-12-17T18:03:51.954Z"
   },
   {
    "duration": 118,
    "start_time": "2022-12-17T18:03:51.987Z"
   },
   {
    "duration": 36,
    "start_time": "2022-12-17T18:03:52.107Z"
   },
   {
    "duration": 13,
    "start_time": "2022-12-17T18:03:52.145Z"
   },
   {
    "duration": 89,
    "start_time": "2022-12-17T18:03:52.160Z"
   },
   {
    "duration": 13,
    "start_time": "2022-12-17T18:03:52.250Z"
   },
   {
    "duration": 42,
    "start_time": "2022-12-17T18:03:52.265Z"
   },
   {
    "duration": 16,
    "start_time": "2022-12-17T18:03:52.311Z"
   },
   {
    "duration": 42,
    "start_time": "2022-12-17T18:03:52.328Z"
   },
   {
    "duration": 216,
    "start_time": "2022-12-17T18:03:52.372Z"
   },
   {
    "duration": 58,
    "start_time": "2022-12-17T18:03:52.590Z"
   },
   {
    "duration": 53,
    "start_time": "2022-12-17T18:03:52.650Z"
   },
   {
    "duration": 21,
    "start_time": "2022-12-17T18:03:52.704Z"
   },
   {
    "duration": 20,
    "start_time": "2022-12-17T18:03:52.731Z"
   },
   {
    "duration": 200,
    "start_time": "2022-12-17T18:03:52.753Z"
   },
   {
    "duration": 22,
    "start_time": "2022-12-17T18:03:52.955Z"
   },
   {
    "duration": 1394,
    "start_time": "2022-12-17T18:03:52.979Z"
   },
   {
    "duration": 1,
    "start_time": "2022-12-17T18:03:54.375Z"
   },
   {
    "duration": 0,
    "start_time": "2022-12-17T18:03:54.378Z"
   },
   {
    "duration": 0,
    "start_time": "2022-12-17T18:03:54.379Z"
   },
   {
    "duration": 0,
    "start_time": "2022-12-17T18:03:54.380Z"
   },
   {
    "duration": 0,
    "start_time": "2022-12-17T18:03:54.383Z"
   },
   {
    "duration": 0,
    "start_time": "2022-12-17T18:03:54.384Z"
   },
   {
    "duration": 0,
    "start_time": "2022-12-17T18:03:54.385Z"
   },
   {
    "duration": 0,
    "start_time": "2022-12-17T18:03:54.387Z"
   },
   {
    "duration": 0,
    "start_time": "2022-12-17T18:03:54.389Z"
   },
   {
    "duration": 0,
    "start_time": "2022-12-17T18:03:54.390Z"
   },
   {
    "duration": 0,
    "start_time": "2022-12-17T18:03:54.392Z"
   },
   {
    "duration": 0,
    "start_time": "2022-12-17T18:03:54.393Z"
   },
   {
    "duration": 0,
    "start_time": "2022-12-17T18:03:54.394Z"
   },
   {
    "duration": 0,
    "start_time": "2022-12-17T18:03:54.396Z"
   },
   {
    "duration": 0,
    "start_time": "2022-12-17T18:03:54.397Z"
   },
   {
    "duration": 0,
    "start_time": "2022-12-17T18:03:54.399Z"
   },
   {
    "duration": 0,
    "start_time": "2022-12-17T18:03:54.401Z"
   },
   {
    "duration": 0,
    "start_time": "2022-12-17T18:03:54.402Z"
   },
   {
    "duration": 0,
    "start_time": "2022-12-17T18:03:54.403Z"
   },
   {
    "duration": 0,
    "start_time": "2022-12-17T18:03:54.404Z"
   },
   {
    "duration": 0,
    "start_time": "2022-12-17T18:03:54.405Z"
   },
   {
    "duration": 15,
    "start_time": "2022-12-17T18:04:07.172Z"
   },
   {
    "duration": 2483,
    "start_time": "2022-12-17T18:04:17.630Z"
   },
   {
    "duration": 1405,
    "start_time": "2022-12-17T18:04:20.115Z"
   },
   {
    "duration": 648,
    "start_time": "2022-12-17T18:04:21.526Z"
   },
   {
    "duration": 28,
    "start_time": "2022-12-17T18:04:22.176Z"
   },
   {
    "duration": 5,
    "start_time": "2022-12-17T18:04:22.205Z"
   },
   {
    "duration": 456,
    "start_time": "2022-12-17T18:04:22.212Z"
   },
   {
    "duration": 29,
    "start_time": "2022-12-17T18:04:22.670Z"
   },
   {
    "duration": 124,
    "start_time": "2022-12-17T18:04:22.701Z"
   },
   {
    "duration": 26,
    "start_time": "2022-12-17T18:04:22.827Z"
   },
   {
    "duration": 5,
    "start_time": "2022-12-17T18:04:22.855Z"
   },
   {
    "duration": 81,
    "start_time": "2022-12-17T18:04:22.862Z"
   },
   {
    "duration": 13,
    "start_time": "2022-12-17T18:04:22.944Z"
   },
   {
    "duration": 32,
    "start_time": "2022-12-17T18:04:22.959Z"
   },
   {
    "duration": 4,
    "start_time": "2022-12-17T18:04:22.993Z"
   },
   {
    "duration": 37,
    "start_time": "2022-12-17T18:04:22.999Z"
   },
   {
    "duration": 205,
    "start_time": "2022-12-17T18:04:23.037Z"
   },
   {
    "duration": 42,
    "start_time": "2022-12-17T18:04:23.244Z"
   },
   {
    "duration": 59,
    "start_time": "2022-12-17T18:04:23.287Z"
   },
   {
    "duration": 6,
    "start_time": "2022-12-17T18:04:23.348Z"
   },
   {
    "duration": 10,
    "start_time": "2022-12-17T18:04:23.355Z"
   },
   {
    "duration": 185,
    "start_time": "2022-12-17T18:04:23.366Z"
   },
   {
    "duration": 49,
    "start_time": "2022-12-17T18:04:23.553Z"
   },
   {
    "duration": 1294,
    "start_time": "2022-12-17T18:04:23.607Z"
   },
   {
    "duration": 0,
    "start_time": "2022-12-17T18:04:24.904Z"
   },
   {
    "duration": 0,
    "start_time": "2022-12-17T18:04:24.905Z"
   },
   {
    "duration": 0,
    "start_time": "2022-12-17T18:04:24.906Z"
   },
   {
    "duration": 0,
    "start_time": "2022-12-17T18:04:24.907Z"
   },
   {
    "duration": 0,
    "start_time": "2022-12-17T18:04:24.908Z"
   },
   {
    "duration": 0,
    "start_time": "2022-12-17T18:04:24.909Z"
   },
   {
    "duration": 0,
    "start_time": "2022-12-17T18:04:24.910Z"
   },
   {
    "duration": 0,
    "start_time": "2022-12-17T18:04:24.911Z"
   },
   {
    "duration": 0,
    "start_time": "2022-12-17T18:04:24.912Z"
   },
   {
    "duration": 0,
    "start_time": "2022-12-17T18:04:24.913Z"
   },
   {
    "duration": 0,
    "start_time": "2022-12-17T18:04:24.914Z"
   },
   {
    "duration": 0,
    "start_time": "2022-12-17T18:04:24.915Z"
   },
   {
    "duration": 0,
    "start_time": "2022-12-17T18:04:24.917Z"
   },
   {
    "duration": 0,
    "start_time": "2022-12-17T18:04:24.917Z"
   },
   {
    "duration": 0,
    "start_time": "2022-12-17T18:04:24.918Z"
   },
   {
    "duration": 0,
    "start_time": "2022-12-17T18:04:24.920Z"
   },
   {
    "duration": 0,
    "start_time": "2022-12-17T18:04:24.925Z"
   },
   {
    "duration": 0,
    "start_time": "2022-12-17T18:04:24.926Z"
   },
   {
    "duration": 0,
    "start_time": "2022-12-17T18:04:24.927Z"
   },
   {
    "duration": 0,
    "start_time": "2022-12-17T18:04:24.929Z"
   },
   {
    "duration": 0,
    "start_time": "2022-12-17T18:04:24.930Z"
   },
   {
    "duration": 2335,
    "start_time": "2022-12-17T18:05:10.147Z"
   },
   {
    "duration": 1332,
    "start_time": "2022-12-17T18:05:12.484Z"
   },
   {
    "duration": 681,
    "start_time": "2022-12-17T18:05:13.818Z"
   },
   {
    "duration": 31,
    "start_time": "2022-12-17T18:05:14.501Z"
   },
   {
    "duration": 4,
    "start_time": "2022-12-17T18:05:14.538Z"
   },
   {
    "duration": 426,
    "start_time": "2022-12-17T18:05:14.544Z"
   },
   {
    "duration": 26,
    "start_time": "2022-12-17T18:05:14.973Z"
   },
   {
    "duration": 112,
    "start_time": "2022-12-17T18:05:15.001Z"
   },
   {
    "duration": 22,
    "start_time": "2022-12-17T18:05:15.124Z"
   },
   {
    "duration": 5,
    "start_time": "2022-12-17T18:05:15.149Z"
   },
   {
    "duration": 92,
    "start_time": "2022-12-17T18:05:15.155Z"
   },
   {
    "duration": 12,
    "start_time": "2022-12-17T18:05:15.248Z"
   },
   {
    "duration": 27,
    "start_time": "2022-12-17T18:05:15.262Z"
   },
   {
    "duration": 5,
    "start_time": "2022-12-17T18:05:15.291Z"
   },
   {
    "duration": 39,
    "start_time": "2022-12-17T18:05:15.298Z"
   },
   {
    "duration": 203,
    "start_time": "2022-12-17T18:05:15.339Z"
   },
   {
    "duration": 33,
    "start_time": "2022-12-17T18:05:15.544Z"
   },
   {
    "duration": 60,
    "start_time": "2022-12-17T18:05:15.579Z"
   },
   {
    "duration": 7,
    "start_time": "2022-12-17T18:05:15.640Z"
   },
   {
    "duration": 14,
    "start_time": "2022-12-17T18:05:15.649Z"
   },
   {
    "duration": 214,
    "start_time": "2022-12-17T18:05:15.665Z"
   },
   {
    "duration": 58,
    "start_time": "2022-12-17T18:05:15.881Z"
   },
   {
    "duration": 5,
    "start_time": "2022-12-17T18:05:15.941Z"
   },
   {
    "duration": 11,
    "start_time": "2022-12-17T18:05:15.947Z"
   },
   {
    "duration": 16,
    "start_time": "2022-12-17T18:05:15.960Z"
   },
   {
    "duration": 52,
    "start_time": "2022-12-17T18:05:15.978Z"
   },
   {
    "duration": 12,
    "start_time": "2022-12-17T18:05:16.032Z"
   },
   {
    "duration": 13,
    "start_time": "2022-12-17T18:05:16.049Z"
   },
   {
    "duration": 15,
    "start_time": "2022-12-17T18:05:16.063Z"
   },
   {
    "duration": 57,
    "start_time": "2022-12-17T18:05:16.079Z"
   },
   {
    "duration": 194,
    "start_time": "2022-12-17T18:05:16.138Z"
   },
   {
    "duration": 10,
    "start_time": "2022-12-17T18:05:16.337Z"
   },
   {
    "duration": 17,
    "start_time": "2022-12-17T18:05:16.348Z"
   },
   {
    "duration": 27,
    "start_time": "2022-12-17T18:05:16.367Z"
   },
   {
    "duration": 7,
    "start_time": "2022-12-17T18:05:16.396Z"
   },
   {
    "duration": 17,
    "start_time": "2022-12-17T18:05:16.405Z"
   },
   {
    "duration": 28,
    "start_time": "2022-12-17T18:05:16.425Z"
   },
   {
    "duration": 18,
    "start_time": "2022-12-17T18:05:16.455Z"
   },
   {
    "duration": 19,
    "start_time": "2022-12-17T18:05:16.475Z"
   },
   {
    "duration": 139,
    "start_time": "2022-12-17T18:05:16.496Z"
   },
   {
    "duration": 28,
    "start_time": "2022-12-17T18:05:16.639Z"
   },
   {
    "duration": 262,
    "start_time": "2022-12-17T18:05:16.668Z"
   },
   {
    "duration": 37,
    "start_time": "2022-12-17T18:05:16.932Z"
   },
   {
    "duration": 172,
    "start_time": "2022-12-17T18:05:16.971Z"
   },
   {
    "duration": 24,
    "start_time": "2022-12-17T18:05:57.548Z"
   },
   {
    "duration": 33,
    "start_time": "2022-12-17T18:22:27.164Z"
   },
   {
    "duration": 29,
    "start_time": "2022-12-17T18:28:17.973Z"
   },
   {
    "duration": 28,
    "start_time": "2022-12-17T18:28:23.255Z"
   },
   {
    "duration": 35,
    "start_time": "2022-12-17T18:28:50.919Z"
   },
   {
    "duration": 35,
    "start_time": "2022-12-17T18:28:57.238Z"
   },
   {
    "duration": 29,
    "start_time": "2022-12-17T18:29:06.839Z"
   },
   {
    "duration": 39,
    "start_time": "2022-12-17T18:33:50.738Z"
   },
   {
    "duration": 3,
    "start_time": "2022-12-17T18:33:51.360Z"
   },
   {
    "duration": 9,
    "start_time": "2022-12-17T18:33:52.343Z"
   },
   {
    "duration": 3,
    "start_time": "2022-12-17T18:34:20.598Z"
   },
   {
    "duration": 10,
    "start_time": "2022-12-17T18:34:29.033Z"
   },
   {
    "duration": 9,
    "start_time": "2022-12-17T18:34:39.948Z"
   },
   {
    "duration": 2417,
    "start_time": "2022-12-17T18:34:48.245Z"
   },
   {
    "duration": 1426,
    "start_time": "2022-12-17T18:34:50.664Z"
   },
   {
    "duration": 619,
    "start_time": "2022-12-17T18:34:52.092Z"
   },
   {
    "duration": 28,
    "start_time": "2022-12-17T18:34:52.713Z"
   },
   {
    "duration": 4,
    "start_time": "2022-12-17T18:34:52.744Z"
   },
   {
    "duration": 439,
    "start_time": "2022-12-17T18:34:52.749Z"
   },
   {
    "duration": 42,
    "start_time": "2022-12-17T18:34:53.189Z"
   },
   {
    "duration": 102,
    "start_time": "2022-12-17T18:34:53.236Z"
   },
   {
    "duration": 18,
    "start_time": "2022-12-17T18:34:53.340Z"
   },
   {
    "duration": 5,
    "start_time": "2022-12-17T18:34:53.359Z"
   },
   {
    "duration": 83,
    "start_time": "2022-12-17T18:34:53.365Z"
   },
   {
    "duration": 13,
    "start_time": "2022-12-17T18:34:53.450Z"
   },
   {
    "duration": 27,
    "start_time": "2022-12-17T18:34:53.465Z"
   },
   {
    "duration": 36,
    "start_time": "2022-12-17T18:34:53.496Z"
   },
   {
    "duration": 20,
    "start_time": "2022-12-17T18:34:53.533Z"
   },
   {
    "duration": 194,
    "start_time": "2022-12-17T18:34:53.556Z"
   },
   {
    "duration": 31,
    "start_time": "2022-12-17T18:34:53.752Z"
   },
   {
    "duration": 60,
    "start_time": "2022-12-17T18:34:53.785Z"
   },
   {
    "duration": 6,
    "start_time": "2022-12-17T18:34:53.847Z"
   },
   {
    "duration": 10,
    "start_time": "2022-12-17T18:34:53.856Z"
   },
   {
    "duration": 208,
    "start_time": "2022-12-17T18:34:53.868Z"
   },
   {
    "duration": 29,
    "start_time": "2022-12-17T18:34:54.078Z"
   },
   {
    "duration": 18,
    "start_time": "2022-12-17T18:34:54.109Z"
   },
   {
    "duration": 35,
    "start_time": "2022-12-17T18:34:54.129Z"
   },
   {
    "duration": 19,
    "start_time": "2022-12-17T18:34:54.166Z"
   },
   {
    "duration": 32,
    "start_time": "2022-12-17T18:34:54.187Z"
   },
   {
    "duration": 28,
    "start_time": "2022-12-17T18:34:54.221Z"
   },
   {
    "duration": 18,
    "start_time": "2022-12-17T18:34:54.251Z"
   },
   {
    "duration": 24,
    "start_time": "2022-12-17T18:34:54.271Z"
   },
   {
    "duration": 40,
    "start_time": "2022-12-17T18:34:54.297Z"
   },
   {
    "duration": 219,
    "start_time": "2022-12-17T18:34:54.339Z"
   },
   {
    "duration": 10,
    "start_time": "2022-12-17T18:34:54.560Z"
   },
   {
    "duration": 18,
    "start_time": "2022-12-17T18:34:54.572Z"
   },
   {
    "duration": 54,
    "start_time": "2022-12-17T18:34:54.591Z"
   },
   {
    "duration": 5,
    "start_time": "2022-12-17T18:34:54.646Z"
   },
   {
    "duration": 4,
    "start_time": "2022-12-17T18:34:54.653Z"
   },
   {
    "duration": 10,
    "start_time": "2022-12-17T18:34:54.658Z"
   },
   {
    "duration": 29,
    "start_time": "2022-12-17T18:34:54.669Z"
   },
   {
    "duration": 57,
    "start_time": "2022-12-17T18:34:54.699Z"
   },
   {
    "duration": 178,
    "start_time": "2022-12-17T18:34:54.757Z"
   },
   {
    "duration": 75,
    "start_time": "2022-12-17T18:34:54.939Z"
   },
   {
    "duration": 269,
    "start_time": "2022-12-17T18:34:55.016Z"
   },
   {
    "duration": 35,
    "start_time": "2022-12-17T18:34:55.287Z"
   },
   {
    "duration": 148,
    "start_time": "2022-12-17T18:34:55.323Z"
   },
   {
    "duration": 29,
    "start_time": "2022-12-17T18:34:55.472Z"
   },
   {
    "duration": 13,
    "start_time": "2022-12-17T18:34:55.521Z"
   },
   {
    "duration": 12,
    "start_time": "2022-12-17T18:34:55.535Z"
   },
   {
    "duration": 2223,
    "start_time": "2022-12-17T18:47:59.267Z"
   },
   {
    "duration": 1322,
    "start_time": "2022-12-17T18:48:01.493Z"
   },
   {
    "duration": 558,
    "start_time": "2022-12-17T18:48:02.817Z"
   },
   {
    "duration": 26,
    "start_time": "2022-12-17T18:48:03.377Z"
   },
   {
    "duration": 4,
    "start_time": "2022-12-17T18:48:03.405Z"
   },
   {
    "duration": 394,
    "start_time": "2022-12-17T18:48:03.410Z"
   },
   {
    "duration": 37,
    "start_time": "2022-12-17T18:48:03.805Z"
   },
   {
    "duration": 108,
    "start_time": "2022-12-17T18:48:03.844Z"
   },
   {
    "duration": 26,
    "start_time": "2022-12-17T18:48:03.954Z"
   },
   {
    "duration": 27,
    "start_time": "2022-12-17T18:48:03.982Z"
   },
   {
    "duration": 105,
    "start_time": "2022-12-17T18:48:04.010Z"
   },
   {
    "duration": 19,
    "start_time": "2022-12-17T18:48:04.117Z"
   },
   {
    "duration": 54,
    "start_time": "2022-12-17T18:48:04.138Z"
   },
   {
    "duration": 35,
    "start_time": "2022-12-17T18:48:04.198Z"
   },
   {
    "duration": 49,
    "start_time": "2022-12-17T18:48:04.234Z"
   },
   {
    "duration": 190,
    "start_time": "2022-12-17T18:48:04.286Z"
   },
   {
    "duration": 44,
    "start_time": "2022-12-17T18:48:04.478Z"
   },
   {
    "duration": 42,
    "start_time": "2022-12-17T18:48:04.524Z"
   },
   {
    "duration": 6,
    "start_time": "2022-12-17T18:48:04.567Z"
   },
   {
    "duration": 38,
    "start_time": "2022-12-17T18:48:04.574Z"
   },
   {
    "duration": 191,
    "start_time": "2022-12-17T18:48:04.614Z"
   },
   {
    "duration": 29,
    "start_time": "2022-12-17T18:48:04.806Z"
   },
   {
    "duration": 5,
    "start_time": "2022-12-17T18:48:04.837Z"
   },
   {
    "duration": 23,
    "start_time": "2022-12-17T18:48:04.844Z"
   },
   {
    "duration": 21,
    "start_time": "2022-12-17T18:48:04.869Z"
   },
   {
    "duration": 35,
    "start_time": "2022-12-17T18:48:04.892Z"
   },
   {
    "duration": 13,
    "start_time": "2022-12-17T18:48:04.929Z"
   },
   {
    "duration": 24,
    "start_time": "2022-12-17T18:48:04.943Z"
   },
   {
    "duration": 44,
    "start_time": "2022-12-17T18:48:04.969Z"
   },
   {
    "duration": 34,
    "start_time": "2022-12-17T18:48:05.015Z"
   },
   {
    "duration": 232,
    "start_time": "2022-12-17T18:48:05.051Z"
   },
   {
    "duration": 10,
    "start_time": "2022-12-17T18:48:05.285Z"
   },
   {
    "duration": 31,
    "start_time": "2022-12-17T18:48:05.297Z"
   },
   {
    "duration": 46,
    "start_time": "2022-12-17T18:48:05.329Z"
   },
   {
    "duration": 16,
    "start_time": "2022-12-17T18:48:05.376Z"
   },
   {
    "duration": 24,
    "start_time": "2022-12-17T18:48:05.393Z"
   },
   {
    "duration": 34,
    "start_time": "2022-12-17T18:48:05.419Z"
   },
   {
    "duration": 18,
    "start_time": "2022-12-17T18:48:05.455Z"
   },
   {
    "duration": 19,
    "start_time": "2022-12-17T18:48:05.475Z"
   },
   {
    "duration": 118,
    "start_time": "2022-12-17T18:48:05.495Z"
   },
   {
    "duration": 29,
    "start_time": "2022-12-17T18:48:05.616Z"
   },
   {
    "duration": 297,
    "start_time": "2022-12-17T18:48:05.646Z"
   },
   {
    "duration": 27,
    "start_time": "2022-12-17T18:48:05.945Z"
   },
   {
    "duration": 166,
    "start_time": "2022-12-17T18:48:05.974Z"
   },
   {
    "duration": 30,
    "start_time": "2022-12-17T18:48:06.142Z"
   },
   {
    "duration": 3,
    "start_time": "2022-12-17T18:48:06.174Z"
   },
   {
    "duration": 10,
    "start_time": "2022-12-17T18:48:06.178Z"
   },
   {
    "duration": 2142,
    "start_time": "2022-12-17T18:49:24.997Z"
   },
   {
    "duration": 1274,
    "start_time": "2022-12-17T18:49:27.141Z"
   },
   {
    "duration": 562,
    "start_time": "2022-12-17T18:49:28.417Z"
   },
   {
    "duration": 28,
    "start_time": "2022-12-17T18:49:28.981Z"
   },
   {
    "duration": 9,
    "start_time": "2022-12-17T18:49:29.012Z"
   },
   {
    "duration": 420,
    "start_time": "2022-12-17T18:49:29.023Z"
   },
   {
    "duration": 27,
    "start_time": "2022-12-17T18:49:29.444Z"
   },
   {
    "duration": 104,
    "start_time": "2022-12-17T18:49:29.473Z"
   },
   {
    "duration": 45,
    "start_time": "2022-12-17T18:49:29.578Z"
   },
   {
    "duration": 44,
    "start_time": "2022-12-17T18:49:29.624Z"
   },
   {
    "duration": 86,
    "start_time": "2022-12-17T18:49:29.670Z"
   },
   {
    "duration": 11,
    "start_time": "2022-12-17T18:49:29.757Z"
   },
   {
    "duration": 58,
    "start_time": "2022-12-17T18:49:29.770Z"
   },
   {
    "duration": 48,
    "start_time": "2022-12-17T18:49:29.831Z"
   },
   {
    "duration": 83,
    "start_time": "2022-12-17T18:49:29.880Z"
   },
   {
    "duration": 222,
    "start_time": "2022-12-17T18:49:29.964Z"
   },
   {
    "duration": 41,
    "start_time": "2022-12-17T18:49:30.188Z"
   },
   {
    "duration": 67,
    "start_time": "2022-12-17T18:49:30.232Z"
   },
   {
    "duration": 32,
    "start_time": "2022-12-17T18:49:30.300Z"
   },
   {
    "duration": 52,
    "start_time": "2022-12-17T18:49:30.333Z"
   },
   {
    "duration": 243,
    "start_time": "2022-12-17T18:49:30.387Z"
   },
   {
    "duration": 21,
    "start_time": "2022-12-17T18:49:30.632Z"
   },
   {
    "duration": 66,
    "start_time": "2022-12-17T18:49:30.655Z"
   },
   {
    "duration": 54,
    "start_time": "2022-12-17T18:49:30.723Z"
   },
   {
    "duration": 59,
    "start_time": "2022-12-17T18:49:30.779Z"
   },
   {
    "duration": 69,
    "start_time": "2022-12-17T18:49:30.840Z"
   },
   {
    "duration": 51,
    "start_time": "2022-12-17T18:49:30.911Z"
   },
   {
    "duration": 71,
    "start_time": "2022-12-17T18:49:30.964Z"
   },
   {
    "duration": 85,
    "start_time": "2022-12-17T18:49:31.038Z"
   },
   {
    "duration": 94,
    "start_time": "2022-12-17T18:49:31.125Z"
   },
   {
    "duration": 312,
    "start_time": "2022-12-17T18:49:31.220Z"
   },
   {
    "duration": 11,
    "start_time": "2022-12-17T18:49:31.533Z"
   },
   {
    "duration": 53,
    "start_time": "2022-12-17T18:49:31.546Z"
   },
   {
    "duration": 92,
    "start_time": "2022-12-17T18:49:31.601Z"
   },
   {
    "duration": 47,
    "start_time": "2022-12-17T18:49:31.695Z"
   },
   {
    "duration": 42,
    "start_time": "2022-12-17T18:49:31.744Z"
   },
   {
    "duration": 40,
    "start_time": "2022-12-17T18:49:31.788Z"
   },
   {
    "duration": 45,
    "start_time": "2022-12-17T18:49:31.829Z"
   },
   {
    "duration": 82,
    "start_time": "2022-12-17T18:49:31.876Z"
   },
   {
    "duration": 199,
    "start_time": "2022-12-17T18:49:31.959Z"
   },
   {
    "duration": 77,
    "start_time": "2022-12-17T18:49:32.162Z"
   },
   {
    "duration": 283,
    "start_time": "2022-12-17T18:49:32.241Z"
   },
   {
    "duration": 26,
    "start_time": "2022-12-17T18:49:32.525Z"
   },
   {
    "duration": 150,
    "start_time": "2022-12-17T18:49:32.553Z"
   },
   {
    "duration": 41,
    "start_time": "2022-12-17T18:49:32.704Z"
   },
   {
    "duration": 54,
    "start_time": "2022-12-17T18:49:32.747Z"
   },
   {
    "duration": 50,
    "start_time": "2022-12-17T18:49:32.802Z"
   },
   {
    "duration": 7,
    "start_time": "2022-12-17T18:52:13.884Z"
   },
   {
    "duration": 9,
    "start_time": "2022-12-17T18:52:35.867Z"
   },
   {
    "duration": 2256,
    "start_time": "2022-12-17T19:05:59.864Z"
   },
   {
    "duration": 1397,
    "start_time": "2022-12-17T19:06:02.123Z"
   },
   {
    "duration": 646,
    "start_time": "2022-12-17T19:06:03.522Z"
   },
   {
    "duration": 33,
    "start_time": "2022-12-17T19:06:04.170Z"
   },
   {
    "duration": 6,
    "start_time": "2022-12-17T19:06:04.206Z"
   },
   {
    "duration": 482,
    "start_time": "2022-12-17T19:06:04.214Z"
   },
   {
    "duration": 43,
    "start_time": "2022-12-17T19:06:04.699Z"
   },
   {
    "duration": 103,
    "start_time": "2022-12-17T19:06:04.744Z"
   },
   {
    "duration": 18,
    "start_time": "2022-12-17T19:06:04.849Z"
   },
   {
    "duration": 5,
    "start_time": "2022-12-17T19:06:04.869Z"
   },
   {
    "duration": 104,
    "start_time": "2022-12-17T19:06:04.875Z"
   },
   {
    "duration": 14,
    "start_time": "2022-12-17T19:06:04.980Z"
   },
   {
    "duration": 49,
    "start_time": "2022-12-17T19:06:04.995Z"
   },
   {
    "duration": 6,
    "start_time": "2022-12-17T19:06:05.047Z"
   },
   {
    "duration": 20,
    "start_time": "2022-12-17T19:06:05.055Z"
   },
   {
    "duration": 204,
    "start_time": "2022-12-17T19:06:05.077Z"
   },
   {
    "duration": 57,
    "start_time": "2022-12-17T19:06:05.283Z"
   },
   {
    "duration": 43,
    "start_time": "2022-12-17T19:06:05.342Z"
   },
   {
    "duration": 6,
    "start_time": "2022-12-17T19:06:05.387Z"
   },
   {
    "duration": 28,
    "start_time": "2022-12-17T19:06:05.394Z"
   },
   {
    "duration": 183,
    "start_time": "2022-12-17T19:06:05.424Z"
   },
   {
    "duration": 28,
    "start_time": "2022-12-17T19:06:05.609Z"
   },
   {
    "duration": 6,
    "start_time": "2022-12-17T19:06:05.639Z"
   },
   {
    "duration": 14,
    "start_time": "2022-12-17T19:06:05.646Z"
   },
   {
    "duration": 16,
    "start_time": "2022-12-17T19:06:05.662Z"
   },
   {
    "duration": 57,
    "start_time": "2022-12-17T19:06:05.680Z"
   },
   {
    "duration": 12,
    "start_time": "2022-12-17T19:06:05.739Z"
   },
   {
    "duration": 20,
    "start_time": "2022-12-17T19:06:05.752Z"
   },
   {
    "duration": 13,
    "start_time": "2022-12-17T19:06:05.774Z"
   },
   {
    "duration": 56,
    "start_time": "2022-12-17T19:06:05.789Z"
   },
   {
    "duration": 233,
    "start_time": "2022-12-17T19:06:05.847Z"
   },
   {
    "duration": 12,
    "start_time": "2022-12-17T19:06:06.081Z"
   },
   {
    "duration": 32,
    "start_time": "2022-12-17T19:06:06.094Z"
   },
   {
    "duration": 33,
    "start_time": "2022-12-17T19:06:06.128Z"
   },
   {
    "duration": 7,
    "start_time": "2022-12-17T19:06:06.163Z"
   },
   {
    "duration": 5,
    "start_time": "2022-12-17T19:06:06.172Z"
   },
   {
    "duration": 13,
    "start_time": "2022-12-17T19:06:06.179Z"
   },
   {
    "duration": 45,
    "start_time": "2022-12-17T19:06:06.194Z"
   },
   {
    "duration": 26,
    "start_time": "2022-12-17T19:06:06.242Z"
   },
   {
    "duration": 139,
    "start_time": "2022-12-17T19:06:06.269Z"
   },
   {
    "duration": 33,
    "start_time": "2022-12-17T19:06:06.412Z"
   },
   {
    "duration": 270,
    "start_time": "2022-12-17T19:06:06.446Z"
   },
   {
    "duration": 27,
    "start_time": "2022-12-17T19:06:06.721Z"
   },
   {
    "duration": 153,
    "start_time": "2022-12-17T19:06:06.750Z"
   },
   {
    "duration": 43,
    "start_time": "2022-12-17T19:06:06.904Z"
   },
   {
    "duration": 3,
    "start_time": "2022-12-17T19:06:06.948Z"
   },
   {
    "duration": 10,
    "start_time": "2022-12-17T19:06:06.952Z"
   },
   {
    "duration": 55,
    "start_time": "2022-12-18T06:29:10.468Z"
   },
   {
    "duration": 4915,
    "start_time": "2022-12-18T06:29:17.386Z"
   },
   {
    "duration": 1937,
    "start_time": "2022-12-18T06:29:22.303Z"
   },
   {
    "duration": 2123,
    "start_time": "2022-12-18T06:29:24.241Z"
   },
   {
    "duration": 29,
    "start_time": "2022-12-18T06:29:26.366Z"
   },
   {
    "duration": 4,
    "start_time": "2022-12-18T06:29:26.397Z"
   },
   {
    "duration": 504,
    "start_time": "2022-12-18T06:29:26.403Z"
   },
   {
    "duration": 43,
    "start_time": "2022-12-18T06:29:26.910Z"
   },
   {
    "duration": 115,
    "start_time": "2022-12-18T06:29:26.956Z"
   },
   {
    "duration": 20,
    "start_time": "2022-12-18T06:29:27.073Z"
   },
   {
    "duration": 28,
    "start_time": "2022-12-18T06:29:27.096Z"
   },
   {
    "duration": 86,
    "start_time": "2022-12-18T06:29:27.125Z"
   },
   {
    "duration": 13,
    "start_time": "2022-12-18T06:29:27.213Z"
   },
   {
    "duration": 45,
    "start_time": "2022-12-18T06:29:27.228Z"
   },
   {
    "duration": 5,
    "start_time": "2022-12-18T06:29:27.275Z"
   },
   {
    "duration": 15,
    "start_time": "2022-12-18T06:29:27.282Z"
   },
   {
    "duration": 268,
    "start_time": "2022-12-18T06:29:27.299Z"
   },
   {
    "duration": 52,
    "start_time": "2022-12-18T06:29:27.569Z"
   },
   {
    "duration": 65,
    "start_time": "2022-12-18T06:29:27.623Z"
   },
   {
    "duration": 7,
    "start_time": "2022-12-18T06:29:27.690Z"
   },
   {
    "duration": 17,
    "start_time": "2022-12-18T06:29:27.698Z"
   },
   {
    "duration": 209,
    "start_time": "2022-12-18T06:29:27.717Z"
   },
   {
    "duration": 40,
    "start_time": "2022-12-18T06:29:27.929Z"
   },
   {
    "duration": 7,
    "start_time": "2022-12-18T06:29:27.971Z"
   },
   {
    "duration": 14,
    "start_time": "2022-12-18T06:29:27.980Z"
   },
   {
    "duration": 18,
    "start_time": "2022-12-18T06:29:27.996Z"
   },
   {
    "duration": 49,
    "start_time": "2022-12-18T06:29:28.016Z"
   },
   {
    "duration": 12,
    "start_time": "2022-12-18T06:29:28.067Z"
   },
   {
    "duration": 16,
    "start_time": "2022-12-18T06:29:28.082Z"
   },
   {
    "duration": 18,
    "start_time": "2022-12-18T06:29:28.100Z"
   },
   {
    "duration": 31,
    "start_time": "2022-12-18T06:29:28.151Z"
   },
   {
    "duration": 285,
    "start_time": "2022-12-18T06:29:28.184Z"
   },
   {
    "duration": 12,
    "start_time": "2022-12-18T06:29:28.471Z"
   },
   {
    "duration": 21,
    "start_time": "2022-12-18T06:29:28.485Z"
   },
   {
    "duration": 52,
    "start_time": "2022-12-18T06:29:28.508Z"
   },
   {
    "duration": 8,
    "start_time": "2022-12-18T06:29:28.562Z"
   },
   {
    "duration": 6,
    "start_time": "2022-12-18T06:29:28.574Z"
   },
   {
    "duration": 16,
    "start_time": "2022-12-18T06:29:28.582Z"
   },
   {
    "duration": 1345,
    "start_time": "2022-12-18T06:29:28.600Z"
   },
   {
    "duration": 0,
    "start_time": "2022-12-18T06:29:29.947Z"
   },
   {
    "duration": 0,
    "start_time": "2022-12-18T06:29:29.948Z"
   },
   {
    "duration": 1,
    "start_time": "2022-12-18T06:29:29.949Z"
   },
   {
    "duration": 0,
    "start_time": "2022-12-18T06:29:29.951Z"
   },
   {
    "duration": 0,
    "start_time": "2022-12-18T06:29:29.952Z"
   },
   {
    "duration": 0,
    "start_time": "2022-12-18T06:29:29.954Z"
   },
   {
    "duration": 0,
    "start_time": "2022-12-18T06:29:29.955Z"
   },
   {
    "duration": 0,
    "start_time": "2022-12-18T06:29:29.956Z"
   },
   {
    "duration": 0,
    "start_time": "2022-12-18T06:29:29.957Z"
   },
   {
    "duration": 13,
    "start_time": "2022-12-18T06:30:24.021Z"
   },
   {
    "duration": 16,
    "start_time": "2022-12-18T06:30:24.808Z"
   },
   {
    "duration": 7,
    "start_time": "2022-12-18T06:32:22.941Z"
   },
   {
    "duration": 16,
    "start_time": "2022-12-18T06:33:56.590Z"
   },
   {
    "duration": 8,
    "start_time": "2022-12-18T06:33:57.064Z"
   },
   {
    "duration": 15,
    "start_time": "2022-12-18T06:35:26.333Z"
   },
   {
    "duration": 7,
    "start_time": "2022-12-18T06:35:26.843Z"
   },
   {
    "duration": 16,
    "start_time": "2022-12-18T06:36:07.730Z"
   },
   {
    "duration": 7,
    "start_time": "2022-12-18T06:36:08.673Z"
   },
   {
    "duration": 16,
    "start_time": "2022-12-18T06:36:23.612Z"
   },
   {
    "duration": 8,
    "start_time": "2022-12-18T06:36:24.109Z"
   },
   {
    "duration": 6,
    "start_time": "2022-12-18T06:36:38.311Z"
   },
   {
    "duration": 16,
    "start_time": "2022-12-18T06:36:55.748Z"
   },
   {
    "duration": 7,
    "start_time": "2022-12-18T06:36:56.243Z"
   },
   {
    "duration": 13,
    "start_time": "2022-12-18T06:37:03.010Z"
   },
   {
    "duration": 20,
    "start_time": "2022-12-18T06:37:19.513Z"
   },
   {
    "duration": 2600,
    "start_time": "2022-12-18T06:48:55.948Z"
   },
   {
    "duration": 1467,
    "start_time": "2022-12-18T06:48:58.550Z"
   },
   {
    "duration": 671,
    "start_time": "2022-12-18T06:49:00.018Z"
   },
   {
    "duration": 30,
    "start_time": "2022-12-18T06:49:00.691Z"
   },
   {
    "duration": 4,
    "start_time": "2022-12-18T06:49:00.724Z"
   },
   {
    "duration": 465,
    "start_time": "2022-12-18T06:49:00.730Z"
   },
   {
    "duration": 30,
    "start_time": "2022-12-18T06:49:01.197Z"
   },
   {
    "duration": 122,
    "start_time": "2022-12-18T06:49:01.229Z"
   },
   {
    "duration": 19,
    "start_time": "2022-12-18T06:49:01.353Z"
   },
   {
    "duration": 7,
    "start_time": "2022-12-18T06:49:01.374Z"
   },
   {
    "duration": 88,
    "start_time": "2022-12-18T06:49:01.382Z"
   },
   {
    "duration": 13,
    "start_time": "2022-12-18T06:49:01.473Z"
   },
   {
    "duration": 28,
    "start_time": "2022-12-18T06:49:01.487Z"
   },
   {
    "duration": 33,
    "start_time": "2022-12-18T06:49:01.518Z"
   },
   {
    "duration": 9,
    "start_time": "2022-12-18T06:49:01.552Z"
   },
   {
    "duration": 231,
    "start_time": "2022-12-18T06:49:01.563Z"
   },
   {
    "duration": 57,
    "start_time": "2022-12-18T06:49:01.796Z"
   },
   {
    "duration": 46,
    "start_time": "2022-12-18T06:49:01.854Z"
   },
   {
    "duration": 6,
    "start_time": "2022-12-18T06:49:01.902Z"
   },
   {
    "duration": 17,
    "start_time": "2022-12-18T06:49:01.910Z"
   },
   {
    "duration": 187,
    "start_time": "2022-12-18T06:49:01.929Z"
   },
   {
    "duration": 22,
    "start_time": "2022-12-18T06:49:02.118Z"
   },
   {
    "duration": 12,
    "start_time": "2022-12-18T06:49:02.142Z"
   },
   {
    "duration": 16,
    "start_time": "2022-12-18T06:49:02.156Z"
   },
   {
    "duration": 17,
    "start_time": "2022-12-18T06:49:02.174Z"
   },
   {
    "duration": 22,
    "start_time": "2022-12-18T06:49:02.193Z"
   },
   {
    "duration": 35,
    "start_time": "2022-12-18T06:49:02.217Z"
   },
   {
    "duration": 18,
    "start_time": "2022-12-18T06:49:02.254Z"
   },
   {
    "duration": 16,
    "start_time": "2022-12-18T06:49:02.273Z"
   },
   {
    "duration": 26,
    "start_time": "2022-12-18T06:49:02.291Z"
   },
   {
    "duration": 211,
    "start_time": "2022-12-18T06:49:02.318Z"
   },
   {
    "duration": 11,
    "start_time": "2022-12-18T06:49:02.531Z"
   },
   {
    "duration": 22,
    "start_time": "2022-12-18T06:49:02.543Z"
   },
   {
    "duration": 33,
    "start_time": "2022-12-18T06:49:02.567Z"
   },
   {
    "duration": 7,
    "start_time": "2022-12-18T06:49:02.602Z"
   },
   {
    "duration": 7,
    "start_time": "2022-12-18T06:49:02.611Z"
   },
   {
    "duration": 41,
    "start_time": "2022-12-18T06:49:02.620Z"
   },
   {
    "duration": 16,
    "start_time": "2022-12-18T06:49:02.663Z"
   },
   {
    "duration": 24,
    "start_time": "2022-12-18T06:49:02.680Z"
   },
   {
    "duration": 143,
    "start_time": "2022-12-18T06:49:02.707Z"
   },
   {
    "duration": 26,
    "start_time": "2022-12-18T06:49:02.855Z"
   },
   {
    "duration": 275,
    "start_time": "2022-12-18T06:49:02.883Z"
   },
   {
    "duration": 28,
    "start_time": "2022-12-18T06:49:03.160Z"
   },
   {
    "duration": 165,
    "start_time": "2022-12-18T06:49:03.190Z"
   },
   {
    "duration": 31,
    "start_time": "2022-12-18T06:49:03.356Z"
   },
   {
    "duration": 3,
    "start_time": "2022-12-18T06:49:03.388Z"
   },
   {
    "duration": 15,
    "start_time": "2022-12-18T06:49:03.393Z"
   },
   {
    "duration": 140,
    "start_time": "2022-12-18T06:49:40.855Z"
   }
  ],
  "kernelspec": {
   "display_name": "Python 3",
   "language": "python",
   "name": "python3"
  },
  "language_info": {
   "codemirror_mode": {
    "name": "ipython",
    "version": 3
   },
   "file_extension": ".py",
   "mimetype": "text/x-python",
   "name": "python",
   "nbconvert_exporter": "python",
   "pygments_lexer": "ipython3",
   "version": "3.7.6"
  },
  "toc": {
   "base_numbering": 1,
   "nav_menu": {},
   "number_sections": true,
   "sideBar": true,
   "skip_h1_title": true,
   "title_cell": "Table of Contents",
   "title_sidebar": "Contents",
   "toc_cell": false,
   "toc_position": {},
   "toc_section_display": true,
   "toc_window_display": false
  }
 },
 "nbformat": 4,
 "nbformat_minor": 2
}
