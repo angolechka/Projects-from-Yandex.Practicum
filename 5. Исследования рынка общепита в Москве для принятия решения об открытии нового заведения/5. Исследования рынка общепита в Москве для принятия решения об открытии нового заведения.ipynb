{
 "cells": [
  {
   "cell_type": "markdown",
   "metadata": {},
   "source": [
    "# Проектная работа"
   ]
  },
  {
   "cell_type": "markdown",
   "metadata": {},
   "source": [
    "# Рынок заведений общественного питания Москвы"
   ]
  },
  {
   "cell_type": "markdown",
   "metadata": {},
   "source": [
    "# Описание проекта"
   ]
  },
  {
   "cell_type": "markdown",
   "metadata": {},
   "source": [
    "Инвесторы из фонда «Shut Up and Take My Money» решили попробовать себя в новой области и открыть заведение общественного питания в Москве. Заказчики ещё не знают, что это будет за место: кафе, ресторан, пиццерия, паб или бар, — и какими будут расположение, меню и цены.\n",
    "\n",
    "Для начала они просят вас — аналитика — подготовить исследование рынка Москвы, найти интересные особенности и презентовать полученные результаты, которые в будущем помогут в выборе подходящего инвесторам места.\n",
    "Постарайтесь сделать презентацию информативной и лаконичной. Её структура и оформление сильно влияют на восприятие информации читателями вашего исследования. Выбирать инструменты (matplotlib, seaborn и другие) и типы визуализаций вы можете самостоятельно.\n",
    "\n",
    "Вам доступен датасет с заведениями общественного питания Москвы, составленный на основе данных сервисов Яндекс Карты и Яндекс Бизнес на лето 2022 года. Информация, размещённая в сервисе Яндекс Бизнес, могла быть добавлена пользователями или найдена в общедоступных источниках. Она носит исключительно справочный характер."
   ]
  },
  {
   "cell_type": "markdown",
   "metadata": {},
   "source": [
    "# Описание данных"
   ]
  },
  {
   "cell_type": "markdown",
   "metadata": {},
   "source": [
    "Файл `moscow_places.csv`:\n",
    "\n",
    "* `name` — название заведения;\n",
    "* `address` — адрес заведения;\n",
    "* `category` — категория заведения, например «кафе», «пиццерия» или «кофейня»;\n",
    "* `hours` — информация о днях и часах работы;\n",
    "* `lat` — широта географической точки, в которой находится заведение;\n",
    "* `lng` — долгота географической точки, в которой находится заведение;\n",
    "* `rating` — рейтинг заведения по оценкам пользователей в Яндекс Картах (высшая оценка — 5.0);\n",
    "* `price` — категория цен в заведении, например «средние», «ниже среднего», «выше среднего» и так далее;\n",
    "* `avg_bill` — строка, которая хранит среднюю стоимость заказа в виде диапазона, например:\n",
    "    * «Средний счёт: 1000–1500 ₽»;\n",
    "    * «Цена чашки капучино: 130–220 ₽»;\n",
    "    * «Цена бокала пива: 400–600 ₽».\n",
    "    и так далее;\n",
    "* `middle_avg_bill` — число с оценкой среднего чека, которое указано только для значений из столбца `avg_bill`, начинающихся с подстроки «Средний счёт»:\n",
    "    * Если в строке указан ценовой диапазон из двух значений, в столбец войдёт медиана этих двух значений.\n",
    "    * Если в строке указано одно число — цена без диапазона, то в столбец войдёт это число.\n",
    "    * Если значения нет или оно не начинается с подстроки «Средний счёт», то в столбец ничего не войдёт.\n",
    "* `middle_coffee_cup` — число с оценкой одной чашки капучино, которое указано только для значений из столбца `avg_bill`, начинающихся с подстроки «Цена одной чашки капучино»:\n",
    "    * Если в строке указан ценовой диапазон из двух значений, в столбец войдёт медиана этих двух значений.\n",
    "    * Если в строке указано одно число — цена без диапазона, то в столбец войдёт это число.\n",
    "    * Если значения нет или оно не начинается с подстроки «Цена одной чашки капучино», то в столбец ничего не войдёт.\n",
    "* `chain` — число, выраженное 0 или 1, которое показывает, является ли заведение сетевым (для маленьких сетей могут встречаться ошибки);\n",
    "* `district` — административный район, в котором находится заведение, например Центральный административный округ;\n",
    "* `seats` — количество посадочных мест."
   ]
  },
  {
   "cell_type": "markdown",
   "metadata": {},
   "source": [
    "# Задачи проекта"
   ]
  },
  {
   "cell_type": "markdown",
   "metadata": {},
   "source": [
    "1. Провести исследование рынка заведений общественного питания Москвы и найти интересные особенности\n",
    "2. Подготовить презентацию с полученными результатами, которые в будущем помогут в выборе подходящего инвесторам места"
   ]
  },
  {
   "cell_type": "markdown",
   "metadata": {},
   "source": [
    "# Этапы проекта"
   ]
  },
  {
   "cell_type": "markdown",
   "metadata": {},
   "source": [
    "1. [Загрузка данных и изучение общей информации](#start)\n",
    "2. [Предобработка данных](#preprocessing)\n",
    "    * [Обработка дубликатов](#duplicates)\n",
    "    * [Обработка пропущенных значений](#null)\n",
    "3. [Анализ данных](#analysis)\n",
    "    * [Исследование количества объектов общественного питания по категориям](#categories)\n",
    "    * [Исследование количества посадочных мест в местах по категориям](#seats)\n",
    "    * [Поиск соотношения сетевых и несетевых заведений](#chain_and_not)\n",
    "    * [Исследование, какие категории заведений чаще являются сетевыми](#chain)\n",
    "    * [Обзор топ-15 популярных сетей в Москве](#top_15)\n",
    "    * [Исследование общего количества заведений и количество заведений каждой категории по районам](#districts)\n",
    "    * [Распределение средних рейтингов по категориям заведений](#ratings)\n",
    "    * [Построение фоновой картограммы (хороплет) со средним рейтингом заведений каждого района](#map)\n",
    "    * [Отображение всех заведений датасета на карте с помощью кластеров](#clusters)\n",
    "    * [Обзор топ-15 улиц по количеству заведений](#top_15_street)\n",
    "    * [Отображение улиц с одним заведением общественного питания](#lonely)\n",
    "    * [Анализ ценового диапазона заведений по районам](#avg_bill)\n",
    "    \n",
    "4. [Детализация исследования: открытие кофейни](#detalisation)\n",
    "    * [Обзор количества и расположения кофеен](#coffee_number)\n",
    "    * [Анализ наличия круглосуточных кофеен](#24_7_coffee)\n",
    "    * [Обзор рейтингов кофеен и их распределения по районам](#coffee_ratings)\n",
    "    * [Определение стоимости чашки капучино, на которую стоит ориентироваться при открытии](#coffee_cost)\n",
    "5. [Подготовка презентации](#presentation)\n",
    "6. [Вывод](#conclusion)"
   ]
  },
  {
   "cell_type": "markdown",
   "metadata": {},
   "source": [
    "# Ход исследования"
   ]
  },
  {
   "cell_type": "markdown",
   "metadata": {},
   "source": [
    "## <a id='start'> Загрузка данных и подготовка их к анализу </a>  "
   ]
  },
  {
   "cell_type": "code",
   "execution_count": 1,
   "metadata": {},
   "outputs": [],
   "source": [
    "#pip install geojson"
   ]
  },
  {
   "cell_type": "code",
   "execution_count": 2,
   "metadata": {},
   "outputs": [],
   "source": [
    "#!pip3 install folium"
   ]
  },
  {
   "cell_type": "code",
   "execution_count": null,
   "metadata": {},
   "outputs": [],
   "source": [
    "# импортируем все библиотеки, которые нам будут нужны для выполнения исследования\n",
    "\n",
    "import pandas as pd\n",
    "import matplotlib.pyplot as plt\n",
    "import seaborn as sns\n",
    "import plotly.express as px\n",
    "from plotly import graph_objects as go\n",
    "import numpy as np\n",
    "import math as mth\n",
    "from scipy import stats as st\n",
    "import re\n",
    "import folium\n",
    "import geojson\n",
    "from folium import Map, Marker"
   ]
  },
  {
   "cell_type": "code",
   "execution_count": null,
   "metadata": {},
   "outputs": [],
   "source": [
    "# откроем рабочий файл\n",
    "\n",
    "try:\n",
    "    data_raw = pd.read_csv('/datasets/moscow_places.csv')\n",
    "except:\n",
    "    data_raw = pd.read_csv('https://code.s3.yandex.net//datasets/moscow_places.csv')"
   ]
  },
  {
   "cell_type": "code",
   "execution_count": null,
   "metadata": {},
   "outputs": [],
   "source": [
    "# создадим копию датафрейма\n",
    "\n",
    "data = data_raw.copy(deep=True)"
   ]
  },
  {
   "cell_type": "code",
   "execution_count": null,
   "metadata": {},
   "outputs": [],
   "source": [
    "# выведем на экран 5 строчек таблицы\n",
    "\n",
    "display(data.head(5))"
   ]
  },
  {
   "cell_type": "code",
   "execution_count": null,
   "metadata": {},
   "outputs": [],
   "source": [
    "# посмотрим общую информацию о файле \n",
    "\n",
    "print('Общая информация о датафрейме:')\n",
    "data.info()"
   ]
  },
  {
   "cell_type": "code",
   "execution_count": null,
   "metadata": {},
   "outputs": [],
   "source": [
    "# посчитаем количество уникальных названий заведений\n",
    "\n",
    "print('Количество уникальных названий заведений:', data.name.nunique())"
   ]
  },
  {
   "cell_type": "code",
   "execution_count": null,
   "metadata": {},
   "outputs": [],
   "source": [
    "# посчитаем количество сетевых заведений\n",
    "print('Количество уникальных названий заведений:', data.query('chain == 1')['name'].nunique())"
   ]
  },
  {
   "cell_type": "code",
   "execution_count": null,
   "metadata": {},
   "outputs": [],
   "source": [
    "data.query('chain == 1')['name'].unique()"
   ]
  },
  {
   "cell_type": "markdown",
   "metadata": {},
   "source": [
    "**Вывод:**\n",
    "* В файле 8406 записи (5614 названия заведений, из них 762 сетевых)\n",
    "* В столбцах `name`, `category`, `address`, `district`, `hours`, `price`, `avg_bill` содержится информация типа *object*\n",
    "* Столбцы `lat`, `lng`, `rating`, `middle_avg_bill`, `middle_coffee_cup`, `seats` хранят информацию типа *float64*"
   ]
  },
  {
   "cell_type": "markdown",
   "metadata": {},
   "source": [
    "## <a id='preprocessing'> Предобработка данных </a>"
   ]
  },
  {
   "cell_type": "markdown",
   "metadata": {},
   "source": [
    "###  <a id='duplicates'> Обработка дубликатов </a>"
   ]
  },
  {
   "cell_type": "code",
   "execution_count": null,
   "metadata": {},
   "outputs": [],
   "source": [
    "# посчитаем количество полных дубликатов\n",
    "\n",
    "print('Количество полных дубликатов: ', data.duplicated().sum())"
   ]
  },
  {
   "cell_type": "code",
   "execution_count": null,
   "metadata": {},
   "outputs": [],
   "source": [
    "# посчитаем количество записей с одинаковыми названиями и координатами\n",
    "\n",
    "data[['name', 'address']].duplicated().sum()"
   ]
  },
  {
   "cell_type": "code",
   "execution_count": null,
   "metadata": {},
   "outputs": [],
   "source": [
    "# функция для замены нескольких значений\n",
    "\n",
    "def multiple_replace(row, replace_values):\n",
    "    for i, j in replace_values.items():\n",
    "        row = row.replace(i, j)\n",
    "    return row"
   ]
  },
  {
   "cell_type": "code",
   "execution_count": null,
   "metadata": {},
   "outputs": [],
   "source": [
    "# посмотрим, есть ли в датасете неявные дубликаты\n",
    "# для этого переведем названия заведений в нижний регистр, заменим нижнее подчеркивание на дефис, точку на пробел, букву ё на е\n",
    "\n",
    "data_searchdupl = data.copy(deep=True)\n",
    "data_searchdupl['name'] = data_searchdupl['name'].str.lower()\n",
    "replace_values = {\"_\":\"-\", \"ё\":\"е\", \".\":\"\"}\n",
    "\n",
    "data_searchdupl['name'] = multiple_replace(data_searchdupl['name'], replace_values)\n",
    "print('Количество полных дубликатов: ', data_searchdupl.duplicated().sum())\n",
    "print('Количество дубликатов: ', data_searchdupl[['name', 'address']].duplicated().sum())\n",
    "dupl_percentage = data_searchdupl[['name', 'address']].duplicated().sum()/data_searchdupl['name'].count()\n",
    "print(f'Процент дубликатов: {dupl_percentage:.2%}')"
   ]
  },
  {
   "cell_type": "code",
   "execution_count": null,
   "metadata": {
    "scrolled": true
   },
   "outputs": [],
   "source": [
    "# посмотрим на дубликаты\n",
    "\n",
    "data_searchdupl[data_searchdupl[['name', 'address']].duplicated()]"
   ]
  },
  {
   "cell_type": "code",
   "execution_count": null,
   "metadata": {},
   "outputs": [],
   "source": [
    "# очистим датасет от дубликатов\n",
    "\n",
    "data_wtht_dupl = data.drop(index=[1511, 2420, 3109]).reset_index()"
   ]
  },
  {
   "cell_type": "markdown",
   "metadata": {},
   "source": [
    "> Вывод: в датасете обнаружено 3 записи с одинаковым адресом и названием заведения. Количество дубликатов очень мало (0.04% от общего числа записей)."
   ]
  },
  {
   "cell_type": "markdown",
   "metadata": {},
   "source": [
    "###  <a id='null'> Обработка пропущенных значений </a>"
   ]
  },
  {
   "cell_type": "code",
   "execution_count": null,
   "metadata": {},
   "outputs": [],
   "source": [
    "# посчитаем количество пропущенных значений\n",
    "\n",
    "print('Количество пропущенных значений:')\n",
    "print(data_wtht_dupl.isna().sum().sort_values(ascending=False))"
   ]
  },
  {
   "cell_type": "code",
   "execution_count": null,
   "metadata": {},
   "outputs": [],
   "source": [
    "middle_coffee_cup_missed = data_wtht_dupl['middle_coffee_cup'].isna().sum()/data_wtht_dupl['name'].count()\n",
    "print(f'Пропущено {middle_coffee_cup_missed:.2%} информации о средней цене чашки кофе в заведении')\n",
    "\n",
    "middle_avg_bill_missed = data_wtht_dupl['middle_avg_bill'].isna().sum()/data_wtht_dupl['name'].count()\n",
    "print(f'Пропущено {middle_avg_bill_missed:.2%} информации о среднем чеке в заведении')\n",
    "\n",
    "price_missed = data_wtht_dupl['price'].isna().sum()/data_wtht_dupl['name'].count()\n",
    "print(f'Пропущено {price_missed:.2%} информации о ценовом сегменте заведения')\n",
    "\n",
    "avg_bill_missed = data_wtht_dupl['avg_bill'].isna().sum()/data_wtht_dupl['name'].count()\n",
    "print(f'Пропущено {avg_bill_missed:.2%} информации о средней стоимости заказа в заведении')\n",
    "\n",
    "seats_missed = data_wtht_dupl['seats'].isna().sum()/data_wtht_dupl['name'].count()\n",
    "print(f'Пропущено {seats_missed:.2%} информации о количестве посадочных мест в заведении')\n",
    "\n",
    "hours_missed = data_wtht_dupl['hours'].isna().sum()/data_wtht_dupl['name'].count()\n",
    "print(f'Пропущено {hours_missed:.2%} информации о часах работы заведения')"
   ]
  },
  {
   "cell_type": "code",
   "execution_count": null,
   "metadata": {},
   "outputs": [],
   "source": [
    "data_wtht_dupl.isna().mean()"
   ]
  },
  {
   "cell_type": "markdown",
   "metadata": {},
   "source": [
    "> Около 90% пропусков в колонке `middle_coffee_cup` и 60% middle_avg_bill - в колонке обусловлено тем, что эта информация тянется из столбца `avg_bill`, который в свою очередь содержит информацию либо о средней цене чашки кофе, либо о средней цене заказа. \n",
    "\n",
    "> В случае сетевых заведений можно попробовать заполнить данные пропуски, опираясь на одно из заведений сети, для которого эта информация указана (напр., можно предположить, что для сети \"Додо Пицца\" средний чек и ценовая категория одинаковы для всех филиалов, независимо от адреса, поскольку меню одинаковое)"
   ]
  },
  {
   "cell_type": "code",
   "execution_count": null,
   "metadata": {},
   "outputs": [],
   "source": [
    "# поделим датасет на 2 группы: сетевые заведения и несетевые\n",
    "\n",
    "data_chain = data_wtht_dupl.query('chain == 1') # сетевые\n",
    "data_unchain = data_wtht_dupl.query('chain == 0') # несетевые"
   ]
  },
  {
   "cell_type": "code",
   "execution_count": null,
   "metadata": {},
   "outputs": [],
   "source": [
    "data_chain.isna().sum()"
   ]
  },
  {
   "cell_type": "markdown",
   "metadata": {},
   "source": [
    "> Для сетевых заведений наблюдается 2066 пропусков в столбце `price`"
   ]
  },
  {
   "cell_type": "code",
   "execution_count": null,
   "metadata": {},
   "outputs": [],
   "source": [
    "# создадим словарь, в котором будет содержаться название сетевого заведения и его ценовая категория\n",
    "\n",
    "data_chain_price_dict = data_chain.dropna(subset=['price'])[['name', 'price']].set_index('name')['price'].to_dict()"
   ]
  },
  {
   "cell_type": "code",
   "execution_count": null,
   "metadata": {},
   "outputs": [],
   "source": [
    "# создадим функцию, которая заменит пропуски в столбце price в случае, если для данного сетевого заведения есть информация в словаре\n",
    "\n",
    "def fill_chain_price(x):\n",
    "    if x['price'] == x['price']:\n",
    "        return x['price']\n",
    "    else:\n",
    "        if x['name'] in data_chain_price_dict:\n",
    "            return data_chain_price_dict[x['name']]\n",
    "        else:\n",
    "            return x['price']"
   ]
  },
  {
   "cell_type": "code",
   "execution_count": null,
   "metadata": {},
   "outputs": [],
   "source": [
    "data_chain_copy = data_chain.copy(deep=True)\n",
    "data_chain_copy.info()"
   ]
  },
  {
   "cell_type": "code",
   "execution_count": null,
   "metadata": {},
   "outputs": [],
   "source": [
    "# применим функцию к датафрейму \n",
    "\n",
    "data_chain_copy['price'] = data_chain_copy.apply(lambda x: fill_chain_price(x), axis=1)\n",
    "print('Количество пропусков в столбце price после применения функции: ', data_chain_copy['price'].isna().sum())"
   ]
  },
  {
   "cell_type": "markdown",
   "metadata": {},
   "source": [
    "> С помощью использования информации о категории заведения для одного заведения сети удалось заполнить 1097 пропусков в столбце `price`"
   ]
  },
  {
   "cell_type": "code",
   "execution_count": null,
   "metadata": {},
   "outputs": [],
   "source": [
    "# создадим столбец street с названиями улиц из столбца с адресом\n",
    "\n",
    "words = ['улица','ул','переулок','шоссе','проспект','площадь','проезд',\n",
    "         'село','аллея','бульвар','набережная','тупик','линия']\n",
    "str_pat = r\".*,\\s*\\b([^,]*?(?:{})\\b[^,]*)[,$]+\".format(\"|\".join(words))\n",
    "\n",
    "data_reg = data_wtht_dupl.copy(deep=True)\n",
    "\n",
    "data_wtht_dupl['street'] = data_reg.address.str.extract(str_pat, flags=re.I)"
   ]
  },
  {
   "cell_type": "code",
   "execution_count": null,
   "metadata": {},
   "outputs": [],
   "source": [
    "data_reg.address.str.split(', ').str[1]"
   ]
  },
  {
   "cell_type": "code",
   "execution_count": null,
   "metadata": {},
   "outputs": [],
   "source": [
    "# создадим столбец is_24/7 с обозначением, что заведение работает ежедневно и круглосуточно (24/7)\n",
    "\n",
    "data_wtht_dupl['is_24/7'] = data_wtht_dupl['hours'].str.contains('ежедневно, круглосуточно')"
   ]
  },
  {
   "cell_type": "markdown",
   "metadata": {},
   "source": [
    "**Вывод:**\n",
    "1. Полные дубликаты обнаружены не были\n",
    "2. При переводе названий заведений в нижний регистр были замечены и удалены 3 неявных дубликата (0.04% от полного количества данных)\n",
    "3. Для большой части записей не заполнена информация о категории цен в заведении и среднем чеке. В случае сетевых заведений можно заполнить данные пропуски, опираясь на одно из заведений сети, для которого эта информация указана (напр., для сети Додо Пицца средний чек и ценовая категория д.б. одинакова для всех филиалов, независимо от адреса, поскольку меню одинаковое). \n",
    "4. Однако, на мой взгляд, лучше оставить исходные данные в первоначальном виде (без заполнения пропусков), поскольку заполняя пропущенные значения медианным, мы рискуем получить неверную картину."
   ]
  },
  {
   "cell_type": "code",
   "execution_count": null,
   "metadata": {},
   "outputs": [],
   "source": [
    "data_wtht_dupl['hours'] == 'ежедневно, круглосуточно'"
   ]
  },
  {
   "cell_type": "markdown",
   "metadata": {},
   "source": [
    "## <a id='analysis'> Анализ данных </a>"
   ]
  },
  {
   "cell_type": "markdown",
   "metadata": {},
   "source": [
    "###  <a id='categories'> Какие категории заведений представлены в данных? Исследуйте количество объектов общественного питания по категориям: рестораны, кофейни, пиццерии, бары и так далее. Постройте визуализации. Ответьте на вопрос о распределении заведений по категориям. </a> "
   ]
  },
  {
   "cell_type": "code",
   "execution_count": null,
   "metadata": {},
   "outputs": [],
   "source": [
    "categories = list(data_wtht_dupl['category'].unique())\n",
    "categories"
   ]
  },
  {
   "cell_type": "code",
   "execution_count": null,
   "metadata": {},
   "outputs": [],
   "source": [
    "# подготовим данные для графика\n",
    "\n",
    "data_categorized = (\n",
    "    data_wtht_dupl.pivot_table(\n",
    "            index='category', \n",
    "            values='name', \n",
    "            aggfunc='count')\n",
    "    .sort_values(by='name', ascending=False)\n",
    "    .reset_index()\n",
    "    .rename(columns={'name':'count'})\n",
    ")"
   ]
  },
  {
   "cell_type": "code",
   "execution_count": null,
   "metadata": {},
   "outputs": [],
   "source": [
    "data_categorized"
   ]
  },
  {
   "cell_type": "code",
   "execution_count": null,
   "metadata": {},
   "outputs": [],
   "source": [
    "# строим столбчатую диаграмму распределения заведений по категориям\n",
    "\n",
    "fig = px.bar(data_categorized, \n",
    "             x='category', # указываем столбец с данными для оси X\n",
    "             y='count', # указываем столбец с данными для оси Y\n",
    "             text='count',\n",
    "             color_discrete_sequence=px.colors.qualitative.Pastel2\n",
    "            )\n",
    "# оформляем график\n",
    "\n",
    "fig.update_layout(title='Распределение заведений по категориям',\n",
    "                   xaxis_title='Тип заведений',\n",
    "                   yaxis_title='Количество заведений')\n",
    "fig.update_traces(textfont_size=12, textangle=0, textposition=\"inside\", cliponaxis=False)\n",
    "fig.show() # выводим график"
   ]
  },
  {
   "cell_type": "markdown",
   "metadata": {},
   "source": [
    "> Большинство заведений - это кафе (2377 заведений), второй по популярности тип заведения - ресторан (2042 заведения), на третьем месте находятся кофейни (1413 заведений)."
   ]
  },
  {
   "cell_type": "markdown",
   "metadata": {},
   "source": [
    "### <a id='seats'> Исследуйте количество посадочных мест в местах по категориям: рестораны, кофейни, пиццерии, бары и так далее. Постройте визуализации. Проанализируйте результаты и сделайте выводы. </a> "
   ]
  },
  {
   "cell_type": "code",
   "execution_count": null,
   "metadata": {},
   "outputs": [],
   "source": [
    "# построим ящик с усами, чтобы посмотреть распределение мест в заведениях по категориям\n",
    "\n",
    "plt.figure(figsize=(15,5))\n",
    "sns.boxplot(data=data_wtht_dupl.dropna(subset=['seats']), x='category', y='seats') # уберем строки с пропущенным значением в столбце seats\n",
    "plt.xlabel('Тип заведений')\n",
    "plt.ylabel('Количество мест в заведениях')\n",
    "plt.title('Распределение посадочных мест в заведениях по категориям')\n",
    "plt.show()"
   ]
  },
  {
   "cell_type": "code",
   "execution_count": null,
   "metadata": {},
   "outputs": [],
   "source": [
    "# построим ящик с усами, чтобы посмотреть распределение мест в заведениях по категориям\n",
    "\n",
    "plt.figure(figsize=(15,5))\n",
    "sns.boxplot(data=data_wtht_dupl.dropna(subset=['seats']), x='category', y='seats') # уберем строки с пропущенным значением в столбце seats\n",
    "plt.xlabel('Тип заведений')\n",
    "plt.ylabel('Количество мест в заведениях')\n",
    "plt.title('Распределение посадочных мест в заведениях по категориям')\n",
    "plt.ylim([0,200])\n",
    "plt.show()"
   ]
  },
  {
   "cell_type": "code",
   "execution_count": null,
   "metadata": {},
   "outputs": [],
   "source": [
    "# подготовим сводную таблицу с медианными значениями\n",
    "\n",
    "data_seats = (\n",
    "    data_wtht_dupl.pivot_table(\n",
    "            index='category', \n",
    "            values='seats', \n",
    "            aggfunc='median')\n",
    "    .sort_values(by='seats', ascending=False)\n",
    "    .reset_index()\n",
    "    .rename(columns={'seats':'seats_median'})\n",
    ")\n",
    "data_seats"
   ]
  },
  {
   "cell_type": "markdown",
   "metadata": {},
   "source": [
    "> Вывод: Для всех дипов заведений медианное значение количества посадочных мест колеблется между 50 и 90. Самое большое значение наблюдается для ресторанов - 86 мест, самое маленькое для булочной - 50 мест.\n",
    "\n",
    "> Самый большой разброс количества посадочных мест наблюдается в кафе"
   ]
  },
  {
   "cell_type": "markdown",
   "metadata": {},
   "source": [
    "### <a id='chain_and_not'> Рассмотрите и изобразите соотношение сетевых и несетевых заведений в датасете. Каких заведений больше? </a> "
   ]
  },
  {
   "cell_type": "code",
   "execution_count": null,
   "metadata": {},
   "outputs": [],
   "source": [
    "# подготовим данные для графика\n",
    "\n",
    "data_chain_pivot = (\n",
    "    data_wtht_dupl.pivot_table(\n",
    "            index='chain', \n",
    "            values='name', \n",
    "            aggfunc='nunique')\n",
    "    .sort_values(by='name', ascending=False)\n",
    "    .reset_index()\n",
    "    .rename(columns={'name':'count'})\n",
    ")"
   ]
  },
  {
   "cell_type": "code",
   "execution_count": null,
   "metadata": {},
   "outputs": [],
   "source": [
    "# заменим 0 и 1 в столбце chain на несетевое и сетевое соотвественно\n",
    "\n",
    "data_chain_pivot = data_chain_pivot.replace(0, \"несетевое\")\n",
    "data_chain_pivot = data_chain_pivot.replace(1, \"сетевое\")"
   ]
  },
  {
   "cell_type": "code",
   "execution_count": null,
   "metadata": {},
   "outputs": [],
   "source": [
    "# построим круговую диаграмму, отображающую соотношение сетевых и несетевых заведений\n",
    "\n",
    "colors = ['F7A4A4', 'FCDDB0']\n",
    "fig = go.Figure(data=[go.Pie(labels=data_chain_pivot['chain'], values=data_chain_pivot['count'])])\n",
    "fig.update_traces(marker=dict(colors=colors))\n",
    "fig.update_layout(title='Соотношение сетевых и несетевых заведений', # указываем заголовок графика\n",
    "                  width=600, # указываем размеры графика\n",
    "                  height=500,\n",
    "                  annotations=[dict(x=1.12, # вручную настраиваем аннотацию легенды\n",
    "                                    y=1.05,\n",
    "                                    text='Тип заведения',\n",
    "                                    showarrow=False)])\n",
    "fig.show()"
   ]
  },
  {
   "cell_type": "markdown",
   "metadata": {},
   "source": [
    "> Вывод: Соотношение сетевых и несетевых заведений в датасете составляет 13.6% против 86.4%. Таким образом, несетевых заведений в датасете представлено больше."
   ]
  },
  {
   "cell_type": "markdown",
   "metadata": {},
   "source": [
    "### <a id='chain'> Какие категории заведений чаще являются сетевыми? Исследуйте данные и ответьте на вопрос графиком. </a>"
   ]
  },
  {
   "cell_type": "code",
   "execution_count": null,
   "metadata": {},
   "outputs": [],
   "source": [
    "# подготовим данные для графика\n",
    "\n",
    "data_chain_categorised = (\n",
    "    data_chain.pivot_table(\n",
    "            index='category', \n",
    "            values='name', \n",
    "            aggfunc='nunique')\n",
    "    .sort_values(by='name', ascending=False)\n",
    "    .reset_index()\n",
    "    .rename(columns={'name':'count'})\n",
    ")\n",
    "data_chain_categorised"
   ]
  },
  {
   "cell_type": "code",
   "execution_count": null,
   "metadata": {},
   "outputs": [],
   "source": [
    "# строим столбчатую диаграмму распределения заведений по категориям\n",
    "\n",
    "plt.figure(figsize=(12,5))\n",
    "sns.set_style('white')\n",
    "sns.barplot(x='category', y='count', data=data_chain_categorised)\n",
    "plt.xlabel('Тип заведений')\n",
    "plt.ylabel('Количество заведений')\n",
    "plt.title('Распределение типов заведений внутри сетевых')\n",
    "plt.show()"
   ]
  },
  {
   "cell_type": "markdown",
   "metadata": {},
   "source": [
    "> Вывод: Чаще всего сетевыми являются кафе и рестораны - 357 и 276 заведений соответственно. Меньше всего сетевых заведений типа \"булочная\" - 41 шт. "
   ]
  },
  {
   "cell_type": "markdown",
   "metadata": {},
   "source": [
    "### <a id='top_15'> Сгруппируйте данные по названиям заведений и найдите топ-15 популярных сетей в Москве. Постройте подходящую для такой информации визуализацию. Знакомы ли вам эти сети? Есть ли какой-то признак, который их объединяет? К какой категории заведений они относятся? Отобразите общее количество заведений и количество заведений каждой категории по районам. </a>"
   ]
  },
  {
   "cell_type": "code",
   "execution_count": null,
   "metadata": {},
   "outputs": [],
   "source": [
    "# отфильтруем данные, сгруппируем по названию, посчитаем число заведений и отберем топ-15\n",
    "\n",
    "data_top_15 = (\n",
    "    data_chain\n",
    "    .groupby('name')[['name']]\n",
    "    .count()\n",
    ")    \n",
    "   \n",
    "data_top_15.columns = ['total_count']\n",
    "data_top_15 = data_top_15.sort_values(by='total_count', ascending=False).head(15).reset_index()\n",
    "data_top_15"
   ]
  },
  {
   "cell_type": "code",
   "execution_count": null,
   "metadata": {},
   "outputs": [],
   "source": [
    "# строим столбчатую диаграмму \n",
    "\n",
    "fig = px.bar(data_top_15, \n",
    "             x='name', # указываем столбец с данными для оси X\n",
    "             y='total_count', # указываем столбец с данными для оси Y\n",
    "             text='total_count', # добавляем аргумент, который отобразит текст с информацией\n",
    "             color='total_count',\n",
    "             color_continuous_scale='sunset'\n",
    "            )\n",
    "# оформляем график\n",
    "\n",
    "fig.update_layout(title='ТОП-15 популярных сетей в Москве',\n",
    "                   xaxis_title='Название сети',\n",
    "                   yaxis_title='Количество заведений')\n",
    "\n",
    "fig.show() # выводим график"
   ]
  },
  {
   "cell_type": "code",
   "execution_count": null,
   "metadata": {},
   "outputs": [],
   "source": [
    "# отфильтруем датасет и оставим информацию только для топ-15 сетей\n",
    "\n",
    "top_15_names = list(data_top_15['name'])\n",
    "top_15_dataset = data_wtht_dupl[data_wtht_dupl['name'].apply(lambda x: x in top_15_names)]"
   ]
  },
  {
   "cell_type": "code",
   "execution_count": null,
   "metadata": {},
   "outputs": [],
   "source": [
    "# посмотрим, к каким категориям относятся заведения из топ-15 и сколько их\n",
    "\n",
    "top_15_dataset.pivot_table(\n",
    "        index='category', \n",
    "        values='name', \n",
    "        aggfunc='nunique').rename(columns={'name':'total_count'}).sort_values(by='total_count', ascending=False).reset_index()"
   ]
  },
  {
   "cell_type": "code",
   "execution_count": null,
   "metadata": {},
   "outputs": [],
   "source": [
    "# изучим раскрытие, какие заведения к какой категории относятся\n",
    "\n",
    "pd.options.display.max_colwidth = 150\n",
    "\n",
    "top_15_dataset_list = top_15_dataset.groupby('category', group_keys=True)[['category','name']].apply(lambda x: x).drop_duplicates()\n",
    "top_15_dataset_list = top_15_dataset_list.groupby('name', group_keys=True).agg({'category':lambda x: list(x)})\n",
    "\n",
    "top_15_dataset_list"
   ]
  },
  {
   "cell_type": "code",
   "execution_count": null,
   "metadata": {},
   "outputs": [],
   "source": [
    "# отобразим общее количество заведений по районам\n",
    "\n",
    "top_15_districts = (\n",
    "    top_15_dataset.pivot_table(\n",
    "        index='district', \n",
    "        values='name', \n",
    "        aggfunc='count')\n",
    "    .rename(columns={'name':'total_count'})\n",
    "    .sort_values(by='total_count', ascending=False)\n",
    "    .reset_index()\n",
    ")\n",
    "top_15_districts"
   ]
  },
  {
   "cell_type": "code",
   "execution_count": null,
   "metadata": {},
   "outputs": [],
   "source": [
    "# строим столбчатую диаграмму \n",
    "\n",
    "fig = px.bar(top_15_districts, \n",
    "             x='district', # указываем столбец с данными для оси X\n",
    "             y='total_count', # указываем столбец с данными для оси Y\n",
    "             text='total_count',\n",
    "             color_discrete_sequence=px.colors.qualitative.Pastel1\n",
    "            )\n",
    "# оформляем график\n",
    "\n",
    "fig.update_layout(title='Общее количество заведений ТОП-15 по районам',\n",
    "                   xaxis_title='Округ',\n",
    "                   yaxis_title='Количество заведений')\n",
    "fig.update_traces(textfont_size=12, textangle=0, textposition=\"inside\", cliponaxis=False)\n",
    "fig.show() # выводим график"
   ]
  },
  {
   "cell_type": "code",
   "execution_count": null,
   "metadata": {},
   "outputs": [],
   "source": [
    "# отобразим количество заведений каждой категории по районам\n",
    "\n",
    "top_15_categories_and_districts = top_15_dataset.pivot_table(\n",
    "    index='district',\n",
    "    columns='category',\n",
    "    values='name',\n",
    "    aggfunc={'name': 'count'}).fillna(0)"
   ]
  },
  {
   "cell_type": "code",
   "execution_count": null,
   "metadata": {},
   "outputs": [],
   "source": [
    "top_15_categories_and_districts"
   ]
  },
  {
   "cell_type": "code",
   "execution_count": null,
   "metadata": {},
   "outputs": [],
   "source": [
    "top_15_categories_and_districts = top_15_categories_and_districts.sort_values(by='кофейня', ascending=False)"
   ]
  },
  {
   "cell_type": "code",
   "execution_count": null,
   "metadata": {},
   "outputs": [],
   "source": [
    "pip install cufflinks"
   ]
  },
  {
   "cell_type": "code",
   "execution_count": null,
   "metadata": {},
   "outputs": [],
   "source": [
    "import cufflinks as cf\n",
    "cf.set_config_file(offline=True)\n",
    "\n",
    "top_15_categories_and_districts.iplot(kind='bar', barmode='stack', title='Количество заведений каждой категории по районам')"
   ]
  },
  {
   "cell_type": "markdown",
   "metadata": {},
   "source": [
    "> Вывод: в топ-15 заведений вошли такие сети как 'Шоколадница', \"Домино'с Пицца\", 'Додо Пицца', 'One Price Coffee', 'Яндекс Лавка', 'Cofix', 'Prime', 'Хинкальная', 'КОФЕПОРТ', 'Кулинарная лавка братьев Караваевых', 'Теремок', 'Чайхана', 'CofeFest', 'Буханка', 'Му-Му'. Большинство заведений относится к категории \"кафе\", \"кофейня\" и \"ресторан\". Для большинства заведений указано несколько категорий.\n",
    "> Основная часть заведений расположена в Центральном АО, а меньше всего заведений общепита находится в Северо-Западном АО."
   ]
  },
  {
   "cell_type": "markdown",
   "metadata": {},
   "source": [
    "### <a id='districts'> Какие административные районы Москвы присутствуют в датасете? Отобразите общее количество заведений и количество заведений каждой категории по районам. Попробуйте проиллюстрировать эту информацию одним графиком. </a>"
   ]
  },
  {
   "cell_type": "code",
   "execution_count": null,
   "metadata": {
    "scrolled": true
   },
   "outputs": [],
   "source": [
    "# посмотрим, какие административные раоны присутствуют в датасете\n",
    "\n",
    "list(data_wtht_dupl['district'].unique())"
   ]
  },
  {
   "cell_type": "code",
   "execution_count": null,
   "metadata": {},
   "outputs": [],
   "source": [
    "# создадим сводную таблицу по общему количеству заведений в разных районах Москвы\n",
    "\n",
    "data_district_pivot = (\n",
    "    data_wtht_dupl.pivot_table(\n",
    "        index='district',\n",
    "        values='name',\n",
    "        aggfunc='count'\n",
    "    )\n",
    "    .sort_values(by='name', ascending=False)\n",
    "    .reset_index()\n",
    "    .rename(columns={'name':'total_count'})\n",
    ")"
   ]
  },
  {
   "cell_type": "code",
   "execution_count": null,
   "metadata": {},
   "outputs": [],
   "source": [
    "# создадим сводную таблицу с раскрытием по категориям\n",
    "\n",
    "data_categories_and_districts = data_wtht_dupl.pivot_table(\n",
    "    index='district',\n",
    "    columns='category',\n",
    "    values='name',\n",
    "    aggfunc={'name': 'count'})"
   ]
  },
  {
   "cell_type": "code",
   "execution_count": null,
   "metadata": {},
   "outputs": [],
   "source": [
    "# соединим две таблицы\n",
    "\n",
    "data_districts_total = data_categories_and_districts.merge(\n",
    "    data_district_pivot, \n",
    "    on='district', \n",
    "    how='left').sort_values(by='total_count', ascending=False)"
   ]
  },
  {
   "cell_type": "code",
   "execution_count": null,
   "metadata": {},
   "outputs": [],
   "source": [
    "data_districts_total"
   ]
  },
  {
   "cell_type": "code",
   "execution_count": null,
   "metadata": {},
   "outputs": [],
   "source": [
    "# построем столбчатую диаграмму с накоплением для количества заведений каждой категории по районам\n",
    "\n",
    "fig = px.bar(data_districts_total, \n",
    "             x='district', \n",
    "             y=['бар,паб', 'булочная', 'быстрое питание', 'кафе', 'кофейня', 'пиццерия', 'ресторан', 'столовая'],\n",
    "             color_discrete_sequence=px.colors.qualitative.Set3)\n",
    "fig.update_layout(title='Количество заведений каждой категории по районам',\n",
    "                   xaxis_title='Округ',\n",
    "                   yaxis_title='Количество заведений')\n",
    "fig.show()"
   ]
  },
  {
   "cell_type": "markdown",
   "metadata": {},
   "source": [
    "> В датасете присутствуют \n",
    "* Северный административный округ,\n",
    "* Северо-Восточный административный округ,\n",
    "* Северо-Западный административный округ,\n",
    "* Западный административный округ,\n",
    "* Центральный административный округ,\n",
    "* Восточный административный округ,\n",
    "* Юго-Восточный административный округ,\n",
    "* Южный административный округ,\n",
    "* Юго-Западный административный округ.\n",
    "\n",
    "> Самое большое количество, 2242 заведения расположены в Центральном АО. Меньше всего заведений в Северо-Западном АО."
   ]
  },
  {
   "cell_type": "markdown",
   "metadata": {},
   "source": [
    "### <a id='ratings'> Визуализируйте распределение средних рейтингов по категориям заведений. Сильно ли различаются усреднённые рейтинги в разных типах общепита? </a>"
   ]
  },
  {
   "cell_type": "code",
   "execution_count": null,
   "metadata": {},
   "outputs": [],
   "source": [
    "# построим ящик с усами, чтобы посмотреть распределение рейтинга заведений по категориям\n",
    "\n",
    "plt.figure(figsize=(15,5))\n",
    "sort = pd.DataFrame(\n",
    "    {col:vals['rating'] for col, vals in data_wtht_dupl.groupby(['category'])}\n",
    ").median().sort_values().index\n",
    "sns.boxplot(data=data_wtht_dupl, x='category', y='rating', order=sort) \n",
    "plt.xlabel('Тип заведений')\n",
    "plt.ylabel('Рейтинг заведений')\n",
    "plt.title('Распределение рейтингов заведениий по категориям')\n",
    "plt.show()"
   ]
  },
  {
   "cell_type": "markdown",
   "metadata": {},
   "source": [
    "> Поскольку в данных есть выбросу, в качестве средних рейтингов будем брать медианное значение"
   ]
  },
  {
   "cell_type": "code",
   "execution_count": null,
   "metadata": {},
   "outputs": [],
   "source": [
    "data_ratings = (\n",
    "    data_wtht_dupl.pivot_table(\n",
    "        index='category',\n",
    "        values='rating',\n",
    "        aggfunc={'rating': 'median'})\n",
    "    .reset_index()\n",
    "    .rename(columns={'rating':'median_rating'})\n",
    "    .sort_values(by='median_rating', ascending=False)\n",
    ")\n",
    "data_ratings"
   ]
  },
  {
   "cell_type": "code",
   "execution_count": null,
   "metadata": {},
   "outputs": [],
   "source": [
    "data_ratings_districts = (\n",
    "    data_wtht_dupl.pivot_table(\n",
    "        index='district',\n",
    "        values='rating',\n",
    "        aggfunc={'rating': 'median'})\n",
    ").reset_index().sort_values(by='rating', ascending=False)\n",
    "data_ratings_districts"
   ]
  },
  {
   "cell_type": "markdown",
   "metadata": {},
   "source": [
    "> Вывод: Усреднённые рейтинги в разных типах общепита практически не различаются. Значения колеблятся от 4.2 до 4.4."
   ]
  },
  {
   "cell_type": "markdown",
   "metadata": {},
   "source": [
    "### <a id='map'> Постройте фоновую картограмму (хороплет) со средним рейтингом заведений каждого района. </a>"
   ]
  },
  {
   "cell_type": "code",
   "execution_count": null,
   "metadata": {},
   "outputs": [],
   "source": [
    "state_geo = '/datasets/admin_level_geomap.geojson'\n",
    "with open(state_geo, encoding='utf-8') as f:\n",
    "    gj = geojson.load(f)"
   ]
  },
  {
   "cell_type": "code",
   "execution_count": null,
   "metadata": {},
   "outputs": [],
   "source": [
    "msc_lat, msc_lng = 55.751244, 37.618423 # координаты центра Москвы\n",
    "m = Map(location=[msc_lat, msc_lng], zoom_start=10) # строим карту Москвы"
   ]
  },
  {
   "cell_type": "code",
   "execution_count": null,
   "metadata": {
    "scrolled": true
   },
   "outputs": [],
   "source": [
    "# создаем хороплет со средним рейтингом заведений каждого района\n",
    "\n",
    "folium.Choropleth(\n",
    "    geo_data = gj,\n",
    "    data=data_ratings_districts,\n",
    "    columns=['district','rating'],\n",
    "    key_on='feature.name',\n",
    "    fill_color='OrRd',\n",
    "    fill_opacity=0.8,\n",
    "    legend_name='Средний рейтинг заведений по районам'\n",
    ").add_to(m)\n",
    "m"
   ]
  },
  {
   "cell_type": "markdown",
   "metadata": {},
   "source": [
    "> Вывод: Самый высокий средний рейтинг заведений наблюдается в Центральном АО - 4.4. Самый низкий рейтинг в Северо-восточном и Юго-восточном АО - 4.2."
   ]
  },
  {
   "cell_type": "markdown",
   "metadata": {},
   "source": [
    "### <a id='clusters'> Отобразите все заведения датасета на карте с помощью кластеров средствами библиотеки `folium`. </a>"
   ]
  },
  {
   "cell_type": "code",
   "execution_count": null,
   "metadata": {},
   "outputs": [],
   "source": [
    "# импортируем кластер\n",
    "\n",
    "from folium.plugins import MarkerCluster\n",
    "\n",
    "# создаём пустой кластер, добавляем его на карту\n",
    "\n",
    "marker_cluster = MarkerCluster().add_to(m)"
   ]
  },
  {
   "cell_type": "code",
   "execution_count": null,
   "metadata": {},
   "outputs": [],
   "source": [
    "# пишем функцию, которая принимает строку датафрейма,\n",
    "# создаёт маркер в текущей точке и добавляет его в кластер marker_cluster\n",
    "\n",
    "def create_clusters(row):\n",
    "    Marker(\n",
    "        [row['lat'], row['lng']],\n",
    "        popup=f\"{row['name']} {row['rating']}\",\n",
    "    ).add_to(marker_cluster)\n",
    "\n",
    "# применяем функцию create_clusters() к каждой строке датафрейма\n",
    "\n",
    "data_wtht_dupl.apply(create_clusters, axis=1)\n",
    "\n",
    "# выводим карту\n",
    "m"
   ]
  },
  {
   "cell_type": "markdown",
   "metadata": {},
   "source": [
    "### <a id='top_15_street'> Найдите топ-15 улиц по количеству заведений. Постройте график распределения количества заведений и их категорий по этим улицам. Попробуйте проиллюстрировать эту информацию одним графиком. </a>"
   ]
  },
  {
   "cell_type": "code",
   "execution_count": null,
   "metadata": {},
   "outputs": [],
   "source": [
    "# отфильтруем данные, сгруппируем по названию, посчитаем число заведений и отберем топ-15\n",
    "\n",
    "data_top_15_street = (\n",
    "    data_wtht_dupl\n",
    "    .groupby('street')[['name']]\n",
    "    .count()\n",
    ")    \n",
    "   \n",
    "data_top_15_street.columns = ['total_count']\n",
    "data_top_15_street = data_top_15_street.sort_values(by='total_count', ascending=False).head(15).reset_index()\n",
    "data_top_15_street"
   ]
  },
  {
   "cell_type": "code",
   "execution_count": null,
   "metadata": {},
   "outputs": [],
   "source": [
    "# отфильтруем датасет и оставим информацию только для топ-15 улиц\n",
    "\n",
    "data_top_15_street_names = list(data_top_15_street['street'])\n",
    "data_top_15_street = data_wtht_dupl[data_wtht_dupl['street'].apply(lambda x: x in data_top_15_street_names)].reset_index()"
   ]
  },
  {
   "cell_type": "code",
   "execution_count": null,
   "metadata": {},
   "outputs": [],
   "source": [
    "data_top_15_street_pivot = data_top_15_street.pivot_table(\n",
    "    index='street',\n",
    "    columns='category',\n",
    "    values='name',\n",
    "    aggfunc='count'\n",
    ").fillna(0).reset_index()\n",
    "data_top_15_street_pivot['total_count'] = data_top_15_street_pivot.sum(axis=1)\n",
    "data_top_15_street_pivot = data_top_15_street_pivot.sort_values(by='total_count', ascending=False).reset_index()"
   ]
  },
  {
   "cell_type": "code",
   "execution_count": null,
   "metadata": {},
   "outputs": [],
   "source": [
    "data_top_15_street_pivot"
   ]
  },
  {
   "cell_type": "code",
   "execution_count": null,
   "metadata": {},
   "outputs": [],
   "source": [
    "# построем столбчатую диаграмму с накоплением для количества заведений каждой категории по топ-15 улицам\n",
    "\n",
    "fig = px.bar(data_top_15_street_pivot, \n",
    "             x='street', \n",
    "             y=['бар,паб', 'булочная', 'быстрое питание', 'кафе', 'кофейня', 'пиццерия', 'ресторан', 'столовая'],\n",
    "             color_discrete_sequence=px.colors.qualitative.Set3)\n",
    "fig.update_layout(title='Количество заведений каждой категории по топ-15 улицам',\n",
    "                   xaxis_title='Округ',\n",
    "                   yaxis_title='Количество заведений')\n",
    "fig.show()"
   ]
  },
  {
   "cell_type": "markdown",
   "metadata": {},
   "source": [
    "> Вывод: Больше всего заведений находится на проспекте Мира - 183. Далее идет Профсоюзная улица (самая длинная улица в Москве), на ней располагаются 122 заведения. И на третьем месте - проспект Вернадского со 108 заведениями."
   ]
  },
  {
   "cell_type": "markdown",
   "metadata": {},
   "source": [
    "### <a id='lonely'> Найдите улицы, на которых находится только один объект общепита. Что можно сказать об этих заведениях? </a>"
   ]
  },
  {
   "cell_type": "code",
   "execution_count": null,
   "metadata": {},
   "outputs": [],
   "source": [
    "data_street = (\n",
    "    data_wtht_dupl\n",
    "    .groupby('street')[['name']]\n",
    "    .count()\n",
    ")    \n",
    "   \n",
    "data_street.columns = ['total_count']\n",
    "data_street_one_pivot = data_street.query('total_count == 1').reset_index()"
   ]
  },
  {
   "cell_type": "code",
   "execution_count": null,
   "metadata": {},
   "outputs": [],
   "source": [
    "# отфильтруем датасет и оставим информацию только улиц с одним заведением\n",
    "\n",
    "street_one_names = list(data_street_one_pivot['street'])\n",
    "data_street_one = data_wtht_dupl[data_wtht_dupl['street'].apply(lambda x: x in street_one_names)].reset_index()"
   ]
  },
  {
   "cell_type": "code",
   "execution_count": null,
   "metadata": {},
   "outputs": [],
   "source": [
    "# посмотрим, какие категории заведений встречаются на улицах с одним объектом общепита\n",
    "\n",
    "data_street_one['category'].unique()"
   ]
  },
  {
   "cell_type": "code",
   "execution_count": null,
   "metadata": {},
   "outputs": [],
   "source": [
    "# посмотрим на распределение таких улиц по районам\n",
    "\n",
    "data_street_one_district = (\n",
    "    data_street_one.pivot_table(\n",
    "        index='district',\n",
    "        values='street',\n",
    "        aggfunc='count')\n",
    "    .reset_index()\n",
    "    .sort_values(by='street', ascending=False)\n",
    "    .rename(columns={'street':'total_count'})\n",
    ")\n",
    "data_street_one_district"
   ]
  },
  {
   "cell_type": "code",
   "execution_count": null,
   "metadata": {},
   "outputs": [],
   "source": [
    "# строим столбчатую диаграмму \n",
    "\n",
    "fig = px.bar(data_street_one_district, \n",
    "             x='district', # указываем столбец с данными для оси X\n",
    "             y='total_count', # указываем столбец с данными для оси Y\n",
    "             text='total_count',\n",
    "             color_discrete_sequence=px.colors.qualitative.Pastel2\n",
    "            )\n",
    "# оформляем график\n",
    "\n",
    "fig.update_layout(title='Распределение улиц с одним заведением по районам',\n",
    "                   xaxis_title='Округ',\n",
    "                   yaxis_title='Количество улиц')\n",
    "fig.update_traces(textfont_size=12, textangle=0, textposition=\"inside\", cliponaxis=False)\n",
    "fig.show() # выводим график"
   ]
  },
  {
   "cell_type": "markdown",
   "metadata": {},
   "source": [
    "> Вывод: Большая часть улиц с одним заведением общепита находится в Центральном АО. Данные заведения имеют все возможные катеогии: от столовой до бара."
   ]
  },
  {
   "cell_type": "markdown",
   "metadata": {},
   "source": [
    "### <a id='avg_bill'> Значения средних чеков заведений хранятся в столбце middle_avg_bill. Эти числа показывают примерную стоимость заказа в рублях, которая чаще всего выражена диапазоном. Посчитайте медиану этого столбца для каждого района. Используйте это значение в качестве ценового индикатора района. Постройте фоновую картограмму (хороплет) с полученными значениями для каждого района. Проанализируйте цены в центральном административном округе и других. Как удалённость от центра влияет на цены в заведениях? </a>\n"
   ]
  },
  {
   "cell_type": "code",
   "execution_count": null,
   "metadata": {},
   "outputs": [],
   "source": [
    "# посчитаем медиану столбца middle_avg_bill для каждого района\n",
    "\n",
    "data_district_median_avg_bill = (\n",
    "    data_wtht_dupl.dropna(subset=['middle_avg_bill']).pivot_table(\n",
    "        index='district',\n",
    "        values='middle_avg_bill',\n",
    "        aggfunc='median' \n",
    "    ).reset_index()\n",
    "    .sort_values(by='middle_avg_bill', ascending=False)\n",
    "    .rename(columns={'middle_avg_bill':'median_middle_avg_bill'})\n",
    ")\n",
    "data_district_median_avg_bill"
   ]
  },
  {
   "cell_type": "code",
   "execution_count": null,
   "metadata": {},
   "outputs": [],
   "source": [
    "# строим столбчатую диаграмму \n",
    "\n",
    "fig = px.bar(data_district_median_avg_bill, \n",
    "             x='district', # указываем столбец с данными для оси X\n",
    "             y='median_middle_avg_bill', # указываем столбец с данными для оси Y\n",
    "             text='median_middle_avg_bill',\n",
    "             color_discrete_sequence=px.colors.qualitative.Pastel1\n",
    "            )\n",
    "# оформляем график\n",
    "\n",
    "fig.update_layout(title='Средний чек в заведении в районах Москвы',\n",
    "                   xaxis_title='Округ',\n",
    "                   yaxis_title='Медиана')\n",
    "fig.update_traces(textfont_size=12, textangle=0, textposition=\"inside\", cliponaxis=False)\n",
    "fig.show() # выводим график"
   ]
  },
  {
   "cell_type": "code",
   "execution_count": null,
   "metadata": {},
   "outputs": [],
   "source": [
    "# создаем хороплет со медианным значением среднего чека каждого района\n",
    "\n",
    "msc_lat, msc_lng = 55.751244, 37.618423 # координаты центра Москвы\n",
    "m_avg_bill = Map(location=[msc_lat, msc_lng], zoom_start=10) # строим карту Москвы\n",
    "folium.Choropleth(\n",
    "    geo_data = gj,\n",
    "    data=data_district_median_avg_bill,\n",
    "    columns=['district','median_middle_avg_bill'],\n",
    "    key_on='feature.name',\n",
    "    fill_color='OrRd',\n",
    "    fill_opacity=0.8,\n",
    "    legend_name='Ценовой индикатор района'\n",
    ").add_to(m_avg_bill)\n",
    "m_avg_bill"
   ]
  },
  {
   "cell_type": "markdown",
   "metadata": {},
   "source": [
    "> Вывод: Средний чек в Центральном и Западном административном округах оказались равными 1000 руб. Самая низкая средняя цена заказа составляет 450 руб. и наблюдается в Юго-Восточном АО. В целом, удаленность от центра обратно пропорциональна величине среднего чека: чем больше расстояние от центра города, тем выше средний чек. "
   ]
  },
  {
   "cell_type": "markdown",
   "metadata": {},
   "source": [
    "**Общий вывод**:\n",
    "1. В данных представлены заведения следующих категорий: кафе, ресторан, кофейня, пиццерия, бар,паб, быстрое питание, булочная, столовая. Большинство заведений - это кафе (2378 заведений), второй по популярности тип заведения - ресторан (2043 заведения), на третьем месте находятся кофейни (1413 заведений).\n",
    "2. Для всех дипов заведений медианное значение количества посадочных мест колеблется между 50 и 90. Самое большое значение наблюдается для ресторанов - 86 мест, самое маленькое для булочной - 50 мест.\n",
    "3. Несетевых заведений в датасете представлено больше: соотношение сетевых и несетевых заведений в датасете составляет 13.6% против 86.4%.  \n",
    "4. Чаще всего сетевыми являются кафе и рестораны - 357 и 276 заведений соответственно. Меньше всего сетевых заведений типа \"булочная\" - 41 шт.\n",
    "5. В топ-15 заведений по количеству точек вошли такие сети как 'Шоколадница', \"Домино'с Пицца\", 'Додо Пицца', 'One Price Coffee', 'Яндекс Лавка', 'Cofix', 'Prime', 'Хинкальная', 'КОФЕПОРТ', 'Кулинарная лавка братьев Караваевых', 'Теремок', 'Чайхана', 'CofeFest', 'Буханка', 'Му-Му'. Большинство заведений относится к категории \"кафе\", \"кофейня\" и \"ресторан\". Для большинства заведений указано несколько категорий.Основная часть сетевых заведений расположена в Центральном АО, а меньше всего сетевых заведений общепита находится в Северо-Западном АО.\n",
    "6. В датасете присутствуют Северный административный округ, Северо-Восточный административный округ, Северо-Западный административный округ, Западный административный округ, Центральный административный округ, Восточный административный округ, Юго-Восточный административный округ, Южный административный округ, Юго-Западный административный округ. Самое большое количество, 2242 заведения, расположено в Центральном АО. Меньше всего заведений в Северо-Западном АО.\n",
    "7. Усреднённые рейтинги в разных типах общепита практически не различаются. Значения колеблятся от 4.2 до 4.4.\n",
    "8. Самый высокий средний рейтинг заведений наблюдается в Центральном АО - 4.4. Самый низкий рейтинг в Северо-Восточном и Юго-Восточном АО - 4.2.\n",
    "9. В топ-15 улиц по количеству заведений вошли проспект Мира, Профсоюзная ул., пр-кт Вернадского, Ленинский пр-кт, Ленинградский пр-кт, Дмитровское шоссе, Каширское шоссе, Варшавское шоссе, Ленинградское шоссе, Люблинская улица, ул. Вавилова, Кутузовский пр-кт, ул. Миклухо-Маклая, Пятницкая ул., Алтуфьевское шоссе. Больше всего заведений находится на проспекте Мира - 183. Далее идет Профсоюзная улица (самая длинная улица в Москве), на ней располагаются 122 заведения. И на третьем месте - проспект Вернадского со 108 заведениями.\n",
    "10. Большая часть улиц с одним заведением общепита находится в Центральном АО. Данные заведения имеют все возможные катеогии: от столовой до бара.\n",
    "11. Средний чек в Центральном и Западном административном округах оказались равными 1000 руб. Самая низкая средняя цена заказа составляет 450 руб. и наблюдается в Юго-Восточном АО. В целом, удаленность от центра обратно пропорциональна величине среднего чека: чем больше расстояние от центра города, тем выше средний чек."
   ]
  },
  {
   "cell_type": "markdown",
   "metadata": {},
   "source": [
    "## <a id='detalisation'> Детализация исследования: открытие кофейни </a>  "
   ]
  },
  {
   "cell_type": "markdown",
   "metadata": {},
   "source": [
    "### <a id='coffee_number'> Сколько всего кофеен в датасете? В каких районах их больше всего, каковы особенности их расположения? </a>  "
   ]
  },
  {
   "cell_type": "code",
   "execution_count": null,
   "metadata": {},
   "outputs": [],
   "source": [
    "# определим число кофеен в датасете\n",
    "\n",
    "data_coffee = data_wtht_dupl.query('category == \"кофейня\"')\n",
    "coffee_number = data_coffee['name'].count()\n",
    "print(f'Число кофеен: {coffee_number}')"
   ]
  },
  {
   "cell_type": "code",
   "execution_count": null,
   "metadata": {},
   "outputs": [],
   "source": [
    "data_coffee_pivot = (\n",
    "    data_coffee.pivot_table(\n",
    "    index='district',\n",
    "    values='name',\n",
    "    aggfunc='count')\n",
    "    .sort_values(by='name', ascending=False)\n",
    "    .rename(columns={'name':'total_number'})\n",
    "    .reset_index()\n",
    ")\n",
    "data_coffee_pivot"
   ]
  },
  {
   "cell_type": "code",
   "execution_count": null,
   "metadata": {},
   "outputs": [],
   "source": [
    "# строим столбчатую диаграмму \n",
    "\n",
    "fig = px.bar(data_coffee_pivot, \n",
    "             x='district', # указываем столбец с данными для оси X\n",
    "             y='total_number', # указываем столбец с данными для оси Y\n",
    "             text='total_number',\n",
    "             color_discrete_sequence=px.colors.qualitative.Pastel\n",
    "            )\n",
    "# оформляем график\n",
    "\n",
    "fig.update_layout(title='Количество кофеен в районах Москвы',\n",
    "                   xaxis_title='Округ',\n",
    "                   yaxis_title='Количество')\n",
    "fig.update_traces(textfont_size=12, textangle=0, textposition=\"inside\", cliponaxis=False)\n",
    "fig.show() # выводим график"
   ]
  },
  {
   "cell_type": "code",
   "execution_count": null,
   "metadata": {},
   "outputs": [],
   "source": [
    "msc_lat, msc_lng = 55.751244, 37.618423 # координаты центра Москвы\n",
    "m_coffee = Map(location=[msc_lat, msc_lng], zoom_start=10) # строим карту Москвы\n",
    "\n",
    "marker_cluster = MarkerCluster().add_to(m_coffee)\n",
    "def create_clusters(row):\n",
    "    Marker(\n",
    "        [row['lat'], row['lng']],\n",
    "        popup=f\"{row['name']} {row['rating']}\",\n",
    "    ).add_to(marker_cluster)\n",
    "\n",
    "data_coffee.apply(create_clusters, axis=1)\n",
    "\n",
    "m_coffee"
   ]
  },
  {
   "cell_type": "markdown",
   "metadata": {},
   "source": [
    "> Вывод: В датасете 1413 кофейни, 428 из которых находятся в Центральном АО. Если смотреть на карту, можно отметить, что в окрестностях Красной площади есть только одна кофейня у м. Площадь революции. В остальном видно, что большинство кофеен располагаются на прогулочных и оживленных улицах Москвы."
   ]
  },
  {
   "cell_type": "markdown",
   "metadata": {},
   "source": [
    "### <a id='24_7_coffee'> Есть ли круглосуточные кофейни? </a>  "
   ]
  },
  {
   "cell_type": "code",
   "execution_count": null,
   "metadata": {},
   "outputs": [],
   "source": [
    "# посчитаем количество круглосуточных кофеен\n",
    "\n",
    "data_coffee[data_coffee['is_24/7'] == True]['is_24/7'].value_counts().sum()"
   ]
  },
  {
   "cell_type": "code",
   "execution_count": null,
   "metadata": {},
   "outputs": [],
   "source": [
    "# посчитаем количество круглосуточных кофеен в ЮЗАО\n",
    "\n",
    "a = data_coffee[data_coffee['is_24/7'] == True]\n",
    "a.query('district == \"Юго-Западный административный округ\"')['is_24/7'].value_counts().sum()"
   ]
  },
  {
   "cell_type": "code",
   "execution_count": null,
   "metadata": {},
   "outputs": [],
   "source": [
    "# посмотрим, что это за кофейни\n",
    "\n",
    "list(data_coffee[data_coffee['is_24/7'] == True]['name'].unique())"
   ]
  },
  {
   "cell_type": "markdown",
   "metadata": {},
   "source": [
    "> Вывод: В Москве 59 круглосуточных кофеен. "
   ]
  },
  {
   "cell_type": "markdown",
   "metadata": {},
   "source": [
    "### <a id='coffee_ratings'> Какие у кофеен рейтинги? Как они распределяются по районам? </a> "
   ]
  },
  {
   "cell_type": "code",
   "execution_count": null,
   "metadata": {},
   "outputs": [],
   "source": [
    "# построим ящик с усами, чтобы посмотреть распределение рейтинга заведений по районам\n",
    "\n",
    "plt.figure(figsize=(15,5))\n",
    "\n",
    "boxplot = sns.boxplot(data=data_coffee, x='rating', y='district') \n",
    "plt.ylabel('Район')\n",
    "plt.xlabel('Рейтинг заведений')\n",
    "plt.title('Распределение рейтингов заведениий по районам')\n",
    "plt.show()"
   ]
  },
  {
   "cell_type": "code",
   "execution_count": null,
   "metadata": {},
   "outputs": [],
   "source": [
    "data_coffee_ratings = (\n",
    "    data_coffee.pivot_table(\n",
    "        index='district',\n",
    "        values='rating',\n",
    "        aggfunc='median'\n",
    "    ).sort_values(by='rating', ascending=False)\n",
    "    .reset_index()\n",
    ")\n",
    "data_coffee_ratings"
   ]
  },
  {
   "cell_type": "markdown",
   "metadata": {},
   "source": [
    "> Вывод: Для всех административных округов, за исключением Западного АО, медианное значение рейтинга составляет 4.3 (для ЗАО - 4.2). Для Северного и Северо-Восточного АО наблюдается самый большой разброс значений рейтинга."
   ]
  },
  {
   "cell_type": "markdown",
   "metadata": {},
   "source": [
    "### <a id='coffee_cost'> На какую стоимость чашки капучино стоит ориентироваться при открытии и почему? </a> "
   ]
  },
  {
   "cell_type": "code",
   "execution_count": null,
   "metadata": {},
   "outputs": [],
   "source": [
    "# очистим датасет от заведений, где не указан средний чек\n",
    "\n",
    "data_coffee_drop = data_coffee.dropna(subset=['avg_bill'])"
   ]
  },
  {
   "cell_type": "code",
   "execution_count": null,
   "metadata": {},
   "outputs": [],
   "source": [
    "# добавим столбец с нижней и верхней границами цены чашки кофе\n",
    "\n",
    "data_coffee_drop['coffee_price_low'] = data_coffee_drop['avg_bill'].apply(\n",
    "    lambda x: re.findall(r'\\d+', str(x))[0] if 'чашк' in str(x) else 0\n",
    ") # нижняя граница\n",
    "\n",
    "data_coffee_drop['coffee_price_high'] = data_coffee_drop['avg_bill'].apply(\n",
    "    lambda x: re.findall(r'\\d+', str(x))[-1] if 'чашк' in str(x) else 0\n",
    ") # верхняя граница\n",
    "\n",
    "data_coffee_drop.head()"
   ]
  },
  {
   "cell_type": "code",
   "execution_count": null,
   "metadata": {},
   "outputs": [],
   "source": [
    "# посмотрим распределение средней цены чашки капучино в кофейнях Москвы в зависимости от района\n",
    "\n",
    "plt.figure(figsize=(15,5))\n",
    "sort_by = pd.DataFrame(\n",
    "    {col:vals['middle_coffee_cup'] for col, vals in data_coffee_drop.groupby(['district'])}\n",
    ").median().sort_values().index\n",
    "boxplot = sns.boxplot(data=data_coffee_drop, x='middle_coffee_cup', y='district', order=sort_by)\n",
    "plt.xlim([0,400])\n",
    "plt.ylabel('Район')\n",
    "plt.xlabel('Средняя цена чашки капучино')\n",
    "plt.title('Распределение средней цены чашки капучино в кофейнях по районам')\n",
    "plt.show()"
   ]
  },
  {
   "cell_type": "code",
   "execution_count": null,
   "metadata": {},
   "outputs": [],
   "source": [
    "data_coffee_drop_median = (\n",
    "    data_coffee_drop.pivot_table(\n",
    "    index='district',\n",
    "    values='middle_coffee_cup',\n",
    "    aggfunc='median')\n",
    ".sort_values(by='middle_coffee_cup', ascending=False)\n",
    ".reset_index()\n",
    ")\n",
    "data_coffee_drop_median"
   ]
  },
  {
   "cell_type": "code",
   "execution_count": null,
   "metadata": {},
   "outputs": [],
   "source": [
    "# строим столбчатую диаграмму \n",
    "\n",
    "fig = px.bar(data_coffee_drop_median, \n",
    "             x='district', # указываем столбец с данными для оси X\n",
    "             y='middle_coffee_cup', # указываем столбец с данными для оси Y\n",
    "             text='middle_coffee_cup',\n",
    "             color_discrete_sequence=px.colors.qualitative.Set2\n",
    "            )\n",
    "# оформляем график\n",
    "\n",
    "fig.update_layout(title='Средняя стоимость капучино в районах Москвы',\n",
    "                   xaxis_title='Округ',\n",
    "                   yaxis_title='Медиана')\n",
    "fig.update_traces(textfont_size=12, textangle=0, textposition=\"inside\", cliponaxis=False)\n",
    "fig.show() # выводим график"
   ]
  },
  {
   "cell_type": "markdown",
   "metadata": {},
   "source": [
    "> Вывод: При открытии кофейни нужно ориентироваться на медианное значение средней стоимости чашки капучино в административном округе. Самая высокая стоимость чашки капучино в ЮЗАО - 198 руб. Самая низкая - в Восточном АО, 135 руб."
   ]
  },
  {
   "cell_type": "markdown",
   "metadata": {},
   "source": [
    "> Вывод: При открытии новой кофейни можно выбрать два разных пути. Первый - это выбрать район, в котором нет так много кофеен, но достаточно высокая проходимость (это может быть бизнес-квартал или транспортный путь, такой как пересадка с МЦК/МЦД на метро и т.п.). В этом случае можно устанавливать среднюю в данном районе стоимость чашки капучино. Второй вариант, это выбрать район с наиболее высоким ценником за чашку кофе и основать кофейню с более низким (ниже медианы по району) средним чеком. Однако этот вариант очень агрессивный.\n",
    "\n",
    "**Рекомендация**\n",
    "\n",
    "На мой взгляд, хорошей идеей является основание кофейни в Юго-Западном административном округе, поскольку там малое число кофеен (всего 96 из 1413 по г. Москве, 7 из них круглосуточные) и средняя цена за чашку капучино самая высокая (198 руб.). Средний рейтинг заведений в этом административном округе колеблется около оценки 4.3. В ЮЗАО располагается очень много университетов, а студенты часто покупают кофе с собой и делают различные проекты/ домашние задания в кафе, когда у них перерыв между парами. Более того ЮЗАО - престижный район Москвы, где располагаются бизнес-центры и жилые кварталы. "
   ]
  },
  {
   "cell_type": "markdown",
   "metadata": {},
   "source": [
    "## <a id='presentation'> Презентация </a>  "
   ]
  },
  {
   "cell_type": "markdown",
   "metadata": {},
   "source": [
    "Ссылка на презентацию: <https://disk.yandex.ru/i/Z181xZUEHE5T6Q> "
   ]
  },
  {
   "cell_type": "markdown",
   "metadata": {},
   "source": [
    "## <a id='conclusion'> Вывод </a>  "
   ]
  },
  {
   "cell_type": "markdown",
   "metadata": {},
   "source": [
    "**В ходе выполнения проекта**:\n",
    "1. Была проведена предобработка данных, в результате которой были найдены и удалены неявные дубликаты. Пропущенные значения были изучены, но оставлены в первоначальном виде во избежание искажения данных. Добавлены столбцы с улицей и режимом работы заведения \n",
    "2. Были изучены данные:\n",
    "    1. В датасете представлены заведения следующих категорий: кафе, ресторан, кофейня, пиццерия, бар,паб, быстрое питание, булочная, столовая. Большинство заведений - это кафе (2377 заведений), второй по популярности тип заведения - ресторан (2042 заведения), на третьем месте находятся кофейни (1413 заведений).\n",
    "    2. Для всех дипов заведений медианное значение количества посадочных мест колеблется между 50 и 90. Самое большое значение наблюдается для ресторанов - 86 мест, самое маленькое для булочной - 50 мест.\n",
    "    3. Несетевых заведений в датасете представлено больше: соотношение сетевых и несетевых заведений в датасете составляет 13.6% против 86.4%.  \n",
    "    4. Чаще всего сетевыми являются кафе и рестораны - 357 и 276 заведений соответственно. Меньше всего сетевых заведений типа \"булочная\" - 41 шт.\n",
    "    5. В топ-15 заведений по количеству точек вошли такие сети как 'Шоколадница', \"Домино'с Пицца\", 'Додо Пицца', 'One Price Coffee', 'Яндекс Лавка', 'Cofix', 'Prime', 'Хинкальная', 'КОФЕПОРТ', 'Кулинарная лавка братьев Караваевых', 'Теремок', 'Чайхана', 'CofeFest', 'Буханка', 'Му-Му'. Большинство заведений относится к категории \"кафе\", \"кофейня\" и \"ресторан\". Для большинства заведений указано несколько категорий.Основная часть сетевых заведений расположена в Центральном АО, а меньше всего сетевых заведений общепита находится в Северо-Западном АО.\n",
    "    6. В датасете присутствуют Северный административный округ, Северо-Восточный административный округ, Северо-Западный административный округ, Западный административный округ, Центральный административный округ, Восточный административный округ, Юго-Восточный административный округ, Южный административный округ, Юго-Западный административный округ. Самое большое количество, 2242 заведения, расположено в Центральном АО. Меньше всего заведений в Северо-Западном АО.\n",
    "    7. Усреднённые рейтинги в разных типах общепита практически не различаются. Значения колеблятся от 4.2 до 4.4.\n",
    "    8. Самый высокий средний рейтинг заведений наблюдается в Центральном АО - 4.4. Самый низкий рейтинг в Северо-восточном и Юго-восточном АО - 4.2.\n",
    "    9. В топ-15 улиц по количеству заведений вошли проспект Мира, Профсоюзная ул., пр-кт Вернадского, Ленинский пр-кт, Ленинградский пр-кт, Дмитровское шоссе, Каширское шоссе, Варшавское шоссе, Ленинградское шоссе, Люблинская улица, ул. Вавилова, Кутузовский пр-кт, ул. Миклухо-Маклая, Пятницкая ул., Алтуфьевское шоссе. Больше всего заведений находится на проспекте Мира - 183. Далее идет Профсоюзная улица (самая длинная улица в Москве), на ней располагаются 122 заведения. И на третьем месте - проспект Вернадского со 108 заведениями.\n",
    "    10. Большая часть улиц с одним заведением общепита находится в Центральном АО. Данные заведения имеют все возможные катеогии: от столовой до бара.\n",
    "    11. Средний чек в Центральном и Западном административном округах оказались равными 1000 руб. Самая низкая средняя цена заказа составляет 450 руб. и наблюдается в Юго-Восточном АО. В целом, удаленность от центра обратно пропорциональна величине среднего чека: чем больше расстояние от центра города, тем выше средний чек.\n",
    "3. Проведен более детализированный анализ рынок кофеен:\n",
    "    1. В датасете 1413 кофейни, 428 из которых находятся в Центральном АО. \n",
    "    2. В Москве 59 круглосуточных кофеен.\n",
    "    3. Для всех административных округов, за исключением Западного АО, медианное значение рейтинга составляет 4.3 (для ЗАО - 4.2). Для Северного и Северо-Восточного АО наблюдается самый большой разброс значений рейтинга.\n",
    "    4. При открытии новой кофейни можно выбрать два разных пути. Первый - это выбрать район, в котором нет так много кофеен, но достаточно высокая проходимость (это может быть бизнес-квартал или транспортный путь, такой как пересадка с МЦК/МЦД на метро и т.п.). В этом случае можно устанавливать среднюю в данном районе стоимость чашки капучино. Второй вариант, это выбрать район с наиболее высоким ценником за чашку кофе и основать кофейню с более низким (ниже медианы по району) средним чеком. Однако этот вариант очень агрессивный.\n",
    "4. Даны рекомендации по открытию кофейни в г. Москве, а именно в Юго-Западном административном округе, поскольку там малое число кофеен (всего 96 из 1413 по г. Москве, 7 из них круглосуточные) и средняя цена за чашку капучино самая высокая (198 руб.). Средний рейтинг заведений в этом административном округе колеблется около оценки 4.3. В ЗАО располагается очень много университетов, а студенты часто покупают кофе с собой и делают различные проекты/ домашние задания в кафе, когда у них перерыв между парами. Более того ЮЗАО - престижный район Москвы, где располагаются бизнес-центры и жилые кварталы. \n",
    "5. Подготовлена презентация    "
   ]
  }
 ],
 "metadata": {
  "ExecuteTimeLog": [
   {
    "duration": 86,
    "start_time": "2022-11-10T09:02:20.177Z"
   },
   {
    "duration": 1743,
    "start_time": "2022-11-10T14:15:52.367Z"
   },
   {
    "duration": 111,
    "start_time": "2022-11-10T14:16:49.995Z"
   },
   {
    "duration": 83,
    "start_time": "2022-11-10T14:17:04.484Z"
   },
   {
    "duration": 34,
    "start_time": "2022-11-10T14:17:12.411Z"
   },
   {
    "duration": 3,
    "start_time": "2022-11-10T14:25:29.802Z"
   },
   {
    "duration": 23,
    "start_time": "2022-11-10T14:25:50.698Z"
   },
   {
    "duration": 21,
    "start_time": "2022-11-10T14:26:12.315Z"
   },
   {
    "duration": 11,
    "start_time": "2022-11-10T14:26:47.003Z"
   },
   {
    "duration": 18,
    "start_time": "2022-11-10T14:27:45.734Z"
   },
   {
    "duration": 7,
    "start_time": "2022-11-10T14:28:38.574Z"
   },
   {
    "duration": 8,
    "start_time": "2022-11-10T14:29:53.837Z"
   },
   {
    "duration": 132,
    "start_time": "2022-11-10T14:42:12.540Z"
   },
   {
    "duration": 7,
    "start_time": "2022-11-10T14:42:18.543Z"
   },
   {
    "duration": 12,
    "start_time": "2022-11-10T14:51:14.044Z"
   },
   {
    "duration": 11,
    "start_time": "2022-11-10T14:51:30.772Z"
   },
   {
    "duration": 1369,
    "start_time": "2022-11-11T07:16:24.618Z"
   },
   {
    "duration": 106,
    "start_time": "2022-11-11T07:16:25.989Z"
   },
   {
    "duration": 4,
    "start_time": "2022-11-11T07:16:26.097Z"
   },
   {
    "duration": 21,
    "start_time": "2022-11-11T07:16:26.103Z"
   },
   {
    "duration": 18,
    "start_time": "2022-11-11T07:16:26.125Z"
   },
   {
    "duration": 5,
    "start_time": "2022-11-11T07:16:26.145Z"
   },
   {
    "duration": 24,
    "start_time": "2022-11-11T07:16:26.152Z"
   },
   {
    "duration": 39,
    "start_time": "2022-11-11T07:16:26.178Z"
   },
   {
    "duration": 69,
    "start_time": "2022-11-11T07:16:26.219Z"
   },
   {
    "duration": 69,
    "start_time": "2022-11-11T07:17:18.001Z"
   },
   {
    "duration": 17,
    "start_time": "2022-11-11T07:17:26.273Z"
   },
   {
    "duration": 13,
    "start_time": "2022-11-11T07:18:05.010Z"
   },
   {
    "duration": 70,
    "start_time": "2022-11-11T07:18:37.181Z"
   },
   {
    "duration": 15,
    "start_time": "2022-11-11T07:18:44.360Z"
   },
   {
    "duration": 11,
    "start_time": "2022-11-11T11:16:35.730Z"
   },
   {
    "duration": 16,
    "start_time": "2022-11-11T11:16:48.948Z"
   },
   {
    "duration": 122,
    "start_time": "2022-11-11T11:17:28.326Z"
   },
   {
    "duration": 13,
    "start_time": "2022-11-11T11:18:08.592Z"
   },
   {
    "duration": 9,
    "start_time": "2022-11-11T11:18:32.416Z"
   },
   {
    "duration": 23,
    "start_time": "2022-11-11T11:18:42.850Z"
   },
   {
    "duration": 30,
    "start_time": "2022-11-11T11:19:10.876Z"
   },
   {
    "duration": 70,
    "start_time": "2022-11-11T11:19:24.599Z"
   },
   {
    "duration": 33,
    "start_time": "2022-11-11T11:19:57.480Z"
   },
   {
    "duration": 33,
    "start_time": "2022-11-11T11:20:18.246Z"
   },
   {
    "duration": 39,
    "start_time": "2022-11-11T11:20:21.282Z"
   },
   {
    "duration": 30,
    "start_time": "2022-11-11T11:20:26.105Z"
   },
   {
    "duration": 7,
    "start_time": "2022-11-11T11:20:38.561Z"
   },
   {
    "duration": 27,
    "start_time": "2022-11-11T11:20:46.022Z"
   },
   {
    "duration": 72,
    "start_time": "2022-11-11T11:21:21.781Z"
   },
   {
    "duration": 8,
    "start_time": "2022-11-11T11:21:22.237Z"
   },
   {
    "duration": 32,
    "start_time": "2022-11-11T11:21:23.189Z"
   },
   {
    "duration": 1310,
    "start_time": "2022-11-11T11:21:56.877Z"
   },
   {
    "duration": 65,
    "start_time": "2022-11-11T11:21:58.189Z"
   },
   {
    "duration": 3,
    "start_time": "2022-11-11T11:21:58.257Z"
   },
   {
    "duration": 21,
    "start_time": "2022-11-11T11:21:58.262Z"
   },
   {
    "duration": 24,
    "start_time": "2022-11-11T11:21:58.285Z"
   },
   {
    "duration": 7,
    "start_time": "2022-11-11T11:21:58.311Z"
   },
   {
    "duration": 10,
    "start_time": "2022-11-11T11:21:58.320Z"
   },
   {
    "duration": 17,
    "start_time": "2022-11-11T11:21:58.332Z"
   },
   {
    "duration": 125,
    "start_time": "2022-11-11T11:21:58.350Z"
   },
   {
    "duration": 9,
    "start_time": "2022-11-11T11:21:58.478Z"
   },
   {
    "duration": 141,
    "start_time": "2022-11-11T11:21:58.504Z"
   },
   {
    "duration": 26,
    "start_time": "2022-11-11T11:22:18.370Z"
   },
   {
    "duration": 34,
    "start_time": "2022-11-11T11:39:08.130Z"
   },
   {
    "duration": 29,
    "start_time": "2022-11-11T11:40:24.581Z"
   },
   {
    "duration": 16,
    "start_time": "2022-11-11T11:40:49.107Z"
   },
   {
    "duration": 24,
    "start_time": "2022-11-11T11:40:55.180Z"
   },
   {
    "duration": 10,
    "start_time": "2022-11-11T11:41:14.888Z"
   },
   {
    "duration": 6,
    "start_time": "2022-11-11T11:42:04.293Z"
   },
   {
    "duration": 16,
    "start_time": "2022-11-11T11:46:15.781Z"
   },
   {
    "duration": 13,
    "start_time": "2022-11-11T11:46:53.593Z"
   },
   {
    "duration": 15,
    "start_time": "2022-11-11T11:47:28.232Z"
   },
   {
    "duration": 23,
    "start_time": "2022-11-11T11:52:52.231Z"
   },
   {
    "duration": 3,
    "start_time": "2022-11-11T11:53:58.368Z"
   },
   {
    "duration": 77,
    "start_time": "2022-11-11T11:53:58.374Z"
   },
   {
    "duration": 4,
    "start_time": "2022-11-11T11:53:58.453Z"
   },
   {
    "duration": 55,
    "start_time": "2022-11-11T11:53:58.459Z"
   },
   {
    "duration": 36,
    "start_time": "2022-11-11T11:53:58.517Z"
   },
   {
    "duration": 25,
    "start_time": "2022-11-11T11:53:58.555Z"
   },
   {
    "duration": 31,
    "start_time": "2022-11-11T11:53:58.582Z"
   },
   {
    "duration": 28,
    "start_time": "2022-11-11T11:53:58.615Z"
   },
   {
    "duration": 12,
    "start_time": "2022-11-11T11:54:01.367Z"
   },
   {
    "duration": 23,
    "start_time": "2022-11-11T11:54:02.316Z"
   },
   {
    "duration": 26,
    "start_time": "2022-11-11T11:54:18.107Z"
   },
   {
    "duration": 24,
    "start_time": "2022-11-11T11:55:45.476Z"
   },
   {
    "duration": 28,
    "start_time": "2022-11-11T11:57:14.079Z"
   },
   {
    "duration": 54,
    "start_time": "2022-11-12T16:27:06.537Z"
   },
   {
    "duration": 1693,
    "start_time": "2022-11-12T16:27:12.744Z"
   },
   {
    "duration": 118,
    "start_time": "2022-11-12T16:27:14.439Z"
   },
   {
    "duration": 3,
    "start_time": "2022-11-12T16:27:14.559Z"
   },
   {
    "duration": 32,
    "start_time": "2022-11-12T16:27:14.564Z"
   },
   {
    "duration": 34,
    "start_time": "2022-11-12T16:27:14.599Z"
   },
   {
    "duration": 8,
    "start_time": "2022-11-12T16:27:14.635Z"
   },
   {
    "duration": 19,
    "start_time": "2022-11-12T16:27:17.745Z"
   },
   {
    "duration": 11,
    "start_time": "2022-11-12T16:27:30.844Z"
   },
   {
    "duration": 10,
    "start_time": "2022-11-12T16:37:23.331Z"
   },
   {
    "duration": 80,
    "start_time": "2022-11-12T16:37:44.162Z"
   },
   {
    "duration": 12,
    "start_time": "2022-11-12T16:37:50.168Z"
   },
   {
    "duration": 43,
    "start_time": "2022-11-13T08:34:58.656Z"
   },
   {
    "duration": 5,
    "start_time": "2022-11-13T08:35:07.334Z"
   },
   {
    "duration": 1300,
    "start_time": "2022-11-13T08:35:25.402Z"
   },
   {
    "duration": 232,
    "start_time": "2022-11-13T08:35:26.704Z"
   },
   {
    "duration": 3,
    "start_time": "2022-11-13T08:35:26.940Z"
   },
   {
    "duration": 29,
    "start_time": "2022-11-13T08:35:26.944Z"
   },
   {
    "duration": 12,
    "start_time": "2022-11-13T08:35:26.975Z"
   },
   {
    "duration": 7,
    "start_time": "2022-11-13T08:35:26.989Z"
   },
   {
    "duration": 12,
    "start_time": "2022-11-13T08:35:26.998Z"
   },
   {
    "duration": 7,
    "start_time": "2022-11-13T08:35:27.011Z"
   },
   {
    "duration": 13,
    "start_time": "2022-11-13T08:35:27.029Z"
   },
   {
    "duration": 7,
    "start_time": "2022-11-13T08:35:27.044Z"
   },
   {
    "duration": 83,
    "start_time": "2022-11-13T08:35:27.052Z"
   },
   {
    "duration": 6,
    "start_time": "2022-11-13T08:35:27.137Z"
   },
   {
    "duration": 7,
    "start_time": "2022-11-13T08:35:27.145Z"
   },
   {
    "duration": 13,
    "start_time": "2022-11-13T08:35:27.153Z"
   },
   {
    "duration": 114,
    "start_time": "2022-11-13T08:35:27.168Z"
   },
   {
    "duration": 13,
    "start_time": "2022-11-13T08:35:54.179Z"
   },
   {
    "duration": 10,
    "start_time": "2022-11-13T08:36:12.217Z"
   },
   {
    "duration": 8,
    "start_time": "2022-11-13T08:36:29.154Z"
   },
   {
    "duration": 24,
    "start_time": "2022-11-13T08:37:10.642Z"
   },
   {
    "duration": 868,
    "start_time": "2022-11-13T08:37:30.026Z"
   },
   {
    "duration": 8,
    "start_time": "2022-11-13T08:37:48.389Z"
   },
   {
    "duration": 3,
    "start_time": "2022-11-13T08:40:06.842Z"
   },
   {
    "duration": 648,
    "start_time": "2022-11-13T08:41:11.348Z"
   },
   {
    "duration": 51,
    "start_time": "2022-11-13T08:41:26.891Z"
   },
   {
    "duration": 1367,
    "start_time": "2022-11-13T16:44:08.955Z"
   },
   {
    "duration": 233,
    "start_time": "2022-11-13T16:44:10.324Z"
   },
   {
    "duration": 4,
    "start_time": "2022-11-13T16:44:10.558Z"
   },
   {
    "duration": 23,
    "start_time": "2022-11-13T16:44:10.563Z"
   },
   {
    "duration": 15,
    "start_time": "2022-11-13T16:44:10.588Z"
   },
   {
    "duration": 6,
    "start_time": "2022-11-13T16:44:10.604Z"
   },
   {
    "duration": 23,
    "start_time": "2022-11-13T16:44:10.611Z"
   },
   {
    "duration": 8,
    "start_time": "2022-11-13T16:44:10.636Z"
   },
   {
    "duration": 17,
    "start_time": "2022-11-13T16:44:10.645Z"
   },
   {
    "duration": 11,
    "start_time": "2022-11-13T16:44:10.663Z"
   },
   {
    "duration": 3,
    "start_time": "2022-11-13T16:44:10.676Z"
   },
   {
    "duration": 3,
    "start_time": "2022-11-13T16:44:20.516Z"
   },
   {
    "duration": 269,
    "start_time": "2022-11-13T16:44:37.485Z"
   },
   {
    "duration": 3,
    "start_time": "2022-11-13T16:46:27.732Z"
   },
   {
    "duration": 206,
    "start_time": "2022-11-13T16:46:28.672Z"
   },
   {
    "duration": 203,
    "start_time": "2022-11-13T16:52:54.726Z"
   },
   {
    "duration": 10,
    "start_time": "2022-11-13T16:54:47.333Z"
   },
   {
    "duration": 27,
    "start_time": "2022-11-13T16:54:59.495Z"
   },
   {
    "duration": 24,
    "start_time": "2022-11-13T16:55:24.236Z"
   },
   {
    "duration": 3059,
    "start_time": "2022-11-13T16:57:33.430Z"
   },
   {
    "duration": 5,
    "start_time": "2022-11-13T17:01:47.763Z"
   },
   {
    "duration": 5,
    "start_time": "2022-11-13T17:02:09.777Z"
   },
   {
    "duration": 9,
    "start_time": "2022-11-13T17:02:25.238Z"
   },
   {
    "duration": 15,
    "start_time": "2022-11-13T17:03:33.016Z"
   },
   {
    "duration": 3,
    "start_time": "2022-11-13T17:08:55.513Z"
   },
   {
    "duration": 42,
    "start_time": "2022-11-13T17:08:59.650Z"
   },
   {
    "duration": 11,
    "start_time": "2022-11-13T17:09:38.839Z"
   },
   {
    "duration": 10,
    "start_time": "2022-11-13T17:09:47.871Z"
   },
   {
    "duration": 9,
    "start_time": "2022-11-13T17:10:09.115Z"
   },
   {
    "duration": 27,
    "start_time": "2022-11-13T17:12:18.640Z"
   },
   {
    "duration": 16,
    "start_time": "2022-11-13T17:12:38.524Z"
   },
   {
    "duration": 23,
    "start_time": "2022-11-13T17:13:20.599Z"
   },
   {
    "duration": 18,
    "start_time": "2022-11-13T17:13:29.618Z"
   },
   {
    "duration": 57,
    "start_time": "2022-11-13T17:14:31.814Z"
   },
   {
    "duration": 17,
    "start_time": "2022-11-13T17:15:59.686Z"
   },
   {
    "duration": 18,
    "start_time": "2022-11-13T17:16:38.611Z"
   },
   {
    "duration": 10,
    "start_time": "2022-11-13T17:17:56.246Z"
   },
   {
    "duration": 18,
    "start_time": "2022-11-13T17:18:30.327Z"
   },
   {
    "duration": 24,
    "start_time": "2022-11-13T17:19:26.090Z"
   },
   {
    "duration": 11,
    "start_time": "2022-11-13T17:19:42.983Z"
   },
   {
    "duration": 3,
    "start_time": "2022-11-13T17:20:34.023Z"
   },
   {
    "duration": 64,
    "start_time": "2022-11-13T17:20:34.028Z"
   },
   {
    "duration": 3,
    "start_time": "2022-11-13T17:20:34.094Z"
   },
   {
    "duration": 20,
    "start_time": "2022-11-13T17:20:34.098Z"
   },
   {
    "duration": 20,
    "start_time": "2022-11-13T17:20:34.121Z"
   },
   {
    "duration": 7,
    "start_time": "2022-11-13T17:20:34.143Z"
   },
   {
    "duration": 11,
    "start_time": "2022-11-13T17:20:34.152Z"
   },
   {
    "duration": 8,
    "start_time": "2022-11-13T17:20:34.165Z"
   },
   {
    "duration": 16,
    "start_time": "2022-11-13T17:20:34.175Z"
   },
   {
    "duration": 8,
    "start_time": "2022-11-13T17:20:34.193Z"
   },
   {
    "duration": 32,
    "start_time": "2022-11-13T17:20:34.203Z"
   },
   {
    "duration": 19,
    "start_time": "2022-11-13T17:20:34.237Z"
   },
   {
    "duration": 35,
    "start_time": "2022-11-13T17:28:41.082Z"
   },
   {
    "duration": 32,
    "start_time": "2022-11-13T17:30:58.165Z"
   },
   {
    "duration": 75,
    "start_time": "2022-11-13T17:32:55.965Z"
   },
   {
    "duration": 45,
    "start_time": "2022-11-13T17:33:50.125Z"
   },
   {
    "duration": 11,
    "start_time": "2022-11-13T17:34:14.919Z"
   },
   {
    "duration": 44,
    "start_time": "2022-11-13T17:34:42.436Z"
   },
   {
    "duration": 61,
    "start_time": "2022-11-13T17:35:01.981Z"
   },
   {
    "duration": 5,
    "start_time": "2022-11-13T17:35:35.721Z"
   },
   {
    "duration": 46,
    "start_time": "2022-11-13T17:35:40.770Z"
   },
   {
    "duration": 10,
    "start_time": "2022-11-13T17:36:49.781Z"
   },
   {
    "duration": 11,
    "start_time": "2022-11-13T17:43:39.996Z"
   },
   {
    "duration": 10,
    "start_time": "2022-11-13T17:43:40.890Z"
   },
   {
    "duration": 4,
    "start_time": "2022-11-13T17:43:42.062Z"
   },
   {
    "duration": 16,
    "start_time": "2022-11-13T17:44:43.031Z"
   },
   {
    "duration": 7,
    "start_time": "2022-11-13T17:44:47.047Z"
   },
   {
    "duration": 5,
    "start_time": "2022-11-13T17:44:48.174Z"
   },
   {
    "duration": 68,
    "start_time": "2022-11-13T17:45:26.220Z"
   },
   {
    "duration": 57,
    "start_time": "2022-11-13T17:45:35.240Z"
   },
   {
    "duration": 65,
    "start_time": "2022-11-13T17:49:34.511Z"
   },
   {
    "duration": 51,
    "start_time": "2022-11-13T17:50:43.776Z"
   },
   {
    "duration": 8,
    "start_time": "2022-11-13T17:50:56.596Z"
   },
   {
    "duration": 3,
    "start_time": "2022-11-13T17:51:02.360Z"
   },
   {
    "duration": 64,
    "start_time": "2022-11-13T17:51:02.365Z"
   },
   {
    "duration": 14,
    "start_time": "2022-11-13T17:51:02.431Z"
   },
   {
    "duration": 20,
    "start_time": "2022-11-13T17:51:02.446Z"
   },
   {
    "duration": 23,
    "start_time": "2022-11-13T17:51:02.468Z"
   },
   {
    "duration": 6,
    "start_time": "2022-11-13T17:51:02.492Z"
   },
   {
    "duration": 12,
    "start_time": "2022-11-13T17:51:02.500Z"
   },
   {
    "duration": 13,
    "start_time": "2022-11-13T17:51:02.513Z"
   },
   {
    "duration": 27,
    "start_time": "2022-11-13T17:51:02.528Z"
   },
   {
    "duration": 3,
    "start_time": "2022-11-13T17:51:02.556Z"
   },
   {
    "duration": 56,
    "start_time": "2022-11-13T17:51:02.561Z"
   },
   {
    "duration": 9,
    "start_time": "2022-11-13T17:51:02.619Z"
   },
   {
    "duration": 23,
    "start_time": "2022-11-13T17:51:02.631Z"
   },
   {
    "duration": 7,
    "start_time": "2022-11-13T17:51:05.564Z"
   },
   {
    "duration": 45,
    "start_time": "2022-11-13T17:53:12.349Z"
   },
   {
    "duration": 3,
    "start_time": "2022-11-13T17:53:23.299Z"
   },
   {
    "duration": 76,
    "start_time": "2022-11-13T17:53:23.304Z"
   },
   {
    "duration": 4,
    "start_time": "2022-11-13T17:53:23.382Z"
   },
   {
    "duration": 23,
    "start_time": "2022-11-13T17:53:23.388Z"
   },
   {
    "duration": 16,
    "start_time": "2022-11-13T17:53:23.412Z"
   },
   {
    "duration": 12,
    "start_time": "2022-11-13T17:53:23.430Z"
   },
   {
    "duration": 16,
    "start_time": "2022-11-13T17:53:23.444Z"
   },
   {
    "duration": 14,
    "start_time": "2022-11-13T17:53:23.462Z"
   },
   {
    "duration": 7,
    "start_time": "2022-11-13T17:53:23.479Z"
   },
   {
    "duration": 4,
    "start_time": "2022-11-13T17:53:23.488Z"
   },
   {
    "duration": 48,
    "start_time": "2022-11-13T17:53:23.493Z"
   },
   {
    "duration": 20,
    "start_time": "2022-11-13T17:53:23.542Z"
   },
   {
    "duration": 11,
    "start_time": "2022-11-13T17:53:23.565Z"
   },
   {
    "duration": 8,
    "start_time": "2022-11-13T17:53:23.577Z"
   },
   {
    "duration": 8,
    "start_time": "2022-11-13T17:53:23.587Z"
   },
   {
    "duration": 7,
    "start_time": "2022-11-13T17:53:23.597Z"
   },
   {
    "duration": 50,
    "start_time": "2022-11-13T17:53:26.705Z"
   },
   {
    "duration": 58,
    "start_time": "2022-11-13T17:53:37.926Z"
   },
   {
    "duration": 1168,
    "start_time": "2022-11-13T18:00:59.156Z"
   },
   {
    "duration": 79,
    "start_time": "2022-11-13T18:01:00.326Z"
   },
   {
    "duration": 3,
    "start_time": "2022-11-13T18:01:00.407Z"
   },
   {
    "duration": 31,
    "start_time": "2022-11-13T18:01:00.412Z"
   },
   {
    "duration": 35,
    "start_time": "2022-11-13T18:01:00.445Z"
   },
   {
    "duration": 29,
    "start_time": "2022-11-13T18:01:00.482Z"
   },
   {
    "duration": 31,
    "start_time": "2022-11-13T18:01:00.513Z"
   },
   {
    "duration": 48,
    "start_time": "2022-11-13T18:01:00.546Z"
   },
   {
    "duration": 28,
    "start_time": "2022-11-13T18:01:00.596Z"
   },
   {
    "duration": 20,
    "start_time": "2022-11-13T18:01:00.626Z"
   },
   {
    "duration": 70,
    "start_time": "2022-11-13T18:01:00.647Z"
   },
   {
    "duration": 9,
    "start_time": "2022-11-13T18:01:00.719Z"
   },
   {
    "duration": 83,
    "start_time": "2022-11-13T18:01:00.729Z"
   },
   {
    "duration": 35,
    "start_time": "2022-11-13T18:01:00.814Z"
   },
   {
    "duration": 22,
    "start_time": "2022-11-13T18:01:00.851Z"
   },
   {
    "duration": 18,
    "start_time": "2022-11-13T18:01:00.875Z"
   },
   {
    "duration": 86,
    "start_time": "2022-11-13T18:01:00.895Z"
   },
   {
    "duration": 80,
    "start_time": "2022-11-13T18:01:00.983Z"
   },
   {
    "duration": 7,
    "start_time": "2022-11-13T18:01:01.065Z"
   },
   {
    "duration": 3,
    "start_time": "2022-11-13T18:06:09.957Z"
   },
   {
    "duration": 3,
    "start_time": "2022-11-13T18:06:33.623Z"
   },
   {
    "duration": 4,
    "start_time": "2022-11-13T18:07:42.260Z"
   },
   {
    "duration": 51,
    "start_time": "2022-11-13T18:07:43.218Z"
   },
   {
    "duration": 43,
    "start_time": "2022-11-13T18:07:51.456Z"
   },
   {
    "duration": 3,
    "start_time": "2022-11-13T18:08:38.615Z"
   },
   {
    "duration": 93,
    "start_time": "2022-11-13T18:08:38.621Z"
   },
   {
    "duration": 4,
    "start_time": "2022-11-13T18:08:38.716Z"
   },
   {
    "duration": 29,
    "start_time": "2022-11-13T18:08:38.722Z"
   },
   {
    "duration": 15,
    "start_time": "2022-11-13T18:08:38.753Z"
   },
   {
    "duration": 6,
    "start_time": "2022-11-13T18:08:38.769Z"
   },
   {
    "duration": 9,
    "start_time": "2022-11-13T18:08:38.776Z"
   },
   {
    "duration": 14,
    "start_time": "2022-11-13T18:08:38.786Z"
   },
   {
    "duration": 40,
    "start_time": "2022-11-13T18:08:38.801Z"
   },
   {
    "duration": 3,
    "start_time": "2022-11-13T18:08:38.847Z"
   },
   {
    "duration": 34,
    "start_time": "2022-11-13T18:08:38.852Z"
   },
   {
    "duration": 7,
    "start_time": "2022-11-13T18:08:38.887Z"
   },
   {
    "duration": 14,
    "start_time": "2022-11-13T18:08:38.895Z"
   },
   {
    "duration": 31,
    "start_time": "2022-11-13T18:08:38.910Z"
   },
   {
    "duration": 16,
    "start_time": "2022-11-13T18:08:38.942Z"
   },
   {
    "duration": 3,
    "start_time": "2022-11-13T18:08:38.960Z"
   },
   {
    "duration": 15,
    "start_time": "2022-11-13T18:08:38.964Z"
   },
   {
    "duration": 64,
    "start_time": "2022-11-13T18:08:38.981Z"
   },
   {
    "duration": 4,
    "start_time": "2022-11-13T18:08:39.047Z"
   },
   {
    "duration": 48,
    "start_time": "2022-11-13T18:08:39.052Z"
   },
   {
    "duration": 13,
    "start_time": "2022-11-13T18:08:41.450Z"
   },
   {
    "duration": 1398,
    "start_time": "2022-11-13T18:09:18.554Z"
   },
   {
    "duration": 66,
    "start_time": "2022-11-13T18:09:19.954Z"
   },
   {
    "duration": 4,
    "start_time": "2022-11-13T18:09:20.021Z"
   },
   {
    "duration": 48,
    "start_time": "2022-11-13T18:09:20.027Z"
   },
   {
    "duration": 15,
    "start_time": "2022-11-13T18:09:20.077Z"
   },
   {
    "duration": 5,
    "start_time": "2022-11-13T18:09:20.094Z"
   },
   {
    "duration": 9,
    "start_time": "2022-11-13T18:09:20.101Z"
   },
   {
    "duration": 14,
    "start_time": "2022-11-13T18:09:20.112Z"
   },
   {
    "duration": 23,
    "start_time": "2022-11-13T18:09:20.128Z"
   },
   {
    "duration": 9,
    "start_time": "2022-11-13T18:09:20.154Z"
   },
   {
    "duration": 50,
    "start_time": "2022-11-13T18:09:20.166Z"
   },
   {
    "duration": 19,
    "start_time": "2022-11-13T18:09:20.218Z"
   },
   {
    "duration": 15,
    "start_time": "2022-11-13T18:09:20.245Z"
   },
   {
    "duration": 12,
    "start_time": "2022-11-13T18:09:20.262Z"
   },
   {
    "duration": 14,
    "start_time": "2022-11-13T18:09:20.276Z"
   },
   {
    "duration": 5,
    "start_time": "2022-11-13T18:09:20.292Z"
   },
   {
    "duration": 19,
    "start_time": "2022-11-13T18:09:20.299Z"
   },
   {
    "duration": 68,
    "start_time": "2022-11-13T18:09:20.320Z"
   },
   {
    "duration": 4,
    "start_time": "2022-11-13T18:09:20.391Z"
   },
   {
    "duration": 91,
    "start_time": "2022-11-13T18:09:20.397Z"
   },
   {
    "duration": 13,
    "start_time": "2022-11-13T18:09:20.490Z"
   },
   {
    "duration": 103,
    "start_time": "2022-11-13T18:09:20.505Z"
   },
   {
    "duration": 7,
    "start_time": "2022-11-13T18:09:20.610Z"
   },
   {
    "duration": 1206,
    "start_time": "2022-11-13T18:11:13.246Z"
   },
   {
    "duration": 63,
    "start_time": "2022-11-13T18:11:14.454Z"
   },
   {
    "duration": 3,
    "start_time": "2022-11-13T18:11:14.518Z"
   },
   {
    "duration": 56,
    "start_time": "2022-11-13T18:11:14.523Z"
   },
   {
    "duration": 22,
    "start_time": "2022-11-13T18:11:14.581Z"
   },
   {
    "duration": 7,
    "start_time": "2022-11-13T18:11:14.605Z"
   },
   {
    "duration": 12,
    "start_time": "2022-11-13T18:11:14.613Z"
   },
   {
    "duration": 23,
    "start_time": "2022-11-13T18:11:14.626Z"
   },
   {
    "duration": 11,
    "start_time": "2022-11-13T18:11:14.650Z"
   },
   {
    "duration": 13,
    "start_time": "2022-11-13T18:11:14.662Z"
   },
   {
    "duration": 49,
    "start_time": "2022-11-13T18:11:14.676Z"
   },
   {
    "duration": 18,
    "start_time": "2022-11-13T18:11:14.726Z"
   },
   {
    "duration": 12,
    "start_time": "2022-11-13T18:11:14.746Z"
   },
   {
    "duration": 11,
    "start_time": "2022-11-13T18:11:14.761Z"
   },
   {
    "duration": 9,
    "start_time": "2022-11-13T18:11:14.773Z"
   },
   {
    "duration": 10,
    "start_time": "2022-11-13T18:11:14.784Z"
   },
   {
    "duration": 16,
    "start_time": "2022-11-13T18:11:14.796Z"
   },
   {
    "duration": 51,
    "start_time": "2022-11-13T18:11:14.813Z"
   },
   {
    "duration": 4,
    "start_time": "2022-11-13T18:11:14.866Z"
   },
   {
    "duration": 127,
    "start_time": "2022-11-13T18:11:14.871Z"
   },
   {
    "duration": 0,
    "start_time": "2022-11-13T18:11:15.000Z"
   },
   {
    "duration": 0,
    "start_time": "2022-11-13T18:11:15.002Z"
   },
   {
    "duration": 0,
    "start_time": "2022-11-13T18:11:15.004Z"
   },
   {
    "duration": 1198,
    "start_time": "2022-11-13T18:12:23.846Z"
   },
   {
    "duration": 68,
    "start_time": "2022-11-13T18:12:25.046Z"
   },
   {
    "duration": 3,
    "start_time": "2022-11-13T18:12:25.116Z"
   },
   {
    "duration": 25,
    "start_time": "2022-11-13T18:12:25.120Z"
   },
   {
    "duration": 15,
    "start_time": "2022-11-13T18:12:25.148Z"
   },
   {
    "duration": 5,
    "start_time": "2022-11-13T18:12:25.165Z"
   },
   {
    "duration": 11,
    "start_time": "2022-11-13T18:12:25.171Z"
   },
   {
    "duration": 14,
    "start_time": "2022-11-13T18:12:25.184Z"
   },
   {
    "duration": 46,
    "start_time": "2022-11-13T18:12:25.200Z"
   },
   {
    "duration": 3,
    "start_time": "2022-11-13T18:12:25.247Z"
   },
   {
    "duration": 44,
    "start_time": "2022-11-13T18:12:25.252Z"
   },
   {
    "duration": 8,
    "start_time": "2022-11-13T18:12:25.297Z"
   },
   {
    "duration": 11,
    "start_time": "2022-11-13T18:12:25.306Z"
   },
   {
    "duration": 7,
    "start_time": "2022-11-13T18:12:25.319Z"
   },
   {
    "duration": 14,
    "start_time": "2022-11-13T18:12:25.332Z"
   },
   {
    "duration": 6,
    "start_time": "2022-11-13T18:12:25.347Z"
   },
   {
    "duration": 16,
    "start_time": "2022-11-13T18:12:25.354Z"
   },
   {
    "duration": 46,
    "start_time": "2022-11-13T18:12:25.371Z"
   },
   {
    "duration": 25,
    "start_time": "2022-11-13T18:12:25.418Z"
   },
   {
    "duration": 8,
    "start_time": "2022-11-13T18:12:25.445Z"
   },
   {
    "duration": 63,
    "start_time": "2022-11-13T18:12:25.455Z"
   },
   {
    "duration": 12,
    "start_time": "2022-11-13T18:12:25.519Z"
   },
   {
    "duration": 73,
    "start_time": "2022-11-13T18:12:25.543Z"
   },
   {
    "duration": 8,
    "start_time": "2022-11-13T18:12:25.618Z"
   },
   {
    "duration": 11,
    "start_time": "2022-11-13T18:14:52.271Z"
   },
   {
    "duration": 37,
    "start_time": "2022-11-13T18:15:45.032Z"
   },
   {
    "duration": 28,
    "start_time": "2022-11-13T18:16:06.801Z"
   },
   {
    "duration": 1348,
    "start_time": "2022-11-14T06:28:43.159Z"
   },
   {
    "duration": 239,
    "start_time": "2022-11-14T06:28:44.511Z"
   },
   {
    "duration": 4,
    "start_time": "2022-11-14T06:28:44.753Z"
   },
   {
    "duration": 37,
    "start_time": "2022-11-14T06:28:44.759Z"
   },
   {
    "duration": 18,
    "start_time": "2022-11-14T06:28:44.798Z"
   },
   {
    "duration": 17,
    "start_time": "2022-11-14T06:28:44.818Z"
   },
   {
    "duration": 19,
    "start_time": "2022-11-14T06:28:44.836Z"
   },
   {
    "duration": 11,
    "start_time": "2022-11-14T06:28:44.857Z"
   },
   {
    "duration": 22,
    "start_time": "2022-11-14T06:28:44.870Z"
   },
   {
    "duration": 39,
    "start_time": "2022-11-14T06:28:44.894Z"
   },
   {
    "duration": 4,
    "start_time": "2022-11-14T06:28:44.935Z"
   },
   {
    "duration": 33,
    "start_time": "2022-11-14T06:28:44.941Z"
   },
   {
    "duration": 7,
    "start_time": "2022-11-14T06:28:44.977Z"
   },
   {
    "duration": 44,
    "start_time": "2022-11-14T06:28:44.986Z"
   },
   {
    "duration": 9,
    "start_time": "2022-11-14T06:28:45.031Z"
   },
   {
    "duration": 11,
    "start_time": "2022-11-14T06:28:45.041Z"
   },
   {
    "duration": 16,
    "start_time": "2022-11-14T06:28:45.053Z"
   },
   {
    "duration": 22,
    "start_time": "2022-11-14T06:28:45.070Z"
   },
   {
    "duration": 67,
    "start_time": "2022-11-14T06:28:45.094Z"
   },
   {
    "duration": 9,
    "start_time": "2022-11-14T06:28:45.163Z"
   },
   {
    "duration": 6,
    "start_time": "2022-11-14T06:28:45.174Z"
   },
   {
    "duration": 69,
    "start_time": "2022-11-14T06:28:45.181Z"
   },
   {
    "duration": 13,
    "start_time": "2022-11-14T06:28:45.252Z"
   },
   {
    "duration": 24,
    "start_time": "2022-11-14T06:28:45.267Z"
   },
   {
    "duration": 47,
    "start_time": "2022-11-14T06:28:45.293Z"
   },
   {
    "duration": 71,
    "start_time": "2022-11-14T06:28:45.342Z"
   },
   {
    "duration": 7,
    "start_time": "2022-11-14T06:28:45.429Z"
   },
   {
    "duration": 1366,
    "start_time": "2022-11-14T06:30:02.411Z"
   },
   {
    "duration": 79,
    "start_time": "2022-11-14T06:30:03.779Z"
   },
   {
    "duration": 4,
    "start_time": "2022-11-14T06:30:03.861Z"
   },
   {
    "duration": 53,
    "start_time": "2022-11-14T06:30:03.868Z"
   },
   {
    "duration": 46,
    "start_time": "2022-11-14T06:30:03.924Z"
   },
   {
    "duration": 31,
    "start_time": "2022-11-14T06:30:03.972Z"
   },
   {
    "duration": 62,
    "start_time": "2022-11-14T06:30:04.005Z"
   },
   {
    "duration": 42,
    "start_time": "2022-11-14T06:30:04.070Z"
   },
   {
    "duration": 24,
    "start_time": "2022-11-14T06:30:04.113Z"
   },
   {
    "duration": 22,
    "start_time": "2022-11-14T06:30:04.141Z"
   },
   {
    "duration": 25,
    "start_time": "2022-11-14T06:30:04.165Z"
   },
   {
    "duration": 79,
    "start_time": "2022-11-14T06:30:04.192Z"
   },
   {
    "duration": 8,
    "start_time": "2022-11-14T06:30:04.273Z"
   },
   {
    "duration": 8,
    "start_time": "2022-11-14T06:30:04.282Z"
   },
   {
    "duration": 7,
    "start_time": "2022-11-14T06:30:04.291Z"
   },
   {
    "duration": 31,
    "start_time": "2022-11-14T06:30:04.300Z"
   },
   {
    "duration": 4,
    "start_time": "2022-11-14T06:30:04.333Z"
   },
   {
    "duration": 16,
    "start_time": "2022-11-14T06:30:04.339Z"
   },
   {
    "duration": 79,
    "start_time": "2022-11-14T06:30:04.357Z"
   },
   {
    "duration": 28,
    "start_time": "2022-11-14T06:30:04.438Z"
   },
   {
    "duration": 29,
    "start_time": "2022-11-14T06:30:04.468Z"
   },
   {
    "duration": 99,
    "start_time": "2022-11-14T06:30:04.499Z"
   },
   {
    "duration": 8,
    "start_time": "2022-11-14T06:30:04.600Z"
   },
   {
    "duration": 4,
    "start_time": "2022-11-14T06:40:49.774Z"
   },
   {
    "duration": 11,
    "start_time": "2022-11-14T06:41:52.603Z"
   },
   {
    "duration": 11,
    "start_time": "2022-11-14T06:41:57.666Z"
   },
   {
    "duration": 6,
    "start_time": "2022-11-14T06:42:16.651Z"
   },
   {
    "duration": 5,
    "start_time": "2022-11-14T06:42:17.200Z"
   },
   {
    "duration": 10,
    "start_time": "2022-11-14T06:44:08.779Z"
   },
   {
    "duration": 6,
    "start_time": "2022-11-14T06:44:10.278Z"
   },
   {
    "duration": 10,
    "start_time": "2022-11-14T06:45:33.297Z"
   },
   {
    "duration": 7,
    "start_time": "2022-11-14T06:45:33.743Z"
   },
   {
    "duration": 10,
    "start_time": "2022-11-14T06:45:55.967Z"
   },
   {
    "duration": 6,
    "start_time": "2022-11-14T06:45:56.516Z"
   },
   {
    "duration": 9,
    "start_time": "2022-11-14T06:46:15.940Z"
   },
   {
    "duration": 7,
    "start_time": "2022-11-14T06:46:16.420Z"
   },
   {
    "duration": 9,
    "start_time": "2022-11-14T06:46:29.002Z"
   },
   {
    "duration": 10,
    "start_time": "2022-11-14T06:46:29.751Z"
   },
   {
    "duration": 10,
    "start_time": "2022-11-14T06:46:37.893Z"
   },
   {
    "duration": 7,
    "start_time": "2022-11-14T06:46:38.278Z"
   },
   {
    "duration": 53,
    "start_time": "2022-11-14T06:48:46.271Z"
   },
   {
    "duration": 7,
    "start_time": "2022-11-14T06:48:46.759Z"
   },
   {
    "duration": 137,
    "start_time": "2022-11-14T06:48:56.923Z"
   },
   {
    "duration": 18,
    "start_time": "2022-11-14T06:49:20.701Z"
   },
   {
    "duration": 47,
    "start_time": "2022-11-14T06:50:39.130Z"
   },
   {
    "duration": 48,
    "start_time": "2022-11-14T06:50:55.151Z"
   },
   {
    "duration": 9,
    "start_time": "2022-11-14T06:51:39.271Z"
   },
   {
    "duration": 7,
    "start_time": "2022-11-14T06:51:39.870Z"
   },
   {
    "duration": 228,
    "start_time": "2022-11-14T06:52:00.496Z"
   },
   {
    "duration": 203,
    "start_time": "2022-11-14T06:52:09.626Z"
   },
   {
    "duration": 84,
    "start_time": "2022-11-14T06:53:35.394Z"
   },
   {
    "duration": 134,
    "start_time": "2022-11-14T06:54:27.272Z"
   },
   {
    "duration": 57,
    "start_time": "2022-11-14T06:54:33.618Z"
   },
   {
    "duration": 64,
    "start_time": "2022-11-14T06:55:15.388Z"
   },
   {
    "duration": 164,
    "start_time": "2022-11-14T06:56:46.356Z"
   },
   {
    "duration": 53,
    "start_time": "2022-11-14T06:56:59.594Z"
   },
   {
    "duration": 125,
    "start_time": "2022-11-14T06:57:03.606Z"
   },
   {
    "duration": 194,
    "start_time": "2022-11-14T06:57:10.915Z"
   },
   {
    "duration": 178,
    "start_time": "2022-11-14T06:58:07.907Z"
   },
   {
    "duration": 206,
    "start_time": "2022-11-14T06:58:14.094Z"
   },
   {
    "duration": 178,
    "start_time": "2022-11-14T06:58:21.589Z"
   },
   {
    "duration": 199,
    "start_time": "2022-11-14T06:58:30.795Z"
   },
   {
    "duration": 217,
    "start_time": "2022-11-14T06:59:05.036Z"
   },
   {
    "duration": 156,
    "start_time": "2022-11-14T06:59:12.856Z"
   },
   {
    "duration": 164,
    "start_time": "2022-11-14T06:59:19.948Z"
   },
   {
    "duration": 182,
    "start_time": "2022-11-14T06:59:26.129Z"
   },
   {
    "duration": 170,
    "start_time": "2022-11-14T07:00:26.483Z"
   },
   {
    "duration": 278,
    "start_time": "2022-11-14T07:00:41.096Z"
   },
   {
    "duration": 149,
    "start_time": "2022-11-14T07:00:58.869Z"
   },
   {
    "duration": 153,
    "start_time": "2022-11-14T07:01:07.793Z"
   },
   {
    "duration": 167,
    "start_time": "2022-11-14T07:02:52.803Z"
   },
   {
    "duration": 180,
    "start_time": "2022-11-14T07:03:11.867Z"
   },
   {
    "duration": 25,
    "start_time": "2022-11-14T07:03:20.921Z"
   },
   {
    "duration": 172,
    "start_time": "2022-11-14T07:03:32.746Z"
   },
   {
    "duration": 10,
    "start_time": "2022-11-14T07:28:20.991Z"
   },
   {
    "duration": 10,
    "start_time": "2022-11-14T07:28:26.229Z"
   },
   {
    "duration": 5,
    "start_time": "2022-11-14T07:29:38.699Z"
   },
   {
    "duration": 31,
    "start_time": "2022-11-14T07:31:38.895Z"
   },
   {
    "duration": 25,
    "start_time": "2022-11-14T07:32:18.451Z"
   },
   {
    "duration": 4,
    "start_time": "2022-11-14T07:32:52.617Z"
   },
   {
    "duration": 28,
    "start_time": "2022-11-14T07:33:53.011Z"
   },
   {
    "duration": 4,
    "start_time": "2022-11-14T07:37:20.370Z"
   },
   {
    "duration": 22,
    "start_time": "2022-11-14T07:37:55.599Z"
   },
   {
    "duration": 18,
    "start_time": "2022-11-14T07:38:33.137Z"
   },
   {
    "duration": 11,
    "start_time": "2022-11-14T07:39:27.702Z"
   },
   {
    "duration": 36,
    "start_time": "2022-11-14T07:39:35.365Z"
   },
   {
    "duration": 35,
    "start_time": "2022-11-14T07:39:45.003Z"
   },
   {
    "duration": 18,
    "start_time": "2022-11-14T07:40:29.094Z"
   },
   {
    "duration": 24,
    "start_time": "2022-11-14T07:40:39.482Z"
   },
   {
    "duration": 30,
    "start_time": "2022-11-14T07:41:19.295Z"
   },
   {
    "duration": 37,
    "start_time": "2022-11-14T07:41:31.884Z"
   },
   {
    "duration": 102,
    "start_time": "2022-11-14T07:44:48.962Z"
   },
   {
    "duration": 104,
    "start_time": "2022-11-14T07:49:33.260Z"
   },
   {
    "duration": 107,
    "start_time": "2022-11-14T07:50:05.695Z"
   },
   {
    "duration": 14,
    "start_time": "2022-11-14T09:08:33.644Z"
   },
   {
    "duration": 3,
    "start_time": "2022-11-14T09:08:36.823Z"
   },
   {
    "duration": 966,
    "start_time": "2022-11-14T09:08:37.345Z"
   },
   {
    "duration": 127,
    "start_time": "2022-11-14T09:12:32.291Z"
   },
   {
    "duration": 61,
    "start_time": "2022-11-14T09:12:39.615Z"
   },
   {
    "duration": 115,
    "start_time": "2022-11-14T09:12:46.339Z"
   },
   {
    "duration": 1029,
    "start_time": "2022-11-14T09:13:14.679Z"
   },
   {
    "duration": 112,
    "start_time": "2022-11-14T09:14:13.281Z"
   },
   {
    "duration": 12,
    "start_time": "2022-11-14T10:01:06.724Z"
   },
   {
    "duration": 15,
    "start_time": "2022-11-14T10:01:58.209Z"
   },
   {
    "duration": 15,
    "start_time": "2022-11-14T10:02:37.379Z"
   },
   {
    "duration": 12,
    "start_time": "2022-11-14T10:02:38.023Z"
   },
   {
    "duration": 49,
    "start_time": "2022-11-14T10:04:03.268Z"
   },
   {
    "duration": 1209,
    "start_time": "2022-11-14T10:04:18.790Z"
   },
   {
    "duration": 65,
    "start_time": "2022-11-14T10:04:20.001Z"
   },
   {
    "duration": 4,
    "start_time": "2022-11-14T10:04:20.068Z"
   },
   {
    "duration": 59,
    "start_time": "2022-11-14T10:04:20.073Z"
   },
   {
    "duration": 35,
    "start_time": "2022-11-14T10:04:20.134Z"
   },
   {
    "duration": 17,
    "start_time": "2022-11-14T10:04:20.171Z"
   },
   {
    "duration": 28,
    "start_time": "2022-11-14T10:04:20.190Z"
   },
   {
    "duration": 22,
    "start_time": "2022-11-14T10:04:20.219Z"
   },
   {
    "duration": 47,
    "start_time": "2022-11-14T10:04:20.242Z"
   },
   {
    "duration": 12,
    "start_time": "2022-11-14T10:04:20.291Z"
   },
   {
    "duration": 21,
    "start_time": "2022-11-14T10:04:20.305Z"
   },
   {
    "duration": 60,
    "start_time": "2022-11-14T10:04:20.328Z"
   },
   {
    "duration": 23,
    "start_time": "2022-11-14T10:04:20.390Z"
   },
   {
    "duration": 12,
    "start_time": "2022-11-14T10:04:20.417Z"
   },
   {
    "duration": 30,
    "start_time": "2022-11-14T10:04:20.431Z"
   },
   {
    "duration": 67,
    "start_time": "2022-11-14T10:04:20.463Z"
   },
   {
    "duration": 59,
    "start_time": "2022-11-14T10:04:20.531Z"
   },
   {
    "duration": 40,
    "start_time": "2022-11-14T10:04:20.592Z"
   },
   {
    "duration": 70,
    "start_time": "2022-11-14T10:04:20.634Z"
   },
   {
    "duration": 74,
    "start_time": "2022-11-14T10:04:20.706Z"
   },
   {
    "duration": 6,
    "start_time": "2022-11-14T10:04:20.782Z"
   },
   {
    "duration": 68,
    "start_time": "2022-11-14T10:04:20.790Z"
   },
   {
    "duration": 71,
    "start_time": "2022-11-14T10:04:20.860Z"
   },
   {
    "duration": 40,
    "start_time": "2022-11-14T10:04:20.933Z"
   },
   {
    "duration": 235,
    "start_time": "2022-11-14T10:04:20.975Z"
   },
   {
    "duration": 188,
    "start_time": "2022-11-14T10:04:21.212Z"
   },
   {
    "duration": 3,
    "start_time": "2022-11-14T10:04:21.401Z"
   },
   {
    "duration": 40,
    "start_time": "2022-11-14T10:04:21.407Z"
   },
   {
    "duration": 0,
    "start_time": "2022-11-14T10:04:21.449Z"
   },
   {
    "duration": 164,
    "start_time": "2022-11-14T10:05:50.492Z"
   },
   {
    "duration": 131,
    "start_time": "2022-11-14T10:05:55.828Z"
   },
   {
    "duration": 1062,
    "start_time": "2022-11-14T10:06:13.675Z"
   },
   {
    "duration": 10,
    "start_time": "2022-11-14T12:12:55.707Z"
   },
   {
    "duration": 4,
    "start_time": "2022-11-14T12:19:01.044Z"
   },
   {
    "duration": 230,
    "start_time": "2022-11-14T14:39:34.043Z"
   },
   {
    "duration": 225,
    "start_time": "2022-11-14T14:40:08.511Z"
   },
   {
    "duration": 264,
    "start_time": "2022-11-14T14:40:58.617Z"
   },
   {
    "duration": 248,
    "start_time": "2022-11-14T14:44:31.718Z"
   },
   {
    "duration": 338,
    "start_time": "2022-11-14T14:44:32.217Z"
   },
   {
    "duration": 1407,
    "start_time": "2022-11-14T15:04:00.025Z"
   },
   {
    "duration": 63,
    "start_time": "2022-11-14T15:04:01.434Z"
   },
   {
    "duration": 4,
    "start_time": "2022-11-14T15:04:01.498Z"
   },
   {
    "duration": 51,
    "start_time": "2022-11-14T15:04:01.503Z"
   },
   {
    "duration": 59,
    "start_time": "2022-11-14T15:04:01.556Z"
   },
   {
    "duration": 165,
    "start_time": "2022-11-14T15:04:01.617Z"
   },
   {
    "duration": 65,
    "start_time": "2022-11-14T15:04:01.784Z"
   },
   {
    "duration": 38,
    "start_time": "2022-11-14T15:04:01.850Z"
   },
   {
    "duration": 66,
    "start_time": "2022-11-14T15:04:01.890Z"
   },
   {
    "duration": 54,
    "start_time": "2022-11-14T15:04:01.958Z"
   },
   {
    "duration": 33,
    "start_time": "2022-11-14T15:04:02.014Z"
   },
   {
    "duration": 70,
    "start_time": "2022-11-14T15:04:02.049Z"
   },
   {
    "duration": 8,
    "start_time": "2022-11-14T15:04:02.120Z"
   },
   {
    "duration": 197,
    "start_time": "2022-11-14T15:04:02.131Z"
   },
   {
    "duration": 42,
    "start_time": "2022-11-14T15:04:02.329Z"
   },
   {
    "duration": 26,
    "start_time": "2022-11-14T15:04:02.373Z"
   },
   {
    "duration": 38,
    "start_time": "2022-11-14T15:04:02.401Z"
   },
   {
    "duration": 42,
    "start_time": "2022-11-14T15:04:02.440Z"
   },
   {
    "duration": 81,
    "start_time": "2022-11-14T15:04:02.485Z"
   },
   {
    "duration": 75,
    "start_time": "2022-11-14T15:04:02.568Z"
   },
   {
    "duration": 8,
    "start_time": "2022-11-14T15:04:02.645Z"
   },
   {
    "duration": 36,
    "start_time": "2022-11-14T15:04:02.654Z"
   },
   {
    "duration": 25,
    "start_time": "2022-11-14T15:04:02.692Z"
   },
   {
    "duration": 19,
    "start_time": "2022-11-14T15:04:02.719Z"
   },
   {
    "duration": 219,
    "start_time": "2022-11-14T15:04:02.740Z"
   },
   {
    "duration": 283,
    "start_time": "2022-11-14T15:04:02.960Z"
   },
   {
    "duration": 275,
    "start_time": "2022-11-14T15:04:03.245Z"
   },
   {
    "duration": 234,
    "start_time": "2022-11-14T15:04:13.457Z"
   },
   {
    "duration": 103,
    "start_time": "2022-11-14T15:06:29.107Z"
   },
   {
    "duration": 4,
    "start_time": "2022-11-14T15:06:40.160Z"
   },
   {
    "duration": 83,
    "start_time": "2022-11-14T15:06:40.166Z"
   },
   {
    "duration": 4,
    "start_time": "2022-11-14T15:06:40.250Z"
   },
   {
    "duration": 27,
    "start_time": "2022-11-14T15:06:40.255Z"
   },
   {
    "duration": 22,
    "start_time": "2022-11-14T15:06:40.284Z"
   },
   {
    "duration": 4,
    "start_time": "2022-11-14T15:06:40.308Z"
   },
   {
    "duration": 18,
    "start_time": "2022-11-14T15:06:40.314Z"
   },
   {
    "duration": 11,
    "start_time": "2022-11-14T15:06:40.333Z"
   },
   {
    "duration": 97,
    "start_time": "2022-11-14T15:06:40.345Z"
   },
   {
    "duration": 8,
    "start_time": "2022-11-14T15:06:40.443Z"
   },
   {
    "duration": 3,
    "start_time": "2022-11-14T15:06:40.453Z"
   },
   {
    "duration": 42,
    "start_time": "2022-11-14T15:06:40.458Z"
   },
   {
    "duration": 28,
    "start_time": "2022-11-14T15:06:40.502Z"
   },
   {
    "duration": 8,
    "start_time": "2022-11-14T15:06:40.532Z"
   },
   {
    "duration": 10,
    "start_time": "2022-11-14T15:06:40.542Z"
   },
   {
    "duration": 9,
    "start_time": "2022-11-14T15:06:40.554Z"
   },
   {
    "duration": 6,
    "start_time": "2022-11-14T15:06:40.564Z"
   },
   {
    "duration": 20,
    "start_time": "2022-11-14T15:06:40.571Z"
   },
   {
    "duration": 67,
    "start_time": "2022-11-14T15:06:40.592Z"
   },
   {
    "duration": 75,
    "start_time": "2022-11-14T15:06:40.661Z"
   },
   {
    "duration": 7,
    "start_time": "2022-11-14T15:06:40.738Z"
   },
   {
    "duration": 11,
    "start_time": "2022-11-14T15:06:40.747Z"
   },
   {
    "duration": 17,
    "start_time": "2022-11-14T15:06:40.759Z"
   },
   {
    "duration": 6,
    "start_time": "2022-11-14T15:06:40.778Z"
   },
   {
    "duration": 177,
    "start_time": "2022-11-14T15:06:40.785Z"
   },
   {
    "duration": 245,
    "start_time": "2022-11-14T15:06:40.964Z"
   },
   {
    "duration": 237,
    "start_time": "2022-11-14T15:06:41.211Z"
   },
   {
    "duration": 14,
    "start_time": "2022-11-14T15:06:43.180Z"
   },
   {
    "duration": 17,
    "start_time": "2022-11-14T15:06:50.606Z"
   },
   {
    "duration": 16,
    "start_time": "2022-11-14T15:07:35.442Z"
   },
   {
    "duration": 118,
    "start_time": "2022-11-14T15:07:41.058Z"
   },
   {
    "duration": 5,
    "start_time": "2022-11-14T15:08:18.577Z"
   },
   {
    "duration": 111,
    "start_time": "2022-11-14T15:08:19.273Z"
   },
   {
    "duration": 7,
    "start_time": "2022-11-14T15:08:49.483Z"
   },
   {
    "duration": 25,
    "start_time": "2022-11-14T15:08:53.878Z"
   },
   {
    "duration": 11,
    "start_time": "2022-11-14T15:09:55.723Z"
   },
   {
    "duration": 6,
    "start_time": "2022-11-14T15:10:00.373Z"
   },
   {
    "duration": 15,
    "start_time": "2022-11-14T15:10:21.671Z"
   },
   {
    "duration": 183,
    "start_time": "2022-11-14T15:10:31.786Z"
   },
   {
    "duration": 290,
    "start_time": "2022-11-14T15:10:35.918Z"
   },
   {
    "duration": 182,
    "start_time": "2022-11-14T15:11:03.443Z"
   },
   {
    "duration": 51,
    "start_time": "2022-11-15T05:58:37.280Z"
   },
   {
    "duration": 1375,
    "start_time": "2022-11-15T05:58:42.575Z"
   },
   {
    "duration": 229,
    "start_time": "2022-11-15T05:58:43.952Z"
   },
   {
    "duration": 3,
    "start_time": "2022-11-15T05:58:44.182Z"
   },
   {
    "duration": 21,
    "start_time": "2022-11-15T05:58:44.187Z"
   },
   {
    "duration": 15,
    "start_time": "2022-11-15T05:58:44.210Z"
   },
   {
    "duration": 9,
    "start_time": "2022-11-15T05:58:44.227Z"
   },
   {
    "duration": 8,
    "start_time": "2022-11-15T05:58:44.237Z"
   },
   {
    "duration": 9,
    "start_time": "2022-11-15T05:58:44.276Z"
   },
   {
    "duration": 13,
    "start_time": "2022-11-15T05:58:44.287Z"
   },
   {
    "duration": 7,
    "start_time": "2022-11-15T05:58:44.302Z"
   },
   {
    "duration": 3,
    "start_time": "2022-11-15T05:58:44.311Z"
   },
   {
    "duration": 71,
    "start_time": "2022-11-15T05:58:44.316Z"
   },
   {
    "duration": 8,
    "start_time": "2022-11-15T05:58:44.389Z"
   },
   {
    "duration": 5,
    "start_time": "2022-11-15T05:58:45.375Z"
   },
   {
    "duration": 3,
    "start_time": "2022-11-15T05:59:18.388Z"
   },
   {
    "duration": 5,
    "start_time": "2022-11-15T06:04:54.443Z"
   },
   {
    "duration": 15,
    "start_time": "2022-11-15T06:05:19.572Z"
   },
   {
    "duration": 18,
    "start_time": "2022-11-15T06:05:40.687Z"
   },
   {
    "duration": 64,
    "start_time": "2022-11-15T06:18:10.265Z"
   },
   {
    "duration": 3,
    "start_time": "2022-11-15T06:18:15.314Z"
   },
   {
    "duration": 107,
    "start_time": "2022-11-15T06:18:15.319Z"
   },
   {
    "duration": 4,
    "start_time": "2022-11-15T06:18:15.431Z"
   },
   {
    "duration": 45,
    "start_time": "2022-11-15T06:18:15.437Z"
   },
   {
    "duration": 38,
    "start_time": "2022-11-15T06:18:15.484Z"
   },
   {
    "duration": 5,
    "start_time": "2022-11-15T06:18:15.525Z"
   },
   {
    "duration": 35,
    "start_time": "2022-11-15T06:18:15.532Z"
   },
   {
    "duration": 22,
    "start_time": "2022-11-15T06:18:15.568Z"
   },
   {
    "duration": 26,
    "start_time": "2022-11-15T06:18:15.592Z"
   },
   {
    "duration": 31,
    "start_time": "2022-11-15T06:18:15.619Z"
   },
   {
    "duration": 12,
    "start_time": "2022-11-15T06:18:15.652Z"
   },
   {
    "duration": 52,
    "start_time": "2022-11-15T06:18:15.666Z"
   },
   {
    "duration": 22,
    "start_time": "2022-11-15T06:18:15.720Z"
   },
   {
    "duration": 24,
    "start_time": "2022-11-15T06:18:15.745Z"
   },
   {
    "duration": 43,
    "start_time": "2022-11-15T06:18:15.770Z"
   },
   {
    "duration": 20,
    "start_time": "2022-11-15T06:18:15.816Z"
   },
   {
    "duration": 14,
    "start_time": "2022-11-15T06:18:15.837Z"
   },
   {
    "duration": 20,
    "start_time": "2022-11-15T06:18:15.853Z"
   },
   {
    "duration": 36,
    "start_time": "2022-11-15T06:18:15.874Z"
   },
   {
    "duration": 54,
    "start_time": "2022-11-15T06:18:15.911Z"
   },
   {
    "duration": 72,
    "start_time": "2022-11-15T06:18:15.966Z"
   },
   {
    "duration": 7,
    "start_time": "2022-11-15T06:18:16.039Z"
   },
   {
    "duration": 21,
    "start_time": "2022-11-15T06:18:16.048Z"
   },
   {
    "duration": 68,
    "start_time": "2022-11-15T06:18:16.071Z"
   },
   {
    "duration": 20,
    "start_time": "2022-11-15T06:18:16.140Z"
   },
   {
    "duration": 191,
    "start_time": "2022-11-15T06:18:16.161Z"
   },
   {
    "duration": 247,
    "start_time": "2022-11-15T06:18:16.355Z"
   },
   {
    "duration": 246,
    "start_time": "2022-11-15T06:18:16.603Z"
   },
   {
    "duration": 11,
    "start_time": "2022-11-15T06:18:16.851Z"
   },
   {
    "duration": 4,
    "start_time": "2022-11-15T06:18:16.876Z"
   },
   {
    "duration": 71,
    "start_time": "2022-11-15T06:18:18.587Z"
   },
   {
    "duration": 128,
    "start_time": "2022-11-15T06:18:28.677Z"
   },
   {
    "duration": 22,
    "start_time": "2022-11-15T06:19:52.977Z"
   },
   {
    "duration": 9,
    "start_time": "2022-11-15T06:20:34.037Z"
   },
   {
    "duration": 17,
    "start_time": "2022-11-15T06:24:26.041Z"
   },
   {
    "duration": 9,
    "start_time": "2022-11-15T06:54:10.985Z"
   },
   {
    "duration": 11,
    "start_time": "2022-11-15T06:57:15.447Z"
   },
   {
    "duration": 11,
    "start_time": "2022-11-15T06:57:36.729Z"
   },
   {
    "duration": 10,
    "start_time": "2022-11-15T06:58:08.784Z"
   },
   {
    "duration": 11,
    "start_time": "2022-11-15T06:58:18.195Z"
   },
   {
    "duration": 258,
    "start_time": "2022-11-15T07:00:37.173Z"
   },
   {
    "duration": 303,
    "start_time": "2022-11-15T07:00:44.701Z"
   },
   {
    "duration": 258,
    "start_time": "2022-11-15T07:01:52.454Z"
   },
   {
    "duration": 222,
    "start_time": "2022-11-15T07:01:56.446Z"
   },
   {
    "duration": 11,
    "start_time": "2022-11-15T07:07:34.312Z"
   },
   {
    "duration": 12,
    "start_time": "2022-11-15T07:07:47.391Z"
   },
   {
    "duration": 10,
    "start_time": "2022-11-15T07:07:52.455Z"
   },
   {
    "duration": 12,
    "start_time": "2022-11-15T07:08:06.508Z"
   },
   {
    "duration": 9,
    "start_time": "2022-11-15T07:08:51.484Z"
   },
   {
    "duration": 10,
    "start_time": "2022-11-15T07:08:57.556Z"
   },
   {
    "duration": 18,
    "start_time": "2022-11-15T07:10:24.881Z"
   },
   {
    "duration": 17,
    "start_time": "2022-11-15T07:10:47.304Z"
   },
   {
    "duration": 16,
    "start_time": "2022-11-15T07:12:54.022Z"
   },
   {
    "duration": 4,
    "start_time": "2022-11-15T09:29:59.889Z"
   },
   {
    "duration": 82,
    "start_time": "2022-11-15T09:29:59.895Z"
   },
   {
    "duration": 4,
    "start_time": "2022-11-15T09:29:59.979Z"
   },
   {
    "duration": 19,
    "start_time": "2022-11-15T09:29:59.985Z"
   },
   {
    "duration": 33,
    "start_time": "2022-11-15T09:30:00.006Z"
   },
   {
    "duration": 6,
    "start_time": "2022-11-15T09:30:00.041Z"
   },
   {
    "duration": 23,
    "start_time": "2022-11-15T09:30:00.048Z"
   },
   {
    "duration": 22,
    "start_time": "2022-11-15T09:30:00.072Z"
   },
   {
    "duration": 31,
    "start_time": "2022-11-15T09:30:00.096Z"
   },
   {
    "duration": 29,
    "start_time": "2022-11-15T09:30:00.129Z"
   },
   {
    "duration": 40,
    "start_time": "2022-11-15T09:30:00.160Z"
   },
   {
    "duration": 58,
    "start_time": "2022-11-15T09:30:00.201Z"
   },
   {
    "duration": 9,
    "start_time": "2022-11-15T09:30:00.261Z"
   },
   {
    "duration": 53,
    "start_time": "2022-11-15T09:30:00.273Z"
   },
   {
    "duration": 37,
    "start_time": "2022-11-15T09:30:00.328Z"
   },
   {
    "duration": 44,
    "start_time": "2022-11-15T09:30:00.367Z"
   },
   {
    "duration": 54,
    "start_time": "2022-11-15T09:30:00.413Z"
   },
   {
    "duration": 93,
    "start_time": "2022-11-15T09:30:00.468Z"
   },
   {
    "duration": 85,
    "start_time": "2022-11-15T09:30:00.562Z"
   },
   {
    "duration": 101,
    "start_time": "2022-11-15T09:30:00.649Z"
   },
   {
    "duration": 151,
    "start_time": "2022-11-15T09:30:00.752Z"
   },
   {
    "duration": 8,
    "start_time": "2022-11-15T09:30:00.905Z"
   },
   {
    "duration": 54,
    "start_time": "2022-11-15T09:30:00.915Z"
   },
   {
    "duration": 52,
    "start_time": "2022-11-15T09:30:00.971Z"
   },
   {
    "duration": 41,
    "start_time": "2022-11-15T09:30:01.025Z"
   },
   {
    "duration": 216,
    "start_time": "2022-11-15T09:30:01.068Z"
   },
   {
    "duration": 255,
    "start_time": "2022-11-15T09:30:01.286Z"
   },
   {
    "duration": 250,
    "start_time": "2022-11-15T09:30:01.542Z"
   },
   {
    "duration": 14,
    "start_time": "2022-11-15T09:30:01.794Z"
   },
   {
    "duration": 33,
    "start_time": "2022-11-15T09:30:01.809Z"
   },
   {
    "duration": 72,
    "start_time": "2022-11-15T09:30:01.843Z"
   },
   {
    "duration": 58,
    "start_time": "2022-11-15T09:30:04.124Z"
   },
   {
    "duration": 50,
    "start_time": "2022-11-15T09:31:12.223Z"
   },
   {
    "duration": 41,
    "start_time": "2022-11-15T09:34:41.820Z"
   },
   {
    "duration": 43,
    "start_time": "2022-11-15T09:34:55.380Z"
   },
   {
    "duration": 3,
    "start_time": "2022-11-15T09:35:19.655Z"
   },
   {
    "duration": 85,
    "start_time": "2022-11-15T09:35:19.660Z"
   },
   {
    "duration": 4,
    "start_time": "2022-11-15T09:35:19.746Z"
   },
   {
    "duration": 29,
    "start_time": "2022-11-15T09:35:19.751Z"
   },
   {
    "duration": 47,
    "start_time": "2022-11-15T09:35:19.782Z"
   },
   {
    "duration": 21,
    "start_time": "2022-11-15T09:35:19.831Z"
   },
   {
    "duration": 28,
    "start_time": "2022-11-15T09:35:19.854Z"
   },
   {
    "duration": 31,
    "start_time": "2022-11-15T09:35:19.884Z"
   },
   {
    "duration": 29,
    "start_time": "2022-11-15T09:35:19.917Z"
   },
   {
    "duration": 18,
    "start_time": "2022-11-15T09:35:19.948Z"
   },
   {
    "duration": 9,
    "start_time": "2022-11-15T09:35:19.968Z"
   },
   {
    "duration": 56,
    "start_time": "2022-11-15T09:35:19.978Z"
   },
   {
    "duration": 34,
    "start_time": "2022-11-15T09:35:20.035Z"
   },
   {
    "duration": 31,
    "start_time": "2022-11-15T09:35:20.071Z"
   },
   {
    "duration": 43,
    "start_time": "2022-11-15T09:35:20.105Z"
   },
   {
    "duration": 22,
    "start_time": "2022-11-15T09:35:20.150Z"
   },
   {
    "duration": 30,
    "start_time": "2022-11-15T09:35:20.174Z"
   },
   {
    "duration": 27,
    "start_time": "2022-11-15T09:35:20.206Z"
   },
   {
    "duration": 54,
    "start_time": "2022-11-15T09:35:20.235Z"
   },
   {
    "duration": 59,
    "start_time": "2022-11-15T09:35:20.291Z"
   },
   {
    "duration": 64,
    "start_time": "2022-11-15T09:35:20.351Z"
   },
   {
    "duration": 7,
    "start_time": "2022-11-15T09:35:20.416Z"
   },
   {
    "duration": 13,
    "start_time": "2022-11-15T09:35:20.424Z"
   },
   {
    "duration": 59,
    "start_time": "2022-11-15T09:35:20.438Z"
   },
   {
    "duration": 28,
    "start_time": "2022-11-15T09:35:20.498Z"
   },
   {
    "duration": 180,
    "start_time": "2022-11-15T09:35:20.528Z"
   },
   {
    "duration": 249,
    "start_time": "2022-11-15T09:35:20.709Z"
   },
   {
    "duration": 254,
    "start_time": "2022-11-15T09:35:20.960Z"
   },
   {
    "duration": 20,
    "start_time": "2022-11-15T09:35:21.216Z"
   },
   {
    "duration": 14,
    "start_time": "2022-11-15T09:35:21.238Z"
   },
   {
    "duration": 29,
    "start_time": "2022-11-15T09:35:21.254Z"
   },
   {
    "duration": 49,
    "start_time": "2022-11-15T09:35:22.857Z"
   },
   {
    "duration": 51,
    "start_time": "2022-11-15T09:35:42.346Z"
   },
   {
    "duration": 51,
    "start_time": "2022-11-15T09:36:41.073Z"
   },
   {
    "duration": 45,
    "start_time": "2022-11-15T09:36:46.172Z"
   },
   {
    "duration": 49,
    "start_time": "2022-11-15T09:36:51.074Z"
   },
   {
    "duration": 46,
    "start_time": "2022-11-15T09:37:24.528Z"
   },
   {
    "duration": 95,
    "start_time": "2022-11-15T09:37:44.570Z"
   },
   {
    "duration": 11,
    "start_time": "2022-11-15T09:38:07.790Z"
   },
   {
    "duration": 11,
    "start_time": "2022-11-15T09:38:27.318Z"
   },
   {
    "duration": 11,
    "start_time": "2022-11-15T09:38:35.420Z"
   },
   {
    "duration": 12,
    "start_time": "2022-11-15T09:38:43.651Z"
   },
   {
    "duration": 221,
    "start_time": "2022-11-15T09:40:33.721Z"
   },
   {
    "duration": 66,
    "start_time": "2022-11-15T09:52:13.929Z"
   },
   {
    "duration": 20,
    "start_time": "2022-11-15T09:52:29.578Z"
   },
   {
    "duration": 15,
    "start_time": "2022-11-15T09:53:23.506Z"
   },
   {
    "duration": 11,
    "start_time": "2022-11-15T09:53:53.440Z"
   },
   {
    "duration": 17,
    "start_time": "2022-11-15T09:54:18.263Z"
   },
   {
    "duration": 15,
    "start_time": "2022-11-15T09:54:28.779Z"
   },
   {
    "duration": 11,
    "start_time": "2022-11-15T09:54:37.012Z"
   },
   {
    "duration": 12,
    "start_time": "2022-11-15T09:55:18.969Z"
   },
   {
    "duration": 7,
    "start_time": "2022-11-15T09:55:30.176Z"
   },
   {
    "duration": 15,
    "start_time": "2022-11-15T09:55:35.034Z"
   },
   {
    "duration": 13,
    "start_time": "2022-11-15T09:55:59.827Z"
   },
   {
    "duration": 12,
    "start_time": "2022-11-15T09:57:14.236Z"
   },
   {
    "duration": 12,
    "start_time": "2022-11-15T09:57:46.859Z"
   },
   {
    "duration": 63,
    "start_time": "2022-11-15T10:00:54.912Z"
   },
   {
    "duration": 49,
    "start_time": "2022-11-15T10:01:43.113Z"
   },
   {
    "duration": 52,
    "start_time": "2022-11-15T10:03:57.639Z"
   },
   {
    "duration": 20,
    "start_time": "2022-11-15T10:05:10.073Z"
   },
   {
    "duration": 18,
    "start_time": "2022-11-15T10:05:41.942Z"
   },
   {
    "duration": 54,
    "start_time": "2022-11-15T10:06:45.689Z"
   },
   {
    "duration": 5,
    "start_time": "2022-11-15T10:35:57.183Z"
   },
   {
    "duration": 3,
    "start_time": "2022-11-15T10:36:11.640Z"
   },
   {
    "duration": 1257,
    "start_time": "2022-11-15T10:36:20.286Z"
   },
   {
    "duration": 63,
    "start_time": "2022-11-15T10:36:21.545Z"
   },
   {
    "duration": 3,
    "start_time": "2022-11-15T10:36:21.610Z"
   },
   {
    "duration": 31,
    "start_time": "2022-11-15T10:36:21.615Z"
   },
   {
    "duration": 15,
    "start_time": "2022-11-15T10:36:21.648Z"
   },
   {
    "duration": 19,
    "start_time": "2022-11-15T10:36:21.665Z"
   },
   {
    "duration": 17,
    "start_time": "2022-11-15T10:36:21.685Z"
   },
   {
    "duration": 14,
    "start_time": "2022-11-15T10:36:21.704Z"
   },
   {
    "duration": 23,
    "start_time": "2022-11-15T10:36:21.720Z"
   },
   {
    "duration": 30,
    "start_time": "2022-11-15T10:36:21.747Z"
   },
   {
    "duration": 3,
    "start_time": "2022-11-15T10:36:21.780Z"
   },
   {
    "duration": 42,
    "start_time": "2022-11-15T10:36:21.785Z"
   },
   {
    "duration": 11,
    "start_time": "2022-11-15T10:36:21.829Z"
   },
   {
    "duration": 42,
    "start_time": "2022-11-15T10:36:21.842Z"
   },
   {
    "duration": 8,
    "start_time": "2022-11-15T10:36:21.886Z"
   },
   {
    "duration": 24,
    "start_time": "2022-11-15T10:36:21.895Z"
   },
   {
    "duration": 8,
    "start_time": "2022-11-15T10:36:21.921Z"
   },
   {
    "duration": 8,
    "start_time": "2022-11-15T10:36:21.931Z"
   },
   {
    "duration": 32,
    "start_time": "2022-11-15T10:36:21.940Z"
   },
   {
    "duration": 52,
    "start_time": "2022-11-15T10:36:21.974Z"
   },
   {
    "duration": 84,
    "start_time": "2022-11-15T10:36:22.028Z"
   },
   {
    "duration": 9,
    "start_time": "2022-11-15T10:36:22.113Z"
   },
   {
    "duration": 8,
    "start_time": "2022-11-15T10:36:22.124Z"
   },
   {
    "duration": 15,
    "start_time": "2022-11-15T10:36:22.134Z"
   },
   {
    "duration": 30,
    "start_time": "2022-11-15T10:36:22.151Z"
   },
   {
    "duration": 12,
    "start_time": "2022-11-15T10:36:22.183Z"
   },
   {
    "duration": 201,
    "start_time": "2022-11-15T10:36:22.196Z"
   },
   {
    "duration": 113,
    "start_time": "2022-11-15T10:36:22.400Z"
   },
   {
    "duration": 0,
    "start_time": "2022-11-15T10:36:22.514Z"
   },
   {
    "duration": 0,
    "start_time": "2022-11-15T10:36:22.516Z"
   },
   {
    "duration": 0,
    "start_time": "2022-11-15T10:36:22.517Z"
   },
   {
    "duration": 0,
    "start_time": "2022-11-15T10:36:22.518Z"
   },
   {
    "duration": 0,
    "start_time": "2022-11-15T10:36:22.520Z"
   },
   {
    "duration": 0,
    "start_time": "2022-11-15T10:36:22.521Z"
   },
   {
    "duration": 0,
    "start_time": "2022-11-15T10:36:22.522Z"
   },
   {
    "duration": 0,
    "start_time": "2022-11-15T10:36:22.523Z"
   },
   {
    "duration": 0,
    "start_time": "2022-11-15T10:36:22.524Z"
   },
   {
    "duration": 0,
    "start_time": "2022-11-15T10:36:22.526Z"
   },
   {
    "duration": 0,
    "start_time": "2022-11-15T10:36:22.527Z"
   },
   {
    "duration": 0,
    "start_time": "2022-11-15T10:36:22.528Z"
   },
   {
    "duration": 1223,
    "start_time": "2022-11-15T10:36:46.243Z"
   },
   {
    "duration": 74,
    "start_time": "2022-11-15T10:36:47.468Z"
   },
   {
    "duration": 4,
    "start_time": "2022-11-15T10:36:47.544Z"
   },
   {
    "duration": 32,
    "start_time": "2022-11-15T10:36:47.549Z"
   },
   {
    "duration": 20,
    "start_time": "2022-11-15T10:36:47.584Z"
   },
   {
    "duration": 7,
    "start_time": "2022-11-15T10:36:47.607Z"
   },
   {
    "duration": 11,
    "start_time": "2022-11-15T10:36:47.616Z"
   },
   {
    "duration": 11,
    "start_time": "2022-11-15T10:36:47.629Z"
   },
   {
    "duration": 14,
    "start_time": "2022-11-15T10:36:47.677Z"
   },
   {
    "duration": 12,
    "start_time": "2022-11-15T10:36:47.692Z"
   },
   {
    "duration": 4,
    "start_time": "2022-11-15T10:36:47.705Z"
   },
   {
    "duration": 37,
    "start_time": "2022-11-15T10:36:47.710Z"
   },
   {
    "duration": 10,
    "start_time": "2022-11-15T10:36:47.775Z"
   },
   {
    "duration": 30,
    "start_time": "2022-11-15T10:36:47.789Z"
   },
   {
    "duration": 49,
    "start_time": "2022-11-15T10:36:47.821Z"
   },
   {
    "duration": 25,
    "start_time": "2022-11-15T10:36:47.871Z"
   },
   {
    "duration": 35,
    "start_time": "2022-11-15T10:36:47.897Z"
   },
   {
    "duration": 37,
    "start_time": "2022-11-15T10:36:47.933Z"
   },
   {
    "duration": 43,
    "start_time": "2022-11-15T10:36:47.972Z"
   },
   {
    "duration": 70,
    "start_time": "2022-11-15T10:36:48.017Z"
   },
   {
    "duration": 89,
    "start_time": "2022-11-15T10:36:48.089Z"
   },
   {
    "duration": 9,
    "start_time": "2022-11-15T10:36:48.180Z"
   },
   {
    "duration": 30,
    "start_time": "2022-11-15T10:36:48.191Z"
   },
   {
    "duration": 18,
    "start_time": "2022-11-15T10:36:48.223Z"
   },
   {
    "duration": 22,
    "start_time": "2022-11-15T10:36:48.243Z"
   },
   {
    "duration": 14,
    "start_time": "2022-11-15T10:36:48.267Z"
   },
   {
    "duration": 211,
    "start_time": "2022-11-15T10:36:48.283Z"
   },
   {
    "duration": 265,
    "start_time": "2022-11-15T10:36:48.496Z"
   },
   {
    "duration": 275,
    "start_time": "2022-11-15T10:36:48.763Z"
   },
   {
    "duration": 22,
    "start_time": "2022-11-15T10:36:49.041Z"
   },
   {
    "duration": 21,
    "start_time": "2022-11-15T10:36:49.065Z"
   },
   {
    "duration": 34,
    "start_time": "2022-11-15T10:36:49.088Z"
   },
   {
    "duration": 229,
    "start_time": "2022-11-15T10:36:49.124Z"
   },
   {
    "duration": 28,
    "start_time": "2022-11-15T10:36:49.355Z"
   },
   {
    "duration": 322,
    "start_time": "2022-11-15T10:36:49.384Z"
   },
   {
    "duration": 127,
    "start_time": "2022-11-15T10:36:49.707Z"
   },
   {
    "duration": 1,
    "start_time": "2022-11-15T10:36:49.835Z"
   },
   {
    "duration": 0,
    "start_time": "2022-11-15T10:36:49.836Z"
   },
   {
    "duration": 0,
    "start_time": "2022-11-15T10:36:49.838Z"
   },
   {
    "duration": 23,
    "start_time": "2022-11-15T10:36:59.392Z"
   },
   {
    "duration": 13,
    "start_time": "2022-11-15T10:37:00.130Z"
   },
   {
    "duration": 229,
    "start_time": "2022-11-15T10:37:00.808Z"
   },
   {
    "duration": 1213,
    "start_time": "2022-11-15T10:37:24.305Z"
   },
   {
    "duration": 59,
    "start_time": "2022-11-15T10:37:25.520Z"
   },
   {
    "duration": 3,
    "start_time": "2022-11-15T10:37:25.580Z"
   },
   {
    "duration": 20,
    "start_time": "2022-11-15T10:37:25.585Z"
   },
   {
    "duration": 12,
    "start_time": "2022-11-15T10:37:25.606Z"
   },
   {
    "duration": 9,
    "start_time": "2022-11-15T10:37:25.620Z"
   },
   {
    "duration": 28,
    "start_time": "2022-11-15T10:37:25.631Z"
   },
   {
    "duration": 22,
    "start_time": "2022-11-15T10:37:25.660Z"
   },
   {
    "duration": 13,
    "start_time": "2022-11-15T10:37:25.683Z"
   },
   {
    "duration": 8,
    "start_time": "2022-11-15T10:37:25.698Z"
   },
   {
    "duration": 7,
    "start_time": "2022-11-15T10:37:25.708Z"
   },
   {
    "duration": 49,
    "start_time": "2022-11-15T10:37:25.717Z"
   },
   {
    "duration": 14,
    "start_time": "2022-11-15T10:37:25.767Z"
   },
   {
    "duration": 22,
    "start_time": "2022-11-15T10:37:25.782Z"
   },
   {
    "duration": 30,
    "start_time": "2022-11-15T10:37:25.806Z"
   },
   {
    "duration": 18,
    "start_time": "2022-11-15T10:37:25.838Z"
   },
   {
    "duration": 20,
    "start_time": "2022-11-15T10:37:25.857Z"
   },
   {
    "duration": 25,
    "start_time": "2022-11-15T10:37:25.879Z"
   },
   {
    "duration": 33,
    "start_time": "2022-11-15T10:37:25.905Z"
   },
   {
    "duration": 49,
    "start_time": "2022-11-15T10:37:25.939Z"
   },
   {
    "duration": 68,
    "start_time": "2022-11-15T10:37:25.989Z"
   },
   {
    "duration": 17,
    "start_time": "2022-11-15T10:37:26.059Z"
   },
   {
    "duration": 20,
    "start_time": "2022-11-15T10:37:26.078Z"
   },
   {
    "duration": 20,
    "start_time": "2022-11-15T10:37:26.100Z"
   },
   {
    "duration": 11,
    "start_time": "2022-11-15T10:37:26.121Z"
   },
   {
    "duration": 6,
    "start_time": "2022-11-15T10:37:26.134Z"
   },
   {
    "duration": 174,
    "start_time": "2022-11-15T10:37:26.142Z"
   },
   {
    "duration": 251,
    "start_time": "2022-11-15T10:37:26.320Z"
   },
   {
    "duration": 240,
    "start_time": "2022-11-15T10:37:26.576Z"
   },
   {
    "duration": 14,
    "start_time": "2022-11-15T10:37:26.818Z"
   },
   {
    "duration": 55,
    "start_time": "2022-11-15T10:37:26.833Z"
   },
   {
    "duration": 4,
    "start_time": "2022-11-15T10:37:26.889Z"
   },
   {
    "duration": 203,
    "start_time": "2022-11-15T10:37:26.895Z"
   },
   {
    "duration": 15,
    "start_time": "2022-11-15T10:37:27.100Z"
   },
   {
    "duration": 317,
    "start_time": "2022-11-15T10:37:27.116Z"
   },
   {
    "duration": 22,
    "start_time": "2022-11-15T10:37:27.436Z"
   },
   {
    "duration": 32,
    "start_time": "2022-11-15T10:37:27.459Z"
   },
   {
    "duration": 223,
    "start_time": "2022-11-15T10:37:27.492Z"
   },
   {
    "duration": 1219,
    "start_time": "2022-11-15T10:37:58.654Z"
   },
   {
    "duration": 58,
    "start_time": "2022-11-15T10:37:59.877Z"
   },
   {
    "duration": 3,
    "start_time": "2022-11-15T10:37:59.936Z"
   },
   {
    "duration": 18,
    "start_time": "2022-11-15T10:37:59.941Z"
   },
   {
    "duration": 13,
    "start_time": "2022-11-15T10:37:59.960Z"
   },
   {
    "duration": 5,
    "start_time": "2022-11-15T10:37:59.974Z"
   },
   {
    "duration": 9,
    "start_time": "2022-11-15T10:37:59.980Z"
   },
   {
    "duration": 21,
    "start_time": "2022-11-15T10:37:59.991Z"
   },
   {
    "duration": 19,
    "start_time": "2022-11-15T10:38:00.014Z"
   },
   {
    "duration": 7,
    "start_time": "2022-11-15T10:38:00.036Z"
   },
   {
    "duration": 8,
    "start_time": "2022-11-15T10:38:00.045Z"
   },
   {
    "duration": 50,
    "start_time": "2022-11-15T10:38:00.054Z"
   },
   {
    "duration": 14,
    "start_time": "2022-11-15T10:38:00.105Z"
   },
   {
    "duration": 42,
    "start_time": "2022-11-15T10:38:00.120Z"
   },
   {
    "duration": 55,
    "start_time": "2022-11-15T10:38:00.163Z"
   },
   {
    "duration": 25,
    "start_time": "2022-11-15T10:38:00.220Z"
   },
   {
    "duration": 28,
    "start_time": "2022-11-15T10:38:00.247Z"
   },
   {
    "duration": 41,
    "start_time": "2022-11-15T10:38:00.276Z"
   },
   {
    "duration": 60,
    "start_time": "2022-11-15T10:38:00.319Z"
   },
   {
    "duration": 71,
    "start_time": "2022-11-15T10:38:00.381Z"
   },
   {
    "duration": 67,
    "start_time": "2022-11-15T10:38:00.454Z"
   },
   {
    "duration": 7,
    "start_time": "2022-11-15T10:38:00.522Z"
   },
   {
    "duration": 36,
    "start_time": "2022-11-15T10:38:00.530Z"
   },
   {
    "duration": 33,
    "start_time": "2022-11-15T10:38:00.568Z"
   },
   {
    "duration": 14,
    "start_time": "2022-11-15T10:38:00.602Z"
   },
   {
    "duration": 23,
    "start_time": "2022-11-15T10:38:00.617Z"
   },
   {
    "duration": 224,
    "start_time": "2022-11-15T10:38:00.642Z"
   },
   {
    "duration": 255,
    "start_time": "2022-11-15T10:38:00.869Z"
   },
   {
    "duration": 256,
    "start_time": "2022-11-15T10:38:01.126Z"
   },
   {
    "duration": 14,
    "start_time": "2022-11-15T10:38:01.384Z"
   },
   {
    "duration": 35,
    "start_time": "2022-11-15T10:38:01.400Z"
   },
   {
    "duration": 49,
    "start_time": "2022-11-15T10:38:01.436Z"
   },
   {
    "duration": 222,
    "start_time": "2022-11-15T10:38:01.487Z"
   },
   {
    "duration": 15,
    "start_time": "2022-11-15T10:38:01.711Z"
   },
   {
    "duration": 315,
    "start_time": "2022-11-15T10:38:01.727Z"
   },
   {
    "duration": 38,
    "start_time": "2022-11-15T10:38:02.044Z"
   },
   {
    "duration": 35,
    "start_time": "2022-11-15T10:38:02.084Z"
   },
   {
    "duration": 236,
    "start_time": "2022-11-15T10:38:02.121Z"
   },
   {
    "duration": 1136,
    "start_time": "2022-11-15T10:38:26.508Z"
   },
   {
    "duration": 59,
    "start_time": "2022-11-15T10:38:27.646Z"
   },
   {
    "duration": 3,
    "start_time": "2022-11-15T10:38:27.706Z"
   },
   {
    "duration": 21,
    "start_time": "2022-11-15T10:38:27.711Z"
   },
   {
    "duration": 12,
    "start_time": "2022-11-15T10:38:27.734Z"
   },
   {
    "duration": 4,
    "start_time": "2022-11-15T10:38:27.748Z"
   },
   {
    "duration": 29,
    "start_time": "2022-11-15T10:38:27.754Z"
   },
   {
    "duration": 8,
    "start_time": "2022-11-15T10:38:27.785Z"
   },
   {
    "duration": 14,
    "start_time": "2022-11-15T10:38:27.795Z"
   },
   {
    "duration": 56,
    "start_time": "2022-11-15T10:38:27.811Z"
   },
   {
    "duration": 7,
    "start_time": "2022-11-15T10:38:27.869Z"
   },
   {
    "duration": 34,
    "start_time": "2022-11-15T10:38:27.877Z"
   },
   {
    "duration": 8,
    "start_time": "2022-11-15T10:38:27.912Z"
   },
   {
    "duration": 38,
    "start_time": "2022-11-15T10:38:27.921Z"
   },
   {
    "duration": 15,
    "start_time": "2022-11-15T10:38:27.961Z"
   },
   {
    "duration": 30,
    "start_time": "2022-11-15T10:38:27.978Z"
   },
   {
    "duration": 37,
    "start_time": "2022-11-15T10:38:28.010Z"
   },
   {
    "duration": 10,
    "start_time": "2022-11-15T10:38:28.049Z"
   },
   {
    "duration": 31,
    "start_time": "2022-11-15T10:38:28.061Z"
   },
   {
    "duration": 77,
    "start_time": "2022-11-15T10:38:28.093Z"
   },
   {
    "duration": 65,
    "start_time": "2022-11-15T10:38:28.172Z"
   },
   {
    "duration": 7,
    "start_time": "2022-11-15T10:38:28.238Z"
   },
   {
    "duration": 8,
    "start_time": "2022-11-15T10:38:28.246Z"
   },
   {
    "duration": 26,
    "start_time": "2022-11-15T10:38:28.256Z"
   },
   {
    "duration": 7,
    "start_time": "2022-11-15T10:38:28.283Z"
   },
   {
    "duration": 18,
    "start_time": "2022-11-15T10:38:28.291Z"
   },
   {
    "duration": 185,
    "start_time": "2022-11-15T10:38:28.310Z"
   },
   {
    "duration": 248,
    "start_time": "2022-11-15T10:38:28.498Z"
   },
   {
    "duration": 232,
    "start_time": "2022-11-15T10:38:28.749Z"
   },
   {
    "duration": 13,
    "start_time": "2022-11-15T10:38:28.983Z"
   },
   {
    "duration": 10,
    "start_time": "2022-11-15T10:38:28.998Z"
   },
   {
    "duration": 10,
    "start_time": "2022-11-15T10:38:29.009Z"
   },
   {
    "duration": 219,
    "start_time": "2022-11-15T10:38:29.021Z"
   },
   {
    "duration": 14,
    "start_time": "2022-11-15T10:38:29.242Z"
   },
   {
    "duration": 287,
    "start_time": "2022-11-15T10:38:29.257Z"
   },
   {
    "duration": 32,
    "start_time": "2022-11-15T10:38:29.546Z"
   },
   {
    "duration": 11,
    "start_time": "2022-11-15T10:38:29.580Z"
   },
   {
    "duration": 227,
    "start_time": "2022-11-15T10:38:29.592Z"
   },
   {
    "duration": 1181,
    "start_time": "2022-11-15T10:38:49.258Z"
   },
   {
    "duration": 57,
    "start_time": "2022-11-15T10:38:50.441Z"
   },
   {
    "duration": 2,
    "start_time": "2022-11-15T10:38:50.500Z"
   },
   {
    "duration": 28,
    "start_time": "2022-11-15T10:38:50.504Z"
   },
   {
    "duration": 13,
    "start_time": "2022-11-15T10:38:50.534Z"
   },
   {
    "duration": 12,
    "start_time": "2022-11-15T10:38:50.549Z"
   },
   {
    "duration": 15,
    "start_time": "2022-11-15T10:38:50.562Z"
   },
   {
    "duration": 9,
    "start_time": "2022-11-15T10:38:50.578Z"
   },
   {
    "duration": 12,
    "start_time": "2022-11-15T10:38:50.589Z"
   },
   {
    "duration": 6,
    "start_time": "2022-11-15T10:38:50.603Z"
   },
   {
    "duration": 2,
    "start_time": "2022-11-15T10:38:50.611Z"
   },
   {
    "duration": 31,
    "start_time": "2022-11-15T10:38:50.614Z"
   },
   {
    "duration": 6,
    "start_time": "2022-11-15T10:38:50.646Z"
   },
   {
    "duration": 20,
    "start_time": "2022-11-15T10:38:50.655Z"
   },
   {
    "duration": 9,
    "start_time": "2022-11-15T10:38:50.677Z"
   },
   {
    "duration": 12,
    "start_time": "2022-11-15T10:38:50.688Z"
   },
   {
    "duration": 14,
    "start_time": "2022-11-15T10:38:50.701Z"
   },
   {
    "duration": 5,
    "start_time": "2022-11-15T10:38:50.717Z"
   },
   {
    "duration": 27,
    "start_time": "2022-11-15T10:38:50.723Z"
   },
   {
    "duration": 46,
    "start_time": "2022-11-15T10:38:50.751Z"
   },
   {
    "duration": 92,
    "start_time": "2022-11-15T10:38:50.799Z"
   },
   {
    "duration": 6,
    "start_time": "2022-11-15T10:38:50.892Z"
   },
   {
    "duration": 19,
    "start_time": "2022-11-15T10:38:50.900Z"
   },
   {
    "duration": 57,
    "start_time": "2022-11-15T10:38:50.920Z"
   },
   {
    "duration": 6,
    "start_time": "2022-11-15T10:38:50.978Z"
   },
   {
    "duration": 214,
    "start_time": "2022-11-15T10:38:50.985Z"
   },
   {
    "duration": 225,
    "start_time": "2022-11-15T10:38:51.200Z"
   },
   {
    "duration": 236,
    "start_time": "2022-11-15T10:38:51.426Z"
   },
   {
    "duration": 18,
    "start_time": "2022-11-15T10:38:51.663Z"
   },
   {
    "duration": 10,
    "start_time": "2022-11-15T10:38:51.682Z"
   },
   {
    "duration": 4,
    "start_time": "2022-11-15T10:38:51.694Z"
   },
   {
    "duration": 197,
    "start_time": "2022-11-15T10:38:51.699Z"
   },
   {
    "duration": 15,
    "start_time": "2022-11-15T10:38:51.897Z"
   },
   {
    "duration": 303,
    "start_time": "2022-11-15T10:38:51.913Z"
   },
   {
    "duration": 22,
    "start_time": "2022-11-15T10:38:52.218Z"
   },
   {
    "duration": 12,
    "start_time": "2022-11-15T10:38:52.241Z"
   },
   {
    "duration": 227,
    "start_time": "2022-11-15T10:38:52.255Z"
   },
   {
    "duration": 11,
    "start_time": "2022-11-15T10:40:37.353Z"
   },
   {
    "duration": 11,
    "start_time": "2022-11-15T10:40:47.646Z"
   },
   {
    "duration": 11,
    "start_time": "2022-11-15T10:41:00.757Z"
   },
   {
    "duration": 11,
    "start_time": "2022-11-15T10:41:13.174Z"
   },
   {
    "duration": 13,
    "start_time": "2022-11-15T10:41:20.374Z"
   },
   {
    "duration": 11,
    "start_time": "2022-11-15T10:41:31.745Z"
   },
   {
    "duration": 496,
    "start_time": "2022-11-15T10:44:10.246Z"
   },
   {
    "duration": 13,
    "start_time": "2022-11-15T10:45:47.455Z"
   },
   {
    "duration": 5,
    "start_time": "2022-11-15T10:59:20.242Z"
   },
   {
    "duration": 5,
    "start_time": "2022-11-15T10:59:26.824Z"
   },
   {
    "duration": 3,
    "start_time": "2022-11-15T10:59:56.889Z"
   },
   {
    "duration": 14,
    "start_time": "2022-11-15T11:25:06.083Z"
   },
   {
    "duration": 270,
    "start_time": "2022-11-15T11:27:29.536Z"
   },
   {
    "duration": 8,
    "start_time": "2022-11-15T11:27:43.202Z"
   },
   {
    "duration": 3,
    "start_time": "2022-11-15T11:27:46.595Z"
   },
   {
    "duration": 307,
    "start_time": "2022-11-15T11:27:47.050Z"
   },
   {
    "duration": 3,
    "start_time": "2022-11-15T11:28:13.704Z"
   },
   {
    "duration": 28,
    "start_time": "2022-11-15T11:28:14.194Z"
   },
   {
    "duration": 9,
    "start_time": "2022-11-15T11:28:53.762Z"
   },
   {
    "duration": 19,
    "start_time": "2022-11-15T11:29:04.074Z"
   },
   {
    "duration": 28,
    "start_time": "2022-11-15T11:30:48.339Z"
   },
   {
    "duration": 10,
    "start_time": "2022-11-15T11:33:03.257Z"
   },
   {
    "duration": 1287,
    "start_time": "2022-11-15T17:58:52.408Z"
   },
   {
    "duration": 115,
    "start_time": "2022-11-15T17:58:53.697Z"
   },
   {
    "duration": 2,
    "start_time": "2022-11-15T17:58:53.814Z"
   },
   {
    "duration": 24,
    "start_time": "2022-11-15T17:58:53.818Z"
   },
   {
    "duration": 23,
    "start_time": "2022-11-15T17:58:53.844Z"
   },
   {
    "duration": 12,
    "start_time": "2022-11-15T17:58:53.869Z"
   },
   {
    "duration": 8,
    "start_time": "2022-11-15T17:58:53.883Z"
   },
   {
    "duration": 9,
    "start_time": "2022-11-15T17:58:53.893Z"
   },
   {
    "duration": 15,
    "start_time": "2022-11-15T17:58:53.904Z"
   },
   {
    "duration": 8,
    "start_time": "2022-11-15T17:58:53.922Z"
   },
   {
    "duration": 2,
    "start_time": "2022-11-15T17:58:53.932Z"
   },
   {
    "duration": 35,
    "start_time": "2022-11-15T17:58:53.951Z"
   },
   {
    "duration": 8,
    "start_time": "2022-11-15T17:58:53.987Z"
   },
   {
    "duration": 12,
    "start_time": "2022-11-15T17:58:53.997Z"
   },
   {
    "duration": 11,
    "start_time": "2022-11-15T17:58:54.010Z"
   },
   {
    "duration": 32,
    "start_time": "2022-11-15T17:58:54.023Z"
   },
   {
    "duration": 9,
    "start_time": "2022-11-15T17:58:54.056Z"
   },
   {
    "duration": 5,
    "start_time": "2022-11-15T17:58:54.070Z"
   },
   {
    "duration": 15,
    "start_time": "2022-11-15T17:58:54.076Z"
   },
   {
    "duration": 43,
    "start_time": "2022-11-15T17:58:54.093Z"
   },
   {
    "duration": 118,
    "start_time": "2022-11-15T17:58:54.137Z"
   },
   {
    "duration": 7,
    "start_time": "2022-11-15T17:58:54.265Z"
   },
   {
    "duration": 11,
    "start_time": "2022-11-15T17:58:54.273Z"
   },
   {
    "duration": 19,
    "start_time": "2022-11-15T17:58:54.286Z"
   },
   {
    "duration": 5,
    "start_time": "2022-11-15T17:58:54.307Z"
   },
   {
    "duration": 169,
    "start_time": "2022-11-15T17:58:54.314Z"
   },
   {
    "duration": 242,
    "start_time": "2022-11-15T17:58:54.484Z"
   },
   {
    "duration": 241,
    "start_time": "2022-11-15T17:58:54.728Z"
   },
   {
    "duration": 16,
    "start_time": "2022-11-15T17:58:54.976Z"
   },
   {
    "duration": 10,
    "start_time": "2022-11-15T17:58:54.993Z"
   },
   {
    "duration": 4,
    "start_time": "2022-11-15T17:58:55.005Z"
   },
   {
    "duration": 222,
    "start_time": "2022-11-15T17:58:55.010Z"
   },
   {
    "duration": 15,
    "start_time": "2022-11-15T17:58:55.233Z"
   },
   {
    "duration": 241,
    "start_time": "2022-11-15T17:58:55.249Z"
   },
   {
    "duration": 15,
    "start_time": "2022-11-15T17:58:55.492Z"
   },
   {
    "duration": 225,
    "start_time": "2022-11-15T17:58:55.508Z"
   },
   {
    "duration": 193,
    "start_time": "2022-11-15T17:58:55.735Z"
   },
   {
    "duration": 16,
    "start_time": "2022-11-15T18:01:07.600Z"
   },
   {
    "duration": 15,
    "start_time": "2022-11-15T18:01:15.191Z"
   },
   {
    "duration": 21,
    "start_time": "2022-11-15T18:17:59.966Z"
   },
   {
    "duration": 16,
    "start_time": "2022-11-15T18:20:39.951Z"
   },
   {
    "duration": 13,
    "start_time": "2022-11-15T18:21:06.849Z"
   },
   {
    "duration": 14,
    "start_time": "2022-11-15T18:21:50.335Z"
   },
   {
    "duration": 20,
    "start_time": "2022-11-15T18:21:56.626Z"
   },
   {
    "duration": 16,
    "start_time": "2022-11-15T18:22:14.567Z"
   },
   {
    "duration": 12,
    "start_time": "2022-11-15T18:22:22.164Z"
   },
   {
    "duration": 7,
    "start_time": "2022-11-15T18:22:40.506Z"
   },
   {
    "duration": 11,
    "start_time": "2022-11-15T18:22:48.490Z"
   },
   {
    "duration": 8,
    "start_time": "2022-11-15T18:25:39.248Z"
   },
   {
    "duration": 11,
    "start_time": "2022-11-15T18:26:08.077Z"
   },
   {
    "duration": 9,
    "start_time": "2022-11-15T18:26:18.292Z"
   },
   {
    "duration": 19,
    "start_time": "2022-11-15T18:26:31.167Z"
   },
   {
    "duration": 18,
    "start_time": "2022-11-15T18:26:49.965Z"
   },
   {
    "duration": 10,
    "start_time": "2022-11-15T18:27:58.965Z"
   },
   {
    "duration": 15,
    "start_time": "2022-11-15T18:28:17.545Z"
   },
   {
    "duration": 9,
    "start_time": "2022-11-15T18:28:37.807Z"
   },
   {
    "duration": 13,
    "start_time": "2022-11-15T18:28:38.847Z"
   },
   {
    "duration": 10,
    "start_time": "2022-11-15T18:29:39.841Z"
   },
   {
    "duration": 10,
    "start_time": "2022-11-15T18:31:24.079Z"
   },
   {
    "duration": 14,
    "start_time": "2022-11-15T18:32:01.903Z"
   },
   {
    "duration": 44,
    "start_time": "2022-11-15T18:32:14.175Z"
   },
   {
    "duration": 41,
    "start_time": "2022-11-15T18:33:28.882Z"
   },
   {
    "duration": 41,
    "start_time": "2022-11-15T18:33:58.111Z"
   },
   {
    "duration": 41,
    "start_time": "2022-11-15T18:34:19.926Z"
   },
   {
    "duration": 10,
    "start_time": "2022-11-15T18:34:56.251Z"
   },
   {
    "duration": 9,
    "start_time": "2022-11-15T18:34:57.141Z"
   },
   {
    "duration": 41,
    "start_time": "2022-11-15T18:35:13.221Z"
   },
   {
    "duration": 8,
    "start_time": "2022-11-15T18:40:01.898Z"
   },
   {
    "duration": 6,
    "start_time": "2022-11-15T18:40:02.701Z"
   },
   {
    "duration": 9,
    "start_time": "2022-11-15T18:40:18.405Z"
   },
   {
    "duration": 11,
    "start_time": "2022-11-15T18:40:19.074Z"
   },
   {
    "duration": 9,
    "start_time": "2022-11-15T18:42:50.567Z"
   },
   {
    "duration": 9,
    "start_time": "2022-11-15T18:42:51.372Z"
   },
   {
    "duration": 6,
    "start_time": "2022-11-15T18:45:40.123Z"
   },
   {
    "duration": 70,
    "start_time": "2022-11-15T18:45:40.610Z"
   },
   {
    "duration": 73,
    "start_time": "2022-11-15T18:45:49.567Z"
   },
   {
    "duration": 12,
    "start_time": "2022-11-15T18:45:55.857Z"
   },
   {
    "duration": 66,
    "start_time": "2022-11-15T18:47:29.023Z"
   },
   {
    "duration": 17,
    "start_time": "2022-11-15T18:47:36.255Z"
   },
   {
    "duration": 8,
    "start_time": "2022-11-15T18:47:42.397Z"
   },
   {
    "duration": 14,
    "start_time": "2022-11-15T18:49:10.064Z"
   },
   {
    "duration": 15,
    "start_time": "2022-11-15T18:49:55.765Z"
   },
   {
    "duration": 14,
    "start_time": "2022-11-15T18:50:00.014Z"
   },
   {
    "duration": 41,
    "start_time": "2022-11-15T18:50:16.159Z"
   },
   {
    "duration": 7,
    "start_time": "2022-11-15T18:50:40.656Z"
   },
   {
    "duration": 11,
    "start_time": "2022-11-15T18:50:41.324Z"
   },
   {
    "duration": 29,
    "start_time": "2022-11-15T18:54:20.623Z"
   },
   {
    "duration": 14,
    "start_time": "2022-11-15T18:55:32.278Z"
   },
   {
    "duration": 11,
    "start_time": "2022-11-15T18:55:42.707Z"
   },
   {
    "duration": 1089,
    "start_time": "2022-11-15T18:58:05.082Z"
   },
   {
    "duration": 56,
    "start_time": "2022-11-15T18:58:06.173Z"
   },
   {
    "duration": 3,
    "start_time": "2022-11-15T18:58:06.231Z"
   },
   {
    "duration": 25,
    "start_time": "2022-11-15T18:58:06.236Z"
   },
   {
    "duration": 17,
    "start_time": "2022-11-15T18:58:06.263Z"
   },
   {
    "duration": 15,
    "start_time": "2022-11-15T18:58:06.282Z"
   },
   {
    "duration": 10,
    "start_time": "2022-11-15T18:58:06.299Z"
   },
   {
    "duration": 13,
    "start_time": "2022-11-15T18:58:06.310Z"
   },
   {
    "duration": 28,
    "start_time": "2022-11-15T18:58:06.325Z"
   },
   {
    "duration": 8,
    "start_time": "2022-11-15T18:58:06.354Z"
   },
   {
    "duration": 8,
    "start_time": "2022-11-15T18:58:06.364Z"
   },
   {
    "duration": 32,
    "start_time": "2022-11-15T18:58:06.373Z"
   },
   {
    "duration": 7,
    "start_time": "2022-11-15T18:58:06.406Z"
   },
   {
    "duration": 38,
    "start_time": "2022-11-15T18:58:06.416Z"
   },
   {
    "duration": 9,
    "start_time": "2022-11-15T18:58:06.455Z"
   },
   {
    "duration": 8,
    "start_time": "2022-11-15T18:58:06.466Z"
   },
   {
    "duration": 8,
    "start_time": "2022-11-15T18:58:06.475Z"
   },
   {
    "duration": 3,
    "start_time": "2022-11-15T18:58:06.485Z"
   },
   {
    "duration": 19,
    "start_time": "2022-11-15T18:58:06.490Z"
   },
   {
    "duration": 77,
    "start_time": "2022-11-15T18:58:06.511Z"
   },
   {
    "duration": 73,
    "start_time": "2022-11-15T18:58:06.590Z"
   },
   {
    "duration": 9,
    "start_time": "2022-11-15T18:58:06.664Z"
   },
   {
    "duration": 9,
    "start_time": "2022-11-15T18:58:06.674Z"
   },
   {
    "duration": 20,
    "start_time": "2022-11-15T18:58:06.684Z"
   },
   {
    "duration": 7,
    "start_time": "2022-11-15T18:58:06.706Z"
   },
   {
    "duration": 219,
    "start_time": "2022-11-15T18:58:06.714Z"
   },
   {
    "duration": 236,
    "start_time": "2022-11-15T18:58:06.935Z"
   },
   {
    "duration": 237,
    "start_time": "2022-11-15T18:58:07.173Z"
   },
   {
    "duration": 15,
    "start_time": "2022-11-15T18:58:07.412Z"
   },
   {
    "duration": 29,
    "start_time": "2022-11-15T18:58:07.428Z"
   },
   {
    "duration": 3,
    "start_time": "2022-11-15T18:58:07.459Z"
   },
   {
    "duration": 236,
    "start_time": "2022-11-15T18:58:07.464Z"
   },
   {
    "duration": 15,
    "start_time": "2022-11-15T18:58:07.701Z"
   },
   {
    "duration": 236,
    "start_time": "2022-11-15T18:58:07.718Z"
   },
   {
    "duration": 15,
    "start_time": "2022-11-15T18:58:07.956Z"
   },
   {
    "duration": 223,
    "start_time": "2022-11-15T18:58:07.972Z"
   },
   {
    "duration": 7,
    "start_time": "2022-11-15T18:58:08.196Z"
   },
   {
    "duration": 26,
    "start_time": "2022-11-15T18:58:08.204Z"
   },
   {
    "duration": 44,
    "start_time": "2022-11-15T18:58:08.231Z"
   },
   {
    "duration": 7,
    "start_time": "2022-11-15T18:58:08.277Z"
   },
   {
    "duration": 13,
    "start_time": "2022-11-15T18:58:08.287Z"
   },
   {
    "duration": 152,
    "start_time": "2022-11-15T18:58:08.302Z"
   },
   {
    "duration": 61,
    "start_time": "2022-11-15T18:58:52.506Z"
   },
   {
    "duration": 8,
    "start_time": "2022-11-15T19:00:17.515Z"
   },
   {
    "duration": 15,
    "start_time": "2022-11-15T19:00:18.158Z"
   },
   {
    "duration": 11,
    "start_time": "2022-11-15T19:01:40.995Z"
   },
   {
    "duration": 14,
    "start_time": "2022-11-15T19:01:41.685Z"
   },
   {
    "duration": 13,
    "start_time": "2022-11-15T19:03:18.210Z"
   },
   {
    "duration": 14,
    "start_time": "2022-11-15T19:03:18.653Z"
   },
   {
    "duration": 69,
    "start_time": "2022-11-15T19:04:53.174Z"
   },
   {
    "duration": 99,
    "start_time": "2022-11-15T19:05:00.771Z"
   },
   {
    "duration": 15,
    "start_time": "2022-11-15T19:05:22.891Z"
   },
   {
    "duration": 15,
    "start_time": "2022-11-15T19:05:23.870Z"
   },
   {
    "duration": 13,
    "start_time": "2022-11-15T19:05:51.287Z"
   },
   {
    "duration": 21,
    "start_time": "2022-11-15T19:05:52.542Z"
   },
   {
    "duration": 344,
    "start_time": "2022-11-15T19:09:41.557Z"
   },
   {
    "duration": 12,
    "start_time": "2022-11-15T19:10:25.278Z"
   },
   {
    "duration": 14,
    "start_time": "2022-11-15T19:10:25.409Z"
   },
   {
    "duration": 416,
    "start_time": "2022-11-15T19:10:26.431Z"
   },
   {
    "duration": 12,
    "start_time": "2022-11-15T19:11:27.914Z"
   },
   {
    "duration": 13,
    "start_time": "2022-11-15T19:11:28.402Z"
   },
   {
    "duration": 12,
    "start_time": "2022-11-15T19:12:34.697Z"
   },
   {
    "duration": 13,
    "start_time": "2022-11-15T19:12:35.143Z"
   },
   {
    "duration": 69,
    "start_time": "2022-11-15T19:14:16.240Z"
   },
   {
    "duration": 63,
    "start_time": "2022-11-15T19:15:07.058Z"
   },
   {
    "duration": 69,
    "start_time": "2022-11-15T19:15:19.307Z"
   },
   {
    "duration": 75,
    "start_time": "2022-11-15T19:15:31.869Z"
   },
   {
    "duration": 64,
    "start_time": "2022-11-15T19:15:37.341Z"
   },
   {
    "duration": 20,
    "start_time": "2022-11-15T19:17:23.007Z"
   },
   {
    "duration": 12,
    "start_time": "2022-11-15T19:18:43.149Z"
   },
   {
    "duration": 13,
    "start_time": "2022-11-15T19:18:44.162Z"
   },
   {
    "duration": 66,
    "start_time": "2022-11-15T19:19:08.259Z"
   },
   {
    "duration": 14,
    "start_time": "2022-11-15T19:19:17.926Z"
   },
   {
    "duration": 1093,
    "start_time": "2022-11-15T19:20:13.490Z"
   },
   {
    "duration": 55,
    "start_time": "2022-11-15T19:20:14.584Z"
   },
   {
    "duration": 3,
    "start_time": "2022-11-15T19:20:14.640Z"
   },
   {
    "duration": 25,
    "start_time": "2022-11-15T19:20:14.644Z"
   },
   {
    "duration": 12,
    "start_time": "2022-11-15T19:20:14.671Z"
   },
   {
    "duration": 7,
    "start_time": "2022-11-15T19:20:14.685Z"
   },
   {
    "duration": 7,
    "start_time": "2022-11-15T19:20:14.694Z"
   },
   {
    "duration": 9,
    "start_time": "2022-11-15T19:20:14.702Z"
   },
   {
    "duration": 14,
    "start_time": "2022-11-15T19:20:14.712Z"
   },
   {
    "duration": 8,
    "start_time": "2022-11-15T19:20:14.751Z"
   },
   {
    "duration": 3,
    "start_time": "2022-11-15T19:20:14.760Z"
   },
   {
    "duration": 29,
    "start_time": "2022-11-15T19:20:14.764Z"
   },
   {
    "duration": 6,
    "start_time": "2022-11-15T19:20:14.794Z"
   },
   {
    "duration": 10,
    "start_time": "2022-11-15T19:20:14.803Z"
   },
   {
    "duration": 38,
    "start_time": "2022-11-15T19:20:14.814Z"
   },
   {
    "duration": 7,
    "start_time": "2022-11-15T19:20:14.853Z"
   },
   {
    "duration": 12,
    "start_time": "2022-11-15T19:20:14.861Z"
   },
   {
    "duration": 4,
    "start_time": "2022-11-15T19:20:14.874Z"
   },
   {
    "duration": 16,
    "start_time": "2022-11-15T19:20:14.879Z"
   },
   {
    "duration": 55,
    "start_time": "2022-11-15T19:20:14.897Z"
   },
   {
    "duration": 73,
    "start_time": "2022-11-15T19:20:14.953Z"
   },
   {
    "duration": 6,
    "start_time": "2022-11-15T19:20:15.028Z"
   },
   {
    "duration": 17,
    "start_time": "2022-11-15T19:20:15.036Z"
   },
   {
    "duration": 12,
    "start_time": "2022-11-15T19:20:15.054Z"
   },
   {
    "duration": 6,
    "start_time": "2022-11-15T19:20:15.068Z"
   },
   {
    "duration": 189,
    "start_time": "2022-11-15T19:20:15.075Z"
   },
   {
    "duration": 246,
    "start_time": "2022-11-15T19:20:15.266Z"
   },
   {
    "duration": 225,
    "start_time": "2022-11-15T19:20:15.514Z"
   },
   {
    "duration": 20,
    "start_time": "2022-11-15T19:20:15.740Z"
   },
   {
    "duration": 10,
    "start_time": "2022-11-15T19:20:15.761Z"
   },
   {
    "duration": 6,
    "start_time": "2022-11-15T19:20:15.773Z"
   },
   {
    "duration": 227,
    "start_time": "2022-11-15T19:20:15.780Z"
   },
   {
    "duration": 14,
    "start_time": "2022-11-15T19:20:16.009Z"
   },
   {
    "duration": 219,
    "start_time": "2022-11-15T19:20:16.025Z"
   },
   {
    "duration": 10,
    "start_time": "2022-11-15T19:20:16.251Z"
   },
   {
    "duration": 196,
    "start_time": "2022-11-15T19:20:16.263Z"
   },
   {
    "duration": 6,
    "start_time": "2022-11-15T19:20:16.460Z"
   },
   {
    "duration": 15,
    "start_time": "2022-11-15T19:20:16.468Z"
   },
   {
    "duration": 55,
    "start_time": "2022-11-15T19:20:16.485Z"
   },
   {
    "duration": 13,
    "start_time": "2022-11-15T19:20:16.542Z"
   },
   {
    "duration": 16,
    "start_time": "2022-11-15T19:20:16.557Z"
   },
   {
    "duration": 138,
    "start_time": "2022-11-15T19:20:16.575Z"
   },
   {
    "duration": 43,
    "start_time": "2022-11-16T06:23:21.972Z"
   },
   {
    "duration": 3840,
    "start_time": "2022-11-16T06:23:50.563Z"
   },
   {
    "duration": 1121,
    "start_time": "2022-11-16T06:23:56.477Z"
   },
   {
    "duration": 1365,
    "start_time": "2022-11-16T06:24:08.913Z"
   },
   {
    "duration": 228,
    "start_time": "2022-11-16T06:24:10.280Z"
   },
   {
    "duration": 3,
    "start_time": "2022-11-16T06:24:10.510Z"
   },
   {
    "duration": 24,
    "start_time": "2022-11-16T06:24:10.514Z"
   },
   {
    "duration": 14,
    "start_time": "2022-11-16T06:24:10.540Z"
   },
   {
    "duration": 14,
    "start_time": "2022-11-16T06:24:10.555Z"
   },
   {
    "duration": 16,
    "start_time": "2022-11-16T06:24:10.571Z"
   },
   {
    "duration": 16,
    "start_time": "2022-11-16T06:24:10.588Z"
   },
   {
    "duration": 29,
    "start_time": "2022-11-16T06:24:10.605Z"
   },
   {
    "duration": 9,
    "start_time": "2022-11-16T06:24:10.636Z"
   },
   {
    "duration": 5,
    "start_time": "2022-11-16T06:24:10.646Z"
   },
   {
    "duration": 32,
    "start_time": "2022-11-16T06:24:10.653Z"
   },
   {
    "duration": 7,
    "start_time": "2022-11-16T06:24:10.686Z"
   },
   {
    "duration": 13,
    "start_time": "2022-11-16T06:24:10.696Z"
   },
   {
    "duration": 8,
    "start_time": "2022-11-16T06:24:10.711Z"
   },
   {
    "duration": 7,
    "start_time": "2022-11-16T06:24:10.721Z"
   },
   {
    "duration": 7,
    "start_time": "2022-11-16T06:24:10.730Z"
   },
   {
    "duration": 38,
    "start_time": "2022-11-16T06:24:10.739Z"
   },
   {
    "duration": 19,
    "start_time": "2022-11-16T06:24:10.779Z"
   },
   {
    "duration": 45,
    "start_time": "2022-11-16T06:24:10.799Z"
   },
   {
    "duration": 84,
    "start_time": "2022-11-16T06:24:10.846Z"
   },
   {
    "duration": 7,
    "start_time": "2022-11-16T06:24:10.931Z"
   },
   {
    "duration": 7,
    "start_time": "2022-11-16T06:24:10.941Z"
   },
   {
    "duration": 28,
    "start_time": "2022-11-16T06:24:10.950Z"
   },
   {
    "duration": 6,
    "start_time": "2022-11-16T06:24:10.980Z"
   },
   {
    "duration": 192,
    "start_time": "2022-11-16T06:24:10.988Z"
   },
   {
    "duration": 244,
    "start_time": "2022-11-16T06:24:11.181Z"
   },
   {
    "duration": 270,
    "start_time": "2022-11-16T06:24:11.427Z"
   },
   {
    "duration": 16,
    "start_time": "2022-11-16T06:24:11.699Z"
   },
   {
    "duration": 20,
    "start_time": "2022-11-16T06:24:11.717Z"
   },
   {
    "duration": 9,
    "start_time": "2022-11-16T06:24:11.739Z"
   },
   {
    "duration": 239,
    "start_time": "2022-11-16T06:24:11.750Z"
   },
   {
    "duration": 18,
    "start_time": "2022-11-16T06:24:11.991Z"
   },
   {
    "duration": 260,
    "start_time": "2022-11-16T06:24:12.011Z"
   },
   {
    "duration": 12,
    "start_time": "2022-11-16T06:24:12.273Z"
   },
   {
    "duration": 225,
    "start_time": "2022-11-16T06:24:12.287Z"
   },
   {
    "duration": 7,
    "start_time": "2022-11-16T06:24:12.514Z"
   },
   {
    "duration": 17,
    "start_time": "2022-11-16T06:24:12.522Z"
   },
   {
    "duration": 59,
    "start_time": "2022-11-16T06:24:12.540Z"
   },
   {
    "duration": 13,
    "start_time": "2022-11-16T06:24:12.601Z"
   },
   {
    "duration": 15,
    "start_time": "2022-11-16T06:24:12.617Z"
   },
   {
    "duration": 2463,
    "start_time": "2022-11-16T06:24:12.634Z"
   },
   {
    "duration": 102,
    "start_time": "2022-11-16T06:24:15.100Z"
   },
   {
    "duration": 53,
    "start_time": "2022-11-16T06:25:59.719Z"
   },
   {
    "duration": 1415,
    "start_time": "2022-11-16T13:33:18.649Z"
   },
   {
    "duration": 252,
    "start_time": "2022-11-16T13:33:20.066Z"
   },
   {
    "duration": 4,
    "start_time": "2022-11-16T13:33:20.319Z"
   },
   {
    "duration": 48,
    "start_time": "2022-11-16T13:33:20.325Z"
   },
   {
    "duration": 15,
    "start_time": "2022-11-16T13:33:20.375Z"
   },
   {
    "duration": 22,
    "start_time": "2022-11-16T13:33:20.391Z"
   },
   {
    "duration": 40,
    "start_time": "2022-11-16T13:33:20.414Z"
   },
   {
    "duration": 29,
    "start_time": "2022-11-16T13:33:20.456Z"
   },
   {
    "duration": 43,
    "start_time": "2022-11-16T13:33:20.487Z"
   },
   {
    "duration": 32,
    "start_time": "2022-11-16T13:33:20.532Z"
   },
   {
    "duration": 34,
    "start_time": "2022-11-16T13:33:20.565Z"
   },
   {
    "duration": 55,
    "start_time": "2022-11-16T13:33:20.601Z"
   },
   {
    "duration": 9,
    "start_time": "2022-11-16T13:33:20.658Z"
   },
   {
    "duration": 22,
    "start_time": "2022-11-16T13:33:20.671Z"
   },
   {
    "duration": 29,
    "start_time": "2022-11-16T13:33:20.695Z"
   },
   {
    "duration": 24,
    "start_time": "2022-11-16T13:33:20.726Z"
   },
   {
    "duration": 18,
    "start_time": "2022-11-16T13:33:20.752Z"
   },
   {
    "duration": 19,
    "start_time": "2022-11-16T13:33:20.772Z"
   },
   {
    "duration": 68,
    "start_time": "2022-11-16T13:33:20.793Z"
   },
   {
    "duration": 75,
    "start_time": "2022-11-16T13:33:20.863Z"
   },
   {
    "duration": 79,
    "start_time": "2022-11-16T13:33:20.941Z"
   },
   {
    "duration": 7,
    "start_time": "2022-11-16T13:33:21.021Z"
   },
   {
    "duration": 36,
    "start_time": "2022-11-16T13:33:21.030Z"
   },
   {
    "duration": 25,
    "start_time": "2022-11-16T13:33:21.067Z"
   },
   {
    "duration": 22,
    "start_time": "2022-11-16T13:33:21.094Z"
   },
   {
    "duration": 212,
    "start_time": "2022-11-16T13:33:21.118Z"
   },
   {
    "duration": 262,
    "start_time": "2022-11-16T13:33:21.332Z"
   },
   {
    "duration": 273,
    "start_time": "2022-11-16T13:33:21.596Z"
   },
   {
    "duration": 17,
    "start_time": "2022-11-16T13:33:21.870Z"
   },
   {
    "duration": 19,
    "start_time": "2022-11-16T13:33:21.888Z"
   },
   {
    "duration": 27,
    "start_time": "2022-11-16T13:33:21.909Z"
   },
   {
    "duration": 244,
    "start_time": "2022-11-16T13:33:21.938Z"
   },
   {
    "duration": 15,
    "start_time": "2022-11-16T13:33:22.184Z"
   },
   {
    "duration": 270,
    "start_time": "2022-11-16T13:33:22.200Z"
   },
   {
    "duration": 12,
    "start_time": "2022-11-16T13:33:22.471Z"
   },
   {
    "duration": 239,
    "start_time": "2022-11-16T13:33:22.484Z"
   },
   {
    "duration": 7,
    "start_time": "2022-11-16T13:33:22.725Z"
   },
   {
    "duration": 33,
    "start_time": "2022-11-16T13:33:22.733Z"
   },
   {
    "duration": 91,
    "start_time": "2022-11-16T13:33:22.768Z"
   },
   {
    "duration": 14,
    "start_time": "2022-11-16T13:33:22.861Z"
   },
   {
    "duration": 48,
    "start_time": "2022-11-16T13:33:22.879Z"
   },
   {
    "duration": 4065,
    "start_time": "2022-11-16T13:33:22.929Z"
   },
   {
    "duration": 98,
    "start_time": "2022-11-16T13:33:26.996Z"
   },
   {
    "duration": 170,
    "start_time": "2022-11-16T13:34:29.614Z"
   },
   {
    "duration": 186,
    "start_time": "2022-11-16T13:34:42.291Z"
   },
   {
    "duration": 180,
    "start_time": "2022-11-16T13:35:12.720Z"
   },
   {
    "duration": 17,
    "start_time": "2022-11-16T13:35:44.712Z"
   },
   {
    "duration": 284,
    "start_time": "2022-11-16T13:36:16.006Z"
   },
   {
    "duration": 193,
    "start_time": "2022-11-16T13:38:20.562Z"
   },
   {
    "duration": 1343,
    "start_time": "2022-11-16T13:38:28.909Z"
   },
   {
    "duration": 68,
    "start_time": "2022-11-16T13:38:30.254Z"
   },
   {
    "duration": 3,
    "start_time": "2022-11-16T13:38:30.324Z"
   },
   {
    "duration": 41,
    "start_time": "2022-11-16T13:38:30.330Z"
   },
   {
    "duration": 23,
    "start_time": "2022-11-16T13:38:30.373Z"
   },
   {
    "duration": 17,
    "start_time": "2022-11-16T13:38:30.398Z"
   },
   {
    "duration": 62,
    "start_time": "2022-11-16T13:38:30.418Z"
   },
   {
    "duration": 42,
    "start_time": "2022-11-16T13:38:30.481Z"
   },
   {
    "duration": 47,
    "start_time": "2022-11-16T13:38:30.524Z"
   },
   {
    "duration": 32,
    "start_time": "2022-11-16T13:38:30.574Z"
   },
   {
    "duration": 35,
    "start_time": "2022-11-16T13:38:30.608Z"
   },
   {
    "duration": 86,
    "start_time": "2022-11-16T13:38:30.646Z"
   },
   {
    "duration": 33,
    "start_time": "2022-11-16T13:38:30.734Z"
   },
   {
    "duration": 76,
    "start_time": "2022-11-16T13:38:30.768Z"
   },
   {
    "duration": 32,
    "start_time": "2022-11-16T13:38:30.846Z"
   },
   {
    "duration": 32,
    "start_time": "2022-11-16T13:38:30.880Z"
   },
   {
    "duration": 25,
    "start_time": "2022-11-16T13:38:30.914Z"
   },
   {
    "duration": 20,
    "start_time": "2022-11-16T13:38:30.941Z"
   },
   {
    "duration": 58,
    "start_time": "2022-11-16T13:38:30.963Z"
   },
   {
    "duration": 90,
    "start_time": "2022-11-16T13:38:31.023Z"
   },
   {
    "duration": 73,
    "start_time": "2022-11-16T13:38:31.115Z"
   },
   {
    "duration": 7,
    "start_time": "2022-11-16T13:38:31.190Z"
   },
   {
    "duration": 22,
    "start_time": "2022-11-16T13:38:31.199Z"
   },
   {
    "duration": 35,
    "start_time": "2022-11-16T13:38:31.223Z"
   },
   {
    "duration": 27,
    "start_time": "2022-11-16T13:38:31.261Z"
   },
   {
    "duration": 215,
    "start_time": "2022-11-16T13:38:31.290Z"
   },
   {
    "duration": 283,
    "start_time": "2022-11-16T13:38:31.507Z"
   },
   {
    "duration": 285,
    "start_time": "2022-11-16T13:38:31.794Z"
   },
   {
    "duration": 16,
    "start_time": "2022-11-16T13:38:32.081Z"
   },
   {
    "duration": 34,
    "start_time": "2022-11-16T13:38:32.099Z"
   },
   {
    "duration": 33,
    "start_time": "2022-11-16T13:38:32.134Z"
   },
   {
    "duration": 267,
    "start_time": "2022-11-16T13:38:32.169Z"
   },
   {
    "duration": 25,
    "start_time": "2022-11-16T13:38:32.439Z"
   },
   {
    "duration": 337,
    "start_time": "2022-11-16T13:38:32.467Z"
   },
   {
    "duration": 14,
    "start_time": "2022-11-16T13:38:32.806Z"
   },
   {
    "duration": 264,
    "start_time": "2022-11-16T13:38:32.822Z"
   },
   {
    "duration": 8,
    "start_time": "2022-11-16T13:38:33.089Z"
   },
   {
    "duration": 44,
    "start_time": "2022-11-16T13:38:33.099Z"
   },
   {
    "duration": 83,
    "start_time": "2022-11-16T13:38:33.145Z"
   },
   {
    "duration": 14,
    "start_time": "2022-11-16T13:38:33.229Z"
   },
   {
    "duration": 39,
    "start_time": "2022-11-16T13:38:33.245Z"
   },
   {
    "duration": 2597,
    "start_time": "2022-11-16T13:38:33.286Z"
   },
   {
    "duration": 208,
    "start_time": "2022-11-16T13:38:35.885Z"
   },
   {
    "duration": 12,
    "start_time": "2022-11-16T13:39:22.658Z"
   },
   {
    "duration": 10,
    "start_time": "2022-11-16T13:39:29.883Z"
   },
   {
    "duration": 10,
    "start_time": "2022-11-16T13:41:45.501Z"
   },
   {
    "duration": 11,
    "start_time": "2022-11-16T13:45:51.557Z"
   },
   {
    "duration": 12,
    "start_time": "2022-11-16T13:46:33.054Z"
   },
   {
    "duration": 67,
    "start_time": "2022-11-16T13:50:18.169Z"
   },
   {
    "duration": 50,
    "start_time": "2022-11-16T13:50:56.318Z"
   },
   {
    "duration": 53,
    "start_time": "2022-11-16T13:51:38.233Z"
   },
   {
    "duration": 62,
    "start_time": "2022-11-16T13:51:44.593Z"
   },
   {
    "duration": 103,
    "start_time": "2022-11-16T13:52:16.600Z"
   },
   {
    "duration": 11,
    "start_time": "2022-11-16T13:52:39.428Z"
   },
   {
    "duration": 50,
    "start_time": "2022-11-16T13:54:01.146Z"
   },
   {
    "duration": 46,
    "start_time": "2022-11-16T13:54:30.881Z"
   },
   {
    "duration": 191,
    "start_time": "2022-11-16T13:56:11.525Z"
   },
   {
    "duration": 47,
    "start_time": "2022-11-16T13:56:15.377Z"
   },
   {
    "duration": 53,
    "start_time": "2022-11-16T14:03:22.089Z"
   },
   {
    "duration": 56,
    "start_time": "2022-11-16T14:03:27.740Z"
   },
   {
    "duration": 55,
    "start_time": "2022-11-16T14:03:33.452Z"
   },
   {
    "duration": 81,
    "start_time": "2022-11-16T14:03:38.946Z"
   },
   {
    "duration": 88,
    "start_time": "2022-11-16T14:04:02.306Z"
   },
   {
    "duration": 61,
    "start_time": "2022-11-16T14:04:12.878Z"
   },
   {
    "duration": 6,
    "start_time": "2022-11-16T14:59:07.177Z"
   },
   {
    "duration": 20,
    "start_time": "2022-11-16T15:01:16.160Z"
   },
   {
    "duration": 14,
    "start_time": "2022-11-16T15:01:21.702Z"
   },
   {
    "duration": 22,
    "start_time": "2022-11-16T15:05:33.152Z"
   },
   {
    "duration": 22,
    "start_time": "2022-11-16T15:08:24.278Z"
   },
   {
    "duration": 4,
    "start_time": "2022-11-16T15:08:46.037Z"
   },
   {
    "duration": 19,
    "start_time": "2022-11-16T15:08:52.186Z"
   },
   {
    "duration": 6,
    "start_time": "2022-11-16T15:10:12.560Z"
   },
   {
    "duration": 22,
    "start_time": "2022-11-16T15:10:18.762Z"
   },
   {
    "duration": 13,
    "start_time": "2022-11-16T15:10:29.023Z"
   },
   {
    "duration": 25,
    "start_time": "2022-11-16T15:10:50.950Z"
   },
   {
    "duration": 14,
    "start_time": "2022-11-16T15:11:01.930Z"
   },
   {
    "duration": 6,
    "start_time": "2022-11-16T15:11:42.382Z"
   },
   {
    "duration": 13,
    "start_time": "2022-11-16T15:12:50.648Z"
   },
   {
    "duration": 9,
    "start_time": "2022-11-16T15:13:02.626Z"
   },
   {
    "duration": 40,
    "start_time": "2022-11-16T15:13:34.156Z"
   },
   {
    "duration": 7,
    "start_time": "2022-11-16T15:14:03.082Z"
   },
   {
    "duration": 30,
    "start_time": "2022-11-16T15:14:11.937Z"
   },
   {
    "duration": 22,
    "start_time": "2022-11-16T15:14:25.854Z"
   },
   {
    "duration": 10,
    "start_time": "2022-11-16T15:14:36.805Z"
   },
   {
    "duration": 8,
    "start_time": "2022-11-16T15:14:37.830Z"
   },
   {
    "duration": 10,
    "start_time": "2022-11-16T15:15:37.329Z"
   },
   {
    "duration": 7,
    "start_time": "2022-11-16T15:15:38.582Z"
   },
   {
    "duration": 309,
    "start_time": "2022-11-16T15:15:57.085Z"
   },
   {
    "duration": 297,
    "start_time": "2022-11-16T15:16:02.743Z"
   },
   {
    "duration": 18,
    "start_time": "2022-11-16T15:16:11.034Z"
   },
   {
    "duration": 17,
    "start_time": "2022-11-16T15:16:21.778Z"
   },
   {
    "duration": 8,
    "start_time": "2022-11-16T15:16:28.350Z"
   },
   {
    "duration": 1283,
    "start_time": "2022-11-16T15:18:07.803Z"
   },
   {
    "duration": 64,
    "start_time": "2022-11-16T15:18:09.087Z"
   },
   {
    "duration": 12,
    "start_time": "2022-11-16T15:18:09.155Z"
   },
   {
    "duration": 28,
    "start_time": "2022-11-16T15:18:09.173Z"
   },
   {
    "duration": 13,
    "start_time": "2022-11-16T15:18:09.203Z"
   },
   {
    "duration": 5,
    "start_time": "2022-11-16T15:18:09.218Z"
   },
   {
    "duration": 13,
    "start_time": "2022-11-16T15:18:09.224Z"
   },
   {
    "duration": 38,
    "start_time": "2022-11-16T15:18:09.239Z"
   },
   {
    "duration": 15,
    "start_time": "2022-11-16T15:18:09.286Z"
   },
   {
    "duration": 12,
    "start_time": "2022-11-16T15:18:09.302Z"
   },
   {
    "duration": 4,
    "start_time": "2022-11-16T15:18:09.316Z"
   },
   {
    "duration": 44,
    "start_time": "2022-11-16T15:18:09.321Z"
   },
   {
    "duration": 21,
    "start_time": "2022-11-16T15:18:09.376Z"
   },
   {
    "duration": 6,
    "start_time": "2022-11-16T15:18:09.399Z"
   },
   {
    "duration": 18,
    "start_time": "2022-11-16T15:18:09.406Z"
   },
   {
    "duration": 12,
    "start_time": "2022-11-16T15:18:09.425Z"
   },
   {
    "duration": 13,
    "start_time": "2022-11-16T15:18:09.439Z"
   },
   {
    "duration": 14,
    "start_time": "2022-11-16T15:18:09.454Z"
   },
   {
    "duration": 27,
    "start_time": "2022-11-16T15:18:09.470Z"
   },
   {
    "duration": 4,
    "start_time": "2022-11-16T15:18:09.499Z"
   },
   {
    "duration": 17,
    "start_time": "2022-11-16T15:18:09.505Z"
   },
   {
    "duration": 59,
    "start_time": "2022-11-16T15:18:09.524Z"
   },
   {
    "duration": 74,
    "start_time": "2022-11-16T15:18:09.585Z"
   },
   {
    "duration": 16,
    "start_time": "2022-11-16T15:18:09.664Z"
   },
   {
    "duration": 14,
    "start_time": "2022-11-16T15:18:09.682Z"
   },
   {
    "duration": 12,
    "start_time": "2022-11-16T15:18:09.698Z"
   },
   {
    "duration": 7,
    "start_time": "2022-11-16T15:18:09.714Z"
   },
   {
    "duration": 226,
    "start_time": "2022-11-16T15:18:09.723Z"
   },
   {
    "duration": 319,
    "start_time": "2022-11-16T15:18:09.951Z"
   },
   {
    "duration": 279,
    "start_time": "2022-11-16T15:18:10.274Z"
   },
   {
    "duration": 30,
    "start_time": "2022-11-16T15:18:10.556Z"
   },
   {
    "duration": 13,
    "start_time": "2022-11-16T15:18:10.587Z"
   },
   {
    "duration": 4,
    "start_time": "2022-11-16T15:18:10.602Z"
   },
   {
    "duration": 283,
    "start_time": "2022-11-16T15:18:10.607Z"
   },
   {
    "duration": 17,
    "start_time": "2022-11-16T15:18:10.892Z"
   },
   {
    "duration": 315,
    "start_time": "2022-11-16T15:18:10.911Z"
   },
   {
    "duration": 13,
    "start_time": "2022-11-16T15:18:11.228Z"
   },
   {
    "duration": 272,
    "start_time": "2022-11-16T15:18:11.243Z"
   },
   {
    "duration": 7,
    "start_time": "2022-11-16T15:18:11.517Z"
   },
   {
    "duration": 40,
    "start_time": "2022-11-16T15:18:11.526Z"
   },
   {
    "duration": 87,
    "start_time": "2022-11-16T15:18:11.576Z"
   },
   {
    "duration": 15,
    "start_time": "2022-11-16T15:18:11.671Z"
   },
   {
    "duration": 38,
    "start_time": "2022-11-16T15:18:11.688Z"
   },
   {
    "duration": 2691,
    "start_time": "2022-11-16T15:18:11.727Z"
   },
   {
    "duration": 117,
    "start_time": "2022-11-16T15:18:14.420Z"
   },
   {
    "duration": 6,
    "start_time": "2022-11-16T15:18:14.539Z"
   },
   {
    "duration": 54,
    "start_time": "2022-11-16T15:18:14.547Z"
   },
   {
    "duration": 63,
    "start_time": "2022-11-16T15:19:44.138Z"
   },
   {
    "duration": 60,
    "start_time": "2022-11-16T15:19:50.058Z"
   },
   {
    "duration": 18,
    "start_time": "2022-11-16T15:19:55.096Z"
   },
   {
    "duration": 191,
    "start_time": "2022-11-16T15:20:58.310Z"
   },
   {
    "duration": 25,
    "start_time": "2022-11-16T15:21:13.620Z"
   },
   {
    "duration": 22,
    "start_time": "2022-11-16T15:21:22.171Z"
   },
   {
    "duration": 23,
    "start_time": "2022-11-16T15:22:37.668Z"
   },
   {
    "duration": 18,
    "start_time": "2022-11-16T15:23:27.203Z"
   },
   {
    "duration": 13,
    "start_time": "2022-11-16T15:23:45.114Z"
   },
   {
    "duration": 19,
    "start_time": "2022-11-16T15:24:12.014Z"
   },
   {
    "duration": 22,
    "start_time": "2022-11-16T15:24:20.476Z"
   },
   {
    "duration": 13,
    "start_time": "2022-11-16T15:24:30.721Z"
   },
   {
    "duration": 13,
    "start_time": "2022-11-16T15:25:40.592Z"
   },
   {
    "duration": 12,
    "start_time": "2022-11-16T15:26:45.318Z"
   },
   {
    "duration": 7,
    "start_time": "2022-11-16T15:26:49.397Z"
   },
   {
    "duration": 62,
    "start_time": "2022-11-16T15:26:49.863Z"
   },
   {
    "duration": 69,
    "start_time": "2022-11-16T15:27:22.700Z"
   },
   {
    "duration": 11,
    "start_time": "2022-11-16T15:27:58.282Z"
   },
   {
    "duration": 1560,
    "start_time": "2022-11-17T11:43:53.554Z"
   },
   {
    "duration": 115,
    "start_time": "2022-11-17T11:43:55.116Z"
   },
   {
    "duration": 4,
    "start_time": "2022-11-17T11:43:55.233Z"
   },
   {
    "duration": 26,
    "start_time": "2022-11-17T11:43:55.239Z"
   },
   {
    "duration": 16,
    "start_time": "2022-11-17T11:43:55.266Z"
   },
   {
    "duration": 6,
    "start_time": "2022-11-17T11:43:55.283Z"
   },
   {
    "duration": 12,
    "start_time": "2022-11-17T11:43:55.290Z"
   },
   {
    "duration": 13,
    "start_time": "2022-11-17T11:43:55.304Z"
   },
   {
    "duration": 16,
    "start_time": "2022-11-17T11:43:55.319Z"
   },
   {
    "duration": 9,
    "start_time": "2022-11-17T11:43:55.338Z"
   },
   {
    "duration": 30,
    "start_time": "2022-11-17T11:43:55.348Z"
   },
   {
    "duration": 36,
    "start_time": "2022-11-17T11:43:55.380Z"
   },
   {
    "duration": 18,
    "start_time": "2022-11-17T11:43:55.417Z"
   },
   {
    "duration": 5,
    "start_time": "2022-11-17T11:43:55.437Z"
   },
   {
    "duration": 35,
    "start_time": "2022-11-17T11:43:55.444Z"
   },
   {
    "duration": 14,
    "start_time": "2022-11-17T11:43:55.481Z"
   },
   {
    "duration": 12,
    "start_time": "2022-11-17T11:43:55.497Z"
   },
   {
    "duration": 8,
    "start_time": "2022-11-17T11:43:55.511Z"
   },
   {
    "duration": 7,
    "start_time": "2022-11-17T11:43:55.521Z"
   },
   {
    "duration": 4,
    "start_time": "2022-11-17T11:43:55.530Z"
   },
   {
    "duration": 53,
    "start_time": "2022-11-17T11:43:55.536Z"
   },
   {
    "duration": 53,
    "start_time": "2022-11-17T11:43:55.591Z"
   },
   {
    "duration": 90,
    "start_time": "2022-11-17T11:43:55.646Z"
   },
   {
    "duration": 8,
    "start_time": "2022-11-17T11:43:55.738Z"
   },
   {
    "duration": 7,
    "start_time": "2022-11-17T11:43:55.748Z"
   },
   {
    "duration": 28,
    "start_time": "2022-11-17T11:43:55.757Z"
   },
   {
    "duration": 7,
    "start_time": "2022-11-17T11:43:55.786Z"
   },
   {
    "duration": 201,
    "start_time": "2022-11-17T11:43:55.796Z"
   },
   {
    "duration": 276,
    "start_time": "2022-11-17T11:43:55.999Z"
   },
   {
    "duration": 275,
    "start_time": "2022-11-17T11:43:56.278Z"
   },
   {
    "duration": 26,
    "start_time": "2022-11-17T11:43:56.555Z"
   },
   {
    "duration": 14,
    "start_time": "2022-11-17T11:43:56.582Z"
   },
   {
    "duration": 5,
    "start_time": "2022-11-17T11:43:56.598Z"
   },
   {
    "duration": 258,
    "start_time": "2022-11-17T11:43:56.605Z"
   },
   {
    "duration": 17,
    "start_time": "2022-11-17T11:43:56.865Z"
   },
   {
    "duration": 287,
    "start_time": "2022-11-17T11:43:56.884Z"
   },
   {
    "duration": 15,
    "start_time": "2022-11-17T11:43:57.173Z"
   },
   {
    "duration": 257,
    "start_time": "2022-11-17T11:43:57.190Z"
   },
   {
    "duration": 7,
    "start_time": "2022-11-17T11:43:57.448Z"
   },
   {
    "duration": 25,
    "start_time": "2022-11-17T11:43:57.457Z"
   },
   {
    "duration": 68,
    "start_time": "2022-11-17T11:43:57.484Z"
   },
   {
    "duration": 20,
    "start_time": "2022-11-17T11:43:57.553Z"
   },
   {
    "duration": 30,
    "start_time": "2022-11-17T11:43:57.574Z"
   },
   {
    "duration": 4421,
    "start_time": "2022-11-17T11:43:57.606Z"
   },
   {
    "duration": 109,
    "start_time": "2022-11-17T11:44:02.029Z"
   },
   {
    "duration": 8,
    "start_time": "2022-11-17T11:44:02.140Z"
   },
   {
    "duration": 18,
    "start_time": "2022-11-17T11:44:02.150Z"
   },
   {
    "duration": 17,
    "start_time": "2022-11-17T11:44:02.170Z"
   },
   {
    "duration": 7,
    "start_time": "2022-11-17T11:44:02.189Z"
   },
   {
    "duration": 12,
    "start_time": "2022-11-17T11:44:02.198Z"
   },
   {
    "duration": 51,
    "start_time": "2022-11-17T11:44:02.212Z"
   },
   {
    "duration": 76,
    "start_time": "2022-11-17T11:46:20.111Z"
   },
   {
    "duration": 88,
    "start_time": "2022-11-17T11:46:30.617Z"
   },
   {
    "duration": 86,
    "start_time": "2022-11-17T11:46:49.101Z"
   },
   {
    "duration": 173,
    "start_time": "2022-11-17T11:48:16.764Z"
   },
   {
    "duration": 91,
    "start_time": "2022-11-17T11:50:06.950Z"
   },
   {
    "duration": 80,
    "start_time": "2022-11-17T11:52:59.045Z"
   },
   {
    "duration": 1329,
    "start_time": "2022-11-17T12:05:44.973Z"
   },
   {
    "duration": 62,
    "start_time": "2022-11-17T12:05:46.304Z"
   },
   {
    "duration": 3,
    "start_time": "2022-11-17T12:05:46.368Z"
   },
   {
    "duration": 23,
    "start_time": "2022-11-17T12:05:46.373Z"
   },
   {
    "duration": 15,
    "start_time": "2022-11-17T12:05:46.399Z"
   },
   {
    "duration": 6,
    "start_time": "2022-11-17T12:05:46.415Z"
   },
   {
    "duration": 13,
    "start_time": "2022-11-17T12:05:46.423Z"
   },
   {
    "duration": 40,
    "start_time": "2022-11-17T12:05:46.438Z"
   },
   {
    "duration": 17,
    "start_time": "2022-11-17T12:05:46.480Z"
   },
   {
    "duration": 10,
    "start_time": "2022-11-17T12:05:46.499Z"
   },
   {
    "duration": 3,
    "start_time": "2022-11-17T12:05:46.511Z"
   },
   {
    "duration": 63,
    "start_time": "2022-11-17T12:05:46.516Z"
   },
   {
    "duration": 19,
    "start_time": "2022-11-17T12:05:46.581Z"
   },
   {
    "duration": 6,
    "start_time": "2022-11-17T12:05:46.603Z"
   },
   {
    "duration": 16,
    "start_time": "2022-11-17T12:05:46.610Z"
   },
   {
    "duration": 15,
    "start_time": "2022-11-17T12:05:46.628Z"
   },
   {
    "duration": 38,
    "start_time": "2022-11-17T12:05:46.645Z"
   },
   {
    "duration": 7,
    "start_time": "2022-11-17T12:05:46.685Z"
   },
   {
    "duration": 9,
    "start_time": "2022-11-17T12:05:46.693Z"
   },
   {
    "duration": 3,
    "start_time": "2022-11-17T12:05:46.704Z"
   },
   {
    "duration": 21,
    "start_time": "2022-11-17T12:05:46.709Z"
   },
   {
    "duration": 72,
    "start_time": "2022-11-17T12:05:46.732Z"
   },
   {
    "duration": 86,
    "start_time": "2022-11-17T12:05:46.806Z"
   },
   {
    "duration": 7,
    "start_time": "2022-11-17T12:05:46.894Z"
   },
   {
    "duration": 9,
    "start_time": "2022-11-17T12:05:46.903Z"
   },
   {
    "duration": 15,
    "start_time": "2022-11-17T12:05:46.913Z"
   },
   {
    "duration": 8,
    "start_time": "2022-11-17T12:05:46.930Z"
   },
   {
    "duration": 220,
    "start_time": "2022-11-17T12:05:46.940Z"
   },
   {
    "duration": 299,
    "start_time": "2022-11-17T12:05:47.162Z"
   },
   {
    "duration": 279,
    "start_time": "2022-11-17T12:05:47.462Z"
   },
   {
    "duration": 17,
    "start_time": "2022-11-17T12:05:47.742Z"
   },
   {
    "duration": 25,
    "start_time": "2022-11-17T12:05:47.761Z"
   },
   {
    "duration": 4,
    "start_time": "2022-11-17T12:05:47.788Z"
   },
   {
    "duration": 249,
    "start_time": "2022-11-17T12:05:47.793Z"
   },
   {
    "duration": 18,
    "start_time": "2022-11-17T12:05:48.043Z"
   },
   {
    "duration": 292,
    "start_time": "2022-11-17T12:05:48.063Z"
   },
   {
    "duration": 28,
    "start_time": "2022-11-17T12:05:48.357Z"
   },
   {
    "duration": 248,
    "start_time": "2022-11-17T12:05:48.386Z"
   },
   {
    "duration": 7,
    "start_time": "2022-11-17T12:05:48.636Z"
   },
   {
    "duration": 17,
    "start_time": "2022-11-17T12:05:48.644Z"
   },
   {
    "duration": 54,
    "start_time": "2022-11-17T12:05:48.679Z"
   },
   {
    "duration": 14,
    "start_time": "2022-11-17T12:05:48.734Z"
   },
   {
    "duration": 39,
    "start_time": "2022-11-17T12:05:48.750Z"
   },
   {
    "duration": 2540,
    "start_time": "2022-11-17T12:05:48.791Z"
   },
   {
    "duration": 103,
    "start_time": "2022-11-17T12:05:51.334Z"
   },
   {
    "duration": 5,
    "start_time": "2022-11-17T12:05:51.438Z"
   },
   {
    "duration": 16,
    "start_time": "2022-11-17T12:05:51.445Z"
   },
   {
    "duration": 21,
    "start_time": "2022-11-17T12:05:51.463Z"
   },
   {
    "duration": 7,
    "start_time": "2022-11-17T12:05:51.486Z"
   },
   {
    "duration": 12,
    "start_time": "2022-11-17T12:05:51.495Z"
   },
   {
    "duration": 103,
    "start_time": "2022-11-17T12:05:51.509Z"
   },
   {
    "duration": 200,
    "start_time": "2022-11-17T12:10:08.979Z"
   },
   {
    "duration": 79,
    "start_time": "2022-11-17T12:11:25.374Z"
   },
   {
    "duration": 17,
    "start_time": "2022-11-17T12:11:29.606Z"
   },
   {
    "duration": 361,
    "start_time": "2022-11-17T12:11:36.217Z"
   },
   {
    "duration": 20,
    "start_time": "2022-11-17T12:12:18.349Z"
   },
   {
    "duration": 22,
    "start_time": "2022-11-17T12:12:33.620Z"
   },
   {
    "duration": 15,
    "start_time": "2022-11-17T12:12:48.450Z"
   },
   {
    "duration": 106,
    "start_time": "2022-11-17T12:14:58.489Z"
   },
   {
    "duration": 16,
    "start_time": "2022-11-17T12:15:05.550Z"
   },
   {
    "duration": 11,
    "start_time": "2022-11-17T13:19:17.784Z"
   },
   {
    "duration": 219,
    "start_time": "2022-11-17T13:19:48.456Z"
   },
   {
    "duration": 10,
    "start_time": "2022-11-17T13:19:53.474Z"
   },
   {
    "duration": 5,
    "start_time": "2022-11-17T13:20:21.389Z"
   },
   {
    "duration": 25,
    "start_time": "2022-11-17T13:25:31.826Z"
   },
   {
    "duration": 29,
    "start_time": "2022-11-17T13:25:36.611Z"
   },
   {
    "duration": 28,
    "start_time": "2022-11-17T13:26:20.797Z"
   },
   {
    "duration": 28,
    "start_time": "2022-11-17T13:26:42.347Z"
   },
   {
    "duration": 26,
    "start_time": "2022-11-17T13:26:53.812Z"
   },
   {
    "duration": 29,
    "start_time": "2022-11-17T13:27:06.845Z"
   },
   {
    "duration": 27,
    "start_time": "2022-11-17T13:27:22.049Z"
   },
   {
    "duration": 28,
    "start_time": "2022-11-17T13:27:32.350Z"
   },
   {
    "duration": 12,
    "start_time": "2022-11-17T13:30:40.844Z"
   },
   {
    "duration": 15,
    "start_time": "2022-11-17T13:30:44.591Z"
   },
   {
    "duration": 13,
    "start_time": "2022-11-17T13:31:51.694Z"
   },
   {
    "duration": 13,
    "start_time": "2022-11-17T13:31:52.286Z"
   },
   {
    "duration": 1315,
    "start_time": "2022-11-17T13:32:40.999Z"
   },
   {
    "duration": 64,
    "start_time": "2022-11-17T13:32:42.317Z"
   },
   {
    "duration": 3,
    "start_time": "2022-11-17T13:32:42.382Z"
   },
   {
    "duration": 26,
    "start_time": "2022-11-17T13:32:42.387Z"
   },
   {
    "duration": 16,
    "start_time": "2022-11-17T13:32:42.415Z"
   },
   {
    "duration": 6,
    "start_time": "2022-11-17T13:32:42.432Z"
   },
   {
    "duration": 16,
    "start_time": "2022-11-17T13:32:42.440Z"
   },
   {
    "duration": 11,
    "start_time": "2022-11-17T13:32:42.477Z"
   },
   {
    "duration": 17,
    "start_time": "2022-11-17T13:32:42.489Z"
   },
   {
    "duration": 10,
    "start_time": "2022-11-17T13:32:42.507Z"
   },
   {
    "duration": 3,
    "start_time": "2022-11-17T13:32:42.519Z"
   },
   {
    "duration": 63,
    "start_time": "2022-11-17T13:32:42.523Z"
   },
   {
    "duration": 19,
    "start_time": "2022-11-17T13:32:42.588Z"
   },
   {
    "duration": 6,
    "start_time": "2022-11-17T13:32:42.610Z"
   },
   {
    "duration": 11,
    "start_time": "2022-11-17T13:32:42.617Z"
   },
   {
    "duration": 15,
    "start_time": "2022-11-17T13:32:42.629Z"
   },
   {
    "duration": 10,
    "start_time": "2022-11-17T13:32:42.679Z"
   },
   {
    "duration": 8,
    "start_time": "2022-11-17T13:32:42.690Z"
   },
   {
    "duration": 8,
    "start_time": "2022-11-17T13:32:42.700Z"
   },
   {
    "duration": 6,
    "start_time": "2022-11-17T13:32:42.710Z"
   },
   {
    "duration": 18,
    "start_time": "2022-11-17T13:32:42.717Z"
   },
   {
    "duration": 84,
    "start_time": "2022-11-17T13:32:42.737Z"
   },
   {
    "duration": 101,
    "start_time": "2022-11-17T13:32:42.822Z"
   },
   {
    "duration": 8,
    "start_time": "2022-11-17T13:32:42.925Z"
   },
   {
    "duration": 10,
    "start_time": "2022-11-17T13:32:42.934Z"
   },
   {
    "duration": 14,
    "start_time": "2022-11-17T13:32:42.946Z"
   },
   {
    "duration": 21,
    "start_time": "2022-11-17T13:32:42.962Z"
   },
   {
    "duration": 213,
    "start_time": "2022-11-17T13:32:42.984Z"
   },
   {
    "duration": 271,
    "start_time": "2022-11-17T13:32:43.199Z"
   },
   {
    "duration": 270,
    "start_time": "2022-11-17T13:32:43.472Z"
   },
   {
    "duration": 17,
    "start_time": "2022-11-17T13:32:43.744Z"
   },
   {
    "duration": 25,
    "start_time": "2022-11-17T13:32:43.763Z"
   },
   {
    "duration": 5,
    "start_time": "2022-11-17T13:32:43.790Z"
   },
   {
    "duration": 256,
    "start_time": "2022-11-17T13:32:43.796Z"
   },
   {
    "duration": 37,
    "start_time": "2022-11-17T13:32:44.054Z"
   },
   {
    "duration": 315,
    "start_time": "2022-11-17T13:32:44.094Z"
   },
   {
    "duration": 13,
    "start_time": "2022-11-17T13:32:44.411Z"
   },
   {
    "duration": 244,
    "start_time": "2022-11-17T13:32:44.426Z"
   },
   {
    "duration": 10,
    "start_time": "2022-11-17T13:32:44.672Z"
   },
   {
    "duration": 25,
    "start_time": "2022-11-17T13:32:44.684Z"
   },
   {
    "duration": 53,
    "start_time": "2022-11-17T13:32:44.712Z"
   },
   {
    "duration": 20,
    "start_time": "2022-11-17T13:32:44.767Z"
   },
   {
    "duration": 27,
    "start_time": "2022-11-17T13:32:44.789Z"
   },
   {
    "duration": 2569,
    "start_time": "2022-11-17T13:32:44.817Z"
   },
   {
    "duration": 101,
    "start_time": "2022-11-17T13:32:47.388Z"
   },
   {
    "duration": 6,
    "start_time": "2022-11-17T13:32:47.491Z"
   },
   {
    "duration": 15,
    "start_time": "2022-11-17T13:32:47.498Z"
   },
   {
    "duration": 15,
    "start_time": "2022-11-17T13:32:47.515Z"
   },
   {
    "duration": 7,
    "start_time": "2022-11-17T13:32:47.532Z"
   },
   {
    "duration": 12,
    "start_time": "2022-11-17T13:32:47.541Z"
   },
   {
    "duration": 82,
    "start_time": "2022-11-17T13:32:47.579Z"
   },
   {
    "duration": 280,
    "start_time": "2022-11-17T13:32:47.677Z"
   },
   {
    "duration": 27,
    "start_time": "2022-11-17T13:32:47.958Z"
   },
   {
    "duration": 26,
    "start_time": "2022-11-17T13:32:47.987Z"
   },
   {
    "duration": 478,
    "start_time": "2022-11-17T13:32:48.015Z"
   },
   {
    "duration": 0,
    "start_time": "2022-11-17T13:32:48.495Z"
   },
   {
    "duration": 3230,
    "start_time": "2022-11-17T13:33:28.642Z"
   },
   {
    "duration": 27,
    "start_time": "2022-11-17T13:33:35.673Z"
   },
   {
    "duration": 1269,
    "start_time": "2022-11-17T13:33:55.028Z"
   },
   {
    "duration": 62,
    "start_time": "2022-11-17T13:33:56.299Z"
   },
   {
    "duration": 3,
    "start_time": "2022-11-17T13:33:56.363Z"
   },
   {
    "duration": 42,
    "start_time": "2022-11-17T13:33:56.369Z"
   },
   {
    "duration": 43,
    "start_time": "2022-11-17T13:33:56.412Z"
   },
   {
    "duration": 29,
    "start_time": "2022-11-17T13:33:56.457Z"
   },
   {
    "duration": 17,
    "start_time": "2022-11-17T13:33:56.488Z"
   },
   {
    "duration": 26,
    "start_time": "2022-11-17T13:33:56.507Z"
   },
   {
    "duration": 26,
    "start_time": "2022-11-17T13:33:56.535Z"
   },
   {
    "duration": 27,
    "start_time": "2022-11-17T13:33:56.564Z"
   },
   {
    "duration": 7,
    "start_time": "2022-11-17T13:33:56.592Z"
   },
   {
    "duration": 59,
    "start_time": "2022-11-17T13:33:56.601Z"
   },
   {
    "duration": 18,
    "start_time": "2022-11-17T13:33:56.661Z"
   },
   {
    "duration": 6,
    "start_time": "2022-11-17T13:33:56.681Z"
   },
   {
    "duration": 15,
    "start_time": "2022-11-17T13:33:56.688Z"
   },
   {
    "duration": 21,
    "start_time": "2022-11-17T13:33:56.704Z"
   },
   {
    "duration": 47,
    "start_time": "2022-11-17T13:33:56.727Z"
   },
   {
    "duration": 21,
    "start_time": "2022-11-17T13:33:56.776Z"
   },
   {
    "duration": 28,
    "start_time": "2022-11-17T13:33:56.799Z"
   },
   {
    "duration": 23,
    "start_time": "2022-11-17T13:33:56.829Z"
   },
   {
    "duration": 53,
    "start_time": "2022-11-17T13:33:56.853Z"
   },
   {
    "duration": 78,
    "start_time": "2022-11-17T13:33:56.907Z"
   },
   {
    "duration": 91,
    "start_time": "2022-11-17T13:33:56.987Z"
   },
   {
    "duration": 8,
    "start_time": "2022-11-17T13:33:57.080Z"
   },
   {
    "duration": 9,
    "start_time": "2022-11-17T13:33:57.090Z"
   },
   {
    "duration": 13,
    "start_time": "2022-11-17T13:33:57.100Z"
   },
   {
    "duration": 8,
    "start_time": "2022-11-17T13:33:57.115Z"
   },
   {
    "duration": 216,
    "start_time": "2022-11-17T13:33:57.126Z"
   },
   {
    "duration": 277,
    "start_time": "2022-11-17T13:33:57.344Z"
   },
   {
    "duration": 274,
    "start_time": "2022-11-17T13:33:57.622Z"
   },
   {
    "duration": 16,
    "start_time": "2022-11-17T13:33:57.898Z"
   },
   {
    "duration": 13,
    "start_time": "2022-11-17T13:33:57.916Z"
   },
   {
    "duration": 5,
    "start_time": "2022-11-17T13:33:57.931Z"
   },
   {
    "duration": 241,
    "start_time": "2022-11-17T13:33:57.938Z"
   },
   {
    "duration": 17,
    "start_time": "2022-11-17T13:33:58.181Z"
   },
   {
    "duration": 297,
    "start_time": "2022-11-17T13:33:58.199Z"
   },
   {
    "duration": 13,
    "start_time": "2022-11-17T13:33:58.497Z"
   },
   {
    "duration": 258,
    "start_time": "2022-11-17T13:33:58.512Z"
   },
   {
    "duration": 11,
    "start_time": "2022-11-17T13:33:58.771Z"
   },
   {
    "duration": 28,
    "start_time": "2022-11-17T13:33:58.784Z"
   },
   {
    "duration": 80,
    "start_time": "2022-11-17T13:33:58.813Z"
   },
   {
    "duration": 14,
    "start_time": "2022-11-17T13:33:58.894Z"
   },
   {
    "duration": 19,
    "start_time": "2022-11-17T13:33:58.910Z"
   },
   {
    "duration": 2621,
    "start_time": "2022-11-17T13:33:58.930Z"
   },
   {
    "duration": 147,
    "start_time": "2022-11-17T13:34:01.554Z"
   },
   {
    "duration": 6,
    "start_time": "2022-11-17T13:34:01.702Z"
   },
   {
    "duration": 39,
    "start_time": "2022-11-17T13:34:01.710Z"
   },
   {
    "duration": 29,
    "start_time": "2022-11-17T13:34:01.751Z"
   },
   {
    "duration": 13,
    "start_time": "2022-11-17T13:34:01.782Z"
   },
   {
    "duration": 26,
    "start_time": "2022-11-17T13:34:01.797Z"
   },
   {
    "duration": 90,
    "start_time": "2022-11-17T13:34:01.825Z"
   },
   {
    "duration": 287,
    "start_time": "2022-11-17T13:34:01.917Z"
   },
   {
    "duration": 16,
    "start_time": "2022-11-17T13:34:02.206Z"
   },
   {
    "duration": 27,
    "start_time": "2022-11-17T13:34:02.224Z"
   },
   {
    "duration": 2426,
    "start_time": "2022-11-17T13:34:02.253Z"
   },
   {
    "duration": 513,
    "start_time": "2022-11-17T13:34:04.682Z"
   },
   {
    "duration": 0,
    "start_time": "2022-11-17T13:34:05.197Z"
   },
   {
    "duration": 165,
    "start_time": "2022-11-17T13:37:42.807Z"
   },
   {
    "duration": 7,
    "start_time": "2022-11-17T13:37:47.916Z"
   },
   {
    "duration": 73,
    "start_time": "2022-11-17T13:37:48.807Z"
   },
   {
    "duration": 27,
    "start_time": "2022-11-17T13:44:01.852Z"
   },
   {
    "duration": 16,
    "start_time": "2022-11-17T13:44:15.094Z"
   },
   {
    "duration": 1339,
    "start_time": "2022-11-17T13:44:20.195Z"
   },
   {
    "duration": 146,
    "start_time": "2022-11-17T13:44:30.791Z"
   },
   {
    "duration": 57,
    "start_time": "2022-11-17T13:45:31.099Z"
   },
   {
    "duration": 5,
    "start_time": "2022-11-17T13:45:31.158Z"
   },
   {
    "duration": 82,
    "start_time": "2022-11-17T13:45:31.773Z"
   },
   {
    "duration": 17,
    "start_time": "2022-11-17T13:46:37.833Z"
   },
   {
    "duration": 27,
    "start_time": "2022-11-17T13:51:50.443Z"
   },
   {
    "duration": 10502,
    "start_time": "2022-11-17T13:52:06.234Z"
   },
   {
    "duration": 5,
    "start_time": "2022-11-17T13:54:18.935Z"
   },
   {
    "duration": 82,
    "start_time": "2022-11-17T13:54:19.768Z"
   },
   {
    "duration": 92,
    "start_time": "2022-11-17T13:55:26.761Z"
   },
   {
    "duration": 25,
    "start_time": "2022-11-17T13:56:33.243Z"
   },
   {
    "duration": 4,
    "start_time": "2022-11-17T13:56:38.254Z"
   },
   {
    "duration": 11519,
    "start_time": "2022-11-17T13:56:39.171Z"
   },
   {
    "duration": 25,
    "start_time": "2022-11-17T13:57:52.798Z"
   },
   {
    "duration": 10909,
    "start_time": "2022-11-17T13:58:04.464Z"
   },
   {
    "duration": 17,
    "start_time": "2022-11-17T14:02:39.812Z"
   },
   {
    "duration": 1358,
    "start_time": "2022-11-17T14:03:57.268Z"
   },
   {
    "duration": 69,
    "start_time": "2022-11-17T14:03:58.628Z"
   },
   {
    "duration": 4,
    "start_time": "2022-11-17T14:03:58.698Z"
   },
   {
    "duration": 31,
    "start_time": "2022-11-17T14:03:58.704Z"
   },
   {
    "duration": 15,
    "start_time": "2022-11-17T14:03:58.738Z"
   },
   {
    "duration": 6,
    "start_time": "2022-11-17T14:03:58.755Z"
   },
   {
    "duration": 27,
    "start_time": "2022-11-17T14:03:58.762Z"
   },
   {
    "duration": 18,
    "start_time": "2022-11-17T14:03:58.791Z"
   },
   {
    "duration": 18,
    "start_time": "2022-11-17T14:03:58.811Z"
   },
   {
    "duration": 11,
    "start_time": "2022-11-17T14:03:58.831Z"
   },
   {
    "duration": 3,
    "start_time": "2022-11-17T14:03:58.844Z"
   },
   {
    "duration": 42,
    "start_time": "2022-11-17T14:03:58.880Z"
   },
   {
    "duration": 18,
    "start_time": "2022-11-17T14:03:58.924Z"
   },
   {
    "duration": 33,
    "start_time": "2022-11-17T14:03:58.945Z"
   },
   {
    "duration": 16,
    "start_time": "2022-11-17T14:03:58.980Z"
   },
   {
    "duration": 14,
    "start_time": "2022-11-17T14:03:58.998Z"
   },
   {
    "duration": 12,
    "start_time": "2022-11-17T14:03:59.013Z"
   },
   {
    "duration": 10,
    "start_time": "2022-11-17T14:03:59.027Z"
   },
   {
    "duration": 49,
    "start_time": "2022-11-17T14:03:59.039Z"
   },
   {
    "duration": 9,
    "start_time": "2022-11-17T14:03:59.090Z"
   },
   {
    "duration": 22,
    "start_time": "2022-11-17T14:03:59.101Z"
   },
   {
    "duration": 64,
    "start_time": "2022-11-17T14:03:59.124Z"
   },
   {
    "duration": 127,
    "start_time": "2022-11-17T14:03:59.190Z"
   },
   {
    "duration": 0,
    "start_time": "2022-11-17T14:03:59.319Z"
   },
   {
    "duration": 0,
    "start_time": "2022-11-17T14:03:59.320Z"
   },
   {
    "duration": 0,
    "start_time": "2022-11-17T14:03:59.322Z"
   },
   {
    "duration": 0,
    "start_time": "2022-11-17T14:03:59.322Z"
   },
   {
    "duration": 0,
    "start_time": "2022-11-17T14:03:59.324Z"
   },
   {
    "duration": 0,
    "start_time": "2022-11-17T14:03:59.325Z"
   },
   {
    "duration": 0,
    "start_time": "2022-11-17T14:03:59.326Z"
   },
   {
    "duration": 0,
    "start_time": "2022-11-17T14:03:59.327Z"
   },
   {
    "duration": 0,
    "start_time": "2022-11-17T14:03:59.328Z"
   },
   {
    "duration": 0,
    "start_time": "2022-11-17T14:03:59.329Z"
   },
   {
    "duration": 0,
    "start_time": "2022-11-17T14:03:59.330Z"
   },
   {
    "duration": 0,
    "start_time": "2022-11-17T14:03:59.331Z"
   },
   {
    "duration": 0,
    "start_time": "2022-11-17T14:03:59.332Z"
   },
   {
    "duration": 0,
    "start_time": "2022-11-17T14:03:59.333Z"
   },
   {
    "duration": 0,
    "start_time": "2022-11-17T14:03:59.335Z"
   },
   {
    "duration": 0,
    "start_time": "2022-11-17T14:03:59.336Z"
   },
   {
    "duration": 0,
    "start_time": "2022-11-17T14:03:59.337Z"
   },
   {
    "duration": 0,
    "start_time": "2022-11-17T14:03:59.338Z"
   },
   {
    "duration": 0,
    "start_time": "2022-11-17T14:03:59.339Z"
   },
   {
    "duration": 0,
    "start_time": "2022-11-17T14:03:59.377Z"
   },
   {
    "duration": 0,
    "start_time": "2022-11-17T14:03:59.378Z"
   },
   {
    "duration": 0,
    "start_time": "2022-11-17T14:03:59.380Z"
   },
   {
    "duration": 0,
    "start_time": "2022-11-17T14:03:59.381Z"
   },
   {
    "duration": 0,
    "start_time": "2022-11-17T14:03:59.382Z"
   },
   {
    "duration": 0,
    "start_time": "2022-11-17T14:03:59.383Z"
   },
   {
    "duration": 0,
    "start_time": "2022-11-17T14:03:59.385Z"
   },
   {
    "duration": 0,
    "start_time": "2022-11-17T14:03:59.386Z"
   },
   {
    "duration": 0,
    "start_time": "2022-11-17T14:03:59.387Z"
   },
   {
    "duration": 0,
    "start_time": "2022-11-17T14:03:59.388Z"
   },
   {
    "duration": 0,
    "start_time": "2022-11-17T14:03:59.390Z"
   },
   {
    "duration": 0,
    "start_time": "2022-11-17T14:03:59.391Z"
   },
   {
    "duration": 0,
    "start_time": "2022-11-17T14:03:59.392Z"
   },
   {
    "duration": 0,
    "start_time": "2022-11-17T14:03:59.393Z"
   },
   {
    "duration": 0,
    "start_time": "2022-11-17T14:03:59.394Z"
   },
   {
    "duration": 0,
    "start_time": "2022-11-17T14:03:59.395Z"
   },
   {
    "duration": 0,
    "start_time": "2022-11-17T14:03:59.396Z"
   },
   {
    "duration": 0,
    "start_time": "2022-11-17T14:03:59.397Z"
   },
   {
    "duration": 0,
    "start_time": "2022-11-17T14:03:59.399Z"
   },
   {
    "duration": 1308,
    "start_time": "2022-11-17T14:04:57.725Z"
   },
   {
    "duration": 73,
    "start_time": "2022-11-17T14:04:59.036Z"
   },
   {
    "duration": 3,
    "start_time": "2022-11-17T14:04:59.111Z"
   },
   {
    "duration": 25,
    "start_time": "2022-11-17T14:04:59.116Z"
   },
   {
    "duration": 15,
    "start_time": "2022-11-17T14:04:59.143Z"
   },
   {
    "duration": 23,
    "start_time": "2022-11-17T14:04:59.160Z"
   },
   {
    "duration": 11,
    "start_time": "2022-11-17T14:04:59.186Z"
   },
   {
    "duration": 11,
    "start_time": "2022-11-17T14:04:59.198Z"
   },
   {
    "duration": 17,
    "start_time": "2022-11-17T14:04:59.211Z"
   },
   {
    "duration": 9,
    "start_time": "2022-11-17T14:04:59.230Z"
   },
   {
    "duration": 3,
    "start_time": "2022-11-17T14:04:59.241Z"
   },
   {
    "duration": 73,
    "start_time": "2022-11-17T14:04:59.246Z"
   },
   {
    "duration": 20,
    "start_time": "2022-11-17T14:04:59.322Z"
   },
   {
    "duration": 6,
    "start_time": "2022-11-17T14:04:59.344Z"
   },
   {
    "duration": 38,
    "start_time": "2022-11-17T14:04:59.352Z"
   },
   {
    "duration": 17,
    "start_time": "2022-11-17T14:04:59.393Z"
   },
   {
    "duration": 10,
    "start_time": "2022-11-17T14:04:59.411Z"
   },
   {
    "duration": 10,
    "start_time": "2022-11-17T14:04:59.423Z"
   },
   {
    "duration": 10,
    "start_time": "2022-11-17T14:04:59.434Z"
   },
   {
    "duration": 35,
    "start_time": "2022-11-17T14:04:59.446Z"
   },
   {
    "duration": 20,
    "start_time": "2022-11-17T14:04:59.484Z"
   },
   {
    "duration": 50,
    "start_time": "2022-11-17T14:04:59.506Z"
   },
   {
    "duration": 97,
    "start_time": "2022-11-17T14:04:59.558Z"
   },
   {
    "duration": 8,
    "start_time": "2022-11-17T14:04:59.657Z"
   },
   {
    "duration": 8,
    "start_time": "2022-11-17T14:04:59.679Z"
   },
   {
    "duration": 21,
    "start_time": "2022-11-17T14:04:59.690Z"
   },
   {
    "duration": 7,
    "start_time": "2022-11-17T14:04:59.713Z"
   },
   {
    "duration": 242,
    "start_time": "2022-11-17T14:04:59.724Z"
   },
   {
    "duration": 301,
    "start_time": "2022-11-17T14:04:59.967Z"
   },
   {
    "duration": 301,
    "start_time": "2022-11-17T14:05:00.270Z"
   },
   {
    "duration": 23,
    "start_time": "2022-11-17T14:05:00.578Z"
   },
   {
    "duration": 38,
    "start_time": "2022-11-17T14:05:00.602Z"
   },
   {
    "duration": 19,
    "start_time": "2022-11-17T14:05:00.642Z"
   },
   {
    "duration": 265,
    "start_time": "2022-11-17T14:05:00.662Z"
   },
   {
    "duration": 17,
    "start_time": "2022-11-17T14:05:00.929Z"
   },
   {
    "duration": 332,
    "start_time": "2022-11-17T14:05:00.986Z"
   },
   {
    "duration": 15,
    "start_time": "2022-11-17T14:05:01.321Z"
   },
   {
    "duration": 287,
    "start_time": "2022-11-17T14:05:01.337Z"
   },
   {
    "duration": 10,
    "start_time": "2022-11-17T14:05:01.625Z"
   },
   {
    "duration": 26,
    "start_time": "2022-11-17T14:05:01.636Z"
   },
   {
    "duration": 77,
    "start_time": "2022-11-17T14:05:01.664Z"
   },
   {
    "duration": 14,
    "start_time": "2022-11-17T14:05:01.743Z"
   },
   {
    "duration": 23,
    "start_time": "2022-11-17T14:05:01.758Z"
   },
   {
    "duration": 3027,
    "start_time": "2022-11-17T14:05:01.783Z"
   },
   {
    "duration": 112,
    "start_time": "2022-11-17T14:05:04.813Z"
   },
   {
    "duration": 6,
    "start_time": "2022-11-17T14:05:04.927Z"
   },
   {
    "duration": 17,
    "start_time": "2022-11-17T14:05:04.934Z"
   },
   {
    "duration": 32,
    "start_time": "2022-11-17T14:05:04.952Z"
   },
   {
    "duration": 10,
    "start_time": "2022-11-17T14:05:04.986Z"
   },
   {
    "duration": 16,
    "start_time": "2022-11-17T14:05:04.997Z"
   },
   {
    "duration": 111,
    "start_time": "2022-11-17T14:05:05.015Z"
   },
   {
    "duration": 308,
    "start_time": "2022-11-17T14:05:05.128Z"
   },
   {
    "duration": 19,
    "start_time": "2022-11-17T14:05:05.439Z"
   },
   {
    "duration": 40,
    "start_time": "2022-11-17T14:05:05.461Z"
   },
   {
    "duration": 2443,
    "start_time": "2022-11-17T14:05:05.503Z"
   },
   {
    "duration": 439,
    "start_time": "2022-11-17T14:05:07.948Z"
   },
   {
    "duration": 9,
    "start_time": "2022-11-17T14:05:08.390Z"
   },
   {
    "duration": 95,
    "start_time": "2022-11-17T14:05:08.401Z"
   },
   {
    "duration": 106,
    "start_time": "2022-11-17T14:05:08.498Z"
   },
   {
    "duration": 11550,
    "start_time": "2022-11-17T14:05:08.606Z"
   },
   {
    "duration": 43,
    "start_time": "2022-11-17T14:05:20.159Z"
   },
   {
    "duration": 189,
    "start_time": "2022-11-17T15:09:18.749Z"
   },
   {
    "duration": 1206,
    "start_time": "2022-11-17T15:11:03.795Z"
   },
   {
    "duration": 1234,
    "start_time": "2022-11-17T15:12:21.503Z"
   },
   {
    "duration": 6,
    "start_time": "2022-11-17T15:12:32.869Z"
   },
   {
    "duration": 3,
    "start_time": "2022-11-17T15:12:38.725Z"
   },
   {
    "duration": 46,
    "start_time": "2022-11-17T15:14:18.989Z"
   },
   {
    "duration": 31,
    "start_time": "2022-11-17T15:16:40.749Z"
   },
   {
    "duration": 38,
    "start_time": "2022-11-17T15:16:57.005Z"
   },
   {
    "duration": 129,
    "start_time": "2022-11-17T15:19:04.759Z"
   },
   {
    "duration": 107,
    "start_time": "2022-11-17T15:19:26.761Z"
   },
   {
    "duration": 29,
    "start_time": "2022-11-17T15:20:57.763Z"
   },
   {
    "duration": 30,
    "start_time": "2022-11-17T15:21:06.398Z"
   },
   {
    "duration": 31,
    "start_time": "2022-11-17T15:21:37.577Z"
   },
   {
    "duration": 1248,
    "start_time": "2022-11-17T15:22:09.355Z"
   },
   {
    "duration": 25,
    "start_time": "2022-11-17T15:22:21.030Z"
   },
   {
    "duration": 1147,
    "start_time": "2022-11-17T15:22:31.474Z"
   },
   {
    "duration": 66,
    "start_time": "2022-11-17T15:22:35.502Z"
   },
   {
    "duration": 34,
    "start_time": "2022-11-17T15:23:04.243Z"
   },
   {
    "duration": 87,
    "start_time": "2022-11-17T15:24:16.223Z"
   },
   {
    "duration": 21,
    "start_time": "2022-11-17T15:26:46.305Z"
   },
   {
    "duration": 111,
    "start_time": "2022-11-17T15:26:50.246Z"
   },
   {
    "duration": 22,
    "start_time": "2022-11-17T15:27:01.176Z"
   },
   {
    "duration": 17,
    "start_time": "2022-11-17T15:27:38.290Z"
   },
   {
    "duration": 22,
    "start_time": "2022-11-17T15:27:39.013Z"
   },
   {
    "duration": 16,
    "start_time": "2022-11-17T15:28:27.017Z"
   },
   {
    "duration": 21,
    "start_time": "2022-11-17T15:28:27.654Z"
   },
   {
    "duration": 32,
    "start_time": "2022-11-17T15:29:22.675Z"
   },
   {
    "duration": 17,
    "start_time": "2022-11-17T15:29:39.954Z"
   },
   {
    "duration": 82,
    "start_time": "2022-11-17T15:29:48.655Z"
   },
   {
    "duration": 16,
    "start_time": "2022-11-17T15:32:06.599Z"
   },
   {
    "duration": 4,
    "start_time": "2022-11-17T15:32:30.235Z"
   },
   {
    "duration": 18,
    "start_time": "2022-11-17T15:32:36.209Z"
   },
   {
    "duration": 6,
    "start_time": "2022-11-17T15:33:04.042Z"
   },
   {
    "duration": 61,
    "start_time": "2022-11-17T15:33:08.223Z"
   },
   {
    "duration": 3,
    "start_time": "2022-11-17T15:33:48.795Z"
   },
   {
    "duration": 54,
    "start_time": "2022-11-17T15:33:52.060Z"
   },
   {
    "duration": 16,
    "start_time": "2022-11-17T15:34:14.153Z"
   },
   {
    "duration": 16,
    "start_time": "2022-11-17T15:34:14.708Z"
   },
   {
    "duration": 3,
    "start_time": "2022-11-17T15:34:17.213Z"
   },
   {
    "duration": 61,
    "start_time": "2022-11-17T15:34:19.197Z"
   },
   {
    "duration": 23,
    "start_time": "2022-11-17T15:35:32.421Z"
   },
   {
    "duration": 17,
    "start_time": "2022-11-17T15:35:49.310Z"
   },
   {
    "duration": 21,
    "start_time": "2022-11-17T15:35:49.889Z"
   },
   {
    "duration": 16,
    "start_time": "2022-11-17T15:39:14.687Z"
   },
   {
    "duration": 21,
    "start_time": "2022-11-17T15:39:25.533Z"
   },
   {
    "duration": 8,
    "start_time": "2022-11-17T15:39:45.398Z"
   },
   {
    "duration": 13,
    "start_time": "2022-11-17T15:40:49.360Z"
   },
   {
    "duration": 14,
    "start_time": "2022-11-17T15:41:21.082Z"
   },
   {
    "duration": 17,
    "start_time": "2022-11-17T15:41:32.724Z"
   },
   {
    "duration": 26,
    "start_time": "2022-11-17T15:41:33.422Z"
   },
   {
    "duration": 1312,
    "start_time": "2022-11-17T15:50:12.579Z"
   },
   {
    "duration": 76,
    "start_time": "2022-11-17T15:50:13.893Z"
   },
   {
    "duration": 4,
    "start_time": "2022-11-17T15:50:13.971Z"
   },
   {
    "duration": 33,
    "start_time": "2022-11-17T15:50:13.978Z"
   },
   {
    "duration": 18,
    "start_time": "2022-11-17T15:50:14.014Z"
   },
   {
    "duration": 7,
    "start_time": "2022-11-17T15:50:14.035Z"
   },
   {
    "duration": 33,
    "start_time": "2022-11-17T15:50:14.045Z"
   },
   {
    "duration": 15,
    "start_time": "2022-11-17T15:50:14.080Z"
   },
   {
    "duration": 31,
    "start_time": "2022-11-17T15:50:14.097Z"
   },
   {
    "duration": 13,
    "start_time": "2022-11-17T15:50:14.133Z"
   },
   {
    "duration": 20,
    "start_time": "2022-11-17T15:50:14.148Z"
   },
   {
    "duration": 58,
    "start_time": "2022-11-17T15:50:14.178Z"
   },
   {
    "duration": 20,
    "start_time": "2022-11-17T15:50:14.237Z"
   },
   {
    "duration": 20,
    "start_time": "2022-11-17T15:50:14.258Z"
   },
   {
    "duration": 9,
    "start_time": "2022-11-17T15:50:14.280Z"
   },
   {
    "duration": 19,
    "start_time": "2022-11-17T15:50:14.291Z"
   },
   {
    "duration": 10,
    "start_time": "2022-11-17T15:50:14.312Z"
   },
   {
    "duration": 8,
    "start_time": "2022-11-17T15:50:14.323Z"
   },
   {
    "duration": 10,
    "start_time": "2022-11-17T15:50:14.333Z"
   },
   {
    "duration": 35,
    "start_time": "2022-11-17T15:50:14.345Z"
   },
   {
    "duration": 22,
    "start_time": "2022-11-17T15:50:14.382Z"
   },
   {
    "duration": 51,
    "start_time": "2022-11-17T15:50:14.405Z"
   },
   {
    "duration": 86,
    "start_time": "2022-11-17T15:50:14.458Z"
   },
   {
    "duration": 7,
    "start_time": "2022-11-17T15:50:14.546Z"
   },
   {
    "duration": 23,
    "start_time": "2022-11-17T15:50:14.556Z"
   },
   {
    "duration": 13,
    "start_time": "2022-11-17T15:50:14.581Z"
   },
   {
    "duration": 7,
    "start_time": "2022-11-17T15:50:14.596Z"
   },
   {
    "duration": 215,
    "start_time": "2022-11-17T15:50:14.607Z"
   },
   {
    "duration": 272,
    "start_time": "2022-11-17T15:50:14.823Z"
   },
   {
    "duration": 277,
    "start_time": "2022-11-17T15:50:15.097Z"
   },
   {
    "duration": 16,
    "start_time": "2022-11-17T15:50:15.376Z"
   },
   {
    "duration": 12,
    "start_time": "2022-11-17T15:50:15.393Z"
   },
   {
    "duration": 4,
    "start_time": "2022-11-17T15:50:15.406Z"
   },
   {
    "duration": 245,
    "start_time": "2022-11-17T15:50:15.412Z"
   },
   {
    "duration": 27,
    "start_time": "2022-11-17T15:50:15.659Z"
   },
   {
    "duration": 281,
    "start_time": "2022-11-17T15:50:15.688Z"
   },
   {
    "duration": 17,
    "start_time": "2022-11-17T15:50:15.971Z"
   },
   {
    "duration": 242,
    "start_time": "2022-11-17T15:50:15.990Z"
   },
   {
    "duration": 8,
    "start_time": "2022-11-17T15:50:16.233Z"
   },
   {
    "duration": 39,
    "start_time": "2022-11-17T15:50:16.243Z"
   },
   {
    "duration": 54,
    "start_time": "2022-11-17T15:50:16.283Z"
   },
   {
    "duration": 13,
    "start_time": "2022-11-17T15:50:16.339Z"
   },
   {
    "duration": 36,
    "start_time": "2022-11-17T15:50:16.354Z"
   },
   {
    "duration": 17,
    "start_time": "2022-11-17T15:50:16.392Z"
   },
   {
    "duration": 2557,
    "start_time": "2022-11-17T15:50:16.411Z"
   },
   {
    "duration": 150,
    "start_time": "2022-11-17T15:50:18.970Z"
   },
   {
    "duration": 6,
    "start_time": "2022-11-17T15:50:19.122Z"
   },
   {
    "duration": 37,
    "start_time": "2022-11-17T15:50:19.130Z"
   },
   {
    "duration": 22,
    "start_time": "2022-11-17T15:50:19.169Z"
   },
   {
    "duration": 18,
    "start_time": "2022-11-17T15:50:19.193Z"
   },
   {
    "duration": 25,
    "start_time": "2022-11-17T15:50:19.212Z"
   },
   {
    "duration": 101,
    "start_time": "2022-11-17T15:50:19.239Z"
   },
   {
    "duration": 286,
    "start_time": "2022-11-17T15:50:19.342Z"
   },
   {
    "duration": 17,
    "start_time": "2022-11-17T15:50:19.630Z"
   },
   {
    "duration": 30,
    "start_time": "2022-11-17T15:50:19.649Z"
   },
   {
    "duration": 2343,
    "start_time": "2022-11-17T15:50:19.681Z"
   },
   {
    "duration": 375,
    "start_time": "2022-11-17T15:50:22.026Z"
   },
   {
    "duration": 6,
    "start_time": "2022-11-17T15:50:22.403Z"
   },
   {
    "duration": 79,
    "start_time": "2022-11-17T15:50:22.410Z"
   },
   {
    "duration": 95,
    "start_time": "2022-11-17T15:50:22.491Z"
   },
   {
    "duration": 10743,
    "start_time": "2022-11-17T15:50:22.588Z"
   },
   {
    "duration": 46,
    "start_time": "2022-11-17T15:50:33.333Z"
   },
   {
    "duration": 8,
    "start_time": "2022-11-17T15:50:33.381Z"
   },
   {
    "duration": 18,
    "start_time": "2022-11-17T15:50:33.391Z"
   },
   {
    "duration": 74,
    "start_time": "2022-11-17T15:50:33.410Z"
   },
   {
    "duration": 134,
    "start_time": "2022-11-17T15:50:33.485Z"
   },
   {
    "duration": 73,
    "start_time": "2022-11-17T15:50:33.621Z"
   },
   {
    "duration": 28,
    "start_time": "2022-11-17T15:50:33.695Z"
   },
   {
    "duration": 1526,
    "start_time": "2022-11-18T18:13:11.155Z"
   },
   {
    "duration": 109,
    "start_time": "2022-11-18T18:13:12.683Z"
   },
   {
    "duration": 3,
    "start_time": "2022-11-18T18:13:12.794Z"
   },
   {
    "duration": 22,
    "start_time": "2022-11-18T18:13:12.799Z"
   },
   {
    "duration": 15,
    "start_time": "2022-11-18T18:13:12.823Z"
   },
   {
    "duration": 8,
    "start_time": "2022-11-18T18:13:12.840Z"
   },
   {
    "duration": 23,
    "start_time": "2022-11-18T18:13:12.850Z"
   },
   {
    "duration": 12,
    "start_time": "2022-11-18T18:13:12.875Z"
   },
   {
    "duration": 17,
    "start_time": "2022-11-18T18:13:12.889Z"
   },
   {
    "duration": 28,
    "start_time": "2022-11-18T18:13:12.910Z"
   },
   {
    "duration": 3,
    "start_time": "2022-11-18T18:13:12.940Z"
   },
   {
    "duration": 34,
    "start_time": "2022-11-18T18:13:12.945Z"
   },
   {
    "duration": 16,
    "start_time": "2022-11-18T18:13:12.981Z"
   },
   {
    "duration": 37,
    "start_time": "2022-11-18T18:13:12.999Z"
   },
   {
    "duration": 9,
    "start_time": "2022-11-18T18:13:13.037Z"
   },
   {
    "duration": 16,
    "start_time": "2022-11-18T18:13:13.047Z"
   },
   {
    "duration": 9,
    "start_time": "2022-11-18T18:13:13.065Z"
   },
   {
    "duration": 11,
    "start_time": "2022-11-18T18:13:13.075Z"
   },
   {
    "duration": 8,
    "start_time": "2022-11-18T18:13:13.088Z"
   },
   {
    "duration": 38,
    "start_time": "2022-11-18T18:13:13.097Z"
   },
   {
    "duration": 19,
    "start_time": "2022-11-18T18:13:13.137Z"
   },
   {
    "duration": 46,
    "start_time": "2022-11-18T18:13:13.158Z"
   },
   {
    "duration": 81,
    "start_time": "2022-11-18T18:13:13.205Z"
   },
   {
    "duration": 7,
    "start_time": "2022-11-18T18:13:13.288Z"
   },
   {
    "duration": 13,
    "start_time": "2022-11-18T18:13:13.296Z"
   },
   {
    "duration": 31,
    "start_time": "2022-11-18T18:13:13.310Z"
   },
   {
    "duration": 6,
    "start_time": "2022-11-18T18:13:13.342Z"
   },
   {
    "duration": 206,
    "start_time": "2022-11-18T18:13:13.352Z"
   },
   {
    "duration": 253,
    "start_time": "2022-11-18T18:13:13.559Z"
   },
   {
    "duration": 262,
    "start_time": "2022-11-18T18:13:13.814Z"
   },
   {
    "duration": 15,
    "start_time": "2022-11-18T18:13:14.077Z"
   },
   {
    "duration": 11,
    "start_time": "2022-11-18T18:13:14.094Z"
   },
   {
    "duration": 28,
    "start_time": "2022-11-18T18:13:14.107Z"
   },
   {
    "duration": 217,
    "start_time": "2022-11-18T18:13:14.137Z"
   },
   {
    "duration": 22,
    "start_time": "2022-11-18T18:13:14.356Z"
   },
   {
    "duration": 346,
    "start_time": "2022-11-18T18:13:14.380Z"
   },
   {
    "duration": 16,
    "start_time": "2022-11-18T18:13:14.727Z"
   },
   {
    "duration": 240,
    "start_time": "2022-11-18T18:13:14.745Z"
   },
   {
    "duration": 7,
    "start_time": "2022-11-18T18:13:14.987Z"
   },
   {
    "duration": 18,
    "start_time": "2022-11-18T18:13:14.995Z"
   },
   {
    "duration": 68,
    "start_time": "2022-11-18T18:13:15.015Z"
   },
   {
    "duration": 16,
    "start_time": "2022-11-18T18:13:15.085Z"
   },
   {
    "duration": 47,
    "start_time": "2022-11-18T18:13:15.103Z"
   },
   {
    "duration": 34,
    "start_time": "2022-11-18T18:13:15.152Z"
   },
   {
    "duration": 4278,
    "start_time": "2022-11-18T18:13:15.188Z"
   },
   {
    "duration": 126,
    "start_time": "2022-11-18T18:13:19.468Z"
   },
   {
    "duration": 6,
    "start_time": "2022-11-18T18:13:19.596Z"
   },
   {
    "duration": 18,
    "start_time": "2022-11-18T18:13:19.603Z"
   },
   {
    "duration": 23,
    "start_time": "2022-11-18T18:13:19.623Z"
   },
   {
    "duration": 7,
    "start_time": "2022-11-18T18:13:19.647Z"
   },
   {
    "duration": 13,
    "start_time": "2022-11-18T18:13:19.655Z"
   },
   {
    "duration": 101,
    "start_time": "2022-11-18T18:13:19.669Z"
   },
   {
    "duration": 290,
    "start_time": "2022-11-18T18:13:19.772Z"
   },
   {
    "duration": 18,
    "start_time": "2022-11-18T18:13:20.064Z"
   },
   {
    "duration": 16,
    "start_time": "2022-11-18T18:13:20.084Z"
   },
   {
    "duration": 2766,
    "start_time": "2022-11-18T18:13:20.102Z"
   },
   {
    "duration": 484,
    "start_time": "2022-11-18T18:13:22.870Z"
   },
   {
    "duration": 7,
    "start_time": "2022-11-18T18:13:23.356Z"
   },
   {
    "duration": 79,
    "start_time": "2022-11-18T18:13:23.365Z"
   },
   {
    "duration": 116,
    "start_time": "2022-11-18T18:13:23.445Z"
   },
   {
    "duration": 9687,
    "start_time": "2022-11-18T18:13:23.562Z"
   },
   {
    "duration": 16,
    "start_time": "2022-11-18T18:13:33.252Z"
   },
   {
    "duration": 8,
    "start_time": "2022-11-18T18:13:33.269Z"
   },
   {
    "duration": 68,
    "start_time": "2022-11-18T18:13:33.278Z"
   },
   {
    "duration": 19,
    "start_time": "2022-11-18T18:13:33.347Z"
   },
   {
    "duration": 176,
    "start_time": "2022-11-18T18:13:33.367Z"
   },
   {
    "duration": 15,
    "start_time": "2022-11-18T18:13:33.545Z"
   },
   {
    "duration": 34,
    "start_time": "2022-11-18T18:18:21.930Z"
   },
   {
    "duration": 4,
    "start_time": "2022-11-18T18:19:48.511Z"
   },
   {
    "duration": 4,
    "start_time": "2022-11-18T18:22:55.223Z"
   },
   {
    "duration": 1155,
    "start_time": "2022-11-18T18:27:43.906Z"
   },
   {
    "duration": 8,
    "start_time": "2022-11-18T18:28:23.899Z"
   },
   {
    "duration": 7,
    "start_time": "2022-11-18T18:28:40.602Z"
   },
   {
    "duration": 8,
    "start_time": "2022-11-18T18:28:51.461Z"
   },
   {
    "duration": 8,
    "start_time": "2022-11-18T18:36:35.665Z"
   },
   {
    "duration": 40,
    "start_time": "2022-11-18T18:39:08.970Z"
   },
   {
    "duration": 46,
    "start_time": "2022-11-18T18:39:24.782Z"
   },
   {
    "duration": 14,
    "start_time": "2022-11-18T18:39:42.954Z"
   },
   {
    "duration": 23,
    "start_time": "2022-11-18T18:39:56.922Z"
   },
   {
    "duration": 5,
    "start_time": "2022-11-18T18:41:45.528Z"
   },
   {
    "duration": 6,
    "start_time": "2022-11-18T18:41:52.354Z"
   },
   {
    "duration": 31,
    "start_time": "2022-11-18T18:44:14.509Z"
   },
   {
    "duration": 33,
    "start_time": "2022-11-18T18:45:05.458Z"
   },
   {
    "duration": 4,
    "start_time": "2022-11-18T18:48:28.697Z"
   },
   {
    "duration": 23,
    "start_time": "2022-11-18T18:48:32.578Z"
   },
   {
    "duration": 19,
    "start_time": "2022-11-18T18:49:16.688Z"
   },
   {
    "duration": 17,
    "start_time": "2022-11-18T18:54:25.571Z"
   },
   {
    "duration": 37,
    "start_time": "2022-11-18T18:55:36.654Z"
   },
   {
    "duration": 44,
    "start_time": "2022-11-18T18:55:48.033Z"
   },
   {
    "duration": 27,
    "start_time": "2022-11-18T18:57:44.723Z"
   },
   {
    "duration": 7,
    "start_time": "2022-11-18T19:01:25.076Z"
   },
   {
    "duration": 7,
    "start_time": "2022-11-18T19:01:25.684Z"
   },
   {
    "duration": 7,
    "start_time": "2022-11-18T19:01:26.265Z"
   },
   {
    "duration": 8,
    "start_time": "2022-11-18T19:01:42.568Z"
   },
   {
    "duration": 4,
    "start_time": "2022-11-18T19:03:13.974Z"
   },
   {
    "duration": 3,
    "start_time": "2022-11-18T19:03:23.073Z"
   },
   {
    "duration": 5,
    "start_time": "2022-11-18T19:03:38.186Z"
   },
   {
    "duration": 488,
    "start_time": "2022-11-18T19:04:07.672Z"
   },
   {
    "duration": 4,
    "start_time": "2022-11-18T19:04:53.563Z"
   },
   {
    "duration": 34,
    "start_time": "2022-11-18T19:06:09.241Z"
   },
   {
    "duration": 10,
    "start_time": "2022-11-18T19:07:10.013Z"
   },
   {
    "duration": 17,
    "start_time": "2022-11-18T19:07:36.908Z"
   },
   {
    "duration": 15,
    "start_time": "2022-11-18T19:08:14.456Z"
   },
   {
    "duration": 15,
    "start_time": "2022-11-18T19:15:10.557Z"
   },
   {
    "duration": 17,
    "start_time": "2022-11-18T19:15:46.484Z"
   },
   {
    "duration": 15,
    "start_time": "2022-11-18T19:16:07.842Z"
   },
   {
    "duration": 14,
    "start_time": "2022-11-18T19:16:46.212Z"
   },
   {
    "duration": 17,
    "start_time": "2022-11-18T19:16:54.100Z"
   },
   {
    "duration": 19,
    "start_time": "2022-11-18T19:18:00.512Z"
   },
   {
    "duration": 17,
    "start_time": "2022-11-18T19:18:09.779Z"
   },
   {
    "duration": 19,
    "start_time": "2022-11-18T19:20:02.636Z"
   },
   {
    "duration": 15,
    "start_time": "2022-11-18T19:22:03.179Z"
   },
   {
    "duration": 16,
    "start_time": "2022-11-18T19:24:53.073Z"
   },
   {
    "duration": 14,
    "start_time": "2022-11-18T19:25:38.290Z"
   },
   {
    "duration": 14,
    "start_time": "2022-11-18T19:27:43.090Z"
   },
   {
    "duration": 15,
    "start_time": "2022-11-18T19:31:10.436Z"
   },
   {
    "duration": 15,
    "start_time": "2022-11-18T19:31:44.733Z"
   },
   {
    "duration": 18,
    "start_time": "2022-11-18T19:31:52.491Z"
   },
   {
    "duration": 15,
    "start_time": "2022-11-18T19:31:58.716Z"
   },
   {
    "duration": 15,
    "start_time": "2022-11-18T19:32:11.611Z"
   },
   {
    "duration": 15,
    "start_time": "2022-11-18T19:32:22.728Z"
   },
   {
    "duration": 21,
    "start_time": "2022-11-18T19:32:32.537Z"
   },
   {
    "duration": 447,
    "start_time": "2022-11-18T19:32:51.973Z"
   },
   {
    "duration": 762,
    "start_time": "2022-11-18T19:34:05.583Z"
   },
   {
    "duration": 14,
    "start_time": "2022-11-18T19:34:36.413Z"
   },
   {
    "duration": 14,
    "start_time": "2022-11-18T19:35:18.633Z"
   },
   {
    "duration": 892,
    "start_time": "2022-11-18T19:50:49.702Z"
   },
   {
    "duration": 729,
    "start_time": "2022-11-18T19:51:37.025Z"
   },
   {
    "duration": 705,
    "start_time": "2022-11-18T19:51:42.740Z"
   },
   {
    "duration": 12,
    "start_time": "2022-11-18T19:52:57.043Z"
   },
   {
    "duration": 11,
    "start_time": "2022-11-18T19:52:57.923Z"
   },
   {
    "duration": 230,
    "start_time": "2022-11-18T19:53:13.305Z"
   },
   {
    "duration": 5,
    "start_time": "2022-11-18T19:54:40.593Z"
   },
   {
    "duration": 17,
    "start_time": "2022-11-18T19:57:42.572Z"
   },
   {
    "duration": 68,
    "start_time": "2022-11-18T19:58:39.409Z"
   },
   {
    "duration": 25,
    "start_time": "2022-11-18T20:10:20.868Z"
   },
   {
    "duration": 3463,
    "start_time": "2022-11-18T20:10:40.007Z"
   },
   {
    "duration": 17,
    "start_time": "2022-11-18T20:14:49.297Z"
   },
   {
    "duration": 18,
    "start_time": "2022-11-18T20:16:43.448Z"
   },
   {
    "duration": 8606,
    "start_time": "2022-11-18T20:19:25.250Z"
   },
   {
    "duration": 1228,
    "start_time": "2022-11-18T20:29:43.921Z"
   },
   {
    "duration": 65,
    "start_time": "2022-11-18T20:29:45.150Z"
   },
   {
    "duration": 3,
    "start_time": "2022-11-18T20:29:45.216Z"
   },
   {
    "duration": 20,
    "start_time": "2022-11-18T20:29:45.221Z"
   },
   {
    "duration": 14,
    "start_time": "2022-11-18T20:29:45.243Z"
   },
   {
    "duration": 5,
    "start_time": "2022-11-18T20:29:45.258Z"
   },
   {
    "duration": 12,
    "start_time": "2022-11-18T20:29:45.264Z"
   },
   {
    "duration": 10,
    "start_time": "2022-11-18T20:29:45.278Z"
   },
   {
    "duration": 52,
    "start_time": "2022-11-18T20:29:45.290Z"
   },
   {
    "duration": 9,
    "start_time": "2022-11-18T20:29:45.344Z"
   },
   {
    "duration": 3,
    "start_time": "2022-11-18T20:29:45.354Z"
   },
   {
    "duration": 42,
    "start_time": "2022-11-18T20:29:45.358Z"
   },
   {
    "duration": 36,
    "start_time": "2022-11-18T20:29:45.401Z"
   },
   {
    "duration": 6,
    "start_time": "2022-11-18T20:29:45.439Z"
   },
   {
    "duration": 13,
    "start_time": "2022-11-18T20:29:45.446Z"
   },
   {
    "duration": 12,
    "start_time": "2022-11-18T20:29:45.461Z"
   },
   {
    "duration": 12,
    "start_time": "2022-11-18T20:29:45.475Z"
   },
   {
    "duration": 6,
    "start_time": "2022-11-18T20:29:45.489Z"
   },
   {
    "duration": 42,
    "start_time": "2022-11-18T20:29:45.497Z"
   },
   {
    "duration": 3,
    "start_time": "2022-11-18T20:29:45.541Z"
   },
   {
    "duration": 16,
    "start_time": "2022-11-18T20:29:45.546Z"
   },
   {
    "duration": 44,
    "start_time": "2022-11-18T20:29:45.564Z"
   },
   {
    "duration": 92,
    "start_time": "2022-11-18T20:29:45.610Z"
   },
   {
    "duration": 6,
    "start_time": "2022-11-18T20:29:45.704Z"
   },
   {
    "duration": 24,
    "start_time": "2022-11-18T20:29:45.712Z"
   },
   {
    "duration": 23,
    "start_time": "2022-11-18T20:29:45.738Z"
   },
   {
    "duration": 10,
    "start_time": "2022-11-18T20:29:45.763Z"
   },
   {
    "duration": 186,
    "start_time": "2022-11-18T20:29:45.777Z"
   },
   {
    "duration": 275,
    "start_time": "2022-11-18T20:29:45.965Z"
   },
   {
    "duration": 273,
    "start_time": "2022-11-18T20:29:46.242Z"
   },
   {
    "duration": 30,
    "start_time": "2022-11-18T20:29:46.517Z"
   },
   {
    "duration": 14,
    "start_time": "2022-11-18T20:29:46.549Z"
   },
   {
    "duration": 9,
    "start_time": "2022-11-18T20:29:46.565Z"
   },
   {
    "duration": 248,
    "start_time": "2022-11-18T20:29:46.575Z"
   },
   {
    "duration": 20,
    "start_time": "2022-11-18T20:29:46.825Z"
   },
   {
    "duration": 326,
    "start_time": "2022-11-18T20:29:46.846Z"
   },
   {
    "duration": 13,
    "start_time": "2022-11-18T20:29:47.173Z"
   },
   {
    "duration": 229,
    "start_time": "2022-11-18T20:29:47.187Z"
   },
   {
    "duration": 6,
    "start_time": "2022-11-18T20:29:47.418Z"
   },
   {
    "duration": 18,
    "start_time": "2022-11-18T20:29:47.435Z"
   },
   {
    "duration": 13,
    "start_time": "2022-11-18T20:29:47.454Z"
   },
   {
    "duration": 18,
    "start_time": "2022-11-18T20:29:47.468Z"
   },
   {
    "duration": 68,
    "start_time": "2022-11-18T20:29:47.487Z"
   },
   {
    "duration": 12,
    "start_time": "2022-11-18T20:29:47.556Z"
   },
   {
    "duration": 14,
    "start_time": "2022-11-18T20:29:47.569Z"
   },
   {
    "duration": 8,
    "start_time": "2022-11-18T20:29:47.584Z"
   },
   {
    "duration": 2376,
    "start_time": "2022-11-18T20:29:47.593Z"
   },
   {
    "duration": 162,
    "start_time": "2022-11-18T20:29:49.971Z"
   },
   {
    "duration": 7,
    "start_time": "2022-11-18T20:29:50.135Z"
   },
   {
    "duration": 47,
    "start_time": "2022-11-18T20:29:50.144Z"
   },
   {
    "duration": 39,
    "start_time": "2022-11-18T20:29:50.193Z"
   },
   {
    "duration": 12,
    "start_time": "2022-11-18T20:29:50.234Z"
   },
   {
    "duration": 40,
    "start_time": "2022-11-18T20:29:50.247Z"
   },
   {
    "duration": 100,
    "start_time": "2022-11-18T20:29:50.288Z"
   },
   {
    "duration": 291,
    "start_time": "2022-11-18T20:29:50.390Z"
   },
   {
    "duration": 17,
    "start_time": "2022-11-18T20:29:50.682Z"
   },
   {
    "duration": 37,
    "start_time": "2022-11-18T20:29:50.700Z"
   },
   {
    "duration": 2119,
    "start_time": "2022-11-18T20:29:50.738Z"
   },
   {
    "duration": 335,
    "start_time": "2022-11-18T20:29:52.859Z"
   },
   {
    "duration": 5,
    "start_time": "2022-11-18T20:29:53.196Z"
   },
   {
    "duration": 75,
    "start_time": "2022-11-18T20:29:53.203Z"
   },
   {
    "duration": 89,
    "start_time": "2022-11-18T20:29:53.280Z"
   },
   {
    "duration": 9884,
    "start_time": "2022-11-18T20:29:53.371Z"
   },
   {
    "duration": 23,
    "start_time": "2022-11-18T20:30:03.257Z"
   },
   {
    "duration": 58,
    "start_time": "2022-11-18T20:30:03.282Z"
   },
   {
    "duration": 17,
    "start_time": "2022-11-18T20:30:03.342Z"
   },
   {
    "duration": 84,
    "start_time": "2022-11-18T20:30:03.361Z"
   },
   {
    "duration": 193,
    "start_time": "2022-11-18T20:30:03.448Z"
   },
   {
    "duration": 17,
    "start_time": "2022-11-18T20:30:03.643Z"
   },
   {
    "duration": 98,
    "start_time": "2022-11-18T20:30:03.662Z"
   },
   {
    "duration": 5,
    "start_time": "2022-11-18T20:30:03.762Z"
   },
   {
    "duration": 79,
    "start_time": "2022-11-18T20:30:03.769Z"
   },
   {
    "duration": 82,
    "start_time": "2022-11-18T20:30:03.850Z"
   },
   {
    "duration": 20,
    "start_time": "2022-11-18T20:30:03.934Z"
   },
   {
    "duration": 8950,
    "start_time": "2022-11-18T20:30:03.956Z"
   },
   {
    "duration": 62,
    "start_time": "2022-11-18T20:30:41.672Z"
   },
   {
    "duration": 3952,
    "start_time": "2022-11-19T09:56:54.887Z"
   },
   {
    "duration": 236,
    "start_time": "2022-11-19T09:56:58.841Z"
   },
   {
    "duration": 3,
    "start_time": "2022-11-19T09:56:59.079Z"
   },
   {
    "duration": 21,
    "start_time": "2022-11-19T09:56:59.084Z"
   },
   {
    "duration": 34,
    "start_time": "2022-11-19T09:56:59.106Z"
   },
   {
    "duration": 6,
    "start_time": "2022-11-19T09:56:59.142Z"
   },
   {
    "duration": 9,
    "start_time": "2022-11-19T09:56:59.150Z"
   },
   {
    "duration": 12,
    "start_time": "2022-11-19T09:56:59.160Z"
   },
   {
    "duration": 55,
    "start_time": "2022-11-19T09:56:59.174Z"
   },
   {
    "duration": 12,
    "start_time": "2022-11-19T09:56:59.234Z"
   },
   {
    "duration": 3,
    "start_time": "2022-11-19T09:56:59.247Z"
   },
   {
    "duration": 82,
    "start_time": "2022-11-19T09:56:59.252Z"
   },
   {
    "duration": 20,
    "start_time": "2022-11-19T09:56:59.335Z"
   },
   {
    "duration": 5,
    "start_time": "2022-11-19T09:56:59.357Z"
   },
   {
    "duration": 9,
    "start_time": "2022-11-19T09:56:59.363Z"
   },
   {
    "duration": 19,
    "start_time": "2022-11-19T09:56:59.422Z"
   },
   {
    "duration": 9,
    "start_time": "2022-11-19T09:56:59.443Z"
   },
   {
    "duration": 7,
    "start_time": "2022-11-19T09:56:59.453Z"
   },
   {
    "duration": 12,
    "start_time": "2022-11-19T09:56:59.461Z"
   },
   {
    "duration": 4,
    "start_time": "2022-11-19T09:56:59.475Z"
   },
   {
    "duration": 43,
    "start_time": "2022-11-19T09:56:59.480Z"
   },
   {
    "duration": 54,
    "start_time": "2022-11-19T09:56:59.526Z"
   },
   {
    "duration": 84,
    "start_time": "2022-11-19T09:56:59.581Z"
   },
   {
    "duration": 7,
    "start_time": "2022-11-19T09:56:59.667Z"
   },
   {
    "duration": 7,
    "start_time": "2022-11-19T09:56:59.676Z"
   },
   {
    "duration": 13,
    "start_time": "2022-11-19T09:56:59.685Z"
   },
   {
    "duration": 22,
    "start_time": "2022-11-19T09:56:59.700Z"
   },
   {
    "duration": 218,
    "start_time": "2022-11-19T09:56:59.728Z"
   },
   {
    "duration": 265,
    "start_time": "2022-11-19T09:56:59.948Z"
   },
   {
    "duration": 286,
    "start_time": "2022-11-19T09:57:00.222Z"
   },
   {
    "duration": 20,
    "start_time": "2022-11-19T09:57:00.509Z"
   },
   {
    "duration": 34,
    "start_time": "2022-11-19T09:57:00.532Z"
   },
   {
    "duration": 51,
    "start_time": "2022-11-19T09:57:00.568Z"
   },
   {
    "duration": 296,
    "start_time": "2022-11-19T09:57:00.621Z"
   },
   {
    "duration": 21,
    "start_time": "2022-11-19T09:57:00.919Z"
   },
   {
    "duration": 299,
    "start_time": "2022-11-19T09:57:00.941Z"
   },
   {
    "duration": 12,
    "start_time": "2022-11-19T09:57:01.241Z"
   },
   {
    "duration": 260,
    "start_time": "2022-11-19T09:57:01.255Z"
   },
   {
    "duration": 13,
    "start_time": "2022-11-19T09:57:01.517Z"
   },
   {
    "duration": 49,
    "start_time": "2022-11-19T09:57:01.533Z"
   },
   {
    "duration": 22,
    "start_time": "2022-11-19T09:57:01.584Z"
   },
   {
    "duration": 43,
    "start_time": "2022-11-19T09:57:01.607Z"
   },
   {
    "duration": 130,
    "start_time": "2022-11-19T09:57:01.651Z"
   },
   {
    "duration": 63,
    "start_time": "2022-11-19T09:57:01.783Z"
   },
   {
    "duration": 71,
    "start_time": "2022-11-19T09:57:01.848Z"
   },
   {
    "duration": 63,
    "start_time": "2022-11-19T09:57:01.921Z"
   },
   {
    "duration": 4357,
    "start_time": "2022-11-19T09:57:01.985Z"
   },
   {
    "duration": 109,
    "start_time": "2022-11-19T09:57:06.344Z"
   },
   {
    "duration": 4,
    "start_time": "2022-11-19T09:57:06.455Z"
   },
   {
    "duration": 16,
    "start_time": "2022-11-19T09:57:06.461Z"
   },
   {
    "duration": 14,
    "start_time": "2022-11-19T09:57:06.479Z"
   },
   {
    "duration": 7,
    "start_time": "2022-11-19T09:57:06.495Z"
   },
   {
    "duration": 17,
    "start_time": "2022-11-19T09:57:06.523Z"
   },
   {
    "duration": 93,
    "start_time": "2022-11-19T09:57:06.542Z"
   },
   {
    "duration": 274,
    "start_time": "2022-11-19T09:57:06.636Z"
   },
   {
    "duration": 33,
    "start_time": "2022-11-19T09:57:06.911Z"
   },
   {
    "duration": 18,
    "start_time": "2022-11-19T09:57:06.946Z"
   },
   {
    "duration": 2613,
    "start_time": "2022-11-19T09:57:06.966Z"
   },
   {
    "duration": 463,
    "start_time": "2022-11-19T09:57:09.581Z"
   },
   {
    "duration": 6,
    "start_time": "2022-11-19T09:57:10.046Z"
   },
   {
    "duration": 96,
    "start_time": "2022-11-19T09:57:10.053Z"
   },
   {
    "duration": 97,
    "start_time": "2022-11-19T09:57:10.151Z"
   },
   {
    "duration": 10416,
    "start_time": "2022-11-19T09:57:10.249Z"
   },
   {
    "duration": 16,
    "start_time": "2022-11-19T09:57:20.667Z"
   },
   {
    "duration": 46,
    "start_time": "2022-11-19T09:57:20.684Z"
   },
   {
    "duration": 29,
    "start_time": "2022-11-19T09:57:20.732Z"
   },
   {
    "duration": 66,
    "start_time": "2022-11-19T09:57:20.763Z"
   },
   {
    "duration": 143,
    "start_time": "2022-11-19T09:57:20.839Z"
   },
   {
    "duration": 47,
    "start_time": "2022-11-19T09:57:20.984Z"
   },
   {
    "duration": 50,
    "start_time": "2022-11-19T09:57:21.038Z"
   },
   {
    "duration": 5,
    "start_time": "2022-11-19T09:57:21.089Z"
   },
   {
    "duration": 35,
    "start_time": "2022-11-19T09:57:21.096Z"
   },
   {
    "duration": 53,
    "start_time": "2022-11-19T09:57:21.133Z"
   },
   {
    "duration": 44,
    "start_time": "2022-11-19T09:57:21.188Z"
   },
   {
    "duration": 64,
    "start_time": "2022-11-19T09:57:21.234Z"
   },
   {
    "duration": 2,
    "start_time": "2022-11-19T10:15:46.253Z"
   },
   {
    "duration": 25,
    "start_time": "2022-11-19T10:15:50.012Z"
   },
   {
    "duration": 16,
    "start_time": "2022-11-19T10:16:20.215Z"
   },
   {
    "duration": 24,
    "start_time": "2022-11-19T10:16:27.781Z"
   },
   {
    "duration": 24,
    "start_time": "2022-11-19T10:16:47.141Z"
   },
   {
    "duration": 271,
    "start_time": "2022-11-19T10:17:35.790Z"
   },
   {
    "duration": 14,
    "start_time": "2022-11-19T10:17:43.492Z"
   },
   {
    "duration": 27,
    "start_time": "2022-11-19T10:17:51.072Z"
   },
   {
    "duration": 26,
    "start_time": "2022-11-19T10:17:55.689Z"
   },
   {
    "duration": 21,
    "start_time": "2022-11-19T10:18:02.357Z"
   },
   {
    "duration": 22,
    "start_time": "2022-11-19T10:18:50.740Z"
   },
   {
    "duration": 30,
    "start_time": "2022-11-19T10:31:26.824Z"
   },
   {
    "duration": 14,
    "start_time": "2022-11-19T10:31:34.441Z"
   },
   {
    "duration": 12,
    "start_time": "2022-11-19T10:32:25.051Z"
   },
   {
    "duration": 16,
    "start_time": "2022-11-19T10:32:31.078Z"
   },
   {
    "duration": 5,
    "start_time": "2022-11-19T10:33:03.782Z"
   },
   {
    "duration": 1344,
    "start_time": "2022-11-19T10:38:56.242Z"
   },
   {
    "duration": 75,
    "start_time": "2022-11-19T10:38:57.588Z"
   },
   {
    "duration": 3,
    "start_time": "2022-11-19T10:38:57.666Z"
   },
   {
    "duration": 24,
    "start_time": "2022-11-19T10:38:57.671Z"
   },
   {
    "duration": 14,
    "start_time": "2022-11-19T10:38:57.697Z"
   },
   {
    "duration": 5,
    "start_time": "2022-11-19T10:38:57.712Z"
   },
   {
    "duration": 30,
    "start_time": "2022-11-19T10:38:57.728Z"
   },
   {
    "duration": 13,
    "start_time": "2022-11-19T10:38:57.760Z"
   },
   {
    "duration": 18,
    "start_time": "2022-11-19T10:38:57.777Z"
   },
   {
    "duration": 10,
    "start_time": "2022-11-19T10:38:57.797Z"
   },
   {
    "duration": 3,
    "start_time": "2022-11-19T10:38:57.808Z"
   },
   {
    "duration": 52,
    "start_time": "2022-11-19T10:38:57.813Z"
   },
   {
    "duration": 27,
    "start_time": "2022-11-19T10:38:57.870Z"
   },
   {
    "duration": 6,
    "start_time": "2022-11-19T10:38:57.900Z"
   },
   {
    "duration": 20,
    "start_time": "2022-11-19T10:38:57.908Z"
   },
   {
    "duration": 48,
    "start_time": "2022-11-19T10:38:57.930Z"
   },
   {
    "duration": 18,
    "start_time": "2022-11-19T10:38:57.980Z"
   },
   {
    "duration": 8,
    "start_time": "2022-11-19T10:38:58.000Z"
   },
   {
    "duration": 10,
    "start_time": "2022-11-19T10:38:58.009Z"
   },
   {
    "duration": 36,
    "start_time": "2022-11-19T10:38:58.025Z"
   },
   {
    "duration": 18,
    "start_time": "2022-11-19T10:38:58.062Z"
   },
   {
    "duration": 63,
    "start_time": "2022-11-19T10:38:58.082Z"
   },
   {
    "duration": 69,
    "start_time": "2022-11-19T10:38:58.149Z"
   },
   {
    "duration": 22,
    "start_time": "2022-11-19T10:38:58.220Z"
   },
   {
    "duration": 12,
    "start_time": "2022-11-19T10:38:58.249Z"
   },
   {
    "duration": 16,
    "start_time": "2022-11-19T10:38:58.263Z"
   },
   {
    "duration": 6,
    "start_time": "2022-11-19T10:38:58.283Z"
   },
   {
    "duration": 291,
    "start_time": "2022-11-19T10:38:58.291Z"
   },
   {
    "duration": 387,
    "start_time": "2022-11-19T10:38:58.584Z"
   },
   {
    "duration": 523,
    "start_time": "2022-11-19T10:38:58.973Z"
   },
   {
    "duration": 34,
    "start_time": "2022-11-19T10:38:59.498Z"
   },
   {
    "duration": 21,
    "start_time": "2022-11-19T10:38:59.534Z"
   },
   {
    "duration": 6,
    "start_time": "2022-11-19T10:38:59.557Z"
   },
   {
    "duration": 241,
    "start_time": "2022-11-19T10:38:59.565Z"
   },
   {
    "duration": 30,
    "start_time": "2022-11-19T10:38:59.808Z"
   },
   {
    "duration": 433,
    "start_time": "2022-11-19T10:38:59.840Z"
   },
   {
    "duration": 19,
    "start_time": "2022-11-19T10:39:00.276Z"
   },
   {
    "duration": 361,
    "start_time": "2022-11-19T10:39:00.298Z"
   },
   {
    "duration": 9,
    "start_time": "2022-11-19T10:39:00.662Z"
   },
   {
    "duration": 32,
    "start_time": "2022-11-19T10:39:00.673Z"
   },
   {
    "duration": 43,
    "start_time": "2022-11-19T10:39:00.707Z"
   },
   {
    "duration": 63,
    "start_time": "2022-11-19T10:39:00.752Z"
   },
   {
    "duration": 135,
    "start_time": "2022-11-19T10:39:00.817Z"
   },
   {
    "duration": 52,
    "start_time": "2022-11-19T10:39:00.954Z"
   },
   {
    "duration": 24,
    "start_time": "2022-11-19T10:39:01.008Z"
   },
   {
    "duration": 59,
    "start_time": "2022-11-19T10:39:01.034Z"
   },
   {
    "duration": 2748,
    "start_time": "2022-11-19T10:39:01.096Z"
   },
   {
    "duration": 317,
    "start_time": "2022-11-19T10:39:03.849Z"
   },
   {
    "duration": 9,
    "start_time": "2022-11-19T10:39:04.169Z"
   },
   {
    "duration": 97,
    "start_time": "2022-11-19T10:39:04.181Z"
   },
   {
    "duration": 27,
    "start_time": "2022-11-19T10:39:04.281Z"
   },
   {
    "duration": 25,
    "start_time": "2022-11-19T10:39:04.310Z"
   },
   {
    "duration": 38,
    "start_time": "2022-11-19T10:39:04.349Z"
   },
   {
    "duration": 145,
    "start_time": "2022-11-19T10:39:04.389Z"
   },
   {
    "duration": 342,
    "start_time": "2022-11-19T10:39:04.536Z"
   },
   {
    "duration": 20,
    "start_time": "2022-11-19T10:39:04.880Z"
   },
   {
    "duration": 46,
    "start_time": "2022-11-19T10:39:04.902Z"
   },
   {
    "duration": 2347,
    "start_time": "2022-11-19T10:39:04.951Z"
   },
   {
    "duration": 438,
    "start_time": "2022-11-19T10:39:07.301Z"
   },
   {
    "duration": 14,
    "start_time": "2022-11-19T10:39:07.743Z"
   },
   {
    "duration": 104,
    "start_time": "2022-11-19T10:39:07.760Z"
   },
   {
    "duration": 107,
    "start_time": "2022-11-19T10:39:07.867Z"
   },
   {
    "duration": 11758,
    "start_time": "2022-11-19T10:39:07.976Z"
   },
   {
    "duration": 21,
    "start_time": "2022-11-19T10:39:19.736Z"
   },
   {
    "duration": 15,
    "start_time": "2022-11-19T10:39:19.759Z"
   },
   {
    "duration": 66,
    "start_time": "2022-11-19T10:39:19.776Z"
   },
   {
    "duration": 98,
    "start_time": "2022-11-19T10:39:19.844Z"
   },
   {
    "duration": 223,
    "start_time": "2022-11-19T10:39:19.946Z"
   },
   {
    "duration": 19,
    "start_time": "2022-11-19T10:39:20.221Z"
   },
   {
    "duration": 115,
    "start_time": "2022-11-19T10:39:20.243Z"
   },
   {
    "duration": 5,
    "start_time": "2022-11-19T10:39:20.360Z"
   },
   {
    "duration": 26,
    "start_time": "2022-11-19T10:39:20.367Z"
   },
   {
    "duration": 70,
    "start_time": "2022-11-19T10:39:20.395Z"
   },
   {
    "duration": 44,
    "start_time": "2022-11-19T10:39:20.468Z"
   },
   {
    "duration": 91,
    "start_time": "2022-11-19T10:39:20.514Z"
   },
   {
    "duration": 80,
    "start_time": "2022-11-19T10:55:00.783Z"
   },
   {
    "duration": 103,
    "start_time": "2022-11-19T10:56:07.306Z"
   },
   {
    "duration": 9,
    "start_time": "2022-11-19T10:56:39.730Z"
   },
   {
    "duration": 10,
    "start_time": "2022-11-19T10:56:49.140Z"
   },
   {
    "duration": 67,
    "start_time": "2022-11-19T10:59:08.944Z"
   },
   {
    "duration": 14,
    "start_time": "2022-11-19T10:59:15.590Z"
   },
   {
    "duration": 16,
    "start_time": "2022-11-19T10:59:29.136Z"
   },
   {
    "duration": 15,
    "start_time": "2022-11-19T10:59:39.092Z"
   },
   {
    "duration": 1506,
    "start_time": "2022-11-19T11:06:38.416Z"
   },
   {
    "duration": 6,
    "start_time": "2022-11-19T11:14:40.594Z"
   },
   {
    "duration": 8,
    "start_time": "2022-11-19T11:15:20.690Z"
   },
   {
    "duration": 6,
    "start_time": "2022-11-19T11:16:00.305Z"
   },
   {
    "duration": 6,
    "start_time": "2022-11-19T11:16:10.022Z"
   },
   {
    "duration": 16,
    "start_time": "2022-11-19T11:20:13.344Z"
   },
   {
    "duration": 7,
    "start_time": "2022-11-19T11:20:54.586Z"
   },
   {
    "duration": 149,
    "start_time": "2022-11-19T11:22:29.481Z"
   },
   {
    "duration": 512,
    "start_time": "2022-11-19T11:22:41.513Z"
   },
   {
    "duration": 309,
    "start_time": "2022-11-19T11:25:01.291Z"
   },
   {
    "duration": 319,
    "start_time": "2022-11-19T11:25:12.604Z"
   },
   {
    "duration": 327,
    "start_time": "2022-11-19T11:27:26.531Z"
   },
   {
    "duration": 485,
    "start_time": "2022-11-19T11:28:06.136Z"
   },
   {
    "duration": 310,
    "start_time": "2022-11-19T11:30:04.882Z"
   },
   {
    "duration": 27,
    "start_time": "2022-11-19T11:31:11.223Z"
   },
   {
    "duration": 323,
    "start_time": "2022-11-19T11:31:24.410Z"
   },
   {
    "duration": 326,
    "start_time": "2022-11-19T11:34:36.586Z"
   },
   {
    "duration": 341,
    "start_time": "2022-11-19T11:37:50.221Z"
   },
   {
    "duration": 328,
    "start_time": "2022-11-19T11:37:57.777Z"
   },
   {
    "duration": 359,
    "start_time": "2022-11-19T11:38:14.209Z"
   },
   {
    "duration": 13,
    "start_time": "2022-11-19T11:47:28.176Z"
   },
   {
    "duration": 46,
    "start_time": "2022-11-19T11:47:36.225Z"
   },
   {
    "duration": 25,
    "start_time": "2022-11-19T11:47:45.755Z"
   },
   {
    "duration": 13,
    "start_time": "2022-11-19T11:48:48.079Z"
   },
   {
    "duration": 12,
    "start_time": "2022-11-19T11:49:01.087Z"
   },
   {
    "duration": 6,
    "start_time": "2022-11-19T11:49:30.352Z"
   },
   {
    "duration": 25,
    "start_time": "2022-11-19T11:49:35.848Z"
   },
   {
    "duration": 24,
    "start_time": "2022-11-19T11:51:11.589Z"
   },
   {
    "duration": 6,
    "start_time": "2022-11-19T11:51:22.189Z"
   },
   {
    "duration": 24,
    "start_time": "2022-11-19T11:51:22.989Z"
   },
   {
    "duration": 354,
    "start_time": "2022-11-19T11:56:51.833Z"
   },
   {
    "duration": 475,
    "start_time": "2022-11-19T11:59:24.040Z"
   },
   {
    "duration": 414,
    "start_time": "2022-11-19T12:05:49.849Z"
   },
   {
    "duration": 285,
    "start_time": "2022-11-19T12:06:50.541Z"
   },
   {
    "duration": 75,
    "start_time": "2022-11-19T12:07:50.777Z"
   },
   {
    "duration": 292,
    "start_time": "2022-11-19T12:08:10.840Z"
   },
   {
    "duration": 21,
    "start_time": "2022-11-19T12:27:21.695Z"
   },
   {
    "duration": 18,
    "start_time": "2022-11-19T12:27:30.396Z"
   },
   {
    "duration": 15,
    "start_time": "2022-11-19T12:27:36.404Z"
   },
   {
    "duration": 59,
    "start_time": "2022-11-20T14:31:53.414Z"
   },
   {
    "duration": 1506,
    "start_time": "2022-11-20T14:32:09.442Z"
   },
   {
    "duration": 227,
    "start_time": "2022-11-20T14:32:10.950Z"
   },
   {
    "duration": 4,
    "start_time": "2022-11-20T14:32:11.179Z"
   },
   {
    "duration": 25,
    "start_time": "2022-11-20T14:32:11.185Z"
   },
   {
    "duration": 18,
    "start_time": "2022-11-20T14:32:11.213Z"
   },
   {
    "duration": 9,
    "start_time": "2022-11-20T14:32:11.233Z"
   },
   {
    "duration": 19,
    "start_time": "2022-11-20T14:32:11.244Z"
   },
   {
    "duration": 14,
    "start_time": "2022-11-20T14:32:11.265Z"
   },
   {
    "duration": 43,
    "start_time": "2022-11-20T14:32:11.280Z"
   },
   {
    "duration": 21,
    "start_time": "2022-11-20T14:32:11.326Z"
   },
   {
    "duration": 3,
    "start_time": "2022-11-20T14:32:11.349Z"
   },
   {
    "duration": 39,
    "start_time": "2022-11-20T14:32:11.354Z"
   },
   {
    "duration": 40,
    "start_time": "2022-11-20T14:32:11.395Z"
   },
   {
    "duration": 9,
    "start_time": "2022-11-20T14:32:11.440Z"
   },
   {
    "duration": 12,
    "start_time": "2022-11-20T14:32:11.451Z"
   },
   {
    "duration": 14,
    "start_time": "2022-11-20T14:32:11.464Z"
   },
   {
    "duration": 42,
    "start_time": "2022-11-20T14:32:11.480Z"
   },
   {
    "duration": 8,
    "start_time": "2022-11-20T14:32:11.524Z"
   },
   {
    "duration": 20,
    "start_time": "2022-11-20T14:32:11.534Z"
   },
   {
    "duration": 6,
    "start_time": "2022-11-20T14:32:11.556Z"
   },
   {
    "duration": 18,
    "start_time": "2022-11-20T14:32:11.563Z"
   },
   {
    "duration": 75,
    "start_time": "2022-11-20T14:32:11.585Z"
   },
   {
    "duration": 93,
    "start_time": "2022-11-20T14:32:11.663Z"
   },
   {
    "duration": 8,
    "start_time": "2022-11-20T14:32:11.758Z"
   },
   {
    "duration": 9,
    "start_time": "2022-11-20T14:32:11.767Z"
   },
   {
    "duration": 15,
    "start_time": "2022-11-20T14:32:11.778Z"
   },
   {
    "duration": 7,
    "start_time": "2022-11-20T14:32:11.795Z"
   },
   {
    "duration": 211,
    "start_time": "2022-11-20T14:32:11.822Z"
   },
   {
    "duration": 270,
    "start_time": "2022-11-20T14:32:12.036Z"
   },
   {
    "duration": 302,
    "start_time": "2022-11-20T14:32:12.307Z"
   },
   {
    "duration": 28,
    "start_time": "2022-11-20T14:32:12.611Z"
   },
   {
    "duration": 15,
    "start_time": "2022-11-20T14:32:12.642Z"
   },
   {
    "duration": 5,
    "start_time": "2022-11-20T14:32:12.658Z"
   },
   {
    "duration": 254,
    "start_time": "2022-11-20T14:32:12.664Z"
   },
   {
    "duration": 20,
    "start_time": "2022-11-20T14:32:12.923Z"
   },
   {
    "duration": 358,
    "start_time": "2022-11-20T14:32:12.944Z"
   },
   {
    "duration": 32,
    "start_time": "2022-11-20T14:32:13.303Z"
   },
   {
    "duration": 262,
    "start_time": "2022-11-20T14:32:13.337Z"
   },
   {
    "duration": 7,
    "start_time": "2022-11-20T14:32:13.600Z"
   },
   {
    "duration": 36,
    "start_time": "2022-11-20T14:32:13.609Z"
   },
   {
    "duration": 21,
    "start_time": "2022-11-20T14:32:13.650Z"
   },
   {
    "duration": 14,
    "start_time": "2022-11-20T14:32:13.672Z"
   },
   {
    "duration": 100,
    "start_time": "2022-11-20T14:32:13.687Z"
   },
   {
    "duration": 16,
    "start_time": "2022-11-20T14:32:13.789Z"
   },
   {
    "duration": 27,
    "start_time": "2022-11-20T14:32:13.807Z"
   },
   {
    "duration": 11,
    "start_time": "2022-11-20T14:32:13.837Z"
   },
   {
    "duration": 4627,
    "start_time": "2022-11-20T14:32:13.849Z"
   },
   {
    "duration": 146,
    "start_time": "2022-11-20T14:32:18.478Z"
   },
   {
    "duration": 7,
    "start_time": "2022-11-20T14:32:18.626Z"
   },
   {
    "duration": 43,
    "start_time": "2022-11-20T14:32:18.635Z"
   },
   {
    "duration": 35,
    "start_time": "2022-11-20T14:32:18.680Z"
   },
   {
    "duration": 15,
    "start_time": "2022-11-20T14:32:18.717Z"
   },
   {
    "duration": 27,
    "start_time": "2022-11-20T14:32:18.734Z"
   },
   {
    "duration": 109,
    "start_time": "2022-11-20T14:32:18.762Z"
   },
   {
    "duration": 330,
    "start_time": "2022-11-20T14:32:18.873Z"
   },
   {
    "duration": 28,
    "start_time": "2022-11-20T14:32:19.206Z"
   },
   {
    "duration": 31,
    "start_time": "2022-11-20T14:32:19.236Z"
   },
   {
    "duration": 2723,
    "start_time": "2022-11-20T14:32:19.269Z"
   },
   {
    "duration": 499,
    "start_time": "2022-11-20T14:32:21.994Z"
   },
   {
    "duration": 5,
    "start_time": "2022-11-20T14:32:22.496Z"
   },
   {
    "duration": 79,
    "start_time": "2022-11-20T14:32:22.503Z"
   },
   {
    "duration": 128,
    "start_time": "2022-11-20T14:32:22.583Z"
   },
   {
    "duration": 9990,
    "start_time": "2022-11-20T14:32:22.713Z"
   },
   {
    "duration": 27,
    "start_time": "2022-11-20T14:32:32.705Z"
   },
   {
    "duration": 12,
    "start_time": "2022-11-20T14:32:32.734Z"
   },
   {
    "duration": 75,
    "start_time": "2022-11-20T14:32:32.748Z"
   },
   {
    "duration": 30,
    "start_time": "2022-11-20T14:32:32.825Z"
   },
   {
    "duration": 211,
    "start_time": "2022-11-20T14:32:32.856Z"
   },
   {
    "duration": 17,
    "start_time": "2022-11-20T14:32:33.123Z"
   },
   {
    "duration": 118,
    "start_time": "2022-11-20T14:32:33.144Z"
   },
   {
    "duration": 58,
    "start_time": "2022-11-20T14:32:33.264Z"
   },
   {
    "duration": 27,
    "start_time": "2022-11-20T14:32:33.325Z"
   },
   {
    "duration": 89,
    "start_time": "2022-11-20T14:32:33.353Z"
   },
   {
    "duration": 20,
    "start_time": "2022-11-20T14:32:33.444Z"
   },
   {
    "duration": 104,
    "start_time": "2022-11-20T14:32:33.465Z"
   },
   {
    "duration": 8,
    "start_time": "2022-11-20T14:32:33.570Z"
   },
   {
    "duration": 44,
    "start_time": "2022-11-20T14:32:33.580Z"
   },
   {
    "duration": 1677,
    "start_time": "2022-11-20T14:32:33.626Z"
   },
   {
    "duration": 21,
    "start_time": "2022-11-20T14:32:35.304Z"
   },
   {
    "duration": 35,
    "start_time": "2022-11-20T14:32:35.326Z"
   },
   {
    "duration": 8,
    "start_time": "2022-11-20T14:32:35.363Z"
   },
   {
    "duration": 582,
    "start_time": "2022-11-20T14:32:35.372Z"
   },
   {
    "duration": 18,
    "start_time": "2022-11-20T14:32:35.956Z"
   },
   {
    "duration": 9,
    "start_time": "2022-11-20T14:32:35.976Z"
   },
   {
    "duration": 55,
    "start_time": "2022-11-20T14:32:35.987Z"
   },
   {
    "duration": 359,
    "start_time": "2022-11-20T14:32:36.045Z"
   },
   {
    "duration": 32,
    "start_time": "2022-11-20T14:32:36.406Z"
   },
   {
    "duration": 15,
    "start_time": "2022-11-20T14:34:18.066Z"
   },
   {
    "duration": 22,
    "start_time": "2022-11-20T14:34:32.879Z"
   },
   {
    "duration": 18,
    "start_time": "2022-11-20T14:35:03.016Z"
   },
   {
    "duration": 31,
    "start_time": "2022-11-20T14:35:11.608Z"
   },
   {
    "duration": 9,
    "start_time": "2022-11-20T14:35:23.206Z"
   },
   {
    "duration": 319,
    "start_time": "2022-11-20T15:23:36.945Z"
   },
   {
    "duration": 169,
    "start_time": "2022-11-20T15:25:41.595Z"
   },
   {
    "duration": 240,
    "start_time": "2022-11-20T15:26:07.396Z"
   },
   {
    "duration": 171,
    "start_time": "2022-11-20T15:26:42.971Z"
   },
   {
    "duration": 226,
    "start_time": "2022-11-20T15:29:13.525Z"
   },
   {
    "duration": 191,
    "start_time": "2022-11-20T15:29:27.807Z"
   },
   {
    "duration": 182,
    "start_time": "2022-11-20T15:29:42.572Z"
   },
   {
    "duration": 22,
    "start_time": "2022-11-20T15:29:48.021Z"
   },
   {
    "duration": 23,
    "start_time": "2022-11-20T15:29:52.830Z"
   },
   {
    "duration": 49,
    "start_time": "2022-11-20T15:30:56.156Z"
   },
   {
    "duration": 238,
    "start_time": "2022-11-20T15:44:44.186Z"
   },
   {
    "duration": 206,
    "start_time": "2022-11-20T15:45:01.071Z"
   },
   {
    "duration": 209,
    "start_time": "2022-11-20T15:45:07.001Z"
   },
   {
    "duration": 48,
    "start_time": "2022-11-20T16:00:15.968Z"
   },
   {
    "duration": 52,
    "start_time": "2022-11-20T16:00:50.372Z"
   },
   {
    "duration": 46,
    "start_time": "2022-11-20T16:10:49.809Z"
   },
   {
    "duration": 48,
    "start_time": "2022-11-20T16:11:41.913Z"
   },
   {
    "duration": 51,
    "start_time": "2022-11-20T16:17:37.028Z"
   },
   {
    "duration": 46,
    "start_time": "2022-11-20T16:17:59.484Z"
   },
   {
    "duration": 1401,
    "start_time": "2022-11-21T04:34:10.954Z"
   },
   {
    "duration": 113,
    "start_time": "2022-11-21T04:34:12.357Z"
   },
   {
    "duration": 3,
    "start_time": "2022-11-21T04:34:12.471Z"
   },
   {
    "duration": 21,
    "start_time": "2022-11-21T04:34:12.476Z"
   },
   {
    "duration": 16,
    "start_time": "2022-11-21T04:34:12.499Z"
   },
   {
    "duration": 5,
    "start_time": "2022-11-21T04:34:12.517Z"
   },
   {
    "duration": 14,
    "start_time": "2022-11-21T04:34:12.524Z"
   },
   {
    "duration": 22,
    "start_time": "2022-11-21T04:34:12.539Z"
   },
   {
    "duration": 16,
    "start_time": "2022-11-21T04:34:12.563Z"
   },
   {
    "duration": 9,
    "start_time": "2022-11-21T04:34:12.580Z"
   },
   {
    "duration": 3,
    "start_time": "2022-11-21T04:34:12.591Z"
   },
   {
    "duration": 67,
    "start_time": "2022-11-21T04:34:12.596Z"
   },
   {
    "duration": 21,
    "start_time": "2022-11-21T04:34:12.665Z"
   },
   {
    "duration": 6,
    "start_time": "2022-11-21T04:34:12.690Z"
   },
   {
    "duration": 25,
    "start_time": "2022-11-21T04:34:12.697Z"
   },
   {
    "duration": 32,
    "start_time": "2022-11-21T04:34:12.723Z"
   },
   {
    "duration": 9,
    "start_time": "2022-11-21T04:34:12.757Z"
   },
   {
    "duration": 7,
    "start_time": "2022-11-21T04:34:12.767Z"
   },
   {
    "duration": 7,
    "start_time": "2022-11-21T04:34:12.775Z"
   },
   {
    "duration": 3,
    "start_time": "2022-11-21T04:34:12.783Z"
   },
   {
    "duration": 15,
    "start_time": "2022-11-21T04:34:12.788Z"
   },
   {
    "duration": 74,
    "start_time": "2022-11-21T04:34:12.804Z"
   },
   {
    "duration": 79,
    "start_time": "2022-11-21T04:34:12.879Z"
   },
   {
    "duration": 8,
    "start_time": "2022-11-21T04:34:12.960Z"
   },
   {
    "duration": 8,
    "start_time": "2022-11-21T04:34:12.970Z"
   },
   {
    "duration": 13,
    "start_time": "2022-11-21T04:34:12.979Z"
   },
   {
    "duration": 7,
    "start_time": "2022-11-21T04:34:12.993Z"
   },
   {
    "duration": 565,
    "start_time": "2022-11-21T04:34:13.001Z"
   },
   {
    "duration": 409,
    "start_time": "2022-11-21T04:34:13.568Z"
   },
   {
    "duration": 243,
    "start_time": "2022-11-21T04:34:13.979Z"
   },
   {
    "duration": 16,
    "start_time": "2022-11-21T04:34:14.224Z"
   },
   {
    "duration": 22,
    "start_time": "2022-11-21T04:34:14.242Z"
   },
   {
    "duration": 5,
    "start_time": "2022-11-21T04:34:14.265Z"
   },
   {
    "duration": 17,
    "start_time": "2022-11-21T04:34:14.271Z"
   },
   {
    "duration": 15,
    "start_time": "2022-11-21T04:34:14.289Z"
   },
   {
    "duration": 253,
    "start_time": "2022-11-21T04:34:14.306Z"
   },
   {
    "duration": 13,
    "start_time": "2022-11-21T04:34:14.561Z"
   },
   {
    "duration": 51,
    "start_time": "2022-11-21T04:34:14.576Z"
   },
   {
    "duration": 32,
    "start_time": "2022-11-21T04:34:14.629Z"
   },
   {
    "duration": 20,
    "start_time": "2022-11-21T04:34:14.663Z"
   },
   {
    "duration": 20,
    "start_time": "2022-11-21T04:34:14.687Z"
   },
   {
    "duration": 13,
    "start_time": "2022-11-21T04:34:14.708Z"
   },
   {
    "duration": 73,
    "start_time": "2022-11-21T04:34:14.723Z"
   },
   {
    "duration": 12,
    "start_time": "2022-11-21T04:34:14.798Z"
   },
   {
    "duration": 32,
    "start_time": "2022-11-21T04:34:14.812Z"
   },
   {
    "duration": 28,
    "start_time": "2022-11-21T04:34:14.845Z"
   },
   {
    "duration": 4385,
    "start_time": "2022-11-21T04:34:14.874Z"
   },
   {
    "duration": 115,
    "start_time": "2022-11-21T04:34:19.261Z"
   },
   {
    "duration": 5,
    "start_time": "2022-11-21T04:34:19.378Z"
   },
   {
    "duration": 14,
    "start_time": "2022-11-21T04:34:19.385Z"
   },
   {
    "duration": 15,
    "start_time": "2022-11-21T04:34:19.401Z"
   },
   {
    "duration": 9,
    "start_time": "2022-11-21T04:34:19.418Z"
   },
   {
    "duration": 35,
    "start_time": "2022-11-21T04:34:19.429Z"
   },
   {
    "duration": 103,
    "start_time": "2022-11-21T04:34:19.466Z"
   },
   {
    "duration": 298,
    "start_time": "2022-11-21T04:34:19.571Z"
   },
   {
    "duration": 17,
    "start_time": "2022-11-21T04:34:19.871Z"
   },
   {
    "duration": 16,
    "start_time": "2022-11-21T04:34:19.889Z"
   },
   {
    "duration": 3312,
    "start_time": "2022-11-21T04:34:19.907Z"
   },
   {
    "duration": 473,
    "start_time": "2022-11-21T04:34:23.222Z"
   },
   {
    "duration": 7,
    "start_time": "2022-11-21T04:34:23.698Z"
   },
   {
    "duration": 104,
    "start_time": "2022-11-21T04:34:23.707Z"
   },
   {
    "duration": 109,
    "start_time": "2022-11-21T04:34:23.813Z"
   },
   {
    "duration": 10041,
    "start_time": "2022-11-21T04:34:23.924Z"
   },
   {
    "duration": 17,
    "start_time": "2022-11-21T04:34:33.968Z"
   },
   {
    "duration": 7,
    "start_time": "2022-11-21T04:34:33.987Z"
   },
   {
    "duration": 72,
    "start_time": "2022-11-21T04:34:33.996Z"
   },
   {
    "duration": 19,
    "start_time": "2022-11-21T04:34:34.070Z"
   },
   {
    "duration": 185,
    "start_time": "2022-11-21T04:34:34.091Z"
   },
   {
    "duration": 12,
    "start_time": "2022-11-21T04:34:34.278Z"
   },
   {
    "duration": 85,
    "start_time": "2022-11-21T04:34:34.292Z"
   },
   {
    "duration": 4,
    "start_time": "2022-11-21T04:34:34.379Z"
   },
   {
    "duration": 33,
    "start_time": "2022-11-21T04:34:34.385Z"
   },
   {
    "duration": 72,
    "start_time": "2022-11-21T04:34:34.420Z"
   },
   {
    "duration": 23,
    "start_time": "2022-11-21T04:34:34.494Z"
   },
   {
    "duration": 72,
    "start_time": "2022-11-21T04:34:34.519Z"
   },
   {
    "duration": 77,
    "start_time": "2022-11-21T04:34:34.593Z"
   },
   {
    "duration": 7,
    "start_time": "2022-11-21T04:34:34.672Z"
   },
   {
    "duration": 15,
    "start_time": "2022-11-21T04:34:34.681Z"
   },
   {
    "duration": 80,
    "start_time": "2022-11-21T04:34:34.698Z"
   },
   {
    "duration": 1522,
    "start_time": "2022-11-21T04:34:34.780Z"
   },
   {
    "duration": 6,
    "start_time": "2022-11-21T04:34:36.304Z"
   },
   {
    "duration": 18,
    "start_time": "2022-11-21T04:34:36.312Z"
   },
   {
    "duration": 7,
    "start_time": "2022-11-21T04:34:36.356Z"
   },
   {
    "duration": 330,
    "start_time": "2022-11-21T04:34:36.366Z"
   },
   {
    "duration": 16,
    "start_time": "2022-11-21T04:34:36.698Z"
   },
   {
    "duration": 7,
    "start_time": "2022-11-21T04:34:36.716Z"
   },
   {
    "duration": 41,
    "start_time": "2022-11-21T04:34:36.724Z"
   },
   {
    "duration": 521,
    "start_time": "2022-11-21T04:34:36.767Z"
   },
   {
    "duration": 17,
    "start_time": "2022-11-21T04:34:37.290Z"
   },
   {
    "duration": 64,
    "start_time": "2022-11-21T04:34:37.308Z"
   },
   {
    "duration": 11,
    "start_time": "2022-11-21T04:35:29.532Z"
   },
   {
    "duration": 20,
    "start_time": "2022-11-21T04:37:55.093Z"
   },
   {
    "duration": 7,
    "start_time": "2022-11-21T04:38:52.959Z"
   },
   {
    "duration": 2984,
    "start_time": "2022-12-05T19:53:01.734Z"
   },
   {
    "duration": 1543,
    "start_time": "2022-12-05T19:53:04.720Z"
   },
   {
    "duration": 117,
    "start_time": "2022-12-05T19:53:06.264Z"
   },
   {
    "duration": 5,
    "start_time": "2022-12-05T19:53:06.383Z"
   },
   {
    "duration": 35,
    "start_time": "2022-12-05T19:53:06.389Z"
   },
   {
    "duration": 17,
    "start_time": "2022-12-05T19:53:06.425Z"
   },
   {
    "duration": 5,
    "start_time": "2022-12-05T19:53:06.444Z"
   },
   {
    "duration": 12,
    "start_time": "2022-12-05T19:53:06.451Z"
   },
   {
    "duration": 9,
    "start_time": "2022-12-05T19:53:06.465Z"
   },
   {
    "duration": 17,
    "start_time": "2022-12-05T19:53:06.477Z"
   },
   {
    "duration": 40,
    "start_time": "2022-12-05T19:53:06.496Z"
   },
   {
    "duration": 15,
    "start_time": "2022-12-05T19:53:06.538Z"
   },
   {
    "duration": 48,
    "start_time": "2022-12-05T19:53:06.555Z"
   },
   {
    "duration": 19,
    "start_time": "2022-12-05T19:53:06.605Z"
   },
   {
    "duration": 13,
    "start_time": "2022-12-05T19:53:06.626Z"
   },
   {
    "duration": 16,
    "start_time": "2022-12-05T19:53:06.640Z"
   },
   {
    "duration": 19,
    "start_time": "2022-12-05T19:53:06.658Z"
   },
   {
    "duration": 12,
    "start_time": "2022-12-05T19:53:06.679Z"
   },
   {
    "duration": 41,
    "start_time": "2022-12-05T19:53:06.694Z"
   },
   {
    "duration": 13,
    "start_time": "2022-12-05T19:53:06.738Z"
   },
   {
    "duration": 14,
    "start_time": "2022-12-05T19:53:06.753Z"
   },
   {
    "duration": 21,
    "start_time": "2022-12-05T19:53:06.769Z"
   },
   {
    "duration": 29,
    "start_time": "2022-12-05T19:53:06.792Z"
   },
   {
    "duration": 53,
    "start_time": "2022-12-05T19:53:06.823Z"
   },
   {
    "duration": 82,
    "start_time": "2022-12-05T19:53:06.878Z"
   },
   {
    "duration": 19,
    "start_time": "2022-12-05T19:53:06.962Z"
   },
   {
    "duration": 13,
    "start_time": "2022-12-05T19:53:06.982Z"
   },
   {
    "duration": 6,
    "start_time": "2022-12-05T19:53:07.001Z"
   },
   {
    "duration": 8,
    "start_time": "2022-12-05T19:53:07.009Z"
   },
   {
    "duration": 13,
    "start_time": "2022-12-05T19:53:07.036Z"
   },
   {
    "duration": 11,
    "start_time": "2022-12-05T19:53:07.051Z"
   },
   {
    "duration": 426,
    "start_time": "2022-12-05T19:53:07.064Z"
   },
   {
    "duration": 352,
    "start_time": "2022-12-05T19:53:07.492Z"
   },
   {
    "duration": 269,
    "start_time": "2022-12-05T19:53:07.845Z"
   },
   {
    "duration": 26,
    "start_time": "2022-12-05T19:53:08.116Z"
   },
   {
    "duration": 24,
    "start_time": "2022-12-05T19:53:08.144Z"
   },
   {
    "duration": 9,
    "start_time": "2022-12-05T19:53:08.170Z"
   },
   {
    "duration": 37,
    "start_time": "2022-12-05T19:53:08.181Z"
   },
   {
    "duration": 17,
    "start_time": "2022-12-05T19:53:08.220Z"
   },
   {
    "duration": 204,
    "start_time": "2022-12-05T19:53:08.238Z"
   },
   {
    "duration": 13,
    "start_time": "2022-12-05T19:53:08.444Z"
   },
   {
    "duration": 54,
    "start_time": "2022-12-05T19:53:08.458Z"
   },
   {
    "duration": 24,
    "start_time": "2022-12-05T19:53:08.514Z"
   },
   {
    "duration": 27,
    "start_time": "2022-12-05T19:53:08.539Z"
   },
   {
    "duration": 20,
    "start_time": "2022-12-05T19:53:08.568Z"
   },
   {
    "duration": 18,
    "start_time": "2022-12-05T19:53:08.590Z"
   },
   {
    "duration": 71,
    "start_time": "2022-12-05T19:53:08.610Z"
   },
   {
    "duration": 15,
    "start_time": "2022-12-05T19:53:08.683Z"
   },
   {
    "duration": 36,
    "start_time": "2022-12-05T19:53:08.700Z"
   },
   {
    "duration": 13,
    "start_time": "2022-12-05T19:53:08.738Z"
   },
   {
    "duration": 3590,
    "start_time": "2022-12-05T19:53:08.753Z"
   },
   {
    "duration": 713,
    "start_time": "2022-12-05T19:53:12.346Z"
   },
   {
    "duration": 5,
    "start_time": "2022-12-05T19:53:13.061Z"
   },
   {
    "duration": 23,
    "start_time": "2022-12-05T19:53:13.068Z"
   },
   {
    "duration": 17,
    "start_time": "2022-12-05T19:53:13.092Z"
   },
   {
    "duration": 8,
    "start_time": "2022-12-05T19:53:13.111Z"
   },
   {
    "duration": 10,
    "start_time": "2022-12-05T19:53:13.135Z"
   },
   {
    "duration": 92,
    "start_time": "2022-12-05T19:53:13.147Z"
   },
   {
    "duration": 286,
    "start_time": "2022-12-05T19:53:13.241Z"
   },
   {
    "duration": 18,
    "start_time": "2022-12-05T19:53:13.534Z"
   },
   {
    "duration": 17,
    "start_time": "2022-12-05T19:53:13.554Z"
   },
   {
    "duration": 101,
    "start_time": "2022-12-05T19:53:13.573Z"
   },
   {
    "duration": 166,
    "start_time": "2022-12-05T19:53:13.676Z"
   },
   {
    "duration": 0,
    "start_time": "2022-12-05T19:53:13.844Z"
   },
   {
    "duration": 0,
    "start_time": "2022-12-05T19:53:13.845Z"
   },
   {
    "duration": 0,
    "start_time": "2022-12-05T19:53:13.847Z"
   },
   {
    "duration": 0,
    "start_time": "2022-12-05T19:53:13.848Z"
   },
   {
    "duration": 0,
    "start_time": "2022-12-05T19:53:13.848Z"
   },
   {
    "duration": 0,
    "start_time": "2022-12-05T19:53:13.850Z"
   },
   {
    "duration": 0,
    "start_time": "2022-12-05T19:53:13.851Z"
   },
   {
    "duration": 0,
    "start_time": "2022-12-05T19:53:13.852Z"
   },
   {
    "duration": 0,
    "start_time": "2022-12-05T19:53:13.853Z"
   },
   {
    "duration": 0,
    "start_time": "2022-12-05T19:53:13.854Z"
   },
   {
    "duration": 0,
    "start_time": "2022-12-05T19:53:13.855Z"
   },
   {
    "duration": 0,
    "start_time": "2022-12-05T19:53:13.856Z"
   },
   {
    "duration": 0,
    "start_time": "2022-12-05T19:53:13.857Z"
   },
   {
    "duration": 0,
    "start_time": "2022-12-05T19:53:13.858Z"
   },
   {
    "duration": 0,
    "start_time": "2022-12-05T19:53:13.860Z"
   },
   {
    "duration": 0,
    "start_time": "2022-12-05T19:53:13.861Z"
   },
   {
    "duration": 0,
    "start_time": "2022-12-05T19:53:13.862Z"
   },
   {
    "duration": 0,
    "start_time": "2022-12-05T19:53:13.863Z"
   },
   {
    "duration": 0,
    "start_time": "2022-12-05T19:53:13.864Z"
   },
   {
    "duration": 0,
    "start_time": "2022-12-05T19:53:13.865Z"
   },
   {
    "duration": 0,
    "start_time": "2022-12-05T19:53:13.866Z"
   },
   {
    "duration": 0,
    "start_time": "2022-12-05T19:53:13.867Z"
   },
   {
    "duration": 0,
    "start_time": "2022-12-05T19:53:13.869Z"
   },
   {
    "duration": 0,
    "start_time": "2022-12-05T19:53:13.870Z"
   },
   {
    "duration": 0,
    "start_time": "2022-12-05T19:53:13.871Z"
   },
   {
    "duration": 0,
    "start_time": "2022-12-05T19:53:13.872Z"
   },
   {
    "duration": 0,
    "start_time": "2022-12-05T19:53:13.873Z"
   },
   {
    "duration": 0,
    "start_time": "2022-12-05T19:53:13.875Z"
   },
   {
    "duration": 0,
    "start_time": "2022-12-05T19:53:13.875Z"
   },
   {
    "duration": 0,
    "start_time": "2022-12-05T19:53:13.876Z"
   }
  ],
  "kernelspec": {
   "display_name": "Python 3",
   "language": "python",
   "name": "python3"
  },
  "language_info": {
   "codemirror_mode": {
    "name": "ipython",
    "version": 3
   },
   "file_extension": ".py",
   "mimetype": "text/x-python",
   "name": "python",
   "nbconvert_exporter": "python",
   "pygments_lexer": "ipython3",
   "version": "3.7.6"
  },
  "toc": {
   "base_numbering": 1,
   "nav_menu": {},
   "number_sections": true,
   "sideBar": true,
   "skip_h1_title": true,
   "title_cell": "Table of Contents",
   "title_sidebar": "Contents",
   "toc_cell": false,
   "toc_position": {},
   "toc_section_display": true,
   "toc_window_display": true
  }
 },
 "nbformat": 4,
 "nbformat_minor": 2
}
