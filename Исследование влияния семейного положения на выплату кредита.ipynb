{
 "cells": [
  {
   "cell_type": "markdown",
   "id": "7f46e2df",
   "metadata": {},
   "source": [
    "<div class=\"alert alert-success\"; style=\"border-left: 7px solid green\">\n",
    "<h3>✔ Комментарий ревьюера V.2</h3>\n",
    "    \n",
    "Удачи в следующих споринтах, небольшой комментарий про `transform` оставил</div>  "
   ]
  },
  {
   "cell_type": "markdown",
   "id": "2a37c853",
   "metadata": {},
   "source": [
    "# <div class=\"alert alert-success\">\n",
    "<h2> Комментарий ревьюера</h2>\n",
    "    \n",
    "Привет! Меня зовут Алексей Тюрин, я буду делать ревью твоей работы. Давай будем общаться на «ты».\n",
    "\n",
    "У тебя хорошая, аккуратная работа 👍. В ней всё здорово, я её вернул, чтобы у тебя была возможность посмотреть комментарии и задать вопросы, если есть. Если вопросов нет, то просто зашли работу обратно и я приму :)\n",
    "\n",
    "---\n",
    "Комментарии делятся на 3 группы:\n",
    "    \n",
    "Зелёным цветом отмечены комментарии, либо подчёркивающие удачные решения, либо содержащие какую-то дополнительную информацию или советы, они формально не требуют правки, но правки приветствуются. Выделены они так:\n",
    "\n",
    "<div class=\"alert alert-success\"; style=\"border-left: 7px solid green\">\n",
    "<h3>✔ Комментарий ревьюера</h3>\n",
    "    \n",
    "Тут текст    \n",
    "</div>    \n",
    "\n",
    "Жёлтым цветом выделены правки, которые желательны:\n",
    "\n",
    "<div class=\"alert alert-warning\"; style=\"border-left: 7px solid yellow\" >\n",
    "<h3>!! Комментарий ревьюера</h3>\n",
    "    \n",
    "Тут текст    \n",
    "</div>    \n",
    "\n",
    "Красным выделены правки, которые обязательны\n",
    "    \n",
    "<div class=\"alert alert-danger\"; style=\"border-left: 7px solid red\">\n",
    "<h3>👀 Комментарий ревьюера</h3>\n",
    "    \n",
    "Тут текст    \n",
    "</div>    \n",
    "    \n",
    "Давай работать над проектом в диалоге: если ты **что-то меняешь** в проекте по моим рекомендациям — **пиши об этом**. Выбери для своих комментариев какой-то заметный цвет, так мне будет легче отследить изменения. Пожалуйста, **не перемещай, не изменяй и не удаляй мои комментарии**. Всё это поможет выполнить повторную проверку твоего проекта оперативнее. Если оставляешь комментарии на какой-то итерации ревью, пиши что-то вроде `комментарий студента V.{номер итерации}`\n",
    "</div>\n",
    "\n",
    "Цвет можно сделать, например, так\n",
    "\n",
    "<div class = \"alert alert-info\" style=\"border-left: 7px solid blue\">\n",
    "<h3>Комментарий студента</h3>\n",
    "Ревьюер душнила :)\n",
    "</div>\n",
    "\n",
    "Или так:\n",
    "    \n",
    "<div class=\"alert alert-info\" style=\"background:#ffdbf1;color:#2e00ab;border-left:7px solid #2e00ab\">\n",
    "<h3>Комментарий студента </h3>\n",
    "    ...\n",
    "</div>"
   ]
  },
  {
   "cell_type": "markdown",
   "id": "c81daeeb",
   "metadata": {
    "deletable": false,
    "id": "c81daeeb"
   },
   "source": [
    "# Исследование надежности заемщиков\n"
   ]
  },
  {
   "cell_type": "markdown",
   "id": "827c20bf",
   "metadata": {
    "id": "827c20bf"
   },
   "source": [
    "Во второй части проекта вы выполните шаги 3 и 4. Их вручную проверит ревьюер.\n",
    "Чтобы вам не пришлось писать код заново для шагов 1 и 2, мы добавили авторские решения в ячейки с кодом. \n",
    "\n"
   ]
  },
  {
   "cell_type": "markdown",
   "id": "744d7639",
   "metadata": {
    "deletable": false,
    "id": "744d7639"
   },
   "source": [
    "## Откройте таблицу и изучите общую информацию о данных"
   ]
  },
  {
   "cell_type": "markdown",
   "id": "e7a14c31",
   "metadata": {
    "deletable": false,
    "id": "e7a14c31"
   },
   "source": [
    "**Задание 1. Импортируйте библиотеку pandas. Считайте данные из csv-файла в датафрейм и сохраните в переменную `data`. Путь к файлу:**\n",
    "\n",
    "`/datasets/data.csv`"
   ]
  },
  {
   "cell_type": "code",
   "execution_count": 80,
   "id": "7bcf75c9",
   "metadata": {
    "deletable": false,
    "id": "7bcf75c9"
   },
   "outputs": [],
   "source": [
    "import pandas as pd\n",
    "\n",
    "try:\n",
    "    data = pd.read_csv('/datasets/data.csv')\n",
    "except:\n",
    "    data = pd.read_csv('https://code.s3.yandex.net/datasets/data.csv')"
   ]
  },
  {
   "cell_type": "markdown",
   "id": "b8038fe3",
   "metadata": {
    "deletable": false,
    "id": "b8038fe3"
   },
   "source": [
    "**Задание 2. Выведите первые 20 строчек датафрейма `data` на экран.**"
   ]
  },
  {
   "cell_type": "code",
   "execution_count": 81,
   "id": "2a7cab99",
   "metadata": {
    "deletable": false,
    "id": "2a7cab99",
    "outputId": "1a8f3ef2-d323-4ec2-ddf7-89670b5944c4"
   },
   "outputs": [
    {
     "data": {
      "text/html": [
       "<div>\n",
       "<style scoped>\n",
       "    .dataframe tbody tr th:only-of-type {\n",
       "        vertical-align: middle;\n",
       "    }\n",
       "\n",
       "    .dataframe tbody tr th {\n",
       "        vertical-align: top;\n",
       "    }\n",
       "\n",
       "    .dataframe thead th {\n",
       "        text-align: right;\n",
       "    }\n",
       "</style>\n",
       "<table border=\"1\" class=\"dataframe\">\n",
       "  <thead>\n",
       "    <tr style=\"text-align: right;\">\n",
       "      <th></th>\n",
       "      <th>children</th>\n",
       "      <th>days_employed</th>\n",
       "      <th>dob_years</th>\n",
       "      <th>education</th>\n",
       "      <th>education_id</th>\n",
       "      <th>family_status</th>\n",
       "      <th>family_status_id</th>\n",
       "      <th>gender</th>\n",
       "      <th>income_type</th>\n",
       "      <th>debt</th>\n",
       "      <th>total_income</th>\n",
       "      <th>purpose</th>\n",
       "    </tr>\n",
       "  </thead>\n",
       "  <tbody>\n",
       "    <tr>\n",
       "      <th>0</th>\n",
       "      <td>1</td>\n",
       "      <td>-8437.673028</td>\n",
       "      <td>42</td>\n",
       "      <td>высшее</td>\n",
       "      <td>0</td>\n",
       "      <td>женат / замужем</td>\n",
       "      <td>0</td>\n",
       "      <td>F</td>\n",
       "      <td>сотрудник</td>\n",
       "      <td>0</td>\n",
       "      <td>253875.639453</td>\n",
       "      <td>покупка жилья</td>\n",
       "    </tr>\n",
       "    <tr>\n",
       "      <th>1</th>\n",
       "      <td>1</td>\n",
       "      <td>-4024.803754</td>\n",
       "      <td>36</td>\n",
       "      <td>среднее</td>\n",
       "      <td>1</td>\n",
       "      <td>женат / замужем</td>\n",
       "      <td>0</td>\n",
       "      <td>F</td>\n",
       "      <td>сотрудник</td>\n",
       "      <td>0</td>\n",
       "      <td>112080.014102</td>\n",
       "      <td>приобретение автомобиля</td>\n",
       "    </tr>\n",
       "    <tr>\n",
       "      <th>2</th>\n",
       "      <td>0</td>\n",
       "      <td>-5623.422610</td>\n",
       "      <td>33</td>\n",
       "      <td>Среднее</td>\n",
       "      <td>1</td>\n",
       "      <td>женат / замужем</td>\n",
       "      <td>0</td>\n",
       "      <td>M</td>\n",
       "      <td>сотрудник</td>\n",
       "      <td>0</td>\n",
       "      <td>145885.952297</td>\n",
       "      <td>покупка жилья</td>\n",
       "    </tr>\n",
       "    <tr>\n",
       "      <th>3</th>\n",
       "      <td>3</td>\n",
       "      <td>-4124.747207</td>\n",
       "      <td>32</td>\n",
       "      <td>среднее</td>\n",
       "      <td>1</td>\n",
       "      <td>женат / замужем</td>\n",
       "      <td>0</td>\n",
       "      <td>M</td>\n",
       "      <td>сотрудник</td>\n",
       "      <td>0</td>\n",
       "      <td>267628.550329</td>\n",
       "      <td>дополнительное образование</td>\n",
       "    </tr>\n",
       "    <tr>\n",
       "      <th>4</th>\n",
       "      <td>0</td>\n",
       "      <td>340266.072047</td>\n",
       "      <td>53</td>\n",
       "      <td>среднее</td>\n",
       "      <td>1</td>\n",
       "      <td>гражданский брак</td>\n",
       "      <td>1</td>\n",
       "      <td>F</td>\n",
       "      <td>пенсионер</td>\n",
       "      <td>0</td>\n",
       "      <td>158616.077870</td>\n",
       "      <td>сыграть свадьбу</td>\n",
       "    </tr>\n",
       "    <tr>\n",
       "      <th>5</th>\n",
       "      <td>0</td>\n",
       "      <td>-926.185831</td>\n",
       "      <td>27</td>\n",
       "      <td>высшее</td>\n",
       "      <td>0</td>\n",
       "      <td>гражданский брак</td>\n",
       "      <td>1</td>\n",
       "      <td>M</td>\n",
       "      <td>компаньон</td>\n",
       "      <td>0</td>\n",
       "      <td>255763.565419</td>\n",
       "      <td>покупка жилья</td>\n",
       "    </tr>\n",
       "    <tr>\n",
       "      <th>6</th>\n",
       "      <td>0</td>\n",
       "      <td>-2879.202052</td>\n",
       "      <td>43</td>\n",
       "      <td>высшее</td>\n",
       "      <td>0</td>\n",
       "      <td>женат / замужем</td>\n",
       "      <td>0</td>\n",
       "      <td>F</td>\n",
       "      <td>компаньон</td>\n",
       "      <td>0</td>\n",
       "      <td>240525.971920</td>\n",
       "      <td>операции с жильем</td>\n",
       "    </tr>\n",
       "    <tr>\n",
       "      <th>7</th>\n",
       "      <td>0</td>\n",
       "      <td>-152.779569</td>\n",
       "      <td>50</td>\n",
       "      <td>СРЕДНЕЕ</td>\n",
       "      <td>1</td>\n",
       "      <td>женат / замужем</td>\n",
       "      <td>0</td>\n",
       "      <td>M</td>\n",
       "      <td>сотрудник</td>\n",
       "      <td>0</td>\n",
       "      <td>135823.934197</td>\n",
       "      <td>образование</td>\n",
       "    </tr>\n",
       "    <tr>\n",
       "      <th>8</th>\n",
       "      <td>2</td>\n",
       "      <td>-6929.865299</td>\n",
       "      <td>35</td>\n",
       "      <td>ВЫСШЕЕ</td>\n",
       "      <td>0</td>\n",
       "      <td>гражданский брак</td>\n",
       "      <td>1</td>\n",
       "      <td>F</td>\n",
       "      <td>сотрудник</td>\n",
       "      <td>0</td>\n",
       "      <td>95856.832424</td>\n",
       "      <td>на проведение свадьбы</td>\n",
       "    </tr>\n",
       "    <tr>\n",
       "      <th>9</th>\n",
       "      <td>0</td>\n",
       "      <td>-2188.756445</td>\n",
       "      <td>41</td>\n",
       "      <td>среднее</td>\n",
       "      <td>1</td>\n",
       "      <td>женат / замужем</td>\n",
       "      <td>0</td>\n",
       "      <td>M</td>\n",
       "      <td>сотрудник</td>\n",
       "      <td>0</td>\n",
       "      <td>144425.938277</td>\n",
       "      <td>покупка жилья для семьи</td>\n",
       "    </tr>\n",
       "    <tr>\n",
       "      <th>10</th>\n",
       "      <td>2</td>\n",
       "      <td>-4171.483647</td>\n",
       "      <td>36</td>\n",
       "      <td>высшее</td>\n",
       "      <td>0</td>\n",
       "      <td>женат / замужем</td>\n",
       "      <td>0</td>\n",
       "      <td>M</td>\n",
       "      <td>компаньон</td>\n",
       "      <td>0</td>\n",
       "      <td>113943.491460</td>\n",
       "      <td>покупка недвижимости</td>\n",
       "    </tr>\n",
       "    <tr>\n",
       "      <th>11</th>\n",
       "      <td>0</td>\n",
       "      <td>-792.701887</td>\n",
       "      <td>40</td>\n",
       "      <td>среднее</td>\n",
       "      <td>1</td>\n",
       "      <td>женат / замужем</td>\n",
       "      <td>0</td>\n",
       "      <td>F</td>\n",
       "      <td>сотрудник</td>\n",
       "      <td>0</td>\n",
       "      <td>77069.234271</td>\n",
       "      <td>покупка коммерческой недвижимости</td>\n",
       "    </tr>\n",
       "    <tr>\n",
       "      <th>12</th>\n",
       "      <td>0</td>\n",
       "      <td>NaN</td>\n",
       "      <td>65</td>\n",
       "      <td>среднее</td>\n",
       "      <td>1</td>\n",
       "      <td>гражданский брак</td>\n",
       "      <td>1</td>\n",
       "      <td>M</td>\n",
       "      <td>пенсионер</td>\n",
       "      <td>0</td>\n",
       "      <td>NaN</td>\n",
       "      <td>сыграть свадьбу</td>\n",
       "    </tr>\n",
       "    <tr>\n",
       "      <th>13</th>\n",
       "      <td>0</td>\n",
       "      <td>-1846.641941</td>\n",
       "      <td>54</td>\n",
       "      <td>неоконченное высшее</td>\n",
       "      <td>2</td>\n",
       "      <td>женат / замужем</td>\n",
       "      <td>0</td>\n",
       "      <td>F</td>\n",
       "      <td>сотрудник</td>\n",
       "      <td>0</td>\n",
       "      <td>130458.228857</td>\n",
       "      <td>приобретение автомобиля</td>\n",
       "    </tr>\n",
       "    <tr>\n",
       "      <th>14</th>\n",
       "      <td>0</td>\n",
       "      <td>-1844.956182</td>\n",
       "      <td>56</td>\n",
       "      <td>высшее</td>\n",
       "      <td>0</td>\n",
       "      <td>гражданский брак</td>\n",
       "      <td>1</td>\n",
       "      <td>F</td>\n",
       "      <td>компаньон</td>\n",
       "      <td>1</td>\n",
       "      <td>165127.911772</td>\n",
       "      <td>покупка жилой недвижимости</td>\n",
       "    </tr>\n",
       "    <tr>\n",
       "      <th>15</th>\n",
       "      <td>1</td>\n",
       "      <td>-972.364419</td>\n",
       "      <td>26</td>\n",
       "      <td>среднее</td>\n",
       "      <td>1</td>\n",
       "      <td>женат / замужем</td>\n",
       "      <td>0</td>\n",
       "      <td>F</td>\n",
       "      <td>сотрудник</td>\n",
       "      <td>0</td>\n",
       "      <td>116820.904450</td>\n",
       "      <td>строительство собственной недвижимости</td>\n",
       "    </tr>\n",
       "    <tr>\n",
       "      <th>16</th>\n",
       "      <td>0</td>\n",
       "      <td>-1719.934226</td>\n",
       "      <td>35</td>\n",
       "      <td>среднее</td>\n",
       "      <td>1</td>\n",
       "      <td>женат / замужем</td>\n",
       "      <td>0</td>\n",
       "      <td>F</td>\n",
       "      <td>сотрудник</td>\n",
       "      <td>0</td>\n",
       "      <td>289202.704229</td>\n",
       "      <td>недвижимость</td>\n",
       "    </tr>\n",
       "    <tr>\n",
       "      <th>17</th>\n",
       "      <td>0</td>\n",
       "      <td>-2369.999720</td>\n",
       "      <td>33</td>\n",
       "      <td>высшее</td>\n",
       "      <td>0</td>\n",
       "      <td>гражданский брак</td>\n",
       "      <td>1</td>\n",
       "      <td>M</td>\n",
       "      <td>сотрудник</td>\n",
       "      <td>0</td>\n",
       "      <td>90410.586745</td>\n",
       "      <td>строительство недвижимости</td>\n",
       "    </tr>\n",
       "    <tr>\n",
       "      <th>18</th>\n",
       "      <td>0</td>\n",
       "      <td>400281.136913</td>\n",
       "      <td>53</td>\n",
       "      <td>среднее</td>\n",
       "      <td>1</td>\n",
       "      <td>вдовец / вдова</td>\n",
       "      <td>2</td>\n",
       "      <td>F</td>\n",
       "      <td>пенсионер</td>\n",
       "      <td>0</td>\n",
       "      <td>56823.777243</td>\n",
       "      <td>на покупку подержанного автомобиля</td>\n",
       "    </tr>\n",
       "    <tr>\n",
       "      <th>19</th>\n",
       "      <td>0</td>\n",
       "      <td>-10038.818549</td>\n",
       "      <td>48</td>\n",
       "      <td>СРЕДНЕЕ</td>\n",
       "      <td>1</td>\n",
       "      <td>в разводе</td>\n",
       "      <td>3</td>\n",
       "      <td>F</td>\n",
       "      <td>сотрудник</td>\n",
       "      <td>0</td>\n",
       "      <td>242831.107982</td>\n",
       "      <td>на покупку своего автомобиля</td>\n",
       "    </tr>\n",
       "  </tbody>\n",
       "</table>\n",
       "</div>"
      ],
      "text/plain": [
       "    children  days_employed  dob_years            education  education_id  \\\n",
       "0          1   -8437.673028         42               высшее             0   \n",
       "1          1   -4024.803754         36              среднее             1   \n",
       "2          0   -5623.422610         33              Среднее             1   \n",
       "3          3   -4124.747207         32              среднее             1   \n",
       "4          0  340266.072047         53              среднее             1   \n",
       "5          0    -926.185831         27               высшее             0   \n",
       "6          0   -2879.202052         43               высшее             0   \n",
       "7          0    -152.779569         50              СРЕДНЕЕ             1   \n",
       "8          2   -6929.865299         35               ВЫСШЕЕ             0   \n",
       "9          0   -2188.756445         41              среднее             1   \n",
       "10         2   -4171.483647         36               высшее             0   \n",
       "11         0    -792.701887         40              среднее             1   \n",
       "12         0            NaN         65              среднее             1   \n",
       "13         0   -1846.641941         54  неоконченное высшее             2   \n",
       "14         0   -1844.956182         56               высшее             0   \n",
       "15         1    -972.364419         26              среднее             1   \n",
       "16         0   -1719.934226         35              среднее             1   \n",
       "17         0   -2369.999720         33               высшее             0   \n",
       "18         0  400281.136913         53              среднее             1   \n",
       "19         0  -10038.818549         48              СРЕДНЕЕ             1   \n",
       "\n",
       "       family_status  family_status_id gender income_type  debt  \\\n",
       "0    женат / замужем                 0      F   сотрудник     0   \n",
       "1    женат / замужем                 0      F   сотрудник     0   \n",
       "2    женат / замужем                 0      M   сотрудник     0   \n",
       "3    женат / замужем                 0      M   сотрудник     0   \n",
       "4   гражданский брак                 1      F   пенсионер     0   \n",
       "5   гражданский брак                 1      M   компаньон     0   \n",
       "6    женат / замужем                 0      F   компаньон     0   \n",
       "7    женат / замужем                 0      M   сотрудник     0   \n",
       "8   гражданский брак                 1      F   сотрудник     0   \n",
       "9    женат / замужем                 0      M   сотрудник     0   \n",
       "10   женат / замужем                 0      M   компаньон     0   \n",
       "11   женат / замужем                 0      F   сотрудник     0   \n",
       "12  гражданский брак                 1      M   пенсионер     0   \n",
       "13   женат / замужем                 0      F   сотрудник     0   \n",
       "14  гражданский брак                 1      F   компаньон     1   \n",
       "15   женат / замужем                 0      F   сотрудник     0   \n",
       "16   женат / замужем                 0      F   сотрудник     0   \n",
       "17  гражданский брак                 1      M   сотрудник     0   \n",
       "18    вдовец / вдова                 2      F   пенсионер     0   \n",
       "19         в разводе                 3      F   сотрудник     0   \n",
       "\n",
       "     total_income                                 purpose  \n",
       "0   253875.639453                           покупка жилья  \n",
       "1   112080.014102                 приобретение автомобиля  \n",
       "2   145885.952297                           покупка жилья  \n",
       "3   267628.550329              дополнительное образование  \n",
       "4   158616.077870                         сыграть свадьбу  \n",
       "5   255763.565419                           покупка жилья  \n",
       "6   240525.971920                       операции с жильем  \n",
       "7   135823.934197                             образование  \n",
       "8    95856.832424                   на проведение свадьбы  \n",
       "9   144425.938277                 покупка жилья для семьи  \n",
       "10  113943.491460                    покупка недвижимости  \n",
       "11   77069.234271       покупка коммерческой недвижимости  \n",
       "12            NaN                         сыграть свадьбу  \n",
       "13  130458.228857                 приобретение автомобиля  \n",
       "14  165127.911772              покупка жилой недвижимости  \n",
       "15  116820.904450  строительство собственной недвижимости  \n",
       "16  289202.704229                            недвижимость  \n",
       "17   90410.586745              строительство недвижимости  \n",
       "18   56823.777243      на покупку подержанного автомобиля  \n",
       "19  242831.107982            на покупку своего автомобиля  "
      ]
     },
     "execution_count": 81,
     "metadata": {},
     "output_type": "execute_result"
    }
   ],
   "source": [
    "data.head(20)"
   ]
  },
  {
   "cell_type": "markdown",
   "id": "1c12e233",
   "metadata": {
    "deletable": false,
    "id": "1c12e233"
   },
   "source": [
    "**Задание 3. Выведите основную информацию о датафрейме с помощью метода `info()`.**"
   ]
  },
  {
   "cell_type": "code",
   "execution_count": 82,
   "id": "2b757bca",
   "metadata": {
    "deletable": false,
    "id": "2b757bca",
    "outputId": "15376089-8dad-46c9-b520-c05248d43158"
   },
   "outputs": [
    {
     "name": "stdout",
     "output_type": "stream",
     "text": [
      "<class 'pandas.core.frame.DataFrame'>\n",
      "RangeIndex: 21525 entries, 0 to 21524\n",
      "Data columns (total 12 columns):\n",
      " #   Column            Non-Null Count  Dtype  \n",
      "---  ------            --------------  -----  \n",
      " 0   children          21525 non-null  int64  \n",
      " 1   days_employed     19351 non-null  float64\n",
      " 2   dob_years         21525 non-null  int64  \n",
      " 3   education         21525 non-null  object \n",
      " 4   education_id      21525 non-null  int64  \n",
      " 5   family_status     21525 non-null  object \n",
      " 6   family_status_id  21525 non-null  int64  \n",
      " 7   gender            21525 non-null  object \n",
      " 8   income_type       21525 non-null  object \n",
      " 9   debt              21525 non-null  int64  \n",
      " 10  total_income      19351 non-null  float64\n",
      " 11  purpose           21525 non-null  object \n",
      "dtypes: float64(2), int64(5), object(5)\n",
      "memory usage: 2.0+ MB\n"
     ]
    }
   ],
   "source": [
    "data.info()"
   ]
  },
  {
   "cell_type": "markdown",
   "id": "333ec665",
   "metadata": {
    "deletable": false,
    "id": "333ec665"
   },
   "source": [
    "## Предобработка данных"
   ]
  },
  {
   "cell_type": "markdown",
   "id": "02d92d53",
   "metadata": {
    "deletable": false,
    "id": "02d92d53"
   },
   "source": [
    "### Удаление пропусков"
   ]
  },
  {
   "cell_type": "markdown",
   "id": "cd84967c",
   "metadata": {
    "deletable": false,
    "id": "cd84967c"
   },
   "source": [
    "**Задание 4. Выведите количество пропущенных значений для каждого столбца. Используйте комбинацию двух методов.**"
   ]
  },
  {
   "cell_type": "code",
   "execution_count": 83,
   "id": "7f9b2309",
   "metadata": {
    "deletable": false,
    "id": "7f9b2309",
    "outputId": "81f4d817-781c-465c-ed15-91ce4446810d"
   },
   "outputs": [
    {
     "data": {
      "text/plain": [
       "children               0\n",
       "days_employed       2174\n",
       "dob_years              0\n",
       "education              0\n",
       "education_id           0\n",
       "family_status          0\n",
       "family_status_id       0\n",
       "gender                 0\n",
       "income_type            0\n",
       "debt                   0\n",
       "total_income        2174\n",
       "purpose                0\n",
       "dtype: int64"
      ]
     },
     "execution_count": 83,
     "metadata": {},
     "output_type": "execute_result"
    }
   ],
   "source": [
    "data.isna().sum()"
   ]
  },
  {
   "cell_type": "markdown",
   "id": "db86e27b",
   "metadata": {
    "deletable": false,
    "id": "db86e27b"
   },
   "source": [
    "**Задание 5. В двух столбцах есть пропущенные значения. Один из них — `days_employed`. Пропуски в этом столбце вы обработаете на следующем этапе. Другой столбец с пропущенными значениями — `total_income` — хранит данные о доходах. На сумму дохода сильнее всего влияет тип занятости, поэтому заполнить пропуски в этом столбце нужно медианным значением по каждому типу из столбца `income_type`. Например, у человека с типом занятости `сотрудник` пропуск в столбце `total_income` должен быть заполнен медианным доходом среди всех записей с тем же типом.**"
   ]
  },
  {
   "cell_type": "code",
   "execution_count": 84,
   "id": "42006a93",
   "metadata": {
    "deletable": false,
    "id": "42006a93"
   },
   "outputs": [],
   "source": [
    "for t in data['income_type'].unique():\n",
    "    data.loc[(data['income_type'] == t) & (data['total_income'].isna()), 'total_income'] = \\\n",
    "    data.loc[(data['income_type'] == t), 'total_income'].median()"
   ]
  },
  {
   "cell_type": "markdown",
   "id": "f1b2d5c4",
   "metadata": {},
   "source": [
    "<div class=\"alert alert-success\"; style=\"border-left: 7px solid green\">\n",
    "<h3>✔ Комментарий ревьюера</h3>\n",
    "    \n",
    "Я знаю, что это код из автоматического решения, но напишу тут пару слов.\n",
    "\n",
    "С точки зрения кода такую замену можно сделать через `transform`: `data['total_income'] = data['total_income'].fillna(data.groupby('income_type')['total_income'].transform(lambda x : x.median()))`. `transform` в материалах спринта нет, но это полезный метод. Он намного лучше масштабируется на бОльшее число групп, чем такой цикл.\n",
    "    \n",
    "Такая замена работает, только если пропуски распределены случайно, т.е. вероятность пропуска в строке не зависит от других значений в строке. Что если бы все прпоуски в столбце `total_income` были только у людей без образования, а у тех людей без образования, где пропусков нет, доход указан 0? Тогда надо было бы заменить пропуски на 0.\n",
    "    \n",
    "Проверять такое можно по-разному, можно, например, для каждого столбца сравнить распределение значения для среза с прпоусками в `total_income` и среза без пропусков. Сделать это можно через `value_counts(normalize=True)`, либо можно группировать по каждому столбцу и смотреть долю пропусков в каждой группе, если их одинаково пропуски распределены случайно (по крайней мере относительно выбранного столбца). \n",
    "    \n",
    "Подробнее об этом можно почитать тут https://loginom.ru/blog/missing  или посмотреть видео: https://youtu.be/YpqUbirqFxQ\n",
    "</div>    \n"
   ]
  },
  {
   "cell_type": "markdown",
   "id": "5ff5c40b",
   "metadata": {},
   "source": [
    "<div class = \"alert alert-info\" style=\"border-left: 7px solid blue\">\n",
    "<h3>✔ Комментарий студента 1 </h3>\n",
    "    Алексей, большое спасибо! \n",
    "    Только мне не очень понятно, что означает запись в скобках .transform(lambda x : x.median()). Где можно более подробно почитать про метод .tranform()? Я погуглила, но, к сожалению, с синтаксисом и преимуществами метода \n",
    "не разобралась.\n",
    "    Заранее спасибо!\n",
    "</div>  "
   ]
  },
  {
   "cell_type": "markdown",
   "id": "2ccef672",
   "metadata": {},
   "source": [
    "<div class=\"alert alert-success\"; style=\"border-left: 7px solid green\">\n",
    "<h3>✔ Комментарий ревьюера V.2</h3>\n",
    "    \n",
    "Проблема в том, что особо не нагуглить :) Кажется, что лучше, чем https://stackoverflow.com/questions/27517425/apply-vs-transform-on-a-group-object ничего нет\n",
    "        \n",
    "Преимущества в том, что такой способ лучше масштабируется и гаранитирует, что в результате получится серия нужного размера\n",
    "</div>  "
   ]
  },
  {
   "cell_type": "markdown",
   "id": "89da5ece",
   "metadata": {
    "deletable": false,
    "id": "89da5ece"
   },
   "source": [
    "### Обработка аномальных значений"
   ]
  },
  {
   "cell_type": "markdown",
   "id": "57964554",
   "metadata": {
    "deletable": false,
    "id": "57964554"
   },
   "source": [
    "**Задание 6. В данных могут встречаться артефакты (аномалии) — значения, которые не отражают действительность и появились по какой-то ошибке. таким артефактом будет отрицательное количество дней трудового стажа в столбце `days_employed`. Для реальных данных это нормально. Обработайте значения в этом столбце: замените все отрицательные значения положительными с помощью метода `abs()`.**"
   ]
  },
  {
   "cell_type": "code",
   "execution_count": 85,
   "id": "f6f055bf",
   "metadata": {
    "deletable": false,
    "id": "f6f055bf"
   },
   "outputs": [],
   "source": [
    "data['days_employed'] = data['days_employed'].abs()"
   ]
  },
  {
   "cell_type": "markdown",
   "id": "6107dd2f",
   "metadata": {
    "deletable": false,
    "id": "6107dd2f"
   },
   "source": [
    "**Задание 7. Для каждого типа занятости выведите медианное значение трудового стажа `days_employed` в днях.**"
   ]
  },
  {
   "cell_type": "code",
   "execution_count": 86,
   "id": "85a5faf6",
   "metadata": {
    "deletable": false,
    "id": "85a5faf6",
    "outputId": "801ef80e-522b-4668-f34e-565af7432bcf"
   },
   "outputs": [
    {
     "data": {
      "text/plain": [
       "income_type\n",
       "безработный        366413.652744\n",
       "в декрете            3296.759962\n",
       "госслужащий          2689.368353\n",
       "компаньон            1547.382223\n",
       "пенсионер          365213.306266\n",
       "предприниматель       520.848083\n",
       "сотрудник            1574.202821\n",
       "студент               578.751554\n",
       "Name: days_employed, dtype: float64"
      ]
     },
     "execution_count": 86,
     "metadata": {},
     "output_type": "execute_result"
    }
   ],
   "source": [
    "data.groupby('income_type')['days_employed'].agg('median')"
   ]
  },
  {
   "cell_type": "markdown",
   "id": "38d1a030",
   "metadata": {
    "deletable": false,
    "id": "38d1a030"
   },
   "source": [
    "У двух типов (безработные и пенсионеры) получатся аномально большие значения. Исправить такие значения сложно, поэтому оставьте их как есть. Тем более этот столбец не понадобится вам для исследования."
   ]
  },
  {
   "cell_type": "markdown",
   "id": "d8a9f147",
   "metadata": {
    "deletable": false,
    "id": "d8a9f147"
   },
   "source": [
    "**Задание 8. Выведите перечень уникальных значений столбца `children`.**"
   ]
  },
  {
   "cell_type": "code",
   "execution_count": 87,
   "id": "ef5056eb",
   "metadata": {
    "deletable": false,
    "id": "ef5056eb",
    "outputId": "6975b15c-7f95-4697-d16d-a0c79b657b03"
   },
   "outputs": [
    {
     "data": {
      "text/plain": [
       "array([ 1,  0,  3,  2, -1,  4, 20,  5])"
      ]
     },
     "execution_count": 87,
     "metadata": {},
     "output_type": "execute_result"
    }
   ],
   "source": [
    "data['children'].unique()"
   ]
  },
  {
   "cell_type": "markdown",
   "id": "40b9ebf2",
   "metadata": {
    "deletable": false,
    "id": "40b9ebf2"
   },
   "source": [
    "**Задание 9. В столбце `children` есть два аномальных значения. Удалите строки, в которых встречаются такие аномальные значения из датафрейма `data`.**"
   ]
  },
  {
   "cell_type": "code",
   "execution_count": 88,
   "id": "3ff9801d",
   "metadata": {
    "deletable": false,
    "id": "3ff9801d"
   },
   "outputs": [],
   "source": [
    "data = data[(data['children'] != -1) & (data['children'] != 20)]"
   ]
  },
  {
   "cell_type": "markdown",
   "id": "bbc4d0ce",
   "metadata": {
    "deletable": false,
    "id": "bbc4d0ce"
   },
   "source": [
    "**Задание 10. Ещё раз выведите перечень уникальных значений столбца `children`, чтобы убедиться, что артефакты удалены.**"
   ]
  },
  {
   "cell_type": "code",
   "execution_count": 89,
   "id": "ad4fa8b7",
   "metadata": {
    "deletable": false,
    "id": "ad4fa8b7",
    "outputId": "b2097101-d49d-44d9-901b-32a65c9463d1"
   },
   "outputs": [
    {
     "data": {
      "text/plain": [
       "array([1, 0, 3, 2, 4, 5])"
      ]
     },
     "execution_count": 89,
     "metadata": {},
     "output_type": "execute_result"
    }
   ],
   "source": [
    "data['children'].unique()"
   ]
  },
  {
   "cell_type": "markdown",
   "id": "75440b63",
   "metadata": {
    "deletable": false,
    "id": "75440b63"
   },
   "source": [
    "### Удаление пропусков (продолжение)"
   ]
  },
  {
   "cell_type": "markdown",
   "id": "f4ea573f",
   "metadata": {
    "deletable": false,
    "id": "f4ea573f"
   },
   "source": [
    "**Задание 11. Заполните пропуски в столбце `days_employed` медианными значениями по каждого типа занятости `income_type`.**"
   ]
  },
  {
   "cell_type": "code",
   "execution_count": 90,
   "id": "af6b1a7e",
   "metadata": {
    "deletable": false,
    "id": "af6b1a7e"
   },
   "outputs": [],
   "source": [
    "for t in data['income_type'].unique():\n",
    "    data.loc[(data['income_type'] == t) & (data['days_employed'].isna()), 'days_employed'] = \\\n",
    "    data.loc[(data['income_type'] == t), 'days_employed'].median()"
   ]
  },
  {
   "cell_type": "markdown",
   "id": "2753f40d",
   "metadata": {
    "deletable": false,
    "id": "2753f40d"
   },
   "source": [
    "**Задание 12. Убедитесь, что все пропуски заполнены. Проверьте себя и ещё раз выведите количество пропущенных значений для каждого столбца с помощью двух методов.**"
   ]
  },
  {
   "cell_type": "code",
   "execution_count": 91,
   "id": "55f78bc2",
   "metadata": {
    "deletable": false,
    "id": "55f78bc2",
    "outputId": "8da1e4e1-358e-4e87-98c9-f261bce0a7b2"
   },
   "outputs": [
    {
     "data": {
      "text/plain": [
       "children            0\n",
       "days_employed       0\n",
       "dob_years           0\n",
       "education           0\n",
       "education_id        0\n",
       "family_status       0\n",
       "family_status_id    0\n",
       "gender              0\n",
       "income_type         0\n",
       "debt                0\n",
       "total_income        0\n",
       "purpose             0\n",
       "dtype: int64"
      ]
     },
     "execution_count": 91,
     "metadata": {},
     "output_type": "execute_result"
    }
   ],
   "source": [
    "data.isna().sum()"
   ]
  },
  {
   "cell_type": "markdown",
   "id": "ddc81e43",
   "metadata": {
    "deletable": false,
    "id": "ddc81e43"
   },
   "source": [
    "### Изменение типов данных"
   ]
  },
  {
   "cell_type": "markdown",
   "id": "42d19d24",
   "metadata": {
    "deletable": false,
    "id": "42d19d24"
   },
   "source": [
    "**Задание 13. Замените вещественный тип данных в столбце `total_income` на целочисленный с помощью метода `astype()`.**"
   ]
  },
  {
   "cell_type": "code",
   "execution_count": 92,
   "id": "920b65ad",
   "metadata": {
    "deletable": false,
    "id": "920b65ad"
   },
   "outputs": [],
   "source": [
    "data['total_income'] = data['total_income'].astype(int)"
   ]
  },
  {
   "cell_type": "markdown",
   "id": "80c420ba",
   "metadata": {
    "deletable": false,
    "id": "80c420ba"
   },
   "source": [
    "### Обработка дубликатов"
   ]
  },
  {
   "cell_type": "markdown",
   "id": "dc587695",
   "metadata": {
    "deletable": false,
    "id": "dc587695"
   },
   "source": [
    "**Задание 14. Выведите на экран количество строк-дубликатов в данных. Если такие строки присутствуют, удалите их.**"
   ]
  },
  {
   "cell_type": "code",
   "execution_count": 93,
   "id": "3ee445e4",
   "metadata": {
    "deletable": false,
    "id": "3ee445e4",
    "outputId": "9684deba-1934-42d1-99e1-cda61740f822"
   },
   "outputs": [
    {
     "data": {
      "text/plain": [
       "54"
      ]
     },
     "execution_count": 93,
     "metadata": {},
     "output_type": "execute_result"
    }
   ],
   "source": [
    "data.duplicated().sum()"
   ]
  },
  {
   "cell_type": "code",
   "execution_count": 94,
   "id": "8575fe05",
   "metadata": {
    "deletable": false,
    "id": "8575fe05"
   },
   "outputs": [],
   "source": [
    "data = data.drop_duplicates()"
   ]
  },
  {
   "cell_type": "markdown",
   "id": "9771a76c",
   "metadata": {
    "deletable": false,
    "id": "9771a76c"
   },
   "source": [
    "**Задание 15. Обработайте неявные дубликаты в столбце `education`. В этом столбце есть одни и те же значения, но записанные по-разному: с использованием заглавных и строчных букв. Приведите их к нижнему регистру. Проверьте остальные столбцы.**"
   ]
  },
  {
   "cell_type": "code",
   "execution_count": 95,
   "id": "a9f8e2bf",
   "metadata": {
    "deletable": false,
    "id": "a9f8e2bf"
   },
   "outputs": [],
   "source": [
    "data['education'] = data['education'].str.lower()"
   ]
  },
  {
   "cell_type": "markdown",
   "id": "9904cf55",
   "metadata": {
    "deletable": false,
    "id": "9904cf55"
   },
   "source": [
    "### Категоризация данных"
   ]
  },
  {
   "cell_type": "markdown",
   "id": "72fcc8a2",
   "metadata": {
    "deletable": false,
    "id": "72fcc8a2"
   },
   "source": [
    "**Задание 16. На основании диапазонов, указанных ниже, создайте в датафрейме `data` столбец `total_income_category` с категориями:**\n",
    "\n",
    "- 0–30000 — `'E'`;\n",
    "- 30001–50000 — `'D'`;\n",
    "- 50001–200000 — `'C'`;\n",
    "- 200001–1000000 — `'B'`;\n",
    "- 1000001 и выше — `'A'`.\n",
    "\n",
    "\n",
    "**Например, кредитополучателю с доходом 25000 нужно назначить категорию `'E'`, а клиенту, получающему 235000, — `'B'`. Используйте собственную функцию с именем `categorize_income()` и метод `apply()`.**"
   ]
  },
  {
   "cell_type": "code",
   "execution_count": 96,
   "id": "e1771346",
   "metadata": {
    "deletable": false,
    "id": "e1771346"
   },
   "outputs": [],
   "source": [
    "def categorize_income(income):\n",
    "    try:\n",
    "        if 0 <= income <= 30000:\n",
    "            return 'E'\n",
    "        elif 30001 <= income <= 50000:\n",
    "            return 'D'\n",
    "        elif 50001 <= income <= 200000:\n",
    "            return 'C'\n",
    "        elif 200001 <= income <= 1000000:\n",
    "            return 'B'\n",
    "        elif income >= 1000001:\n",
    "            return 'A'\n",
    "    except:\n",
    "        pass"
   ]
  },
  {
   "cell_type": "code",
   "execution_count": 97,
   "id": "d5f3586d",
   "metadata": {
    "deletable": false,
    "id": "d5f3586d"
   },
   "outputs": [],
   "source": [
    "data['total_income_category'] = data['total_income'].apply(categorize_income)"
   ]
  },
  {
   "cell_type": "markdown",
   "id": "dde49b5c",
   "metadata": {
    "deletable": false,
    "id": "dde49b5c"
   },
   "source": [
    "**Задание 17. Выведите на экран перечень уникальных целей взятия кредита из столбца `purpose`.**"
   ]
  },
  {
   "cell_type": "code",
   "execution_count": 98,
   "id": "f67ce9b3",
   "metadata": {
    "deletable": false,
    "id": "f67ce9b3",
    "outputId": "673c12d9-7d7e-4ae0-9812-c622c89dd244"
   },
   "outputs": [
    {
     "data": {
      "text/plain": [
       "array(['покупка жилья', 'приобретение автомобиля',\n",
       "       'дополнительное образование', 'сыграть свадьбу',\n",
       "       'операции с жильем', 'образование', 'на проведение свадьбы',\n",
       "       'покупка жилья для семьи', 'покупка недвижимости',\n",
       "       'покупка коммерческой недвижимости', 'покупка жилой недвижимости',\n",
       "       'строительство собственной недвижимости', 'недвижимость',\n",
       "       'строительство недвижимости', 'на покупку подержанного автомобиля',\n",
       "       'на покупку своего автомобиля',\n",
       "       'операции с коммерческой недвижимостью',\n",
       "       'строительство жилой недвижимости', 'жилье',\n",
       "       'операции со своей недвижимостью', 'автомобили',\n",
       "       'заняться образованием', 'сделка с подержанным автомобилем',\n",
       "       'получение образования', 'автомобиль', 'свадьба',\n",
       "       'получение дополнительного образования', 'покупка своего жилья',\n",
       "       'операции с недвижимостью', 'получение высшего образования',\n",
       "       'свой автомобиль', 'сделка с автомобилем',\n",
       "       'профильное образование', 'высшее образование',\n",
       "       'покупка жилья для сдачи', 'на покупку автомобиля', 'ремонт жилью',\n",
       "       'заняться высшим образованием'], dtype=object)"
      ]
     },
     "execution_count": 98,
     "metadata": {},
     "output_type": "execute_result"
    }
   ],
   "source": [
    "data['purpose'].unique()"
   ]
  },
  {
   "cell_type": "markdown",
   "id": "85d0aef0",
   "metadata": {
    "deletable": false,
    "id": "85d0aef0"
   },
   "source": [
    "**Задание 18. Создайте функцию, которая на основании данных из столбца `purpose` сформирует новый столбец `purpose_category`, в который войдут следующие категории:**\n",
    "\n",
    "- `'операции с автомобилем'`,\n",
    "- `'операции с недвижимостью'`,\n",
    "- `'проведение свадьбы'`,\n",
    "- `'получение образования'`.\n",
    "\n",
    "**Например, если в столбце `purpose` находится подстрока `'на покупку автомобиля'`, то в столбце `purpose_category` должна появиться строка `'операции с автомобилем'`.**\n",
    "\n",
    "**Используйте собственную функцию с именем `categorize_purpose()` и метод `apply()`. Изучите данные в столбце `purpose` и определите, какие подстроки помогут вам правильно определить категорию.**"
   ]
  },
  {
   "cell_type": "code",
   "execution_count": 99,
   "id": "e149fab4",
   "metadata": {
    "deletable": false,
    "id": "e149fab4"
   },
   "outputs": [],
   "source": [
    "def categorize_purpose(row):\n",
    "    try:\n",
    "        if 'автом' in row:\n",
    "            return 'операции с автомобилем'\n",
    "        elif 'жил' in row or 'недвиж' in row:\n",
    "            return 'операции с недвижимостью'\n",
    "        elif 'свад' in row:\n",
    "            return 'проведение свадьбы'\n",
    "        elif 'образов' in row:\n",
    "            return 'получение образования'\n",
    "    except:\n",
    "        return 'нет категории'"
   ]
  },
  {
   "cell_type": "code",
   "execution_count": 100,
   "id": "bf36e69b",
   "metadata": {
    "deletable": false,
    "id": "bf36e69b"
   },
   "outputs": [],
   "source": [
    "data['purpose_category'] = data['purpose'].apply(categorize_purpose)"
   ]
  },
  {
   "cell_type": "markdown",
   "id": "09b242bf",
   "metadata": {
    "deletable": false,
    "editable": false,
    "id": "09b242bf"
   },
   "source": [
    "## Исследуйте данные и ответьте на вопросы"
   ]
  },
  {
   "cell_type": "markdown",
   "id": "c5d66278",
   "metadata": {
    "deletable": false,
    "editable": false,
    "id": "c5d66278"
   },
   "source": [
    "**Задание 19. Есть ли зависимость между количеством детей и возвратом кредита в срок?**"
   ]
  },
  {
   "cell_type": "code",
   "execution_count": 101,
   "id": "2cacfc4a",
   "metadata": {
    "id": "2cacfc4a"
   },
   "outputs": [
    {
     "name": "stdout",
     "output_type": "stream",
     "text": [
      "          debt        percent_debt\n",
      "           sum  count             \n",
      "children                          \n",
      "0         1063  14107     7.535266\n",
      "1          444   4809     9.232689\n",
      "2          194   2052     9.454191\n",
      "3           27    330     8.181818\n",
      "4            4     41     9.756098\n",
      "5            0      9     0.000000\n"
     ]
    }
   ],
   "source": [
    "grouped_debt_children = data.groupby('children').agg({'debt':['sum','count']}) #sum показывает количество должников, count - общее число\n",
    "#print(grouped_debt_children)\n",
    "grouped_debt_children['percent_debt'] = grouped_debt_children['debt']['sum']/grouped_debt_children['debt']['count']*100 #процент должников в зависимости от числа детей\n",
    "\n",
    "print(grouped_debt_children)"
   ]
  },
  {
   "cell_type": "markdown",
   "id": "9b1f074a",
   "metadata": {
    "deletable": false,
    "id": "3a6b99ec"
   },
   "source": [
    "**Вывод:** Процент должников не превышает 10% как для людей без детей (8%), так и с 1-4 детьми (8-9%). Случаев взятия кредитов людьми с 5 детьми недостаточно, чтобы делать какие-либо выводы (процент должников равен 0 по данной выборке). Таким образом, зависимости между количеством детей и возвратом кредита в срок нет. "
   ]
  },
  {
   "cell_type": "markdown",
   "id": "fee54728",
   "metadata": {},
   "source": [
    "<div class=\"alert alert-success\"; style=\"border-left: 7px solid green\">\n",
    "<h3>✔ Комментарий ревьюера</h3>\n",
    "    \n",
    "Почему же нет? Разница между некоторыми группами (группами с 0 детей и с 1 ребенком) порядка 20%:\n",
    "</div>    \n"
   ]
  },
  {
   "cell_type": "code",
   "execution_count": 102,
   "id": "ebebdbc3",
   "metadata": {},
   "outputs": [
    {
     "data": {
      "text/plain": [
       "-0.1847826086956521"
      ]
     },
     "execution_count": 102,
     "metadata": {},
     "output_type": "execute_result"
    }
   ],
   "source": [
    "# код ревьюера\n",
    "\n",
    "(7.5 - 9.2) / 9.2"
   ]
  },
  {
   "cell_type": "markdown",
   "id": "f75aceab",
   "metadata": {},
   "source": [
    "<div class=\"alert alert-success\"; style=\"border-left: 7px solid green\">\n",
    "<h3>✔ Комментарий ревьюера</h3>\n",
    "    \n",
    "Конечно, в идеале проверяют, является такая разница случайной или нет, используя стат. тесты и првоеряют к каким денежным потерям такая разница приводит, но здесь такой возможности нет. А так, такие доли это как раз то, что нужно. Можно определить, какая группа рисковая, а какая нет, найдя среднюю долю должников во всей выборке и сравнивать долю в каждой группе со средней.\n",
    "    \n",
    "Саму табличку можно оформить так:\n",
    "</div>    \n"
   ]
  },
  {
   "cell_type": "code",
   "execution_count": 103,
   "id": "138526ec",
   "metadata": {},
   "outputs": [
    {
     "data": {
      "text/html": [
       "<style  type=\"text/css\" >\n",
       "</style><table id=\"T_e76e1_\" ><thead>    <tr>        <th class=\"blank level0\" ></th>        <th class=\"col_heading level0 col0\" >число_клиентов</th>        <th class=\"col_heading level0 col1\" >число_должников</th>        <th class=\"col_heading level0 col2\" >доля_должников</th>    </tr>    <tr>        <th class=\"index_name level0\" >children</th>        <th class=\"blank\" ></th>        <th class=\"blank\" ></th>        <th class=\"blank\" ></th>    </tr></thead><tbody>\n",
       "                <tr>\n",
       "                        <th id=\"T_e76e1_level0_row0\" class=\"row_heading level0 row0\" >0</th>\n",
       "                        <td id=\"T_e76e1_row0_col0\" class=\"data row0 col0\" >14107</td>\n",
       "                        <td id=\"T_e76e1_row0_col1\" class=\"data row0 col1\" >1063</td>\n",
       "                        <td id=\"T_e76e1_row0_col2\" class=\"data row0 col2\" >7.54%</td>\n",
       "            </tr>\n",
       "            <tr>\n",
       "                        <th id=\"T_e76e1_level0_row1\" class=\"row_heading level0 row1\" >1</th>\n",
       "                        <td id=\"T_e76e1_row1_col0\" class=\"data row1 col0\" >4809</td>\n",
       "                        <td id=\"T_e76e1_row1_col1\" class=\"data row1 col1\" >444</td>\n",
       "                        <td id=\"T_e76e1_row1_col2\" class=\"data row1 col2\" >9.23%</td>\n",
       "            </tr>\n",
       "            <tr>\n",
       "                        <th id=\"T_e76e1_level0_row2\" class=\"row_heading level0 row2\" >2</th>\n",
       "                        <td id=\"T_e76e1_row2_col0\" class=\"data row2 col0\" >2052</td>\n",
       "                        <td id=\"T_e76e1_row2_col1\" class=\"data row2 col1\" >194</td>\n",
       "                        <td id=\"T_e76e1_row2_col2\" class=\"data row2 col2\" >9.45%</td>\n",
       "            </tr>\n",
       "            <tr>\n",
       "                        <th id=\"T_e76e1_level0_row3\" class=\"row_heading level0 row3\" >3</th>\n",
       "                        <td id=\"T_e76e1_row3_col0\" class=\"data row3 col0\" >330</td>\n",
       "                        <td id=\"T_e76e1_row3_col1\" class=\"data row3 col1\" >27</td>\n",
       "                        <td id=\"T_e76e1_row3_col2\" class=\"data row3 col2\" >8.18%</td>\n",
       "            </tr>\n",
       "            <tr>\n",
       "                        <th id=\"T_e76e1_level0_row4\" class=\"row_heading level0 row4\" >4</th>\n",
       "                        <td id=\"T_e76e1_row4_col0\" class=\"data row4 col0\" >41</td>\n",
       "                        <td id=\"T_e76e1_row4_col1\" class=\"data row4 col1\" >4</td>\n",
       "                        <td id=\"T_e76e1_row4_col2\" class=\"data row4 col2\" >9.76%</td>\n",
       "            </tr>\n",
       "            <tr>\n",
       "                        <th id=\"T_e76e1_level0_row5\" class=\"row_heading level0 row5\" >5</th>\n",
       "                        <td id=\"T_e76e1_row5_col0\" class=\"data row5 col0\" >9</td>\n",
       "                        <td id=\"T_e76e1_row5_col1\" class=\"data row5 col1\" >0</td>\n",
       "                        <td id=\"T_e76e1_row5_col2\" class=\"data row5 col2\" >0.00%</td>\n",
       "            </tr>\n",
       "    </tbody></table>"
      ],
      "text/plain": [
       "<pandas.io.formats.style.Styler at 0x7f6265d76190>"
      ]
     },
     "execution_count": 103,
     "metadata": {},
     "output_type": "execute_result"
    }
   ],
   "source": [
    "# Код ревьюера\n",
    "\n",
    "data.groupby('children').agg(число_клиентов=('debt','count'),\n",
    "                             число_должников=('debt','sum'),\n",
    "                             доля_должников=('debt','mean')) \\\n",
    "                        .style.format({'доля_должников' : '{:.2%}'})"
   ]
  },
  {
   "cell_type": "markdown",
   "id": "97be82ca",
   "metadata": {
    "deletable": false,
    "editable": false,
    "id": "97be82ca"
   },
   "source": [
    "**Задание 20. Есть ли зависимость между семейным положением и возвратом кредита в срок?**"
   ]
  },
  {
   "cell_type": "code",
   "execution_count": 104,
   "id": "dc3f7ee8",
   "metadata": {
    "id": "dc3f7ee8"
   },
   "outputs": [
    {
     "name": "stdout",
     "output_type": "stream",
     "text": [
      "                      debt        percent_debt\n",
      "                       sum  count             \n",
      "family_status                                 \n",
      "Не женат / не замужем  273   2796     9.763948\n",
      "в разводе               84   1189     7.064760\n",
      "вдовец / вдова          63    951     6.624606\n",
      "гражданский брак       385   4146     9.286059\n",
      "женат / замужем        927  12266     7.557476\n"
     ]
    }
   ],
   "source": [
    "grouped_debt_family_status = data.groupby('family_status').agg({'debt':['sum','count']}) \n",
    "grouped_debt_family_status['percent_debt'] = grouped_debt_family_status['debt']['sum']/grouped_debt_family_status['debt']['count']*100 \n",
    "print(grouped_debt_family_status)"
   ]
  },
  {
   "cell_type": "markdown",
   "id": "0d72f020",
   "metadata": {},
   "source": [
    "<div class=\"alert alert-success\"; style=\"border-left: 7px solid green\">\n",
    "<h3>✔ Комментарий ревьюера</h3>\n",
    "    \n",
    "Чтобы не копировать один и тот же код, можно написать функцию и переиспользовать её</div>    \n"
   ]
  },
  {
   "cell_type": "markdown",
   "id": "f9e6d67c",
   "metadata": {},
   "source": [
    "<div class = \"alert alert-info\" style=\"border-left: 7px solid blue\">\n",
    "<h3>✔ Комментарий студента 2 </h3>\n",
    "Ниже прикрепляю код функции\n",
    "</div>  "
   ]
  },
  {
   "cell_type": "markdown",
   "id": "c32d7220",
   "metadata": {},
   "source": [
    "<div class=\"alert alert-success\"; style=\"border-left: 7px solid green\">\n",
    "<h3>✔ Комментарий ревьюера V.2</h3>\n",
    "    \n",
    "👍\n",
    "</div>  "
   ]
  },
  {
   "cell_type": "code",
   "execution_count": 105,
   "id": "f8742ae4",
   "metadata": {},
   "outputs": [],
   "source": [
    "#код студента\n",
    "def grouping(df, column):\n",
    "    grouped_debt = df.groupby(column).agg({'debt':['sum','count']})\n",
    "    grouped_debt['percent_debt'] = grouped_debt['debt']['sum']/grouped_debt['debt']['count']*100\n",
    "    return grouped_debt"
   ]
  },
  {
   "cell_type": "code",
   "execution_count": 106,
   "id": "f6570990",
   "metadata": {},
   "outputs": [
    {
     "data": {
      "text/html": [
       "<div>\n",
       "<style scoped>\n",
       "    .dataframe tbody tr th:only-of-type {\n",
       "        vertical-align: middle;\n",
       "    }\n",
       "\n",
       "    .dataframe tbody tr th {\n",
       "        vertical-align: top;\n",
       "    }\n",
       "\n",
       "    .dataframe thead tr th {\n",
       "        text-align: left;\n",
       "    }\n",
       "\n",
       "    .dataframe thead tr:last-of-type th {\n",
       "        text-align: right;\n",
       "    }\n",
       "</style>\n",
       "<table border=\"1\" class=\"dataframe\">\n",
       "  <thead>\n",
       "    <tr>\n",
       "      <th></th>\n",
       "      <th colspan=\"2\" halign=\"left\">debt</th>\n",
       "      <th>percent_debt</th>\n",
       "    </tr>\n",
       "    <tr>\n",
       "      <th></th>\n",
       "      <th>sum</th>\n",
       "      <th>count</th>\n",
       "      <th></th>\n",
       "    </tr>\n",
       "    <tr>\n",
       "      <th>family_status</th>\n",
       "      <th></th>\n",
       "      <th></th>\n",
       "      <th></th>\n",
       "    </tr>\n",
       "  </thead>\n",
       "  <tbody>\n",
       "    <tr>\n",
       "      <th>Не женат / не замужем</th>\n",
       "      <td>273</td>\n",
       "      <td>2796</td>\n",
       "      <td>9.763948</td>\n",
       "    </tr>\n",
       "    <tr>\n",
       "      <th>в разводе</th>\n",
       "      <td>84</td>\n",
       "      <td>1189</td>\n",
       "      <td>7.064760</td>\n",
       "    </tr>\n",
       "    <tr>\n",
       "      <th>вдовец / вдова</th>\n",
       "      <td>63</td>\n",
       "      <td>951</td>\n",
       "      <td>6.624606</td>\n",
       "    </tr>\n",
       "    <tr>\n",
       "      <th>гражданский брак</th>\n",
       "      <td>385</td>\n",
       "      <td>4146</td>\n",
       "      <td>9.286059</td>\n",
       "    </tr>\n",
       "    <tr>\n",
       "      <th>женат / замужем</th>\n",
       "      <td>927</td>\n",
       "      <td>12266</td>\n",
       "      <td>7.557476</td>\n",
       "    </tr>\n",
       "  </tbody>\n",
       "</table>\n",
       "</div>"
      ],
      "text/plain": [
       "                      debt        percent_debt\n",
       "                       sum  count             \n",
       "family_status                                 \n",
       "Не женат / не замужем  273   2796     9.763948\n",
       "в разводе               84   1189     7.064760\n",
       "вдовец / вдова          63    951     6.624606\n",
       "гражданский брак       385   4146     9.286059\n",
       "женат / замужем        927  12266     7.557476"
      ]
     },
     "metadata": {},
     "output_type": "display_data"
    },
    {
     "data": {
      "text/html": [
       "<div>\n",
       "<style scoped>\n",
       "    .dataframe tbody tr th:only-of-type {\n",
       "        vertical-align: middle;\n",
       "    }\n",
       "\n",
       "    .dataframe tbody tr th {\n",
       "        vertical-align: top;\n",
       "    }\n",
       "\n",
       "    .dataframe thead tr th {\n",
       "        text-align: left;\n",
       "    }\n",
       "\n",
       "    .dataframe thead tr:last-of-type th {\n",
       "        text-align: right;\n",
       "    }\n",
       "</style>\n",
       "<table border=\"1\" class=\"dataframe\">\n",
       "  <thead>\n",
       "    <tr>\n",
       "      <th></th>\n",
       "      <th colspan=\"2\" halign=\"left\">debt</th>\n",
       "      <th>percent_debt</th>\n",
       "    </tr>\n",
       "    <tr>\n",
       "      <th></th>\n",
       "      <th>sum</th>\n",
       "      <th>count</th>\n",
       "      <th></th>\n",
       "    </tr>\n",
       "    <tr>\n",
       "      <th>total_income_category</th>\n",
       "      <th></th>\n",
       "      <th></th>\n",
       "      <th></th>\n",
       "    </tr>\n",
       "  </thead>\n",
       "  <tbody>\n",
       "    <tr>\n",
       "      <th>A</th>\n",
       "      <td>2</td>\n",
       "      <td>25</td>\n",
       "      <td>8.000000</td>\n",
       "    </tr>\n",
       "    <tr>\n",
       "      <th>B</th>\n",
       "      <td>354</td>\n",
       "      <td>5014</td>\n",
       "      <td>7.060231</td>\n",
       "    </tr>\n",
       "    <tr>\n",
       "      <th>C</th>\n",
       "      <td>1353</td>\n",
       "      <td>15938</td>\n",
       "      <td>8.489145</td>\n",
       "    </tr>\n",
       "    <tr>\n",
       "      <th>D</th>\n",
       "      <td>21</td>\n",
       "      <td>349</td>\n",
       "      <td>6.017192</td>\n",
       "    </tr>\n",
       "    <tr>\n",
       "      <th>E</th>\n",
       "      <td>2</td>\n",
       "      <td>22</td>\n",
       "      <td>9.090909</td>\n",
       "    </tr>\n",
       "  </tbody>\n",
       "</table>\n",
       "</div>"
      ],
      "text/plain": [
       "                       debt        percent_debt\n",
       "                        sum  count             \n",
       "total_income_category                          \n",
       "A                         2     25     8.000000\n",
       "B                       354   5014     7.060231\n",
       "C                      1353  15938     8.489145\n",
       "D                        21    349     6.017192\n",
       "E                         2     22     9.090909"
      ]
     },
     "metadata": {},
     "output_type": "display_data"
    },
    {
     "data": {
      "text/html": [
       "<div>\n",
       "<style scoped>\n",
       "    .dataframe tbody tr th:only-of-type {\n",
       "        vertical-align: middle;\n",
       "    }\n",
       "\n",
       "    .dataframe tbody tr th {\n",
       "        vertical-align: top;\n",
       "    }\n",
       "\n",
       "    .dataframe thead tr th {\n",
       "        text-align: left;\n",
       "    }\n",
       "\n",
       "    .dataframe thead tr:last-of-type th {\n",
       "        text-align: right;\n",
       "    }\n",
       "</style>\n",
       "<table border=\"1\" class=\"dataframe\">\n",
       "  <thead>\n",
       "    <tr>\n",
       "      <th></th>\n",
       "      <th colspan=\"2\" halign=\"left\">debt</th>\n",
       "      <th>percent_debt</th>\n",
       "    </tr>\n",
       "    <tr>\n",
       "      <th></th>\n",
       "      <th>sum</th>\n",
       "      <th>count</th>\n",
       "      <th></th>\n",
       "    </tr>\n",
       "    <tr>\n",
       "      <th>purpose_category</th>\n",
       "      <th></th>\n",
       "      <th></th>\n",
       "      <th></th>\n",
       "    </tr>\n",
       "  </thead>\n",
       "  <tbody>\n",
       "    <tr>\n",
       "      <th>операции с автомобилем</th>\n",
       "      <td>400</td>\n",
       "      <td>4281</td>\n",
       "      <td>9.343611</td>\n",
       "    </tr>\n",
       "    <tr>\n",
       "      <th>операции с недвижимостью</th>\n",
       "      <td>780</td>\n",
       "      <td>10754</td>\n",
       "      <td>7.253115</td>\n",
       "    </tr>\n",
       "    <tr>\n",
       "      <th>получение образования</th>\n",
       "      <td>369</td>\n",
       "      <td>3989</td>\n",
       "      <td>9.250439</td>\n",
       "    </tr>\n",
       "    <tr>\n",
       "      <th>проведение свадьбы</th>\n",
       "      <td>183</td>\n",
       "      <td>2324</td>\n",
       "      <td>7.874355</td>\n",
       "    </tr>\n",
       "  </tbody>\n",
       "</table>\n",
       "</div>"
      ],
      "text/plain": [
       "                         debt        percent_debt\n",
       "                          sum  count             \n",
       "purpose_category                                 \n",
       "операции с автомобилем    400   4281     9.343611\n",
       "операции с недвижимостью  780  10754     7.253115\n",
       "получение образования     369   3989     9.250439\n",
       "проведение свадьбы        183   2324     7.874355"
      ]
     },
     "metadata": {},
     "output_type": "display_data"
    }
   ],
   "source": [
    "display(grouping(df=data, column='family_status'))\n",
    "display(grouping(df=data, column='total_income_category'))\n",
    "display(grouping(df=data, column='purpose_category'))"
   ]
  },
  {
   "cell_type": "markdown",
   "id": "07653632",
   "metadata": {},
   "source": [
    "<div class=\"alert alert-success\"; style=\"border-left: 7px solid green\">\n",
    "<h3>✔ Комментарий ревьюера V.2</h3>\n",
    "    \n",
    "Ну вот, всего 3 строки :) \n",
    "</div>  "
   ]
  },
  {
   "cell_type": "markdown",
   "id": "1cef7837",
   "metadata": {
    "deletable": false,
    "id": "1cef7837"
   },
   "source": [
    "**Вывод:** Для женатых людей, людей в разводе и вдовцов/вдов процент должников составляет 7-8%, в то время как 10% не женатых и 9% людей, живущих в гражданском браке, не возвращают кредит в срок. \n",
    "Таким образом, можно утверждать, что существует зависимость между семейным положением и возвратом кредита в срок: люди, когда-либо состоящие в браке, реже попадают в ряды должников по выплатам кредита, чем те, что официально не женаты."
   ]
  },
  {
   "cell_type": "markdown",
   "id": "1e8b2fca",
   "metadata": {
    "deletable": false,
    "editable": false,
    "id": "1e8b2fca"
   },
   "source": [
    "**Задание 21. Есть ли зависимость между уровнем дохода и возвратом кредита в срок?**"
   ]
  },
  {
   "cell_type": "code",
   "execution_count": 107,
   "id": "cd7e3720",
   "metadata": {
    "id": "cd7e3720"
   },
   "outputs": [
    {
     "name": "stdout",
     "output_type": "stream",
     "text": [
      "                       debt        percent_debt\n",
      "                        sum  count             \n",
      "total_income_category                          \n",
      "A                         2     25     8.000000\n",
      "B                       354   5014     7.060231\n",
      "C                      1353  15938     8.489145\n",
      "D                        21    349     6.017192\n",
      "E                         2     22     9.090909\n"
     ]
    }
   ],
   "source": [
    "grouped_debt_total_income_category = data.groupby('total_income_category').agg({'debt':['sum','count']}) \n",
    "grouped_debt_total_income_category['percent_debt'] = grouped_debt_total_income_category['debt']['sum']/grouped_debt_total_income_category['debt']['count']*100 \n",
    "print(grouped_debt_total_income_category)"
   ]
  },
  {
   "cell_type": "markdown",
   "id": "e8593def",
   "metadata": {
    "deletable": false,
    "id": "e8593def"
   },
   "source": [
    "**Вывод:** Логично было бы предположить, что чем ниже уровень дохода, тем выше вероятность возникновения задолженности. Процент должников с уровнем дохода категории \"Е\" (0-30000) составляет 9%, что является максимальным значением. Однако линейной зависимости между уровнем дохода и возвратом кредита в срок не наблюдается: минимальный процент должников имеет группа, с категорией дохода \"D\" (30001-50000) - 6%. Поэтому, прямой зависимости между уровнем дохода и возвратом кредита в срок нет. Для каждой группы процент задолженностей не превышает 10%."
   ]
  },
  {
   "cell_type": "markdown",
   "id": "99ecbd1f",
   "metadata": {
    "deletable": false,
    "editable": false,
    "id": "99ecbd1f"
   },
   "source": [
    "**Задание 22. Как разные цели кредита влияют на его возврат в срок?**"
   ]
  },
  {
   "cell_type": "code",
   "execution_count": 108,
   "id": "2b687290",
   "metadata": {
    "id": "2b687290"
   },
   "outputs": [
    {
     "name": "stdout",
     "output_type": "stream",
     "text": [
      "                         debt        percent_debt\n",
      "                          sum  count             \n",
      "purpose_category                                 \n",
      "операции с автомобилем    400   4281     9.343611\n",
      "операции с недвижимостью  780  10754     7.253115\n",
      "получение образования     369   3989     9.250439\n",
      "проведение свадьбы        183   2324     7.874355\n"
     ]
    }
   ],
   "source": [
    "grouped_debt_purpose_category = data.groupby('purpose_category').agg({'debt':['sum','count']}) \n",
    "grouped_debt_purpose_category['percent_debt'] = grouped_debt_purpose_category['debt']['sum']/grouped_debt_purpose_category['debt']['count']*100 \n",
    "print(grouped_debt_purpose_category)"
   ]
  },
  {
   "cell_type": "markdown",
   "id": "b4bb2ce6",
   "metadata": {
    "deletable": false,
    "id": "b4bb2ce6"
   },
   "source": [
    "**Вывод:** Для таких целей, как \"операции с автомобилем\" и \"получение образования\" наблюдается наибольший процент должников - 9.3%, в то время как при операциях с недвижимостью и проведении свадьбы задолженность возникает реже (7% и 8% соответственно)."
   ]
  },
  {
   "cell_type": "markdown",
   "id": "f5ea3f0e",
   "metadata": {},
   "source": [
    "<div class=\"alert alert-success\"; style=\"border-left: 7px solid green\">\n",
    "<h3>✔ Комментарий ревьюера</h3>\n",
    "    \n",
    "Выводить датафреймы, кстати, нужно через `display`, так они выводятся в `html` табличках</div>    \n"
   ]
  },
  {
   "cell_type": "markdown",
   "id": "09c3ac4c",
   "metadata": {
    "deletable": false,
    "editable": false,
    "id": "09c3ac4c"
   },
   "source": [
    "**Задание 23. Приведите возможные причины появления пропусков в исходных данных.**"
   ]
  },
  {
   "cell_type": "markdown",
   "id": "9da2ceda",
   "metadata": {
    "deletable": false,
    "id": "9da2ceda"
   },
   "source": [
    "*Ответ:* технологические (ошибки при вводе, копировании, считывании или форматировании), сокрытие информации "
   ]
  },
  {
   "cell_type": "markdown",
   "id": "09a9ba95",
   "metadata": {},
   "source": [
    "<div class=\"alert alert-success\"; style=\"border-left: 7px solid green\">\n",
    "<h3>✔ Комментарий ревьюера</h3>\n",
    "    \n",
    "На самом деле больший практический смысл имеет характер пропусков, а не сама причина. Тут пропуски распределены равномерно по датасету, что позволяет заменить их на медиану</div>    \n"
   ]
  },
  {
   "cell_type": "markdown",
   "id": "7b0487d6",
   "metadata": {
    "deletable": false,
    "editable": false,
    "id": "7b0487d6"
   },
   "source": [
    "**Задание 24. Объясните, почему заполнить пропуски медианным значением — лучшее решение для количественных переменных.**"
   ]
  },
  {
   "cell_type": "markdown",
   "id": "7ecf2b8e",
   "metadata": {
    "deletable": false,
    "id": "7ecf2b8e"
   },
   "source": [
    "*Ответ:* Среднее значение некорректно характеризует данные, когда некоторые значения сильно выделяются среди большинства. Медиана дает более объективную информацию о данных, чем среднее значение."
   ]
  },
  {
   "cell_type": "markdown",
   "id": "5e9d30f2",
   "metadata": {},
   "source": [
    "<div class=\"alert alert-success\"; style=\"border-left: 7px solid green\">\n",
    "<h3>✔ Комментарий ревьюера</h3>\n",
    "    \n",
    "> Среднее значение некорректно характеризует данные\n",
    "\n",
    "У такой формулировки очень широкий смысл. Медиана лучше описыват наиболее вероятные значения для выборки в случае, если есть выбивающиеся значения\n",
    "</div>    \n"
   ]
  },
  {
   "cell_type": "markdown",
   "id": "6db5255a",
   "metadata": {
    "deletable": false,
    "editable": false,
    "id": "6db5255a"
   },
   "source": [
    "## Общий вывод."
   ]
  },
  {
   "cell_type": "markdown",
   "id": "bad65432",
   "metadata": {
    "id": "bad65432"
   },
   "source": [
    "По результатам исследования можно сделать вывод, что семейное положение влияет на факт погашения кредита в срок: люди, когда-либо состоящие в браке, реже попадают в ряды должников по выплатам кредита, чем те, что официально не женаты. Количество детей клиента не влияет на факт погашения кредита в срок, поскольку процент должников не превышает 10% как для людей без детей (8%), так и с 1-4 детьми (8-9%). "
   ]
  },
  {
   "cell_type": "markdown",
   "id": "7b10119b",
   "metadata": {},
   "source": [
    "<div class=\"alert alert-success\"; style=\"border-left: 7px solid green\">\n",
    "<h3>✔ Комментарий ревьюера</h3>\n",
    "    \n",
    "Всё верно, можно прорезюмировать портреты добросовестного должника и недобросовестного.\n",
    "\n",
    "Дальше в курсе будет статистика и научат опредлять, когда разница между группами случайная, а когда нет\n",
    "</div>    \n"
   ]
  }
 ],
 "metadata": {
  "ExecuteTimeLog": [
   {
    "duration": 468,
    "start_time": "2022-07-11T07:34:16.041Z"
   },
   {
    "duration": 21,
    "start_time": "2022-07-11T07:34:16.511Z"
   },
   {
    "duration": 17,
    "start_time": "2022-07-11T07:34:16.534Z"
   },
   {
    "duration": 14,
    "start_time": "2022-07-11T07:34:16.553Z"
   },
   {
    "duration": 29,
    "start_time": "2022-07-11T07:34:16.569Z"
   },
   {
    "duration": 3,
    "start_time": "2022-07-11T07:34:16.600Z"
   },
   {
    "duration": 13,
    "start_time": "2022-07-11T07:34:16.604Z"
   },
   {
    "duration": 4,
    "start_time": "2022-07-11T07:34:16.618Z"
   },
   {
    "duration": 25,
    "start_time": "2022-07-11T07:34:16.624Z"
   },
   {
    "duration": 10,
    "start_time": "2022-07-11T07:34:16.650Z"
   },
   {
    "duration": 31,
    "start_time": "2022-07-11T07:34:16.661Z"
   },
   {
    "duration": 8,
    "start_time": "2022-07-11T07:34:16.693Z"
   },
   {
    "duration": 4,
    "start_time": "2022-07-11T07:34:16.702Z"
   },
   {
    "duration": 20,
    "start_time": "2022-07-11T07:34:16.708Z"
   },
   {
    "duration": 32,
    "start_time": "2022-07-11T07:34:16.729Z"
   },
   {
    "duration": 10,
    "start_time": "2022-07-11T07:34:16.763Z"
   },
   {
    "duration": 5,
    "start_time": "2022-07-11T07:34:16.775Z"
   },
   {
    "duration": 16,
    "start_time": "2022-07-11T07:34:16.782Z"
   },
   {
    "duration": 5,
    "start_time": "2022-07-11T07:34:16.800Z"
   },
   {
    "duration": 7,
    "start_time": "2022-07-11T07:34:16.806Z"
   },
   {
    "duration": 9,
    "start_time": "2022-07-11T07:34:16.814Z"
   },
   {
    "duration": 19,
    "start_time": "2022-07-11T07:34:16.824Z"
   },
   {
    "duration": 6,
    "start_time": "2022-07-11T07:34:16.851Z"
   },
   {
    "duration": 3,
    "start_time": "2022-07-11T07:34:16.861Z"
   },
   {
    "duration": 5,
    "start_time": "2022-07-11T07:34:16.865Z"
   },
   {
    "duration": 55,
    "start_time": "2022-07-11T10:18:18.998Z"
   },
   {
    "duration": 14,
    "start_time": "2022-07-11T10:18:19.054Z"
   },
   {
    "duration": 16,
    "start_time": "2022-07-11T10:18:19.070Z"
   },
   {
    "duration": 7,
    "start_time": "2022-07-11T10:18:19.088Z"
   },
   {
    "duration": 49,
    "start_time": "2022-07-11T10:18:19.097Z"
   },
   {
    "duration": 3,
    "start_time": "2022-07-11T10:18:19.147Z"
   },
   {
    "duration": 11,
    "start_time": "2022-07-11T10:18:19.152Z"
   },
   {
    "duration": 4,
    "start_time": "2022-07-11T10:18:19.164Z"
   },
   {
    "duration": 7,
    "start_time": "2022-07-11T10:18:19.169Z"
   },
   {
    "duration": 5,
    "start_time": "2022-07-11T10:18:19.177Z"
   },
   {
    "duration": 62,
    "start_time": "2022-07-11T10:18:19.184Z"
   },
   {
    "duration": 10,
    "start_time": "2022-07-11T10:18:19.248Z"
   },
   {
    "duration": 4,
    "start_time": "2022-07-11T10:18:19.260Z"
   },
   {
    "duration": 22,
    "start_time": "2022-07-11T10:18:19.267Z"
   },
   {
    "duration": 17,
    "start_time": "2022-07-11T10:18:19.290Z"
   },
   {
    "duration": 37,
    "start_time": "2022-07-11T10:18:19.308Z"
   },
   {
    "duration": 4,
    "start_time": "2022-07-11T10:18:19.346Z"
   },
   {
    "duration": 13,
    "start_time": "2022-07-11T10:18:19.351Z"
   },
   {
    "duration": 5,
    "start_time": "2022-07-11T10:18:19.365Z"
   },
   {
    "duration": 6,
    "start_time": "2022-07-11T10:18:19.371Z"
   },
   {
    "duration": 10,
    "start_time": "2022-07-11T10:18:19.378Z"
   },
   {
    "duration": 2,
    "start_time": "2022-07-11T10:18:19.389Z"
   },
   {
    "duration": 7,
    "start_time": "2022-07-11T10:18:19.393Z"
   },
   {
    "duration": 6,
    "start_time": "2022-07-11T10:18:19.402Z"
   },
   {
    "duration": 5,
    "start_time": "2022-07-11T10:18:19.410Z"
   },
   {
    "duration": 8,
    "start_time": "2022-07-11T10:18:42.152Z"
   },
   {
    "duration": 10,
    "start_time": "2022-07-11T10:19:29.416Z"
   },
   {
    "duration": 1119,
    "start_time": "2022-07-11T10:21:09.972Z"
   },
   {
    "duration": 4,
    "start_time": "2022-07-11T10:21:26.693Z"
   },
   {
    "duration": 6,
    "start_time": "2022-07-11T10:21:47.056Z"
   },
   {
    "duration": 56,
    "start_time": "2022-07-11T10:22:08.706Z"
   },
   {
    "duration": 5,
    "start_time": "2022-07-11T10:22:18.449Z"
   },
   {
    "duration": 51,
    "start_time": "2022-07-11T11:34:49.592Z"
   },
   {
    "duration": 13,
    "start_time": "2022-07-11T11:34:49.645Z"
   },
   {
    "duration": 16,
    "start_time": "2022-07-11T11:34:49.659Z"
   },
   {
    "duration": 7,
    "start_time": "2022-07-11T11:34:49.677Z"
   },
   {
    "duration": 28,
    "start_time": "2022-07-11T11:34:49.687Z"
   },
   {
    "duration": 26,
    "start_time": "2022-07-11T11:34:49.717Z"
   },
   {
    "duration": 11,
    "start_time": "2022-07-11T11:34:49.745Z"
   },
   {
    "duration": 4,
    "start_time": "2022-07-11T11:34:49.758Z"
   },
   {
    "duration": 6,
    "start_time": "2022-07-11T11:34:49.763Z"
   },
   {
    "duration": 4,
    "start_time": "2022-07-11T11:34:49.770Z"
   },
   {
    "duration": 33,
    "start_time": "2022-07-11T11:34:49.775Z"
   },
   {
    "duration": 8,
    "start_time": "2022-07-11T11:34:49.809Z"
   },
   {
    "duration": 27,
    "start_time": "2022-07-11T11:34:49.818Z"
   },
   {
    "duration": 18,
    "start_time": "2022-07-11T11:34:49.848Z"
   },
   {
    "duration": 15,
    "start_time": "2022-07-11T11:34:49.868Z"
   },
   {
    "duration": 9,
    "start_time": "2022-07-11T11:34:49.885Z"
   },
   {
    "duration": 5,
    "start_time": "2022-07-11T11:34:49.896Z"
   },
   {
    "duration": 11,
    "start_time": "2022-07-11T11:34:49.903Z"
   },
   {
    "duration": 30,
    "start_time": "2022-07-11T11:34:49.916Z"
   },
   {
    "duration": 5,
    "start_time": "2022-07-11T11:34:49.948Z"
   },
   {
    "duration": 11,
    "start_time": "2022-07-11T11:34:49.954Z"
   },
   {
    "duration": 4,
    "start_time": "2022-07-11T11:34:49.967Z"
   },
   {
    "duration": 5,
    "start_time": "2022-07-11T11:34:49.972Z"
   },
   {
    "duration": 4,
    "start_time": "2022-07-11T11:34:49.978Z"
   },
   {
    "duration": 8,
    "start_time": "2022-07-11T11:34:49.983Z"
   },
   {
    "duration": 4,
    "start_time": "2022-07-11T11:35:26.553Z"
   },
   {
    "duration": 74,
    "start_time": "2022-07-11T11:38:06.656Z"
   },
   {
    "duration": 20,
    "start_time": "2022-07-11T11:38:06.732Z"
   },
   {
    "duration": 21,
    "start_time": "2022-07-11T11:38:06.754Z"
   },
   {
    "duration": 11,
    "start_time": "2022-07-11T11:38:06.777Z"
   },
   {
    "duration": 37,
    "start_time": "2022-07-11T11:38:06.790Z"
   },
   {
    "duration": 15,
    "start_time": "2022-07-11T11:38:06.828Z"
   },
   {
    "duration": 15,
    "start_time": "2022-07-11T11:38:06.844Z"
   },
   {
    "duration": 12,
    "start_time": "2022-07-11T11:38:06.860Z"
   },
   {
    "duration": 18,
    "start_time": "2022-07-11T11:38:06.873Z"
   },
   {
    "duration": 18,
    "start_time": "2022-07-11T11:38:06.892Z"
   },
   {
    "duration": 39,
    "start_time": "2022-07-11T11:38:06.911Z"
   },
   {
    "duration": 8,
    "start_time": "2022-07-11T11:38:06.952Z"
   },
   {
    "duration": 3,
    "start_time": "2022-07-11T11:38:06.961Z"
   },
   {
    "duration": 31,
    "start_time": "2022-07-11T11:38:06.966Z"
   },
   {
    "duration": 14,
    "start_time": "2022-07-11T11:38:06.998Z"
   },
   {
    "duration": 36,
    "start_time": "2022-07-11T11:38:07.013Z"
   },
   {
    "duration": 6,
    "start_time": "2022-07-11T11:38:07.051Z"
   },
   {
    "duration": 19,
    "start_time": "2022-07-11T11:38:07.058Z"
   },
   {
    "duration": 8,
    "start_time": "2022-07-11T11:38:07.079Z"
   },
   {
    "duration": 9,
    "start_time": "2022-07-11T11:38:07.088Z"
   },
   {
    "duration": 21,
    "start_time": "2022-07-11T11:38:07.098Z"
   },
   {
    "duration": 21,
    "start_time": "2022-07-11T11:38:07.121Z"
   },
   {
    "duration": 13,
    "start_time": "2022-07-11T11:38:07.144Z"
   },
   {
    "duration": 15,
    "start_time": "2022-07-11T11:38:07.158Z"
   },
   {
    "duration": 5,
    "start_time": "2022-07-11T11:38:07.175Z"
   },
   {
    "duration": 16,
    "start_time": "2022-07-11T11:38:31.052Z"
   },
   {
    "duration": 8,
    "start_time": "2022-07-11T11:38:35.369Z"
   },
   {
    "duration": 8,
    "start_time": "2022-07-11T11:41:35.418Z"
   },
   {
    "duration": 17,
    "start_time": "2022-07-11T11:41:54.705Z"
   },
   {
    "duration": 86,
    "start_time": "2022-07-11T11:44:29.769Z"
   },
   {
    "duration": 9,
    "start_time": "2022-07-11T11:44:41.661Z"
   },
   {
    "duration": 952,
    "start_time": "2022-07-11T11:48:36.243Z"
   },
   {
    "duration": 10,
    "start_time": "2022-07-11T11:49:07.184Z"
   },
   {
    "duration": 10,
    "start_time": "2022-07-11T11:49:21.692Z"
   },
   {
    "duration": 13,
    "start_time": "2022-07-11T11:49:25.015Z"
   },
   {
    "duration": 11,
    "start_time": "2022-07-11T11:49:47.816Z"
   },
   {
    "duration": 9,
    "start_time": "2022-07-11T11:49:53.665Z"
   },
   {
    "duration": 12,
    "start_time": "2022-07-11T11:55:06.028Z"
   },
   {
    "duration": 61,
    "start_time": "2022-07-11T11:57:21.163Z"
   },
   {
    "duration": 20,
    "start_time": "2022-07-11T12:00:08.715Z"
   },
   {
    "duration": 13,
    "start_time": "2022-07-11T12:00:56.530Z"
   },
   {
    "duration": 11,
    "start_time": "2022-07-11T12:01:19.553Z"
   },
   {
    "duration": 13,
    "start_time": "2022-07-11T12:02:10.655Z"
   },
   {
    "duration": 453,
    "start_time": "2022-07-11T19:04:53.787Z"
   },
   {
    "duration": 21,
    "start_time": "2022-07-11T19:04:54.242Z"
   },
   {
    "duration": 13,
    "start_time": "2022-07-11T19:04:54.264Z"
   },
   {
    "duration": 10,
    "start_time": "2022-07-11T19:04:54.278Z"
   },
   {
    "duration": 30,
    "start_time": "2022-07-11T19:04:54.290Z"
   },
   {
    "duration": 3,
    "start_time": "2022-07-11T19:04:54.343Z"
   },
   {
    "duration": 12,
    "start_time": "2022-07-11T19:04:54.348Z"
   },
   {
    "duration": 5,
    "start_time": "2022-07-11T19:04:54.362Z"
   },
   {
    "duration": 13,
    "start_time": "2022-07-11T19:04:54.368Z"
   },
   {
    "duration": 29,
    "start_time": "2022-07-11T19:04:54.384Z"
   },
   {
    "duration": 43,
    "start_time": "2022-07-11T19:04:54.416Z"
   },
   {
    "duration": 10,
    "start_time": "2022-07-11T19:04:54.461Z"
   },
   {
    "duration": 19,
    "start_time": "2022-07-11T19:04:54.473Z"
   },
   {
    "duration": 28,
    "start_time": "2022-07-11T19:04:54.495Z"
   },
   {
    "duration": 20,
    "start_time": "2022-07-11T19:04:54.525Z"
   },
   {
    "duration": 15,
    "start_time": "2022-07-11T19:04:54.547Z"
   },
   {
    "duration": 11,
    "start_time": "2022-07-11T19:04:54.564Z"
   },
   {
    "duration": 15,
    "start_time": "2022-07-11T19:04:54.576Z"
   },
   {
    "duration": 18,
    "start_time": "2022-07-11T19:04:54.593Z"
   },
   {
    "duration": 9,
    "start_time": "2022-07-11T19:04:54.613Z"
   },
   {
    "duration": 19,
    "start_time": "2022-07-11T19:04:54.623Z"
   },
   {
    "duration": 11,
    "start_time": "2022-07-11T19:04:54.644Z"
   },
   {
    "duration": 2,
    "start_time": "2022-07-11T19:04:54.656Z"
   },
   {
    "duration": 7,
    "start_time": "2022-07-11T19:04:54.660Z"
   },
   {
    "duration": 5,
    "start_time": "2022-07-11T19:04:54.669Z"
   },
   {
    "duration": 48,
    "start_time": "2022-07-11T22:18:10.854Z"
   },
   {
    "duration": 519,
    "start_time": "2022-07-11T22:18:15.064Z"
   },
   {
    "duration": 27,
    "start_time": "2022-07-11T22:18:15.585Z"
   },
   {
    "duration": 21,
    "start_time": "2022-07-11T22:18:15.616Z"
   },
   {
    "duration": 20,
    "start_time": "2022-07-11T22:18:15.639Z"
   },
   {
    "duration": 34,
    "start_time": "2022-07-11T22:18:15.661Z"
   },
   {
    "duration": 3,
    "start_time": "2022-07-11T22:18:15.697Z"
   },
   {
    "duration": 28,
    "start_time": "2022-07-11T22:18:15.702Z"
   },
   {
    "duration": 5,
    "start_time": "2022-07-11T22:18:15.732Z"
   },
   {
    "duration": 17,
    "start_time": "2022-07-11T22:18:15.739Z"
   },
   {
    "duration": 5,
    "start_time": "2022-07-11T22:18:15.758Z"
   },
   {
    "duration": 36,
    "start_time": "2022-07-11T22:18:15.765Z"
   },
   {
    "duration": 35,
    "start_time": "2022-07-11T22:18:15.803Z"
   },
   {
    "duration": 4,
    "start_time": "2022-07-11T22:18:15.840Z"
   },
   {
    "duration": 22,
    "start_time": "2022-07-11T22:18:15.847Z"
   },
   {
    "duration": 23,
    "start_time": "2022-07-11T22:18:15.871Z"
   },
   {
    "duration": 38,
    "start_time": "2022-07-11T22:18:15.896Z"
   },
   {
    "duration": 5,
    "start_time": "2022-07-11T22:18:15.940Z"
   },
   {
    "duration": 17,
    "start_time": "2022-07-11T22:18:15.946Z"
   },
   {
    "duration": 8,
    "start_time": "2022-07-11T22:18:15.965Z"
   },
   {
    "duration": 6,
    "start_time": "2022-07-11T22:18:15.975Z"
   },
   {
    "duration": 18,
    "start_time": "2022-07-11T22:18:15.983Z"
   },
   {
    "duration": 26,
    "start_time": "2022-07-11T22:18:16.003Z"
   },
   {
    "duration": 14,
    "start_time": "2022-07-11T22:18:16.030Z"
   },
   {
    "duration": 12,
    "start_time": "2022-07-11T22:18:16.046Z"
   },
   {
    "duration": 12,
    "start_time": "2022-07-11T22:18:16.059Z"
   },
   {
    "duration": 20,
    "start_time": "2022-07-11T22:31:45.236Z"
   },
   {
    "duration": 50,
    "start_time": "2022-07-11T22:35:52.525Z"
   },
   {
    "duration": 525,
    "start_time": "2022-07-11T22:35:58.178Z"
   },
   {
    "duration": 23,
    "start_time": "2022-07-11T22:35:58.705Z"
   },
   {
    "duration": 26,
    "start_time": "2022-07-11T22:35:58.730Z"
   },
   {
    "duration": 9,
    "start_time": "2022-07-11T22:35:58.763Z"
   },
   {
    "duration": 32,
    "start_time": "2022-07-11T22:35:58.774Z"
   },
   {
    "duration": 3,
    "start_time": "2022-07-11T22:35:58.808Z"
   },
   {
    "duration": 11,
    "start_time": "2022-07-11T22:35:58.813Z"
   },
   {
    "duration": 24,
    "start_time": "2022-07-11T22:35:58.826Z"
   },
   {
    "duration": 9,
    "start_time": "2022-07-11T22:35:58.855Z"
   },
   {
    "duration": 11,
    "start_time": "2022-07-11T22:35:58.870Z"
   },
   {
    "duration": 42,
    "start_time": "2022-07-11T22:35:58.883Z"
   },
   {
    "duration": 21,
    "start_time": "2022-07-11T22:35:58.928Z"
   },
   {
    "duration": 24,
    "start_time": "2022-07-11T22:35:58.952Z"
   },
   {
    "duration": 36,
    "start_time": "2022-07-11T22:35:58.979Z"
   },
   {
    "duration": 21,
    "start_time": "2022-07-11T22:35:59.018Z"
   },
   {
    "duration": 17,
    "start_time": "2022-07-11T22:35:59.043Z"
   },
   {
    "duration": 12,
    "start_time": "2022-07-11T22:35:59.063Z"
   },
   {
    "duration": 13,
    "start_time": "2022-07-11T22:35:59.077Z"
   },
   {
    "duration": 8,
    "start_time": "2022-07-11T22:35:59.092Z"
   },
   {
    "duration": 5,
    "start_time": "2022-07-11T22:35:59.101Z"
   },
   {
    "duration": 14,
    "start_time": "2022-07-11T22:35:59.107Z"
   },
   {
    "duration": 41,
    "start_time": "2022-07-11T22:35:59.122Z"
   },
   {
    "duration": 3,
    "start_time": "2022-07-11T22:35:59.166Z"
   },
   {
    "duration": 299,
    "start_time": "2022-07-11T22:35:59.171Z"
   },
   {
    "duration": 19,
    "start_time": "2022-07-11T22:35:59.472Z"
   },
   {
    "duration": 16,
    "start_time": "2022-07-11T22:35:59.493Z"
   },
   {
    "duration": 14,
    "start_time": "2022-07-11T22:35:59.511Z"
   },
   {
    "duration": 60,
    "start_time": "2022-07-12T06:12:12.486Z"
   },
   {
    "duration": 55,
    "start_time": "2022-07-12T06:12:28.998Z"
   },
   {
    "duration": 48,
    "start_time": "2022-07-12T06:12:43.152Z"
   },
   {
    "duration": 3,
    "start_time": "2022-07-12T06:24:45.389Z"
   },
   {
    "duration": 43,
    "start_time": "2022-07-12T06:26:57.035Z"
   },
   {
    "duration": 544,
    "start_time": "2022-07-12T06:27:03.201Z"
   },
   {
    "duration": 21,
    "start_time": "2022-07-12T06:27:03.747Z"
   },
   {
    "duration": 16,
    "start_time": "2022-07-12T06:27:03.770Z"
   },
   {
    "duration": 10,
    "start_time": "2022-07-12T06:27:03.789Z"
   },
   {
    "duration": 50,
    "start_time": "2022-07-12T06:27:03.801Z"
   },
   {
    "duration": 5,
    "start_time": "2022-07-12T06:27:03.852Z"
   },
   {
    "duration": 16,
    "start_time": "2022-07-12T06:27:03.858Z"
   },
   {
    "duration": 4,
    "start_time": "2022-07-12T06:27:03.875Z"
   },
   {
    "duration": 23,
    "start_time": "2022-07-12T06:27:03.881Z"
   },
   {
    "duration": 17,
    "start_time": "2022-07-12T06:27:03.906Z"
   },
   {
    "duration": 32,
    "start_time": "2022-07-12T06:27:03.924Z"
   },
   {
    "duration": 10,
    "start_time": "2022-07-12T06:27:03.958Z"
   },
   {
    "duration": 11,
    "start_time": "2022-07-12T06:27:03.970Z"
   },
   {
    "duration": 28,
    "start_time": "2022-07-12T06:27:03.983Z"
   },
   {
    "duration": 18,
    "start_time": "2022-07-12T06:27:04.024Z"
   },
   {
    "duration": 12,
    "start_time": "2022-07-12T06:27:04.044Z"
   },
   {
    "duration": 14,
    "start_time": "2022-07-12T06:27:04.057Z"
   },
   {
    "duration": 19,
    "start_time": "2022-07-12T06:27:04.073Z"
   },
   {
    "duration": 13,
    "start_time": "2022-07-12T06:27:04.093Z"
   },
   {
    "duration": 13,
    "start_time": "2022-07-12T06:27:04.108Z"
   },
   {
    "duration": 18,
    "start_time": "2022-07-12T06:27:04.122Z"
   },
   {
    "duration": 21,
    "start_time": "2022-07-12T06:27:04.142Z"
   },
   {
    "duration": 4,
    "start_time": "2022-07-12T06:27:04.165Z"
   },
   {
    "duration": 478,
    "start_time": "2022-07-12T06:27:04.170Z"
   },
   {
    "duration": 14,
    "start_time": "2022-07-12T06:27:04.650Z"
   },
   {
    "duration": 15,
    "start_time": "2022-07-12T06:27:04.666Z"
   },
   {
    "duration": 62,
    "start_time": "2022-07-12T06:27:04.683Z"
   },
   {
    "duration": 0,
    "start_time": "2022-07-12T06:27:04.747Z"
   },
   {
    "duration": 0,
    "start_time": "2022-07-12T06:27:04.749Z"
   },
   {
    "duration": 9,
    "start_time": "2022-07-12T06:30:42.671Z"
   },
   {
    "duration": 4,
    "start_time": "2022-07-12T06:33:29.105Z"
   },
   {
    "duration": 10,
    "start_time": "2022-07-12T06:33:32.293Z"
   },
   {
    "duration": 4,
    "start_time": "2022-07-12T06:37:12.961Z"
   },
   {
    "duration": 8,
    "start_time": "2022-07-12T06:37:16.514Z"
   },
   {
    "duration": 9,
    "start_time": "2022-07-12T06:37:43.444Z"
   },
   {
    "duration": 11,
    "start_time": "2022-07-12T06:38:23.177Z"
   },
   {
    "duration": 4,
    "start_time": "2022-07-12T06:58:57.960Z"
   },
   {
    "duration": 228,
    "start_time": "2022-07-12T06:58:59.259Z"
   },
   {
    "duration": 241,
    "start_time": "2022-07-12T06:59:29.870Z"
   },
   {
    "duration": 3,
    "start_time": "2022-07-12T06:59:36.787Z"
   },
   {
    "duration": 237,
    "start_time": "2022-07-12T06:59:42.687Z"
   },
   {
    "duration": 4,
    "start_time": "2022-07-12T07:19:47.831Z"
   },
   {
    "duration": 0,
    "start_time": "2022-07-12T07:23:47.731Z"
   },
   {
    "duration": 0,
    "start_time": "2022-07-12T07:23:47.733Z"
   },
   {
    "duration": 0,
    "start_time": "2022-07-12T07:23:47.736Z"
   },
   {
    "duration": 0,
    "start_time": "2022-07-12T07:23:47.737Z"
   },
   {
    "duration": 0,
    "start_time": "2022-07-12T07:23:47.740Z"
   },
   {
    "duration": 0,
    "start_time": "2022-07-12T07:23:47.742Z"
   },
   {
    "duration": 1,
    "start_time": "2022-07-12T07:23:47.743Z"
   },
   {
    "duration": 0,
    "start_time": "2022-07-12T07:23:47.745Z"
   },
   {
    "duration": 0,
    "start_time": "2022-07-12T07:23:47.747Z"
   },
   {
    "duration": 0,
    "start_time": "2022-07-12T07:23:47.749Z"
   },
   {
    "duration": 0,
    "start_time": "2022-07-12T07:23:47.751Z"
   },
   {
    "duration": 0,
    "start_time": "2022-07-12T07:23:47.753Z"
   },
   {
    "duration": 0,
    "start_time": "2022-07-12T07:23:47.756Z"
   },
   {
    "duration": 0,
    "start_time": "2022-07-12T07:23:47.758Z"
   },
   {
    "duration": 0,
    "start_time": "2022-07-12T07:23:47.761Z"
   },
   {
    "duration": 0,
    "start_time": "2022-07-12T07:23:47.763Z"
   },
   {
    "duration": 0,
    "start_time": "2022-07-12T07:23:47.824Z"
   },
   {
    "duration": 0,
    "start_time": "2022-07-12T07:23:47.826Z"
   },
   {
    "duration": 0,
    "start_time": "2022-07-12T07:23:47.828Z"
   },
   {
    "duration": 0,
    "start_time": "2022-07-12T07:23:47.830Z"
   },
   {
    "duration": 0,
    "start_time": "2022-07-12T07:23:47.832Z"
   },
   {
    "duration": 0,
    "start_time": "2022-07-12T07:23:47.834Z"
   },
   {
    "duration": 0,
    "start_time": "2022-07-12T07:23:47.837Z"
   },
   {
    "duration": 0,
    "start_time": "2022-07-12T07:23:47.839Z"
   },
   {
    "duration": 0,
    "start_time": "2022-07-12T07:23:47.841Z"
   },
   {
    "duration": 0,
    "start_time": "2022-07-12T07:23:47.842Z"
   },
   {
    "duration": 0,
    "start_time": "2022-07-12T07:23:47.847Z"
   },
   {
    "duration": 0,
    "start_time": "2022-07-12T07:23:47.851Z"
   },
   {
    "duration": 0,
    "start_time": "2022-07-12T07:23:47.854Z"
   },
   {
    "duration": 67,
    "start_time": "2022-07-12T07:24:54.117Z"
   },
   {
    "duration": 15,
    "start_time": "2022-07-12T07:24:54.186Z"
   },
   {
    "duration": 38,
    "start_time": "2022-07-12T07:24:54.203Z"
   },
   {
    "duration": 14,
    "start_time": "2022-07-12T07:24:54.242Z"
   },
   {
    "duration": 49,
    "start_time": "2022-07-12T07:24:54.259Z"
   },
   {
    "duration": 4,
    "start_time": "2022-07-12T07:24:54.309Z"
   },
   {
    "duration": 25,
    "start_time": "2022-07-12T07:24:54.314Z"
   },
   {
    "duration": 7,
    "start_time": "2022-07-12T07:24:54.341Z"
   },
   {
    "duration": 29,
    "start_time": "2022-07-12T07:24:54.349Z"
   },
   {
    "duration": 19,
    "start_time": "2022-07-12T07:24:54.380Z"
   },
   {
    "duration": 60,
    "start_time": "2022-07-12T07:24:54.402Z"
   },
   {
    "duration": 15,
    "start_time": "2022-07-12T07:24:54.464Z"
   },
   {
    "duration": 23,
    "start_time": "2022-07-12T07:24:54.481Z"
   },
   {
    "duration": 37,
    "start_time": "2022-07-12T07:24:54.508Z"
   },
   {
    "duration": 21,
    "start_time": "2022-07-12T07:24:54.547Z"
   },
   {
    "duration": 15,
    "start_time": "2022-07-12T07:24:54.570Z"
   },
   {
    "duration": 15,
    "start_time": "2022-07-12T07:24:54.587Z"
   },
   {
    "duration": 21,
    "start_time": "2022-07-12T07:24:54.604Z"
   },
   {
    "duration": 22,
    "start_time": "2022-07-12T07:24:54.627Z"
   },
   {
    "duration": 5,
    "start_time": "2022-07-12T07:24:54.651Z"
   },
   {
    "duration": 59,
    "start_time": "2022-07-12T07:24:54.658Z"
   },
   {
    "duration": 19,
    "start_time": "2022-07-12T07:24:54.719Z"
   },
   {
    "duration": 4,
    "start_time": "2022-07-12T07:24:54.740Z"
   },
   {
    "duration": 16,
    "start_time": "2022-07-12T07:24:54.746Z"
   },
   {
    "duration": 15,
    "start_time": "2022-07-12T07:24:54.764Z"
   },
   {
    "duration": 3,
    "start_time": "2022-07-12T07:24:54.781Z"
   },
   {
    "duration": 52,
    "start_time": "2022-07-12T07:24:54.786Z"
   },
   {
    "duration": 0,
    "start_time": "2022-07-12T07:24:54.839Z"
   },
   {
    "duration": 0,
    "start_time": "2022-07-12T07:24:54.841Z"
   },
   {
    "duration": 34,
    "start_time": "2022-07-12T07:26:14.430Z"
   },
   {
    "duration": 259,
    "start_time": "2022-07-12T07:27:34.682Z"
   },
   {
    "duration": 119,
    "start_time": "2022-07-12T07:37:18.075Z"
   },
   {
    "duration": 577,
    "start_time": "2022-07-12T07:41:09.887Z"
   },
   {
    "duration": 23,
    "start_time": "2022-07-12T07:41:10.466Z"
   },
   {
    "duration": 17,
    "start_time": "2022-07-12T07:41:10.491Z"
   },
   {
    "duration": 18,
    "start_time": "2022-07-12T07:41:10.510Z"
   },
   {
    "duration": 40,
    "start_time": "2022-07-12T07:41:10.530Z"
   },
   {
    "duration": 4,
    "start_time": "2022-07-12T07:41:10.572Z"
   },
   {
    "duration": 14,
    "start_time": "2022-07-12T07:41:10.577Z"
   },
   {
    "duration": 5,
    "start_time": "2022-07-12T07:41:10.593Z"
   },
   {
    "duration": 30,
    "start_time": "2022-07-12T07:41:10.599Z"
   },
   {
    "duration": 5,
    "start_time": "2022-07-12T07:41:10.631Z"
   },
   {
    "duration": 42,
    "start_time": "2022-07-12T07:41:10.637Z"
   },
   {
    "duration": 12,
    "start_time": "2022-07-12T07:41:10.681Z"
   },
   {
    "duration": 8,
    "start_time": "2022-07-12T07:41:10.694Z"
   },
   {
    "duration": 20,
    "start_time": "2022-07-12T07:41:10.723Z"
   },
   {
    "duration": 17,
    "start_time": "2022-07-12T07:41:10.745Z"
   },
   {
    "duration": 12,
    "start_time": "2022-07-12T07:41:10.764Z"
   },
   {
    "duration": 17,
    "start_time": "2022-07-12T07:41:10.777Z"
   },
   {
    "duration": 28,
    "start_time": "2022-07-12T07:41:10.796Z"
   },
   {
    "duration": 14,
    "start_time": "2022-07-12T07:41:10.826Z"
   },
   {
    "duration": 4,
    "start_time": "2022-07-12T07:41:10.842Z"
   },
   {
    "duration": 18,
    "start_time": "2022-07-12T07:41:10.848Z"
   },
   {
    "duration": 18,
    "start_time": "2022-07-12T07:41:10.867Z"
   },
   {
    "duration": 4,
    "start_time": "2022-07-12T07:41:10.887Z"
   },
   {
    "duration": 344,
    "start_time": "2022-07-12T07:41:10.892Z"
   },
   {
    "duration": 14,
    "start_time": "2022-07-12T07:41:11.237Z"
   },
   {
    "duration": 7,
    "start_time": "2022-07-12T07:41:11.253Z"
   },
   {
    "duration": 114,
    "start_time": "2022-07-12T07:41:11.262Z"
   },
   {
    "duration": 0,
    "start_time": "2022-07-12T07:41:11.377Z"
   },
   {
    "duration": 0,
    "start_time": "2022-07-12T07:41:11.379Z"
   },
   {
    "duration": 9,
    "start_time": "2022-07-12T07:43:30.980Z"
   },
   {
    "duration": 4,
    "start_time": "2022-07-12T07:43:36.348Z"
   },
   {
    "duration": 8,
    "start_time": "2022-07-12T07:43:37.622Z"
   },
   {
    "duration": 4,
    "start_time": "2022-07-12T07:46:15.808Z"
   },
   {
    "duration": 8,
    "start_time": "2022-07-12T07:46:16.443Z"
   },
   {
    "duration": 17,
    "start_time": "2022-07-12T07:47:57.804Z"
   },
   {
    "duration": 41,
    "start_time": "2022-07-12T07:49:22.872Z"
   },
   {
    "duration": 16,
    "start_time": "2022-07-12T07:49:30.776Z"
   },
   {
    "duration": 21,
    "start_time": "2022-07-12T07:49:33.630Z"
   },
   {
    "duration": 40,
    "start_time": "2022-07-12T07:55:51.678Z"
   },
   {
    "duration": 10,
    "start_time": "2022-07-12T07:58:30.072Z"
   },
   {
    "duration": 4,
    "start_time": "2022-07-12T07:58:43.010Z"
   },
   {
    "duration": 36,
    "start_time": "2022-07-12T07:58:43.910Z"
   },
   {
    "duration": 33,
    "start_time": "2022-07-12T07:59:48.381Z"
   },
   {
    "duration": 9,
    "start_time": "2022-07-12T08:00:00.369Z"
   },
   {
    "duration": 40,
    "start_time": "2022-07-12T08:00:22.331Z"
   },
   {
    "duration": 6,
    "start_time": "2022-07-12T08:00:53.628Z"
   },
   {
    "duration": 40,
    "start_time": "2022-07-12T08:00:56.396Z"
   },
   {
    "duration": 27,
    "start_time": "2022-07-12T08:02:20.949Z"
   },
   {
    "duration": 27,
    "start_time": "2022-07-12T08:02:47.170Z"
   },
   {
    "duration": 76,
    "start_time": "2022-07-12T08:03:31.023Z"
   },
   {
    "duration": 4,
    "start_time": "2022-07-12T08:03:38.978Z"
   },
   {
    "duration": 47,
    "start_time": "2022-07-12T08:03:40.016Z"
   },
   {
    "duration": 62,
    "start_time": "2022-07-12T08:03:48.773Z"
   },
   {
    "duration": 15,
    "start_time": "2022-07-12T08:03:48.837Z"
   },
   {
    "duration": 19,
    "start_time": "2022-07-12T08:03:48.854Z"
   },
   {
    "duration": 12,
    "start_time": "2022-07-12T08:03:48.876Z"
   },
   {
    "duration": 55,
    "start_time": "2022-07-12T08:03:48.889Z"
   },
   {
    "duration": 4,
    "start_time": "2022-07-12T08:03:48.946Z"
   },
   {
    "duration": 14,
    "start_time": "2022-07-12T08:03:48.952Z"
   },
   {
    "duration": 5,
    "start_time": "2022-07-12T08:03:48.968Z"
   },
   {
    "duration": 19,
    "start_time": "2022-07-12T08:03:48.975Z"
   },
   {
    "duration": 13,
    "start_time": "2022-07-12T08:03:48.997Z"
   },
   {
    "duration": 41,
    "start_time": "2022-07-12T08:03:49.011Z"
   },
   {
    "duration": 10,
    "start_time": "2022-07-12T08:03:49.054Z"
   },
   {
    "duration": 8,
    "start_time": "2022-07-12T08:03:49.065Z"
   },
   {
    "duration": 24,
    "start_time": "2022-07-12T08:03:49.075Z"
   },
   {
    "duration": 34,
    "start_time": "2022-07-12T08:03:49.101Z"
   },
   {
    "duration": 13,
    "start_time": "2022-07-12T08:03:49.137Z"
   },
   {
    "duration": 10,
    "start_time": "2022-07-12T08:03:49.152Z"
   },
   {
    "duration": 36,
    "start_time": "2022-07-12T08:03:49.163Z"
   },
   {
    "duration": 6,
    "start_time": "2022-07-12T08:03:49.200Z"
   },
   {
    "duration": 6,
    "start_time": "2022-07-12T08:03:49.207Z"
   },
   {
    "duration": 17,
    "start_time": "2022-07-12T08:03:49.215Z"
   },
   {
    "duration": 17,
    "start_time": "2022-07-12T08:03:49.234Z"
   },
   {
    "duration": 4,
    "start_time": "2022-07-12T08:03:49.252Z"
   },
   {
    "duration": 19,
    "start_time": "2022-07-12T08:03:49.258Z"
   },
   {
    "duration": 12,
    "start_time": "2022-07-12T08:03:49.279Z"
   },
   {
    "duration": 3,
    "start_time": "2022-07-12T08:03:49.293Z"
   },
   {
    "duration": 63,
    "start_time": "2022-07-12T08:03:49.298Z"
   },
   {
    "duration": 0,
    "start_time": "2022-07-12T08:03:49.362Z"
   },
   {
    "duration": 0,
    "start_time": "2022-07-12T08:03:49.364Z"
   },
   {
    "duration": 43,
    "start_time": "2022-07-12T08:04:13.725Z"
   },
   {
    "duration": 15,
    "start_time": "2022-07-12T08:04:53.192Z"
   },
   {
    "duration": 62,
    "start_time": "2022-07-12T08:04:56.419Z"
   },
   {
    "duration": 18,
    "start_time": "2022-07-12T08:04:56.484Z"
   },
   {
    "duration": 34,
    "start_time": "2022-07-12T08:04:56.504Z"
   },
   {
    "duration": 10,
    "start_time": "2022-07-12T08:04:56.540Z"
   },
   {
    "duration": 37,
    "start_time": "2022-07-12T08:04:56.552Z"
   },
   {
    "duration": 4,
    "start_time": "2022-07-12T08:04:56.590Z"
   },
   {
    "duration": 35,
    "start_time": "2022-07-12T08:04:56.595Z"
   },
   {
    "duration": 6,
    "start_time": "2022-07-12T08:04:56.632Z"
   },
   {
    "duration": 9,
    "start_time": "2022-07-12T08:04:56.639Z"
   },
   {
    "duration": 6,
    "start_time": "2022-07-12T08:04:56.651Z"
   },
   {
    "duration": 36,
    "start_time": "2022-07-12T08:04:56.659Z"
   },
   {
    "duration": 35,
    "start_time": "2022-07-12T08:04:56.697Z"
   },
   {
    "duration": 12,
    "start_time": "2022-07-12T08:04:56.734Z"
   },
   {
    "duration": 29,
    "start_time": "2022-07-12T08:04:56.747Z"
   },
   {
    "duration": 17,
    "start_time": "2022-07-12T08:04:56.778Z"
   },
   {
    "duration": 25,
    "start_time": "2022-07-12T08:04:56.797Z"
   },
   {
    "duration": 4,
    "start_time": "2022-07-12T08:04:56.824Z"
   },
   {
    "duration": 20,
    "start_time": "2022-07-12T08:04:56.829Z"
   },
   {
    "duration": 8,
    "start_time": "2022-07-12T08:04:56.851Z"
   },
   {
    "duration": 9,
    "start_time": "2022-07-12T08:04:56.861Z"
   },
   {
    "duration": 12,
    "start_time": "2022-07-12T08:04:56.871Z"
   },
   {
    "duration": 15,
    "start_time": "2022-07-12T08:04:56.884Z"
   },
   {
    "duration": 23,
    "start_time": "2022-07-12T08:04:56.901Z"
   },
   {
    "duration": 17,
    "start_time": "2022-07-12T08:04:56.926Z"
   },
   {
    "duration": 13,
    "start_time": "2022-07-12T08:04:56.945Z"
   },
   {
    "duration": 9,
    "start_time": "2022-07-12T08:04:56.959Z"
   },
   {
    "duration": 62,
    "start_time": "2022-07-12T08:04:56.970Z"
   },
   {
    "duration": 13,
    "start_time": "2022-07-12T08:04:57.035Z"
   },
   {
    "duration": 11,
    "start_time": "2022-07-12T08:04:57.050Z"
   }
  ],
  "colab": {
   "name": "dpp_template_part2.ipynb",
   "provenance": []
  },
  "kernelspec": {
   "display_name": "Python 3 (ipykernel)",
   "language": "python",
   "name": "python3"
  },
  "language_info": {
   "codemirror_mode": {
    "name": "ipython",
    "version": 3
   },
   "file_extension": ".py",
   "mimetype": "text/x-python",
   "name": "python",
   "nbconvert_exporter": "python",
   "pygments_lexer": "ipython3",
   "version": "3.9.5"
  },
  "toc": {
   "base_numbering": 1,
   "nav_menu": {},
   "number_sections": true,
   "sideBar": true,
   "skip_h1_title": true,
   "title_cell": "Table of Contents",
   "title_sidebar": "Contents",
   "toc_cell": false,
   "toc_position": {},
   "toc_section_display": true,
   "toc_window_display": false
  }
 },
 "nbformat": 4,
 "nbformat_minor": 5
}
