{
 "cells": [
  {
   "cell_type": "markdown",
   "metadata": {},
   "source": [
    "# Описание проекта\n",
    "\n",
    "## Контекст\n",
    "\n",
    "> Вы — аналитик крупного интернет-магазина. Вместе с отделом маркетинга вы подготовили список гипотез для увеличения выручки. \n",
    "Приоритизируйте гипотезы, запустите A/B-тест и проанализируйте результаты."
   ]
  },
  {
   "cell_type": "markdown",
   "metadata": {},
   "source": [
    "## Описание данных"
   ]
  },
  {
   "cell_type": "markdown",
   "metadata": {},
   "source": [
    "### Данные для первой части\n",
    "Файл /datasets/hypothesis.csv\n",
    "* Hypothesis — краткое описание гипотезы;\n",
    "* Reach — охват пользователей по 10-балльной шкале;\n",
    "* Impact — влияние на пользователей по 10-балльной шкале;\n",
    "* Confidence — уверенность в гипотезе по 10-балльной шкале;\n",
    "* Efforts — затраты ресурсов на проверку гипотезы по 10-балльной шкале. Чем больше значение Efforts, тем дороже проверка гипотезы.\n",
    "\n",
    "### Данные для второй части\n",
    "Файл /datasets/orders.csv\n",
    "* transactionId — идентификатор заказа;\n",
    "* visitorId — идентификатор пользователя, совершившего заказ;\n",
    "* date — дата, когда был совершён заказ;\n",
    "* revenue — выручка заказа;\n",
    "* group — группа A/B-теста, в которую попал заказ. <br/>\n",
    "\n",
    "Файл /datasets/visitors.csv\n",
    "* date — дата;\n",
    "* group — группа A/B-теста;\n",
    "* visitors — количество пользователей в указанную дату в указанной группе A/B-теста"
   ]
  },
  {
   "cell_type": "markdown",
   "metadata": {},
   "source": [
    "## Этапы и задачи проекта\n",
    "### Приоритизация гипотез:\n",
    "* Применить фреймворк ICE для приоритизации гипотез. Отсортировать их по убыванию приоритета.\n",
    "* Применить фреймворк RICE для приоритизации гипотез. Отсортировать их по убыванию приоритета.\n",
    "* Указать, как изменилась приоритизация гипотез при применении RICE вместо ICE. Объяснить, почему так произошло.\n",
    "\n",
    "### Анализ A/B-теста:\n",
    "* Построить график кумулятивной выручки по группам. Сделать выводы и предположения.\n",
    "* Построить график кумулятивного среднего чека по группам. Сделать выводы и предположения.\n",
    "* Построить график относительного изменения кумулятивного среднего чека группы B к группе A. Сделать выводы и предположения.\n",
    "* Построить график кумулятивного среднего количества заказов по группам. Сделать выводы и предположения.\n",
    "* Построить график относительного изменения кумулятивного среднего количества заказов группы B к группе A. Сделать выводы и предположения.\n",
    "* Построить точечный график количества заказов по пользователям. Сделать выводы и предположения.\n",
    "* Посчитать 95-й и 99-й перцентили количества заказов на пользователя. Выбрать границу для определения аномальных пользователей.\n",
    "* Построить точечный график стоимостей заказов. Сделать выводы и предположения.\n",
    "* Посчитать 95-й и 99-й перцентили стоимости заказов. Выбрать границу для определения аномальных заказов.\n",
    "* Посчитать статистическую значимость различий в среднем количестве заказов между группами по «сырым» данным. Сделать выводы и предположения.\n",
    "* Посчитать статистическую значимость различий в среднем чеке заказа между группами по «сырым» данным. Сделать выводы и предположения.\n",
    "* Посчитать статистическую значимость различий в среднем количестве заказов между группами по «очищенным» данным. Сделать выводы и предположения.\n",
    "* Посчитать статистическую значимость различий в среднем чеке заказа между группами по «очищенным» данным. Сделать выводы и предположения.\n",
    "* Принять решение по результатам теста и объяснить его. Варианты решений: 1. Остановить тест, зафиксировать победу одной из групп. 2. Остановить тест, зафиксировать отсутствие различий между группами. 3. Продолжить тест."
   ]
  },
  {
   "cell_type": "markdown",
   "metadata": {},
   "source": [
    "# Ход исследования"
   ]
  },
  {
   "cell_type": "markdown",
   "metadata": {},
   "source": [
    "## Загрузка данных и подготовка их к анализу"
   ]
  },
  {
   "cell_type": "code",
   "execution_count": 1,
   "metadata": {},
   "outputs": [],
   "source": [
    "# импортируем все библиотеки, которые нам будут нужны для выполнения исследования\n",
    "\n",
    "import pandas as pd\n",
    "import matplotlib.pyplot as plt\n",
    "import seaborn as sns\n",
    "import numpy as np\n",
    "import math as mth\n",
    "from scipy import stats as st\n",
    "from datetime import datetime as dt"
   ]
  },
  {
   "cell_type": "code",
   "execution_count": 2,
   "metadata": {},
   "outputs": [],
   "source": [
    "# откроем рабочие файлы\n",
    "\n",
    "try:\n",
    "    hypothesis_raw = pd.read_csv('/datasets/hypothesis.csv')\n",
    "except:\n",
    "    hypothesis_raw = pd.read_csv('https://code.s3.yandex.net/datasets/hypothesis.csv')\n",
    "    \n",
    "try:\n",
    "    orders_raw = pd.read_csv('/datasets/orders.csv')\n",
    "except:\n",
    "    orders_raw = pd.read_csv('https://code.s3.yandex.net/datasets/orders.csv')\n",
    "    \n",
    "try:\n",
    "    visitors_raw = pd.read_csv('/datasets/visitors.csv')\n",
    "except:\n",
    "    visitors_raw = pd.read_csv('https://code.s3.yandex.net/datasets/visitors.csv')"
   ]
  },
  {
   "cell_type": "code",
   "execution_count": 3,
   "metadata": {},
   "outputs": [],
   "source": [
    "# создадим копии датафреймов\n",
    "\n",
    "hypothesis = hypothesis_raw.copy(deep=True)\n",
    "orders = orders_raw.copy(deep=True)\n",
    "visitors = visitors_raw.copy(deep=True)"
   ]
  },
  {
   "cell_type": "code",
   "execution_count": 4,
   "metadata": {},
   "outputs": [],
   "source": [
    "# создадим функцию для вывода предобработки данных\n",
    "\n",
    "def info(data):\n",
    "    # посмотрим общую информацию о файле \n",
    "    print('Общая информация о датафрейме:')\n",
    "    data.info()\n",
    "    \n",
    "    # преобразование названий колонок в строчные символы\n",
    "    \n",
    "    data.columns = data.columns.str.lower()\n",
    "    \n",
    "    # выведем на экран 5 строчек таблицы\n",
    "    \n",
    "    pd.options.display.max_colwidth = 100\n",
    "    pd.set_option('display.max_columns', 20)\n",
    "    display(data.head(5))\n",
    "    \n",
    "    # посчитаем количество пропущенных значений\n",
    "\n",
    "    print('Количество пропущенных значений:')\n",
    "    print(data.isna().sum().sort_values(ascending=False))\n",
    "    \n",
    "    # посчитаем количество полных дубликатов\n",
    "\n",
    "    print()\n",
    "    print('Количество полных дубликатов: ', data.duplicated().sum())"
   ]
  },
  {
   "cell_type": "code",
   "execution_count": 5,
   "metadata": {},
   "outputs": [
    {
     "name": "stdout",
     "output_type": "stream",
     "text": [
      "Общая информация о датафрейме:\n",
      "<class 'pandas.core.frame.DataFrame'>\n",
      "RangeIndex: 9 entries, 0 to 8\n",
      "Data columns (total 5 columns):\n",
      " #   Column      Non-Null Count  Dtype \n",
      "---  ------      --------------  ----- \n",
      " 0   Hypothesis  9 non-null      object\n",
      " 1   Reach       9 non-null      int64 \n",
      " 2   Impact      9 non-null      int64 \n",
      " 3   Confidence  9 non-null      int64 \n",
      " 4   Efforts     9 non-null      int64 \n",
      "dtypes: int64(4), object(1)\n",
      "memory usage: 488.0+ bytes\n"
     ]
    },
    {
     "data": {
      "text/html": [
       "<div>\n",
       "<style scoped>\n",
       "    .dataframe tbody tr th:only-of-type {\n",
       "        vertical-align: middle;\n",
       "    }\n",
       "\n",
       "    .dataframe tbody tr th {\n",
       "        vertical-align: top;\n",
       "    }\n",
       "\n",
       "    .dataframe thead th {\n",
       "        text-align: right;\n",
       "    }\n",
       "</style>\n",
       "<table border=\"1\" class=\"dataframe\">\n",
       "  <thead>\n",
       "    <tr style=\"text-align: right;\">\n",
       "      <th></th>\n",
       "      <th>hypothesis</th>\n",
       "      <th>reach</th>\n",
       "      <th>impact</th>\n",
       "      <th>confidence</th>\n",
       "      <th>efforts</th>\n",
       "    </tr>\n",
       "  </thead>\n",
       "  <tbody>\n",
       "    <tr>\n",
       "      <th>0</th>\n",
       "      <td>Добавить два новых канала привлечения трафика, что позволит привлекать на 30% больше пользователей</td>\n",
       "      <td>3</td>\n",
       "      <td>10</td>\n",
       "      <td>8</td>\n",
       "      <td>6</td>\n",
       "    </tr>\n",
       "    <tr>\n",
       "      <th>1</th>\n",
       "      <td>Запустить собственную службу доставки, что сократит срок доставки заказов</td>\n",
       "      <td>2</td>\n",
       "      <td>5</td>\n",
       "      <td>4</td>\n",
       "      <td>10</td>\n",
       "    </tr>\n",
       "    <tr>\n",
       "      <th>2</th>\n",
       "      <td>Добавить блоки рекомендаций товаров на сайт интернет магазина, чтобы повысить конверсию и средни...</td>\n",
       "      <td>8</td>\n",
       "      <td>3</td>\n",
       "      <td>7</td>\n",
       "      <td>3</td>\n",
       "    </tr>\n",
       "    <tr>\n",
       "      <th>3</th>\n",
       "      <td>Изменить структура категорий, что увеличит конверсию, т.к. пользователи быстрее найдут нужный товар</td>\n",
       "      <td>8</td>\n",
       "      <td>3</td>\n",
       "      <td>3</td>\n",
       "      <td>8</td>\n",
       "    </tr>\n",
       "    <tr>\n",
       "      <th>4</th>\n",
       "      <td>Изменить цвет фона главной страницы, чтобы увеличить вовлеченность пользователей</td>\n",
       "      <td>3</td>\n",
       "      <td>1</td>\n",
       "      <td>1</td>\n",
       "      <td>1</td>\n",
       "    </tr>\n",
       "  </tbody>\n",
       "</table>\n",
       "</div>"
      ],
      "text/plain": [
       "                                                                                            hypothesis  \\\n",
       "0   Добавить два новых канала привлечения трафика, что позволит привлекать на 30% больше пользователей   \n",
       "1                            Запустить собственную службу доставки, что сократит срок доставки заказов   \n",
       "2  Добавить блоки рекомендаций товаров на сайт интернет магазина, чтобы повысить конверсию и средни...   \n",
       "3  Изменить структура категорий, что увеличит конверсию, т.к. пользователи быстрее найдут нужный товар   \n",
       "4                     Изменить цвет фона главной страницы, чтобы увеличить вовлеченность пользователей   \n",
       "\n",
       "   reach  impact  confidence  efforts  \n",
       "0      3      10           8        6  \n",
       "1      2       5           4       10  \n",
       "2      8       3           7        3  \n",
       "3      8       3           3        8  \n",
       "4      3       1           1        1  "
      ]
     },
     "metadata": {},
     "output_type": "display_data"
    },
    {
     "name": "stdout",
     "output_type": "stream",
     "text": [
      "Количество пропущенных значений:\n",
      "hypothesis    0\n",
      "reach         0\n",
      "impact        0\n",
      "confidence    0\n",
      "efforts       0\n",
      "dtype: int64\n",
      "\n",
      "Количество полных дубликатов:  0\n"
     ]
    }
   ],
   "source": [
    "# рассмотрим датафрейм hypothesis\n",
    "\n",
    "info(hypothesis)"
   ]
  },
  {
   "cell_type": "code",
   "execution_count": 6,
   "metadata": {},
   "outputs": [
    {
     "name": "stdout",
     "output_type": "stream",
     "text": [
      "Общая информация о датафрейме:\n",
      "<class 'pandas.core.frame.DataFrame'>\n",
      "RangeIndex: 1197 entries, 0 to 1196\n",
      "Data columns (total 5 columns):\n",
      " #   Column         Non-Null Count  Dtype \n",
      "---  ------         --------------  ----- \n",
      " 0   transactionId  1197 non-null   int64 \n",
      " 1   visitorId      1197 non-null   int64 \n",
      " 2   date           1197 non-null   object\n",
      " 3   revenue        1197 non-null   int64 \n",
      " 4   group          1197 non-null   object\n",
      "dtypes: int64(3), object(2)\n",
      "memory usage: 46.9+ KB\n"
     ]
    },
    {
     "data": {
      "text/html": [
       "<div>\n",
       "<style scoped>\n",
       "    .dataframe tbody tr th:only-of-type {\n",
       "        vertical-align: middle;\n",
       "    }\n",
       "\n",
       "    .dataframe tbody tr th {\n",
       "        vertical-align: top;\n",
       "    }\n",
       "\n",
       "    .dataframe thead th {\n",
       "        text-align: right;\n",
       "    }\n",
       "</style>\n",
       "<table border=\"1\" class=\"dataframe\">\n",
       "  <thead>\n",
       "    <tr style=\"text-align: right;\">\n",
       "      <th></th>\n",
       "      <th>transactionid</th>\n",
       "      <th>visitorid</th>\n",
       "      <th>date</th>\n",
       "      <th>revenue</th>\n",
       "      <th>group</th>\n",
       "    </tr>\n",
       "  </thead>\n",
       "  <tbody>\n",
       "    <tr>\n",
       "      <th>0</th>\n",
       "      <td>3667963787</td>\n",
       "      <td>3312258926</td>\n",
       "      <td>2019-08-15</td>\n",
       "      <td>1650</td>\n",
       "      <td>B</td>\n",
       "    </tr>\n",
       "    <tr>\n",
       "      <th>1</th>\n",
       "      <td>2804400009</td>\n",
       "      <td>3642806036</td>\n",
       "      <td>2019-08-15</td>\n",
       "      <td>730</td>\n",
       "      <td>B</td>\n",
       "    </tr>\n",
       "    <tr>\n",
       "      <th>2</th>\n",
       "      <td>2961555356</td>\n",
       "      <td>4069496402</td>\n",
       "      <td>2019-08-15</td>\n",
       "      <td>400</td>\n",
       "      <td>A</td>\n",
       "    </tr>\n",
       "    <tr>\n",
       "      <th>3</th>\n",
       "      <td>3797467345</td>\n",
       "      <td>1196621759</td>\n",
       "      <td>2019-08-15</td>\n",
       "      <td>9759</td>\n",
       "      <td>B</td>\n",
       "    </tr>\n",
       "    <tr>\n",
       "      <th>4</th>\n",
       "      <td>2282983706</td>\n",
       "      <td>2322279887</td>\n",
       "      <td>2019-08-15</td>\n",
       "      <td>2308</td>\n",
       "      <td>B</td>\n",
       "    </tr>\n",
       "  </tbody>\n",
       "</table>\n",
       "</div>"
      ],
      "text/plain": [
       "   transactionid   visitorid        date  revenue group\n",
       "0     3667963787  3312258926  2019-08-15     1650     B\n",
       "1     2804400009  3642806036  2019-08-15      730     B\n",
       "2     2961555356  4069496402  2019-08-15      400     A\n",
       "3     3797467345  1196621759  2019-08-15     9759     B\n",
       "4     2282983706  2322279887  2019-08-15     2308     B"
      ]
     },
     "metadata": {},
     "output_type": "display_data"
    },
    {
     "name": "stdout",
     "output_type": "stream",
     "text": [
      "Количество пропущенных значений:\n",
      "transactionid    0\n",
      "visitorid        0\n",
      "date             0\n",
      "revenue          0\n",
      "group            0\n",
      "dtype: int64\n",
      "\n",
      "Количество полных дубликатов:  0\n"
     ]
    }
   ],
   "source": [
    "# рассмотрим датафрейм orders\n",
    "\n",
    "info(orders)"
   ]
  },
  {
   "cell_type": "code",
   "execution_count": 7,
   "metadata": {},
   "outputs": [],
   "source": [
    "# переименуем столбцы в датафрейме orders\n",
    "\n",
    "orders = orders.rename(columns = {'transactionid':'transaction_id', 'visitorid':'visitor_id'})"
   ]
  },
  {
   "cell_type": "code",
   "execution_count": 8,
   "metadata": {},
   "outputs": [],
   "source": [
    "# приведем дату в колонке date к нужному виду\n",
    "\n",
    "orders['date'] = pd.to_datetime(orders['date'])"
   ]
  },
  {
   "cell_type": "code",
   "execution_count": 9,
   "metadata": {},
   "outputs": [
    {
     "name": "stdout",
     "output_type": "stream",
     "text": [
      "Общая информация о датафрейме:\n",
      "<class 'pandas.core.frame.DataFrame'>\n",
      "RangeIndex: 62 entries, 0 to 61\n",
      "Data columns (total 3 columns):\n",
      " #   Column    Non-Null Count  Dtype \n",
      "---  ------    --------------  ----- \n",
      " 0   date      62 non-null     object\n",
      " 1   group     62 non-null     object\n",
      " 2   visitors  62 non-null     int64 \n",
      "dtypes: int64(1), object(2)\n",
      "memory usage: 1.6+ KB\n"
     ]
    },
    {
     "data": {
      "text/html": [
       "<div>\n",
       "<style scoped>\n",
       "    .dataframe tbody tr th:only-of-type {\n",
       "        vertical-align: middle;\n",
       "    }\n",
       "\n",
       "    .dataframe tbody tr th {\n",
       "        vertical-align: top;\n",
       "    }\n",
       "\n",
       "    .dataframe thead th {\n",
       "        text-align: right;\n",
       "    }\n",
       "</style>\n",
       "<table border=\"1\" class=\"dataframe\">\n",
       "  <thead>\n",
       "    <tr style=\"text-align: right;\">\n",
       "      <th></th>\n",
       "      <th>date</th>\n",
       "      <th>group</th>\n",
       "      <th>visitors</th>\n",
       "    </tr>\n",
       "  </thead>\n",
       "  <tbody>\n",
       "    <tr>\n",
       "      <th>0</th>\n",
       "      <td>2019-08-01</td>\n",
       "      <td>A</td>\n",
       "      <td>719</td>\n",
       "    </tr>\n",
       "    <tr>\n",
       "      <th>1</th>\n",
       "      <td>2019-08-02</td>\n",
       "      <td>A</td>\n",
       "      <td>619</td>\n",
       "    </tr>\n",
       "    <tr>\n",
       "      <th>2</th>\n",
       "      <td>2019-08-03</td>\n",
       "      <td>A</td>\n",
       "      <td>507</td>\n",
       "    </tr>\n",
       "    <tr>\n",
       "      <th>3</th>\n",
       "      <td>2019-08-04</td>\n",
       "      <td>A</td>\n",
       "      <td>717</td>\n",
       "    </tr>\n",
       "    <tr>\n",
       "      <th>4</th>\n",
       "      <td>2019-08-05</td>\n",
       "      <td>A</td>\n",
       "      <td>756</td>\n",
       "    </tr>\n",
       "  </tbody>\n",
       "</table>\n",
       "</div>"
      ],
      "text/plain": [
       "         date group  visitors\n",
       "0  2019-08-01     A       719\n",
       "1  2019-08-02     A       619\n",
       "2  2019-08-03     A       507\n",
       "3  2019-08-04     A       717\n",
       "4  2019-08-05     A       756"
      ]
     },
     "metadata": {},
     "output_type": "display_data"
    },
    {
     "name": "stdout",
     "output_type": "stream",
     "text": [
      "Количество пропущенных значений:\n",
      "date        0\n",
      "group       0\n",
      "visitors    0\n",
      "dtype: int64\n",
      "\n",
      "Количество полных дубликатов:  0\n"
     ]
    }
   ],
   "source": [
    "# рассмотрим датафрейм visitors\n",
    "\n",
    "info(visitors)"
   ]
  },
  {
   "cell_type": "code",
   "execution_count": 10,
   "metadata": {},
   "outputs": [],
   "source": [
    "# приведем дату в колонке date к нужному виду\n",
    "\n",
    "visitors['date'] = pd.to_datetime(visitors['date'])"
   ]
  },
  {
   "cell_type": "markdown",
   "metadata": {},
   "source": [
    "**Вывод:**\n",
    "1. Данные из датасетов были изучены, проведена их предобработка\n",
    "2. Пропусков в данных, полных дубликатов в датасетах обнаружено не было\n",
    "3. Столбец *date* в датасетах *orders* и *visitors* был переведен в формат *datetime*\n",
    "4. Названия столбцов всех датасетов были приведены к нижнему регистру"
   ]
  },
  {
   "cell_type": "markdown",
   "metadata": {},
   "source": [
    "## Приоритизация гипотез"
   ]
  },
  {
   "cell_type": "markdown",
   "metadata": {},
   "source": [
    "**Описание фреймфорков**\n",
    "1. ICE (Impact — влияние, Confidence — уверенность, Ease — легкость реализации). Каждый из этих факторов оценивается по шкале от 1 до 10.\n",
    "    ICE Score = Impact * Confidence * Ease = Impact * Confidence / Effort\n",
    "2. RICE (Reach — охват, Impact — влияние, Confidence — достоверность, Effort — усилия)\n",
    "    RICE Score = Reach * Impact * Confidence / Effort "
   ]
  },
  {
   "cell_type": "code",
   "execution_count": 11,
   "metadata": {},
   "outputs": [
    {
     "data": {
      "text/html": [
       "<div>\n",
       "<style scoped>\n",
       "    .dataframe tbody tr th:only-of-type {\n",
       "        vertical-align: middle;\n",
       "    }\n",
       "\n",
       "    .dataframe tbody tr th {\n",
       "        vertical-align: top;\n",
       "    }\n",
       "\n",
       "    .dataframe thead th {\n",
       "        text-align: right;\n",
       "    }\n",
       "</style>\n",
       "<table border=\"1\" class=\"dataframe\">\n",
       "  <thead>\n",
       "    <tr style=\"text-align: right;\">\n",
       "      <th></th>\n",
       "      <th>hypothesis</th>\n",
       "      <th>reach</th>\n",
       "      <th>impact</th>\n",
       "      <th>confidence</th>\n",
       "      <th>efforts</th>\n",
       "    </tr>\n",
       "  </thead>\n",
       "  <tbody>\n",
       "    <tr>\n",
       "      <th>0</th>\n",
       "      <td>Добавить два новых канала привлечения трафика, что позволит привлекать на 30% больше пользователей</td>\n",
       "      <td>3</td>\n",
       "      <td>10</td>\n",
       "      <td>8</td>\n",
       "      <td>6</td>\n",
       "    </tr>\n",
       "    <tr>\n",
       "      <th>1</th>\n",
       "      <td>Запустить собственную службу доставки, что сократит срок доставки заказов</td>\n",
       "      <td>2</td>\n",
       "      <td>5</td>\n",
       "      <td>4</td>\n",
       "      <td>10</td>\n",
       "    </tr>\n",
       "    <tr>\n",
       "      <th>2</th>\n",
       "      <td>Добавить блоки рекомендаций товаров на сайт интернет магазина, чтобы повысить конверсию и средни...</td>\n",
       "      <td>8</td>\n",
       "      <td>3</td>\n",
       "      <td>7</td>\n",
       "      <td>3</td>\n",
       "    </tr>\n",
       "    <tr>\n",
       "      <th>3</th>\n",
       "      <td>Изменить структура категорий, что увеличит конверсию, т.к. пользователи быстрее найдут нужный товар</td>\n",
       "      <td>8</td>\n",
       "      <td>3</td>\n",
       "      <td>3</td>\n",
       "      <td>8</td>\n",
       "    </tr>\n",
       "    <tr>\n",
       "      <th>4</th>\n",
       "      <td>Изменить цвет фона главной страницы, чтобы увеличить вовлеченность пользователей</td>\n",
       "      <td>3</td>\n",
       "      <td>1</td>\n",
       "      <td>1</td>\n",
       "      <td>1</td>\n",
       "    </tr>\n",
       "    <tr>\n",
       "      <th>5</th>\n",
       "      <td>Добавить страницу отзывов клиентов о магазине, что позволит увеличить количество заказов</td>\n",
       "      <td>3</td>\n",
       "      <td>2</td>\n",
       "      <td>2</td>\n",
       "      <td>3</td>\n",
       "    </tr>\n",
       "    <tr>\n",
       "      <th>6</th>\n",
       "      <td>Показать на главной странице баннеры с актуальными акциями и распродажами, чтобы увеличить конве...</td>\n",
       "      <td>5</td>\n",
       "      <td>3</td>\n",
       "      <td>8</td>\n",
       "      <td>3</td>\n",
       "    </tr>\n",
       "    <tr>\n",
       "      <th>7</th>\n",
       "      <td>Добавить форму подписки на все основные страницы, чтобы собрать базу клиентов для email-рассылок</td>\n",
       "      <td>10</td>\n",
       "      <td>7</td>\n",
       "      <td>8</td>\n",
       "      <td>5</td>\n",
       "    </tr>\n",
       "    <tr>\n",
       "      <th>8</th>\n",
       "      <td>Запустить акцию, дающую скидку на товар в день рождения</td>\n",
       "      <td>1</td>\n",
       "      <td>9</td>\n",
       "      <td>9</td>\n",
       "      <td>5</td>\n",
       "    </tr>\n",
       "  </tbody>\n",
       "</table>\n",
       "</div>"
      ],
      "text/plain": [
       "                                                                                            hypothesis  \\\n",
       "0   Добавить два новых канала привлечения трафика, что позволит привлекать на 30% больше пользователей   \n",
       "1                            Запустить собственную службу доставки, что сократит срок доставки заказов   \n",
       "2  Добавить блоки рекомендаций товаров на сайт интернет магазина, чтобы повысить конверсию и средни...   \n",
       "3  Изменить структура категорий, что увеличит конверсию, т.к. пользователи быстрее найдут нужный товар   \n",
       "4                     Изменить цвет фона главной страницы, чтобы увеличить вовлеченность пользователей   \n",
       "5             Добавить страницу отзывов клиентов о магазине, что позволит увеличить количество заказов   \n",
       "6  Показать на главной странице баннеры с актуальными акциями и распродажами, чтобы увеличить конве...   \n",
       "7     Добавить форму подписки на все основные страницы, чтобы собрать базу клиентов для email-рассылок   \n",
       "8                                              Запустить акцию, дающую скидку на товар в день рождения   \n",
       "\n",
       "   reach  impact  confidence  efforts  \n",
       "0      3      10           8        6  \n",
       "1      2       5           4       10  \n",
       "2      8       3           7        3  \n",
       "3      8       3           3        8  \n",
       "4      3       1           1        1  \n",
       "5      3       2           2        3  \n",
       "6      5       3           8        3  \n",
       "7     10       7           8        5  \n",
       "8      1       9           9        5  "
      ]
     },
     "metadata": {},
     "output_type": "display_data"
    }
   ],
   "source": [
    "display(hypothesis)"
   ]
  },
  {
   "cell_type": "code",
   "execution_count": 12,
   "metadata": {},
   "outputs": [
    {
     "data": {
      "text/html": [
       "<div>\n",
       "<style scoped>\n",
       "    .dataframe tbody tr th:only-of-type {\n",
       "        vertical-align: middle;\n",
       "    }\n",
       "\n",
       "    .dataframe tbody tr th {\n",
       "        vertical-align: top;\n",
       "    }\n",
       "\n",
       "    .dataframe thead th {\n",
       "        text-align: right;\n",
       "    }\n",
       "</style>\n",
       "<table border=\"1\" class=\"dataframe\">\n",
       "  <thead>\n",
       "    <tr style=\"text-align: right;\">\n",
       "      <th></th>\n",
       "      <th>hypothesis</th>\n",
       "      <th>ICE</th>\n",
       "    </tr>\n",
       "  </thead>\n",
       "  <tbody>\n",
       "    <tr>\n",
       "      <th>8</th>\n",
       "      <td>Запустить акцию, дающую скидку на товар в день рождения</td>\n",
       "      <td>16.20</td>\n",
       "    </tr>\n",
       "    <tr>\n",
       "      <th>0</th>\n",
       "      <td>Добавить два новых канала привлечения трафика, что позволит привлекать на 30% больше пользователей</td>\n",
       "      <td>13.33</td>\n",
       "    </tr>\n",
       "    <tr>\n",
       "      <th>7</th>\n",
       "      <td>Добавить форму подписки на все основные страницы, чтобы собрать базу клиентов для email-рассылок</td>\n",
       "      <td>11.20</td>\n",
       "    </tr>\n",
       "    <tr>\n",
       "      <th>6</th>\n",
       "      <td>Показать на главной странице баннеры с актуальными акциями и распродажами, чтобы увеличить конве...</td>\n",
       "      <td>8.00</td>\n",
       "    </tr>\n",
       "    <tr>\n",
       "      <th>2</th>\n",
       "      <td>Добавить блоки рекомендаций товаров на сайт интернет магазина, чтобы повысить конверсию и средни...</td>\n",
       "      <td>7.00</td>\n",
       "    </tr>\n",
       "    <tr>\n",
       "      <th>1</th>\n",
       "      <td>Запустить собственную службу доставки, что сократит срок доставки заказов</td>\n",
       "      <td>2.00</td>\n",
       "    </tr>\n",
       "    <tr>\n",
       "      <th>5</th>\n",
       "      <td>Добавить страницу отзывов клиентов о магазине, что позволит увеличить количество заказов</td>\n",
       "      <td>1.33</td>\n",
       "    </tr>\n",
       "    <tr>\n",
       "      <th>3</th>\n",
       "      <td>Изменить структура категорий, что увеличит конверсию, т.к. пользователи быстрее найдут нужный товар</td>\n",
       "      <td>1.12</td>\n",
       "    </tr>\n",
       "    <tr>\n",
       "      <th>4</th>\n",
       "      <td>Изменить цвет фона главной страницы, чтобы увеличить вовлеченность пользователей</td>\n",
       "      <td>1.00</td>\n",
       "    </tr>\n",
       "  </tbody>\n",
       "</table>\n",
       "</div>"
      ],
      "text/plain": [
       "                                                                                            hypothesis  \\\n",
       "8                                              Запустить акцию, дающую скидку на товар в день рождения   \n",
       "0   Добавить два новых канала привлечения трафика, что позволит привлекать на 30% больше пользователей   \n",
       "7     Добавить форму подписки на все основные страницы, чтобы собрать базу клиентов для email-рассылок   \n",
       "6  Показать на главной странице баннеры с актуальными акциями и распродажами, чтобы увеличить конве...   \n",
       "2  Добавить блоки рекомендаций товаров на сайт интернет магазина, чтобы повысить конверсию и средни...   \n",
       "1                            Запустить собственную службу доставки, что сократит срок доставки заказов   \n",
       "5             Добавить страницу отзывов клиентов о магазине, что позволит увеличить количество заказов   \n",
       "3  Изменить структура категорий, что увеличит конверсию, т.к. пользователи быстрее найдут нужный товар   \n",
       "4                     Изменить цвет фона главной страницы, чтобы увеличить вовлеченность пользователей   \n",
       "\n",
       "     ICE  \n",
       "8  16.20  \n",
       "0  13.33  \n",
       "7  11.20  \n",
       "6   8.00  \n",
       "2   7.00  \n",
       "1   2.00  \n",
       "5   1.33  \n",
       "3   1.12  \n",
       "4   1.00  "
      ]
     },
     "metadata": {},
     "output_type": "display_data"
    }
   ],
   "source": [
    "# применим фреймворк ICE для приоритизации гипотез\n",
    "\n",
    "hypothesis['ICE'] = (hypothesis['impact'] * hypothesis['confidence'] / hypothesis['efforts']).round(2)\n",
    "\n",
    "display(hypothesis[['hypothesis', 'ICE']].sort_values(by='ICE', ascending=False))"
   ]
  },
  {
   "cell_type": "markdown",
   "metadata": {},
   "source": [
    "> Наиболее перспективные гипотезы по ICE 8, 0, 7, 6. Для гипотез 8, 0 и 7 наблюдаются высокие значения *impact* и *confidence* при небольшом значении *efforts*. Это означает, что изменение, которое мы хотим внести, значимо повлияет на пользователей, их опыт и удовлетворение от продукта и мы твердо уверены, что влияние будет именно таким при сравнительно небольшой стоимости тестирования. Для гипотезы 6 значение показателя *impact* низкий, следовательно, влияние этого изменения несущественное, однако уверенность в нем высокая."
   ]
  },
  {
   "cell_type": "code",
   "execution_count": 13,
   "metadata": {},
   "outputs": [
    {
     "name": "stdout",
     "output_type": "stream",
     "text": [
      "                                                                                            hypothesis  \\\n",
      "7     Добавить форму подписки на все основные страницы, чтобы собрать базу клиентов для email-рассылок   \n",
      "2  Добавить блоки рекомендаций товаров на сайт интернет магазина, чтобы повысить конверсию и средни...   \n",
      "0   Добавить два новых канала привлечения трафика, что позволит привлекать на 30% больше пользователей   \n",
      "6  Показать на главной странице баннеры с актуальными акциями и распродажами, чтобы увеличить конве...   \n",
      "8                                              Запустить акцию, дающую скидку на товар в день рождения   \n",
      "3  Изменить структура категорий, что увеличит конверсию, т.к. пользователи быстрее найдут нужный товар   \n",
      "1                            Запустить собственную службу доставки, что сократит срок доставки заказов   \n",
      "5             Добавить страницу отзывов клиентов о магазине, что позволит увеличить количество заказов   \n",
      "4                     Изменить цвет фона главной страницы, чтобы увеличить вовлеченность пользователей   \n",
      "\n",
      "    RICE  \n",
      "7  112.0  \n",
      "2   56.0  \n",
      "0   40.0  \n",
      "6   40.0  \n",
      "8   16.2  \n",
      "3    9.0  \n",
      "1    4.0  \n",
      "5    4.0  \n",
      "4    3.0  \n"
     ]
    }
   ],
   "source": [
    "# применим фреймворк RICE для приоритизации гипотез\n",
    "\n",
    "hypothesis['RICE'] = hypothesis['reach'] * hypothesis['impact'] * hypothesis['confidence'] / hypothesis['efforts'] \n",
    "print(hypothesis[['hypothesis', 'RICE']].sort_values(by='RICE', ascending=False))"
   ]
  },
  {
   "cell_type": "markdown",
   "metadata": {},
   "source": [
    "> Наиболее перспективные гипотезы по RICE 7, 2, 0, 6. Для гипотезы 7 наблюдаются высокие значения *reach*, *impact* и *confidence* при небольшом значении *efforts*. В случае гипотезы 2 наблюдаются высокие значения *reach* и *confidence* при значении *impact* и *efforts*, равном 3 - влияние этого изменения несущественное. Для гипотез 0 и 6 значение показателя *reach* невысоки (3 и 5 соответственно) - изменения затрагивают небольшую часть пользователей."
   ]
  },
  {
   "cell_type": "markdown",
   "metadata": {},
   "source": [
    "**Вывод**: При использовании фреймворка ICE мы получили, что четверка лидеров - это гипотезы 8, 0, 7, 6. Гипотеза 8 обладает наибольшим значением показателя ICE: параметры *impact* и *confidence* равны 9 и *efforts* равен 5. \n",
    "\n",
    "В случае фреймворка RICE приоритизация гипотез изменилась: на первое место вышла гипотеза 7 (у нее максимальное значение параметра *reach*, в то время как у других гипотез он меньше), а на втором - гипотеза 2 (8 в графе *reach*). Гипотеза 8 в список лидеров по RICE не вошла - у нее самое низкое значение *reach*. "
   ]
  },
  {
   "cell_type": "markdown",
   "metadata": {},
   "source": [
    "## Анализ A/B-теста"
   ]
  },
  {
   "cell_type": "code",
   "execution_count": 14,
   "metadata": {},
   "outputs": [
    {
     "data": {
      "text/html": [
       "<div>\n",
       "<style scoped>\n",
       "    .dataframe tbody tr th:only-of-type {\n",
       "        vertical-align: middle;\n",
       "    }\n",
       "\n",
       "    .dataframe tbody tr th {\n",
       "        vertical-align: top;\n",
       "    }\n",
       "\n",
       "    .dataframe thead th {\n",
       "        text-align: right;\n",
       "    }\n",
       "</style>\n",
       "<table border=\"1\" class=\"dataframe\">\n",
       "  <thead>\n",
       "    <tr style=\"text-align: right;\">\n",
       "      <th></th>\n",
       "      <th>number_of_groups</th>\n",
       "    </tr>\n",
       "    <tr>\n",
       "      <th>visitor_id</th>\n",
       "      <th></th>\n",
       "    </tr>\n",
       "  </thead>\n",
       "  <tbody>\n",
       "    <tr>\n",
       "      <th>5114589</th>\n",
       "      <td>1</td>\n",
       "    </tr>\n",
       "    <tr>\n",
       "      <th>6958315</th>\n",
       "      <td>1</td>\n",
       "    </tr>\n",
       "    <tr>\n",
       "      <th>8300375</th>\n",
       "      <td>2</td>\n",
       "    </tr>\n",
       "    <tr>\n",
       "      <th>11685486</th>\n",
       "      <td>1</td>\n",
       "    </tr>\n",
       "    <tr>\n",
       "      <th>39475350</th>\n",
       "      <td>1</td>\n",
       "    </tr>\n",
       "    <tr>\n",
       "      <th>...</th>\n",
       "      <td>...</td>\n",
       "    </tr>\n",
       "    <tr>\n",
       "      <th>4266935830</th>\n",
       "      <td>2</td>\n",
       "    </tr>\n",
       "    <tr>\n",
       "      <th>4278982564</th>\n",
       "      <td>1</td>\n",
       "    </tr>\n",
       "    <tr>\n",
       "      <th>4279090005</th>\n",
       "      <td>1</td>\n",
       "    </tr>\n",
       "    <tr>\n",
       "      <th>4281247801</th>\n",
       "      <td>1</td>\n",
       "    </tr>\n",
       "    <tr>\n",
       "      <th>4283872382</th>\n",
       "      <td>1</td>\n",
       "    </tr>\n",
       "  </tbody>\n",
       "</table>\n",
       "<p>1031 rows × 1 columns</p>\n",
       "</div>"
      ],
      "text/plain": [
       "            number_of_groups\n",
       "visitor_id                  \n",
       "5114589                    1\n",
       "6958315                    1\n",
       "8300375                    2\n",
       "11685486                   1\n",
       "39475350                   1\n",
       "...                      ...\n",
       "4266935830                 2\n",
       "4278982564                 1\n",
       "4279090005                 1\n",
       "4281247801                 1\n",
       "4283872382                 1\n",
       "\n",
       "[1031 rows x 1 columns]"
      ]
     },
     "metadata": {},
     "output_type": "display_data"
    }
   ],
   "source": [
    "# проверим, есть ли такие пользователи, что оказались в обеих группах\n",
    "\n",
    "users = orders.pivot_table(index='visitor_id', values='group', aggfunc='nunique')\n",
    "users = users.rename(columns={'group':'number_of_groups'})\n",
    "display(users)"
   ]
  },
  {
   "cell_type": "code",
   "execution_count": 15,
   "metadata": {},
   "outputs": [
    {
     "name": "stdout",
     "output_type": "stream",
     "text": [
      "number_of_groups    58\n",
      "dtype: int64\n"
     ]
    }
   ],
   "source": [
    "print(users.query('number_of_groups > 1').count())"
   ]
  },
  {
   "cell_type": "markdown",
   "metadata": {},
   "source": [
    "> Вывод: 58 пользователей оказались одновременно в группах А и В. Они составляют 5,63% от общего числа пользователей."
   ]
  },
  {
   "cell_type": "markdown",
   "metadata": {},
   "source": [
    "### Построим график кумулятивной выручки по группам. Сделаем выводы и предположения"
   ]
  },
  {
   "cell_type": "code",
   "execution_count": 16,
   "metadata": {},
   "outputs": [],
   "source": [
    "# создаем массив уникальных пар значений дат и групп теста\n",
    "\n",
    "dates_groups = orders[['date','group']].drop_duplicates()"
   ]
  },
  {
   "cell_type": "code",
   "execution_count": 17,
   "metadata": {},
   "outputs": [
    {
     "name": "stdout",
     "output_type": "stream",
     "text": [
      "2\n"
     ]
    }
   ],
   "source": [
    "# посмотрим, сколько групп в А/В-тесте\n",
    "\n",
    "print(dates_groups['group'].nunique())"
   ]
  },
  {
   "cell_type": "code",
   "execution_count": 18,
   "metadata": {},
   "outputs": [
    {
     "name": "stdout",
     "output_type": "stream",
     "text": [
      "Дата начала теста: 2019-08-01\n",
      "Дата конца теста: 2019-08-31\n"
     ]
    }
   ],
   "source": [
    "# посмотрим дату начала и конца теста\n",
    "\n",
    "print('Дата начала теста:', dates_groups['date'].min().date())\n",
    "print('Дата конца теста:', dates_groups['date'].max().date())"
   ]
  },
  {
   "cell_type": "code",
   "execution_count": 19,
   "metadata": {},
   "outputs": [],
   "source": [
    "# собираем агрегированные кумулятивные по дням данные о заказах\n",
    "\n",
    "orders_aggregated = (\n",
    "    dates_groups.apply(\n",
    "        lambda x: orders[np.logical_and(       # получаем строки из orders, дата которых <= дате элемента из dates_groups, \n",
    "            orders['date'] <= x['date'],       # а группа теста равна группе из dates_groups\n",
    "            orders['group'] == x['group']\n",
    "        )].agg(\n",
    "            {'date' : 'max',                   # находим максимальную дату\n",
    "             'group' : 'max', \n",
    "             'transaction_id' : 'nunique',     # находим число уникальных ID заказов \n",
    "             'visitor_id' : 'nunique',         # находим число уникальных пользователей\n",
    "             'revenue' : 'sum'}                # подсчитываем выручку\n",
    "        ), \n",
    "        axis=1\n",
    "    )\n",
    "                .sort_values(by=['date','group'])\n",
    ")"
   ]
  },
  {
   "cell_type": "code",
   "execution_count": 20,
   "metadata": {},
   "outputs": [],
   "source": [
    "# собираем агрегированные кумулятивные по дням данные о посетителях\n",
    "\n",
    "visitors_aggregated = (\n",
    "    dates_groups.apply(\n",
    "        lambda x: visitors[np.logical_and(       # получаем строки из orders, дата которых <= дате элемента из dates_groups, \n",
    "            visitors['date'] <= x['date'],       # а группа теста равна группе из dates_groups\n",
    "            visitors['group'] == x['group']\n",
    "        )].agg(\n",
    "            {'date' : 'max',                   # находим максимальную дату\n",
    "             'group' : 'max', \n",
    "             'visitors' : 'sum'}                # подсчитываем число посетителей\n",
    "        ), \n",
    "        axis=1\n",
    "    )\n",
    "                .sort_values(by=['date','group'])\n",
    ")"
   ]
  },
  {
   "cell_type": "code",
   "execution_count": 21,
   "metadata": {
    "scrolled": true
   },
   "outputs": [
    {
     "data": {
      "text/html": [
       "<div>\n",
       "<style scoped>\n",
       "    .dataframe tbody tr th:only-of-type {\n",
       "        vertical-align: middle;\n",
       "    }\n",
       "\n",
       "    .dataframe tbody tr th {\n",
       "        vertical-align: top;\n",
       "    }\n",
       "\n",
       "    .dataframe thead th {\n",
       "        text-align: right;\n",
       "    }\n",
       "</style>\n",
       "<table border=\"1\" class=\"dataframe\">\n",
       "  <thead>\n",
       "    <tr style=\"text-align: right;\">\n",
       "      <th></th>\n",
       "      <th>date</th>\n",
       "      <th>group</th>\n",
       "      <th>orders</th>\n",
       "      <th>buyers</th>\n",
       "      <th>revenue</th>\n",
       "      <th>visitors</th>\n",
       "    </tr>\n",
       "  </thead>\n",
       "  <tbody>\n",
       "    <tr>\n",
       "      <th>0</th>\n",
       "      <td>2019-08-01</td>\n",
       "      <td>A</td>\n",
       "      <td>24</td>\n",
       "      <td>20</td>\n",
       "      <td>148579</td>\n",
       "      <td>719</td>\n",
       "    </tr>\n",
       "    <tr>\n",
       "      <th>1</th>\n",
       "      <td>2019-08-01</td>\n",
       "      <td>B</td>\n",
       "      <td>21</td>\n",
       "      <td>20</td>\n",
       "      <td>101217</td>\n",
       "      <td>713</td>\n",
       "    </tr>\n",
       "    <tr>\n",
       "      <th>2</th>\n",
       "      <td>2019-08-02</td>\n",
       "      <td>A</td>\n",
       "      <td>44</td>\n",
       "      <td>38</td>\n",
       "      <td>242401</td>\n",
       "      <td>1338</td>\n",
       "    </tr>\n",
       "    <tr>\n",
       "      <th>3</th>\n",
       "      <td>2019-08-02</td>\n",
       "      <td>B</td>\n",
       "      <td>45</td>\n",
       "      <td>43</td>\n",
       "      <td>266748</td>\n",
       "      <td>1294</td>\n",
       "    </tr>\n",
       "    <tr>\n",
       "      <th>4</th>\n",
       "      <td>2019-08-03</td>\n",
       "      <td>A</td>\n",
       "      <td>68</td>\n",
       "      <td>62</td>\n",
       "      <td>354874</td>\n",
       "      <td>1845</td>\n",
       "    </tr>\n",
       "  </tbody>\n",
       "</table>\n",
       "</div>"
      ],
      "text/plain": [
       "        date group  orders  buyers  revenue  visitors\n",
       "0 2019-08-01     A      24      20   148579       719\n",
       "1 2019-08-01     B      21      20   101217       713\n",
       "2 2019-08-02     A      44      38   242401      1338\n",
       "3 2019-08-02     B      45      43   266748      1294\n",
       "4 2019-08-03     A      68      62   354874      1845"
      ]
     },
     "metadata": {},
     "output_type": "display_data"
    }
   ],
   "source": [
    "# объединяем кумулятивные данные в одной таблице и присваиваем ее столбцам названия\n",
    "\n",
    "cumulative_data = orders_aggregated.merge(visitors_aggregated, left_on=['date', 'group'], right_on=['date', 'group'])\n",
    "cumulative_data.columns = ['date', 'group', 'orders', 'buyers', 'revenue', 'visitors']\n",
    "\n",
    "display(cumulative_data.head(5))"
   ]
  },
  {
   "cell_type": "code",
   "execution_count": 22,
   "metadata": {},
   "outputs": [
    {
     "name": "stdout",
     "output_type": "stream",
     "text": [
      "Минимальная и максимальная даты в этом датафрейме совпадают с минимальной и максимальной датой в исходных данных\n"
     ]
    }
   ],
   "source": [
    "# проверим, совпадают ли минимальная и максимальная даты в этом датафрейме с минимальной и максимальной датой в исходных данных\n",
    "\n",
    "if (\n",
    "    cumulative_data['date'].min().date() == dates_groups['date'].min().date() \n",
    "    and cumulative_data['date'].max().date() == dates_groups['date'].max().date()\n",
    "):\n",
    "    print('Минимальная и максимальная даты в этом датафрейме совпадают с минимальной и максимальной датой в исходных данных')\n",
    "else:\n",
    "    print('Минимальная и максимальная даты в этом датафрейме не совпадают с минимальной и максимальной датой в исходных данных')"
   ]
  },
  {
   "cell_type": "code",
   "execution_count": 23,
   "metadata": {},
   "outputs": [],
   "source": [
    "# датафрейм с кумулятивным количеством заказов и кумулятивной выручкой по дням в группе А\n",
    "\n",
    "cumulative_revenue_A = cumulative_data.query('group==\"A\"')[['date','revenue', 'orders']]"
   ]
  },
  {
   "cell_type": "code",
   "execution_count": 24,
   "metadata": {},
   "outputs": [],
   "source": [
    "# датафрейм с кумулятивным количеством заказов и кумулятивной выручкой по дням в группе B\n",
    "\n",
    "cumulative_revenue_B = cumulative_data.query('group==\"B\"')[['date','revenue', 'orders']]"
   ]
  },
  {
   "cell_type": "code",
   "execution_count": 25,
   "metadata": {},
   "outputs": [
    {
     "data": {
      "image/png": "[encoded data removed]",
      "text/plain": [
       "<Figure size 864x360 with 1 Axes>"
      ]
     },
     "metadata": {
      "needs_background": "light"
     },
     "output_type": "display_data"
    }
   ],
   "source": [
    "# зададим размеры графика\n",
    "\n",
    "plt.figure(figsize=(12,5))\n",
    "\n",
    "# построим график выручки группы А\n",
    "\n",
    "plt.plot(cumulative_revenue_A['date'], cumulative_revenue_A['revenue'], label='A')\n",
    "\n",
    "# построим график выручки группы B\n",
    "\n",
    "plt.plot(cumulative_revenue_B['date'], cumulative_revenue_B['revenue'], label='B')\n",
    "\n",
    "plt.legend()\n",
    "plt.title(\"График кумулятивной выручки по группам\")\n",
    "plt.xlabel(\"Дата\")\n",
    "plt.ylabel(\"Выручка\")\n",
    "plt.show()"
   ]
  },
  {
   "cell_type": "markdown",
   "metadata": {},
   "source": [
    "> Вывод: для группы А выручка равномерно увеличивается в течение всего теста. Для группы В наблюдается резкий скачок между 17 и 21 августа, что может свидетельствовать о всплесках числа заказов, либо о появлении очень дорогих заказов в выборке. "
   ]
  },
  {
   "cell_type": "markdown",
   "metadata": {},
   "source": [
    "### Построим график кумулятивного среднего чека по группам. Сделаем выводы и предположения"
   ]
  },
  {
   "cell_type": "code",
   "execution_count": 26,
   "metadata": {
    "scrolled": true
   },
   "outputs": [
    {
     "data": {
      "image/png": "[encoded data removed]",
      "text/plain": [
       "<Figure size 864x360 with 1 Axes>"
      ]
     },
     "metadata": {
      "needs_background": "light"
     },
     "output_type": "display_data"
    }
   ],
   "source": [
    "# зададим размеры графика\n",
    "\n",
    "plt.figure(figsize=(12,5))\n",
    "\n",
    "# построим график среднего чека по группе А \n",
    "\n",
    "plt.plot(cumulative_revenue_A['date'], cumulative_revenue_A['revenue']/cumulative_revenue_A['orders'], label='A')\n",
    "\n",
    "# построим график среднего чека по группе В\n",
    "\n",
    "plt.plot(cumulative_revenue_B['date'], cumulative_revenue_B['revenue']/cumulative_revenue_B['orders'], label='B')\n",
    "\n",
    "plt.legend()\n",
    "plt.title(\"График кумулятивного среднего чека по группам\")\n",
    "plt.xlabel(\"Дата\")\n",
    "plt.ylabel(\"Средний чек\")\n",
    "plt.show()"
   ]
  },
  {
   "cell_type": "markdown",
   "metadata": {},
   "source": [
    "> Вывод: для группы А велична среднего чека в первые дни теста падала, затем наблюдался резкий рост до 13 агуста. Затем средний чек становится равномерным к концу теста. Для группы В в начале теста наблюдаются сильные колебания, затем очень резкий скачок между 17 и 21 августа и после величина чека становится равномерной. Возможно, резкий рост величины среднего чека связан с попаданием в группу крупных заказов. "
   ]
  },
  {
   "cell_type": "markdown",
   "metadata": {},
   "source": [
    "### Построим график относительного изменения кумулятивного среднего чека группы B к группе A. Сделаем выводы и предположения"
   ]
  },
  {
   "cell_type": "code",
   "execution_count": 27,
   "metadata": {},
   "outputs": [
    {
     "data": {
      "image/png": "[encoded data removed]",
      "text/plain": [
       "<Figure size 864x360 with 1 Axes>"
      ]
     },
     "metadata": {
      "needs_background": "light"
     },
     "output_type": "display_data"
    }
   ],
   "source": [
    "# собираем данные в одном датафрейме\n",
    "\n",
    "merged_cumulative_revenue = (\n",
    "    cumulative_revenue_A.merge(\n",
    "        cumulative_revenue_B, \n",
    "        left_on='date', \n",
    "        right_on='date', \n",
    "        how='left', \n",
    "        suffixes=['A', 'B']\n",
    "    )\n",
    ")\n",
    "\n",
    "# cтроим отношение средних чеков\n",
    "\n",
    "plt.figure(figsize=(12,5))\n",
    "plt.plot(\n",
    "    merged_cumulative_revenue['date'], \n",
    "    (merged_cumulative_revenue['revenueB']/merged_cumulative_revenue['ordersB'])\n",
    "    /\n",
    "    (merged_cumulative_revenue['revenueA']/merged_cumulative_revenue['ordersA'])-1\n",
    ")\n",
    "\n",
    "# добавляем ось X\n",
    "\n",
    "plt.axhline(y=0, color='black', linestyle='--')\n",
    "plt.title(\"График относительного изменения кумулятивного среднего чека группы B к группе A\")\n",
    "plt.xlabel(\"Дата\")\n",
    "plt.ylabel(\"Относительное изменение\")\n",
    "plt.show()"
   ]
  },
  {
   "cell_type": "markdown",
   "metadata": {},
   "source": [
    "> Вывод: на графике наблюдаются сильные различия между группами в разные даты. 13 августа мы видим, что группа В проигрывает группе А, однако в остальное время значения среднего чека для группы В сильно выше. В данных определенно есть сильно выбивающиеся значения (выбросы)."
   ]
  },
  {
   "cell_type": "markdown",
   "metadata": {},
   "source": [
    "### Построим график кумулятивной конверсии по группам. Сделаем выводы и предположения"
   ]
  },
  {
   "cell_type": "code",
   "execution_count": 28,
   "metadata": {},
   "outputs": [],
   "source": [
    "cumulative_data['conversion'] = cumulative_data['orders']/cumulative_data['visitors']"
   ]
  },
  {
   "cell_type": "code",
   "execution_count": 29,
   "metadata": {},
   "outputs": [],
   "source": [
    "# отделяем данные по группе A\n",
    "\n",
    "cumulative_data_A = cumulative_data.query('group==\"A\"')"
   ]
  },
  {
   "cell_type": "code",
   "execution_count": 30,
   "metadata": {},
   "outputs": [],
   "source": [
    "# отделяем данные по группе B\n",
    "\n",
    "cumulative_data_B = cumulative_data.query('group==\"B\"')"
   ]
  },
  {
   "cell_type": "code",
   "execution_count": 31,
   "metadata": {},
   "outputs": [
    {
     "data": {
      "image/png": "[encoded data removed]",
      "text/plain": [
       "<Figure size 936x360 with 1 Axes>"
      ]
     },
     "metadata": {
      "needs_background": "light"
     },
     "output_type": "display_data"
    }
   ],
   "source": [
    "# строим графики\n",
    "\n",
    "plt.figure(figsize=(13,5))\n",
    "\n",
    "x_min = dt(2019, 8, 1)\n",
    "x_max = dt(2019, 9, 1)\n",
    "\n",
    "plt.plot(cumulative_data_A['date'], cumulative_data_A['conversion'], label='A')\n",
    "plt.plot(cumulative_data_B['date'], cumulative_data_B['conversion'], label='B')\n",
    "plt.axis([x_min, x_max, 0, 0.04]) # задаем масштаб осей\n",
    "plt.legend()\n",
    "plt.title(\"График кумулятивной конверсии по группам\")\n",
    "plt.xlabel(\"Дата\")\n",
    "plt.ylabel(\"Конверсия\")\n",
    "\n",
    "plt.show()"
   ]
  },
  {
   "cell_type": "markdown",
   "metadata": {},
   "source": [
    "> Вывод: для группы А наблюдается резкий скачок среднего числа заказов в начале теста, а затем значения уменьшаются, выравниваются и к концу теста колеблятся примерно у одного значения. Для группы В в начале теста наблюдается резкий всплеск, а затем падение среднего количества заказов. С 4 августа количество заказов растет и достигает максимума. К концу теста конверсия зафиксировалась.\n",
    "Конверсия группы В в период с 6 агуста и до конца теста выше, чем для группы А."
   ]
  },
  {
   "cell_type": "markdown",
   "metadata": {},
   "source": [
    "### Построим график относительного изменения кумулятивного среднего количества заказов группы B к группе A. Сделаем выводы и предположения"
   ]
  },
  {
   "cell_type": "code",
   "execution_count": 32,
   "metadata": {},
   "outputs": [],
   "source": [
    "# собираем данные в одном датафрейме\n",
    "\n",
    "merged_сumulative_сonversions = (\n",
    "    cumulative_data_A[['date','conversion']].merge(\n",
    "        cumulative_data_B[['date','conversion']], \n",
    "        left_on='date', \n",
    "        right_on='date', \n",
    "        how='left', \n",
    "        suffixes=['A', 'B']\n",
    "    )\n",
    ")"
   ]
  },
  {
   "cell_type": "code",
   "execution_count": 33,
   "metadata": {},
   "outputs": [
    {
     "data": {
      "image/png": "[encoded data removed]",
      "text/plain": [
       "<Figure size 1080x576 with 1 Axes>"
      ]
     },
     "metadata": {
      "needs_background": "light"
     },
     "output_type": "display_data"
    }
   ],
   "source": [
    "# строим график\n",
    "\n",
    "plt.figure(figsize=(15,8))\n",
    "plt.plot(\n",
    "    merged_сumulative_сonversions['date'], \n",
    "    merged_сumulative_сonversions['conversionB']/merged_сumulative_сonversions['conversionA']-1, \n",
    "    label=\"Относительный прирост конверсии группы B относительно группы A\"\n",
    ")\n",
    "plt.legend()\n",
    "plt.axhline(y=0, color='black', linestyle='--')\n",
    "plt.title(\"График относительного изменения кумулятивного среднего количества заказов группы B к группе A\")\n",
    "plt.xlabel(\"Дата\")\n",
    "plt.ylabel(\"Относительное изменение\")\n",
    "plt.show()"
   ]
  },
  {
   "cell_type": "markdown",
   "metadata": {},
   "source": [
    "> Вывод: в начале теста группа B проигрывала группе A, затем вырвалась вперёд. Её конверсия в середине теста начала медленно снижаться и к концу теста значение конверсии примерно выровнялось."
   ]
  },
  {
   "cell_type": "markdown",
   "metadata": {},
   "source": [
    "### Построим точечный график количества заказов по пользователям. Сделаем выводы и предположения"
   ]
  },
  {
   "cell_type": "code",
   "execution_count": 34,
   "metadata": {},
   "outputs": [
    {
     "data": {
      "text/html": [
       "<div>\n",
       "<style scoped>\n",
       "    .dataframe tbody tr th:only-of-type {\n",
       "        vertical-align: middle;\n",
       "    }\n",
       "\n",
       "    .dataframe tbody tr th {\n",
       "        vertical-align: top;\n",
       "    }\n",
       "\n",
       "    .dataframe thead th {\n",
       "        text-align: right;\n",
       "    }\n",
       "</style>\n",
       "<table border=\"1\" class=\"dataframe\">\n",
       "  <thead>\n",
       "    <tr style=\"text-align: right;\">\n",
       "      <th></th>\n",
       "      <th>visitor_id</th>\n",
       "      <th>orders</th>\n",
       "    </tr>\n",
       "  </thead>\n",
       "  <tbody>\n",
       "    <tr>\n",
       "      <th>1023</th>\n",
       "      <td>4256040402</td>\n",
       "      <td>11</td>\n",
       "    </tr>\n",
       "    <tr>\n",
       "      <th>591</th>\n",
       "      <td>2458001652</td>\n",
       "      <td>11</td>\n",
       "    </tr>\n",
       "    <tr>\n",
       "      <th>569</th>\n",
       "      <td>2378935119</td>\n",
       "      <td>9</td>\n",
       "    </tr>\n",
       "    <tr>\n",
       "      <th>487</th>\n",
       "      <td>2038680547</td>\n",
       "      <td>8</td>\n",
       "    </tr>\n",
       "    <tr>\n",
       "      <th>44</th>\n",
       "      <td>199603092</td>\n",
       "      <td>5</td>\n",
       "    </tr>\n",
       "  </tbody>\n",
       "</table>\n",
       "</div>"
      ],
      "text/plain": [
       "      visitor_id  orders\n",
       "1023  4256040402      11\n",
       "591   2458001652      11\n",
       "569   2378935119       9\n",
       "487   2038680547       8\n",
       "44     199603092       5"
      ]
     },
     "metadata": {},
     "output_type": "display_data"
    }
   ],
   "source": [
    "# подсчитаем количество заказов по пользователям\n",
    "\n",
    "orders_by_users = (\n",
    "    orders.groupby('visitor_id', as_index=False)\n",
    "    .agg({'transaction_id': 'nunique'})\n",
    ")\n",
    "orders_by_users.columns = ['visitor_id', 'orders']\n",
    "display(orders_by_users.sort_values(by='orders', ascending=False).head())"
   ]
  },
  {
   "cell_type": "code",
   "execution_count": 35,
   "metadata": {},
   "outputs": [
    {
     "data": {
      "image/png": "[encoded data removed]",
      "text/plain": [
       "<Figure size 432x288 with 1 Axes>"
      ]
     },
     "metadata": {
      "needs_background": "light"
     },
     "output_type": "display_data"
    }
   ],
   "source": [
    "# построим точечный график\n",
    "\n",
    "x_values = pd.Series(range(0, len(orders_by_users))) \n",
    "\n",
    "plt.scatter(x_values, orders_by_users['orders'])\n",
    "plt.title(\"График количества заказов по пользователям\")\n",
    "plt.ylabel(\"Число заказов\")\n",
    "plt.show()"
   ]
  },
  {
   "cell_type": "markdown",
   "metadata": {},
   "source": [
    "> Вывод: наблюдается достаточное количество пользователей с 2-3 заказами. Их точная доля пока не ясна, следовательно, мы не можем сказать, аномалиии это или нет."
   ]
  },
  {
   "cell_type": "markdown",
   "metadata": {},
   "source": [
    "### Посчитаем 95-й и 99-й перцентили количества заказов на пользователя. Выберем границу для определения аномальных пользователей"
   ]
  },
  {
   "cell_type": "code",
   "execution_count": 36,
   "metadata": {},
   "outputs": [
    {
     "name": "stdout",
     "output_type": "stream",
     "text": [
      "[2. 4.]\n"
     ]
    }
   ],
   "source": [
    "print(np.percentile(orders_by_users['orders'], [95, 99]))"
   ]
  },
  {
   "cell_type": "markdown",
   "metadata": {},
   "source": [
    "> Вывод: не более 5% пользователей  оформляли больше чем 2 заказа и не более 1% - 4 заказа. Примем 2 заказа на одного пользователя за верхнюю границу числа заказов. "
   ]
  },
  {
   "cell_type": "markdown",
   "metadata": {},
   "source": [
    "### Построим точечный график стоимостей заказов. Сделаем выводы и предположения"
   ]
  },
  {
   "cell_type": "code",
   "execution_count": 37,
   "metadata": {},
   "outputs": [
    {
     "data": {
      "image/png": "[encoded data removed]",
      "text/plain": [
       "<Figure size 432x288 with 1 Axes>"
      ]
     },
     "metadata": {
      "needs_background": "light"
     },
     "output_type": "display_data"
    }
   ],
   "source": [
    "# построим точечный график\n",
    "\n",
    "x_values = pd.Series(range(0,len(orders['revenue'])))\n",
    "\n",
    "plt.scatter(x_values, orders['revenue'])\n",
    "plt.title(\"График стоимостей заказов\")\n",
    "plt.ylabel(\"Стоимость заказа\")\n",
    "plt.show()"
   ]
  },
  {
   "cell_type": "markdown",
   "metadata": {},
   "source": [
    "> Вывод: есть один очень дорогой заказ, стоимостью выше 1.2 млн, и заказ стоимостью выше 200 тысяч. Стоимость основной части заказов по стоимости не превышает 200 000."
   ]
  },
  {
   "cell_type": "markdown",
   "metadata": {},
   "source": [
    "### Посчитаем 95-й и 99-й перцентили стоимости заказов. Выберем границу для определения аномальных заказов"
   ]
  },
  {
   "cell_type": "code",
   "execution_count": 38,
   "metadata": {},
   "outputs": [
    {
     "name": "stdout",
     "output_type": "stream",
     "text": [
      "[28000.  58233.2]\n"
     ]
    }
   ],
   "source": [
    "print(np.percentile(orders['revenue'], [95, 99]))"
   ]
  },
  {
   "cell_type": "markdown",
   "metadata": {},
   "source": [
    "> Вывод: не более 5% заказов дороже 28 000 и не более 1% - дороже 58 234. Примем сумму в 28 000 за верхнюю границу стоимости заказов."
   ]
  },
  {
   "cell_type": "markdown",
   "metadata": {},
   "source": [
    "### Посчитаем статистическую значимость различий в среднем количестве заказов между группами по «сырым» данным. Сделаем выводы и предположения"
   ]
  },
  {
   "cell_type": "markdown",
   "metadata": {},
   "source": [
    "Сформулируем гипотезы. Нулевая: различий в среднем количестве заказов между группами нет. Альтернативная: различия в среднем между группами есть. </b>\n",
    "\n",
    "Непараметрический тест Уилкоксона-Манна-Уитни, alpha = 0.05"
   ]
  },
  {
   "cell_type": "code",
   "execution_count": 39,
   "metadata": {},
   "outputs": [],
   "source": [
    "# подготовим данные для анализа\n",
    "# количество пользователей в выбранную дату в группе A\n",
    "\n",
    "visitors_A_daily = visitors.query('group == \"A\"')[['date', 'visitors']] \n",
    "visitors_A_daily.columns = ['date', 'visitors_per_date_A']\n",
    "\n",
    "# подсчитаем количество пользователей до выбранной даты включительно в группе A\n",
    "\n",
    "visitors_A_cummulative = visitors_A_daily.apply(\n",
    "    lambda x: visitors_A_daily[visitors_A_daily['date'] <= x['date']].agg(\n",
    "        {'date': 'max', 'visitors_per_date_A': 'sum'}\n",
    "    ),\n",
    "    axis=1,\n",
    ")\n",
    "visitors_A_cummulative.columns = ['date', 'visitors_cummulative_A']"
   ]
  },
  {
   "cell_type": "code",
   "execution_count": 40,
   "metadata": {},
   "outputs": [],
   "source": [
    "# количество пользователей в выбранную дату в группе В\n",
    "\n",
    "visitors_B_daily = visitors.query('group == \"B\"')[['date', 'visitors']]\n",
    "visitors_B_daily.columns = ['date', 'visitors_per_date_B']\n",
    "\n",
    "# подсчитаем количество пользователей до выбранной даты включительно в группе В\n",
    "\n",
    "visitors_B_cummulative = visitors_B_daily.apply(\n",
    "    lambda x: visitors_B_daily[visitors_B_daily['date'] <= x['date']].agg(\n",
    "        {'date': 'max', 'visitors_per_date_B': 'sum'}\n",
    "    ),\n",
    "    axis=1,\n",
    ")\n",
    "visitors_B_cummulative.columns = ['date', 'visitors_cummulative_B']"
   ]
  },
  {
   "cell_type": "code",
   "execution_count": 41,
   "metadata": {},
   "outputs": [],
   "source": [
    "# количество заказов в выбранную дату в группе A и суммарная выручка в выбранную дату в группе A\n",
    "\n",
    "orders_A_daily = (\n",
    "    orders.query('group == \"A\"')[['date', 'transaction_id', 'visitor_id', 'revenue']]\n",
    "    .groupby('date', as_index=False)\n",
    "    .agg({'transaction_id': pd.Series.nunique, 'revenue': 'sum'})\n",
    ")\n",
    "orders_A_daily.columns = ['date', 'orders_per_date_A', 'revenue_per_date_A']\n",
    "\n",
    "# подсчитаем суммарное число заказов до выбранной даты включительно в группе A\n",
    "\n",
    "orders_A_сummulative = orders_A_daily.apply(\n",
    "    lambda x: orders_A_daily[orders_A_daily['date'] <= x['date']].agg(\n",
    "        {'date': 'max', 'orders_per_date_A': 'sum', 'revenue_per_date_A': 'sum'}\n",
    "    ),\n",
    "    axis=1,\n",
    ").sort_values(by=['date'])\n",
    "orders_A_сummulative.columns = [\n",
    "    'date',\n",
    "    'orders_сummulative_A',\n",
    "    'revenue_сummulative_A',\n",
    "]"
   ]
  },
  {
   "cell_type": "code",
   "execution_count": 42,
   "metadata": {},
   "outputs": [],
   "source": [
    "# количество заказов в выбранную дату в группе В и суммарная выручка в выбранную дату в группе В\n",
    "\n",
    "orders_B_daily = (\n",
    "    orders.query('group == \"B\"')[['date', 'transaction_id', 'visitor_id', 'revenue']]\n",
    "    .groupby('date', as_index=False)\n",
    "    .agg({'transaction_id': pd.Series.nunique, 'revenue': 'sum'})\n",
    ")\n",
    "orders_B_daily.columns = ['date', 'orders_per_date_B', 'revenue_per_date_B']\n",
    "\n",
    "# подсчитаем суммарное число заказов до выбранной даты включительно в группе B\n",
    "\n",
    "orders_B_сummulative = orders_B_daily.apply(\n",
    "    lambda x: orders_B_daily[orders_B_daily['date'] <= x['date']].agg(\n",
    "        {'date': 'max', 'orders_per_date_B': 'sum', 'revenue_per_date_B': 'sum'}\n",
    "    ),\n",
    "    axis=1,\n",
    ").sort_values(by=['date'])\n",
    "orders_B_сummulative.columns = [\n",
    "    'date',\n",
    "    'orders_сummulative_B',\n",
    "    'revenue_сummulative_B',\n",
    "]"
   ]
  },
  {
   "cell_type": "code",
   "execution_count": 43,
   "metadata": {},
   "outputs": [
    {
     "data": {
      "text/html": [
       "<div>\n",
       "<style scoped>\n",
       "    .dataframe tbody tr th:only-of-type {\n",
       "        vertical-align: middle;\n",
       "    }\n",
       "\n",
       "    .dataframe tbody tr th {\n",
       "        vertical-align: top;\n",
       "    }\n",
       "\n",
       "    .dataframe thead th {\n",
       "        text-align: right;\n",
       "    }\n",
       "</style>\n",
       "<table border=\"1\" class=\"dataframe\">\n",
       "  <thead>\n",
       "    <tr style=\"text-align: right;\">\n",
       "      <th></th>\n",
       "      <th>date</th>\n",
       "      <th>orders_per_date_A</th>\n",
       "      <th>revenue_per_date_A</th>\n",
       "      <th>orders_per_date_B</th>\n",
       "      <th>revenue_per_date_B</th>\n",
       "      <th>orders_сummulative_A</th>\n",
       "      <th>revenue_сummulative_A</th>\n",
       "      <th>orders_сummulative_B</th>\n",
       "      <th>revenue_сummulative_B</th>\n",
       "      <th>visitors_per_date_A</th>\n",
       "      <th>visitors_per_date_B</th>\n",
       "      <th>visitors_cummulative_A</th>\n",
       "      <th>visitors_cummulative_B</th>\n",
       "    </tr>\n",
       "  </thead>\n",
       "  <tbody>\n",
       "    <tr>\n",
       "      <th>0</th>\n",
       "      <td>2019-08-01</td>\n",
       "      <td>24</td>\n",
       "      <td>148579</td>\n",
       "      <td>21</td>\n",
       "      <td>101217</td>\n",
       "      <td>24</td>\n",
       "      <td>148579</td>\n",
       "      <td>21</td>\n",
       "      <td>101217</td>\n",
       "      <td>719</td>\n",
       "      <td>713</td>\n",
       "      <td>719</td>\n",
       "      <td>713</td>\n",
       "    </tr>\n",
       "    <tr>\n",
       "      <th>1</th>\n",
       "      <td>2019-08-02</td>\n",
       "      <td>20</td>\n",
       "      <td>93822</td>\n",
       "      <td>24</td>\n",
       "      <td>165531</td>\n",
       "      <td>44</td>\n",
       "      <td>242401</td>\n",
       "      <td>45</td>\n",
       "      <td>266748</td>\n",
       "      <td>619</td>\n",
       "      <td>581</td>\n",
       "      <td>1338</td>\n",
       "      <td>1294</td>\n",
       "    </tr>\n",
       "    <tr>\n",
       "      <th>2</th>\n",
       "      <td>2019-08-03</td>\n",
       "      <td>24</td>\n",
       "      <td>112473</td>\n",
       "      <td>16</td>\n",
       "      <td>114248</td>\n",
       "      <td>68</td>\n",
       "      <td>354874</td>\n",
       "      <td>61</td>\n",
       "      <td>380996</td>\n",
       "      <td>507</td>\n",
       "      <td>509</td>\n",
       "      <td>1845</td>\n",
       "      <td>1803</td>\n",
       "    </tr>\n",
       "    <tr>\n",
       "      <th>3</th>\n",
       "      <td>2019-08-04</td>\n",
       "      <td>16</td>\n",
       "      <td>70825</td>\n",
       "      <td>17</td>\n",
       "      <td>108571</td>\n",
       "      <td>84</td>\n",
       "      <td>425699</td>\n",
       "      <td>78</td>\n",
       "      <td>489567</td>\n",
       "      <td>717</td>\n",
       "      <td>770</td>\n",
       "      <td>2562</td>\n",
       "      <td>2573</td>\n",
       "    </tr>\n",
       "    <tr>\n",
       "      <th>4</th>\n",
       "      <td>2019-08-05</td>\n",
       "      <td>25</td>\n",
       "      <td>124218</td>\n",
       "      <td>23</td>\n",
       "      <td>92428</td>\n",
       "      <td>109</td>\n",
       "      <td>549917</td>\n",
       "      <td>101</td>\n",
       "      <td>581995</td>\n",
       "      <td>756</td>\n",
       "      <td>707</td>\n",
       "      <td>3318</td>\n",
       "      <td>3280</td>\n",
       "    </tr>\n",
       "  </tbody>\n",
       "</table>\n",
       "</div>"
      ],
      "text/plain": [
       "        date  orders_per_date_A  revenue_per_date_A  orders_per_date_B  \\\n",
       "0 2019-08-01                 24              148579                 21   \n",
       "1 2019-08-02                 20               93822                 24   \n",
       "2 2019-08-03                 24              112473                 16   \n",
       "3 2019-08-04                 16               70825                 17   \n",
       "4 2019-08-05                 25              124218                 23   \n",
       "\n",
       "   revenue_per_date_B  orders_сummulative_A  revenue_сummulative_A  \\\n",
       "0              101217                    24                 148579   \n",
       "1              165531                    44                 242401   \n",
       "2              114248                    68                 354874   \n",
       "3              108571                    84                 425699   \n",
       "4               92428                   109                 549917   \n",
       "\n",
       "   orders_сummulative_B  revenue_сummulative_B  visitors_per_date_A  \\\n",
       "0                    21                 101217                  719   \n",
       "1                    45                 266748                  619   \n",
       "2                    61                 380996                  507   \n",
       "3                    78                 489567                  717   \n",
       "4                   101                 581995                  756   \n",
       "\n",
       "   visitors_per_date_B  visitors_cummulative_A  visitors_cummulative_B  \n",
       "0                  713                     719                     713  \n",
       "1                  581                    1338                    1294  \n",
       "2                  509                    1845                    1803  \n",
       "3                  770                    2562                    2573  \n",
       "4                  707                    3318                    3280  "
      ]
     },
     "metadata": {},
     "output_type": "display_data"
    }
   ],
   "source": [
    "data_stat = (\n",
    "    orders_A_daily.merge(\n",
    "        orders_B_daily, left_on='date', right_on='date', how='left'\n",
    "    )\n",
    "    .merge(orders_A_сummulative, left_on='date', right_on='date', how='left')\n",
    "    .merge(orders_B_сummulative, left_on='date', right_on='date', how='left')\n",
    "    .merge(visitors_A_daily, left_on='date', right_on='date', how='left')\n",
    "    .merge(visitors_B_daily, left_on='date', right_on='date', how='left')\n",
    "    .merge(visitors_A_cummulative, left_on='date', right_on='date', how='left')\n",
    "    .merge(visitors_B_cummulative, left_on='date', right_on='date', how='left')\n",
    ")\n",
    "\n",
    "display(data_stat.head())"
   ]
  },
  {
   "cell_type": "code",
   "execution_count": 44,
   "metadata": {},
   "outputs": [],
   "source": [
    "# подсчитаем количество заказов по пользователям для группы А\n",
    "\n",
    "orders_by_users_A = (\n",
    "    orders.query('group == \"A\"')\n",
    "    .groupby('visitor_id', as_index=False)\n",
    "    .agg({'transaction_id': pd.Series.nunique})\n",
    ")\n",
    "orders_by_users_A.columns = ['visitor_id', 'orders']"
   ]
  },
  {
   "cell_type": "code",
   "execution_count": 45,
   "metadata": {},
   "outputs": [],
   "source": [
    "# подсчитаем количество заказов по пользователям для группы В\n",
    "\n",
    "orders_by_users_B = (\n",
    "    orders.query('group == \"B\"')\n",
    "    .groupby('visitor_id', as_index=False)\n",
    "    .agg({'transaction_id': pd.Series.nunique})\n",
    ")\n",
    "orders_by_users_B.columns = ['visitor_id', 'orders']"
   ]
  },
  {
   "cell_type": "code",
   "execution_count": 46,
   "metadata": {},
   "outputs": [],
   "source": [
    "# объявим переменную sample_A, в которой пользователям из группы А будет соответствовать количество заказов\n",
    "\n",
    "sample_A = (\n",
    "    pd.concat(\n",
    "        [orders_by_users_A['orders'],\n",
    "         pd.Series(\n",
    "             0, \n",
    "             index=np.arange(data_stat['visitors_per_date_A'].sum() - len(orders_by_users_A['orders'])\n",
    "                            ), \n",
    "             name='orders'\n",
    "         )\n",
    "        ],\n",
    "        axis=0\n",
    "    )\n",
    ")"
   ]
  },
  {
   "cell_type": "code",
   "execution_count": 47,
   "metadata": {},
   "outputs": [],
   "source": [
    "# объявим переменную sample_B, в которой пользователям из группы B будет соответствовать количество заказов\n",
    "\n",
    "sample_B = (\n",
    "    pd.concat(\n",
    "        [orders_by_users_B['orders'],\n",
    "         pd.Series(\n",
    "             0, \n",
    "             index=np.arange(data_stat['visitors_per_date_B'].sum() - len(orders_by_users_B['orders'])\n",
    "                            ), \n",
    "             name='orders'\n",
    "         )\n",
    "        ],\n",
    "        axis=0\n",
    "    )\n",
    ")"
   ]
  },
  {
   "cell_type": "code",
   "execution_count": 48,
   "metadata": {},
   "outputs": [
    {
     "name": "stdout",
     "output_type": "stream",
     "text": [
      "p_value:  0.017\n",
      "Отвергаем нулевую гипотезу о том, что статистически значимых различий в среднем числе заказов между группами нет\n",
      "\n",
      "Относительный прирост среднего числа заказов группы B:  0.138\n"
     ]
    }
   ],
   "source": [
    "# применим статистический критерий Манна-Уитни к полученным выборкам\n",
    "\n",
    "alpha = 0.05\n",
    "p_value_1 = st.mannwhitneyu(sample_A, sample_B)[1]\n",
    "print('p_value: ', \"{0:.3f}\".format(p_value_1))\n",
    "if p_value_1 < alpha:\n",
    "    print('Отвергаем нулевую гипотезу о том, что статистически значимых различий в среднем числе заказов между группами нет')\n",
    "else:\n",
    "    print('Не отвергаем нулевую гипотезу о том, что статистически значимых различий в среднем числе заказов между группами нет')\n",
    "print()    \n",
    "print('Относительный прирост среднего числа заказов группы B: ', \"{0:.3f}\".format(sample_B.mean() / sample_A.mean() - 1))"
   ]
  },
  {
   "cell_type": "markdown",
   "metadata": {},
   "source": [
    "> Вывод: p-value = 0.017 меньше уровня значимости 0.05. Значит, нулевую гипотезу о том, что статистически значимых различий в среднем числе заказов между группами нет, отвергаем. Относительный выигрыш группы B равен 13.8%."
   ]
  },
  {
   "cell_type": "markdown",
   "metadata": {},
   "source": [
    "### Посчитаем статистическую значимость различий в среднем чеке заказа между группами по «сырым» данным. Сделаем выводы и предположения"
   ]
  },
  {
   "cell_type": "markdown",
   "metadata": {},
   "source": [
    "Нулевая гипотеза: различий в среднем чеке между группами нет. Альтернативная гипотеза: различия в среднем чеке между группами есть.</b>\n",
    "\n",
    "Непараметрический тест Уилкоксона-Манна-Уитни, alpha = 0.05"
   ]
  },
  {
   "cell_type": "code",
   "execution_count": 49,
   "metadata": {},
   "outputs": [
    {
     "name": "stdout",
     "output_type": "stream",
     "text": [
      "p_value:  0.729\n",
      "Не отвергаем нулевую гипотезу о том, что статистически значимых различий в среднем чеке между группами нет\n",
      "\n",
      "Разница в среднем чеке между группами А и В:  0.259\n"
     ]
    }
   ],
   "source": [
    "alpha = 0.05\n",
    "p_value_2 = st.mannwhitneyu(orders.query('group == \"A\"')['revenue'], orders.query('group == \"B\"')['revenue'])[1]\n",
    "print('p_value: ', \"{0:.3f}\".format(p_value_2))\n",
    "if p_value_2 < alpha:\n",
    "    print('Отвергаем нулевую гипотезу о том, что статистически значимых различий в среднем чеке между группами нет')\n",
    "else:\n",
    "    print('Не отвергаем нулевую гипотезу о том, что статистически значимых различий в среднем чеке между группами нет')\n",
    "print()    \n",
    "print('Разница в среднем чеке между группами А и В: ', \"{0:.3f}\".format(\n",
    "    orders.query('group == \"B\"')['revenue'].mean()/orders.query('group == \"A\"')['revenue'].mean()-1)\n",
    "     )"
   ]
  },
  {
   "cell_type": "markdown",
   "metadata": {},
   "source": [
    "> Вывод: p-value значительно больше уровня значимости 0.05. Следовательно, мы не отвергаем нулевую гипотезу о том, что в среднем чеке есть различия. Средний чек группы B выше среднего чека группы A на 25.9%."
   ]
  },
  {
   "cell_type": "markdown",
   "metadata": {},
   "source": [
    "### Посчитаем статистическую значимость различий в среднем количестве заказов между группами по «очищенным» данным. Сделаем выводы и предположения"
   ]
  },
  {
   "cell_type": "code",
   "execution_count": 50,
   "metadata": {},
   "outputs": [
    {
     "name": "stdout",
     "output_type": "stream",
     "text": [
      "1099    148427295\n",
      "18      199603092\n",
      "928     204675465\n",
      "23      237748145\n",
      "37      249864742\n",
      "Name: visitor_id, dtype: int64\n",
      "74\n"
     ]
    }
   ],
   "source": [
    "# рассмотрим количество аномальных пользователей\n",
    "order_limit = 2\n",
    "revenue_limit = 28000\n",
    "users_with_many_orders = pd.concat(\n",
    "    [\n",
    "        orders_by_users_A[orders_by_users_A['orders'] > order_limit]['visitor_id'],\n",
    "        orders_by_users_B[orders_by_users_B['orders'] > order_limit]['visitor_id'],\n",
    "    ],\n",
    "    axis=0,\n",
    ")\n",
    "users_with_expensive_orders = orders[orders['revenue'] > revenue_limit]['visitor_id']\n",
    "abnormal_users = (\n",
    "    pd.concat([users_with_many_orders, users_with_expensive_orders], axis=0)\n",
    "    .drop_duplicates()\n",
    "    .sort_values()\n",
    ")\n",
    "print(abnormal_users.head())\n",
    "print(abnormal_users.shape[0])"
   ]
  },
  {
   "cell_type": "markdown",
   "metadata": {},
   "source": [
    "> Вывод: 74 аномальных пользователя"
   ]
  },
  {
   "cell_type": "code",
   "execution_count": 51,
   "metadata": {},
   "outputs": [],
   "source": [
    "# подготовим выборки количества заказов по пользователям по группам теста\n",
    "\n",
    "sample_A_filtered = pd.concat(\n",
    "    [\n",
    "        orders_by_users_A[\n",
    "            np.logical_not(orders_by_users_A['visitor_id'].isin(abnormal_users))\n",
    "        ]['orders'],\n",
    "        pd.Series(\n",
    "            0,\n",
    "            index=np.arange(\n",
    "                data_stat['visitors_per_date_A'].sum() - len(orders_by_users_A['orders'])\n",
    "            ),\n",
    "            name='orders',\n",
    "        ),\n",
    "    ],\n",
    "    axis=0,\n",
    ")\n",
    "\n",
    "sample_B_filtered = pd.concat(\n",
    "    [\n",
    "        orders_by_users_B[\n",
    "            np.logical_not(orders_by_users_B['visitor_id'].isin(abnormal_users))\n",
    "        ]['orders'],\n",
    "        pd.Series(\n",
    "            0,\n",
    "            index=np.arange(\n",
    "                data_stat['visitors_per_date_B'].sum() - len(orders_by_users_B['orders'])\n",
    "            ),\n",
    "            name='orders',\n",
    "        ),\n",
    "    ],\n",
    "    axis=0,\n",
    ")"
   ]
  },
  {
   "cell_type": "code",
   "execution_count": 52,
   "metadata": {},
   "outputs": [
    {
     "name": "stdout",
     "output_type": "stream",
     "text": [
      "p_value:  0.013\n",
      "Отвергаем нулевую гипотезу о том, что статистически значимых различий в среднем числе заказов между группами нет\n",
      "\n",
      "Относительный прирост среднего числа заказов группы B:  0.173\n"
     ]
    }
   ],
   "source": [
    "# применим статистический критерий Манна-Уитни к полученным выборкам\n",
    "\n",
    "alpha = 0.05\n",
    "p_value_3 = st.mannwhitneyu(sample_A_filtered, sample_B_filtered)[1]\n",
    "print('p_value: ', \"{0:.3f}\".format(p_value_3))\n",
    "if p_value_3 < alpha:\n",
    "    print('Отвергаем нулевую гипотезу о том, что статистически значимых различий в среднем числе заказов между группами нет')\n",
    "else:\n",
    "    print('Не отвергаем нулевую гипотезу о том, что статистически значимых различий в среднем числе заказов между группами нет')\n",
    "print()    \n",
    "print(\n",
    "    'Относительный прирост среднего числа заказов группы B: ', \n",
    "    \"{0:.3f}\".format(sample_B_filtered.mean()/sample_A_filtered.mean()-1)\n",
    ")"
   ]
  },
  {
   "cell_type": "markdown",
   "metadata": {},
   "source": [
    "> Вывод: после \"очистки\" данных p-value = 0.013 меньше уровня значимости 0.05. Следовательно, мы отвергаем нулевую гипотезу о том, что статистически значимых различий в среднем числе заказов между группами нет. Относительный прирост среднего числа заказов группы B составляет 17.3%."
   ]
  },
  {
   "cell_type": "markdown",
   "metadata": {},
   "source": [
    "### Посчитаем статистическую значимость различий в среднем чеке заказа между группами по «очищенным» данным. Сделаем выводы и предположения"
   ]
  },
  {
   "cell_type": "code",
   "execution_count": 53,
   "metadata": {},
   "outputs": [],
   "source": [
    "# подготовим выборки количества заказов по пользователям по группам теста\n",
    "\n",
    "avg_revenue_A_filtered = orders[\n",
    "                np.logical_and(\n",
    "                    orders['group'] == 'A',\n",
    "                    np.logical_not(orders['visitor_id'].isin(abnormal_users)),\n",
    "                )\n",
    "            ]['revenue']\n",
    "\n",
    "avg_revenue_B_filtered = orders[\n",
    "                np.logical_and(\n",
    "                    orders['group'] == 'B',\n",
    "                    np.logical_not(orders['visitor_id'].isin(abnormal_users)),\n",
    "                )\n",
    "            ]['revenue']"
   ]
  },
  {
   "cell_type": "code",
   "execution_count": 54,
   "metadata": {},
   "outputs": [
    {
     "name": "stdout",
     "output_type": "stream",
     "text": [
      "p_value:  0.738\n",
      "Не отвергаем нулевую гипотезу о том, что статистически значимых различий в среднем чеке между группами нет\n",
      "\n",
      "Разница в среднем чеке между группами А и B:  -0.02\n"
     ]
    }
   ],
   "source": [
    "# применим статистический критерий Манна-Уитни к полученным выборкам\n",
    "\n",
    "alpha = 0.05\n",
    "p_value_4 = st.mannwhitneyu(avg_revenue_A_filtered, avg_revenue_B_filtered)[1]\n",
    "print('p_value: ', \"{0:.3f}\".format(p_value_4))\n",
    "if p_value_4 < alpha:\n",
    "    print('Отвергаем нулевую гипотезу о том, что статистически значимых различий в среднем чеке между группами нет')\n",
    "else:\n",
    "    print('Не отвергаем нулевую гипотезу о том, что статистически значимых различий в среднем чеке между группами нет')\n",
    "print()    \n",
    "print(\n",
    "    'Разница в среднем чеке между группами А и B: ', \n",
    "    \"{0:.2f}\".format(avg_revenue_B_filtered.mean()/avg_revenue_A_filtered.mean()-1)\n",
    ")"
   ]
  },
  {
   "cell_type": "markdown",
   "metadata": {},
   "source": [
    "> Вывод: p-value = 0.738 значительно больше уровня значимости 0.05. Следовательно, мы не отвергаем нулевую гипотезу о том, что в среднем чеке для двух групп А и В есть различия. После фильтрации данных (удаления выбросов) разницы в среднем чеке между группами практически не стало: средний чек группы В ниже группы А всего на 2%. \n",
    "\n",
    "Таким образом, общие выводы по результатам теста не изменились. \n",
    "* Гипотеза об отсутствии различий в среднем количестве заказов между группами А и В не подтвердилась (на \"сырых\" и \"очищенных\" данных p_value оказался меньше уровня статистической значимости)\n",
    "* Гипотеза об отсутствии различий в среднем чеке между группами А и В не была отвергнута (как на \"сырых\", так и на \"очищенных\" данных p_value был сильно больше уровня статистической значимости).\n",
    "\n",
    "Аномалии сильно повлияли на относительные величины: относительный прирост среднего числа заказов группы B и относительные различия в среднем чеке между группами. \n",
    "* Относительный прирост среднего числа заказов группы B после удаления выбросов составил 17.3% (против 13.8%)\n",
    "* Относительные различия в среднем чеке между группами после очистки данных практически исчезли: средний чек по группе В на 2% ниже, чем для группы А (по \"сырым\" данным - средний чек группы В выше, чем для группы А, на 25.9%)"
   ]
  },
  {
   "cell_type": "markdown",
   "metadata": {},
   "source": [
    "### Решение по результатам теста "
   ]
  },
  {
   "cell_type": "markdown",
   "metadata": {},
   "source": [
    "Результаты А/В-теста:\n",
    "* Есть статистически значимое различие в среднем количестве заказов между группами как по сырым данным, так и после фильтрации аномалий.\n",
    "* Нет статистически значимого различия по среднему чеку между группами как по сырым данным, так и после удаления аномалий. \n",
    "* График различия конверсии между группами показывает, что результаты группы B лучше группы A: в начале теста группа B проигрывала группе A, затем вырвалась вперёд. Её конверсия в середине теста начала медленно снижаться и к концу теста значение конверсии примерно выровнялось.\n",
    "* График различия среднего чека сильно колеблется, что говорит нам о наличии аномалий. Однако, сделать определённые выводы из этого графика невозможно.\n",
    "\n",
    "Решение: остановить тест и зафиксировать результаты, а именно большее число заказов в группе В по сравнению с группой А и отсутствие различий между группами по среднему чеку. "
   ]
  },
  {
   "cell_type": "markdown",
   "metadata": {},
   "source": [
    "## Вывод"
   ]
  },
  {
   "cell_type": "markdown",
   "metadata": {},
   "source": [
    "**В ходе выполнения проекта**:\n",
    "1. **Была проведена предобработка данных, пропущенных значений и дубликатов найдено не было. Названия колонок в датафреймах были переведены в нижний регистр, для столбцов с датами был изменен тип данных**\n",
    "2. **Приоритизированы гипотезы согласно фреймворкам ICE и RICE** \n",
    "* При использовании фреймворка ICE мы получили, что четверка лидеров - это гипотезы:\n",
    "    - 8 (Запустить акцию, дающую скидку на товар в день рождения), \n",
    "    - 0 (Добавить два новых канала привлечения трафика, что позволит привлекать на 30% больше пользователей), \n",
    "    - 7 (Добавить форму подписки на все основные страницы, чтобы собрать базу клиентов для email-рассылок), \n",
    "    - 6 (Показать на главной странице баннеры с актуальными акциями и распродажами, чтобы увеличить конверсию). \n",
    "    Гипотеза 8 обладает наибольшим значением показателя ICE: параметры impact и confidence равны 9 и efforts равен 5.\n",
    "* В случае фреймворка RICE приоритизация гипотез изменилась: на первое место вышла гипотеза 7 (у нее максимальное значение параметра reach, в то время как у других гипотез он меньше), а на втором - гипотеза 2 (Добавить блоки рекомендаций товаров на сайт интернет магазина, чтобы повысить конверсию и средний чек заказа). Гипотеза 8 в список лидеров по RICE не вошла - у нее самое низкое значение reach.\n",
    "* Таким образом, самыми приоритетными являются гипотезы 0, 7, 6, поскольку они фигурируют в резульататх приоритизации в обоих фреймворках.\n",
    "3. **Проведен анализ А/В-теста**\n",
    "* Построен график кумулятивной выручки по группам. Для группы А выручка равномерно увеличивалась в течение всего теста. Для группы В наблюдался резкий скачок между 17 и 21 августа 2019 года, что может свидетельствовать о всплесках числа заказов, либо о появлении очень дорогих заказов в выборке.\n",
    "* Построен график кумулятивного среднего чека по группам. Для группы А велична среднего чека в первые дни теста падала, затем наблюдался резкий рост до 13 агуста. Затем средний чек становится равномерным к концу теста. Для группы В в начале теста наблюдаются сильные колебания, затем очень резкий скачок между 17 и 21 августа и после величина чека становится равномерной. Возможно, резкий рост величины среднего чека связан с попаданием в группу крупных заказов.\n",
    "* Построен график относительного изменения кумулятивного среднего чека группы B к группе A, на нем наблюдаются сильные различия между группами в разные даты. 13 августа группа В проигрывает группе А, однако в остальное время значения среднего чека для группы В сильно выше. В данных определенно есть сильно выбивающиеся значения (выбросы).\n",
    "* Постройте график кумулятивной конверсии заказов по группам. Для группы А наблюдается резкий скачок среднего числа заказов в начале теста, а затем значения уменьшаются, выравниваются и к концу теста колеблятся примерно у одного значения. Для группы В в начале теста наблюдается резкий всплеск, а затем падение среднего количества заказов. С 4 августа количество заказов растет и достигает максимума. К концу теста конверсия зафиксировалась. Конверсия группы В в период с 6 агуста и до конца теста выше, чем для группы А.\n",
    "* Построен график относительного изменения кумулятивной конверсии группы B к группе A. В начале теста группа B проигрывала группе A, затем вырвалась вперёд. Её конверсия в середине теста начала медленно снижаться и к концу теста значение конверсии примерно выровнялось.\n",
    "* Построен точечный график количества заказов по пользователям и посчитаны 95-й и 99-й перцентили количества заказов на пользователя. Выяснили, что не более 5% пользователей оформляли больше чем 2 заказа и не более 1% - 4 заказа. Приняли 2 заказа на одного пользователя за верхнюю границу числа заказов.\n",
    "* Построен точечный график стоимостей заказов и посчитаны 95-й и 99-й перцентили стоимости заказов. Выяснили, что не более 5% заказов дороже 28 000 и не более 1% - дороже 58 234. Сумму в 28 000 была пинята за верхнюю границу стоимости заказов.\n",
    "4. **Проведен статистический анализ А/В-теста**\n",
    "* Посчитана статистическая значимость различий в среднем количестве заказов между группами по «сырым» данным. p-value = 0.017 меньше уровня значимости 0.05. Значит, нулевую гипотезу о том, что статистически значимых различий в среднем числе заказов между группами нет, отвергаем. Относительный выигрыш группы B равен 13.8%.\n",
    "* Посчитана статистическая значимость различий в среднем чеке заказа между группами по «сырым» данным. p-value значительно больше уровня значимости 0.05. Следовательно, мы не отвергаем нулевую гипотезу о том, что в среднем чеке есть различия. Средний чек группы B выше среднего чека группы A на 25.9%.\n",
    "* Посчитана статистическая значимость различий в среднем количестве заказов между группами по «очищенным» данным. После фильтрации данных p-value = 0.013 меньше уровня значимости 0.05. Следовательно, мы отвергаем нулевую гипотезу о том, что статистически значимых различий в среднем числе заказов между группами нет. Относительный прирост среднего числа заказов группы B составляет 17.3%.\n",
    "* Посчитана статистическая значимость различий в среднем чеке заказа между группами по «очищенным» данным. p-value = 0.738 значительно больше уровня значимости 0.05. Следовательно, мы не отвергаем нулевую гипотезу о том, что в среднем чеке для двух групп А и В есть различия. После фильтрации данных (удаления выбросов) разницы в среднем чеке между группами практически не стало: средний чек группы В ниже группы А на 2%.\n",
    "5. **Принято решение остановить тест и зафиксировать результаты, а именно большее число заказов в группе В по сравнению с группой А и отсутствие различий между группами по среднему чеку.**"
   ]
  },
  {
   "cell_type": "code",
   "execution_count": null,
   "metadata": {},
   "outputs": [],
   "source": []
  }
 ],
 "metadata": {
  "ExecuteTimeLog": [
   {
    "duration": 1464,
    "start_time": "2022-10-11T12:07:53.062Z"
   },
   {
    "duration": 185,
    "start_time": "2022-10-11T12:07:55.215Z"
   },
   {
    "duration": 4,
    "start_time": "2022-10-11T12:13:24.837Z"
   },
   {
    "duration": 4,
    "start_time": "2022-10-11T12:15:52.931Z"
   },
   {
    "duration": 25,
    "start_time": "2022-10-11T12:16:11.857Z"
   },
   {
    "duration": 4,
    "start_time": "2022-10-11T12:16:29.963Z"
   },
   {
    "duration": 20,
    "start_time": "2022-10-11T12:16:30.744Z"
   },
   {
    "duration": 22,
    "start_time": "2022-10-11T12:17:13.791Z"
   },
   {
    "duration": 499,
    "start_time": "2022-10-11T12:19:14.757Z"
   },
   {
    "duration": 372,
    "start_time": "2022-10-11T12:19:49.520Z"
   },
   {
    "duration": 5,
    "start_time": "2022-10-11T12:20:34.290Z"
   },
   {
    "duration": 20,
    "start_time": "2022-10-11T12:20:52.617Z"
   },
   {
    "duration": 4,
    "start_time": "2022-10-11T12:21:09.176Z"
   },
   {
    "duration": 12,
    "start_time": "2022-10-11T12:21:22.189Z"
   },
   {
    "duration": 11,
    "start_time": "2022-10-11T12:26:22.632Z"
   },
   {
    "duration": 11,
    "start_time": "2022-10-11T12:27:50.592Z"
   },
   {
    "duration": 7,
    "start_time": "2022-10-11T12:28:36.320Z"
   },
   {
    "duration": 8,
    "start_time": "2022-10-11T12:28:42.028Z"
   },
   {
    "duration": 19,
    "start_time": "2022-10-11T12:29:08.811Z"
   },
   {
    "duration": 8,
    "start_time": "2022-10-11T12:29:25.385Z"
   },
   {
    "duration": 9,
    "start_time": "2022-10-11T12:29:42.447Z"
   },
   {
    "duration": 9,
    "start_time": "2022-10-11T12:32:53.043Z"
   },
   {
    "duration": 11,
    "start_time": "2022-10-11T12:36:32.804Z"
   },
   {
    "duration": 6,
    "start_time": "2022-10-11T12:37:16.446Z"
   },
   {
    "duration": 10,
    "start_time": "2022-10-11T12:37:40.959Z"
   },
   {
    "duration": 8,
    "start_time": "2022-10-11T12:37:44.471Z"
   },
   {
    "duration": 8,
    "start_time": "2022-10-11T12:37:45.729Z"
   },
   {
    "duration": 11,
    "start_time": "2022-10-11T12:37:50.113Z"
   },
   {
    "duration": 3,
    "start_time": "2022-10-11T12:37:56.460Z"
   },
   {
    "duration": 75,
    "start_time": "2022-10-11T12:37:56.465Z"
   },
   {
    "duration": 5,
    "start_time": "2022-10-11T12:37:56.542Z"
   },
   {
    "duration": 11,
    "start_time": "2022-10-11T12:37:56.549Z"
   },
   {
    "duration": 33,
    "start_time": "2022-10-11T12:37:56.562Z"
   },
   {
    "duration": 25,
    "start_time": "2022-10-11T12:37:56.675Z"
   },
   {
    "duration": 21,
    "start_time": "2022-10-11T12:37:56.703Z"
   },
   {
    "duration": 39,
    "start_time": "2022-10-11T12:37:56.726Z"
   },
   {
    "duration": 53,
    "start_time": "2022-10-11T12:37:56.767Z"
   },
   {
    "duration": 11,
    "start_time": "2022-10-11T12:38:01.503Z"
   },
   {
    "duration": 8,
    "start_time": "2022-10-11T12:38:02.762Z"
   },
   {
    "duration": 9,
    "start_time": "2022-10-11T12:38:04.128Z"
   },
   {
    "duration": 4,
    "start_time": "2022-10-11T13:16:21.966Z"
   },
   {
    "duration": 91,
    "start_time": "2022-10-11T13:16:21.972Z"
   },
   {
    "duration": 5,
    "start_time": "2022-10-11T13:16:22.065Z"
   },
   {
    "duration": 5,
    "start_time": "2022-10-11T13:16:22.072Z"
   },
   {
    "duration": 22,
    "start_time": "2022-10-11T13:16:22.441Z"
   },
   {
    "duration": 21,
    "start_time": "2022-10-11T13:16:22.465Z"
   },
   {
    "duration": 44,
    "start_time": "2022-10-11T13:16:22.488Z"
   },
   {
    "duration": 22,
    "start_time": "2022-10-11T13:16:22.534Z"
   },
   {
    "duration": 4,
    "start_time": "2022-10-11T13:16:22.559Z"
   },
   {
    "duration": 18,
    "start_time": "2022-10-11T13:16:22.565Z"
   },
   {
    "duration": 12,
    "start_time": "2022-10-11T13:16:22.584Z"
   },
   {
    "duration": 49,
    "start_time": "2022-10-11T13:16:22.598Z"
   },
   {
    "duration": 8,
    "start_time": "2022-10-11T13:20:12.451Z"
   },
   {
    "duration": 13,
    "start_time": "2022-10-11T13:20:37.010Z"
   },
   {
    "duration": 109,
    "start_time": "2022-10-11T13:20:37.027Z"
   },
   {
    "duration": 4,
    "start_time": "2022-10-11T13:20:37.139Z"
   },
   {
    "duration": 15,
    "start_time": "2022-10-11T13:20:37.146Z"
   },
   {
    "duration": 20,
    "start_time": "2022-10-11T13:20:37.226Z"
   },
   {
    "duration": 22,
    "start_time": "2022-10-11T13:20:37.249Z"
   },
   {
    "duration": 4,
    "start_time": "2022-10-11T13:20:37.273Z"
   },
   {
    "duration": 36,
    "start_time": "2022-10-11T13:20:37.279Z"
   },
   {
    "duration": 12,
    "start_time": "2022-10-11T13:20:37.318Z"
   },
   {
    "duration": 10,
    "start_time": "2022-10-11T13:20:37.466Z"
   },
   {
    "duration": 10,
    "start_time": "2022-10-11T13:20:37.479Z"
   },
   {
    "duration": 38,
    "start_time": "2022-10-11T13:20:37.491Z"
   },
   {
    "duration": 8,
    "start_time": "2022-10-11T13:22:20.166Z"
   },
   {
    "duration": 5,
    "start_time": "2022-10-11T13:23:55.572Z"
   },
   {
    "duration": 4,
    "start_time": "2022-10-11T13:24:01.222Z"
   },
   {
    "duration": 116,
    "start_time": "2022-10-11T13:24:01.228Z"
   },
   {
    "duration": 4,
    "start_time": "2022-10-11T13:24:01.346Z"
   },
   {
    "duration": 26,
    "start_time": "2022-10-11T13:24:01.351Z"
   },
   {
    "duration": 81,
    "start_time": "2022-10-11T13:24:01.380Z"
   },
   {
    "duration": 44,
    "start_time": "2022-10-11T13:24:01.463Z"
   },
   {
    "duration": 32,
    "start_time": "2022-10-11T13:24:01.511Z"
   },
   {
    "duration": 83,
    "start_time": "2022-10-11T13:24:01.545Z"
   },
   {
    "duration": 43,
    "start_time": "2022-10-11T13:24:01.630Z"
   },
   {
    "duration": 5,
    "start_time": "2022-10-11T13:24:01.675Z"
   },
   {
    "duration": 31,
    "start_time": "2022-10-11T13:24:01.682Z"
   },
   {
    "duration": 25,
    "start_time": "2022-10-11T13:24:01.714Z"
   },
   {
    "duration": 21,
    "start_time": "2022-10-11T13:24:01.741Z"
   },
   {
    "duration": 13,
    "start_time": "2022-10-11T13:24:01.765Z"
   },
   {
    "duration": 17,
    "start_time": "2022-10-11T13:24:06.226Z"
   },
   {
    "duration": 11,
    "start_time": "2022-10-11T13:25:08.518Z"
   },
   {
    "duration": 11,
    "start_time": "2022-10-11T13:25:13.952Z"
   },
   {
    "duration": 6,
    "start_time": "2022-10-11T13:29:49.820Z"
   },
   {
    "duration": 193,
    "start_time": "2022-10-11T13:29:50.668Z"
   },
   {
    "duration": 15,
    "start_time": "2022-10-11T13:30:56.514Z"
   },
   {
    "duration": 8,
    "start_time": "2022-10-11T13:36:33.207Z"
   },
   {
    "duration": 164,
    "start_time": "2022-10-11T13:37:27.841Z"
   },
   {
    "duration": 14,
    "start_time": "2022-10-11T13:39:01.858Z"
   },
   {
    "duration": 8,
    "start_time": "2022-10-11T13:44:13.601Z"
   },
   {
    "duration": 8,
    "start_time": "2022-10-11T13:44:14.331Z"
   },
   {
    "duration": 390,
    "start_time": "2022-10-11T13:44:15.053Z"
   },
   {
    "duration": 189,
    "start_time": "2022-10-11T13:44:25.841Z"
   },
   {
    "duration": 221,
    "start_time": "2022-10-11T13:46:54.056Z"
   },
   {
    "duration": 591,
    "start_time": "2022-10-11T13:47:17.825Z"
   },
   {
    "duration": 357,
    "start_time": "2022-10-11T13:47:43.873Z"
   },
   {
    "duration": 271,
    "start_time": "2022-10-11T13:47:59.857Z"
   },
   {
    "duration": 227,
    "start_time": "2022-10-11T13:48:12.623Z"
   },
   {
    "duration": 222,
    "start_time": "2022-10-11T13:48:18.759Z"
   },
   {
    "duration": 212,
    "start_time": "2022-10-11T13:48:40.719Z"
   },
   {
    "duration": 138,
    "start_time": "2022-10-11T13:56:44.123Z"
   },
   {
    "duration": 206,
    "start_time": "2022-10-11T13:56:52.805Z"
   },
   {
    "duration": 155,
    "start_time": "2022-10-11T13:56:53.184Z"
   },
   {
    "duration": 14,
    "start_time": "2022-10-11T13:56:53.719Z"
   },
   {
    "duration": 6,
    "start_time": "2022-10-11T13:56:54.233Z"
   },
   {
    "duration": 8,
    "start_time": "2022-10-11T13:56:55.119Z"
   },
   {
    "duration": 209,
    "start_time": "2022-10-11T13:56:55.725Z"
   },
   {
    "duration": 10,
    "start_time": "2022-10-11T13:58:21.753Z"
   },
   {
    "duration": 6,
    "start_time": "2022-10-11T14:02:40.430Z"
   },
   {
    "duration": 160,
    "start_time": "2022-10-11T14:02:45.121Z"
   },
   {
    "duration": 175,
    "start_time": "2022-10-11T14:13:56.115Z"
   },
   {
    "duration": 182,
    "start_time": "2022-10-11T14:14:59.481Z"
   },
   {
    "duration": 310,
    "start_time": "2022-10-11T14:35:20.541Z"
   },
   {
    "duration": 314,
    "start_time": "2022-10-11T14:35:45.789Z"
   },
   {
    "duration": 192,
    "start_time": "2022-10-11T14:54:09.061Z"
   },
   {
    "duration": 1674,
    "start_time": "2022-10-11T14:55:23.327Z"
   },
   {
    "duration": 10,
    "start_time": "2022-10-11T14:55:35.876Z"
   },
   {
    "duration": 210,
    "start_time": "2022-10-11T14:55:55.587Z"
   },
   {
    "duration": 5,
    "start_time": "2022-10-11T15:26:17.554Z"
   },
   {
    "duration": 78,
    "start_time": "2022-10-11T15:26:17.561Z"
   },
   {
    "duration": 4,
    "start_time": "2022-10-11T15:26:17.640Z"
   },
   {
    "duration": 7,
    "start_time": "2022-10-11T15:26:17.646Z"
   },
   {
    "duration": 22,
    "start_time": "2022-10-11T15:26:17.654Z"
   },
   {
    "duration": 20,
    "start_time": "2022-10-11T15:26:17.678Z"
   },
   {
    "duration": 4,
    "start_time": "2022-10-11T15:26:17.699Z"
   },
   {
    "duration": 6,
    "start_time": "2022-10-11T15:26:17.704Z"
   },
   {
    "duration": 20,
    "start_time": "2022-10-11T15:26:17.712Z"
   },
   {
    "duration": 4,
    "start_time": "2022-10-11T15:26:17.733Z"
   },
   {
    "duration": 8,
    "start_time": "2022-10-11T15:26:18.024Z"
   },
   {
    "duration": 11,
    "start_time": "2022-10-11T15:26:18.034Z"
   },
   {
    "duration": 9,
    "start_time": "2022-10-11T15:26:18.056Z"
   },
   {
    "duration": 11,
    "start_time": "2022-10-11T15:26:18.067Z"
   },
   {
    "duration": 287,
    "start_time": "2022-10-11T15:26:18.080Z"
   },
   {
    "duration": 125,
    "start_time": "2022-10-11T15:26:18.369Z"
   },
   {
    "duration": 13,
    "start_time": "2022-10-11T15:26:18.496Z"
   },
   {
    "duration": 8,
    "start_time": "2022-10-11T15:26:18.510Z"
   },
   {
    "duration": 9,
    "start_time": "2022-10-11T15:26:18.520Z"
   },
   {
    "duration": 201,
    "start_time": "2022-10-11T15:26:18.531Z"
   },
   {
    "duration": 188,
    "start_time": "2022-10-11T15:26:18.733Z"
   },
   {
    "duration": 280,
    "start_time": "2022-10-11T15:26:18.923Z"
   },
   {
    "duration": 3,
    "start_time": "2022-10-11T15:26:29.831Z"
   },
   {
    "duration": 5,
    "start_time": "2022-10-11T15:26:30.922Z"
   },
   {
    "duration": 4,
    "start_time": "2022-10-11T15:26:32.046Z"
   },
   {
    "duration": 188,
    "start_time": "2022-10-11T15:26:32.892Z"
   },
   {
    "duration": 199,
    "start_time": "2022-10-11T15:26:45.856Z"
   },
   {
    "duration": 251,
    "start_time": "2022-10-11T15:27:16.694Z"
   },
   {
    "duration": 196,
    "start_time": "2022-10-11T15:27:27.404Z"
   },
   {
    "duration": 207,
    "start_time": "2022-10-11T15:27:42.856Z"
   },
   {
    "duration": 214,
    "start_time": "2022-10-11T15:27:47.171Z"
   },
   {
    "duration": 196,
    "start_time": "2022-10-11T15:27:54.353Z"
   },
   {
    "duration": 209,
    "start_time": "2022-10-11T15:35:57.491Z"
   },
   {
    "duration": 205,
    "start_time": "2022-10-11T15:37:00.331Z"
   },
   {
    "duration": 9,
    "start_time": "2022-10-11T15:39:49.448Z"
   },
   {
    "duration": 9,
    "start_time": "2022-10-11T15:40:53.608Z"
   },
   {
    "duration": 326,
    "start_time": "2022-10-11T15:40:54.089Z"
   },
   {
    "duration": 292,
    "start_time": "2022-10-11T15:41:20.348Z"
   },
   {
    "duration": 341,
    "start_time": "2022-10-11T15:41:35.888Z"
   },
   {
    "duration": 339,
    "start_time": "2022-10-11T15:41:46.372Z"
   },
   {
    "duration": 477,
    "start_time": "2022-10-11T15:41:55.068Z"
   },
   {
    "duration": 324,
    "start_time": "2022-10-11T15:42:02.404Z"
   },
   {
    "duration": 44,
    "start_time": "2022-10-11T19:25:59.512Z"
   },
   {
    "duration": 1310,
    "start_time": "2022-10-11T19:26:51.826Z"
   },
   {
    "duration": 209,
    "start_time": "2022-10-11T19:26:53.138Z"
   },
   {
    "duration": 4,
    "start_time": "2022-10-11T19:26:53.349Z"
   },
   {
    "duration": 6,
    "start_time": "2022-10-11T19:26:53.355Z"
   },
   {
    "duration": 29,
    "start_time": "2022-10-11T19:26:53.363Z"
   },
   {
    "duration": 28,
    "start_time": "2022-10-11T19:26:53.395Z"
   },
   {
    "duration": 4,
    "start_time": "2022-10-11T19:26:53.425Z"
   },
   {
    "duration": 9,
    "start_time": "2022-10-11T19:26:53.431Z"
   },
   {
    "duration": 21,
    "start_time": "2022-10-11T19:26:53.442Z"
   },
   {
    "duration": 6,
    "start_time": "2022-10-11T19:26:53.495Z"
   },
   {
    "duration": 13,
    "start_time": "2022-10-11T19:26:53.503Z"
   },
   {
    "duration": 13,
    "start_time": "2022-10-11T19:26:53.518Z"
   },
   {
    "duration": 8,
    "start_time": "2022-10-11T19:26:53.533Z"
   },
   {
    "duration": 11,
    "start_time": "2022-10-11T19:26:53.545Z"
   },
   {
    "duration": 267,
    "start_time": "2022-10-11T19:26:53.557Z"
   },
   {
    "duration": 133,
    "start_time": "2022-10-11T19:26:53.826Z"
   },
   {
    "duration": 13,
    "start_time": "2022-10-11T19:26:53.960Z"
   },
   {
    "duration": 26,
    "start_time": "2022-10-11T19:26:53.976Z"
   },
   {
    "duration": 10,
    "start_time": "2022-10-11T19:26:54.004Z"
   },
   {
    "duration": 280,
    "start_time": "2022-10-11T19:26:54.016Z"
   },
   {
    "duration": 180,
    "start_time": "2022-10-11T19:26:54.298Z"
   },
   {
    "duration": 354,
    "start_time": "2022-10-11T19:26:54.480Z"
   },
   {
    "duration": 4,
    "start_time": "2022-10-11T19:26:54.836Z"
   },
   {
    "duration": 13,
    "start_time": "2022-10-11T19:26:54.841Z"
   },
   {
    "duration": 8,
    "start_time": "2022-10-11T19:26:54.856Z"
   },
   {
    "duration": 214,
    "start_time": "2022-10-11T19:26:54.866Z"
   },
   {
    "duration": 16,
    "start_time": "2022-10-11T19:26:55.081Z"
   },
   {
    "duration": 344,
    "start_time": "2022-10-11T19:26:55.098Z"
   },
   {
    "duration": 11,
    "start_time": "2022-10-11T19:27:01.230Z"
   },
   {
    "duration": 116,
    "start_time": "2022-10-11T19:28:42.345Z"
   },
   {
    "duration": 114,
    "start_time": "2022-10-11T19:29:12.793Z"
   },
   {
    "duration": 319,
    "start_time": "2022-10-11T19:31:38.711Z"
   },
   {
    "duration": 211,
    "start_time": "2022-10-11T19:31:47.578Z"
   },
   {
    "duration": 192,
    "start_time": "2022-10-11T19:32:17.152Z"
   },
   {
    "duration": 260,
    "start_time": "2022-10-11T19:33:08.147Z"
   },
   {
    "duration": 220,
    "start_time": "2022-10-11T19:33:58.647Z"
   },
   {
    "duration": 427,
    "start_time": "2022-10-11T19:34:36.183Z"
   },
   {
    "duration": 115,
    "start_time": "2022-10-11T19:35:41.179Z"
   },
   {
    "duration": 3,
    "start_time": "2022-10-11T19:35:58.388Z"
   },
   {
    "duration": 79,
    "start_time": "2022-10-11T19:35:58.427Z"
   },
   {
    "duration": 4,
    "start_time": "2022-10-11T19:35:58.508Z"
   },
   {
    "duration": 7,
    "start_time": "2022-10-11T19:35:58.513Z"
   },
   {
    "duration": 20,
    "start_time": "2022-10-11T19:35:58.521Z"
   },
   {
    "duration": 19,
    "start_time": "2022-10-11T19:35:58.543Z"
   },
   {
    "duration": 3,
    "start_time": "2022-10-11T19:35:58.563Z"
   },
   {
    "duration": 27,
    "start_time": "2022-10-11T19:35:58.568Z"
   },
   {
    "duration": 20,
    "start_time": "2022-10-11T19:35:58.597Z"
   },
   {
    "duration": 3,
    "start_time": "2022-10-11T19:35:58.619Z"
   },
   {
    "duration": 10,
    "start_time": "2022-10-11T19:35:58.623Z"
   },
   {
    "duration": 8,
    "start_time": "2022-10-11T19:35:58.878Z"
   },
   {
    "duration": 12,
    "start_time": "2022-10-11T19:35:58.888Z"
   },
   {
    "duration": 6,
    "start_time": "2022-10-11T19:35:58.911Z"
   },
   {
    "duration": 169,
    "start_time": "2022-10-11T19:35:58.918Z"
   },
   {
    "duration": 130,
    "start_time": "2022-10-11T19:35:59.089Z"
   },
   {
    "duration": 11,
    "start_time": "2022-10-11T19:35:59.221Z"
   },
   {
    "duration": 7,
    "start_time": "2022-10-11T19:35:59.234Z"
   },
   {
    "duration": 7,
    "start_time": "2022-10-11T19:35:59.243Z"
   },
   {
    "duration": 189,
    "start_time": "2022-10-11T19:35:59.327Z"
   },
   {
    "duration": 203,
    "start_time": "2022-10-11T19:35:59.518Z"
   },
   {
    "duration": 291,
    "start_time": "2022-10-11T19:35:59.723Z"
   },
   {
    "duration": 4,
    "start_time": "2022-10-11T19:36:00.016Z"
   },
   {
    "duration": 8,
    "start_time": "2022-10-11T19:36:00.022Z"
   },
   {
    "duration": 7,
    "start_time": "2022-10-11T19:36:00.032Z"
   },
   {
    "duration": 240,
    "start_time": "2022-10-11T19:36:00.041Z"
   },
   {
    "duration": 19,
    "start_time": "2022-10-11T19:36:00.283Z"
   },
   {
    "duration": 466,
    "start_time": "2022-10-11T19:36:00.304Z"
   },
   {
    "duration": 23,
    "start_time": "2022-10-11T19:36:00.773Z"
   },
   {
    "duration": 151,
    "start_time": "2022-10-11T19:36:06.711Z"
   },
   {
    "duration": 5,
    "start_time": "2022-10-11T19:40:02.373Z"
   },
   {
    "duration": 125,
    "start_time": "2022-10-11T19:47:57.724Z"
   },
   {
    "duration": 1559,
    "start_time": "2022-10-11T19:52:04.656Z"
   },
   {
    "duration": 4,
    "start_time": "2022-10-11T19:52:28.682Z"
   },
   {
    "duration": 131,
    "start_time": "2022-10-11T19:54:50.666Z"
   },
   {
    "duration": 5,
    "start_time": "2022-10-11T19:55:06.799Z"
   },
   {
    "duration": 1399,
    "start_time": "2022-10-12T05:38:04.531Z"
   },
   {
    "duration": 209,
    "start_time": "2022-10-12T05:38:05.932Z"
   },
   {
    "duration": 4,
    "start_time": "2022-10-12T05:38:06.142Z"
   },
   {
    "duration": 13,
    "start_time": "2022-10-12T05:38:06.148Z"
   },
   {
    "duration": 28,
    "start_time": "2022-10-12T05:38:06.163Z"
   },
   {
    "duration": 21,
    "start_time": "2022-10-12T05:38:06.192Z"
   },
   {
    "duration": 3,
    "start_time": "2022-10-12T05:38:06.215Z"
   },
   {
    "duration": 8,
    "start_time": "2022-10-12T05:38:06.220Z"
   },
   {
    "duration": 23,
    "start_time": "2022-10-12T05:38:06.230Z"
   },
   {
    "duration": 3,
    "start_time": "2022-10-12T05:38:06.255Z"
   },
   {
    "duration": 12,
    "start_time": "2022-10-12T05:38:06.290Z"
   },
   {
    "duration": 10,
    "start_time": "2022-10-12T05:38:06.303Z"
   },
   {
    "duration": 8,
    "start_time": "2022-10-12T05:38:06.315Z"
   },
   {
    "duration": 12,
    "start_time": "2022-10-12T05:38:06.326Z"
   },
   {
    "duration": 195,
    "start_time": "2022-10-12T05:38:06.340Z"
   },
   {
    "duration": 132,
    "start_time": "2022-10-12T05:38:06.536Z"
   },
   {
    "duration": 23,
    "start_time": "2022-10-12T05:38:06.669Z"
   },
   {
    "duration": 7,
    "start_time": "2022-10-12T05:38:06.694Z"
   },
   {
    "duration": 8,
    "start_time": "2022-10-12T05:38:06.702Z"
   },
   {
    "duration": 306,
    "start_time": "2022-10-12T05:38:06.711Z"
   },
   {
    "duration": 222,
    "start_time": "2022-10-12T05:38:07.019Z"
   },
   {
    "duration": 395,
    "start_time": "2022-10-12T05:38:07.243Z"
   },
   {
    "duration": 3,
    "start_time": "2022-10-12T05:38:07.640Z"
   },
   {
    "duration": 49,
    "start_time": "2022-10-12T05:38:07.645Z"
   },
   {
    "duration": 42,
    "start_time": "2022-10-12T05:38:07.696Z"
   },
   {
    "duration": 277,
    "start_time": "2022-10-12T05:38:07.741Z"
   },
   {
    "duration": 9,
    "start_time": "2022-10-12T05:38:08.020Z"
   },
   {
    "duration": 411,
    "start_time": "2022-10-12T05:38:08.031Z"
   },
   {
    "duration": 13,
    "start_time": "2022-10-12T05:38:08.444Z"
   },
   {
    "duration": 146,
    "start_time": "2022-10-12T05:38:08.459Z"
   },
   {
    "duration": 4,
    "start_time": "2022-10-12T05:38:08.607Z"
   },
   {
    "duration": 162,
    "start_time": "2022-10-12T05:38:08.612Z"
   },
   {
    "duration": 4,
    "start_time": "2022-10-12T05:38:08.776Z"
   },
   {
    "duration": 499,
    "start_time": "2022-10-12T06:00:52.835Z"
   },
   {
    "duration": 4,
    "start_time": "2022-10-12T06:01:25.738Z"
   },
   {
    "duration": 81,
    "start_time": "2022-10-12T06:01:25.744Z"
   },
   {
    "duration": 3,
    "start_time": "2022-10-12T06:01:25.828Z"
   },
   {
    "duration": 8,
    "start_time": "2022-10-12T06:01:25.834Z"
   },
   {
    "duration": 38,
    "start_time": "2022-10-12T06:01:25.845Z"
   },
   {
    "duration": 35,
    "start_time": "2022-10-12T06:01:25.885Z"
   },
   {
    "duration": 4,
    "start_time": "2022-10-12T06:01:25.922Z"
   },
   {
    "duration": 339,
    "start_time": "2022-10-12T06:01:25.928Z"
   },
   {
    "duration": 0,
    "start_time": "2022-10-12T06:01:26.269Z"
   },
   {
    "duration": 0,
    "start_time": "2022-10-12T06:01:26.271Z"
   },
   {
    "duration": 0,
    "start_time": "2022-10-12T06:01:26.272Z"
   },
   {
    "duration": 0,
    "start_time": "2022-10-12T06:01:26.273Z"
   },
   {
    "duration": 0,
    "start_time": "2022-10-12T06:01:26.274Z"
   },
   {
    "duration": 0,
    "start_time": "2022-10-12T06:01:26.274Z"
   },
   {
    "duration": 0,
    "start_time": "2022-10-12T06:01:26.275Z"
   },
   {
    "duration": 0,
    "start_time": "2022-10-12T06:01:26.277Z"
   },
   {
    "duration": 0,
    "start_time": "2022-10-12T06:01:26.278Z"
   },
   {
    "duration": 0,
    "start_time": "2022-10-12T06:01:26.280Z"
   },
   {
    "duration": 0,
    "start_time": "2022-10-12T06:01:26.281Z"
   },
   {
    "duration": 0,
    "start_time": "2022-10-12T06:01:26.282Z"
   },
   {
    "duration": 0,
    "start_time": "2022-10-12T06:01:26.283Z"
   },
   {
    "duration": 0,
    "start_time": "2022-10-12T06:01:26.285Z"
   },
   {
    "duration": 0,
    "start_time": "2022-10-12T06:01:26.286Z"
   },
   {
    "duration": 0,
    "start_time": "2022-10-12T06:01:26.287Z"
   },
   {
    "duration": 0,
    "start_time": "2022-10-12T06:01:26.288Z"
   },
   {
    "duration": 0,
    "start_time": "2022-10-12T06:01:26.289Z"
   },
   {
    "duration": 0,
    "start_time": "2022-10-12T06:01:26.290Z"
   },
   {
    "duration": 0,
    "start_time": "2022-10-12T06:01:26.291Z"
   },
   {
    "duration": 0,
    "start_time": "2022-10-12T06:01:26.293Z"
   },
   {
    "duration": 0,
    "start_time": "2022-10-12T06:01:26.294Z"
   },
   {
    "duration": 0,
    "start_time": "2022-10-12T06:01:26.294Z"
   },
   {
    "duration": 0,
    "start_time": "2022-10-12T06:01:26.295Z"
   },
   {
    "duration": 0,
    "start_time": "2022-10-12T06:01:26.297Z"
   },
   {
    "duration": 4,
    "start_time": "2022-10-12T06:01:39.863Z"
   },
   {
    "duration": 78,
    "start_time": "2022-10-12T06:01:40.712Z"
   },
   {
    "duration": 5,
    "start_time": "2022-10-12T06:01:41.541Z"
   },
   {
    "duration": 7,
    "start_time": "2022-10-12T06:01:42.529Z"
   },
   {
    "duration": 31,
    "start_time": "2022-10-12T06:01:43.549Z"
   },
   {
    "duration": 24,
    "start_time": "2022-10-12T06:01:46.459Z"
   },
   {
    "duration": 7,
    "start_time": "2022-10-12T06:01:48.342Z"
   },
   {
    "duration": 374,
    "start_time": "2022-10-12T06:01:49.455Z"
   },
   {
    "duration": 342,
    "start_time": "2022-10-12T06:02:01.966Z"
   },
   {
    "duration": 13,
    "start_time": "2022-10-12T06:02:14.373Z"
   },
   {
    "duration": 12,
    "start_time": "2022-10-12T06:02:27.908Z"
   },
   {
    "duration": 12,
    "start_time": "2022-10-12T06:02:43.706Z"
   },
   {
    "duration": 26,
    "start_time": "2022-10-12T06:02:51.500Z"
   },
   {
    "duration": 5,
    "start_time": "2022-10-12T06:02:52.243Z"
   },
   {
    "duration": 12,
    "start_time": "2022-10-12T06:02:56.269Z"
   },
   {
    "duration": 3,
    "start_time": "2022-10-12T06:03:28.508Z"
   },
   {
    "duration": 85,
    "start_time": "2022-10-12T06:03:28.514Z"
   },
   {
    "duration": 4,
    "start_time": "2022-10-12T06:03:28.601Z"
   },
   {
    "duration": 6,
    "start_time": "2022-10-12T06:03:28.608Z"
   },
   {
    "duration": 26,
    "start_time": "2022-10-12T06:03:28.617Z"
   },
   {
    "duration": 46,
    "start_time": "2022-10-12T06:03:28.645Z"
   },
   {
    "duration": 4,
    "start_time": "2022-10-12T06:03:28.693Z"
   },
   {
    "duration": 8,
    "start_time": "2022-10-12T06:03:28.700Z"
   },
   {
    "duration": 22,
    "start_time": "2022-10-12T06:03:28.711Z"
   },
   {
    "duration": 13,
    "start_time": "2022-10-12T06:03:28.735Z"
   },
   {
    "duration": 1317,
    "start_time": "2022-10-12T06:03:43.021Z"
   },
   {
    "duration": 81,
    "start_time": "2022-10-12T06:03:44.340Z"
   },
   {
    "duration": 5,
    "start_time": "2022-10-12T06:03:44.423Z"
   },
   {
    "duration": 14,
    "start_time": "2022-10-12T06:03:44.430Z"
   },
   {
    "duration": 36,
    "start_time": "2022-10-12T06:03:44.447Z"
   },
   {
    "duration": 28,
    "start_time": "2022-10-12T06:03:44.485Z"
   },
   {
    "duration": 5,
    "start_time": "2022-10-12T06:03:44.516Z"
   },
   {
    "duration": 16,
    "start_time": "2022-10-12T06:03:44.523Z"
   },
   {
    "duration": 51,
    "start_time": "2022-10-12T06:03:44.541Z"
   },
   {
    "duration": 4,
    "start_time": "2022-10-12T06:03:44.595Z"
   },
   {
    "duration": 18,
    "start_time": "2022-10-12T06:03:44.601Z"
   },
   {
    "duration": 52,
    "start_time": "2022-10-12T06:03:44.621Z"
   },
   {
    "duration": 11,
    "start_time": "2022-10-12T06:03:44.675Z"
   },
   {
    "duration": 15,
    "start_time": "2022-10-12T06:03:44.691Z"
   },
   {
    "duration": 231,
    "start_time": "2022-10-12T06:03:44.709Z"
   },
   {
    "duration": 185,
    "start_time": "2022-10-12T06:03:44.942Z"
   },
   {
    "duration": 23,
    "start_time": "2022-10-12T06:03:45.129Z"
   },
   {
    "duration": 15,
    "start_time": "2022-10-12T06:03:45.154Z"
   },
   {
    "duration": 28,
    "start_time": "2022-10-12T06:03:45.172Z"
   },
   {
    "duration": 453,
    "start_time": "2022-10-12T06:03:45.203Z"
   },
   {
    "duration": 247,
    "start_time": "2022-10-12T06:03:45.657Z"
   },
   {
    "duration": 375,
    "start_time": "2022-10-12T06:03:45.906Z"
   },
   {
    "duration": 7,
    "start_time": "2022-10-12T06:03:46.295Z"
   },
   {
    "duration": 25,
    "start_time": "2022-10-12T06:03:46.304Z"
   },
   {
    "duration": 20,
    "start_time": "2022-10-12T06:03:46.332Z"
   },
   {
    "duration": 407,
    "start_time": "2022-10-12T06:03:46.354Z"
   },
   {
    "duration": 0,
    "start_time": "2022-10-12T06:03:46.763Z"
   },
   {
    "duration": 0,
    "start_time": "2022-10-12T06:03:46.765Z"
   },
   {
    "duration": 0,
    "start_time": "2022-10-12T06:03:46.767Z"
   },
   {
    "duration": 0,
    "start_time": "2022-10-12T06:03:46.768Z"
   },
   {
    "duration": 0,
    "start_time": "2022-10-12T06:03:46.769Z"
   },
   {
    "duration": 0,
    "start_time": "2022-10-12T06:03:46.771Z"
   },
   {
    "duration": 0,
    "start_time": "2022-10-12T06:03:46.772Z"
   },
   {
    "duration": 255,
    "start_time": "2022-10-12T06:06:23.720Z"
   },
   {
    "duration": 258,
    "start_time": "2022-10-12T06:07:05.859Z"
   },
   {
    "duration": 280,
    "start_time": "2022-10-12T06:08:53.898Z"
   },
   {
    "duration": 4,
    "start_time": "2022-10-12T06:08:59.159Z"
   },
   {
    "duration": 87,
    "start_time": "2022-10-12T06:08:59.167Z"
   },
   {
    "duration": 4,
    "start_time": "2022-10-12T06:08:59.255Z"
   },
   {
    "duration": 7,
    "start_time": "2022-10-12T06:08:59.262Z"
   },
   {
    "duration": 26,
    "start_time": "2022-10-12T06:08:59.271Z"
   },
   {
    "duration": 21,
    "start_time": "2022-10-12T06:08:59.300Z"
   },
   {
    "duration": 3,
    "start_time": "2022-10-12T06:08:59.323Z"
   },
   {
    "duration": 12,
    "start_time": "2022-10-12T06:08:59.329Z"
   },
   {
    "duration": 69,
    "start_time": "2022-10-12T06:08:59.345Z"
   },
   {
    "duration": 4,
    "start_time": "2022-10-12T06:08:59.417Z"
   },
   {
    "duration": 19,
    "start_time": "2022-10-12T06:08:59.423Z"
   },
   {
    "duration": 9,
    "start_time": "2022-10-12T06:08:59.445Z"
   },
   {
    "duration": 13,
    "start_time": "2022-10-12T06:08:59.456Z"
   },
   {
    "duration": 24,
    "start_time": "2022-10-12T06:08:59.471Z"
   },
   {
    "duration": 268,
    "start_time": "2022-10-12T06:08:59.497Z"
   },
   {
    "duration": 142,
    "start_time": "2022-10-12T06:08:59.767Z"
   },
   {
    "duration": 12,
    "start_time": "2022-10-12T06:08:59.911Z"
   },
   {
    "duration": 8,
    "start_time": "2022-10-12T06:08:59.925Z"
   },
   {
    "duration": 8,
    "start_time": "2022-10-12T06:08:59.937Z"
   },
   {
    "duration": 256,
    "start_time": "2022-10-12T06:08:59.946Z"
   },
   {
    "duration": 223,
    "start_time": "2022-10-12T06:09:00.204Z"
   },
   {
    "duration": 339,
    "start_time": "2022-10-12T06:09:00.429Z"
   },
   {
    "duration": 4,
    "start_time": "2022-10-12T06:09:00.770Z"
   },
   {
    "duration": 24,
    "start_time": "2022-10-12T06:09:00.788Z"
   },
   {
    "duration": 40,
    "start_time": "2022-10-12T06:09:00.814Z"
   },
   {
    "duration": 216,
    "start_time": "2022-10-12T06:09:03.953Z"
   },
   {
    "duration": 210,
    "start_time": "2022-10-12T06:09:22.567Z"
   },
   {
    "duration": 283,
    "start_time": "2022-10-12T06:09:51.870Z"
   },
   {
    "duration": 249,
    "start_time": "2022-10-12T06:10:01.019Z"
   },
   {
    "duration": 216,
    "start_time": "2022-10-12T06:10:15.851Z"
   },
   {
    "duration": 260,
    "start_time": "2022-10-12T06:10:34.319Z"
   },
   {
    "duration": 251,
    "start_time": "2022-10-12T06:10:48.491Z"
   },
   {
    "duration": 11,
    "start_time": "2022-10-12T06:18:21.077Z"
   },
   {
    "duration": 4,
    "start_time": "2022-10-12T06:18:25.298Z"
   },
   {
    "duration": 90,
    "start_time": "2022-10-12T06:18:25.304Z"
   },
   {
    "duration": 5,
    "start_time": "2022-10-12T06:18:25.396Z"
   },
   {
    "duration": 16,
    "start_time": "2022-10-12T06:18:25.404Z"
   },
   {
    "duration": 32,
    "start_time": "2022-10-12T06:18:25.704Z"
   },
   {
    "duration": 51,
    "start_time": "2022-10-12T06:18:25.738Z"
   },
   {
    "duration": 5,
    "start_time": "2022-10-12T06:18:25.792Z"
   },
   {
    "duration": 11,
    "start_time": "2022-10-12T06:18:25.800Z"
   },
   {
    "duration": 29,
    "start_time": "2022-10-12T06:18:25.814Z"
   },
   {
    "duration": 6,
    "start_time": "2022-10-12T06:18:25.845Z"
   },
   {
    "duration": 41,
    "start_time": "2022-10-12T06:18:25.852Z"
   },
   {
    "duration": 14,
    "start_time": "2022-10-12T06:18:25.895Z"
   },
   {
    "duration": 13,
    "start_time": "2022-10-12T06:18:25.911Z"
   },
   {
    "duration": 17,
    "start_time": "2022-10-12T06:18:25.926Z"
   },
   {
    "duration": 194,
    "start_time": "2022-10-12T06:18:25.946Z"
   },
   {
    "duration": 145,
    "start_time": "2022-10-12T06:18:26.187Z"
   },
   {
    "duration": 15,
    "start_time": "2022-10-12T06:18:26.334Z"
   },
   {
    "duration": 9,
    "start_time": "2022-10-12T06:18:26.351Z"
   },
   {
    "duration": 36,
    "start_time": "2022-10-12T06:18:26.363Z"
   },
   {
    "duration": 225,
    "start_time": "2022-10-12T06:18:26.401Z"
   },
   {
    "duration": 319,
    "start_time": "2022-10-12T06:18:26.628Z"
   },
   {
    "duration": 404,
    "start_time": "2022-10-12T06:18:26.949Z"
   },
   {
    "duration": 6,
    "start_time": "2022-10-12T06:18:27.356Z"
   },
   {
    "duration": 26,
    "start_time": "2022-10-12T06:18:27.364Z"
   },
   {
    "duration": 16,
    "start_time": "2022-10-12T06:18:27.394Z"
   },
   {
    "duration": 284,
    "start_time": "2022-10-12T06:18:27.413Z"
   },
   {
    "duration": 10,
    "start_time": "2022-10-12T06:18:27.699Z"
   },
   {
    "duration": 372,
    "start_time": "2022-10-12T06:18:27.712Z"
   },
   {
    "duration": 15,
    "start_time": "2022-10-12T06:18:28.087Z"
   },
   {
    "duration": 190,
    "start_time": "2022-10-12T06:18:28.104Z"
   },
   {
    "duration": 6,
    "start_time": "2022-10-12T06:18:28.296Z"
   },
   {
    "duration": 185,
    "start_time": "2022-10-12T06:18:28.304Z"
   },
   {
    "duration": 6,
    "start_time": "2022-10-12T06:18:28.491Z"
   },
   {
    "duration": 47,
    "start_time": "2022-10-12T06:18:32.285Z"
   },
   {
    "duration": 74,
    "start_time": "2022-10-12T06:21:26.538Z"
   },
   {
    "duration": 107,
    "start_time": "2022-10-12T06:21:40.801Z"
   },
   {
    "duration": 11,
    "start_time": "2022-10-12T06:21:47.249Z"
   },
   {
    "duration": 13,
    "start_time": "2022-10-12T06:23:05.543Z"
   },
   {
    "duration": 5,
    "start_time": "2022-10-12T06:42:24.382Z"
   },
   {
    "duration": 102,
    "start_time": "2022-10-12T06:42:24.390Z"
   },
   {
    "duration": 5,
    "start_time": "2022-10-12T06:42:24.494Z"
   },
   {
    "duration": 17,
    "start_time": "2022-10-12T06:42:24.502Z"
   },
   {
    "duration": 42,
    "start_time": "2022-10-12T06:42:24.522Z"
   },
   {
    "duration": 46,
    "start_time": "2022-10-12T06:42:24.566Z"
   },
   {
    "duration": 4,
    "start_time": "2022-10-12T06:42:24.613Z"
   },
   {
    "duration": 10,
    "start_time": "2022-10-12T06:42:24.620Z"
   },
   {
    "duration": 65,
    "start_time": "2022-10-12T06:42:24.632Z"
   },
   {
    "duration": 6,
    "start_time": "2022-10-12T06:42:24.699Z"
   },
   {
    "duration": 19,
    "start_time": "2022-10-12T06:42:24.707Z"
   },
   {
    "duration": 11,
    "start_time": "2022-10-12T06:42:24.728Z"
   },
   {
    "duration": 13,
    "start_time": "2022-10-12T06:42:24.742Z"
   },
   {
    "duration": 20,
    "start_time": "2022-10-12T06:42:24.790Z"
   },
   {
    "duration": 189,
    "start_time": "2022-10-12T06:42:24.813Z"
   },
   {
    "duration": 141,
    "start_time": "2022-10-12T06:42:25.004Z"
   },
   {
    "duration": 15,
    "start_time": "2022-10-12T06:42:25.147Z"
   },
   {
    "duration": 12,
    "start_time": "2022-10-12T06:42:25.188Z"
   },
   {
    "duration": 29,
    "start_time": "2022-10-12T06:42:25.202Z"
   },
   {
    "duration": 265,
    "start_time": "2022-10-12T06:42:25.233Z"
   },
   {
    "duration": 235,
    "start_time": "2022-10-12T06:42:25.500Z"
   },
   {
    "duration": 304,
    "start_time": "2022-10-12T06:42:25.737Z"
   },
   {
    "duration": 5,
    "start_time": "2022-10-12T06:42:26.044Z"
   },
   {
    "duration": 15,
    "start_time": "2022-10-12T06:42:26.051Z"
   },
   {
    "duration": 47,
    "start_time": "2022-10-12T06:42:26.069Z"
   },
   {
    "duration": 246,
    "start_time": "2022-10-12T06:42:26.118Z"
   },
   {
    "duration": 13,
    "start_time": "2022-10-12T06:42:26.367Z"
   },
   {
    "duration": 478,
    "start_time": "2022-10-12T06:42:26.391Z"
   },
   {
    "duration": 26,
    "start_time": "2022-10-12T06:42:26.871Z"
   },
   {
    "duration": 137,
    "start_time": "2022-10-12T06:42:26.899Z"
   },
   {
    "duration": 4,
    "start_time": "2022-10-12T06:42:27.038Z"
   },
   {
    "duration": 182,
    "start_time": "2022-10-12T06:42:27.045Z"
   },
   {
    "duration": 5,
    "start_time": "2022-10-12T06:42:27.229Z"
   },
   {
    "duration": 86,
    "start_time": "2022-10-12T06:42:27.236Z"
   },
   {
    "duration": 78,
    "start_time": "2022-10-12T06:42:27.324Z"
   },
   {
    "duration": 94,
    "start_time": "2022-10-12T06:42:27.404Z"
   },
   {
    "duration": 104,
    "start_time": "2022-10-12T06:42:27.501Z"
   },
   {
    "duration": 29,
    "start_time": "2022-10-12T06:42:27.607Z"
   },
   {
    "duration": 42,
    "start_time": "2022-10-12T06:42:51.680Z"
   },
   {
    "duration": 41,
    "start_time": "2022-10-12T06:43:06.100Z"
   },
   {
    "duration": 101,
    "start_time": "2022-10-12T06:43:37.697Z"
   },
   {
    "duration": 91,
    "start_time": "2022-10-12T06:43:38.631Z"
   },
   {
    "duration": 12,
    "start_time": "2022-10-12T06:46:48.516Z"
   },
   {
    "duration": 1372,
    "start_time": "2022-10-12T06:46:58.570Z"
   },
   {
    "duration": 6,
    "start_time": "2022-10-12T06:47:09.490Z"
   },
   {
    "duration": 12,
    "start_time": "2022-10-12T06:47:41.968Z"
   },
   {
    "duration": 11,
    "start_time": "2022-10-12T06:48:32.385Z"
   },
   {
    "duration": 38,
    "start_time": "2022-10-12T06:51:58.046Z"
   },
   {
    "duration": 7,
    "start_time": "2022-10-12T06:52:22.430Z"
   },
   {
    "duration": 26,
    "start_time": "2022-10-12T06:59:55.715Z"
   },
   {
    "duration": 26,
    "start_time": "2022-10-12T07:00:31.687Z"
   },
   {
    "duration": 31,
    "start_time": "2022-10-12T07:02:49.409Z"
   },
   {
    "duration": 46,
    "start_time": "2022-10-12T07:03:08.978Z"
   },
   {
    "duration": 5,
    "start_time": "2022-10-12T07:10:10.264Z"
   },
   {
    "duration": 100,
    "start_time": "2022-10-12T07:10:10.272Z"
   },
   {
    "duration": 6,
    "start_time": "2022-10-12T07:10:10.375Z"
   },
   {
    "duration": 11,
    "start_time": "2022-10-12T07:10:10.384Z"
   },
   {
    "duration": 39,
    "start_time": "2022-10-12T07:10:10.398Z"
   },
   {
    "duration": 54,
    "start_time": "2022-10-12T07:10:10.439Z"
   },
   {
    "duration": 8,
    "start_time": "2022-10-12T07:10:10.495Z"
   },
   {
    "duration": 9,
    "start_time": "2022-10-12T07:10:10.506Z"
   },
   {
    "duration": 38,
    "start_time": "2022-10-12T07:10:10.519Z"
   },
   {
    "duration": 5,
    "start_time": "2022-10-12T07:10:10.590Z"
   },
   {
    "duration": 16,
    "start_time": "2022-10-12T07:10:10.598Z"
   },
   {
    "duration": 16,
    "start_time": "2022-10-12T07:10:10.617Z"
   },
   {
    "duration": 24,
    "start_time": "2022-10-12T07:10:10.636Z"
   },
   {
    "duration": 14,
    "start_time": "2022-10-12T07:10:10.688Z"
   },
   {
    "duration": 324,
    "start_time": "2022-10-12T07:10:10.706Z"
   },
   {
    "duration": 219,
    "start_time": "2022-10-12T07:10:11.033Z"
   },
   {
    "duration": 15,
    "start_time": "2022-10-12T07:10:11.254Z"
   },
   {
    "duration": 9,
    "start_time": "2022-10-12T07:10:11.289Z"
   },
   {
    "duration": 12,
    "start_time": "2022-10-12T07:10:11.301Z"
   },
   {
    "duration": 357,
    "start_time": "2022-10-12T07:10:11.316Z"
   },
   {
    "duration": 351,
    "start_time": "2022-10-12T07:10:11.676Z"
   },
   {
    "duration": 418,
    "start_time": "2022-10-12T07:10:12.030Z"
   },
   {
    "duration": 5,
    "start_time": "2022-10-12T07:10:12.451Z"
   },
   {
    "duration": 20,
    "start_time": "2022-10-12T07:10:12.457Z"
   },
   {
    "duration": 15,
    "start_time": "2022-10-12T07:10:12.480Z"
   },
   {
    "duration": 369,
    "start_time": "2022-10-12T07:10:12.498Z"
   },
   {
    "duration": 20,
    "start_time": "2022-10-12T07:10:12.869Z"
   },
   {
    "duration": 525,
    "start_time": "2022-10-12T07:10:12.891Z"
   },
   {
    "duration": 19,
    "start_time": "2022-10-12T07:10:13.419Z"
   },
   {
    "duration": 175,
    "start_time": "2022-10-12T07:10:13.443Z"
   },
   {
    "duration": 7,
    "start_time": "2022-10-12T07:10:13.621Z"
   },
   {
    "duration": 186,
    "start_time": "2022-10-12T07:10:13.630Z"
   },
   {
    "duration": 6,
    "start_time": "2022-10-12T07:10:13.818Z"
   },
   {
    "duration": 98,
    "start_time": "2022-10-12T07:10:13.826Z"
   },
   {
    "duration": 63,
    "start_time": "2022-10-12T07:10:13.927Z"
   },
   {
    "duration": 86,
    "start_time": "2022-10-12T07:10:13.993Z"
   },
   {
    "duration": 78,
    "start_time": "2022-10-12T07:10:14.081Z"
   },
   {
    "duration": 52,
    "start_time": "2022-10-12T07:10:14.161Z"
   },
   {
    "duration": 114,
    "start_time": "2022-10-12T07:10:14.216Z"
   },
   {
    "duration": 111,
    "start_time": "2022-10-12T07:10:14.332Z"
   },
   {
    "duration": 5,
    "start_time": "2022-10-12T07:10:14.446Z"
   },
   {
    "duration": 10,
    "start_time": "2022-10-12T07:10:14.453Z"
   },
   {
    "duration": 58,
    "start_time": "2022-10-12T07:10:14.466Z"
   },
   {
    "duration": 21,
    "start_time": "2022-10-12T07:10:47.989Z"
   },
   {
    "duration": 6,
    "start_time": "2022-10-12T07:32:15.780Z"
   },
   {
    "duration": 6,
    "start_time": "2022-10-12T07:32:16.368Z"
   },
   {
    "duration": 359,
    "start_time": "2022-10-12T07:32:17.169Z"
   },
   {
    "duration": 4,
    "start_time": "2022-10-12T07:32:28.355Z"
   },
   {
    "duration": 86,
    "start_time": "2022-10-12T07:32:28.361Z"
   },
   {
    "duration": 4,
    "start_time": "2022-10-12T07:32:28.450Z"
   },
   {
    "duration": 10,
    "start_time": "2022-10-12T07:32:28.458Z"
   },
   {
    "duration": 26,
    "start_time": "2022-10-12T07:32:28.470Z"
   },
   {
    "duration": 22,
    "start_time": "2022-10-12T07:32:28.498Z"
   },
   {
    "duration": 5,
    "start_time": "2022-10-12T07:32:28.522Z"
   },
   {
    "duration": 11,
    "start_time": "2022-10-12T07:32:28.530Z"
   },
   {
    "duration": 59,
    "start_time": "2022-10-12T07:32:28.544Z"
   },
   {
    "duration": 4,
    "start_time": "2022-10-12T07:32:28.606Z"
   },
   {
    "duration": 17,
    "start_time": "2022-10-12T07:32:28.612Z"
   },
   {
    "duration": 11,
    "start_time": "2022-10-12T07:32:28.632Z"
   },
   {
    "duration": 14,
    "start_time": "2022-10-12T07:32:28.646Z"
   },
   {
    "duration": 7,
    "start_time": "2022-10-12T07:32:28.690Z"
   },
   {
    "duration": 292,
    "start_time": "2022-10-12T07:32:28.698Z"
   },
   {
    "duration": 162,
    "start_time": "2022-10-12T07:32:28.992Z"
   },
   {
    "duration": 33,
    "start_time": "2022-10-12T07:32:29.156Z"
   },
   {
    "duration": 11,
    "start_time": "2022-10-12T07:32:29.192Z"
   },
   {
    "duration": 15,
    "start_time": "2022-10-12T07:32:29.205Z"
   },
   {
    "duration": 263,
    "start_time": "2022-10-12T07:32:29.222Z"
   },
   {
    "duration": 248,
    "start_time": "2022-10-12T07:32:29.487Z"
   },
   {
    "duration": 404,
    "start_time": "2022-10-12T07:32:29.737Z"
   },
   {
    "duration": 6,
    "start_time": "2022-10-12T07:32:39.130Z"
   },
   {
    "duration": 6,
    "start_time": "2022-10-12T07:32:39.936Z"
   },
   {
    "duration": 1305,
    "start_time": "2022-10-12T07:32:40.817Z"
   },
   {
    "duration": 337,
    "start_time": "2022-10-12T07:32:59.031Z"
   },
   {
    "duration": 234,
    "start_time": "2022-10-12T07:33:07.033Z"
   },
   {
    "duration": 19,
    "start_time": "2022-10-12T08:04:12.172Z"
   },
   {
    "duration": 15,
    "start_time": "2022-10-12T08:05:42.621Z"
   },
   {
    "duration": 11,
    "start_time": "2022-10-12T08:05:48.600Z"
   },
   {
    "duration": 18,
    "start_time": "2022-10-12T08:07:12.313Z"
   },
   {
    "duration": 397,
    "start_time": "2022-10-12T08:08:12.581Z"
   },
   {
    "duration": 82,
    "start_time": "2022-10-12T08:09:09.428Z"
   },
   {
    "duration": 21,
    "start_time": "2022-10-12T08:09:29.866Z"
   },
   {
    "duration": 11,
    "start_time": "2022-10-12T08:10:09.659Z"
   },
   {
    "duration": 10,
    "start_time": "2022-10-12T08:10:29.897Z"
   },
   {
    "duration": 11,
    "start_time": "2022-10-12T08:10:34.841Z"
   },
   {
    "duration": 11,
    "start_time": "2022-10-12T08:11:51.690Z"
   },
   {
    "duration": 5,
    "start_time": "2022-10-12T08:12:14.153Z"
   },
   {
    "duration": 102,
    "start_time": "2022-10-12T08:12:14.161Z"
   },
   {
    "duration": 5,
    "start_time": "2022-10-12T08:12:14.265Z"
   },
   {
    "duration": 9,
    "start_time": "2022-10-12T08:12:14.273Z"
   },
   {
    "duration": 64,
    "start_time": "2022-10-12T08:12:14.285Z"
   },
   {
    "duration": 35,
    "start_time": "2022-10-12T08:12:14.351Z"
   },
   {
    "duration": 5,
    "start_time": "2022-10-12T08:12:14.389Z"
   },
   {
    "duration": 42,
    "start_time": "2022-10-12T08:12:14.397Z"
   },
   {
    "duration": 59,
    "start_time": "2022-10-12T08:12:14.443Z"
   },
   {
    "duration": 34,
    "start_time": "2022-10-12T08:12:14.504Z"
   },
   {
    "duration": 12,
    "start_time": "2022-10-12T08:12:14.542Z"
   },
   {
    "duration": 18,
    "start_time": "2022-10-12T08:12:14.556Z"
   },
   {
    "duration": 56,
    "start_time": "2022-10-12T08:12:14.576Z"
   },
   {
    "duration": 23,
    "start_time": "2022-10-12T08:12:14.635Z"
   },
   {
    "duration": 28,
    "start_time": "2022-10-12T08:12:23.570Z"
   },
   {
    "duration": 8,
    "start_time": "2022-10-12T08:12:25.645Z"
   },
   {
    "duration": 19,
    "start_time": "2022-10-12T08:12:45.640Z"
   },
   {
    "duration": 1456,
    "start_time": "2022-10-12T08:13:02.070Z"
   },
   {
    "duration": 8,
    "start_time": "2022-10-12T08:13:41.330Z"
   },
   {
    "duration": 11,
    "start_time": "2022-10-12T08:13:54.072Z"
   },
   {
    "duration": 6,
    "start_time": "2022-10-12T08:26:39.525Z"
   },
   {
    "duration": 8,
    "start_time": "2022-10-12T08:26:40.044Z"
   },
   {
    "duration": 4,
    "start_time": "2022-10-12T08:26:50.539Z"
   },
   {
    "duration": 7,
    "start_time": "2022-10-12T08:26:51.011Z"
   },
   {
    "duration": 6,
    "start_time": "2022-10-12T08:26:51.734Z"
   },
   {
    "duration": 257,
    "start_time": "2022-10-12T08:27:02.464Z"
   },
   {
    "duration": 36,
    "start_time": "2022-10-12T08:35:09.642Z"
   },
   {
    "duration": 34,
    "start_time": "2022-10-12T08:35:23.553Z"
   },
   {
    "duration": 4,
    "start_time": "2022-10-12T08:38:46.214Z"
   },
   {
    "duration": 236,
    "start_time": "2022-10-12T08:38:46.221Z"
   },
   {
    "duration": 5,
    "start_time": "2022-10-12T08:38:46.459Z"
   },
   {
    "duration": 8,
    "start_time": "2022-10-12T08:38:46.466Z"
   },
   {
    "duration": 37,
    "start_time": "2022-10-12T08:38:46.477Z"
   },
   {
    "duration": 30,
    "start_time": "2022-10-12T08:38:46.517Z"
   },
   {
    "duration": 4,
    "start_time": "2022-10-12T08:38:46.549Z"
   },
   {
    "duration": 12,
    "start_time": "2022-10-12T08:38:46.555Z"
   },
   {
    "duration": 27,
    "start_time": "2022-10-12T08:38:46.590Z"
   },
   {
    "duration": 8,
    "start_time": "2022-10-12T08:38:46.619Z"
   },
   {
    "duration": 18,
    "start_time": "2022-10-12T08:38:46.629Z"
   },
   {
    "duration": 11,
    "start_time": "2022-10-12T08:38:46.650Z"
   },
   {
    "duration": 33,
    "start_time": "2022-10-12T08:38:46.664Z"
   },
   {
    "duration": 22,
    "start_time": "2022-10-12T08:38:46.699Z"
   },
   {
    "duration": 7,
    "start_time": "2022-10-12T08:38:46.724Z"
   },
   {
    "duration": 9,
    "start_time": "2022-10-12T08:38:46.733Z"
   },
   {
    "duration": 224,
    "start_time": "2022-10-12T08:38:46.744Z"
   },
   {
    "duration": 152,
    "start_time": "2022-10-12T08:38:46.970Z"
   },
   {
    "duration": 23,
    "start_time": "2022-10-12T08:38:47.125Z"
   },
   {
    "duration": 9,
    "start_time": "2022-10-12T08:38:47.151Z"
   },
   {
    "duration": 33,
    "start_time": "2022-10-12T08:38:47.163Z"
   },
   {
    "duration": 264,
    "start_time": "2022-10-12T08:38:47.199Z"
   },
   {
    "duration": 258,
    "start_time": "2022-10-12T08:38:47.464Z"
   },
   {
    "duration": 323,
    "start_time": "2022-10-12T08:38:47.724Z"
   },
   {
    "duration": 5,
    "start_time": "2022-10-12T08:38:48.049Z"
   },
   {
    "duration": 24,
    "start_time": "2022-10-12T08:38:48.057Z"
   },
   {
    "duration": 12,
    "start_time": "2022-10-12T08:38:48.084Z"
   },
   {
    "duration": 290,
    "start_time": "2022-10-12T08:38:48.101Z"
   },
   {
    "duration": 11,
    "start_time": "2022-10-12T08:38:48.393Z"
   },
   {
    "duration": 480,
    "start_time": "2022-10-12T08:38:48.406Z"
   },
   {
    "duration": 15,
    "start_time": "2022-10-12T08:38:48.888Z"
   },
   {
    "duration": 207,
    "start_time": "2022-10-12T08:38:48.905Z"
   },
   {
    "duration": 6,
    "start_time": "2022-10-12T08:38:49.115Z"
   },
   {
    "duration": 170,
    "start_time": "2022-10-12T08:38:49.123Z"
   },
   {
    "duration": 5,
    "start_time": "2022-10-12T08:38:49.295Z"
   },
   {
    "duration": 65,
    "start_time": "2022-10-12T08:38:49.303Z"
   },
   {
    "duration": 74,
    "start_time": "2022-10-12T08:38:49.370Z"
   },
   {
    "duration": 82,
    "start_time": "2022-10-12T08:38:49.446Z"
   },
   {
    "duration": 76,
    "start_time": "2022-10-12T08:38:49.530Z"
   },
   {
    "duration": 35,
    "start_time": "2022-10-12T08:38:49.607Z"
   },
   {
    "duration": 105,
    "start_time": "2022-10-12T08:38:49.644Z"
   },
   {
    "duration": 114,
    "start_time": "2022-10-12T08:38:49.751Z"
   },
   {
    "duration": 22,
    "start_time": "2022-10-12T08:38:49.867Z"
   },
   {
    "duration": 6,
    "start_time": "2022-10-12T08:38:49.892Z"
   },
   {
    "duration": 38,
    "start_time": "2022-10-12T08:38:49.901Z"
   },
   {
    "duration": 22,
    "start_time": "2022-10-12T08:38:49.941Z"
   },
   {
    "duration": 23,
    "start_time": "2022-10-12T08:39:03.711Z"
   },
   {
    "duration": 14,
    "start_time": "2022-10-12T08:39:22.321Z"
   },
   {
    "duration": 23,
    "start_time": "2022-10-12T08:42:18.384Z"
   },
   {
    "duration": 27,
    "start_time": "2022-10-12T08:43:35.251Z"
   },
   {
    "duration": 5,
    "start_time": "2022-10-12T08:45:36.928Z"
   },
   {
    "duration": 110,
    "start_time": "2022-10-12T08:45:36.935Z"
   },
   {
    "duration": 5,
    "start_time": "2022-10-12T08:45:37.047Z"
   },
   {
    "duration": 16,
    "start_time": "2022-10-12T08:45:37.056Z"
   },
   {
    "duration": 49,
    "start_time": "2022-10-12T08:45:37.074Z"
   },
   {
    "duration": 37,
    "start_time": "2022-10-12T08:45:37.125Z"
   },
   {
    "duration": 19,
    "start_time": "2022-10-12T08:45:37.164Z"
   },
   {
    "duration": 40,
    "start_time": "2022-10-12T08:45:37.185Z"
   },
   {
    "duration": 67,
    "start_time": "2022-10-12T08:45:37.227Z"
   },
   {
    "duration": 25,
    "start_time": "2022-10-12T08:45:37.298Z"
   },
   {
    "duration": 34,
    "start_time": "2022-10-12T08:45:37.325Z"
   },
   {
    "duration": 42,
    "start_time": "2022-10-12T08:45:37.361Z"
   },
   {
    "duration": 34,
    "start_time": "2022-10-12T08:45:37.405Z"
   },
   {
    "duration": 43,
    "start_time": "2022-10-12T08:45:37.442Z"
   },
   {
    "duration": 25,
    "start_time": "2022-10-12T08:45:37.487Z"
   },
   {
    "duration": 18,
    "start_time": "2022-10-12T08:45:37.514Z"
   },
   {
    "duration": 199,
    "start_time": "2022-10-12T08:45:37.534Z"
   },
   {
    "duration": 154,
    "start_time": "2022-10-12T08:45:37.735Z"
   },
   {
    "duration": 16,
    "start_time": "2022-10-12T08:45:37.891Z"
   },
   {
    "duration": 40,
    "start_time": "2022-10-12T08:45:37.909Z"
   },
   {
    "duration": 20,
    "start_time": "2022-10-12T08:45:37.951Z"
   },
   {
    "duration": 265,
    "start_time": "2022-10-12T08:45:37.973Z"
   },
   {
    "duration": 284,
    "start_time": "2022-10-12T08:45:38.243Z"
   },
   {
    "duration": 324,
    "start_time": "2022-10-12T08:45:38.529Z"
   },
   {
    "duration": 5,
    "start_time": "2022-10-12T08:45:38.855Z"
   },
   {
    "duration": 23,
    "start_time": "2022-10-12T08:45:38.862Z"
   },
   {
    "duration": 27,
    "start_time": "2022-10-12T08:45:38.889Z"
   },
   {
    "duration": 257,
    "start_time": "2022-10-12T08:45:38.918Z"
   },
   {
    "duration": 12,
    "start_time": "2022-10-12T08:45:39.177Z"
   },
   {
    "duration": 408,
    "start_time": "2022-10-12T08:45:39.191Z"
   },
   {
    "duration": 13,
    "start_time": "2022-10-12T08:45:39.601Z"
   },
   {
    "duration": 162,
    "start_time": "2022-10-12T08:45:39.616Z"
   },
   {
    "duration": 12,
    "start_time": "2022-10-12T08:45:39.780Z"
   },
   {
    "duration": 181,
    "start_time": "2022-10-12T08:45:39.794Z"
   },
   {
    "duration": 12,
    "start_time": "2022-10-12T08:45:39.977Z"
   },
   {
    "duration": 168,
    "start_time": "2022-10-12T08:45:39.991Z"
   },
   {
    "duration": 60,
    "start_time": "2022-10-12T08:45:40.162Z"
   },
   {
    "duration": 79,
    "start_time": "2022-10-12T08:45:40.224Z"
   },
   {
    "duration": 97,
    "start_time": "2022-10-12T08:45:40.305Z"
   },
   {
    "duration": 36,
    "start_time": "2022-10-12T08:45:40.404Z"
   },
   {
    "duration": 100,
    "start_time": "2022-10-12T08:45:40.442Z"
   },
   {
    "duration": 99,
    "start_time": "2022-10-12T08:45:40.544Z"
   },
   {
    "duration": 7,
    "start_time": "2022-10-12T08:45:40.646Z"
   },
   {
    "duration": 18,
    "start_time": "2022-10-12T08:45:40.654Z"
   },
   {
    "duration": 64,
    "start_time": "2022-10-12T08:45:40.674Z"
   },
   {
    "duration": 55,
    "start_time": "2022-10-12T08:45:40.740Z"
   },
   {
    "duration": 30,
    "start_time": "2022-10-12T08:45:40.798Z"
   },
   {
    "duration": 32,
    "start_time": "2022-10-12T08:45:40.830Z"
   },
   {
    "duration": 29,
    "start_time": "2022-10-12T08:45:45.589Z"
   },
   {
    "duration": 5,
    "start_time": "2022-10-12T08:56:33.389Z"
   },
   {
    "duration": 115,
    "start_time": "2022-10-12T08:56:33.397Z"
   },
   {
    "duration": 6,
    "start_time": "2022-10-12T08:56:33.514Z"
   },
   {
    "duration": 25,
    "start_time": "2022-10-12T08:56:33.524Z"
   },
   {
    "duration": 67,
    "start_time": "2022-10-12T08:56:33.552Z"
   },
   {
    "duration": 44,
    "start_time": "2022-10-12T08:56:33.622Z"
   },
   {
    "duration": 25,
    "start_time": "2022-10-12T08:56:33.670Z"
   },
   {
    "duration": 35,
    "start_time": "2022-10-12T08:56:33.698Z"
   },
   {
    "duration": 52,
    "start_time": "2022-10-12T08:56:33.738Z"
   },
   {
    "duration": 18,
    "start_time": "2022-10-12T08:56:33.793Z"
   },
   {
    "duration": 39,
    "start_time": "2022-10-12T08:56:33.813Z"
   },
   {
    "duration": 22,
    "start_time": "2022-10-12T08:56:33.854Z"
   },
   {
    "duration": 65,
    "start_time": "2022-10-12T08:56:33.878Z"
   },
   {
    "duration": 51,
    "start_time": "2022-10-12T08:56:33.946Z"
   },
   {
    "duration": 25,
    "start_time": "2022-10-12T08:56:34.000Z"
   },
   {
    "duration": 18,
    "start_time": "2022-10-12T08:56:34.027Z"
   },
   {
    "duration": 220,
    "start_time": "2022-10-12T08:56:34.048Z"
   },
   {
    "duration": 164,
    "start_time": "2022-10-12T08:56:34.270Z"
   },
   {
    "duration": 17,
    "start_time": "2022-10-12T08:56:34.436Z"
   },
   {
    "duration": 19,
    "start_time": "2022-10-12T08:56:34.455Z"
   },
   {
    "duration": 24,
    "start_time": "2022-10-12T08:56:34.476Z"
   },
   {
    "duration": 258,
    "start_time": "2022-10-12T08:56:34.502Z"
   },
   {
    "duration": 250,
    "start_time": "2022-10-12T08:56:34.765Z"
   },
   {
    "duration": 348,
    "start_time": "2022-10-12T08:56:35.021Z"
   },
   {
    "duration": 7,
    "start_time": "2022-10-12T08:56:35.372Z"
   },
   {
    "duration": 55,
    "start_time": "2022-10-12T08:56:35.391Z"
   },
   {
    "duration": 31,
    "start_time": "2022-10-12T08:56:35.448Z"
   },
   {
    "duration": 294,
    "start_time": "2022-10-12T08:56:35.482Z"
   },
   {
    "duration": 22,
    "start_time": "2022-10-12T08:56:35.778Z"
   },
   {
    "duration": 434,
    "start_time": "2022-10-12T08:56:35.803Z"
   },
   {
    "duration": 15,
    "start_time": "2022-10-12T08:56:36.240Z"
   },
   {
    "duration": 191,
    "start_time": "2022-10-12T08:56:36.257Z"
   },
   {
    "duration": 6,
    "start_time": "2022-10-12T08:56:36.451Z"
   },
   {
    "duration": 262,
    "start_time": "2022-10-12T08:56:36.460Z"
   },
   {
    "duration": 6,
    "start_time": "2022-10-12T08:56:36.724Z"
   },
   {
    "duration": 103,
    "start_time": "2022-10-12T08:56:36.732Z"
   },
   {
    "duration": 98,
    "start_time": "2022-10-12T08:56:36.841Z"
   },
   {
    "duration": 114,
    "start_time": "2022-10-12T08:56:36.942Z"
   },
   {
    "duration": 86,
    "start_time": "2022-10-12T08:56:37.058Z"
   },
   {
    "duration": 63,
    "start_time": "2022-10-12T08:56:37.146Z"
   },
   {
    "duration": 134,
    "start_time": "2022-10-12T08:56:37.212Z"
   },
   {
    "duration": 114,
    "start_time": "2022-10-12T08:56:37.349Z"
   },
   {
    "duration": 6,
    "start_time": "2022-10-12T08:56:37.465Z"
   },
   {
    "duration": 8,
    "start_time": "2022-10-12T08:56:37.490Z"
   },
   {
    "duration": 42,
    "start_time": "2022-10-12T08:56:37.500Z"
   },
   {
    "duration": 22,
    "start_time": "2022-10-12T08:56:37.544Z"
   },
   {
    "duration": 33,
    "start_time": "2022-10-12T08:56:37.569Z"
   },
   {
    "duration": 13,
    "start_time": "2022-10-12T08:56:37.605Z"
   },
   {
    "duration": 44,
    "start_time": "2022-10-12T08:56:37.621Z"
   },
   {
    "duration": 26,
    "start_time": "2022-10-12T08:56:37.667Z"
   },
   {
    "duration": 15,
    "start_time": "2022-10-12T08:56:42.716Z"
   },
   {
    "duration": 11,
    "start_time": "2022-10-12T08:56:51.469Z"
   },
   {
    "duration": 5,
    "start_time": "2022-10-12T09:01:39.657Z"
   },
   {
    "duration": 87,
    "start_time": "2022-10-12T09:01:39.665Z"
   },
   {
    "duration": 5,
    "start_time": "2022-10-12T09:01:39.754Z"
   },
   {
    "duration": 13,
    "start_time": "2022-10-12T09:01:39.765Z"
   },
   {
    "duration": 49,
    "start_time": "2022-10-12T09:01:39.781Z"
   },
   {
    "duration": 34,
    "start_time": "2022-10-12T09:01:39.832Z"
   },
   {
    "duration": 22,
    "start_time": "2022-10-12T09:01:39.868Z"
   },
   {
    "duration": 13,
    "start_time": "2022-10-12T09:01:39.893Z"
   },
   {
    "duration": 37,
    "start_time": "2022-10-12T09:01:39.909Z"
   },
   {
    "duration": 8,
    "start_time": "2022-10-12T09:01:39.948Z"
   },
   {
    "duration": 10,
    "start_time": "2022-10-12T09:01:40.092Z"
   },
   {
    "duration": 23,
    "start_time": "2022-10-12T09:01:40.104Z"
   },
   {
    "duration": 15,
    "start_time": "2022-10-12T09:01:40.129Z"
   },
   {
    "duration": 52,
    "start_time": "2022-10-12T09:01:40.147Z"
   },
   {
    "duration": 8,
    "start_time": "2022-10-12T09:01:40.203Z"
   },
   {
    "duration": 15,
    "start_time": "2022-10-12T09:01:40.214Z"
   },
   {
    "duration": 259,
    "start_time": "2022-10-12T09:01:40.232Z"
   },
   {
    "duration": 159,
    "start_time": "2022-10-12T09:01:40.493Z"
   },
   {
    "duration": 16,
    "start_time": "2022-10-12T09:01:40.654Z"
   },
   {
    "duration": 10,
    "start_time": "2022-10-12T09:01:40.691Z"
   },
   {
    "duration": 12,
    "start_time": "2022-10-12T09:01:40.704Z"
   },
   {
    "duration": 327,
    "start_time": "2022-10-12T09:01:40.719Z"
   },
   {
    "duration": 384,
    "start_time": "2022-10-12T09:01:41.051Z"
   },
   {
    "duration": 424,
    "start_time": "2022-10-12T09:01:41.440Z"
   },
   {
    "duration": 5,
    "start_time": "2022-10-12T09:01:41.868Z"
   },
   {
    "duration": 19,
    "start_time": "2022-10-12T09:01:41.875Z"
   },
   {
    "duration": 50,
    "start_time": "2022-10-12T09:01:41.896Z"
   },
   {
    "duration": 441,
    "start_time": "2022-10-12T09:01:41.949Z"
   },
   {
    "duration": 10,
    "start_time": "2022-10-12T09:01:42.393Z"
   },
   {
    "duration": 523,
    "start_time": "2022-10-12T09:01:42.405Z"
   },
   {
    "duration": 20,
    "start_time": "2022-10-12T09:01:42.931Z"
   },
   {
    "duration": 189,
    "start_time": "2022-10-12T09:01:42.953Z"
   },
   {
    "duration": 5,
    "start_time": "2022-10-12T09:01:43.144Z"
   },
   {
    "duration": 180,
    "start_time": "2022-10-12T09:01:43.152Z"
   },
   {
    "duration": 8,
    "start_time": "2022-10-12T09:01:43.334Z"
   },
   {
    "duration": 76,
    "start_time": "2022-10-12T09:01:43.345Z"
   },
   {
    "duration": 88,
    "start_time": "2022-10-12T09:01:43.423Z"
   },
   {
    "duration": 111,
    "start_time": "2022-10-12T09:01:43.513Z"
   },
   {
    "duration": 110,
    "start_time": "2022-10-12T09:01:43.627Z"
   },
   {
    "duration": 59,
    "start_time": "2022-10-12T09:01:43.739Z"
   },
   {
    "duration": 133,
    "start_time": "2022-10-12T09:01:43.800Z"
   },
   {
    "duration": 150,
    "start_time": "2022-10-12T09:01:43.936Z"
   },
   {
    "duration": 7,
    "start_time": "2022-10-12T09:01:44.088Z"
   },
   {
    "duration": 16,
    "start_time": "2022-10-12T09:01:44.098Z"
   },
   {
    "duration": 53,
    "start_time": "2022-10-12T09:01:44.117Z"
   },
   {
    "duration": 39,
    "start_time": "2022-10-12T09:01:44.172Z"
   },
   {
    "duration": 15,
    "start_time": "2022-10-12T09:01:44.213Z"
   },
   {
    "duration": 14,
    "start_time": "2022-10-12T09:01:44.230Z"
   },
   {
    "duration": 56,
    "start_time": "2022-10-12T09:01:44.247Z"
   },
   {
    "duration": 10,
    "start_time": "2022-10-12T09:01:44.309Z"
   },
   {
    "duration": 74,
    "start_time": "2022-10-12T09:01:44.321Z"
   },
   {
    "duration": 13,
    "start_time": "2022-10-12T09:01:48.432Z"
   },
   {
    "duration": 13,
    "start_time": "2022-10-12T09:01:54.764Z"
   },
   {
    "duration": 11,
    "start_time": "2022-10-12T09:02:21.857Z"
   },
   {
    "duration": 10,
    "start_time": "2022-10-12T09:02:28.469Z"
   },
   {
    "duration": 228,
    "start_time": "2022-10-12T09:21:34.111Z"
   },
   {
    "duration": 7,
    "start_time": "2022-10-12T09:46:17.428Z"
   },
   {
    "duration": 5,
    "start_time": "2022-10-12T09:47:26.071Z"
   },
   {
    "duration": 5,
    "start_time": "2022-10-12T09:47:39.622Z"
   },
   {
    "duration": 4,
    "start_time": "2022-10-12T09:47:47.161Z"
   },
   {
    "duration": 4,
    "start_time": "2022-10-12T09:49:02.318Z"
   },
   {
    "duration": 6,
    "start_time": "2022-10-12T09:49:39.491Z"
   },
   {
    "duration": 4,
    "start_time": "2022-10-12T09:50:55.536Z"
   },
   {
    "duration": 3,
    "start_time": "2022-10-12T09:51:08.168Z"
   },
   {
    "duration": 5,
    "start_time": "2022-10-12T09:52:24.573Z"
   },
   {
    "duration": 1226,
    "start_time": "2022-10-12T10:09:23.308Z"
   },
   {
    "duration": 92,
    "start_time": "2022-10-12T10:09:24.536Z"
   },
   {
    "duration": 4,
    "start_time": "2022-10-12T10:09:24.629Z"
   },
   {
    "duration": 9,
    "start_time": "2022-10-12T10:09:24.635Z"
   },
   {
    "duration": 26,
    "start_time": "2022-10-12T10:09:24.646Z"
   },
   {
    "duration": 33,
    "start_time": "2022-10-12T10:09:24.673Z"
   },
   {
    "duration": 26,
    "start_time": "2022-10-12T10:09:24.708Z"
   },
   {
    "duration": 10,
    "start_time": "2022-10-12T10:09:24.736Z"
   },
   {
    "duration": 23,
    "start_time": "2022-10-12T10:09:24.748Z"
   },
   {
    "duration": 4,
    "start_time": "2022-10-12T10:09:24.772Z"
   },
   {
    "duration": 24,
    "start_time": "2022-10-12T10:09:24.777Z"
   },
   {
    "duration": 13,
    "start_time": "2022-10-12T10:09:24.803Z"
   },
   {
    "duration": 8,
    "start_time": "2022-10-12T10:09:24.818Z"
   },
   {
    "duration": 17,
    "start_time": "2022-10-12T10:09:24.830Z"
   },
   {
    "duration": 7,
    "start_time": "2022-10-12T10:09:24.849Z"
   },
   {
    "duration": 7,
    "start_time": "2022-10-12T10:09:24.858Z"
   },
   {
    "duration": 205,
    "start_time": "2022-10-12T10:09:24.866Z"
   },
   {
    "duration": 159,
    "start_time": "2022-10-12T10:09:25.073Z"
   },
   {
    "duration": 14,
    "start_time": "2022-10-12T10:09:25.234Z"
   },
   {
    "duration": 12,
    "start_time": "2022-10-12T10:09:25.250Z"
   },
   {
    "duration": 9,
    "start_time": "2022-10-12T10:09:25.263Z"
   },
   {
    "duration": 330,
    "start_time": "2022-10-12T10:09:25.274Z"
   },
   {
    "duration": 226,
    "start_time": "2022-10-12T10:09:25.606Z"
   },
   {
    "duration": 319,
    "start_time": "2022-10-12T10:09:25.835Z"
   },
   {
    "duration": 4,
    "start_time": "2022-10-12T10:09:26.156Z"
   },
   {
    "duration": 19,
    "start_time": "2022-10-12T10:09:26.161Z"
   },
   {
    "duration": 39,
    "start_time": "2022-10-12T10:09:26.181Z"
   },
   {
    "duration": 227,
    "start_time": "2022-10-12T10:09:26.222Z"
   },
   {
    "duration": 9,
    "start_time": "2022-10-12T10:09:26.450Z"
   },
   {
    "duration": 407,
    "start_time": "2022-10-12T10:09:26.460Z"
   },
   {
    "duration": 12,
    "start_time": "2022-10-12T10:09:26.869Z"
   },
   {
    "duration": 137,
    "start_time": "2022-10-12T10:09:26.889Z"
   },
   {
    "duration": 5,
    "start_time": "2022-10-12T10:09:27.028Z"
   },
   {
    "duration": 173,
    "start_time": "2022-10-12T10:09:27.034Z"
   },
   {
    "duration": 4,
    "start_time": "2022-10-12T10:09:27.209Z"
   },
   {
    "duration": 147,
    "start_time": "2022-10-12T10:09:27.214Z"
   },
   {
    "duration": 62,
    "start_time": "2022-10-12T10:09:27.363Z"
   },
   {
    "duration": 79,
    "start_time": "2022-10-12T10:09:27.427Z"
   },
   {
    "duration": 64,
    "start_time": "2022-10-12T10:09:27.508Z"
   },
   {
    "duration": 43,
    "start_time": "2022-10-12T10:09:27.573Z"
   },
   {
    "duration": 82,
    "start_time": "2022-10-12T10:09:27.620Z"
   },
   {
    "duration": 79,
    "start_time": "2022-10-12T10:09:27.704Z"
   },
   {
    "duration": 14,
    "start_time": "2022-10-12T10:09:27.785Z"
   },
   {
    "duration": 19,
    "start_time": "2022-10-12T10:09:27.801Z"
   },
   {
    "duration": 34,
    "start_time": "2022-10-12T10:09:27.822Z"
   },
   {
    "duration": 22,
    "start_time": "2022-10-12T10:09:27.858Z"
   },
   {
    "duration": 31,
    "start_time": "2022-10-12T10:09:27.882Z"
   },
   {
    "duration": 25,
    "start_time": "2022-10-12T10:09:27.915Z"
   },
   {
    "duration": 32,
    "start_time": "2022-10-12T10:09:27.942Z"
   },
   {
    "duration": 7,
    "start_time": "2022-10-12T10:09:27.976Z"
   },
   {
    "duration": 22,
    "start_time": "2022-10-12T10:09:27.984Z"
   },
   {
    "duration": 1021,
    "start_time": "2022-10-13T08:25:18.467Z"
   },
   {
    "duration": 98,
    "start_time": "2022-10-13T08:25:19.490Z"
   },
   {
    "duration": 3,
    "start_time": "2022-10-13T08:25:19.589Z"
   },
   {
    "duration": 6,
    "start_time": "2022-10-13T08:25:19.594Z"
   },
   {
    "duration": 33,
    "start_time": "2022-10-13T08:25:19.601Z"
   },
   {
    "duration": 17,
    "start_time": "2022-10-13T08:25:19.636Z"
   },
   {
    "duration": 5,
    "start_time": "2022-10-13T08:25:19.655Z"
   },
   {
    "duration": 6,
    "start_time": "2022-10-13T08:25:19.661Z"
   },
   {
    "duration": 19,
    "start_time": "2022-10-13T08:25:19.669Z"
   },
   {
    "duration": 4,
    "start_time": "2022-10-13T08:25:19.701Z"
   },
   {
    "duration": 20,
    "start_time": "2022-10-13T08:25:19.706Z"
   },
   {
    "duration": 22,
    "start_time": "2022-10-13T08:25:19.727Z"
   },
   {
    "duration": 9,
    "start_time": "2022-10-13T08:25:19.750Z"
   },
   {
    "duration": 33,
    "start_time": "2022-10-13T08:25:19.760Z"
   },
   {
    "duration": 6,
    "start_time": "2022-10-13T08:25:19.794Z"
   },
   {
    "duration": 9,
    "start_time": "2022-10-13T08:25:19.802Z"
   },
   {
    "duration": 161,
    "start_time": "2022-10-13T08:25:19.812Z"
   },
   {
    "duration": 108,
    "start_time": "2022-10-13T08:25:19.975Z"
   },
   {
    "duration": 32,
    "start_time": "2022-10-13T08:25:20.085Z"
   },
   {
    "duration": 24,
    "start_time": "2022-10-13T08:25:20.118Z"
   },
   {
    "duration": 17,
    "start_time": "2022-10-13T08:25:20.144Z"
   },
   {
    "duration": 269,
    "start_time": "2022-10-13T08:25:20.162Z"
   },
   {
    "duration": 182,
    "start_time": "2022-10-13T08:25:20.433Z"
   },
   {
    "duration": 293,
    "start_time": "2022-10-13T08:25:20.616Z"
   },
   {
    "duration": 3,
    "start_time": "2022-10-13T08:25:20.911Z"
   },
   {
    "duration": 9,
    "start_time": "2022-10-13T08:25:20.916Z"
   },
   {
    "duration": 9,
    "start_time": "2022-10-13T08:25:20.926Z"
   },
   {
    "duration": 221,
    "start_time": "2022-10-13T08:25:20.938Z"
   },
   {
    "duration": 8,
    "start_time": "2022-10-13T08:25:21.161Z"
   },
   {
    "duration": 387,
    "start_time": "2022-10-13T08:25:21.171Z"
   },
   {
    "duration": 10,
    "start_time": "2022-10-13T08:25:21.560Z"
   },
   {
    "duration": 120,
    "start_time": "2022-10-13T08:25:21.571Z"
   },
   {
    "duration": 4,
    "start_time": "2022-10-13T08:25:21.692Z"
   },
   {
    "duration": 126,
    "start_time": "2022-10-13T08:25:21.699Z"
   },
   {
    "duration": 4,
    "start_time": "2022-10-13T08:25:21.826Z"
   },
   {
    "duration": 122,
    "start_time": "2022-10-13T08:25:21.832Z"
   },
   {
    "duration": 46,
    "start_time": "2022-10-13T08:25:21.956Z"
   },
   {
    "duration": 55,
    "start_time": "2022-10-13T08:25:22.004Z"
   },
   {
    "duration": 62,
    "start_time": "2022-10-13T08:25:22.061Z"
   },
   {
    "duration": 24,
    "start_time": "2022-10-13T08:25:22.124Z"
   },
   {
    "duration": 80,
    "start_time": "2022-10-13T08:25:22.150Z"
   },
   {
    "duration": 81,
    "start_time": "2022-10-13T08:25:22.231Z"
   },
   {
    "duration": 4,
    "start_time": "2022-10-13T08:25:22.313Z"
   },
   {
    "duration": 7,
    "start_time": "2022-10-13T08:25:22.319Z"
   },
   {
    "duration": 35,
    "start_time": "2022-10-13T08:25:22.328Z"
   },
   {
    "duration": 14,
    "start_time": "2022-10-13T08:25:22.365Z"
   },
   {
    "duration": 20,
    "start_time": "2022-10-13T08:25:22.381Z"
   },
   {
    "duration": 8,
    "start_time": "2022-10-13T08:25:22.403Z"
   },
   {
    "duration": 23,
    "start_time": "2022-10-13T08:25:22.412Z"
   },
   {
    "duration": 7,
    "start_time": "2022-10-13T08:25:22.436Z"
   },
   {
    "duration": 11,
    "start_time": "2022-10-13T08:25:22.444Z"
   },
   {
    "duration": 12,
    "start_time": "2022-10-13T13:22:10.332Z"
   },
   {
    "duration": 51,
    "start_time": "2022-10-13T13:22:11.304Z"
   },
   {
    "duration": 1435,
    "start_time": "2022-10-13T13:22:33.882Z"
   },
   {
    "duration": 118,
    "start_time": "2022-10-13T13:22:35.319Z"
   },
   {
    "duration": 4,
    "start_time": "2022-10-13T13:22:35.439Z"
   },
   {
    "duration": 15,
    "start_time": "2022-10-13T13:22:35.445Z"
   },
   {
    "duration": 43,
    "start_time": "2022-10-13T13:22:35.462Z"
   },
   {
    "duration": 24,
    "start_time": "2022-10-13T13:22:35.508Z"
   },
   {
    "duration": 23,
    "start_time": "2022-10-13T13:22:35.534Z"
   },
   {
    "duration": 21,
    "start_time": "2022-10-13T13:22:35.560Z"
   },
   {
    "duration": 31,
    "start_time": "2022-10-13T13:22:35.583Z"
   },
   {
    "duration": 6,
    "start_time": "2022-10-13T13:22:35.616Z"
   },
   {
    "duration": 28,
    "start_time": "2022-10-13T13:22:35.625Z"
   },
   {
    "duration": 16,
    "start_time": "2022-10-13T13:22:35.656Z"
   },
   {
    "duration": 22,
    "start_time": "2022-10-13T13:22:35.674Z"
   },
   {
    "duration": 20,
    "start_time": "2022-10-13T13:22:35.699Z"
   },
   {
    "duration": 18,
    "start_time": "2022-10-13T13:22:35.721Z"
   },
   {
    "duration": 17,
    "start_time": "2022-10-13T13:22:35.740Z"
   },
   {
    "duration": 184,
    "start_time": "2022-10-13T13:22:35.759Z"
   },
   {
    "duration": 144,
    "start_time": "2022-10-13T13:22:35.945Z"
   },
   {
    "duration": 13,
    "start_time": "2022-10-13T13:22:36.091Z"
   },
   {
    "duration": 12,
    "start_time": "2022-10-13T13:22:36.106Z"
   },
   {
    "duration": 12,
    "start_time": "2022-10-13T13:22:36.119Z"
   },
   {
    "duration": 315,
    "start_time": "2022-10-13T13:22:36.133Z"
   },
   {
    "duration": 233,
    "start_time": "2022-10-13T13:22:36.450Z"
   },
   {
    "duration": 379,
    "start_time": "2022-10-13T13:22:36.685Z"
   },
   {
    "duration": 5,
    "start_time": "2022-10-13T13:22:37.066Z"
   },
   {
    "duration": 27,
    "start_time": "2022-10-13T13:22:37.073Z"
   },
   {
    "duration": 21,
    "start_time": "2022-10-13T13:22:37.102Z"
   },
   {
    "duration": 246,
    "start_time": "2022-10-13T13:22:37.125Z"
   },
   {
    "duration": 9,
    "start_time": "2022-10-13T13:22:37.373Z"
   },
   {
    "duration": 359,
    "start_time": "2022-10-13T13:22:37.384Z"
   },
   {
    "duration": 19,
    "start_time": "2022-10-13T13:22:37.745Z"
   },
   {
    "duration": 148,
    "start_time": "2022-10-13T13:22:37.767Z"
   },
   {
    "duration": 4,
    "start_time": "2022-10-13T13:22:37.917Z"
   },
   {
    "duration": 167,
    "start_time": "2022-10-13T13:22:37.923Z"
   },
   {
    "duration": 5,
    "start_time": "2022-10-13T13:22:38.092Z"
   },
   {
    "duration": 155,
    "start_time": "2022-10-13T13:22:38.099Z"
   },
   {
    "duration": 57,
    "start_time": "2022-10-13T13:22:38.256Z"
   },
   {
    "duration": 73,
    "start_time": "2022-10-13T13:22:38.315Z"
   },
   {
    "duration": 70,
    "start_time": "2022-10-13T13:22:38.390Z"
   },
   {
    "duration": 29,
    "start_time": "2022-10-13T13:22:38.461Z"
   },
   {
    "duration": 93,
    "start_time": "2022-10-13T13:22:38.495Z"
   },
   {
    "duration": 94,
    "start_time": "2022-10-13T13:22:38.590Z"
   },
   {
    "duration": 5,
    "start_time": "2022-10-13T13:22:38.686Z"
   },
   {
    "duration": 12,
    "start_time": "2022-10-13T13:22:38.693Z"
   },
   {
    "duration": 31,
    "start_time": "2022-10-13T13:22:38.707Z"
   },
   {
    "duration": 27,
    "start_time": "2022-10-13T13:22:38.740Z"
   },
   {
    "duration": 10,
    "start_time": "2022-10-13T13:22:38.769Z"
   },
   {
    "duration": 27,
    "start_time": "2022-10-13T13:22:38.781Z"
   },
   {
    "duration": 29,
    "start_time": "2022-10-13T13:22:38.809Z"
   },
   {
    "duration": 18,
    "start_time": "2022-10-13T13:22:38.840Z"
   },
   {
    "duration": 14,
    "start_time": "2022-10-13T13:22:38.860Z"
   },
   {
    "duration": 111,
    "start_time": "2022-10-13T13:34:10.858Z"
   },
   {
    "duration": 12,
    "start_time": "2022-10-13T13:34:40.897Z"
   },
   {
    "duration": 11,
    "start_time": "2022-10-13T13:35:20.411Z"
   },
   {
    "duration": 12,
    "start_time": "2022-10-13T13:35:53.408Z"
   },
   {
    "duration": 3,
    "start_time": "2022-10-13T13:36:09.533Z"
   },
   {
    "duration": 46,
    "start_time": "2022-10-13T13:36:09.538Z"
   },
   {
    "duration": 4,
    "start_time": "2022-10-13T13:36:09.586Z"
   },
   {
    "duration": 8,
    "start_time": "2022-10-13T13:36:09.594Z"
   },
   {
    "duration": 29,
    "start_time": "2022-10-13T13:36:09.604Z"
   },
   {
    "duration": 22,
    "start_time": "2022-10-13T13:36:09.634Z"
   },
   {
    "duration": 4,
    "start_time": "2022-10-13T13:36:09.776Z"
   },
   {
    "duration": 13,
    "start_time": "2022-10-13T13:36:09.782Z"
   },
   {
    "duration": 27,
    "start_time": "2022-10-13T13:36:09.797Z"
   },
   {
    "duration": 4,
    "start_time": "2022-10-13T13:36:09.826Z"
   },
   {
    "duration": 16,
    "start_time": "2022-10-13T13:36:09.832Z"
   },
   {
    "duration": 9,
    "start_time": "2022-10-13T13:36:16.706Z"
   },
   {
    "duration": 20,
    "start_time": "2022-10-13T13:37:45.773Z"
   },
   {
    "duration": 8,
    "start_time": "2022-10-13T13:38:39.565Z"
   },
   {
    "duration": 9,
    "start_time": "2022-10-13T13:38:53.977Z"
   },
   {
    "duration": 9,
    "start_time": "2022-10-13T13:39:30.245Z"
   },
   {
    "duration": 8,
    "start_time": "2022-10-13T13:41:19.804Z"
   },
   {
    "duration": 17,
    "start_time": "2022-10-13T13:41:36.626Z"
   },
   {
    "duration": 11,
    "start_time": "2022-10-13T13:41:46.298Z"
   },
   {
    "duration": 11,
    "start_time": "2022-10-13T13:42:00.568Z"
   },
   {
    "duration": 12,
    "start_time": "2022-10-13T13:46:03.509Z"
   },
   {
    "duration": 4,
    "start_time": "2022-10-13T13:51:07.731Z"
   },
   {
    "duration": 11,
    "start_time": "2022-10-13T13:51:30.965Z"
   },
   {
    "duration": 5,
    "start_time": "2022-10-13T13:57:22.040Z"
   },
   {
    "duration": 5,
    "start_time": "2022-10-13T13:58:19.723Z"
   },
   {
    "duration": 5,
    "start_time": "2022-10-13T14:00:30.604Z"
   },
   {
    "duration": 82,
    "start_time": "2022-10-13T14:02:02.612Z"
   },
   {
    "duration": 5,
    "start_time": "2022-10-13T14:02:20.144Z"
   },
   {
    "duration": 7,
    "start_time": "2022-10-13T14:03:31.044Z"
   },
   {
    "duration": 6,
    "start_time": "2022-10-13T14:03:57.452Z"
   },
   {
    "duration": 362,
    "start_time": "2022-10-13T14:04:45.383Z"
   },
   {
    "duration": 12,
    "start_time": "2022-10-13T14:10:09.081Z"
   },
   {
    "duration": 1124,
    "start_time": "2022-10-13T23:15:35.795Z"
   },
   {
    "duration": 106,
    "start_time": "2022-10-13T23:15:36.921Z"
   },
   {
    "duration": 3,
    "start_time": "2022-10-13T23:15:37.029Z"
   },
   {
    "duration": 9,
    "start_time": "2022-10-13T23:15:37.034Z"
   },
   {
    "duration": 27,
    "start_time": "2022-10-13T23:15:37.045Z"
   },
   {
    "duration": 20,
    "start_time": "2022-10-13T23:15:37.074Z"
   },
   {
    "duration": 3,
    "start_time": "2022-10-13T23:15:37.096Z"
   },
   {
    "duration": 7,
    "start_time": "2022-10-13T23:15:37.101Z"
   },
   {
    "duration": 37,
    "start_time": "2022-10-13T23:15:37.110Z"
   },
   {
    "duration": 3,
    "start_time": "2022-10-13T23:15:37.150Z"
   },
   {
    "duration": 10,
    "start_time": "2022-10-13T23:15:37.154Z"
   },
   {
    "duration": 12,
    "start_time": "2022-10-13T23:15:37.165Z"
   },
   {
    "duration": 7,
    "start_time": "2022-10-13T23:15:37.179Z"
   },
   {
    "duration": 18,
    "start_time": "2022-10-13T23:15:37.188Z"
   },
   {
    "duration": 6,
    "start_time": "2022-10-13T23:15:37.233Z"
   },
   {
    "duration": 7,
    "start_time": "2022-10-13T23:15:37.240Z"
   },
   {
    "duration": 5,
    "start_time": "2022-10-13T23:15:37.248Z"
   },
   {
    "duration": 6,
    "start_time": "2022-10-13T23:15:37.254Z"
   },
   {
    "duration": 171,
    "start_time": "2022-10-13T23:15:37.262Z"
   },
   {
    "duration": 120,
    "start_time": "2022-10-13T23:15:37.435Z"
   },
   {
    "duration": 11,
    "start_time": "2022-10-13T23:15:37.556Z"
   },
   {
    "duration": 15,
    "start_time": "2022-10-13T23:15:37.569Z"
   },
   {
    "duration": 11,
    "start_time": "2022-10-13T23:15:37.585Z"
   },
   {
    "duration": 19,
    "start_time": "2022-10-13T23:15:37.597Z"
   },
   {
    "duration": 253,
    "start_time": "2022-10-13T23:15:37.618Z"
   },
   {
    "duration": 195,
    "start_time": "2022-10-13T23:15:37.873Z"
   },
   {
    "duration": 295,
    "start_time": "2022-10-13T23:15:38.070Z"
   },
   {
    "duration": 4,
    "start_time": "2022-10-13T23:15:38.368Z"
   },
   {
    "duration": 8,
    "start_time": "2022-10-13T23:15:38.373Z"
   },
   {
    "duration": 8,
    "start_time": "2022-10-13T23:15:38.382Z"
   },
   {
    "duration": 204,
    "start_time": "2022-10-13T23:15:38.391Z"
   },
   {
    "duration": 7,
    "start_time": "2022-10-13T23:15:38.597Z"
   },
   {
    "duration": 364,
    "start_time": "2022-10-13T23:15:38.606Z"
   },
   {
    "duration": 12,
    "start_time": "2022-10-13T23:15:38.971Z"
   },
   {
    "duration": 134,
    "start_time": "2022-10-13T23:15:38.985Z"
   },
   {
    "duration": 5,
    "start_time": "2022-10-13T23:15:39.121Z"
   },
   {
    "duration": 142,
    "start_time": "2022-10-13T23:15:39.128Z"
   },
   {
    "duration": 5,
    "start_time": "2022-10-13T23:15:39.271Z"
   },
   {
    "duration": 125,
    "start_time": "2022-10-13T23:15:39.277Z"
   },
   {
    "duration": 51,
    "start_time": "2022-10-13T23:15:39.404Z"
   },
   {
    "duration": 65,
    "start_time": "2022-10-13T23:15:39.457Z"
   },
   {
    "duration": 61,
    "start_time": "2022-10-13T23:15:39.524Z"
   },
   {
    "duration": 28,
    "start_time": "2022-10-13T23:15:39.586Z"
   },
   {
    "duration": 70,
    "start_time": "2022-10-13T23:15:39.633Z"
   },
   {
    "duration": 81,
    "start_time": "2022-10-13T23:15:39.705Z"
   },
   {
    "duration": 5,
    "start_time": "2022-10-13T23:15:39.788Z"
   },
   {
    "duration": 11,
    "start_time": "2022-10-13T23:15:39.794Z"
   },
   {
    "duration": 36,
    "start_time": "2022-10-13T23:15:39.806Z"
   },
   {
    "duration": 14,
    "start_time": "2022-10-13T23:15:39.843Z"
   },
   {
    "duration": 8,
    "start_time": "2022-10-13T23:15:39.859Z"
   },
   {
    "duration": 7,
    "start_time": "2022-10-13T23:15:39.869Z"
   },
   {
    "duration": 27,
    "start_time": "2022-10-13T23:15:39.877Z"
   },
   {
    "duration": 31,
    "start_time": "2022-10-13T23:15:39.905Z"
   },
   {
    "duration": 26,
    "start_time": "2022-10-13T23:15:39.938Z"
   }
  ],
  "kernelspec": {
   "display_name": "Python 3",
   "language": "python",
   "name": "python3"
  },
  "language_info": {
   "codemirror_mode": {
    "name": "ipython",
    "version": 3
   },
   "file_extension": ".py",
   "mimetype": "text/x-python",
   "name": "python",
   "nbconvert_exporter": "python",
   "pygments_lexer": "ipython3",
   "version": "3.7.6"
  },
  "toc": {
   "base_numbering": 1,
   "nav_menu": {},
   "number_sections": true,
   "sideBar": true,
   "skip_h1_title": true,
   "title_cell": "Table of Contents",
   "title_sidebar": "Contents",
   "toc_cell": false,
   "toc_position": {},
   "toc_section_display": true,
   "toc_window_display": false
  }
 },
 "nbformat": 4,
 "nbformat_minor": 2
}
